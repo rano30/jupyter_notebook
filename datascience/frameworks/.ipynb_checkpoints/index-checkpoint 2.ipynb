{
 "cells": [
  {
   "cell_type": "markdown",
   "metadata": {},
   "source": [
    "# [Table Of Contents](#)\n",
    "### Data Science Fundamentals"
   ]
  },
  {
   "cell_type": "markdown",
   "metadata": {},
   "source": [
    "\n",
    "## [Data Science Fundamentals: Python-based Web Framework - Django](./18_mod_django/index.ipynb)\n",
    "\n",
    "Django is a Python-based free and open-source web framework, which follows the model-template-view architectural pattern.\n",
    "\n",
    "## [Data Science Fundamentals: Python-based Web Framework - Flask](./19_mod_flask/index.ipynb)\n",
    "\n",
    "Flask is a micro web framework written in Python. It is classified as a microframework because it does not require particular tools or libraries. It has no database abstraction layer, form validation, or any other components where pre-existing third-party libraries provide common functions."
   ]
  },
  {
   "cell_type": "markdown",
   "metadata": {},
   "source": [
    "- - -\n",
    "\n",
    "About Your Trainer\n",
    "---\n",
    "Gary Jackson is a technologist, teacher, and data scientist. \n",
    "\n",
    "Gary brings with him nearly two decades of experiences in IT, Enterprise Architecture, and Big Data & Analytics working for and within multinational companies around the world.\n",
    "\n",
    "Gary helped create the first [Artificial Intelligence written magazine, **Esquire Singapore April 2019** issue](https://wlos.com/news/local/wnc-writer-part-of-international-magazines-artificial-intelligence-team) with a technology called **[AI-Writer](http://ai-writer.com/)**.  More recently, co-founded **[Blockstamped.io](https://blockstamped.io) to [prevent false narratives AKA 'fake news' and deep fakes using Ethereum Blockchain](https://wlos.com/news/local/one-company-works-to-prevent-spread-of-fake-videos)**. \n",
    "\n",
    "On this new **Blockstamped** platform, built the first blockchain authencity app for the media industry with the help of Oscar nominated, multiple Grammy Award winner, ['Bassy' Bob Brockmann](http://www.bassybob.com/) to help digitalize licensing and royalty payments to producers and artists.  This app is called **[Bassed.io](https://www.facebook.com/blockstamped/videos/510817576274052)**. \n",
    "\n",
    "Gary formally was Regional Director of System Integrators (SIs) and Technology Partners for Qlik across Asia Pacific (including Japan, Australia, and New Zealand), Gary led the drive for interactive and collaborative partnerships between global and regional SIs, Business Consulting firms, and Technology Partners. These included Deloitte, KPMG, PwC, Accenture, Wipro, Cloudera, Revolution Analytics, MapR, Intel, and many others.\n",
    "\n",
    "Prior to that he was the Principal for Big Data & Analytics Growth Markets, for Computer Sciences Corporation (CSC), supporting Latin America and Asia-Pacific traveling back and forth between São Paulo, Brasil and Hong Kong. Gary has also worked for SAS Institute as Head of Technology for Asia Pacific, South Africa, Europe, and North America for more than a decade.\n",
    "\n",
    "Gary holds a Bachelor of Science in Computer Information Systems, Information Technology and Computer Information Systems from DeVry University. He is a resident of both Hong Kong 香港 and Asheville, North Carolina.\n",
    "\n",
    "- - - \n",
    "\n",
    "Appeared on TELEVISION –\n",
    "\n",
    "- WLOS ABC (USA) - Blockstamped to stop \"fake news\" in upcoming 2020 political elections - http://bit.ly/39XDAsi\n",
    "- WLOS ABC (USA) - AI Writer to publish world's first half machine written magazine - https://goo.gl/yHRDte\n",
    "- TVB The Pearl Report (Hong Kong) \"Wearable Wave\" on wearable analytics - https://youtu.be/yiGbVdqIzb0\n",
    "- CNBC Asia (Singapore) - Discussed wearable tech - https://cnb.cx/2UuwntT\n",
    "- CNBC Asia (Hong Kong) - Would You Hire A MBA Graduate - https://cnb.cx/2UtHymt\n",
    "- CNBC Asia (Hong Kong) - Twitter as a 'conversation starter' vs revenue creator - https://cnb.cx/3cIwCYl\n",
    "- One TV (Russia)  - AI Writer - https://bit.ly/39DSmor\n",
    "\n",
    "Keynote Speaker at International CONFERENCES – \n",
    "\n",
    "- \"The Myth of BI\" - Innovative Enterprise Singapore - https://youtu.be/oK9NsDv6F_c \n",
    "- \"Conversations as a Service\" - ComputerWorld Hong Kong - https://youtu.be/RoL1CldBKhg \n",
    "- \"Map of Me Analytics\" - SAP Sapphire Madrid - https://youtu.be/fjTq-3Us9Cw\n",
    "https://youtu.be/8aVYpBBN3RQ\n",
    "- \"Social Advertising\" - Enterprise Collaboration Hong Kong - https://youtu.be/8aVYpBBN3RQ\n",
    "\n",
    "Technical ENABLEMENT - \n",
    "\n",
    "Founder of three data science academies across Asia-Pacific and assisted with the General Assembly’s initial data science and analytics curriculum in Hong Kong. Led the KPMG Hong Kong and Hong Kong University of Science and Technology (HKUST) to create a three month immersive Big Data Application competition sponsored by Qlik.  In conjunction with the University of San Carlos (USC) in Cebu, the Philippines created a nine-week data science academy for Singapore VC funded Clicklab Ventures. \n",
    "\n",
    "- General Assembly & Rackspace - \"Take A Class, Take A Cloud\" (2016) - https://vimeo.com/149488960 \n",
    "- KPMG and Hong Kong University of Science Technology (2015) - https://youtu.be/rgLB45tGZJY \n",
    "- Clicklabs Ventures Data Science Academy - Cebu (2015) - https://youtu.be/JDPozb7OXiA \n",
    "- AlphaEight School Analytics - Hong Kong (2011)- https://youtu.be/LX-j80wnv7c"
   ]
  },
  {
   "cell_type": "markdown",
   "metadata": {},
   "source": [
    "- - -\n",
    "\n",
    "Copyright © 2020 Qualex Consulting Services Incorporated."
   ]
  },
  {
   "cell_type": "code",
   "execution_count": null,
   "metadata": {},
   "outputs": [],
   "source": []
  }
 ],
 "metadata": {
  "kernelspec": {
   "display_name": "Python 3",
   "language": "python",
   "name": "python3"
  },
  "language_info": {
   "codemirror_mode": {
    "name": "ipython",
    "version": 3
   },
   "file_extension": ".py",
   "mimetype": "text/x-python",
   "name": "python",
   "nbconvert_exporter": "python",
   "pygments_lexer": "ipython3",
   "version": "3.8.5"
  }
 },
 "nbformat": 4,
 "nbformat_minor": 4
}
