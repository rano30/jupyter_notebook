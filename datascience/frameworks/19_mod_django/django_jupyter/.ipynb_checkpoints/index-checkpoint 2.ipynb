{
 "cells": [
  {
   "cell_type": "markdown",
   "metadata": {},
   "source": [
    "## Getting started with Django\n",
    "\n",
    "[Django Extensions](https://django-extensions.readthedocs.io/en/latest/shell_plus.html) makes this easy. From within your virtual environment:\n",
    "\n",
    "```\n",
    "(venv)$ pip install django-extensions jupyter\n",
    "(venv)$ cd /path/to/notebooks\n",
    "(venv)$ /path/to/manage.py shell_plus --notebook\n",
    "```\n",
    "\n",
    "This will start the Notebook server, then open the Notebook Dashboard in your default web browser. The Dashboard lists the contents of the directory, and provides tools for starting and managing individual notebooks.\n",
    "\n",
    "![Jupyter Notebook Dashboard](images/image1.png)\n",
    "\n",
    "- Open an existing notebook by clicking on a `.ipynb` file\n",
    "- Create a new notebook by selecting \"Django Shell-Plus\" from the \"New\" menu in the upper-right corner.\n",
    "\n",
    "__NOTE__: There's a [known issue](https://github.com/django-extensions/django-extensions/issues/1026) with `manage.py shell_plus --notebook` for users who want to use the Notebook with multiple Django projects. Hopefully there will be a fix or a documented alternative soon."
   ]
  },
  {
   "cell_type": "code",
   "execution_count": null,
   "metadata": {},
   "outputs": [],
   "source": []
  }
 ],
 "metadata": {
  "kernelspec": {
   "display_name": "Django Shell-Plus",
   "language": "python",
   "name": "django_extensions"
  },
  "language_info": {
   "codemirror_mode": {
    "name": "ipython",
    "version": 3
   },
   "file_extension": ".py",
   "mimetype": "text/x-python",
   "name": "python",
   "nbconvert_exporter": "python",
   "pygments_lexer": "ipython3",
   "version": "3.7.7"
  }
 },
 "nbformat": 4,
 "nbformat_minor": 4
}
