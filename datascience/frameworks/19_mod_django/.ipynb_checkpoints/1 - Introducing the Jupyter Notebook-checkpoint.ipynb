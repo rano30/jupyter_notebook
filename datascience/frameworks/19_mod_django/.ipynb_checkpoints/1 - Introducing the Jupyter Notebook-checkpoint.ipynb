{
 "cells": [
  {
   "cell_type": "markdown",
   "metadata": {},
   "source": [
    "# Introducing the Jupyter Notebook"
   ]
  },
  {
   "cell_type": "markdown",
   "metadata": {},
   "source": [
    "## Code cells\n",
    "\n",
    "Similar to running Python from the command line, but each one is a mini-editor with syntax highlighting, auto-indent, and more.\n",
    "\n",
    "* Autocomplete: `Tab` \n",
    "* Help: `Shift`+`Tab` (repeat for more)\n",
    "* Run cell: `Shift`+`Enter`\n",
    "* Switch to Command mode: `Esc`"
   ]
  },
  {
   "cell_type": "code",
   "execution_count": 1,
   "metadata": {},
   "outputs": [
    {
     "name": "stdout",
     "output_type": "stream",
     "text": [
      "Who? Django\n"
     ]
    },
    {
     "data": {
      "text/plain": [
       "'Hello, Django!'"
      ]
     },
     "execution_count": 1,
     "metadata": {},
     "output_type": "execute_result"
    }
   ],
   "source": [
    "hello = 'Hello, {}!'\n",
    "who = input('Who? ')\n",
    "hello.format(who)"
   ]
  },
  {
   "cell_type": "code",
   "execution_count": null,
   "metadata": {
    "collapsed": true
   },
   "outputs": [],
   "source": []
  },
  {
   "cell_type": "markdown",
   "metadata": {},
   "source": [
    "## IPython?"
   ]
  },
  {
   "cell_type": "markdown",
   "metadata": {},
   "source": [
    "[IPython](http://ipython.org/) is a powerful replacement for the standard Python shell, which spawned the IPython Notebook. Eventually, the developers extracted the language-independent features of notebook web application to create the Jupyter Notebook.  This \"Big Split\" occurred almost 2 years ago, but you'll still find lots of references to IPython in documentation and examples.\n",
    "\n",
    "- IPython still serves as the backend (aka \"[kernel](http://jupyter.readthedocs.io/en/latest/projects/kernels.html)\") for running Python code in the Notebook\n",
    "- \"Jupyter\" is an amalgamation of \"Julia\", \"Python\", and \"R\", which were the most popular languages used with the Notebook.\n",
    "\n"
   ]
  },
  {
   "cell_type": "markdown",
   "metadata": {
    "collapsed": true
   },
   "source": [
    "## Getting started with Django\n",
    "\n",
    "[Django Extensions](https://django-extensions.readthedocs.io/en/latest/shell_plus.html) makes this easy. From within your virtual environment:\n",
    "\n",
    "```\n",
    "(venv)$ pip install django-extensions jupyter\n",
    "(venv)$ cd /path/to/notebooks\n",
    "(venv)$ /path/to/manage.py shell_plus --notebook\n",
    "```\n",
    "\n",
    "This will start the Notebook server, then open the Notebook Dashboard in your default web browser. The Dashboard lists the contents of the directory, and provides tools for starting and managing individual notebooks.\n",
    "\n",
    "![Jupyter Notebook Dashboard](images/dashboard.png)\n",
    "\n",
    "- Open an existing notebook by clicking on a `.ipynb` file\n",
    "- Create a new notebook by selecting \"Django Shell-Plus\" from the \"New\" menu in the upper-right corner.\n",
    "\n",
    "__NOTE__: There's a [known issue](https://github.com/django-extensions/django-extensions/issues/1026) with `manage.py shell_plus --notebook` for users who want to use the Notebook with multiple Django projects. Hopefully there will be a fix or a documented alternative soon."
   ]
  },
  {
   "cell_type": "code",
   "execution_count": 1,
   "metadata": {},
   "outputs": [],
   "source": [
    "import django"
   ]
  },
  {
   "cell_type": "code",
   "execution_count": 2,
   "metadata": {},
   "outputs": [
    {
     "name": "stdout",
     "output_type": "stream",
     "text": [
      "3.0.7\n"
     ]
    }
   ],
   "source": [
    "print(django.get_version())"
   ]
  },
  {
   "cell_type": "code",
   "execution_count": null,
   "metadata": {},
   "outputs": [],
   "source": []
  }
 ],
 "metadata": {
  "kernelspec": {
   "display_name": "Python 3",
   "language": "python",
   "name": "python3"
  },
  "language_info": {
   "codemirror_mode": {
    "name": "ipython",
    "version": 3
   },
   "file_extension": ".py",
   "mimetype": "text/x-python",
   "name": "python",
   "nbconvert_exporter": "python",
   "pygments_lexer": "ipython3",
   "version": "3.7.7"
  }
 },
 "nbformat": 4,
 "nbformat_minor": 2
}
