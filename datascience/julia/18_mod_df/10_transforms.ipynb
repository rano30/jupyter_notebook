{
 "cells": [
  {
   "cell_type": "markdown",
   "metadata": {},
   "source": [
    "Data Science Fundamentals: Julia |\n",
    "[Table of Contents](../index.ipynb)\n",
    "- - - \n",
    "<!--NAVIGATION-->\n",
    "Module 18. [Constructors](01_constructors.ipynb) | [Basic Information](02_basicinfo.ipynb) | [Missing Values](03_missingvalues.ipynb) | [Load Save](04_loadsave.ipynb) | [Columns](05_columns.ipynb) | [Rows](06_rows.ipynb) | [Factors](07_factors.ipynb) | [Joins](08_joins.ipynb) | [Reshaping](09_reshaping.ipynb) | **[Transforms](10_transforms.ipynb)** | [Performance](11_performance.ipynb) | [Pitfalls](12_pitfalls.ipynb) | [Extras](13_extras.ipynb)"
   ]
  },
  {
   "cell_type": "code",
   "execution_count": 1,
   "metadata": {},
   "outputs": [],
   "source": [
    "using DataFrames"
   ]
  },
  {
   "cell_type": "markdown",
   "metadata": {},
   "source": [
    "## Split-apply-combine"
   ]
  },
  {
   "cell_type": "markdown",
   "metadata": {},
   "source": [
    "### Grouping a data frame"
   ]
  },
  {
   "cell_type": "code",
   "execution_count": 2,
   "metadata": {},
   "outputs": [
    {
     "data": {
      "text/html": [
       "<table class=\"data-frame\"><thead><tr><th></th><th>id</th><th>id2</th><th>v</th></tr><tr><th></th><th>Int64</th><th>Int64</th><th>Float64</th></tr></thead><tbody><p>8 rows × 3 columns</p><tr><th>1</th><td>1</td><td>1</td><td>0.652452</td></tr><tr><th>2</th><td>2</td><td>2</td><td>0.0176934</td></tr><tr><th>3</th><td>3</td><td>1</td><td>0.626628</td></tr><tr><th>4</th><td>4</td><td>2</td><td>0.106421</td></tr><tr><th>5</th><td>1</td><td>1</td><td>0.991339</td></tr><tr><th>6</th><td>2</td><td>2</td><td>0.857695</td></tr><tr><th>7</th><td>3</td><td>1</td><td>0.268431</td></tr><tr><th>8</th><td>4</td><td>2</td><td>0.363826</td></tr></tbody></table>"
      ],
      "text/latex": [
       "\\begin{tabular}{r|ccc}\n",
       "\t& id & id2 & v\\\\\n",
       "\t\\hline\n",
       "\t& Int64 & Int64 & Float64\\\\\n",
       "\t\\hline\n",
       "\t1 & 1 & 1 & 0.652452 \\\\\n",
       "\t2 & 2 & 2 & 0.0176934 \\\\\n",
       "\t3 & 3 & 1 & 0.626628 \\\\\n",
       "\t4 & 4 & 2 & 0.106421 \\\\\n",
       "\t5 & 1 & 1 & 0.991339 \\\\\n",
       "\t6 & 2 & 2 & 0.857695 \\\\\n",
       "\t7 & 3 & 1 & 0.268431 \\\\\n",
       "\t8 & 4 & 2 & 0.363826 \\\\\n",
       "\\end{tabular}\n"
      ],
      "text/plain": [
       "8×3 DataFrame\n",
       "│ Row │ id    │ id2   │ v         │\n",
       "│     │ \u001b[90mInt64\u001b[39m │ \u001b[90mInt64\u001b[39m │ \u001b[90mFloat64\u001b[39m   │\n",
       "├─────┼───────┼───────┼───────────┤\n",
       "│ 1   │ 1     │ 1     │ 0.652452  │\n",
       "│ 2   │ 2     │ 2     │ 0.0176934 │\n",
       "│ 3   │ 3     │ 1     │ 0.626628  │\n",
       "│ 4   │ 4     │ 2     │ 0.106421  │\n",
       "│ 5   │ 1     │ 1     │ 0.991339  │\n",
       "│ 6   │ 2     │ 2     │ 0.857695  │\n",
       "│ 7   │ 3     │ 1     │ 0.268431  │\n",
       "│ 8   │ 4     │ 2     │ 0.363826  │"
      ]
     },
     "execution_count": 2,
     "metadata": {},
     "output_type": "execute_result"
    }
   ],
   "source": [
    "x = DataFrame(id=[1,2,3,4,1,2,3,4], id2=[1,2,1,2,1,2,1,2], v=rand(8))"
   ]
  },
  {
   "cell_type": "code",
   "execution_count": 3,
   "metadata": {
    "scrolled": false
   },
   "outputs": [
    {
     "data": {
      "text/html": [
       "<p><b>GroupedDataFrame with 4 groups based on key: id</b></p><p><i>First Group (2 rows): id = 1</i></p><table class=\"data-frame\"><thead><tr><th></th><th>id</th><th>id2</th><th>v</th></tr><tr><th></th><th>Int64</th><th>Int64</th><th>Float64</th></tr></thead><tbody><tr><th>1</th><td>1</td><td>1</td><td>0.652452</td></tr><tr><th>2</th><td>1</td><td>1</td><td>0.991339</td></tr></tbody></table><p>&vellip;</p><p><i>Last Group (2 rows): id = 4</i></p><table class=\"data-frame\"><thead><tr><th></th><th>id</th><th>id2</th><th>v</th></tr><tr><th></th><th>Int64</th><th>Int64</th><th>Float64</th></tr></thead><tbody><tr><th>1</th><td>4</td><td>2</td><td>0.106421</td></tr><tr><th>2</th><td>4</td><td>2</td><td>0.363826</td></tr></tbody></table>"
      ],
      "text/latex": [
       "GroupedDataFrame with 4 groups based on key: id\n",
       "\n",
       "First Group (2 rows): id = 1\n",
       "\n",
       "\\begin{tabular}{r|ccc}\n",
       "\t& id & id2 & v\\\\\n",
       "\t\\hline\n",
       "\t& Int64 & Int64 & Float64\\\\\n",
       "\t\\hline\n",
       "\t1 & 1 & 1 & 0.652452 \\\\\n",
       "\t2 & 1 & 1 & 0.991339 \\\\\n",
       "\\end{tabular}\n",
       "\n",
       "$\\dots$\n",
       "\n",
       "Last Group (2 rows): id = 4\n",
       "\n",
       "\\begin{tabular}{r|ccc}\n",
       "\t& id & id2 & v\\\\\n",
       "\t\\hline\n",
       "\t& Int64 & Int64 & Float64\\\\\n",
       "\t\\hline\n",
       "\t1 & 4 & 2 & 0.106421 \\\\\n",
       "\t2 & 4 & 2 & 0.363826 \\\\\n",
       "\\end{tabular}\n"
      ],
      "text/plain": [
       "GroupedDataFrame with 4 groups based on key: id\n",
       "First Group (2 rows): id = 1\n",
       "│ Row │ id    │ id2   │ v        │\n",
       "│     │ \u001b[90mInt64\u001b[39m │ \u001b[90mInt64\u001b[39m │ \u001b[90mFloat64\u001b[39m  │\n",
       "├─────┼───────┼───────┼──────────┤\n",
       "│ 1   │ 1     │ 1     │ 0.652452 │\n",
       "│ 2   │ 1     │ 1     │ 0.991339 │\n",
       "⋮\n",
       "Last Group (2 rows): id = 4\n",
       "│ Row │ id    │ id2   │ v        │\n",
       "│     │ \u001b[90mInt64\u001b[39m │ \u001b[90mInt64\u001b[39m │ \u001b[90mFloat64\u001b[39m  │\n",
       "├─────┼───────┼───────┼──────────┤\n",
       "│ 1   │ 4     │ 2     │ 0.106421 │\n",
       "│ 2   │ 4     │ 2     │ 0.363826 │"
      ]
     },
     "execution_count": 3,
     "metadata": {},
     "output_type": "execute_result"
    }
   ],
   "source": [
    "groupby(x, :id)"
   ]
  },
  {
   "cell_type": "code",
   "execution_count": 4,
   "metadata": {},
   "outputs": [
    {
     "data": {
      "text/html": [
       "<p><b>GroupedDataFrame with 1 group based on key: </b></p><p><i>First Group (8 rows): </i></p><table class=\"data-frame\"><thead><tr><th></th><th>id</th><th>id2</th><th>v</th></tr><tr><th></th><th>Int64</th><th>Int64</th><th>Float64</th></tr></thead><tbody><tr><th>1</th><td>1</td><td>1</td><td>0.652452</td></tr><tr><th>2</th><td>2</td><td>2</td><td>0.0176934</td></tr><tr><th>3</th><td>3</td><td>1</td><td>0.626628</td></tr><tr><th>4</th><td>4</td><td>2</td><td>0.106421</td></tr><tr><th>5</th><td>1</td><td>1</td><td>0.991339</td></tr><tr><th>6</th><td>2</td><td>2</td><td>0.857695</td></tr><tr><th>7</th><td>3</td><td>1</td><td>0.268431</td></tr><tr><th>8</th><td>4</td><td>2</td><td>0.363826</td></tr></tbody></table>"
      ],
      "text/latex": [
       "GroupedDataFrame with 1 group based on key: \n",
       "\n",
       "First Group (8 rows): \n",
       "\n",
       "\\begin{tabular}{r|ccc}\n",
       "\t& id & id2 & v\\\\\n",
       "\t\\hline\n",
       "\t& Int64 & Int64 & Float64\\\\\n",
       "\t\\hline\n",
       "\t1 & 1 & 1 & 0.652452 \\\\\n",
       "\t2 & 2 & 2 & 0.0176934 \\\\\n",
       "\t3 & 3 & 1 & 0.626628 \\\\\n",
       "\t4 & 4 & 2 & 0.106421 \\\\\n",
       "\t5 & 1 & 1 & 0.991339 \\\\\n",
       "\t6 & 2 & 2 & 0.857695 \\\\\n",
       "\t7 & 3 & 1 & 0.268431 \\\\\n",
       "\t8 & 4 & 2 & 0.363826 \\\\\n",
       "\\end{tabular}\n"
      ],
      "text/plain": [
       "GroupedDataFrame with 1 group based on key: \n",
       "First Group (8 rows): \n",
       "│ Row │ id    │ id2   │ v         │\n",
       "│     │ \u001b[90mInt64\u001b[39m │ \u001b[90mInt64\u001b[39m │ \u001b[90mFloat64\u001b[39m   │\n",
       "├─────┼───────┼───────┼───────────┤\n",
       "│ 1   │ 1     │ 1     │ 0.652452  │\n",
       "│ 2   │ 2     │ 2     │ 0.0176934 │\n",
       "│ 3   │ 3     │ 1     │ 0.626628  │\n",
       "│ 4   │ 4     │ 2     │ 0.106421  │\n",
       "│ 5   │ 1     │ 1     │ 0.991339  │\n",
       "│ 6   │ 2     │ 2     │ 0.857695  │\n",
       "│ 7   │ 3     │ 1     │ 0.268431  │\n",
       "│ 8   │ 4     │ 2     │ 0.363826  │"
      ]
     },
     "execution_count": 4,
     "metadata": {},
     "output_type": "execute_result"
    }
   ],
   "source": [
    "groupby(x, [])"
   ]
  },
  {
   "cell_type": "code",
   "execution_count": 5,
   "metadata": {},
   "outputs": [
    {
     "data": {
      "text/html": [
       "<p><b>GroupedDataFrame with 4 groups based on keys: id, id2</b></p><p><i>First Group (2 rows): id = 1, id2 = 1</i></p><table class=\"data-frame\"><thead><tr><th></th><th>id</th><th>id2</th><th>v</th></tr><tr><th></th><th>Int64</th><th>Int64</th><th>Float64</th></tr></thead><tbody><tr><th>1</th><td>1</td><td>1</td><td>0.652452</td></tr><tr><th>2</th><td>1</td><td>1</td><td>0.991339</td></tr></tbody></table><p>&vellip;</p><p><i>Last Group (2 rows): id = 4, id2 = 2</i></p><table class=\"data-frame\"><thead><tr><th></th><th>id</th><th>id2</th><th>v</th></tr><tr><th></th><th>Int64</th><th>Int64</th><th>Float64</th></tr></thead><tbody><tr><th>1</th><td>4</td><td>2</td><td>0.106421</td></tr><tr><th>2</th><td>4</td><td>2</td><td>0.363826</td></tr></tbody></table>"
      ],
      "text/latex": [
       "GroupedDataFrame with 4 groups based on keys: id, id2\n",
       "\n",
       "First Group (2 rows): id = 1, id2 = 1\n",
       "\n",
       "\\begin{tabular}{r|ccc}\n",
       "\t& id & id2 & v\\\\\n",
       "\t\\hline\n",
       "\t& Int64 & Int64 & Float64\\\\\n",
       "\t\\hline\n",
       "\t1 & 1 & 1 & 0.652452 \\\\\n",
       "\t2 & 1 & 1 & 0.991339 \\\\\n",
       "\\end{tabular}\n",
       "\n",
       "$\\dots$\n",
       "\n",
       "Last Group (2 rows): id = 4, id2 = 2\n",
       "\n",
       "\\begin{tabular}{r|ccc}\n",
       "\t& id & id2 & v\\\\\n",
       "\t\\hline\n",
       "\t& Int64 & Int64 & Float64\\\\\n",
       "\t\\hline\n",
       "\t1 & 4 & 2 & 0.106421 \\\\\n",
       "\t2 & 4 & 2 & 0.363826 \\\\\n",
       "\\end{tabular}\n"
      ],
      "text/plain": [
       "GroupedDataFrame with 4 groups based on keys: id, id2\n",
       "First Group (2 rows): id = 1, id2 = 1\n",
       "│ Row │ id    │ id2   │ v        │\n",
       "│     │ \u001b[90mInt64\u001b[39m │ \u001b[90mInt64\u001b[39m │ \u001b[90mFloat64\u001b[39m  │\n",
       "├─────┼───────┼───────┼──────────┤\n",
       "│ 1   │ 1     │ 1     │ 0.652452 │\n",
       "│ 2   │ 1     │ 1     │ 0.991339 │\n",
       "⋮\n",
       "Last Group (2 rows): id = 4, id2 = 2\n",
       "│ Row │ id    │ id2   │ v        │\n",
       "│     │ \u001b[90mInt64\u001b[39m │ \u001b[90mInt64\u001b[39m │ \u001b[90mFloat64\u001b[39m  │\n",
       "├─────┼───────┼───────┼──────────┤\n",
       "│ 1   │ 4     │ 2     │ 0.106421 │\n",
       "│ 2   │ 4     │ 2     │ 0.363826 │"
      ]
     },
     "execution_count": 5,
     "metadata": {},
     "output_type": "execute_result"
    }
   ],
   "source": [
    "gx2 = groupby(x, [:id, :id2])"
   ]
  },
  {
   "cell_type": "code",
   "execution_count": 6,
   "metadata": {},
   "outputs": [
    {
     "data": {
      "text/html": [
       "<table class=\"data-frame\"><thead><tr><th></th><th>id</th><th>id2</th><th>v</th></tr><tr><th></th><th>Int64</th><th>Int64</th><th>Float64</th></tr></thead><tbody><p>8 rows × 3 columns</p><tr><th>1</th><td>1</td><td>1</td><td>0.652452</td></tr><tr><th>2</th><td>2</td><td>2</td><td>0.0176934</td></tr><tr><th>3</th><td>3</td><td>1</td><td>0.626628</td></tr><tr><th>4</th><td>4</td><td>2</td><td>0.106421</td></tr><tr><th>5</th><td>1</td><td>1</td><td>0.991339</td></tr><tr><th>6</th><td>2</td><td>2</td><td>0.857695</td></tr><tr><th>7</th><td>3</td><td>1</td><td>0.268431</td></tr><tr><th>8</th><td>4</td><td>2</td><td>0.363826</td></tr></tbody></table>"
      ],
      "text/latex": [
       "\\begin{tabular}{r|ccc}\n",
       "\t& id & id2 & v\\\\\n",
       "\t\\hline\n",
       "\t& Int64 & Int64 & Float64\\\\\n",
       "\t\\hline\n",
       "\t1 & 1 & 1 & 0.652452 \\\\\n",
       "\t2 & 2 & 2 & 0.0176934 \\\\\n",
       "\t3 & 3 & 1 & 0.626628 \\\\\n",
       "\t4 & 4 & 2 & 0.106421 \\\\\n",
       "\t5 & 1 & 1 & 0.991339 \\\\\n",
       "\t6 & 2 & 2 & 0.857695 \\\\\n",
       "\t7 & 3 & 1 & 0.268431 \\\\\n",
       "\t8 & 4 & 2 & 0.363826 \\\\\n",
       "\\end{tabular}\n"
      ],
      "text/plain": [
       "8×3 DataFrame\n",
       "│ Row │ id    │ id2   │ v         │\n",
       "│     │ \u001b[90mInt64\u001b[39m │ \u001b[90mInt64\u001b[39m │ \u001b[90mFloat64\u001b[39m   │\n",
       "├─────┼───────┼───────┼───────────┤\n",
       "│ 1   │ 1     │ 1     │ 0.652452  │\n",
       "│ 2   │ 2     │ 2     │ 0.0176934 │\n",
       "│ 3   │ 3     │ 1     │ 0.626628  │\n",
       "│ 4   │ 4     │ 2     │ 0.106421  │\n",
       "│ 5   │ 1     │ 1     │ 0.991339  │\n",
       "│ 6   │ 2     │ 2     │ 0.857695  │\n",
       "│ 7   │ 3     │ 1     │ 0.268431  │\n",
       "│ 8   │ 4     │ 2     │ 0.363826  │"
      ]
     },
     "execution_count": 6,
     "metadata": {},
     "output_type": "execute_result"
    }
   ],
   "source": [
    "parent(gx2) # get the parent DataFrame "
   ]
  },
  {
   "cell_type": "code",
   "execution_count": 7,
   "metadata": {},
   "outputs": [
    {
     "data": {
      "text/html": [
       "<table class=\"data-frame\"><thead><tr><th></th><th>id</th><th>id2</th><th>v</th></tr><tr><th></th><th>Int64</th><th>Int64</th><th>Float64</th></tr></thead><tbody><p>8 rows × 3 columns</p><tr><th>1</th><td>1</td><td>1</td><td>0.652452</td></tr><tr><th>2</th><td>1</td><td>1</td><td>0.991339</td></tr><tr><th>3</th><td>2</td><td>2</td><td>0.0176934</td></tr><tr><th>4</th><td>2</td><td>2</td><td>0.857695</td></tr><tr><th>5</th><td>3</td><td>1</td><td>0.626628</td></tr><tr><th>6</th><td>3</td><td>1</td><td>0.268431</td></tr><tr><th>7</th><td>4</td><td>2</td><td>0.106421</td></tr><tr><th>8</th><td>4</td><td>2</td><td>0.363826</td></tr></tbody></table>"
      ],
      "text/latex": [
       "\\begin{tabular}{r|ccc}\n",
       "\t& id & id2 & v\\\\\n",
       "\t\\hline\n",
       "\t& Int64 & Int64 & Float64\\\\\n",
       "\t\\hline\n",
       "\t1 & 1 & 1 & 0.652452 \\\\\n",
       "\t2 & 1 & 1 & 0.991339 \\\\\n",
       "\t3 & 2 & 2 & 0.0176934 \\\\\n",
       "\t4 & 2 & 2 & 0.857695 \\\\\n",
       "\t5 & 3 & 1 & 0.626628 \\\\\n",
       "\t6 & 3 & 1 & 0.268431 \\\\\n",
       "\t7 & 4 & 2 & 0.106421 \\\\\n",
       "\t8 & 4 & 2 & 0.363826 \\\\\n",
       "\\end{tabular}\n"
      ],
      "text/plain": [
       "8×3 DataFrame\n",
       "│ Row │ id    │ id2   │ v         │\n",
       "│     │ \u001b[90mInt64\u001b[39m │ \u001b[90mInt64\u001b[39m │ \u001b[90mFloat64\u001b[39m   │\n",
       "├─────┼───────┼───────┼───────────┤\n",
       "│ 1   │ 1     │ 1     │ 0.652452  │\n",
       "│ 2   │ 1     │ 1     │ 0.991339  │\n",
       "│ 3   │ 2     │ 2     │ 0.0176934 │\n",
       "│ 4   │ 2     │ 2     │ 0.857695  │\n",
       "│ 5   │ 3     │ 1     │ 0.626628  │\n",
       "│ 6   │ 3     │ 1     │ 0.268431  │\n",
       "│ 7   │ 4     │ 2     │ 0.106421  │\n",
       "│ 8   │ 4     │ 2     │ 0.363826  │"
      ]
     },
     "execution_count": 7,
     "metadata": {},
     "output_type": "execute_result"
    }
   ],
   "source": [
    "vcat(gx2...) # back to the DataFrame, but in a different order of rows than the original"
   ]
  },
  {
   "cell_type": "code",
   "execution_count": 8,
   "metadata": {},
   "outputs": [
    {
     "data": {
      "text/html": [
       "<table class=\"data-frame\"><thead><tr><th></th><th>id</th><th>id2</th><th>v</th></tr><tr><th></th><th>Int64</th><th>Int64</th><th>Float64</th></tr></thead><tbody><p>8 rows × 3 columns</p><tr><th>1</th><td>1</td><td>1</td><td>0.652452</td></tr><tr><th>2</th><td>1</td><td>1</td><td>0.991339</td></tr><tr><th>3</th><td>2</td><td>2</td><td>0.0176934</td></tr><tr><th>4</th><td>2</td><td>2</td><td>0.857695</td></tr><tr><th>5</th><td>3</td><td>1</td><td>0.626628</td></tr><tr><th>6</th><td>3</td><td>1</td><td>0.268431</td></tr><tr><th>7</th><td>4</td><td>2</td><td>0.106421</td></tr><tr><th>8</th><td>4</td><td>2</td><td>0.363826</td></tr></tbody></table>"
      ],
      "text/latex": [
       "\\begin{tabular}{r|ccc}\n",
       "\t& id & id2 & v\\\\\n",
       "\t\\hline\n",
       "\t& Int64 & Int64 & Float64\\\\\n",
       "\t\\hline\n",
       "\t1 & 1 & 1 & 0.652452 \\\\\n",
       "\t2 & 1 & 1 & 0.991339 \\\\\n",
       "\t3 & 2 & 2 & 0.0176934 \\\\\n",
       "\t4 & 2 & 2 & 0.857695 \\\\\n",
       "\t5 & 3 & 1 & 0.626628 \\\\\n",
       "\t6 & 3 & 1 & 0.268431 \\\\\n",
       "\t7 & 4 & 2 & 0.106421 \\\\\n",
       "\t8 & 4 & 2 & 0.363826 \\\\\n",
       "\\end{tabular}\n"
      ],
      "text/plain": [
       "8×3 DataFrame\n",
       "│ Row │ id    │ id2   │ v         │\n",
       "│     │ \u001b[90mInt64\u001b[39m │ \u001b[90mInt64\u001b[39m │ \u001b[90mFloat64\u001b[39m   │\n",
       "├─────┼───────┼───────┼───────────┤\n",
       "│ 1   │ 1     │ 1     │ 0.652452  │\n",
       "│ 2   │ 1     │ 1     │ 0.991339  │\n",
       "│ 3   │ 2     │ 2     │ 0.0176934 │\n",
       "│ 4   │ 2     │ 2     │ 0.857695  │\n",
       "│ 5   │ 3     │ 1     │ 0.626628  │\n",
       "│ 6   │ 3     │ 1     │ 0.268431  │\n",
       "│ 7   │ 4     │ 2     │ 0.106421  │\n",
       "│ 8   │ 4     │ 2     │ 0.363826  │"
      ]
     },
     "execution_count": 8,
     "metadata": {},
     "output_type": "execute_result"
    }
   ],
   "source": [
    "DataFrame(gx2) # the same"
   ]
  },
  {
   "cell_type": "code",
   "execution_count": 9,
   "metadata": {},
   "outputs": [
    {
     "data": {
      "text/html": [
       "<table class=\"data-frame\"><thead><tr><th></th><th>v</th></tr><tr><th></th><th>Float64</th></tr></thead><tbody><p>8 rows × 1 columns</p><tr><th>1</th><td>0.652452</td></tr><tr><th>2</th><td>0.991339</td></tr><tr><th>3</th><td>0.0176934</td></tr><tr><th>4</th><td>0.857695</td></tr><tr><th>5</th><td>0.626628</td></tr><tr><th>6</th><td>0.268431</td></tr><tr><th>7</th><td>0.106421</td></tr><tr><th>8</th><td>0.363826</td></tr></tbody></table>"
      ],
      "text/latex": [
       "\\begin{tabular}{r|c}\n",
       "\t& v\\\\\n",
       "\t\\hline\n",
       "\t& Float64\\\\\n",
       "\t\\hline\n",
       "\t1 & 0.652452 \\\\\n",
       "\t2 & 0.991339 \\\\\n",
       "\t3 & 0.0176934 \\\\\n",
       "\t4 & 0.857695 \\\\\n",
       "\t5 & 0.626628 \\\\\n",
       "\t6 & 0.268431 \\\\\n",
       "\t7 & 0.106421 \\\\\n",
       "\t8 & 0.363826 \\\\\n",
       "\\end{tabular}\n"
      ],
      "text/plain": [
       "8×1 DataFrame\n",
       "│ Row │ v         │\n",
       "│     │ \u001b[90mFloat64\u001b[39m   │\n",
       "├─────┼───────────┤\n",
       "│ 1   │ 0.652452  │\n",
       "│ 2   │ 0.991339  │\n",
       "│ 3   │ 0.0176934 │\n",
       "│ 4   │ 0.857695  │\n",
       "│ 5   │ 0.626628  │\n",
       "│ 6   │ 0.268431  │\n",
       "│ 7   │ 0.106421  │\n",
       "│ 8   │ 0.363826  │"
      ]
     },
     "execution_count": 9,
     "metadata": {},
     "output_type": "execute_result"
    }
   ],
   "source": [
    "DataFrame(gx2, keepkeys=false) # drop grouping columns when creating a data frame"
   ]
  },
  {
   "cell_type": "code",
   "execution_count": 10,
   "metadata": {},
   "outputs": [
    {
     "data": {
      "text/plain": [
       "2-element Array{Symbol,1}:\n",
       " :id\n",
       " :id2"
      ]
     },
     "execution_count": 10,
     "metadata": {},
     "output_type": "execute_result"
    }
   ],
   "source": [
    "groupcols(gx2) # vector of names of grouping variables"
   ]
  },
  {
   "cell_type": "code",
   "execution_count": 11,
   "metadata": {},
   "outputs": [
    {
     "data": {
      "text/plain": [
       "1-element Array{Symbol,1}:\n",
       " :v"
      ]
     },
     "execution_count": 11,
     "metadata": {},
     "output_type": "execute_result"
    }
   ],
   "source": [
    "valuecols(gx2) # and non-grouping variables"
   ]
  },
  {
   "cell_type": "code",
   "execution_count": 12,
   "metadata": {},
   "outputs": [
    {
     "data": {
      "text/plain": [
       "8-element Array{Union{Missing, Int64},1}:\n",
       " 1\n",
       " 2\n",
       " 3\n",
       " 4\n",
       " 1\n",
       " 2\n",
       " 3\n",
       " 4"
      ]
     },
     "execution_count": 12,
     "metadata": {},
     "output_type": "execute_result"
    }
   ],
   "source": [
    "groupindices(gx2) # group indices in parent(gx2)"
   ]
  },
  {
   "cell_type": "code",
   "execution_count": 13,
   "metadata": {},
   "outputs": [
    {
     "data": {
      "text/plain": [
       "4-element DataFrames.GroupKeys{GroupedDataFrame{DataFrame}}:\n",
       " GroupKey: (id = 1, id2 = 1)\n",
       " GroupKey: (id = 2, id2 = 2)\n",
       " GroupKey: (id = 3, id2 = 1)\n",
       " GroupKey: (id = 4, id2 = 2)"
      ]
     },
     "execution_count": 13,
     "metadata": {},
     "output_type": "execute_result"
    }
   ],
   "source": [
    "kgx2 = keys(gx2)"
   ]
  },
  {
   "cell_type": "markdown",
   "metadata": {},
   "source": [
    "You can index into a `GroupedDataFrame` like to a vector or to a dictionary.\n",
    "The second form acceps `GroupKey`, `NamedTuple` or a `Tuple`"
   ]
  },
  {
   "cell_type": "code",
   "execution_count": 14,
   "metadata": {},
   "outputs": [
    {
     "data": {
      "text/html": [
       "<p><b>GroupedDataFrame with 4 groups based on keys: id, id2</b></p><p><i>First Group (2 rows): id = 1, id2 = 1</i></p><table class=\"data-frame\"><thead><tr><th></th><th>id</th><th>id2</th><th>v</th></tr><tr><th></th><th>Int64</th><th>Int64</th><th>Float64</th></tr></thead><tbody><tr><th>1</th><td>1</td><td>1</td><td>0.652452</td></tr><tr><th>2</th><td>1</td><td>1</td><td>0.991339</td></tr></tbody></table><p>&vellip;</p><p><i>Last Group (2 rows): id = 4, id2 = 2</i></p><table class=\"data-frame\"><thead><tr><th></th><th>id</th><th>id2</th><th>v</th></tr><tr><th></th><th>Int64</th><th>Int64</th><th>Float64</th></tr></thead><tbody><tr><th>1</th><td>4</td><td>2</td><td>0.106421</td></tr><tr><th>2</th><td>4</td><td>2</td><td>0.363826</td></tr></tbody></table>"
      ],
      "text/latex": [
       "GroupedDataFrame with 4 groups based on keys: id, id2\n",
       "\n",
       "First Group (2 rows): id = 1, id2 = 1\n",
       "\n",
       "\\begin{tabular}{r|ccc}\n",
       "\t& id & id2 & v\\\\\n",
       "\t\\hline\n",
       "\t& Int64 & Int64 & Float64\\\\\n",
       "\t\\hline\n",
       "\t1 & 1 & 1 & 0.652452 \\\\\n",
       "\t2 & 1 & 1 & 0.991339 \\\\\n",
       "\\end{tabular}\n",
       "\n",
       "$\\dots$\n",
       "\n",
       "Last Group (2 rows): id = 4, id2 = 2\n",
       "\n",
       "\\begin{tabular}{r|ccc}\n",
       "\t& id & id2 & v\\\\\n",
       "\t\\hline\n",
       "\t& Int64 & Int64 & Float64\\\\\n",
       "\t\\hline\n",
       "\t1 & 4 & 2 & 0.106421 \\\\\n",
       "\t2 & 4 & 2 & 0.363826 \\\\\n",
       "\\end{tabular}\n"
      ],
      "text/plain": [
       "GroupedDataFrame with 4 groups based on keys: id, id2\n",
       "First Group (2 rows): id = 1, id2 = 1\n",
       "│ Row │ id    │ id2   │ v        │\n",
       "│     │ \u001b[90mInt64\u001b[39m │ \u001b[90mInt64\u001b[39m │ \u001b[90mFloat64\u001b[39m  │\n",
       "├─────┼───────┼───────┼──────────┤\n",
       "│ 1   │ 1     │ 1     │ 0.652452 │\n",
       "│ 2   │ 1     │ 1     │ 0.991339 │\n",
       "⋮\n",
       "Last Group (2 rows): id = 4, id2 = 2\n",
       "│ Row │ id    │ id2   │ v        │\n",
       "│     │ \u001b[90mInt64\u001b[39m │ \u001b[90mInt64\u001b[39m │ \u001b[90mFloat64\u001b[39m  │\n",
       "├─────┼───────┼───────┼──────────┤\n",
       "│ 1   │ 4     │ 2     │ 0.106421 │\n",
       "│ 2   │ 4     │ 2     │ 0.363826 │"
      ]
     },
     "execution_count": 14,
     "metadata": {},
     "output_type": "execute_result"
    }
   ],
   "source": [
    "gx2"
   ]
  },
  {
   "cell_type": "code",
   "execution_count": 15,
   "metadata": {},
   "outputs": [
    {
     "data": {
      "text/plain": [
       "GroupKey: (id = 1, id2 = 1)"
      ]
     },
     "execution_count": 15,
     "metadata": {},
     "output_type": "execute_result"
    }
   ],
   "source": [
    "k = keys(gx2)[1]"
   ]
  },
  {
   "cell_type": "code",
   "execution_count": 16,
   "metadata": {},
   "outputs": [
    {
     "data": {
      "text/plain": [
       "(id = 1, id2 = 1)"
      ]
     },
     "execution_count": 16,
     "metadata": {},
     "output_type": "execute_result"
    }
   ],
   "source": [
    "ntk = NamedTuple(k)"
   ]
  },
  {
   "cell_type": "code",
   "execution_count": 17,
   "metadata": {},
   "outputs": [
    {
     "data": {
      "text/plain": [
       "(1, 1)"
      ]
     },
     "execution_count": 17,
     "metadata": {},
     "output_type": "execute_result"
    }
   ],
   "source": [
    "tk = Tuple(k)"
   ]
  },
  {
   "cell_type": "markdown",
   "metadata": {},
   "source": [
    "the operations below produce the same result and are fast"
   ]
  },
  {
   "cell_type": "code",
   "execution_count": 18,
   "metadata": {},
   "outputs": [
    {
     "data": {
      "text/html": [
       "<table class=\"data-frame\"><thead><tr><th></th><th>id</th><th>id2</th><th>v</th></tr><tr><th></th><th>Int64</th><th>Int64</th><th>Float64</th></tr></thead><tbody><p>2 rows × 3 columns</p><tr><th>1</th><td>1</td><td>1</td><td>0.652452</td></tr><tr><th>2</th><td>1</td><td>1</td><td>0.991339</td></tr></tbody></table>"
      ],
      "text/latex": [
       "\\begin{tabular}{r|ccc}\n",
       "\t& id & id2 & v\\\\\n",
       "\t\\hline\n",
       "\t& Int64 & Int64 & Float64\\\\\n",
       "\t\\hline\n",
       "\t1 & 1 & 1 & 0.652452 \\\\\n",
       "\t2 & 1 & 1 & 0.991339 \\\\\n",
       "\\end{tabular}\n"
      ],
      "text/plain": [
       "2×3 SubDataFrame\n",
       "│ Row │ id    │ id2   │ v        │\n",
       "│     │ \u001b[90mInt64\u001b[39m │ \u001b[90mInt64\u001b[39m │ \u001b[90mFloat64\u001b[39m  │\n",
       "├─────┼───────┼───────┼──────────┤\n",
       "│ 1   │ 1     │ 1     │ 0.652452 │\n",
       "│ 2   │ 1     │ 1     │ 0.991339 │"
      ]
     },
     "execution_count": 18,
     "metadata": {},
     "output_type": "execute_result"
    }
   ],
   "source": [
    "gx2[1]"
   ]
  },
  {
   "cell_type": "code",
   "execution_count": 19,
   "metadata": {},
   "outputs": [
    {
     "data": {
      "text/html": [
       "<table class=\"data-frame\"><thead><tr><th></th><th>id</th><th>id2</th><th>v</th></tr><tr><th></th><th>Int64</th><th>Int64</th><th>Float64</th></tr></thead><tbody><p>2 rows × 3 columns</p><tr><th>1</th><td>1</td><td>1</td><td>0.652452</td></tr><tr><th>2</th><td>1</td><td>1</td><td>0.991339</td></tr></tbody></table>"
      ],
      "text/latex": [
       "\\begin{tabular}{r|ccc}\n",
       "\t& id & id2 & v\\\\\n",
       "\t\\hline\n",
       "\t& Int64 & Int64 & Float64\\\\\n",
       "\t\\hline\n",
       "\t1 & 1 & 1 & 0.652452 \\\\\n",
       "\t2 & 1 & 1 & 0.991339 \\\\\n",
       "\\end{tabular}\n"
      ],
      "text/plain": [
       "2×3 SubDataFrame\n",
       "│ Row │ id    │ id2   │ v        │\n",
       "│     │ \u001b[90mInt64\u001b[39m │ \u001b[90mInt64\u001b[39m │ \u001b[90mFloat64\u001b[39m  │\n",
       "├─────┼───────┼───────┼──────────┤\n",
       "│ 1   │ 1     │ 1     │ 0.652452 │\n",
       "│ 2   │ 1     │ 1     │ 0.991339 │"
      ]
     },
     "execution_count": 19,
     "metadata": {},
     "output_type": "execute_result"
    }
   ],
   "source": [
    "gx2[k]"
   ]
  },
  {
   "cell_type": "code",
   "execution_count": 20,
   "metadata": {},
   "outputs": [
    {
     "data": {
      "text/html": [
       "<table class=\"data-frame\"><thead><tr><th></th><th>id</th><th>id2</th><th>v</th></tr><tr><th></th><th>Int64</th><th>Int64</th><th>Float64</th></tr></thead><tbody><p>2 rows × 3 columns</p><tr><th>1</th><td>1</td><td>1</td><td>0.652452</td></tr><tr><th>2</th><td>1</td><td>1</td><td>0.991339</td></tr></tbody></table>"
      ],
      "text/latex": [
       "\\begin{tabular}{r|ccc}\n",
       "\t& id & id2 & v\\\\\n",
       "\t\\hline\n",
       "\t& Int64 & Int64 & Float64\\\\\n",
       "\t\\hline\n",
       "\t1 & 1 & 1 & 0.652452 \\\\\n",
       "\t2 & 1 & 1 & 0.991339 \\\\\n",
       "\\end{tabular}\n"
      ],
      "text/plain": [
       "2×3 SubDataFrame\n",
       "│ Row │ id    │ id2   │ v        │\n",
       "│     │ \u001b[90mInt64\u001b[39m │ \u001b[90mInt64\u001b[39m │ \u001b[90mFloat64\u001b[39m  │\n",
       "├─────┼───────┼───────┼──────────┤\n",
       "│ 1   │ 1     │ 1     │ 0.652452 │\n",
       "│ 2   │ 1     │ 1     │ 0.991339 │"
      ]
     },
     "execution_count": 20,
     "metadata": {},
     "output_type": "execute_result"
    }
   ],
   "source": [
    "gx2[ntk]"
   ]
  },
  {
   "cell_type": "code",
   "execution_count": 21,
   "metadata": {},
   "outputs": [
    {
     "data": {
      "text/html": [
       "<table class=\"data-frame\"><thead><tr><th></th><th>id</th><th>id2</th><th>v</th></tr><tr><th></th><th>Int64</th><th>Int64</th><th>Float64</th></tr></thead><tbody><p>2 rows × 3 columns</p><tr><th>1</th><td>1</td><td>1</td><td>0.652452</td></tr><tr><th>2</th><td>1</td><td>1</td><td>0.991339</td></tr></tbody></table>"
      ],
      "text/latex": [
       "\\begin{tabular}{r|ccc}\n",
       "\t& id & id2 & v\\\\\n",
       "\t\\hline\n",
       "\t& Int64 & Int64 & Float64\\\\\n",
       "\t\\hline\n",
       "\t1 & 1 & 1 & 0.652452 \\\\\n",
       "\t2 & 1 & 1 & 0.991339 \\\\\n",
       "\\end{tabular}\n"
      ],
      "text/plain": [
       "2×3 SubDataFrame\n",
       "│ Row │ id    │ id2   │ v        │\n",
       "│     │ \u001b[90mInt64\u001b[39m │ \u001b[90mInt64\u001b[39m │ \u001b[90mFloat64\u001b[39m  │\n",
       "├─────┼───────┼───────┼──────────┤\n",
       "│ 1   │ 1     │ 1     │ 0.652452 │\n",
       "│ 2   │ 1     │ 1     │ 0.991339 │"
      ]
     },
     "execution_count": 21,
     "metadata": {},
     "output_type": "execute_result"
    }
   ],
   "source": [
    "gx2[tk]"
   ]
  },
  {
   "cell_type": "markdown",
   "metadata": {},
   "source": [
    "handling missing values"
   ]
  },
  {
   "cell_type": "code",
   "execution_count": 22,
   "metadata": {},
   "outputs": [
    {
     "data": {
      "text/html": [
       "<table class=\"data-frame\"><thead><tr><th></th><th>id</th><th>x</th></tr><tr><th></th><th>Int64?</th><th>Int64</th></tr></thead><tbody><p>5 rows × 2 columns</p><tr><th>1</th><td><em>missing</em></td><td>1</td></tr><tr><th>2</th><td>5</td><td>2</td></tr><tr><th>3</th><td>1</td><td>3</td></tr><tr><th>4</th><td>3</td><td>4</td></tr><tr><th>5</th><td><em>missing</em></td><td>5</td></tr></tbody></table>"
      ],
      "text/latex": [
       "\\begin{tabular}{r|cc}\n",
       "\t& id & x\\\\\n",
       "\t\\hline\n",
       "\t& Int64? & Int64\\\\\n",
       "\t\\hline\n",
       "\t1 & \\emph{missing} & 1 \\\\\n",
       "\t2 & 5 & 2 \\\\\n",
       "\t3 & 1 & 3 \\\\\n",
       "\t4 & 3 & 4 \\\\\n",
       "\t5 & \\emph{missing} & 5 \\\\\n",
       "\\end{tabular}\n"
      ],
      "text/plain": [
       "5×2 DataFrame\n",
       "│ Row │ id      │ x     │\n",
       "│     │ \u001b[90mInt64?\u001b[39m  │ \u001b[90mInt64\u001b[39m │\n",
       "├─────┼─────────┼───────┤\n",
       "│ 1   │ \u001b[90mmissing\u001b[39m │ 1     │\n",
       "│ 2   │ 5       │ 2     │\n",
       "│ 3   │ 1       │ 3     │\n",
       "│ 4   │ 3       │ 4     │\n",
       "│ 5   │ \u001b[90mmissing\u001b[39m │ 5     │"
      ]
     },
     "execution_count": 22,
     "metadata": {},
     "output_type": "execute_result"
    }
   ],
   "source": [
    "x = DataFrame(id = [missing, 5, 1, 3, missing], x = 1:5)"
   ]
  },
  {
   "cell_type": "code",
   "execution_count": 23,
   "metadata": {},
   "outputs": [
    {
     "data": {
      "text/html": [
       "<p><b>GroupedDataFrame with 4 groups based on key: id</b></p><p><i>First Group (2 rows): id = missing</i></p><table class=\"data-frame\"><thead><tr><th></th><th>id</th><th>x</th></tr><tr><th></th><th>Int64?</th><th>Int64</th></tr></thead><tbody><tr><th>1</th><td><em>missing</em></td><td>1</td></tr><tr><th>2</th><td><em>missing</em></td><td>5</td></tr></tbody></table><p>&vellip;</p><p><i>Last Group (1 row): id = 3</i></p><table class=\"data-frame\"><thead><tr><th></th><th>id</th><th>x</th></tr><tr><th></th><th>Int64?</th><th>Int64</th></tr></thead><tbody><tr><th>1</th><td>3</td><td>4</td></tr></tbody></table>"
      ],
      "text/latex": [
       "GroupedDataFrame with 4 groups based on key: id\n",
       "\n",
       "First Group (2 rows): id = missing\n",
       "\n",
       "\\begin{tabular}{r|cc}\n",
       "\t& id & x\\\\\n",
       "\t\\hline\n",
       "\t& Int64? & Int64\\\\\n",
       "\t\\hline\n",
       "\t1 & \\emph{missing} & 1 \\\\\n",
       "\t2 & \\emph{missing} & 5 \\\\\n",
       "\\end{tabular}\n",
       "\n",
       "$\\dots$\n",
       "\n",
       "Last Group (1 row): id = 3\n",
       "\n",
       "\\begin{tabular}{r|cc}\n",
       "\t& id & x\\\\\n",
       "\t\\hline\n",
       "\t& Int64? & Int64\\\\\n",
       "\t\\hline\n",
       "\t1 & 3 & 4 \\\\\n",
       "\\end{tabular}\n"
      ],
      "text/plain": [
       "GroupedDataFrame with 4 groups based on key: id\n",
       "First Group (2 rows): id = missing\n",
       "│ Row │ id      │ x     │\n",
       "│     │ \u001b[90mInt64?\u001b[39m  │ \u001b[90mInt64\u001b[39m │\n",
       "├─────┼─────────┼───────┤\n",
       "│ 1   │ \u001b[90mmissing\u001b[39m │ 1     │\n",
       "│ 2   │ \u001b[90mmissing\u001b[39m │ 5     │\n",
       "⋮\n",
       "Last Group (1 row): id = 3\n",
       "│ Row │ id     │ x     │\n",
       "│     │ \u001b[90mInt64?\u001b[39m │ \u001b[90mInt64\u001b[39m │\n",
       "├─────┼────────┼───────┤\n",
       "│ 1   │ 3      │ 4     │"
      ]
     },
     "execution_count": 23,
     "metadata": {},
     "output_type": "execute_result"
    }
   ],
   "source": [
    "groupby(x, :id) # by default groups include mising values and are not sorted"
   ]
  },
  {
   "cell_type": "code",
   "execution_count": 24,
   "metadata": {},
   "outputs": [
    {
     "data": {
      "text/html": [
       "<p><b>GroupedDataFrame with 3 groups based on key: id</b></p><p><i>First Group (1 row): id = 1</i></p><table class=\"data-frame\"><thead><tr><th></th><th>id</th><th>x</th></tr><tr><th></th><th>Int64?</th><th>Int64</th></tr></thead><tbody><tr><th>1</th><td>1</td><td>3</td></tr></tbody></table><p>&vellip;</p><p><i>Last Group (1 row): id = 5</i></p><table class=\"data-frame\"><thead><tr><th></th><th>id</th><th>x</th></tr><tr><th></th><th>Int64?</th><th>Int64</th></tr></thead><tbody><tr><th>1</th><td>5</td><td>2</td></tr></tbody></table>"
      ],
      "text/latex": [
       "GroupedDataFrame with 3 groups based on key: id\n",
       "\n",
       "First Group (1 row): id = 1\n",
       "\n",
       "\\begin{tabular}{r|cc}\n",
       "\t& id & x\\\\\n",
       "\t\\hline\n",
       "\t& Int64? & Int64\\\\\n",
       "\t\\hline\n",
       "\t1 & 1 & 3 \\\\\n",
       "\\end{tabular}\n",
       "\n",
       "$\\dots$\n",
       "\n",
       "Last Group (1 row): id = 5\n",
       "\n",
       "\\begin{tabular}{r|cc}\n",
       "\t& id & x\\\\\n",
       "\t\\hline\n",
       "\t& Int64? & Int64\\\\\n",
       "\t\\hline\n",
       "\t1 & 5 & 2 \\\\\n",
       "\\end{tabular}\n"
      ],
      "text/plain": [
       "GroupedDataFrame with 3 groups based on key: id\n",
       "First Group (1 row): id = 1\n",
       "│ Row │ id     │ x     │\n",
       "│     │ \u001b[90mInt64?\u001b[39m │ \u001b[90mInt64\u001b[39m │\n",
       "├─────┼────────┼───────┤\n",
       "│ 1   │ 1      │ 3     │\n",
       "⋮\n",
       "Last Group (1 row): id = 5\n",
       "│ Row │ id     │ x     │\n",
       "│     │ \u001b[90mInt64?\u001b[39m │ \u001b[90mInt64\u001b[39m │\n",
       "├─────┼────────┼───────┤\n",
       "│ 1   │ 5      │ 2     │"
      ]
     },
     "execution_count": 24,
     "metadata": {},
     "output_type": "execute_result"
    }
   ],
   "source": [
    "groupby(x, :id, sort=true, skipmissing=true) # but we can change it"
   ]
  },
  {
   "cell_type": "markdown",
   "metadata": {},
   "source": [
    "### Performing transformations by group using `combine`, `select`, `select!`, `transform`, and `transform!`"
   ]
  },
  {
   "cell_type": "code",
   "execution_count": 25,
   "metadata": {},
   "outputs": [],
   "source": [
    "using Statistics\n",
    "using Pipe"
   ]
  },
  {
   "cell_type": "code",
   "execution_count": 26,
   "metadata": {},
   "outputs": [
    {
     "data": {
      "text/plain": [
       "15"
      ]
     },
     "execution_count": 26,
     "metadata": {},
     "output_type": "execute_result"
    }
   ],
   "source": [
    "ENV[\"LINES\"] = 15 # reduce the number of rows in the output"
   ]
  },
  {
   "cell_type": "code",
   "execution_count": 27,
   "metadata": {},
   "outputs": [
    {
     "data": {
      "text/html": [
       "<table class=\"data-frame\"><thead><tr><th></th><th>id</th><th>v</th></tr><tr><th></th><th>Char</th><th>Float64</th></tr></thead><tbody><p>100 rows × 2 columns</p><tr><th>1</th><td>'a'</td><td>0.532229</td></tr><tr><th>2</th><td>'c'</td><td>0.234753</td></tr><tr><th>3</th><td>'d'</td><td>0.481919</td></tr><tr><th>4</th><td>'a'</td><td>0.332086</td></tr><tr><th>5</th><td>'c'</td><td>0.170635</td></tr><tr><th>6</th><td>'b'</td><td>0.67154</td></tr><tr><th>7</th><td>'a'</td><td>0.316082</td></tr><tr><th>8</th><td>'d'</td><td>0.225923</td></tr><tr><th>9</th><td>'c'</td><td>0.142879</td></tr><tr><th>10</th><td>'d'</td><td>0.944642</td></tr><tr><th>11</th><td>'c'</td><td>0.820051</td></tr><tr><th>12</th><td>'a'</td><td>0.800832</td></tr><tr><th>13</th><td>'d'</td><td>0.976892</td></tr><tr><th>14</th><td>'d'</td><td>0.601943</td></tr><tr><th>15</th><td>'d'</td><td>0.0885493</td></tr><tr><th>&vellip;</th><td>&vellip;</td><td>&vellip;</td></tr></tbody></table>"
      ],
      "text/latex": [
       "\\begin{tabular}{r|cc}\n",
       "\t& id & v\\\\\n",
       "\t\\hline\n",
       "\t& Char & Float64\\\\\n",
       "\t\\hline\n",
       "\t1 & 'a' & 0.532229 \\\\\n",
       "\t2 & 'c' & 0.234753 \\\\\n",
       "\t3 & 'd' & 0.481919 \\\\\n",
       "\t4 & 'a' & 0.332086 \\\\\n",
       "\t5 & 'c' & 0.170635 \\\\\n",
       "\t6 & 'b' & 0.67154 \\\\\n",
       "\t7 & 'a' & 0.316082 \\\\\n",
       "\t8 & 'd' & 0.225923 \\\\\n",
       "\t9 & 'c' & 0.142879 \\\\\n",
       "\t10 & 'd' & 0.944642 \\\\\n",
       "\t11 & 'c' & 0.820051 \\\\\n",
       "\t12 & 'a' & 0.800832 \\\\\n",
       "\t13 & 'd' & 0.976892 \\\\\n",
       "\t14 & 'd' & 0.601943 \\\\\n",
       "\t15 & 'd' & 0.0885493 \\\\\n",
       "\t$\\dots$ & $\\dots$ & $\\dots$ \\\\\n",
       "\\end{tabular}\n"
      ],
      "text/plain": [
       "100×2 DataFrame\n",
       "│ Row │ id   │ v        │\n",
       "│     │ \u001b[90mChar\u001b[39m │ \u001b[90mFloat64\u001b[39m  │\n",
       "├─────┼──────┼──────────┤\n",
       "│ 1   │ 'a'  │ 0.532229 │\n",
       "│ 2   │ 'c'  │ 0.234753 │\n",
       "│ 3   │ 'd'  │ 0.481919 │\n",
       "⋮\n",
       "│ 97  │ 'a'  │ 0.325952 │\n",
       "│ 98  │ 'b'  │ 0.176281 │\n",
       "│ 99  │ 'a'  │ 0.263223 │\n",
       "│ 100 │ 'a'  │ 0.926757 │"
      ]
     },
     "execution_count": 27,
     "metadata": {},
     "output_type": "execute_result"
    }
   ],
   "source": [
    "x = DataFrame(id=rand('a':'d', 100), v=rand(100))"
   ]
  },
  {
   "cell_type": "code",
   "execution_count": 28,
   "metadata": {},
   "outputs": [
    {
     "data": {
      "text/html": [
       "<table class=\"data-frame\"><thead><tr><th></th><th>id</th><th>v_mean</th></tr><tr><th></th><th>Char</th><th>Float64</th></tr></thead><tbody><p>4 rows × 2 columns</p><tr><th>1</th><td>'a'</td><td>0.55903</td></tr><tr><th>2</th><td>'c'</td><td>0.448484</td></tr><tr><th>3</th><td>'d'</td><td>0.562074</td></tr><tr><th>4</th><td>'b'</td><td>0.584039</td></tr></tbody></table>"
      ],
      "text/latex": [
       "\\begin{tabular}{r|cc}\n",
       "\t& id & v\\_mean\\\\\n",
       "\t\\hline\n",
       "\t& Char & Float64\\\\\n",
       "\t\\hline\n",
       "\t1 & 'a' & 0.55903 \\\\\n",
       "\t2 & 'c' & 0.448484 \\\\\n",
       "\t3 & 'd' & 0.562074 \\\\\n",
       "\t4 & 'b' & 0.584039 \\\\\n",
       "\\end{tabular}\n"
      ],
      "text/plain": [
       "4×2 DataFrame\n",
       "│ Row │ id   │ v_mean   │\n",
       "│     │ \u001b[90mChar\u001b[39m │ \u001b[90mFloat64\u001b[39m  │\n",
       "├─────┼──────┼──────────┤\n",
       "│ 1   │ 'a'  │ 0.55903  │\n",
       "│ 2   │ 'c'  │ 0.448484 │\n",
       "│ 3   │ 'd'  │ 0.562074 │\n",
       "│ 4   │ 'b'  │ 0.584039 │"
      ]
     },
     "execution_count": 28,
     "metadata": {},
     "output_type": "execute_result"
    }
   ],
   "source": [
    "# apply a function to each group of a data frame\n",
    "# combine keeps as many rows as are returned from the function\n",
    "@pipe x |> groupby(_, :id) |> combine(_, :v=>mean)"
   ]
  },
  {
   "cell_type": "code",
   "execution_count": 29,
   "metadata": {},
   "outputs": [
    {
     "data": {
      "text/plain": [
       "Base.OneTo(100)"
      ]
     },
     "execution_count": 29,
     "metadata": {},
     "output_type": "execute_result"
    }
   ],
   "source": [
    "x.id2 = axes(x, 1)"
   ]
  },
  {
   "cell_type": "code",
   "execution_count": 30,
   "metadata": {},
   "outputs": [
    {
     "data": {
      "text/html": [
       "<table class=\"data-frame\"><thead><tr><th></th><th>id</th><th>v</th><th>id2</th><th>v_mean</th></tr><tr><th></th><th>Char</th><th>Float64</th><th>Int64</th><th>Float64</th></tr></thead><tbody><p>100 rows × 4 columns</p><tr><th>1</th><td>'a'</td><td>0.532229</td><td>1</td><td>0.55903</td></tr><tr><th>2</th><td>'c'</td><td>0.234753</td><td>2</td><td>0.448484</td></tr><tr><th>3</th><td>'d'</td><td>0.481919</td><td>3</td><td>0.562074</td></tr><tr><th>4</th><td>'a'</td><td>0.332086</td><td>4</td><td>0.55903</td></tr><tr><th>5</th><td>'c'</td><td>0.170635</td><td>5</td><td>0.448484</td></tr><tr><th>6</th><td>'b'</td><td>0.67154</td><td>6</td><td>0.584039</td></tr><tr><th>7</th><td>'a'</td><td>0.316082</td><td>7</td><td>0.55903</td></tr><tr><th>8</th><td>'d'</td><td>0.225923</td><td>8</td><td>0.562074</td></tr><tr><th>9</th><td>'c'</td><td>0.142879</td><td>9</td><td>0.448484</td></tr><tr><th>10</th><td>'d'</td><td>0.944642</td><td>10</td><td>0.562074</td></tr><tr><th>11</th><td>'c'</td><td>0.820051</td><td>11</td><td>0.448484</td></tr><tr><th>12</th><td>'a'</td><td>0.800832</td><td>12</td><td>0.55903</td></tr><tr><th>13</th><td>'d'</td><td>0.976892</td><td>13</td><td>0.562074</td></tr><tr><th>14</th><td>'d'</td><td>0.601943</td><td>14</td><td>0.562074</td></tr><tr><th>15</th><td>'d'</td><td>0.0885493</td><td>15</td><td>0.562074</td></tr><tr><th>&vellip;</th><td>&vellip;</td><td>&vellip;</td><td>&vellip;</td><td>&vellip;</td></tr></tbody></table>"
      ],
      "text/latex": [
       "\\begin{tabular}{r|cccc}\n",
       "\t& id & v & id2 & v\\_mean\\\\\n",
       "\t\\hline\n",
       "\t& Char & Float64 & Int64 & Float64\\\\\n",
       "\t\\hline\n",
       "\t1 & 'a' & 0.532229 & 1 & 0.55903 \\\\\n",
       "\t2 & 'c' & 0.234753 & 2 & 0.448484 \\\\\n",
       "\t3 & 'd' & 0.481919 & 3 & 0.562074 \\\\\n",
       "\t4 & 'a' & 0.332086 & 4 & 0.55903 \\\\\n",
       "\t5 & 'c' & 0.170635 & 5 & 0.448484 \\\\\n",
       "\t6 & 'b' & 0.67154 & 6 & 0.584039 \\\\\n",
       "\t7 & 'a' & 0.316082 & 7 & 0.55903 \\\\\n",
       "\t8 & 'd' & 0.225923 & 8 & 0.562074 \\\\\n",
       "\t9 & 'c' & 0.142879 & 9 & 0.448484 \\\\\n",
       "\t10 & 'd' & 0.944642 & 10 & 0.562074 \\\\\n",
       "\t11 & 'c' & 0.820051 & 11 & 0.448484 \\\\\n",
       "\t12 & 'a' & 0.800832 & 12 & 0.55903 \\\\\n",
       "\t13 & 'd' & 0.976892 & 13 & 0.562074 \\\\\n",
       "\t14 & 'd' & 0.601943 & 14 & 0.562074 \\\\\n",
       "\t15 & 'd' & 0.0885493 & 15 & 0.562074 \\\\\n",
       "\t$\\dots$ & $\\dots$ & $\\dots$ & $\\dots$ & $\\dots$ \\\\\n",
       "\\end{tabular}\n"
      ],
      "text/plain": [
       "100×4 DataFrame\n",
       "│ Row │ id   │ v        │ id2   │ v_mean   │\n",
       "│     │ \u001b[90mChar\u001b[39m │ \u001b[90mFloat64\u001b[39m  │ \u001b[90mInt64\u001b[39m │ \u001b[90mFloat64\u001b[39m  │\n",
       "├─────┼──────┼──────────┼───────┼──────────┤\n",
       "│ 1   │ 'a'  │ 0.532229 │ 1     │ 0.55903  │\n",
       "│ 2   │ 'c'  │ 0.234753 │ 2     │ 0.448484 │\n",
       "│ 3   │ 'd'  │ 0.481919 │ 3     │ 0.562074 │\n",
       "⋮\n",
       "│ 97  │ 'a'  │ 0.325952 │ 97    │ 0.55903  │\n",
       "│ 98  │ 'b'  │ 0.176281 │ 98    │ 0.584039 │\n",
       "│ 99  │ 'a'  │ 0.263223 │ 99    │ 0.55903  │\n",
       "│ 100 │ 'a'  │ 0.926757 │ 100   │ 0.55903  │"
      ]
     },
     "execution_count": 30,
     "metadata": {},
     "output_type": "execute_result"
    }
   ],
   "source": [
    "# select and transform keep as many rows as are in the source data frame and in correct order\n",
    "# additionally transform keeps all columns from the source\n",
    "@pipe x |> groupby(_, :id) |> transform(_, :v=>mean)"
   ]
  },
  {
   "cell_type": "code",
   "execution_count": 31,
   "metadata": {},
   "outputs": [
    {
     "data": {
      "text/html": [
       "<table class=\"data-frame\"><thead><tr><th></th><th>id</th><th>id2</th><th>v_mean</th></tr><tr><th></th><th>Char</th><th>Int64</th><th>Float64</th></tr></thead><tbody><p>100 rows × 3 columns</p><tr><th>1</th><td>'a'</td><td>1</td><td>0.55903</td></tr><tr><th>2</th><td>'a'</td><td>4</td><td>0.55903</td></tr><tr><th>3</th><td>'a'</td><td>7</td><td>0.55903</td></tr><tr><th>4</th><td>'a'</td><td>12</td><td>0.55903</td></tr><tr><th>5</th><td>'a'</td><td>30</td><td>0.55903</td></tr><tr><th>6</th><td>'a'</td><td>32</td><td>0.55903</td></tr><tr><th>7</th><td>'a'</td><td>40</td><td>0.55903</td></tr><tr><th>8</th><td>'a'</td><td>47</td><td>0.55903</td></tr><tr><th>9</th><td>'a'</td><td>49</td><td>0.55903</td></tr><tr><th>10</th><td>'a'</td><td>52</td><td>0.55903</td></tr><tr><th>11</th><td>'a'</td><td>65</td><td>0.55903</td></tr><tr><th>12</th><td>'a'</td><td>66</td><td>0.55903</td></tr><tr><th>13</th><td>'a'</td><td>74</td><td>0.55903</td></tr><tr><th>14</th><td>'a'</td><td>78</td><td>0.55903</td></tr><tr><th>15</th><td>'a'</td><td>80</td><td>0.55903</td></tr><tr><th>&vellip;</th><td>&vellip;</td><td>&vellip;</td><td>&vellip;</td></tr></tbody></table>"
      ],
      "text/latex": [
       "\\begin{tabular}{r|ccc}\n",
       "\t& id & id2 & v\\_mean\\\\\n",
       "\t\\hline\n",
       "\t& Char & Int64 & Float64\\\\\n",
       "\t\\hline\n",
       "\t1 & 'a' & 1 & 0.55903 \\\\\n",
       "\t2 & 'a' & 4 & 0.55903 \\\\\n",
       "\t3 & 'a' & 7 & 0.55903 \\\\\n",
       "\t4 & 'a' & 12 & 0.55903 \\\\\n",
       "\t5 & 'a' & 30 & 0.55903 \\\\\n",
       "\t6 & 'a' & 32 & 0.55903 \\\\\n",
       "\t7 & 'a' & 40 & 0.55903 \\\\\n",
       "\t8 & 'a' & 47 & 0.55903 \\\\\n",
       "\t9 & 'a' & 49 & 0.55903 \\\\\n",
       "\t10 & 'a' & 52 & 0.55903 \\\\\n",
       "\t11 & 'a' & 65 & 0.55903 \\\\\n",
       "\t12 & 'a' & 66 & 0.55903 \\\\\n",
       "\t13 & 'a' & 74 & 0.55903 \\\\\n",
       "\t14 & 'a' & 78 & 0.55903 \\\\\n",
       "\t15 & 'a' & 80 & 0.55903 \\\\\n",
       "\t$\\dots$ & $\\dots$ & $\\dots$ & $\\dots$ \\\\\n",
       "\\end{tabular}\n"
      ],
      "text/plain": [
       "100×3 DataFrame\n",
       "│ Row │ id   │ id2   │ v_mean   │\n",
       "│     │ \u001b[90mChar\u001b[39m │ \u001b[90mInt64\u001b[39m │ \u001b[90mFloat64\u001b[39m  │\n",
       "├─────┼──────┼───────┼──────────┤\n",
       "│ 1   │ 'a'  │ 1     │ 0.55903  │\n",
       "│ 2   │ 'a'  │ 4     │ 0.55903  │\n",
       "│ 3   │ 'a'  │ 7     │ 0.55903  │\n",
       "⋮\n",
       "│ 97  │ 'b'  │ 92    │ 0.584039 │\n",
       "│ 98  │ 'b'  │ 94    │ 0.584039 │\n",
       "│ 99  │ 'b'  │ 96    │ 0.584039 │\n",
       "│ 100 │ 'b'  │ 98    │ 0.584039 │"
      ]
     },
     "execution_count": 31,
     "metadata": {},
     "output_type": "execute_result"
    }
   ],
   "source": [
    "# note that combine reorders rows by group of GroupedDataFrame\n",
    "@pipe x |> groupby(_, :id) |> combine(_, :id2, :v=>mean)"
   ]
  },
  {
   "cell_type": "code",
   "execution_count": 32,
   "metadata": {},
   "outputs": [
    {
     "data": {
      "text/html": [
       "<table class=\"data-frame\"><thead><tr><th></th><th>id</th><th>res</th></tr><tr><th></th><th>Char</th><th>Float64</th></tr></thead><tbody><p>4 rows × 2 columns</p><tr><th>1</th><td>'a'</td><td>0.55903</td></tr><tr><th>2</th><td>'c'</td><td>0.448484</td></tr><tr><th>3</th><td>'d'</td><td>0.562074</td></tr><tr><th>4</th><td>'b'</td><td>0.584039</td></tr></tbody></table>"
      ],
      "text/latex": [
       "\\begin{tabular}{r|cc}\n",
       "\t& id & res\\\\\n",
       "\t\\hline\n",
       "\t& Char & Float64\\\\\n",
       "\t\\hline\n",
       "\t1 & 'a' & 0.55903 \\\\\n",
       "\t2 & 'c' & 0.448484 \\\\\n",
       "\t3 & 'd' & 0.562074 \\\\\n",
       "\t4 & 'b' & 0.584039 \\\\\n",
       "\\end{tabular}\n"
      ],
      "text/plain": [
       "4×2 DataFrame\n",
       "│ Row │ id   │ res      │\n",
       "│     │ \u001b[90mChar\u001b[39m │ \u001b[90mFloat64\u001b[39m  │\n",
       "├─────┼──────┼──────────┤\n",
       "│ 1   │ 'a'  │ 0.55903  │\n",
       "│ 2   │ 'c'  │ 0.448484 │\n",
       "│ 3   │ 'd'  │ 0.562074 │\n",
       "│ 4   │ 'b'  │ 0.584039 │"
      ]
     },
     "execution_count": 32,
     "metadata": {},
     "output_type": "execute_result"
    }
   ],
   "source": [
    "# we give a custom name for the result column\n",
    "@pipe x |> groupby(_, :id) |> combine(_, :v=>mean=>:res)"
   ]
  },
  {
   "cell_type": "code",
   "execution_count": 33,
   "metadata": {},
   "outputs": [
    {
     "data": {
      "text/html": [
       "<table class=\"data-frame\"><thead><tr><th></th><th>id</th><th>res1</th><th>res2</th><th>n</th></tr><tr><th></th><th>Char</th><th>Float64</th><th>Float64</th><th>Int64</th></tr></thead><tbody><p>4 rows × 4 columns</p><tr><th>1</th><td>'a'</td><td>0.55903</td><td>11.7396</td><td>21</td></tr><tr><th>2</th><td>'c'</td><td>0.448484</td><td>12.5576</td><td>28</td></tr><tr><th>3</th><td>'d'</td><td>0.562074</td><td>16.8622</td><td>30</td></tr><tr><th>4</th><td>'b'</td><td>0.584039</td><td>12.2648</td><td>21</td></tr></tbody></table>"
      ],
      "text/latex": [
       "\\begin{tabular}{r|cccc}\n",
       "\t& id & res1 & res2 & n\\\\\n",
       "\t\\hline\n",
       "\t& Char & Float64 & Float64 & Int64\\\\\n",
       "\t\\hline\n",
       "\t1 & 'a' & 0.55903 & 11.7396 & 21 \\\\\n",
       "\t2 & 'c' & 0.448484 & 12.5576 & 28 \\\\\n",
       "\t3 & 'd' & 0.562074 & 16.8622 & 30 \\\\\n",
       "\t4 & 'b' & 0.584039 & 12.2648 & 21 \\\\\n",
       "\\end{tabular}\n"
      ],
      "text/plain": [
       "4×4 DataFrame\n",
       "│ Row │ id   │ res1     │ res2    │ n     │\n",
       "│     │ \u001b[90mChar\u001b[39m │ \u001b[90mFloat64\u001b[39m  │ \u001b[90mFloat64\u001b[39m │ \u001b[90mInt64\u001b[39m │\n",
       "├─────┼──────┼──────────┼─────────┼───────┤\n",
       "│ 1   │ 'a'  │ 0.55903  │ 11.7396 │ 21    │\n",
       "│ 2   │ 'c'  │ 0.448484 │ 12.5576 │ 28    │\n",
       "│ 3   │ 'd'  │ 0.562074 │ 16.8622 │ 30    │\n",
       "│ 4   │ 'b'  │ 0.584039 │ 12.2648 │ 21    │"
      ]
     },
     "execution_count": 33,
     "metadata": {},
     "output_type": "execute_result"
    }
   ],
   "source": [
    "# you can have multiple operations\n",
    "@pipe x |> groupby(_, :id) |> combine(_, :v=>mean=>:res1, :v=>sum=>:res2, nrow=>:n)"
   ]
  },
  {
   "cell_type": "markdown",
   "metadata": {},
   "source": [
    "Additional notes:\n",
    "* `select!` and `transform!` perform operations in-place\n",
    "* The general syntax for transformation is `source_columns => function => target_column`\n",
    "* if you pass multiple columns to a function they are treated as positional arguments\n",
    "* `ByRow` and `AsTable` work exactly like discussed for operations on data frames in 05_columns.ipynb\n",
    "* you can automatically groupby again the result of `combine`, `select` etc. by passing `ungroup=false` keyword argument to them\n",
    "* similarly `keepkeys` keyword argument allows you to drop grouping columns from the resulting data frame"
   ]
  },
  {
   "cell_type": "markdown",
   "metadata": {},
   "source": [
    "As a special case `combine` supports passing a function (or `source_columns => function`) as its first argument. In this case the return value can be a table (not necessarily a single column). In particular it allows for an easy dropping of groups if you return an empty table from the function.\n",
    "\n",
    "If you pass a function you can use a `do` block syntax. In case of passing a function it gets a `SubDataFrame` as its argument.\n",
    "\n",
    "Here is an example:"
   ]
  },
  {
   "cell_type": "code",
   "execution_count": 34,
   "metadata": {},
   "outputs": [
    {
     "data": {
      "text/html": [
       "<table class=\"data-frame\"><thead><tr><th></th><th>id</th><th>n</th></tr><tr><th></th><th>Char</th><th>Int64</th></tr></thead><tbody><p>2 rows × 2 columns</p><tr><th>1</th><td>'c'</td><td>28</td></tr><tr><th>2</th><td>'d'</td><td>30</td></tr></tbody></table>"
      ],
      "text/latex": [
       "\\begin{tabular}{r|cc}\n",
       "\t& id & n\\\\\n",
       "\t\\hline\n",
       "\t& Char & Int64\\\\\n",
       "\t\\hline\n",
       "\t1 & 'c' & 28 \\\\\n",
       "\t2 & 'd' & 30 \\\\\n",
       "\\end{tabular}\n"
      ],
      "text/plain": [
       "2×2 DataFrame\n",
       "│ Row │ id   │ n     │\n",
       "│     │ \u001b[90mChar\u001b[39m │ \u001b[90mInt64\u001b[39m │\n",
       "├─────┼──────┼───────┤\n",
       "│ 1   │ 'c'  │ 28    │\n",
       "│ 2   │ 'd'  │ 30    │"
      ]
     },
     "execution_count": 34,
     "metadata": {},
     "output_type": "execute_result"
    }
   ],
   "source": [
    "combine(groupby(x, :id)) do sdf\n",
    "    n = nrow(sdf)\n",
    "    n < 25 ? DataFrame() : DataFrame(n=n) # drop groups with low number of rows\n",
    "end"
   ]
  },
  {
   "cell_type": "markdown",
   "metadata": {},
   "source": [
    "### Aggregation of a data frame using `mapcols`"
   ]
  },
  {
   "cell_type": "code",
   "execution_count": 35,
   "metadata": {},
   "outputs": [
    {
     "data": {
      "text/html": [
       "<table class=\"data-frame\"><thead><tr><th></th><th>x1</th><th>x2</th><th>x3</th><th>x4</th><th>x5</th><th>x6</th><th>x7</th><th>x8</th></tr><tr><th></th><th>Float64</th><th>Float64</th><th>Float64</th><th>Float64</th><th>Float64</th><th>Float64</th><th>Float64</th><th>Float64</th></tr></thead><tbody><p>10 rows × 10 columns (omitted printing of 2 columns)</p><tr><th>1</th><td>0.699537</td><td>0.690756</td><td>0.0202461</td><td>0.0441678</td><td>0.541186</td><td>0.356608</td><td>0.946029</td><td>0.562003</td></tr><tr><th>2</th><td>0.859556</td><td>0.458333</td><td>0.256959</td><td>0.765945</td><td>0.880905</td><td>0.978064</td><td>0.740611</td><td>0.248021</td></tr><tr><th>3</th><td>0.444702</td><td>0.987374</td><td>0.609566</td><td>0.279643</td><td>0.980609</td><td>0.817787</td><td>0.480741</td><td>0.279605</td></tr><tr><th>4</th><td>0.757521</td><td>0.502225</td><td>0.502225</td><td>0.38666</td><td>0.355246</td><td>0.771853</td><td>0.413771</td><td>0.671273</td></tr><tr><th>5</th><td>0.20075</td><td>0.947523</td><td>0.00398774</td><td>0.430645</td><td>0.599754</td><td>0.235945</td><td>0.145514</td><td>0.725926</td></tr><tr><th>6</th><td>0.127764</td><td>0.266831</td><td>0.906741</td><td>0.267865</td><td>0.0108293</td><td>0.637281</td><td>0.66997</td><td>0.655019</td></tr><tr><th>7</th><td>0.725646</td><td>0.782385</td><td>0.594094</td><td>0.33725</td><td>0.136704</td><td>0.352221</td><td>0.833425</td><td>0.128562</td></tr><tr><th>8</th><td>0.0748551</td><td>0.273572</td><td>0.238402</td><td>0.77553</td><td>0.108553</td><td>0.785024</td><td>0.316809</td><td>0.173973</td></tr><tr><th>9</th><td>0.578663</td><td>0.19875</td><td>0.191257</td><td>0.243014</td><td>0.39303</td><td>0.481783</td><td>0.37758</td><td>0.300757</td></tr><tr><th>10</th><td>0.0845918</td><td>0.431885</td><td>0.283581</td><td>0.203846</td><td>0.639062</td><td>0.769662</td><td>0.205984</td><td>0.040763</td></tr></tbody></table>"
      ],
      "text/latex": [
       "\\begin{tabular}{r|ccccccccc}\n",
       "\t& x1 & x2 & x3 & x4 & x5 & x6 & x7 & x8 & \\\\\n",
       "\t\\hline\n",
       "\t& Float64 & Float64 & Float64 & Float64 & Float64 & Float64 & Float64 & Float64 & \\\\\n",
       "\t\\hline\n",
       "\t1 & 0.699537 & 0.690756 & 0.0202461 & 0.0441678 & 0.541186 & 0.356608 & 0.946029 & 0.562003 & $\\dots$ \\\\\n",
       "\t2 & 0.859556 & 0.458333 & 0.256959 & 0.765945 & 0.880905 & 0.978064 & 0.740611 & 0.248021 & $\\dots$ \\\\\n",
       "\t3 & 0.444702 & 0.987374 & 0.609566 & 0.279643 & 0.980609 & 0.817787 & 0.480741 & 0.279605 & $\\dots$ \\\\\n",
       "\t4 & 0.757521 & 0.502225 & 0.502225 & 0.38666 & 0.355246 & 0.771853 & 0.413771 & 0.671273 & $\\dots$ \\\\\n",
       "\t5 & 0.20075 & 0.947523 & 0.00398774 & 0.430645 & 0.599754 & 0.235945 & 0.145514 & 0.725926 & $\\dots$ \\\\\n",
       "\t6 & 0.127764 & 0.266831 & 0.906741 & 0.267865 & 0.0108293 & 0.637281 & 0.66997 & 0.655019 & $\\dots$ \\\\\n",
       "\t7 & 0.725646 & 0.782385 & 0.594094 & 0.33725 & 0.136704 & 0.352221 & 0.833425 & 0.128562 & $\\dots$ \\\\\n",
       "\t8 & 0.0748551 & 0.273572 & 0.238402 & 0.77553 & 0.108553 & 0.785024 & 0.316809 & 0.173973 & $\\dots$ \\\\\n",
       "\t9 & 0.578663 & 0.19875 & 0.191257 & 0.243014 & 0.39303 & 0.481783 & 0.37758 & 0.300757 & $\\dots$ \\\\\n",
       "\t10 & 0.0845918 & 0.431885 & 0.283581 & 0.203846 & 0.639062 & 0.769662 & 0.205984 & 0.040763 & $\\dots$ \\\\\n",
       "\\end{tabular}\n"
      ],
      "text/plain": [
       "10×10 DataFrame. Omitted printing of 4 columns\n",
       "│ Row │ x1        │ x2       │ x3        │ x4        │ x5       │ x6       │\n",
       "│     │ \u001b[90mFloat64\u001b[39m   │ \u001b[90mFloat64\u001b[39m  │ \u001b[90mFloat64\u001b[39m   │ \u001b[90mFloat64\u001b[39m   │ \u001b[90mFloat64\u001b[39m  │ \u001b[90mFloat64\u001b[39m  │\n",
       "├─────┼───────────┼──────────┼───────────┼───────────┼──────────┼──────────┤\n",
       "│ 1   │ 0.699537  │ 0.690756 │ 0.0202461 │ 0.0441678 │ 0.541186 │ 0.356608 │\n",
       "│ 2   │ 0.859556  │ 0.458333 │ 0.256959  │ 0.765945  │ 0.880905 │ 0.978064 │\n",
       "│ 3   │ 0.444702  │ 0.987374 │ 0.609566  │ 0.279643  │ 0.980609 │ 0.817787 │\n",
       "⋮\n",
       "│ 7   │ 0.725646  │ 0.782385 │ 0.594094  │ 0.33725   │ 0.136704 │ 0.352221 │\n",
       "│ 8   │ 0.0748551 │ 0.273572 │ 0.238402  │ 0.77553   │ 0.108553 │ 0.785024 │\n",
       "│ 9   │ 0.578663  │ 0.19875  │ 0.191257  │ 0.243014  │ 0.39303  │ 0.481783 │\n",
       "│ 10  │ 0.0845918 │ 0.431885 │ 0.283581  │ 0.203846  │ 0.639062 │ 0.769662 │"
      ]
     },
     "execution_count": 35,
     "metadata": {},
     "output_type": "execute_result"
    }
   ],
   "source": [
    "x = DataFrame(rand(10, 10))"
   ]
  },
  {
   "cell_type": "code",
   "execution_count": 36,
   "metadata": {},
   "outputs": [
    {
     "data": {
      "text/html": [
       "<table class=\"data-frame\"><thead><tr><th></th><th>x1</th><th>x2</th><th>x3</th><th>x4</th><th>x5</th><th>x6</th><th>x7</th><th>x8</th><th>x9</th></tr><tr><th></th><th>Float64</th><th>Float64</th><th>Float64</th><th>Float64</th><th>Float64</th><th>Float64</th><th>Float64</th><th>Float64</th><th>Float64</th></tr></thead><tbody><p>1 rows × 10 columns (omitted printing of 1 columns)</p><tr><th>1</th><td>0.455359</td><td>0.553963</td><td>0.360706</td><td>0.373457</td><td>0.464588</td><td>0.618623</td><td>0.513043</td><td>0.37859</td><td>0.34916</td></tr></tbody></table>"
      ],
      "text/latex": [
       "\\begin{tabular}{r|cccccccccc}\n",
       "\t& x1 & x2 & x3 & x4 & x5 & x6 & x7 & x8 & x9 & \\\\\n",
       "\t\\hline\n",
       "\t& Float64 & Float64 & Float64 & Float64 & Float64 & Float64 & Float64 & Float64 & Float64 & \\\\\n",
       "\t\\hline\n",
       "\t1 & 0.455359 & 0.553963 & 0.360706 & 0.373457 & 0.464588 & 0.618623 & 0.513043 & 0.37859 & 0.34916 & $\\dots$ \\\\\n",
       "\\end{tabular}\n"
      ],
      "text/plain": [
       "1×10 DataFrame. Omitted printing of 4 columns\n",
       "│ Row │ x1       │ x2       │ x3       │ x4       │ x5       │ x6       │\n",
       "│     │ \u001b[90mFloat64\u001b[39m  │ \u001b[90mFloat64\u001b[39m  │ \u001b[90mFloat64\u001b[39m  │ \u001b[90mFloat64\u001b[39m  │ \u001b[90mFloat64\u001b[39m  │ \u001b[90mFloat64\u001b[39m  │\n",
       "├─────┼──────────┼──────────┼──────────┼──────────┼──────────┼──────────┤\n",
       "│ 1   │ 0.455359 │ 0.553963 │ 0.360706 │ 0.373457 │ 0.464588 │ 0.618623 │"
      ]
     },
     "execution_count": 36,
     "metadata": {},
     "output_type": "execute_result"
    }
   ],
   "source": [
    "mapcols(mean, x)"
   ]
  },
  {
   "cell_type": "markdown",
   "metadata": {},
   "source": [
    "### Mapping rows and columns using `eachcol` and `eachrow`"
   ]
  },
  {
   "cell_type": "code",
   "execution_count": 37,
   "metadata": {},
   "outputs": [
    {
     "data": {
      "text/plain": [
       "10-element Array{Float64,1}:\n",
       " 0.4553587210118186\n",
       " 0.5539632875669035\n",
       " 0.3607058090138871\n",
       " 0.3734565379729605\n",
       " 0.46458783013334576\n",
       " 0.6186227076365912\n",
       " 0.5130433961348055\n",
       " 0.37859019147738027\n",
       " 0.34915994633142927\n",
       " 0.4617615335181361"
      ]
     },
     "execution_count": 37,
     "metadata": {},
     "output_type": "execute_result"
    }
   ],
   "source": [
    "map(mean, eachcol(x)) # map a function over each column and return a vector"
   ]
  },
  {
   "cell_type": "code",
   "execution_count": 38,
   "metadata": {},
   "outputs": [
    {
     "name": "stdout",
     "output_type": "stream",
     "text": [
      "x1: 0.4553587210118186\n",
      "x2: 0.5539632875669035\n",
      "x3: 0.3607058090138871\n",
      "x4: 0.3734565379729605\n",
      "x5: 0.46458783013334576\n",
      "x6: 0.6186227076365912\n",
      "x7: 0.5130433961348055\n",
      "x8: 0.37859019147738027\n",
      "x9: 0.34915994633142927\n",
      "x10: 0.4617615335181361\n"
     ]
    }
   ],
   "source": [
    "# an iteration returns a Pair with column name and values\n",
    "foreach(c -> println(c[1], \": \", mean(c[2])), pairs(eachcol(x)))"
   ]
  },
  {
   "cell_type": "code",
   "execution_count": 39,
   "metadata": {},
   "outputs": [
    {
     "data": {
      "text/plain": [
       "10-element Array{Float64,1}:\n",
       " 1.0127120539536034\n",
       " 1.8753949320995449\n",
       " 0.4503889233746775\n",
       " 1.5083303604397296\n",
       " 0.21186830896522074\n",
       " 0.4788209282465344\n",
       " 0.9274800681070121\n",
       " 0.2736216348742381\n",
       " 2.9115190621769718\n",
       " 0.19586662967445118"
      ]
     },
     "execution_count": 39,
     "metadata": {},
     "output_type": "execute_result"
    }
   ],
   "source": [
    "# now the returned value is DataFrameRow which works as a NamedTuple but is a view to a parent DataFrame\n",
    "map(r -> r.x1/r.x2, eachrow(x))"
   ]
  },
  {
   "cell_type": "code",
   "execution_count": 40,
   "metadata": {},
   "outputs": [
    {
     "data": {
      "text/html": [
       "<p>10×10 DataFrameRows</p><table class=\"data-frame\"><thead><tr><th></th><th>x1</th><th>x2</th><th>x3</th><th>x4</th><th>x5</th><th>x6</th><th>x7</th><th>x8</th></tr><tr><th></th><th>Float64</th><th>Float64</th><th>Float64</th><th>Float64</th><th>Float64</th><th>Float64</th><th>Float64</th><th>Float64</th></tr></thead><tbody><tr><th>1</th><td>0.699537</td><td>0.690756</td><td>0.0202461</td><td>0.0441678</td><td>0.541186</td><td>0.356608</td><td>0.946029</td><td>0.562003</td></tr><tr><th>2</th><td>0.859556</td><td>0.458333</td><td>0.256959</td><td>0.765945</td><td>0.880905</td><td>0.978064</td><td>0.740611</td><td>0.248021</td></tr><tr><th>3</th><td>0.444702</td><td>0.987374</td><td>0.609566</td><td>0.279643</td><td>0.980609</td><td>0.817787</td><td>0.480741</td><td>0.279605</td></tr><tr><th>4</th><td>0.757521</td><td>0.502225</td><td>0.502225</td><td>0.38666</td><td>0.355246</td><td>0.771853</td><td>0.413771</td><td>0.671273</td></tr><tr><th>5</th><td>0.20075</td><td>0.947523</td><td>0.00398774</td><td>0.430645</td><td>0.599754</td><td>0.235945</td><td>0.145514</td><td>0.725926</td></tr><tr><th>6</th><td>0.127764</td><td>0.266831</td><td>0.906741</td><td>0.267865</td><td>0.0108293</td><td>0.637281</td><td>0.66997</td><td>0.655019</td></tr><tr><th>7</th><td>0.725646</td><td>0.782385</td><td>0.594094</td><td>0.33725</td><td>0.136704</td><td>0.352221</td><td>0.833425</td><td>0.128562</td></tr><tr><th>8</th><td>0.0748551</td><td>0.273572</td><td>0.238402</td><td>0.77553</td><td>0.108553</td><td>0.785024</td><td>0.316809</td><td>0.173973</td></tr><tr><th>9</th><td>0.578663</td><td>0.19875</td><td>0.191257</td><td>0.243014</td><td>0.39303</td><td>0.481783</td><td>0.37758</td><td>0.300757</td></tr><tr><th>10</th><td>0.0845918</td><td>0.431885</td><td>0.283581</td><td>0.203846</td><td>0.639062</td><td>0.769662</td><td>0.205984</td><td>0.040763</td></tr></tbody></table>"
      ],
      "text/latex": [
       "\\begin{tabular}{r|ccccccccc}\n",
       "\t& x1 & x2 & x3 & x4 & x5 & x6 & x7 & x8 & \\\\\n",
       "\t\\hline\n",
       "\t& Float64 & Float64 & Float64 & Float64 & Float64 & Float64 & Float64 & Float64 & \\\\\n",
       "\t\\hline\n",
       "\t1 & 0.699537 & 0.690756 & 0.0202461 & 0.0441678 & 0.541186 & 0.356608 & 0.946029 & 0.562003 & $\\dots$ \\\\\n",
       "\t2 & 0.859556 & 0.458333 & 0.256959 & 0.765945 & 0.880905 & 0.978064 & 0.740611 & 0.248021 & $\\dots$ \\\\\n",
       "\t3 & 0.444702 & 0.987374 & 0.609566 & 0.279643 & 0.980609 & 0.817787 & 0.480741 & 0.279605 & $\\dots$ \\\\\n",
       "\t4 & 0.757521 & 0.502225 & 0.502225 & 0.38666 & 0.355246 & 0.771853 & 0.413771 & 0.671273 & $\\dots$ \\\\\n",
       "\t5 & 0.20075 & 0.947523 & 0.00398774 & 0.430645 & 0.599754 & 0.235945 & 0.145514 & 0.725926 & $\\dots$ \\\\\n",
       "\t6 & 0.127764 & 0.266831 & 0.906741 & 0.267865 & 0.0108293 & 0.637281 & 0.66997 & 0.655019 & $\\dots$ \\\\\n",
       "\t7 & 0.725646 & 0.782385 & 0.594094 & 0.33725 & 0.136704 & 0.352221 & 0.833425 & 0.128562 & $\\dots$ \\\\\n",
       "\t8 & 0.0748551 & 0.273572 & 0.238402 & 0.77553 & 0.108553 & 0.785024 & 0.316809 & 0.173973 & $\\dots$ \\\\\n",
       "\t9 & 0.578663 & 0.19875 & 0.191257 & 0.243014 & 0.39303 & 0.481783 & 0.37758 & 0.300757 & $\\dots$ \\\\\n",
       "\t10 & 0.0845918 & 0.431885 & 0.283581 & 0.203846 & 0.639062 & 0.769662 & 0.205984 & 0.040763 & $\\dots$ \\\\\n",
       "\\end{tabular}\n"
      ],
      "text/plain": [
       "10×10 DataFrameRows. Omitted printing of 4 columns\n",
       "│ Row │ x1        │ x2       │ x3        │ x4        │ x5       │ x6       │\n",
       "│     │ \u001b[90mFloat64\u001b[39m   │ \u001b[90mFloat64\u001b[39m  │ \u001b[90mFloat64\u001b[39m   │ \u001b[90mFloat64\u001b[39m   │ \u001b[90mFloat64\u001b[39m  │ \u001b[90mFloat64\u001b[39m  │\n",
       "├─────┼───────────┼──────────┼───────────┼───────────┼──────────┼──────────┤\n",
       "│ 1   │ 0.699537  │ 0.690756 │ 0.0202461 │ 0.0441678 │ 0.541186 │ 0.356608 │\n",
       "│ 2   │ 0.859556  │ 0.458333 │ 0.256959  │ 0.765945  │ 0.880905 │ 0.978064 │\n",
       "│ 3   │ 0.444702  │ 0.987374 │ 0.609566  │ 0.279643  │ 0.980609 │ 0.817787 │\n",
       "⋮\n",
       "│ 7   │ 0.725646  │ 0.782385 │ 0.594094  │ 0.33725   │ 0.136704 │ 0.352221 │\n",
       "│ 8   │ 0.0748551 │ 0.273572 │ 0.238402  │ 0.77553   │ 0.108553 │ 0.785024 │\n",
       "│ 9   │ 0.578663  │ 0.19875  │ 0.191257  │ 0.243014  │ 0.39303  │ 0.481783 │\n",
       "│ 10  │ 0.0845918 │ 0.431885 │ 0.283581  │ 0.203846  │ 0.639062 │ 0.769662 │"
      ]
     },
     "execution_count": 40,
     "metadata": {},
     "output_type": "execute_result"
    }
   ],
   "source": [
    "# it prints like a data frame, only the caption is different so that you know the type of the object\n",
    "er = eachrow(x)"
   ]
  },
  {
   "cell_type": "code",
   "execution_count": 41,
   "metadata": {},
   "outputs": [
    {
     "data": {
      "text/plain": [
       "10-element Array{Float64,1}:\n",
       " 0.6995369083921843\n",
       " 0.859555811172676\n",
       " 0.44470235873549924\n",
       " 0.7575213122413824\n",
       " 0.20075005400832024\n",
       " 0.12776437720077927\n",
       " 0.7256461302224049\n",
       " 0.07485514104662538\n",
       " 0.5786633548942388\n",
       " 0.08459176220407594"
      ]
     },
     "execution_count": 41,
     "metadata": {},
     "output_type": "execute_result"
    }
   ],
   "source": [
    "er.x1 # you can access columns of a parent data frame directly"
   ]
  },
  {
   "cell_type": "code",
   "execution_count": 42,
   "metadata": {},
   "outputs": [
    {
     "data": {
      "text/html": [
       "<p>10×10 DataFrameColumns</p><table class=\"data-frame\"><thead><tr><th></th><th>x1</th><th>x2</th><th>x3</th><th>x4</th><th>x5</th><th>x6</th><th>x7</th><th>x8</th></tr><tr><th></th><th>Float64</th><th>Float64</th><th>Float64</th><th>Float64</th><th>Float64</th><th>Float64</th><th>Float64</th><th>Float64</th></tr></thead><tbody><tr><th>1</th><td>0.699537</td><td>0.690756</td><td>0.0202461</td><td>0.0441678</td><td>0.541186</td><td>0.356608</td><td>0.946029</td><td>0.562003</td></tr><tr><th>2</th><td>0.859556</td><td>0.458333</td><td>0.256959</td><td>0.765945</td><td>0.880905</td><td>0.978064</td><td>0.740611</td><td>0.248021</td></tr><tr><th>3</th><td>0.444702</td><td>0.987374</td><td>0.609566</td><td>0.279643</td><td>0.980609</td><td>0.817787</td><td>0.480741</td><td>0.279605</td></tr><tr><th>4</th><td>0.757521</td><td>0.502225</td><td>0.502225</td><td>0.38666</td><td>0.355246</td><td>0.771853</td><td>0.413771</td><td>0.671273</td></tr><tr><th>5</th><td>0.20075</td><td>0.947523</td><td>0.00398774</td><td>0.430645</td><td>0.599754</td><td>0.235945</td><td>0.145514</td><td>0.725926</td></tr><tr><th>6</th><td>0.127764</td><td>0.266831</td><td>0.906741</td><td>0.267865</td><td>0.0108293</td><td>0.637281</td><td>0.66997</td><td>0.655019</td></tr><tr><th>7</th><td>0.725646</td><td>0.782385</td><td>0.594094</td><td>0.33725</td><td>0.136704</td><td>0.352221</td><td>0.833425</td><td>0.128562</td></tr><tr><th>8</th><td>0.0748551</td><td>0.273572</td><td>0.238402</td><td>0.77553</td><td>0.108553</td><td>0.785024</td><td>0.316809</td><td>0.173973</td></tr><tr><th>9</th><td>0.578663</td><td>0.19875</td><td>0.191257</td><td>0.243014</td><td>0.39303</td><td>0.481783</td><td>0.37758</td><td>0.300757</td></tr><tr><th>10</th><td>0.0845918</td><td>0.431885</td><td>0.283581</td><td>0.203846</td><td>0.639062</td><td>0.769662</td><td>0.205984</td><td>0.040763</td></tr></tbody></table>"
      ],
      "text/latex": [
       "\\begin{tabular}{r|ccccccccc}\n",
       "\t& x1 & x2 & x3 & x4 & x5 & x6 & x7 & x8 & \\\\\n",
       "\t\\hline\n",
       "\t& Float64 & Float64 & Float64 & Float64 & Float64 & Float64 & Float64 & Float64 & \\\\\n",
       "\t\\hline\n",
       "\t1 & 0.699537 & 0.690756 & 0.0202461 & 0.0441678 & 0.541186 & 0.356608 & 0.946029 & 0.562003 & $\\dots$ \\\\\n",
       "\t2 & 0.859556 & 0.458333 & 0.256959 & 0.765945 & 0.880905 & 0.978064 & 0.740611 & 0.248021 & $\\dots$ \\\\\n",
       "\t3 & 0.444702 & 0.987374 & 0.609566 & 0.279643 & 0.980609 & 0.817787 & 0.480741 & 0.279605 & $\\dots$ \\\\\n",
       "\t4 & 0.757521 & 0.502225 & 0.502225 & 0.38666 & 0.355246 & 0.771853 & 0.413771 & 0.671273 & $\\dots$ \\\\\n",
       "\t5 & 0.20075 & 0.947523 & 0.00398774 & 0.430645 & 0.599754 & 0.235945 & 0.145514 & 0.725926 & $\\dots$ \\\\\n",
       "\t6 & 0.127764 & 0.266831 & 0.906741 & 0.267865 & 0.0108293 & 0.637281 & 0.66997 & 0.655019 & $\\dots$ \\\\\n",
       "\t7 & 0.725646 & 0.782385 & 0.594094 & 0.33725 & 0.136704 & 0.352221 & 0.833425 & 0.128562 & $\\dots$ \\\\\n",
       "\t8 & 0.0748551 & 0.273572 & 0.238402 & 0.77553 & 0.108553 & 0.785024 & 0.316809 & 0.173973 & $\\dots$ \\\\\n",
       "\t9 & 0.578663 & 0.19875 & 0.191257 & 0.243014 & 0.39303 & 0.481783 & 0.37758 & 0.300757 & $\\dots$ \\\\\n",
       "\t10 & 0.0845918 & 0.431885 & 0.283581 & 0.203846 & 0.639062 & 0.769662 & 0.205984 & 0.040763 & $\\dots$ \\\\\n",
       "\\end{tabular}\n"
      ],
      "text/plain": [
       "10×10 DataFrameColumns. Omitted printing of 4 columns\n",
       "│ Row │ x1        │ x2       │ x3        │ x4        │ x5       │ x6       │\n",
       "│     │ \u001b[90mFloat64\u001b[39m   │ \u001b[90mFloat64\u001b[39m  │ \u001b[90mFloat64\u001b[39m   │ \u001b[90mFloat64\u001b[39m   │ \u001b[90mFloat64\u001b[39m  │ \u001b[90mFloat64\u001b[39m  │\n",
       "├─────┼───────────┼──────────┼───────────┼───────────┼──────────┼──────────┤\n",
       "│ 1   │ 0.699537  │ 0.690756 │ 0.0202461 │ 0.0441678 │ 0.541186 │ 0.356608 │\n",
       "│ 2   │ 0.859556  │ 0.458333 │ 0.256959  │ 0.765945  │ 0.880905 │ 0.978064 │\n",
       "│ 3   │ 0.444702  │ 0.987374 │ 0.609566  │ 0.279643  │ 0.980609 │ 0.817787 │\n",
       "⋮\n",
       "│ 7   │ 0.725646  │ 0.782385 │ 0.594094  │ 0.33725   │ 0.136704 │ 0.352221 │\n",
       "│ 8   │ 0.0748551 │ 0.273572 │ 0.238402  │ 0.77553   │ 0.108553 │ 0.785024 │\n",
       "│ 9   │ 0.578663  │ 0.19875  │ 0.191257  │ 0.243014  │ 0.39303  │ 0.481783 │\n",
       "│ 10  │ 0.0845918 │ 0.431885 │ 0.283581  │ 0.203846  │ 0.639062 │ 0.769662 │"
      ]
     },
     "execution_count": 42,
     "metadata": {},
     "output_type": "execute_result"
    }
   ],
   "source": [
    "# it prints like a data frame, only the caption is different so that you know the type of the object\n",
    "ec = eachcol(x)"
   ]
  },
  {
   "cell_type": "code",
   "execution_count": 43,
   "metadata": {},
   "outputs": [
    {
     "data": {
      "text/plain": [
       "10-element Array{Float64,1}:\n",
       " 0.6995369083921843\n",
       " 0.859555811172676\n",
       " 0.44470235873549924\n",
       " 0.7575213122413824\n",
       " 0.20075005400832024\n",
       " 0.12776437720077927\n",
       " 0.7256461302224049\n",
       " 0.07485514104662538\n",
       " 0.5786633548942388\n",
       " 0.08459176220407594"
      ]
     },
     "execution_count": 43,
     "metadata": {},
     "output_type": "execute_result"
    }
   ],
   "source": [
    "ec.x1 # you can access columns of a parent data frame directly"
   ]
  }
 ],
 "metadata": {
  "@webio": {
   "lastCommId": null,
   "lastKernelId": null
  },
  "kernelspec": {
   "display_name": "Julia 1.5.1",
   "language": "julia",
   "name": "julia-1.5"
  },
  "language_info": {
   "file_extension": ".jl",
   "mimetype": "application/julia",
   "name": "julia",
   "version": "1.5.1"
  }
 },
 "nbformat": 4,
 "nbformat_minor": 1
}
