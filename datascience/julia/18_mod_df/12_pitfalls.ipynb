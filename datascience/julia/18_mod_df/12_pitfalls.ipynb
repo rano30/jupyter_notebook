{
 "cells": [
  {
   "cell_type": "markdown",
   "metadata": {},
   "source": [
    "Data Science Fundamentals: Julia |\n",
    "[Table of Contents](../index.ipynb)\n",
    "- - - \n",
    "<!--NAVIGATION-->\n",
    "Module 18. [Constructors](01_constructors.ipynb) | [Basic Information](02_basicinfo.ipynb) | [Missing Values](03_missingvalues.ipynb) | [Load Save](04_loadsave.ipynb) | [Columns](05_columns.ipynb) | [Rows](06_rows.ipynb) | [Factors](07_factors.ipynb) | [Joins](08_joins.ipynb) | [Reshaping](09_reshaping.ipynb) | [Transforms](10_transforms.ipynb) | [Performance](11_performance.ipynb) | **[Pitfalls](12_pitfalls.ipynb)** | [Extras](13_extras.ipynb)"
   ]
  },
  {
   "cell_type": "code",
   "execution_count": 1,
   "metadata": {},
   "outputs": [],
   "source": [
    "using DataFrames"
   ]
  },
  {
   "cell_type": "markdown",
   "metadata": {},
   "source": [
    "## Possible pitfalls"
   ]
  },
  {
   "cell_type": "markdown",
   "metadata": {},
   "source": [
    "### Know what is copied when creating a `DataFrame`"
   ]
  },
  {
   "cell_type": "code",
   "execution_count": 2,
   "metadata": {},
   "outputs": [
    {
     "data": {
      "text/html": [
       "<table class=\"data-frame\"><thead><tr><th></th><th>x1</th><th>x2</th><th>x3</th><th>x4</th><th>x5</th></tr><tr><th></th><th>Float64</th><th>Float64</th><th>Float64</th><th>Float64</th><th>Float64</th></tr></thead><tbody><p>3 rows × 5 columns</p><tr><th>1</th><td>0.858673</td><td>0.79071</td><td>0.0230825</td><td>0.555414</td><td>0.24509</td></tr><tr><th>2</th><td>0.993829</td><td>0.177617</td><td>0.125274</td><td>0.548583</td><td>0.549459</td></tr><tr><th>3</th><td>0.732227</td><td>0.592261</td><td>0.216254</td><td>0.287079</td><td>0.285782</td></tr></tbody></table>"
      ],
      "text/latex": [
       "\\begin{tabular}{r|ccccc}\n",
       "\t& x1 & x2 & x3 & x4 & x5\\\\\n",
       "\t\\hline\n",
       "\t& Float64 & Float64 & Float64 & Float64 & Float64\\\\\n",
       "\t\\hline\n",
       "\t1 & 0.858673 & 0.79071 & 0.0230825 & 0.555414 & 0.24509 \\\\\n",
       "\t2 & 0.993829 & 0.177617 & 0.125274 & 0.548583 & 0.549459 \\\\\n",
       "\t3 & 0.732227 & 0.592261 & 0.216254 & 0.287079 & 0.285782 \\\\\n",
       "\\end{tabular}\n"
      ],
      "text/plain": [
       "3×5 DataFrame\n",
       "│ Row │ x1       │ x2       │ x3        │ x4       │ x5       │\n",
       "│     │ \u001b[90mFloat64\u001b[39m  │ \u001b[90mFloat64\u001b[39m  │ \u001b[90mFloat64\u001b[39m   │ \u001b[90mFloat64\u001b[39m  │ \u001b[90mFloat64\u001b[39m  │\n",
       "├─────┼──────────┼──────────┼───────────┼──────────┼──────────┤\n",
       "│ 1   │ 0.858673 │ 0.79071  │ 0.0230825 │ 0.555414 │ 0.24509  │\n",
       "│ 2   │ 0.993829 │ 0.177617 │ 0.125274  │ 0.548583 │ 0.549459 │\n",
       "│ 3   │ 0.732227 │ 0.592261 │ 0.216254  │ 0.287079 │ 0.285782 │"
      ]
     },
     "execution_count": 2,
     "metadata": {},
     "output_type": "execute_result"
    }
   ],
   "source": [
    "x = DataFrame(rand(3, 5))"
   ]
  },
  {
   "cell_type": "code",
   "execution_count": 3,
   "metadata": {},
   "outputs": [
    {
     "data": {
      "text/plain": [
       "true"
      ]
     },
     "execution_count": 3,
     "metadata": {},
     "output_type": "execute_result"
    }
   ],
   "source": [
    "y = convert(DataFrame, x)\n",
    "x === y # no copyinng performed"
   ]
  },
  {
   "cell_type": "code",
   "execution_count": 4,
   "metadata": {},
   "outputs": [
    {
     "data": {
      "text/plain": [
       "false"
      ]
     },
     "execution_count": 4,
     "metadata": {},
     "output_type": "execute_result"
    }
   ],
   "source": [
    "y = copy(x)\n",
    "x === y # not the same object"
   ]
  },
  {
   "cell_type": "code",
   "execution_count": 5,
   "metadata": {},
   "outputs": [
    {
     "data": {
      "text/plain": [
       "false"
      ]
     },
     "execution_count": 5,
     "metadata": {},
     "output_type": "execute_result"
    }
   ],
   "source": [
    "y = DataFrame(x)\n",
    "x === y"
   ]
  },
  {
   "cell_type": "code",
   "execution_count": 6,
   "metadata": {},
   "outputs": [
    {
     "data": {
      "text/plain": [
       "false"
      ]
     },
     "execution_count": 6,
     "metadata": {},
     "output_type": "execute_result"
    }
   ],
   "source": [
    "any(x[!, i] === y[!, i] for i in ncol(x)) # the columns are also not the same"
   ]
  },
  {
   "cell_type": "code",
   "execution_count": 7,
   "metadata": {},
   "outputs": [
    {
     "data": {
      "text/html": [
       "<table class=\"data-frame\"><thead><tr><th></th><th>x</th><th>y</th></tr><tr><th></th><th>Int64</th><th>Int64</th></tr></thead><tbody><p>3 rows × 2 columns</p><tr><th>1</th><td>1</td><td>1</td></tr><tr><th>2</th><td>2</td><td>2</td></tr><tr><th>3</th><td>3</td><td>3</td></tr></tbody></table>"
      ],
      "text/latex": [
       "\\begin{tabular}{r|cc}\n",
       "\t& x & y\\\\\n",
       "\t\\hline\n",
       "\t& Int64 & Int64\\\\\n",
       "\t\\hline\n",
       "\t1 & 1 & 1 \\\\\n",
       "\t2 & 2 & 2 \\\\\n",
       "\t3 & 3 & 3 \\\\\n",
       "\\end{tabular}\n"
      ],
      "text/plain": [
       "3×2 DataFrame\n",
       "│ Row │ x     │ y     │\n",
       "│     │ \u001b[90mInt64\u001b[39m │ \u001b[90mInt64\u001b[39m │\n",
       "├─────┼───────┼───────┤\n",
       "│ 1   │ 1     │ 1     │\n",
       "│ 2   │ 2     │ 2     │\n",
       "│ 3   │ 3     │ 3     │"
      ]
     },
     "execution_count": 7,
     "metadata": {},
     "output_type": "execute_result"
    }
   ],
   "source": [
    "x = 1:3; y = [1, 2, 3]; df = DataFrame(x=x,y=y) # the same when creating data frames"
   ]
  },
  {
   "cell_type": "code",
   "execution_count": 8,
   "metadata": {},
   "outputs": [
    {
     "data": {
      "text/plain": [
       "false"
      ]
     },
     "execution_count": 8,
     "metadata": {},
     "output_type": "execute_result"
    }
   ],
   "source": [
    "y === df.y # different object"
   ]
  },
  {
   "cell_type": "code",
   "execution_count": 9,
   "metadata": {},
   "outputs": [
    {
     "data": {
      "text/plain": [
       "(UnitRange{Int64}, Array{Int64,1})"
      ]
     },
     "execution_count": 9,
     "metadata": {},
     "output_type": "execute_result"
    }
   ],
   "source": [
    "typeof(x), typeof(df.x) # range is converted to a vector"
   ]
  },
  {
   "cell_type": "code",
   "execution_count": 10,
   "metadata": {},
   "outputs": [
    {
     "data": {
      "text/plain": [
       "false"
      ]
     },
     "execution_count": 10,
     "metadata": {},
     "output_type": "execute_result"
    }
   ],
   "source": [
    "y === df[:, :y] # slicing rows always creates a copy"
   ]
  },
  {
   "cell_type": "markdown",
   "metadata": {},
   "source": [
    "you can avoid copying by using `copycols=false` keyword argument in functions. In particular `DataFrame!` is a shorthand for a non-copying constructor."
   ]
  },
  {
   "cell_type": "code",
   "execution_count": 11,
   "metadata": {},
   "outputs": [
    {
     "data": {
      "text/html": [
       "<table class=\"data-frame\"><thead><tr><th></th><th>x</th><th>y</th></tr><tr><th></th><th>Int64</th><th>Int64</th></tr></thead><tbody><p>3 rows × 2 columns</p><tr><th>1</th><td>1</td><td>1</td></tr><tr><th>2</th><td>2</td><td>2</td></tr><tr><th>3</th><td>3</td><td>3</td></tr></tbody></table>"
      ],
      "text/latex": [
       "\\begin{tabular}{r|cc}\n",
       "\t& x & y\\\\\n",
       "\t\\hline\n",
       "\t& Int64 & Int64\\\\\n",
       "\t\\hline\n",
       "\t1 & 1 & 1 \\\\\n",
       "\t2 & 2 & 2 \\\\\n",
       "\t3 & 3 & 3 \\\\\n",
       "\\end{tabular}\n"
      ],
      "text/plain": [
       "3×2 DataFrame\n",
       "│ Row │ x     │ y     │\n",
       "│     │ \u001b[90mInt64\u001b[39m │ \u001b[90mInt64\u001b[39m │\n",
       "├─────┼───────┼───────┤\n",
       "│ 1   │ 1     │ 1     │\n",
       "│ 2   │ 2     │ 2     │\n",
       "│ 3   │ 3     │ 3     │"
      ]
     },
     "execution_count": 11,
     "metadata": {},
     "output_type": "execute_result"
    }
   ],
   "source": [
    "df = DataFrame!(x=x,y=y)"
   ]
  },
  {
   "cell_type": "code",
   "execution_count": 12,
   "metadata": {},
   "outputs": [
    {
     "data": {
      "text/plain": [
       "true"
      ]
     },
     "execution_count": 12,
     "metadata": {},
     "output_type": "execute_result"
    }
   ],
   "source": [
    "y === df.y # now it is the same"
   ]
  },
  {
   "cell_type": "code",
   "execution_count": 13,
   "metadata": {},
   "outputs": [
    {
     "data": {
      "text/plain": [
       "false"
      ]
     },
     "execution_count": 13,
     "metadata": {},
     "output_type": "execute_result"
    }
   ],
   "source": [
    "select(df, :y)[!, 1] === y # not the same"
   ]
  },
  {
   "cell_type": "code",
   "execution_count": 14,
   "metadata": {},
   "outputs": [
    {
     "data": {
      "text/plain": [
       "true"
      ]
     },
     "execution_count": 14,
     "metadata": {},
     "output_type": "execute_result"
    }
   ],
   "source": [
    "select(df, :y, copycols=false)[!, 1] === y # the same"
   ]
  },
  {
   "cell_type": "markdown",
   "metadata": {},
   "source": [
    "### Do not modify the parent of `GroupedDataFrame` or `view`"
   ]
  },
  {
   "cell_type": "code",
   "execution_count": 15,
   "metadata": {},
   "outputs": [
    {
     "data": {
      "text/html": [
       "<p><b>GroupedDataFrame with 2 groups based on key: id</b></p><p><i>First Group (3 rows): id = 1</i></p><table class=\"data-frame\"><thead><tr><th></th><th>id</th><th>x</th></tr><tr><th></th><th>Int64</th><th>Int64</th></tr></thead><tbody><tr><th>1</th><td>1</td><td>1</td></tr><tr><th>2</th><td>1</td><td>3</td></tr><tr><th>3</th><td>1</td><td>5</td></tr></tbody></table><p>&vellip;</p><p><i>Last Group (3 rows): id = 2</i></p><table class=\"data-frame\"><thead><tr><th></th><th>id</th><th>x</th></tr><tr><th></th><th>Int64</th><th>Int64</th></tr></thead><tbody><tr><th>1</th><td>2</td><td>2</td></tr><tr><th>2</th><td>2</td><td>4</td></tr><tr><th>3</th><td>2</td><td>6</td></tr></tbody></table>"
      ],
      "text/latex": [
       "GroupedDataFrame with 2 groups based on key: id\n",
       "\n",
       "First Group (3 rows): id = 1\n",
       "\n",
       "\\begin{tabular}{r|cc}\n",
       "\t& id & x\\\\\n",
       "\t\\hline\n",
       "\t& Int64 & Int64\\\\\n",
       "\t\\hline\n",
       "\t1 & 1 & 1 \\\\\n",
       "\t2 & 1 & 3 \\\\\n",
       "\t3 & 1 & 5 \\\\\n",
       "\\end{tabular}\n",
       "\n",
       "$\\dots$\n",
       "\n",
       "Last Group (3 rows): id = 2\n",
       "\n",
       "\\begin{tabular}{r|cc}\n",
       "\t& id & x\\\\\n",
       "\t\\hline\n",
       "\t& Int64 & Int64\\\\\n",
       "\t\\hline\n",
       "\t1 & 2 & 2 \\\\\n",
       "\t2 & 2 & 4 \\\\\n",
       "\t3 & 2 & 6 \\\\\n",
       "\\end{tabular}\n"
      ],
      "text/plain": [
       "GroupedDataFrame with 2 groups based on key: id\n",
       "First Group (3 rows): id = 1\n",
       "│ Row │ id    │ x     │\n",
       "│     │ \u001b[90mInt64\u001b[39m │ \u001b[90mInt64\u001b[39m │\n",
       "├─────┼───────┼───────┤\n",
       "│ 1   │ 1     │ 1     │\n",
       "│ 2   │ 1     │ 3     │\n",
       "│ 3   │ 1     │ 5     │\n",
       "⋮\n",
       "Last Group (3 rows): id = 2\n",
       "│ Row │ id    │ x     │\n",
       "│     │ \u001b[90mInt64\u001b[39m │ \u001b[90mInt64\u001b[39m │\n",
       "├─────┼───────┼───────┤\n",
       "│ 1   │ 2     │ 2     │\n",
       "│ 2   │ 2     │ 4     │\n",
       "│ 3   │ 2     │ 6     │"
      ]
     },
     "execution_count": 15,
     "metadata": {},
     "output_type": "execute_result"
    }
   ],
   "source": [
    "x = DataFrame(id=repeat([1,2], outer=3), x=1:6)\n",
    "g = groupby(x, :id)"
   ]
  },
  {
   "cell_type": "code",
   "execution_count": 16,
   "metadata": {},
   "outputs": [
    {
     "data": {
      "text/html": [
       "<p><b>GroupedDataFrame with 2 groups based on key: id</b></p><p><i>First Group (3 rows): id = 2</i></p><table class=\"data-frame\"><thead><tr><th></th><th>id</th><th>x</th></tr><tr><th></th><th>Int64</th><th>Int64</th></tr></thead><tbody><tr><th>1</th><td>2</td><td>1</td></tr><tr><th>2</th><td>2</td><td>3</td></tr><tr><th>3</th><td>1</td><td>5</td></tr></tbody></table><p>&vellip;</p><p><i>Last Group (3 rows): id = 2</i></p><table class=\"data-frame\"><thead><tr><th></th><th>id</th><th>x</th></tr><tr><th></th><th>Int64</th><th>Int64</th></tr></thead><tbody><tr><th>1</th><td>2</td><td>2</td></tr><tr><th>2</th><td>2</td><td>4</td></tr><tr><th>3</th><td>2</td><td>6</td></tr></tbody></table>"
      ],
      "text/latex": [
       "GroupedDataFrame with 2 groups based on key: id\n",
       "\n",
       "First Group (3 rows): id = 2\n",
       "\n",
       "\\begin{tabular}{r|cc}\n",
       "\t& id & x\\\\\n",
       "\t\\hline\n",
       "\t& Int64 & Int64\\\\\n",
       "\t\\hline\n",
       "\t1 & 2 & 1 \\\\\n",
       "\t2 & 2 & 3 \\\\\n",
       "\t3 & 1 & 5 \\\\\n",
       "\\end{tabular}\n",
       "\n",
       "$\\dots$\n",
       "\n",
       "Last Group (3 rows): id = 2\n",
       "\n",
       "\\begin{tabular}{r|cc}\n",
       "\t& id & x\\\\\n",
       "\t\\hline\n",
       "\t& Int64 & Int64\\\\\n",
       "\t\\hline\n",
       "\t1 & 2 & 2 \\\\\n",
       "\t2 & 2 & 4 \\\\\n",
       "\t3 & 2 & 6 \\\\\n",
       "\\end{tabular}\n"
      ],
      "text/plain": [
       "GroupedDataFrame with 2 groups based on key: id\n",
       "First Group (3 rows): id = 2\n",
       "│ Row │ id    │ x     │\n",
       "│     │ \u001b[90mInt64\u001b[39m │ \u001b[90mInt64\u001b[39m │\n",
       "├─────┼───────┼───────┤\n",
       "│ 1   │ 2     │ 1     │\n",
       "│ 2   │ 2     │ 3     │\n",
       "│ 3   │ 1     │ 5     │\n",
       "⋮\n",
       "Last Group (3 rows): id = 2\n",
       "│ Row │ id    │ x     │\n",
       "│     │ \u001b[90mInt64\u001b[39m │ \u001b[90mInt64\u001b[39m │\n",
       "├─────┼───────┼───────┤\n",
       "│ 1   │ 2     │ 2     │\n",
       "│ 2   │ 2     │ 4     │\n",
       "│ 3   │ 2     │ 6     │"
      ]
     },
     "execution_count": 16,
     "metadata": {},
     "output_type": "execute_result"
    }
   ],
   "source": [
    "x[1:3, 1] = [2,2,2]\n",
    "g # well - it is wrong now, g is only a view"
   ]
  },
  {
   "cell_type": "code",
   "execution_count": 17,
   "metadata": {},
   "outputs": [
    {
     "data": {
      "text/html": [
       "<table class=\"data-frame\"><thead><tr><th></th><th>id</th><th>x</th></tr><tr><th></th><th>Int64</th><th>Int64</th></tr></thead><tbody><p>2 rows × 2 columns</p><tr><th>1</th><td>1</td><td>5</td></tr><tr><th>2</th><td>2</td><td>6</td></tr></tbody></table>"
      ],
      "text/latex": [
       "\\begin{tabular}{r|cc}\n",
       "\t& id & x\\\\\n",
       "\t\\hline\n",
       "\t& Int64 & Int64\\\\\n",
       "\t\\hline\n",
       "\t1 & 1 & 5 \\\\\n",
       "\t2 & 2 & 6 \\\\\n",
       "\\end{tabular}\n"
      ],
      "text/plain": [
       "2×2 SubDataFrame\n",
       "│ Row │ id    │ x     │\n",
       "│     │ \u001b[90mInt64\u001b[39m │ \u001b[90mInt64\u001b[39m │\n",
       "├─────┼───────┼───────┤\n",
       "│ 1   │ 1     │ 5     │\n",
       "│ 2   │ 2     │ 6     │"
      ]
     },
     "execution_count": 17,
     "metadata": {},
     "output_type": "execute_result"
    }
   ],
   "source": [
    "s = view(x, 5:6, :)"
   ]
  },
  {
   "cell_type": "code",
   "execution_count": 18,
   "metadata": {},
   "outputs": [
    {
     "data": {
      "text/html": [
       "<table class=\"data-frame\"><thead><tr><th></th><th>id</th><th>x</th></tr><tr><th></th><th>Int64</th><th>Int64</th></tr></thead><tbody><p>2 rows × 2 columns</p><tr><th>1</th><td>2</td><td>1</td></tr><tr><th>2</th><td>2</td><td>2</td></tr></tbody></table>"
      ],
      "text/latex": [
       "\\begin{tabular}{r|cc}\n",
       "\t& id & x\\\\\n",
       "\t\\hline\n",
       "\t& Int64 & Int64\\\\\n",
       "\t\\hline\n",
       "\t1 & 2 & 1 \\\\\n",
       "\t2 & 2 & 2 \\\\\n",
       "\\end{tabular}\n"
      ],
      "text/plain": [
       "2×2 DataFrame\n",
       "│ Row │ id    │ x     │\n",
       "│     │ \u001b[90mInt64\u001b[39m │ \u001b[90mInt64\u001b[39m │\n",
       "├─────┼───────┼───────┤\n",
       "│ 1   │ 2     │ 1     │\n",
       "│ 2   │ 2     │ 2     │"
      ]
     },
     "execution_count": 18,
     "metadata": {},
     "output_type": "execute_result"
    }
   ],
   "source": [
    "delete!(x, 3:6)"
   ]
  },
  {
   "cell_type": "code",
   "execution_count": 19,
   "metadata": {},
   "outputs": [
    {
     "ename": "BoundsError",
     "evalue": "BoundsError: attempt to access 2-element Array{Int64,1} at index [5:6]",
     "output_type": "error",
     "traceback": [
      "BoundsError: attempt to access 2-element Array{Int64,1} at index [5:6]",
      "",
      "Stacktrace:",
      " [1] throw_boundserror(::Array{Int64,1}, ::Tuple{UnitRange{Int64}}) at ./abstractarray.jl:537",
      " [2] checkbounds at ./abstractarray.jl:502 [inlined]",
      " [3] view(::Array{Int64,1}, ::UnitRange{Int64}) at ./subarray.jl:163",
      " [4] view at /home/bkamins/.julia/packages/DataFrames/3ZmR2/src/subdataframe/subdataframe.jl:88 [inlined]",
      " [5] getindex at /home/bkamins/.julia/packages/DataFrames/3ZmR2/src/subdataframe/subdataframe.jl:125 [inlined]",
      " [6] getindex(::DataFrames.DataFrameColumns{SubDataFrame{DataFrame,DataFrames.Index,UnitRange{Int64}}}, ::Symbol) at /home/bkamins/.julia/packages/DataFrames/3ZmR2/src/abstractdataframe/iteration.jl:170",
      " [7] iterate at ./iterators.jl:237 [inlined]",
      " [8] getmaxwidths(::SubDataFrame{DataFrame,DataFrames.Index,UnitRange{Int64}}, ::IOContext{Base.GenericIOBuffer{Array{UInt8,1}}}, ::UnitRange{Int64}, ::UnitRange{Int64}, ::Symbol, ::Nothing, ::Bool, ::Base.GenericIOBuffer{Array{UInt8,1}}) at /home/bkamins/.julia/packages/DataFrames/3ZmR2/src/abstractdataframe/show.jl:171",
      " [9] _show(::IOContext{Base.GenericIOBuffer{Array{UInt8,1}}}, ::SubDataFrame{DataFrame,DataFrames.Index,UnitRange{Int64}}; allrows::Bool, allcols::Bool, splitcols::Bool, rowlabel::Symbol, summary::Bool, eltypes::Bool, rowid::Nothing) at /home/bkamins/.julia/packages/DataFrames/3ZmR2/src/abstractdataframe/show.jl:589",
      " [10] #show#443 at /home/bkamins/.julia/packages/DataFrames/3ZmR2/src/abstractdataframe/show.jl:665 [inlined]",
      " [11] show(::IOContext{Base.GenericIOBuffer{Array{UInt8,1}}}, ::MIME{Symbol(\"text/plain\")}, ::SubDataFrame{DataFrame,DataFrames.Index,UnitRange{Int64}}; allrows::Bool, allcols::Bool, splitcols::Bool, rowlabel::Symbol, summary::Bool, eltypes::Bool) at /home/bkamins/.julia/packages/DataFrames/3ZmR2/src/abstractdataframe/io.jl:56",
      " [12] show(::IOContext{Base.GenericIOBuffer{Array{UInt8,1}}}, ::MIME{Symbol(\"text/plain\")}, ::SubDataFrame{DataFrame,DataFrames.Index,UnitRange{Int64}}) at /home/bkamins/.julia/packages/DataFrames/3ZmR2/src/abstractdataframe/io.jl:56",
      " [13] limitstringmime(::MIME{Symbol(\"text/plain\")}, ::SubDataFrame{DataFrame,DataFrames.Index,UnitRange{Int64}}) at /home/bkamins/.julia/packages/IJulia/DrVMH/src/inline.jl:43",
      " [14] display_mimestring(::MIME{Symbol(\"text/plain\")}, ::SubDataFrame{DataFrame,DataFrames.Index,UnitRange{Int64}}) at /home/bkamins/.julia/packages/IJulia/DrVMH/src/display.jl:67",
      " [15] display_dict(::SubDataFrame{DataFrame,DataFrames.Index,UnitRange{Int64}}) at /home/bkamins/.julia/packages/IJulia/DrVMH/src/display.jl:96",
      " [16] #invokelatest#1 at ./essentials.jl:712 [inlined]",
      " [17] invokelatest at ./essentials.jl:711 [inlined]",
      " [18] execute_request(::ZMQ.Socket, ::IJulia.Msg) at /home/bkamins/.julia/packages/IJulia/DrVMH/src/execute_request.jl:112",
      " [19] #invokelatest#1 at ./essentials.jl:712 [inlined]",
      " [20] invokelatest at ./essentials.jl:711 [inlined]",
      " [21] eventloop(::ZMQ.Socket) at /home/bkamins/.julia/packages/IJulia/DrVMH/src/eventloop.jl:8",
      " [22] (::IJulia.var\"#15#18\")() at ./task.jl:358"
     ]
    }
   ],
   "source": [
    "s # error"
   ]
  },
  {
   "cell_type": "markdown",
   "metadata": {},
   "source": [
    "### Single column selection for `DataFrame` creates aliases with `!` and `getproperty` syntax and copies with `:`"
   ]
  },
  {
   "cell_type": "code",
   "execution_count": 20,
   "metadata": {},
   "outputs": [
    {
     "data": {
      "text/html": [
       "<table class=\"data-frame\"><thead><tr><th></th><th>a</th><th>b</th><th>c</th><th>d</th><th>e</th></tr><tr><th></th><th>Int64</th><th>Int64</th><th>Int64</th><th>Int64</th><th>Int64</th></tr></thead><tbody><p>3 rows × 5 columns</p><tr><th>1</th><td>1</td><td>1</td><td>1</td><td>1</td><td>1</td></tr><tr><th>2</th><td>2</td><td>2</td><td>2</td><td>2</td><td>2</td></tr><tr><th>3</th><td>3</td><td>3</td><td>3</td><td>3</td><td>3</td></tr></tbody></table>"
      ],
      "text/latex": [
       "\\begin{tabular}{r|ccccc}\n",
       "\t& a & b & c & d & e\\\\\n",
       "\t\\hline\n",
       "\t& Int64 & Int64 & Int64 & Int64 & Int64\\\\\n",
       "\t\\hline\n",
       "\t1 & 1 & 1 & 1 & 1 & 1 \\\\\n",
       "\t2 & 2 & 2 & 2 & 2 & 2 \\\\\n",
       "\t3 & 3 & 3 & 3 & 3 & 3 \\\\\n",
       "\\end{tabular}\n"
      ],
      "text/plain": [
       "3×5 DataFrame\n",
       "│ Row │ a     │ b     │ c     │ d     │ e     │\n",
       "│     │ \u001b[90mInt64\u001b[39m │ \u001b[90mInt64\u001b[39m │ \u001b[90mInt64\u001b[39m │ \u001b[90mInt64\u001b[39m │ \u001b[90mInt64\u001b[39m │\n",
       "├─────┼───────┼───────┼───────┼───────┼───────┤\n",
       "│ 1   │ 1     │ 1     │ 1     │ 1     │ 1     │\n",
       "│ 2   │ 2     │ 2     │ 2     │ 2     │ 2     │\n",
       "│ 3   │ 3     │ 3     │ 3     │ 3     │ 3     │"
      ]
     },
     "metadata": {},
     "output_type": "display_data"
    },
    {
     "data": {
      "text/html": [
       "<table class=\"data-frame\"><thead><tr><th></th><th>a</th><th>b</th><th>c</th><th>d</th><th>e</th></tr><tr><th></th><th>Int64</th><th>Int64</th><th>Int64</th><th>Int64</th><th>Int64</th></tr></thead><tbody><p>3 rows × 5 columns</p><tr><th>1</th><td>100</td><td>100</td><td>1</td><td>1</td><td>1</td></tr><tr><th>2</th><td>2</td><td>2</td><td>2</td><td>2</td><td>2</td></tr><tr><th>3</th><td>3</td><td>3</td><td>3</td><td>3</td><td>3</td></tr></tbody></table>"
      ],
      "text/latex": [
       "\\begin{tabular}{r|ccccc}\n",
       "\t& a & b & c & d & e\\\\\n",
       "\t\\hline\n",
       "\t& Int64 & Int64 & Int64 & Int64 & Int64\\\\\n",
       "\t\\hline\n",
       "\t1 & 100 & 100 & 1 & 1 & 1 \\\\\n",
       "\t2 & 2 & 2 & 2 & 2 & 2 \\\\\n",
       "\t3 & 3 & 3 & 3 & 3 & 3 \\\\\n",
       "\\end{tabular}\n"
      ],
      "text/plain": [
       "3×5 DataFrame\n",
       "│ Row │ a     │ b     │ c     │ d     │ e     │\n",
       "│     │ \u001b[90mInt64\u001b[39m │ \u001b[90mInt64\u001b[39m │ \u001b[90mInt64\u001b[39m │ \u001b[90mInt64\u001b[39m │ \u001b[90mInt64\u001b[39m │\n",
       "├─────┼───────┼───────┼───────┼───────┼───────┤\n",
       "│ 1   │ 100   │ 100   │ 1     │ 1     │ 1     │\n",
       "│ 2   │ 2     │ 2     │ 2     │ 2     │ 2     │\n",
       "│ 3   │ 3     │ 3     │ 3     │ 3     │ 3     │"
      ]
     },
     "metadata": {},
     "output_type": "display_data"
    }
   ],
   "source": [
    "x = DataFrame(a=1:3)\n",
    "x.b = x[!, 1] # alias\n",
    "x.c = x[:, 1] # copy\n",
    "x.d = x[!, 1][:] # copy\n",
    "x.e = copy(x[!, 1]) # explicit copy\n",
    "display(x)\n",
    "x[1,1] = 100\n",
    "display(x)"
   ]
  },
  {
   "cell_type": "markdown",
   "metadata": {},
   "source": [
    "### When iterating rows of a data frame use `eachrow` to avoid compilation cost (wide tables), but `Tables.namedtupleiterator` for fast execution (tall tables)"
   ]
  },
  {
   "cell_type": "markdown",
   "metadata": {},
   "source": [
    "this table is wide"
   ]
  },
  {
   "cell_type": "code",
   "execution_count": 21,
   "metadata": {},
   "outputs": [
    {
     "data": {
      "text/html": [
       "<table class=\"data-frame\"><thead><tr><th></th><th>x1</th><th>x2</th><th>x3</th><th>x4</th><th>x5</th><th>x6</th><th>x7</th><th>x8</th><th>x9</th><th>x10</th><th>x11</th></tr><tr><th></th><th>Float64</th><th>Char</th><th>Int64</th><th>Int64</th><th>Bool</th><th>Int64</th><th>Float64</th><th>Int64</th><th>Int64</th><th>Bool</th><th>Float64</th></tr></thead><tbody><p>2 rows × 2,000 columns (omitted printing of 1989 columns)</p><tr><th>1</th><td>1.0</td><td>'a'</td><td>1</td><td>1</td><td>0</td><td>1</td><td>1.0</td><td>1</td><td>1</td><td>0</td><td>1.0</td></tr><tr><th>2</th><td>2.0</td><td>'b'</td><td>2</td><td>2</td><td>1</td><td>2</td><td>2.0</td><td>2</td><td>2</td><td>1</td><td>2.0</td></tr></tbody></table>"
      ],
      "text/latex": [
       "\\begin{tabular}{r|cccccccccccc}\n",
       "\t& x1 & x2 & x3 & x4 & x5 & x6 & x7 & x8 & x9 & x10 & x11 & \\\\\n",
       "\t\\hline\n",
       "\t& Float64 & Char & Int64 & Int64 & Bool & Int64 & Float64 & Int64 & Int64 & Bool & Float64 & \\\\\n",
       "\t\\hline\n",
       "\t1 & 1.0 & 'a' & 1 & 1 & 0 & 1 & 1.0 & 1 & 1 & 0 & 1.0 & $\\dots$ \\\\\n",
       "\t2 & 2.0 & 'b' & 2 & 2 & 1 & 2 & 2.0 & 2 & 2 & 1 & 2.0 & $\\dots$ \\\\\n",
       "\\end{tabular}\n"
      ],
      "text/plain": [
       "2×2000 DataFrame. Omitted printing of 1992 columns\n",
       "│ Row │ x1      │ x2   │ x3    │ x4    │ x5   │ x6    │ x7      │ x8    │\n",
       "│     │ \u001b[90mFloat64\u001b[39m │ \u001b[90mChar\u001b[39m │ \u001b[90mInt64\u001b[39m │ \u001b[90mInt64\u001b[39m │ \u001b[90mBool\u001b[39m │ \u001b[90mInt64\u001b[39m │ \u001b[90mFloat64\u001b[39m │ \u001b[90mInt64\u001b[39m │\n",
       "├─────┼─────────┼──────┼───────┼───────┼──────┼───────┼─────────┼───────┤\n",
       "│ 1   │ 1.0     │ 'a'  │ 1     │ 1     │ 0    │ 1     │ 1.0     │ 1     │\n",
       "│ 2   │ 2.0     │ 'b'  │ 2     │ 2     │ 1    │ 2     │ 2.0     │ 2     │"
      ]
     },
     "execution_count": 21,
     "metadata": {},
     "output_type": "execute_result"
    }
   ],
   "source": [
    "df1 = DataFrame([rand([1:2, 'a':'b', false:true, 1.0:2.0]) for i in 1:2000])"
   ]
  },
  {
   "cell_type": "code",
   "execution_count": 22,
   "metadata": {},
   "outputs": [
    {
     "name": "stdout",
     "output_type": "stream",
     "text": [
      "  0.041201 seconds (103.51 k allocations: 5.411 MiB)\n"
     ]
    },
    {
     "data": {
      "text/plain": [
       "2-element Array{DataFrameRow{DataFrame,DataFrames.Index},1}:\n",
       " DataFrameRow. Omitted printing of 1992 columns\n",
       "│ Row │ x1      │ x2   │ x3    │ x4    │ x5   │ x6    │ x7      │ x8    │\n",
       "│     │ \u001b[90mFloat64\u001b[39m │ \u001b[90mChar\u001b[39m │ \u001b[90mInt64\u001b[39m │ \u001b[90mInt64\u001b[39m │ \u001b[90mBool\u001b[39m │ \u001b[90mInt64\u001b[39m │ \u001b[90mFloat64\u001b[39m │ \u001b[90mInt64\u001b[39m │\n",
       "├─────┼─────────┼──────┼───────┼───────┼──────┼───────┼─────────┼───────┤\n",
       "│ 1   │ 1.0     │ 'a'  │ 1     │ 1     │ 0    │ 1     │ 1.0     │ 1     │\n",
       " DataFrameRow. Omitted printing of 1992 columns\n",
       "│ Row │ x1      │ x2   │ x3    │ x4    │ x5   │ x6    │ x7      │ x8    │\n",
       "│     │ \u001b[90mFloat64\u001b[39m │ \u001b[90mChar\u001b[39m │ \u001b[90mInt64\u001b[39m │ \u001b[90mInt64\u001b[39m │ \u001b[90mBool\u001b[39m │ \u001b[90mInt64\u001b[39m │ \u001b[90mFloat64\u001b[39m │ \u001b[90mInt64\u001b[39m │\n",
       "├─────┼─────────┼──────┼───────┼───────┼──────┼───────┼─────────┼───────┤\n",
       "│ 2   │ 2.0     │ 'b'  │ 2     │ 2     │ 1    │ 2     │ 2.0     │ 2     │"
      ]
     },
     "execution_count": 22,
     "metadata": {},
     "output_type": "execute_result"
    }
   ],
   "source": [
    "@time collect(eachrow(df1))"
   ]
  },
  {
   "cell_type": "code",
   "execution_count": 23,
   "metadata": {},
   "outputs": [
    {
     "name": "stdout",
     "output_type": "stream",
     "text": [
      " 63.361998 seconds (12.07 M allocations: 620.814 MiB, 0.59% gc time)\n"
     ]
    }
   ],
   "source": [
    "@time collect(Tables.namedtupleiterator(df1));"
   ]
  },
  {
   "cell_type": "markdown",
   "metadata": {},
   "source": [
    "as you can see the time to compile `Tables.namedtupleiterator` is prohibitive in this case (that is why we include this tip in pitfalls notebook)"
   ]
  },
  {
   "cell_type": "markdown",
   "metadata": {},
   "source": [
    "the table below is tall"
   ]
  },
  {
   "cell_type": "code",
   "execution_count": 24,
   "metadata": {},
   "outputs": [
    {
     "data": {
      "text/html": [
       "<table class=\"data-frame\"><thead><tr><th></th><th>x1</th><th>x2</th><th>x3</th><th>x4</th><th>x5</th><th>x6</th><th>x7</th><th>x8</th></tr><tr><th></th><th>Float64</th><th>Float64</th><th>Float64</th><th>Float64</th><th>Float64</th><th>Float64</th><th>Float64</th><th>Float64</th></tr></thead><tbody><p>1,000,000 rows × 10 columns (omitted printing of 2 columns)</p><tr><th>1</th><td>0.568491</td><td>0.268587</td><td>0.256403</td><td>0.741511</td><td>0.648123</td><td>0.930351</td><td>0.167457</td><td>0.980754</td></tr><tr><th>2</th><td>0.744475</td><td>0.831044</td><td>0.894722</td><td>0.299662</td><td>0.334919</td><td>0.880855</td><td>0.754838</td><td>0.203738</td></tr><tr><th>3</th><td>0.69306</td><td>0.0402436</td><td>0.319557</td><td>0.4143</td><td>0.160553</td><td>0.386284</td><td>0.485616</td><td>0.247916</td></tr><tr><th>4</th><td>0.221967</td><td>0.230616</td><td>0.0299796</td><td>0.698827</td><td>0.29674</td><td>0.55879</td><td>0.524201</td><td>0.932496</td></tr><tr><th>5</th><td>0.42018</td><td>0.162836</td><td>0.927171</td><td>0.952488</td><td>0.411027</td><td>0.542914</td><td>0.64362</td><td>0.392806</td></tr><tr><th>6</th><td>0.885983</td><td>0.755675</td><td>0.386897</td><td>0.783268</td><td>0.199874</td><td>0.0355547</td><td>0.228639</td><td>0.900181</td></tr><tr><th>7</th><td>0.299833</td><td>0.744919</td><td>0.76264</td><td>0.889228</td><td>0.576511</td><td>0.729001</td><td>0.926209</td><td>0.770737</td></tr><tr><th>8</th><td>0.254902</td><td>0.300898</td><td>0.796695</td><td>0.940978</td><td>0.871815</td><td>0.240346</td><td>0.445238</td><td>0.0807118</td></tr><tr><th>9</th><td>0.0242557</td><td>0.554034</td><td>0.839943</td><td>0.880411</td><td>0.248174</td><td>0.408633</td><td>0.164396</td><td>0.487239</td></tr><tr><th>10</th><td>0.709502</td><td>0.940366</td><td>0.923532</td><td>0.398793</td><td>0.0742642</td><td>0.517558</td><td>0.161878</td><td>0.0899359</td></tr><tr><th>11</th><td>0.606841</td><td>0.788721</td><td>0.27598</td><td>0.698672</td><td>0.870542</td><td>0.699466</td><td>0.286983</td><td>0.400634</td></tr><tr><th>12</th><td>0.961497</td><td>0.614068</td><td>0.135431</td><td>0.813509</td><td>0.974141</td><td>0.976974</td><td>0.302266</td><td>0.571766</td></tr><tr><th>13</th><td>0.807022</td><td>0.746138</td><td>0.740605</td><td>0.899364</td><td>0.906132</td><td>0.505689</td><td>0.589197</td><td>0.626509</td></tr><tr><th>14</th><td>0.809342</td><td>0.0747041</td><td>0.378792</td><td>0.168275</td><td>0.163815</td><td>0.613168</td><td>0.923564</td><td>0.716546</td></tr><tr><th>15</th><td>0.859178</td><td>0.109915</td><td>0.833158</td><td>0.0178382</td><td>0.786316</td><td>0.17949</td><td>0.345995</td><td>0.226985</td></tr><tr><th>16</th><td>0.576919</td><td>0.34765</td><td>0.40789</td><td>0.354963</td><td>0.514554</td><td>0.540157</td><td>0.411847</td><td>0.891383</td></tr><tr><th>17</th><td>0.661323</td><td>0.331709</td><td>0.635107</td><td>0.461079</td><td>0.696154</td><td>0.495431</td><td>0.629635</td><td>0.678003</td></tr><tr><th>18</th><td>0.863667</td><td>0.755525</td><td>0.445354</td><td>0.845828</td><td>0.0348789</td><td>0.731613</td><td>0.314753</td><td>0.880795</td></tr><tr><th>19</th><td>0.658565</td><td>0.750117</td><td>0.232371</td><td>0.0527663</td><td>0.940188</td><td>0.552874</td><td>0.460263</td><td>0.00808179</td></tr><tr><th>20</th><td>0.831102</td><td>0.268369</td><td>0.585942</td><td>0.00948088</td><td>0.364608</td><td>0.461651</td><td>0.125907</td><td>0.75636</td></tr><tr><th>21</th><td>0.334307</td><td>0.794666</td><td>0.765739</td><td>0.248459</td><td>0.670647</td><td>0.121547</td><td>0.60548</td><td>0.27996</td></tr><tr><th>22</th><td>0.12888</td><td>0.063769</td><td>0.731087</td><td>0.718315</td><td>0.341904</td><td>0.985778</td><td>0.133378</td><td>0.613835</td></tr><tr><th>23</th><td>0.473775</td><td>0.604893</td><td>0.0405313</td><td>0.32782</td><td>0.0369788</td><td>0.493634</td><td>0.661203</td><td>0.482456</td></tr><tr><th>24</th><td>0.931609</td><td>0.66761</td><td>0.548169</td><td>0.317365</td><td>0.0277538</td><td>0.551398</td><td>0.692385</td><td>0.715655</td></tr><tr><th>25</th><td>0.786433</td><td>0.633131</td><td>0.211617</td><td>0.00285153</td><td>0.500407</td><td>0.914635</td><td>0.555837</td><td>0.681783</td></tr><tr><th>26</th><td>0.85126</td><td>0.685676</td><td>0.270654</td><td>0.85021</td><td>0.91007</td><td>0.639454</td><td>0.298727</td><td>0.43357</td></tr><tr><th>27</th><td>0.460306</td><td>0.935605</td><td>0.0477677</td><td>0.563224</td><td>0.734629</td><td>0.850992</td><td>0.817132</td><td>0.126822</td></tr><tr><th>28</th><td>0.317173</td><td>0.418141</td><td>0.648976</td><td>0.354408</td><td>0.242952</td><td>0.94892</td><td>0.636618</td><td>0.494664</td></tr><tr><th>29</th><td>0.942636</td><td>0.866949</td><td>0.377817</td><td>0.0776189</td><td>0.185411</td><td>0.648627</td><td>0.168881</td><td>0.853132</td></tr><tr><th>30</th><td>0.380115</td><td>0.00315613</td><td>0.00827762</td><td>0.504218</td><td>0.351263</td><td>0.687887</td><td>0.473873</td><td>0.861006</td></tr><tr><th>&vellip;</th><td>&vellip;</td><td>&vellip;</td><td>&vellip;</td><td>&vellip;</td><td>&vellip;</td><td>&vellip;</td><td>&vellip;</td><td>&vellip;</td></tr></tbody></table>"
      ],
      "text/latex": [
       "\\begin{tabular}{r|ccccccccc}\n",
       "\t& x1 & x2 & x3 & x4 & x5 & x6 & x7 & x8 & \\\\\n",
       "\t\\hline\n",
       "\t& Float64 & Float64 & Float64 & Float64 & Float64 & Float64 & Float64 & Float64 & \\\\\n",
       "\t\\hline\n",
       "\t1 & 0.568491 & 0.268587 & 0.256403 & 0.741511 & 0.648123 & 0.930351 & 0.167457 & 0.980754 & $\\dots$ \\\\\n",
       "\t2 & 0.744475 & 0.831044 & 0.894722 & 0.299662 & 0.334919 & 0.880855 & 0.754838 & 0.203738 & $\\dots$ \\\\\n",
       "\t3 & 0.69306 & 0.0402436 & 0.319557 & 0.4143 & 0.160553 & 0.386284 & 0.485616 & 0.247916 & $\\dots$ \\\\\n",
       "\t4 & 0.221967 & 0.230616 & 0.0299796 & 0.698827 & 0.29674 & 0.55879 & 0.524201 & 0.932496 & $\\dots$ \\\\\n",
       "\t5 & 0.42018 & 0.162836 & 0.927171 & 0.952488 & 0.411027 & 0.542914 & 0.64362 & 0.392806 & $\\dots$ \\\\\n",
       "\t6 & 0.885983 & 0.755675 & 0.386897 & 0.783268 & 0.199874 & 0.0355547 & 0.228639 & 0.900181 & $\\dots$ \\\\\n",
       "\t7 & 0.299833 & 0.744919 & 0.76264 & 0.889228 & 0.576511 & 0.729001 & 0.926209 & 0.770737 & $\\dots$ \\\\\n",
       "\t8 & 0.254902 & 0.300898 & 0.796695 & 0.940978 & 0.871815 & 0.240346 & 0.445238 & 0.0807118 & $\\dots$ \\\\\n",
       "\t9 & 0.0242557 & 0.554034 & 0.839943 & 0.880411 & 0.248174 & 0.408633 & 0.164396 & 0.487239 & $\\dots$ \\\\\n",
       "\t10 & 0.709502 & 0.940366 & 0.923532 & 0.398793 & 0.0742642 & 0.517558 & 0.161878 & 0.0899359 & $\\dots$ \\\\\n",
       "\t11 & 0.606841 & 0.788721 & 0.27598 & 0.698672 & 0.870542 & 0.699466 & 0.286983 & 0.400634 & $\\dots$ \\\\\n",
       "\t12 & 0.961497 & 0.614068 & 0.135431 & 0.813509 & 0.974141 & 0.976974 & 0.302266 & 0.571766 & $\\dots$ \\\\\n",
       "\t13 & 0.807022 & 0.746138 & 0.740605 & 0.899364 & 0.906132 & 0.505689 & 0.589197 & 0.626509 & $\\dots$ \\\\\n",
       "\t14 & 0.809342 & 0.0747041 & 0.378792 & 0.168275 & 0.163815 & 0.613168 & 0.923564 & 0.716546 & $\\dots$ \\\\\n",
       "\t15 & 0.859178 & 0.109915 & 0.833158 & 0.0178382 & 0.786316 & 0.17949 & 0.345995 & 0.226985 & $\\dots$ \\\\\n",
       "\t16 & 0.576919 & 0.34765 & 0.40789 & 0.354963 & 0.514554 & 0.540157 & 0.411847 & 0.891383 & $\\dots$ \\\\\n",
       "\t17 & 0.661323 & 0.331709 & 0.635107 & 0.461079 & 0.696154 & 0.495431 & 0.629635 & 0.678003 & $\\dots$ \\\\\n",
       "\t18 & 0.863667 & 0.755525 & 0.445354 & 0.845828 & 0.0348789 & 0.731613 & 0.314753 & 0.880795 & $\\dots$ \\\\\n",
       "\t19 & 0.658565 & 0.750117 & 0.232371 & 0.0527663 & 0.940188 & 0.552874 & 0.460263 & 0.00808179 & $\\dots$ \\\\\n",
       "\t20 & 0.831102 & 0.268369 & 0.585942 & 0.00948088 & 0.364608 & 0.461651 & 0.125907 & 0.75636 & $\\dots$ \\\\\n",
       "\t21 & 0.334307 & 0.794666 & 0.765739 & 0.248459 & 0.670647 & 0.121547 & 0.60548 & 0.27996 & $\\dots$ \\\\\n",
       "\t22 & 0.12888 & 0.063769 & 0.731087 & 0.718315 & 0.341904 & 0.985778 & 0.133378 & 0.613835 & $\\dots$ \\\\\n",
       "\t23 & 0.473775 & 0.604893 & 0.0405313 & 0.32782 & 0.0369788 & 0.493634 & 0.661203 & 0.482456 & $\\dots$ \\\\\n",
       "\t24 & 0.931609 & 0.66761 & 0.548169 & 0.317365 & 0.0277538 & 0.551398 & 0.692385 & 0.715655 & $\\dots$ \\\\\n",
       "\t25 & 0.786433 & 0.633131 & 0.211617 & 0.00285153 & 0.500407 & 0.914635 & 0.555837 & 0.681783 & $\\dots$ \\\\\n",
       "\t26 & 0.85126 & 0.685676 & 0.270654 & 0.85021 & 0.91007 & 0.639454 & 0.298727 & 0.43357 & $\\dots$ \\\\\n",
       "\t27 & 0.460306 & 0.935605 & 0.0477677 & 0.563224 & 0.734629 & 0.850992 & 0.817132 & 0.126822 & $\\dots$ \\\\\n",
       "\t28 & 0.317173 & 0.418141 & 0.648976 & 0.354408 & 0.242952 & 0.94892 & 0.636618 & 0.494664 & $\\dots$ \\\\\n",
       "\t29 & 0.942636 & 0.866949 & 0.377817 & 0.0776189 & 0.185411 & 0.648627 & 0.168881 & 0.853132 & $\\dots$ \\\\\n",
       "\t30 & 0.380115 & 0.00315613 & 0.00827762 & 0.504218 & 0.351263 & 0.687887 & 0.473873 & 0.861006 & $\\dots$ \\\\\n",
       "\t$\\dots$ & $\\dots$ & $\\dots$ & $\\dots$ & $\\dots$ & $\\dots$ & $\\dots$ & $\\dots$ & $\\dots$ &  \\\\\n",
       "\\end{tabular}\n"
      ],
      "text/plain": [
       "1000000×10 DataFrame. Omitted printing of 5 columns\n",
       "│ Row     │ x1        │ x2        │ x3        │ x4       │ x5        │\n",
       "│         │ \u001b[90mFloat64\u001b[39m   │ \u001b[90mFloat64\u001b[39m   │ \u001b[90mFloat64\u001b[39m   │ \u001b[90mFloat64\u001b[39m  │ \u001b[90mFloat64\u001b[39m   │\n",
       "├─────────┼───────────┼───────────┼───────────┼──────────┼───────────┤\n",
       "│ 1       │ 0.568491  │ 0.268587  │ 0.256403  │ 0.741511 │ 0.648123  │\n",
       "│ 2       │ 0.744475  │ 0.831044  │ 0.894722  │ 0.299662 │ 0.334919  │\n",
       "│ 3       │ 0.69306   │ 0.0402436 │ 0.319557  │ 0.4143   │ 0.160553  │\n",
       "│ 4       │ 0.221967  │ 0.230616  │ 0.0299796 │ 0.698827 │ 0.29674   │\n",
       "│ 5       │ 0.42018   │ 0.162836  │ 0.927171  │ 0.952488 │ 0.411027  │\n",
       "│ 6       │ 0.885983  │ 0.755675  │ 0.386897  │ 0.783268 │ 0.199874  │\n",
       "│ 7       │ 0.299833  │ 0.744919  │ 0.76264   │ 0.889228 │ 0.576511  │\n",
       "│ 8       │ 0.254902  │ 0.300898  │ 0.796695  │ 0.940978 │ 0.871815  │\n",
       "│ 9       │ 0.0242557 │ 0.554034  │ 0.839943  │ 0.880411 │ 0.248174  │\n",
       "│ 10      │ 0.709502  │ 0.940366  │ 0.923532  │ 0.398793 │ 0.0742642 │\n",
       "⋮\n",
       "│ 999990  │ 0.574087  │ 0.783594  │ 0.431349  │ 0.93305  │ 0.126273  │\n",
       "│ 999991  │ 0.442975  │ 0.198798  │ 0.333401  │ 0.93577  │ 0.233018  │\n",
       "│ 999992  │ 0.0853731 │ 0.189316  │ 0.217388  │ 0.233043 │ 0.847802  │\n",
       "│ 999993  │ 0.544422  │ 0.886912  │ 0.366875  │ 0.619231 │ 0.617804  │\n",
       "│ 999994  │ 0.0478521 │ 0.565949  │ 0.291065  │ 0.879808 │ 0.773793  │\n",
       "│ 999995  │ 0.988214  │ 0.916694  │ 0.580135  │ 0.703771 │ 0.293226  │\n",
       "│ 999996  │ 0.153211  │ 0.885544  │ 0.626575  │ 0.991533 │ 0.417204  │\n",
       "│ 999997  │ 0.566932  │ 0.208052  │ 0.534371  │ 0.994882 │ 0.0241147 │\n",
       "│ 999998  │ 0.984894  │ 0.343649  │ 0.999657  │ 0.809229 │ 0.802174  │\n",
       "│ 999999  │ 0.848708  │ 0.969661  │ 0.984073  │ 0.618214 │ 0.649997  │\n",
       "│ 1000000 │ 0.739277  │ 0.829276  │ 0.104825  │ 0.187579 │ 0.479694  │"
      ]
     },
     "execution_count": 24,
     "metadata": {},
     "output_type": "execute_result"
    }
   ],
   "source": [
    "df2 = DataFrame(rand(10^6, 10))"
   ]
  },
  {
   "cell_type": "code",
   "execution_count": 25,
   "metadata": {},
   "outputs": [
    {
     "name": "stdout",
     "output_type": "stream",
     "text": [
      "  3.377965 seconds (60.21 M allocations: 1.076 GiB, 8.23% gc time)\n"
     ]
    },
    {
     "data": {
      "text/plain": [
       "1000000-element Array{Float64,1}:\n",
       " 6.150909489011941\n",
       " 6.600268969671474\n",
       " 3.2350845965910624\n",
       " 4.647609536200212\n",
       " 5.008661858757231\n",
       " 5.656899063394897\n",
       " 6.161721733792737\n",
       " 4.5534753308054485\n",
       " 4.992776849520935\n",
       " 4.43861698146911\n",
       " 6.020512596774206\n",
       " 6.095746782467509\n",
       " 6.09541396595931\n",
       " ⋮\n",
       " 5.939789381052082\n",
       " 6.026865872953317\n",
       " 4.62841333969052\n",
       " 3.7862861966163646\n",
       " 5.484604803884082\n",
       " 5.565837311085242\n",
       " 5.7172172532414836\n",
       " 4.639425144162218\n",
       " 3.9993603502668087\n",
       " 6.956557139246081\n",
       " 7.0906812949726366\n",
       " 5.412900773072941"
      ]
     },
     "execution_count": 25,
     "metadata": {},
     "output_type": "execute_result"
    }
   ],
   "source": [
    "@time map(sum, eachrow(df2))"
   ]
  },
  {
   "cell_type": "code",
   "execution_count": 26,
   "metadata": {},
   "outputs": [
    {
     "name": "stdout",
     "output_type": "stream",
     "text": [
      "  3.096062 seconds (59.99 M allocations: 1.065 GiB, 2.68% gc time)\n"
     ]
    },
    {
     "data": {
      "text/plain": [
       "1000000-element Array{Float64,1}:\n",
       " 6.150909489011941\n",
       " 6.600268969671474\n",
       " 3.2350845965910624\n",
       " 4.647609536200212\n",
       " 5.008661858757231\n",
       " 5.656899063394897\n",
       " 6.161721733792737\n",
       " 4.5534753308054485\n",
       " 4.992776849520935\n",
       " 4.43861698146911\n",
       " 6.020512596774206\n",
       " 6.095746782467509\n",
       " 6.09541396595931\n",
       " ⋮\n",
       " 5.939789381052082\n",
       " 6.026865872953317\n",
       " 4.62841333969052\n",
       " 3.7862861966163646\n",
       " 5.484604803884082\n",
       " 5.565837311085242\n",
       " 5.7172172532414836\n",
       " 4.639425144162218\n",
       " 3.9993603502668087\n",
       " 6.956557139246081\n",
       " 7.0906812949726366\n",
       " 5.412900773072941"
      ]
     },
     "execution_count": 26,
     "metadata": {},
     "output_type": "execute_result"
    }
   ],
   "source": [
    "@time map(sum, eachrow(df2))"
   ]
  },
  {
   "cell_type": "code",
   "execution_count": 27,
   "metadata": {},
   "outputs": [
    {
     "name": "stdout",
     "output_type": "stream",
     "text": [
      "  0.187365 seconds (477.06 k allocations: 31.998 MiB)\n"
     ]
    },
    {
     "data": {
      "text/plain": [
       "1000000-element Array{Float64,1}:\n",
       " 6.150909489011941\n",
       " 6.600268969671474\n",
       " 3.2350845965910624\n",
       " 4.647609536200212\n",
       " 5.008661858757231\n",
       " 5.656899063394897\n",
       " 6.161721733792737\n",
       " 4.5534753308054485\n",
       " 4.992776849520935\n",
       " 4.43861698146911\n",
       " 6.020512596774206\n",
       " 6.095746782467509\n",
       " 6.09541396595931\n",
       " ⋮\n",
       " 5.939789381052082\n",
       " 6.026865872953317\n",
       " 4.62841333969052\n",
       " 3.7862861966163646\n",
       " 5.484604803884082\n",
       " 5.565837311085242\n",
       " 5.7172172532414836\n",
       " 4.639425144162218\n",
       " 3.9993603502668087\n",
       " 6.956557139246081\n",
       " 7.0906812949726366\n",
       " 5.412900773072941"
      ]
     },
     "execution_count": 27,
     "metadata": {},
     "output_type": "execute_result"
    }
   ],
   "source": [
    "@time map(sum, Tables.namedtupleiterator(df2))"
   ]
  },
  {
   "cell_type": "code",
   "execution_count": 28,
   "metadata": {},
   "outputs": [
    {
     "name": "stdout",
     "output_type": "stream",
     "text": [
      "  0.017245 seconds (23 allocations: 7.631 MiB)\n"
     ]
    },
    {
     "data": {
      "text/plain": [
       "1000000-element Array{Float64,1}:\n",
       " 6.150909489011941\n",
       " 6.600268969671474\n",
       " 3.2350845965910624\n",
       " 4.647609536200212\n",
       " 5.008661858757231\n",
       " 5.656899063394897\n",
       " 6.161721733792737\n",
       " 4.5534753308054485\n",
       " 4.992776849520935\n",
       " 4.43861698146911\n",
       " 6.020512596774206\n",
       " 6.095746782467509\n",
       " 6.09541396595931\n",
       " ⋮\n",
       " 5.939789381052082\n",
       " 6.026865872953317\n",
       " 4.62841333969052\n",
       " 3.7862861966163646\n",
       " 5.484604803884082\n",
       " 5.565837311085242\n",
       " 5.7172172532414836\n",
       " 4.639425144162218\n",
       " 3.9993603502668087\n",
       " 6.956557139246081\n",
       " 7.0906812949726366\n",
       " 5.412900773072941"
      ]
     },
     "execution_count": 28,
     "metadata": {},
     "output_type": "execute_result"
    }
   ],
   "source": [
    "@time map(sum, Tables.namedtupleiterator(df2))"
   ]
  },
  {
   "cell_type": "markdown",
   "metadata": {},
   "source": [
    "as you can see - this time it is much faster to iterate a type stable container"
   ]
  }
 ],
 "metadata": {
  "@webio": {
   "lastCommId": null,
   "lastKernelId": null
  },
  "kernelspec": {
   "display_name": "Julia 1.5.1",
   "language": "julia",
   "name": "julia-1.5"
  },
  "language_info": {
   "file_extension": ".jl",
   "mimetype": "application/julia",
   "name": "julia",
   "version": "1.5.1"
  }
 },
 "nbformat": 4,
 "nbformat_minor": 1
}
