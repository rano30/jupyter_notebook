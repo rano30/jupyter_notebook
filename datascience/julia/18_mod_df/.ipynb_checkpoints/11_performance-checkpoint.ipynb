{
 "cells": [
  {
   "cell_type": "markdown",
   "metadata": {},
   "source": [
    "Data Science Fundamentals: Julia |\n",
    "[Table of Contents](../index.ipynb)\n",
    "- - - \n",
    "<!--NAVIGATION-->\n",
    "Module 18. [Constructors](01_constructors.ipynb) | [Basic Information](02_basicinfo.ipynb) | [Missing Values](03_missingvalues.ipynb) | [Load Save](04_loadsave.ipynb) | [Columns](05_columns.ipynb) | [Rows](06_rows.ipynb) | [Factors](07_factors.ipynb) | [Joins](08_joins.ipynb) | [Reshaping](09_reshaping.ipynb) | [Transforms](10_transforms.ipynb) | **[Performance](11_performance.ipynb)** | [Pitfalls](12_pitfalls.ipynb) | [Extras](13_extras.ipynb)"
   ]
  },
  {
   "cell_type": "code",
   "execution_count": 1,
   "metadata": {},
   "outputs": [],
   "source": [
    "using DataFrames\n",
    "using BenchmarkTools"
   ]
  },
  {
   "cell_type": "markdown",
   "metadata": {},
   "source": [
    "## Performance tips"
   ]
  },
  {
   "cell_type": "markdown",
   "metadata": {},
   "source": [
    "### Access by column number is faster than by name"
   ]
  },
  {
   "cell_type": "code",
   "execution_count": 2,
   "metadata": {},
   "outputs": [
    {
     "name": "stdout",
     "output_type": "stream",
     "text": [
      "  2.837 ns (0 allocations: 0 bytes)\n",
      "  11.796 ns (0 allocations: 0 bytes)\n"
     ]
    }
   ],
   "source": [
    "x = DataFrame(rand(5, 1000))\n",
    "@btime $x[!, 500];\n",
    "@btime $x.x500;"
   ]
  },
  {
   "cell_type": "markdown",
   "metadata": {},
   "source": [
    "### When working with data `DataFrame` use barrier functions or type annotation"
   ]
  },
  {
   "cell_type": "code",
   "execution_count": 3,
   "metadata": {},
   "outputs": [
    {
     "name": "stdout",
     "output_type": "stream",
     "text": [
      "  70.038 ms (5999014 allocations: 122.06 MiB)\n"
     ]
    }
   ],
   "source": [
    "using Random\n",
    "function f_bad() # this function will be slow\n",
    "    Random.seed!(1); x = DataFrame(rand(1000000,2))\n",
    "    y, z = x[!, 1], x[!, 2]\n",
    "    p = 0.0\n",
    "    for i in 1:nrow(x)\n",
    "        p += y[i]*z[i]\n",
    "    end\n",
    "    p\n",
    "end\n",
    "\n",
    "@btime f_bad();\n",
    "# if you run @code_warntype f_bad() then you notice\n",
    "# that Julia does not know column types of `DataFrame`\n"
   ]
  },
  {
   "cell_type": "code",
   "execution_count": 4,
   "metadata": {},
   "outputs": [
    {
     "name": "stdout",
     "output_type": "stream",
     "text": [
      "  5.747 ms (36 allocations: 30.52 MiB)\n",
      "  5.471 ms (36 allocations: 30.52 MiB)\n"
     ]
    }
   ],
   "source": [
    "# solution 1 is to use barrier function (it should be possible to use it in almost any code)\n",
    "function f_inner(y,z)\n",
    "   p = 0.0\n",
    "   for i in 1:length(y)\n",
    "       p += y[i]*z[i]\n",
    "   end\n",
    "   p\n",
    "end\n",
    "\n",
    "function f_barrier() # extract the work to an inner function\n",
    "    Random.seed!(1); x = DataFrame(rand(1000000,2))\n",
    "    f_inner(x[!, 1], x[!, 2])\n",
    "end\n",
    "\n",
    "using LinearAlgebra\n",
    "function f_inbuilt() # or use inbuilt function if possible\n",
    "    Random.seed!(1); x = DataFrame(rand(1000000,2))\n",
    "    dot(x[!, 1], x[!, 2])\n",
    "end\n",
    "\n",
    "@btime f_barrier();\n",
    "@btime f_inbuilt();"
   ]
  },
  {
   "cell_type": "code",
   "execution_count": 5,
   "metadata": {},
   "outputs": [
    {
     "name": "stdout",
     "output_type": "stream",
     "text": [
      "  5.892 ms (36 allocations: 30.52 MiB)\n"
     ]
    }
   ],
   "source": [
    "# solution 2 is to provide the types of extracted columns\n",
    "# it is simpler but there are cases in which you will not know these types\n",
    "# This example  assumes that you have DataFrames master at least from August 31, 2018\n",
    "function f_typed()\n",
    "    Random.seed!(1); x = DataFrame(rand(1000000,2))\n",
    "    y::Vector{Float64}, z::Vector{Float64} = x[!, 1], x[!, 2]\n",
    "    p = 0.0\n",
    "    for i in 1:nrow(x)\n",
    "        p += y[i]*z[i]\n",
    "    end\n",
    "    p\n",
    "end\n",
    "\n",
    "@btime f_typed();"
   ]
  },
  {
   "cell_type": "markdown",
   "metadata": {},
   "source": [
    "In general for tall and narrow tables it is often useful to use `Tables.rowtable`, `Tables.columntable` or `Tables.namedtupleiterator` for intermediate processing of data in a type-stable way."
   ]
  },
  {
   "cell_type": "markdown",
   "metadata": {},
   "source": [
    "### Consider using delayed `DataFrame` creation technique"
   ]
  },
  {
   "cell_type": "markdown",
   "metadata": {},
   "source": [
    "also notice the difference in performance between `DataFrame` and `DataFrame!` (copying vs non-copying data frame creation)"
   ]
  },
  {
   "cell_type": "code",
   "execution_count": 6,
   "metadata": {},
   "outputs": [
    {
     "name": "stdout",
     "output_type": "stream",
     "text": [
      "  26.782 ms (1949729 allocations: 37.42 MiB)\n",
      "  28.022 ms (1949929 allocations: 45.05 MiB)\n",
      "  4.403 ms (830 allocations: 7.68 MiB)\n",
      "  5.251 ms (1030 allocations: 15.32 MiB)\n"
     ]
    }
   ],
   "source": [
    "function f1()\n",
    "    x = DataFrame!([Vector{Float64}(undef, 10^4) for i in 1:100]) # we work with a DataFrame directly\n",
    "    for c in 1:ncol(x)\n",
    "        d = x[!, c]\n",
    "        for r in 1:nrow(x)\n",
    "            d[r] = rand()\n",
    "        end\n",
    "    end\n",
    "    x\n",
    "end\n",
    "\n",
    "function f1a()\n",
    "    x = DataFrame([Vector{Float64}(undef, 10^4) for i in 1:100]) # we work with a DataFrame directly\n",
    "    for c in 1:ncol(x)\n",
    "        d = x[!, c]\n",
    "        for r in 1:nrow(x)\n",
    "            d[r] = rand()\n",
    "        end\n",
    "    end\n",
    "    x\n",
    "end\n",
    "\n",
    "function f2()\n",
    "    x = Vector{Any}(undef, 100)\n",
    "    for c in 1:length(x)\n",
    "        d = Vector{Float64}(undef, 10^4)\n",
    "        for r in 1:length(d)\n",
    "            d[r] = rand()\n",
    "        end\n",
    "        x[c] = d\n",
    "    end\n",
    "    DataFrame!(x) # we delay creation of DataFrame after we have our job done\n",
    "end\n",
    "\n",
    "function f2a()\n",
    "    x = Vector{Any}(undef, 100)\n",
    "    for c in 1:length(x)\n",
    "        d = Vector{Float64}(undef, 10^4)\n",
    "        for r in 1:length(d)\n",
    "            d[r] = rand()\n",
    "        end\n",
    "        x[c] = d\n",
    "    end\n",
    "    DataFrame(x) # we delay creation of DataFrame after we have our job done\n",
    "end\n",
    "\n",
    "@btime f1();\n",
    "@btime f1a();\n",
    "@btime f2();\n",
    "@btime f2a();"
   ]
  },
  {
   "cell_type": "markdown",
   "metadata": {},
   "source": [
    "### You can add rows to a `DataFrame` in place and it is fast"
   ]
  },
  {
   "cell_type": "code",
   "execution_count": 7,
   "metadata": {},
   "outputs": [
    {
     "name": "stdout",
     "output_type": "stream",
     "text": [
      "  3.715 ms (200 allocations: 38.16 MiB)\n",
      "  939.913 ns (19 allocations: 864 bytes)\n",
      "  362.171 ns (16 allocations: 256 bytes)\n"
     ]
    }
   ],
   "source": [
    "x = DataFrame(rand(10^6, 5))\n",
    "y = DataFrame(transpose(1.0:5.0))\n",
    "z = [1.0:5.0;]\n",
    "\n",
    "@btime vcat($x, $y); # creates a new DataFrame - slow\n",
    "@btime append!($x, $y); # in place - fast\n",
    "\n",
    "x = DataFrame(rand(10^6, 5)) # reset to the same starting point\n",
    "@btime push!($x, $z); # add a single row in place - fast"
   ]
  },
  {
   "cell_type": "markdown",
   "metadata": {},
   "source": [
    "### Allowing `missing` as well as `categorical` slows down computations"
   ]
  },
  {
   "cell_type": "code",
   "execution_count": 8,
   "metadata": {},
   "outputs": [
    {
     "name": "stdout",
     "output_type": "stream",
     "text": [
      "Int64\n",
      " raw:\n",
      "  3.749 ms (7 allocations: 7.63 MiB)\n",
      " categorical:\n",
      "  16.859 ms (4 allocations: 608 bytes)\n",
      "String\n",
      " raw:\n",
      "  23.311 ms (4 allocations: 608 bytes)\n",
      " categorical:\n",
      "  27.759 ms (4 allocations: 608 bytes)\n",
      "Union{Missing, Int64}\n",
      " raw:\n",
      "  12.039 ms (4 allocations: 624 bytes)\n",
      " categorical:\n",
      "  16.830 ms (4 allocations: 608 bytes)\n",
      "Union{Missing, String}\n",
      " raw:\n",
      "  32.462 ms (4 allocations: 608 bytes)\n",
      " categorical:\n",
      "  29.268 ms (4 allocations: 608 bytes)\n"
     ]
    }
   ],
   "source": [
    "using StatsBase\n",
    "\n",
    "function test(data) # uses countmap function to test performance\n",
    "    println(eltype(data))\n",
    "    x = rand(data, 10^6)\n",
    "    y = categorical(x)\n",
    "    println(\" raw:\")\n",
    "    @btime countmap($x)\n",
    "    println(\" categorical:\")\n",
    "    @btime countmap($y)\n",
    "    nothing\n",
    "end\n",
    "\n",
    "test(1:10)\n",
    "test([randstring() for i in 1:10])\n",
    "test(allowmissing(1:10))\n",
    "test(allowmissing([randstring() for i in 1:10]))\n"
   ]
  },
  {
   "cell_type": "markdown",
   "metadata": {},
   "source": [
    "### When aggregating use column selector and prefer categorical or pooled array grouping variable"
   ]
  },
  {
   "cell_type": "code",
   "execution_count": 9,
   "metadata": {},
   "outputs": [],
   "source": [
    "df = DataFrame(x=rand('a':'d', 10^7), y=1);"
   ]
  },
  {
   "cell_type": "code",
   "execution_count": 10,
   "metadata": {
    "scrolled": true
   },
   "outputs": [
    {
     "data": {
      "text/html": [
       "<p><b>GroupedDataFrame with 4 groups based on key: x</b></p><p><i>First Group (2500455 rows): x = 'a'</i></p><table class=\"data-frame\"><thead><tr><th></th><th>x</th><th>y</th></tr><tr><th></th><th>Char</th><th>Int64</th></tr></thead><tbody><tr><th>1</th><td>'a'</td><td>1</td></tr><tr><th>2</th><td>'a'</td><td>1</td></tr><tr><th>3</th><td>'a'</td><td>1</td></tr><tr><th>4</th><td>'a'</td><td>1</td></tr><tr><th>5</th><td>'a'</td><td>1</td></tr><tr><th>6</th><td>'a'</td><td>1</td></tr><tr><th>7</th><td>'a'</td><td>1</td></tr><tr><th>8</th><td>'a'</td><td>1</td></tr><tr><th>9</th><td>'a'</td><td>1</td></tr><tr><th>10</th><td>'a'</td><td>1</td></tr><tr><th>11</th><td>'a'</td><td>1</td></tr><tr><th>12</th><td>'a'</td><td>1</td></tr><tr><th>13</th><td>'a'</td><td>1</td></tr><tr><th>14</th><td>'a'</td><td>1</td></tr><tr><th>15</th><td>'a'</td><td>1</td></tr><tr><th>16</th><td>'a'</td><td>1</td></tr><tr><th>17</th><td>'a'</td><td>1</td></tr><tr><th>18</th><td>'a'</td><td>1</td></tr><tr><th>19</th><td>'a'</td><td>1</td></tr><tr><th>20</th><td>'a'</td><td>1</td></tr><tr><th>21</th><td>'a'</td><td>1</td></tr><tr><th>22</th><td>'a'</td><td>1</td></tr><tr><th>23</th><td>'a'</td><td>1</td></tr><tr><th>24</th><td>'a'</td><td>1</td></tr><tr><th>25</th><td>'a'</td><td>1</td></tr><tr><th>26</th><td>'a'</td><td>1</td></tr><tr><th>27</th><td>'a'</td><td>1</td></tr><tr><th>28</th><td>'a'</td><td>1</td></tr><tr><th>29</th><td>'a'</td><td>1</td></tr><tr><th>30</th><td>'a'</td><td>1</td></tr><tr><th>&vellip;</th><td>&vellip;</td><td>&vellip;</td></tr></tbody></table><p>&vellip;</p><p><i>Last Group (2500490 rows): x = 'c'</i></p><table class=\"data-frame\"><thead><tr><th></th><th>x</th><th>y</th></tr><tr><th></th><th>Char</th><th>Int64</th></tr></thead><tbody><tr><th>1</th><td>'c'</td><td>1</td></tr><tr><th>2</th><td>'c'</td><td>1</td></tr><tr><th>3</th><td>'c'</td><td>1</td></tr><tr><th>4</th><td>'c'</td><td>1</td></tr><tr><th>5</th><td>'c'</td><td>1</td></tr><tr><th>6</th><td>'c'</td><td>1</td></tr><tr><th>7</th><td>'c'</td><td>1</td></tr><tr><th>8</th><td>'c'</td><td>1</td></tr><tr><th>9</th><td>'c'</td><td>1</td></tr><tr><th>10</th><td>'c'</td><td>1</td></tr><tr><th>11</th><td>'c'</td><td>1</td></tr><tr><th>12</th><td>'c'</td><td>1</td></tr><tr><th>13</th><td>'c'</td><td>1</td></tr><tr><th>14</th><td>'c'</td><td>1</td></tr><tr><th>15</th><td>'c'</td><td>1</td></tr><tr><th>16</th><td>'c'</td><td>1</td></tr><tr><th>17</th><td>'c'</td><td>1</td></tr><tr><th>18</th><td>'c'</td><td>1</td></tr><tr><th>19</th><td>'c'</td><td>1</td></tr><tr><th>20</th><td>'c'</td><td>1</td></tr><tr><th>21</th><td>'c'</td><td>1</td></tr><tr><th>22</th><td>'c'</td><td>1</td></tr><tr><th>23</th><td>'c'</td><td>1</td></tr><tr><th>24</th><td>'c'</td><td>1</td></tr><tr><th>25</th><td>'c'</td><td>1</td></tr><tr><th>26</th><td>'c'</td><td>1</td></tr><tr><th>27</th><td>'c'</td><td>1</td></tr><tr><th>28</th><td>'c'</td><td>1</td></tr><tr><th>29</th><td>'c'</td><td>1</td></tr><tr><th>30</th><td>'c'</td><td>1</td></tr><tr><th>&vellip;</th><td>&vellip;</td><td>&vellip;</td></tr></tbody></table>"
      ],
      "text/latex": [
       "GroupedDataFrame with 4 groups based on key: x\n",
       "\n",
       "First Group (2500455 rows): x = 'a'\n",
       "\n",
       "\\begin{tabular}{r|cc}\n",
       "\t& x & y\\\\\n",
       "\t\\hline\n",
       "\t& Char & Int64\\\\\n",
       "\t\\hline\n",
       "\t1 & 'a' & 1 \\\\\n",
       "\t2 & 'a' & 1 \\\\\n",
       "\t3 & 'a' & 1 \\\\\n",
       "\t4 & 'a' & 1 \\\\\n",
       "\t5 & 'a' & 1 \\\\\n",
       "\t6 & 'a' & 1 \\\\\n",
       "\t7 & 'a' & 1 \\\\\n",
       "\t8 & 'a' & 1 \\\\\n",
       "\t9 & 'a' & 1 \\\\\n",
       "\t10 & 'a' & 1 \\\\\n",
       "\t11 & 'a' & 1 \\\\\n",
       "\t12 & 'a' & 1 \\\\\n",
       "\t13 & 'a' & 1 \\\\\n",
       "\t14 & 'a' & 1 \\\\\n",
       "\t15 & 'a' & 1 \\\\\n",
       "\t16 & 'a' & 1 \\\\\n",
       "\t17 & 'a' & 1 \\\\\n",
       "\t18 & 'a' & 1 \\\\\n",
       "\t19 & 'a' & 1 \\\\\n",
       "\t20 & 'a' & 1 \\\\\n",
       "\t21 & 'a' & 1 \\\\\n",
       "\t22 & 'a' & 1 \\\\\n",
       "\t23 & 'a' & 1 \\\\\n",
       "\t24 & 'a' & 1 \\\\\n",
       "\t25 & 'a' & 1 \\\\\n",
       "\t26 & 'a' & 1 \\\\\n",
       "\t27 & 'a' & 1 \\\\\n",
       "\t28 & 'a' & 1 \\\\\n",
       "\t29 & 'a' & 1 \\\\\n",
       "\t30 & 'a' & 1 \\\\\n",
       "\t$\\dots$ & $\\dots$ & $\\dots$ \\\\\n",
       "\\end{tabular}\n",
       "\n",
       "$\\dots$\n",
       "\n",
       "Last Group (2500490 rows): x = 'c'\n",
       "\n",
       "\\begin{tabular}{r|cc}\n",
       "\t& x & y\\\\\n",
       "\t\\hline\n",
       "\t& Char & Int64\\\\\n",
       "\t\\hline\n",
       "\t1 & 'c' & 1 \\\\\n",
       "\t2 & 'c' & 1 \\\\\n",
       "\t3 & 'c' & 1 \\\\\n",
       "\t4 & 'c' & 1 \\\\\n",
       "\t5 & 'c' & 1 \\\\\n",
       "\t6 & 'c' & 1 \\\\\n",
       "\t7 & 'c' & 1 \\\\\n",
       "\t8 & 'c' & 1 \\\\\n",
       "\t9 & 'c' & 1 \\\\\n",
       "\t10 & 'c' & 1 \\\\\n",
       "\t11 & 'c' & 1 \\\\\n",
       "\t12 & 'c' & 1 \\\\\n",
       "\t13 & 'c' & 1 \\\\\n",
       "\t14 & 'c' & 1 \\\\\n",
       "\t15 & 'c' & 1 \\\\\n",
       "\t16 & 'c' & 1 \\\\\n",
       "\t17 & 'c' & 1 \\\\\n",
       "\t18 & 'c' & 1 \\\\\n",
       "\t19 & 'c' & 1 \\\\\n",
       "\t20 & 'c' & 1 \\\\\n",
       "\t21 & 'c' & 1 \\\\\n",
       "\t22 & 'c' & 1 \\\\\n",
       "\t23 & 'c' & 1 \\\\\n",
       "\t24 & 'c' & 1 \\\\\n",
       "\t25 & 'c' & 1 \\\\\n",
       "\t26 & 'c' & 1 \\\\\n",
       "\t27 & 'c' & 1 \\\\\n",
       "\t28 & 'c' & 1 \\\\\n",
       "\t29 & 'c' & 1 \\\\\n",
       "\t30 & 'c' & 1 \\\\\n",
       "\t$\\dots$ & $\\dots$ & $\\dots$ \\\\\n",
       "\\end{tabular}\n"
      ],
      "text/plain": [
       "GroupedDataFrame with 4 groups based on key: x\n",
       "First Group (2500455 rows): x = 'a'\n",
       "│ Row     │ x    │ y     │\n",
       "│         │ \u001b[90mChar\u001b[39m │ \u001b[90mInt64\u001b[39m │\n",
       "├─────────┼──────┼───────┤\n",
       "│ 1       │ 'a'  │ 1     │\n",
       "│ 2       │ 'a'  │ 1     │\n",
       "│ 3       │ 'a'  │ 1     │\n",
       "│ 4       │ 'a'  │ 1     │\n",
       "│ 5       │ 'a'  │ 1     │\n",
       "│ 6       │ 'a'  │ 1     │\n",
       "│ 7       │ 'a'  │ 1     │\n",
       "│ 8       │ 'a'  │ 1     │\n",
       "│ 9       │ 'a'  │ 1     │\n",
       "│ 10      │ 'a'  │ 1     │\n",
       "⋮\n",
       "│ 2500445 │ 'a'  │ 1     │\n",
       "│ 2500446 │ 'a'  │ 1     │\n",
       "│ 2500447 │ 'a'  │ 1     │\n",
       "│ 2500448 │ 'a'  │ 1     │\n",
       "│ 2500449 │ 'a'  │ 1     │\n",
       "│ 2500450 │ 'a'  │ 1     │\n",
       "│ 2500451 │ 'a'  │ 1     │\n",
       "│ 2500452 │ 'a'  │ 1     │\n",
       "│ 2500453 │ 'a'  │ 1     │\n",
       "│ 2500454 │ 'a'  │ 1     │\n",
       "│ 2500455 │ 'a'  │ 1     │\n",
       "⋮\n",
       "Last Group (2500490 rows): x = 'c'\n",
       "│ Row     │ x    │ y     │\n",
       "│         │ \u001b[90mChar\u001b[39m │ \u001b[90mInt64\u001b[39m │\n",
       "├─────────┼──────┼───────┤\n",
       "│ 1       │ 'c'  │ 1     │\n",
       "│ 2       │ 'c'  │ 1     │\n",
       "│ 3       │ 'c'  │ 1     │\n",
       "│ 4       │ 'c'  │ 1     │\n",
       "│ 5       │ 'c'  │ 1     │\n",
       "│ 6       │ 'c'  │ 1     │\n",
       "│ 7       │ 'c'  │ 1     │\n",
       "│ 8       │ 'c'  │ 1     │\n",
       "│ 9       │ 'c'  │ 1     │\n",
       "│ 10      │ 'c'  │ 1     │\n",
       "⋮\n",
       "│ 2500480 │ 'c'  │ 1     │\n",
       "│ 2500481 │ 'c'  │ 1     │\n",
       "│ 2500482 │ 'c'  │ 1     │\n",
       "│ 2500483 │ 'c'  │ 1     │\n",
       "│ 2500484 │ 'c'  │ 1     │\n",
       "│ 2500485 │ 'c'  │ 1     │\n",
       "│ 2500486 │ 'c'  │ 1     │\n",
       "│ 2500487 │ 'c'  │ 1     │\n",
       "│ 2500488 │ 'c'  │ 1     │\n",
       "│ 2500489 │ 'c'  │ 1     │\n",
       "│ 2500490 │ 'c'  │ 1     │"
      ]
     },
     "execution_count": 10,
     "metadata": {},
     "output_type": "execute_result"
    }
   ],
   "source": [
    "gdf = groupby(df, :x)"
   ]
  },
  {
   "cell_type": "code",
   "execution_count": 11,
   "metadata": {},
   "outputs": [
    {
     "name": "stdout",
     "output_type": "stream",
     "text": [
      "  49.725 ms (193 allocations: 76.31 MiB)\n"
     ]
    },
    {
     "data": {
      "text/html": [
       "<table class=\"data-frame\"><thead><tr><th></th><th>x</th><th>x1</th></tr><tr><th></th><th>Char</th><th>Int64</th></tr></thead><tbody><p>4 rows × 2 columns</p><tr><th>1</th><td>'a'</td><td>2500455</td></tr><tr><th>2</th><td>'b'</td><td>2499250</td></tr><tr><th>3</th><td>'d'</td><td>2499805</td></tr><tr><th>4</th><td>'c'</td><td>2500490</td></tr></tbody></table>"
      ],
      "text/latex": [
       "\\begin{tabular}{r|cc}\n",
       "\t& x & x1\\\\\n",
       "\t\\hline\n",
       "\t& Char & Int64\\\\\n",
       "\t\\hline\n",
       "\t1 & 'a' & 2500455 \\\\\n",
       "\t2 & 'b' & 2499250 \\\\\n",
       "\t3 & 'd' & 2499805 \\\\\n",
       "\t4 & 'c' & 2500490 \\\\\n",
       "\\end{tabular}\n"
      ],
      "text/plain": [
       "4×2 DataFrame\n",
       "│ Row │ x    │ x1      │\n",
       "│     │ \u001b[90mChar\u001b[39m │ \u001b[90mInt64\u001b[39m   │\n",
       "├─────┼──────┼─────────┤\n",
       "│ 1   │ 'a'  │ 2500455 │\n",
       "│ 2   │ 'b'  │ 2499250 │\n",
       "│ 3   │ 'd'  │ 2499805 │\n",
       "│ 4   │ 'c'  │ 2500490 │"
      ]
     },
     "execution_count": 11,
     "metadata": {},
     "output_type": "execute_result"
    }
   ],
   "source": [
    "@btime combine(v -> sum(v.y), $gdf) # traditional syntax, slow"
   ]
  },
  {
   "cell_type": "code",
   "execution_count": 12,
   "metadata": {
    "scrolled": true
   },
   "outputs": [
    {
     "name": "stdout",
     "output_type": "stream",
     "text": [
      "  12.342 ms (169 allocations: 12.05 KiB)\n"
     ]
    },
    {
     "data": {
      "text/html": [
       "<table class=\"data-frame\"><thead><tr><th></th><th>x</th><th>y_sum</th></tr><tr><th></th><th>Char</th><th>Int64</th></tr></thead><tbody><p>4 rows × 2 columns</p><tr><th>1</th><td>'a'</td><td>2500455</td></tr><tr><th>2</th><td>'b'</td><td>2499250</td></tr><tr><th>3</th><td>'d'</td><td>2499805</td></tr><tr><th>4</th><td>'c'</td><td>2500490</td></tr></tbody></table>"
      ],
      "text/latex": [
       "\\begin{tabular}{r|cc}\n",
       "\t& x & y\\_sum\\\\\n",
       "\t\\hline\n",
       "\t& Char & Int64\\\\\n",
       "\t\\hline\n",
       "\t1 & 'a' & 2500455 \\\\\n",
       "\t2 & 'b' & 2499250 \\\\\n",
       "\t3 & 'd' & 2499805 \\\\\n",
       "\t4 & 'c' & 2500490 \\\\\n",
       "\\end{tabular}\n"
      ],
      "text/plain": [
       "4×2 DataFrame\n",
       "│ Row │ x    │ y_sum   │\n",
       "│     │ \u001b[90mChar\u001b[39m │ \u001b[90mInt64\u001b[39m   │\n",
       "├─────┼──────┼─────────┤\n",
       "│ 1   │ 'a'  │ 2500455 │\n",
       "│ 2   │ 'b'  │ 2499250 │\n",
       "│ 3   │ 'd'  │ 2499805 │\n",
       "│ 4   │ 'c'  │ 2500490 │"
      ]
     },
     "execution_count": 12,
     "metadata": {},
     "output_type": "execute_result"
    }
   ],
   "source": [
    "@btime combine($gdf, :y=>sum) # use column selector"
   ]
  },
  {
   "cell_type": "code",
   "execution_count": 13,
   "metadata": {},
   "outputs": [],
   "source": [
    "categorical!(df, :x);"
   ]
  },
  {
   "cell_type": "code",
   "execution_count": 14,
   "metadata": {},
   "outputs": [
    {
     "data": {
      "text/html": [
       "<p><b>GroupedDataFrame with 4 groups based on key: x</b></p><p><i>First Group (2500455 rows): x = 'a'</i></p><table class=\"data-frame\"><thead><tr><th></th><th>x</th><th>y</th></tr><tr><th></th><th>Cat…</th><th>Int64</th></tr></thead><tbody><tr><th>1</th><td>'a'</td><td>1</td></tr><tr><th>2</th><td>'a'</td><td>1</td></tr><tr><th>3</th><td>'a'</td><td>1</td></tr><tr><th>4</th><td>'a'</td><td>1</td></tr><tr><th>5</th><td>'a'</td><td>1</td></tr><tr><th>6</th><td>'a'</td><td>1</td></tr><tr><th>7</th><td>'a'</td><td>1</td></tr><tr><th>8</th><td>'a'</td><td>1</td></tr><tr><th>9</th><td>'a'</td><td>1</td></tr><tr><th>10</th><td>'a'</td><td>1</td></tr><tr><th>11</th><td>'a'</td><td>1</td></tr><tr><th>12</th><td>'a'</td><td>1</td></tr><tr><th>13</th><td>'a'</td><td>1</td></tr><tr><th>14</th><td>'a'</td><td>1</td></tr><tr><th>15</th><td>'a'</td><td>1</td></tr><tr><th>16</th><td>'a'</td><td>1</td></tr><tr><th>17</th><td>'a'</td><td>1</td></tr><tr><th>18</th><td>'a'</td><td>1</td></tr><tr><th>19</th><td>'a'</td><td>1</td></tr><tr><th>20</th><td>'a'</td><td>1</td></tr><tr><th>21</th><td>'a'</td><td>1</td></tr><tr><th>22</th><td>'a'</td><td>1</td></tr><tr><th>23</th><td>'a'</td><td>1</td></tr><tr><th>24</th><td>'a'</td><td>1</td></tr><tr><th>25</th><td>'a'</td><td>1</td></tr><tr><th>26</th><td>'a'</td><td>1</td></tr><tr><th>27</th><td>'a'</td><td>1</td></tr><tr><th>28</th><td>'a'</td><td>1</td></tr><tr><th>29</th><td>'a'</td><td>1</td></tr><tr><th>30</th><td>'a'</td><td>1</td></tr><tr><th>&vellip;</th><td>&vellip;</td><td>&vellip;</td></tr></tbody></table><p>&vellip;</p><p><i>Last Group (2499805 rows): x = 'd'</i></p><table class=\"data-frame\"><thead><tr><th></th><th>x</th><th>y</th></tr><tr><th></th><th>Cat…</th><th>Int64</th></tr></thead><tbody><tr><th>1</th><td>'d'</td><td>1</td></tr><tr><th>2</th><td>'d'</td><td>1</td></tr><tr><th>3</th><td>'d'</td><td>1</td></tr><tr><th>4</th><td>'d'</td><td>1</td></tr><tr><th>5</th><td>'d'</td><td>1</td></tr><tr><th>6</th><td>'d'</td><td>1</td></tr><tr><th>7</th><td>'d'</td><td>1</td></tr><tr><th>8</th><td>'d'</td><td>1</td></tr><tr><th>9</th><td>'d'</td><td>1</td></tr><tr><th>10</th><td>'d'</td><td>1</td></tr><tr><th>11</th><td>'d'</td><td>1</td></tr><tr><th>12</th><td>'d'</td><td>1</td></tr><tr><th>13</th><td>'d'</td><td>1</td></tr><tr><th>14</th><td>'d'</td><td>1</td></tr><tr><th>15</th><td>'d'</td><td>1</td></tr><tr><th>16</th><td>'d'</td><td>1</td></tr><tr><th>17</th><td>'d'</td><td>1</td></tr><tr><th>18</th><td>'d'</td><td>1</td></tr><tr><th>19</th><td>'d'</td><td>1</td></tr><tr><th>20</th><td>'d'</td><td>1</td></tr><tr><th>21</th><td>'d'</td><td>1</td></tr><tr><th>22</th><td>'d'</td><td>1</td></tr><tr><th>23</th><td>'d'</td><td>1</td></tr><tr><th>24</th><td>'d'</td><td>1</td></tr><tr><th>25</th><td>'d'</td><td>1</td></tr><tr><th>26</th><td>'d'</td><td>1</td></tr><tr><th>27</th><td>'d'</td><td>1</td></tr><tr><th>28</th><td>'d'</td><td>1</td></tr><tr><th>29</th><td>'d'</td><td>1</td></tr><tr><th>30</th><td>'d'</td><td>1</td></tr><tr><th>&vellip;</th><td>&vellip;</td><td>&vellip;</td></tr></tbody></table>"
      ],
      "text/latex": [
       "GroupedDataFrame with 4 groups based on key: x\n",
       "\n",
       "First Group (2500455 rows): x = 'a'\n",
       "\n",
       "\\begin{tabular}{r|cc}\n",
       "\t& x & y\\\\\n",
       "\t\\hline\n",
       "\t& Cat… & Int64\\\\\n",
       "\t\\hline\n",
       "\t1 & 'a' & 1 \\\\\n",
       "\t2 & 'a' & 1 \\\\\n",
       "\t3 & 'a' & 1 \\\\\n",
       "\t4 & 'a' & 1 \\\\\n",
       "\t5 & 'a' & 1 \\\\\n",
       "\t6 & 'a' & 1 \\\\\n",
       "\t7 & 'a' & 1 \\\\\n",
       "\t8 & 'a' & 1 \\\\\n",
       "\t9 & 'a' & 1 \\\\\n",
       "\t10 & 'a' & 1 \\\\\n",
       "\t11 & 'a' & 1 \\\\\n",
       "\t12 & 'a' & 1 \\\\\n",
       "\t13 & 'a' & 1 \\\\\n",
       "\t14 & 'a' & 1 \\\\\n",
       "\t15 & 'a' & 1 \\\\\n",
       "\t16 & 'a' & 1 \\\\\n",
       "\t17 & 'a' & 1 \\\\\n",
       "\t18 & 'a' & 1 \\\\\n",
       "\t19 & 'a' & 1 \\\\\n",
       "\t20 & 'a' & 1 \\\\\n",
       "\t21 & 'a' & 1 \\\\\n",
       "\t22 & 'a' & 1 \\\\\n",
       "\t23 & 'a' & 1 \\\\\n",
       "\t24 & 'a' & 1 \\\\\n",
       "\t25 & 'a' & 1 \\\\\n",
       "\t26 & 'a' & 1 \\\\\n",
       "\t27 & 'a' & 1 \\\\\n",
       "\t28 & 'a' & 1 \\\\\n",
       "\t29 & 'a' & 1 \\\\\n",
       "\t30 & 'a' & 1 \\\\\n",
       "\t$\\dots$ & $\\dots$ & $\\dots$ \\\\\n",
       "\\end{tabular}\n",
       "\n",
       "$\\dots$\n",
       "\n",
       "Last Group (2499805 rows): x = 'd'\n",
       "\n",
       "\\begin{tabular}{r|cc}\n",
       "\t& x & y\\\\\n",
       "\t\\hline\n",
       "\t& Cat… & Int64\\\\\n",
       "\t\\hline\n",
       "\t1 & 'd' & 1 \\\\\n",
       "\t2 & 'd' & 1 \\\\\n",
       "\t3 & 'd' & 1 \\\\\n",
       "\t4 & 'd' & 1 \\\\\n",
       "\t5 & 'd' & 1 \\\\\n",
       "\t6 & 'd' & 1 \\\\\n",
       "\t7 & 'd' & 1 \\\\\n",
       "\t8 & 'd' & 1 \\\\\n",
       "\t9 & 'd' & 1 \\\\\n",
       "\t10 & 'd' & 1 \\\\\n",
       "\t11 & 'd' & 1 \\\\\n",
       "\t12 & 'd' & 1 \\\\\n",
       "\t13 & 'd' & 1 \\\\\n",
       "\t14 & 'd' & 1 \\\\\n",
       "\t15 & 'd' & 1 \\\\\n",
       "\t16 & 'd' & 1 \\\\\n",
       "\t17 & 'd' & 1 \\\\\n",
       "\t18 & 'd' & 1 \\\\\n",
       "\t19 & 'd' & 1 \\\\\n",
       "\t20 & 'd' & 1 \\\\\n",
       "\t21 & 'd' & 1 \\\\\n",
       "\t22 & 'd' & 1 \\\\\n",
       "\t23 & 'd' & 1 \\\\\n",
       "\t24 & 'd' & 1 \\\\\n",
       "\t25 & 'd' & 1 \\\\\n",
       "\t26 & 'd' & 1 \\\\\n",
       "\t27 & 'd' & 1 \\\\\n",
       "\t28 & 'd' & 1 \\\\\n",
       "\t29 & 'd' & 1 \\\\\n",
       "\t30 & 'd' & 1 \\\\\n",
       "\t$\\dots$ & $\\dots$ & $\\dots$ \\\\\n",
       "\\end{tabular}\n"
      ],
      "text/plain": [
       "GroupedDataFrame with 4 groups based on key: x\n",
       "First Group (2500455 rows): x = 'a'\n",
       "│ Row     │ x    │ y     │\n",
       "│         │ \u001b[90mCat…\u001b[39m │ \u001b[90mInt64\u001b[39m │\n",
       "├─────────┼──────┼───────┤\n",
       "│ 1       │ 'a'  │ 1     │\n",
       "│ 2       │ 'a'  │ 1     │\n",
       "│ 3       │ 'a'  │ 1     │\n",
       "│ 4       │ 'a'  │ 1     │\n",
       "│ 5       │ 'a'  │ 1     │\n",
       "│ 6       │ 'a'  │ 1     │\n",
       "│ 7       │ 'a'  │ 1     │\n",
       "│ 8       │ 'a'  │ 1     │\n",
       "│ 9       │ 'a'  │ 1     │\n",
       "│ 10      │ 'a'  │ 1     │\n",
       "⋮\n",
       "│ 2500445 │ 'a'  │ 1     │\n",
       "│ 2500446 │ 'a'  │ 1     │\n",
       "│ 2500447 │ 'a'  │ 1     │\n",
       "│ 2500448 │ 'a'  │ 1     │\n",
       "│ 2500449 │ 'a'  │ 1     │\n",
       "│ 2500450 │ 'a'  │ 1     │\n",
       "│ 2500451 │ 'a'  │ 1     │\n",
       "│ 2500452 │ 'a'  │ 1     │\n",
       "│ 2500453 │ 'a'  │ 1     │\n",
       "│ 2500454 │ 'a'  │ 1     │\n",
       "│ 2500455 │ 'a'  │ 1     │\n",
       "⋮\n",
       "Last Group (2499805 rows): x = 'd'\n",
       "│ Row     │ x    │ y     │\n",
       "│         │ \u001b[90mCat…\u001b[39m │ \u001b[90mInt64\u001b[39m │\n",
       "├─────────┼──────┼───────┤\n",
       "│ 1       │ 'd'  │ 1     │\n",
       "│ 2       │ 'd'  │ 1     │\n",
       "│ 3       │ 'd'  │ 1     │\n",
       "│ 4       │ 'd'  │ 1     │\n",
       "│ 5       │ 'd'  │ 1     │\n",
       "│ 6       │ 'd'  │ 1     │\n",
       "│ 7       │ 'd'  │ 1     │\n",
       "│ 8       │ 'd'  │ 1     │\n",
       "│ 9       │ 'd'  │ 1     │\n",
       "│ 10      │ 'd'  │ 1     │\n",
       "⋮\n",
       "│ 2499795 │ 'd'  │ 1     │\n",
       "│ 2499796 │ 'd'  │ 1     │\n",
       "│ 2499797 │ 'd'  │ 1     │\n",
       "│ 2499798 │ 'd'  │ 1     │\n",
       "│ 2499799 │ 'd'  │ 1     │\n",
       "│ 2499800 │ 'd'  │ 1     │\n",
       "│ 2499801 │ 'd'  │ 1     │\n",
       "│ 2499802 │ 'd'  │ 1     │\n",
       "│ 2499803 │ 'd'  │ 1     │\n",
       "│ 2499804 │ 'd'  │ 1     │\n",
       "│ 2499805 │ 'd'  │ 1     │"
      ]
     },
     "execution_count": 14,
     "metadata": {},
     "output_type": "execute_result"
    }
   ],
   "source": [
    "gdf = groupby(df, :x)"
   ]
  },
  {
   "cell_type": "code",
   "execution_count": 15,
   "metadata": {
    "scrolled": true
   },
   "outputs": [
    {
     "name": "stdout",
     "output_type": "stream",
     "text": [
      "  12.343 ms (181 allocations: 12.92 KiB)\n"
     ]
    },
    {
     "data": {
      "text/html": [
       "<table class=\"data-frame\"><thead><tr><th></th><th>x</th><th>y_sum</th></tr><tr><th></th><th>Cat…</th><th>Int64</th></tr></thead><tbody><p>4 rows × 2 columns</p><tr><th>1</th><td>'a'</td><td>2500455</td></tr><tr><th>2</th><td>'b'</td><td>2499250</td></tr><tr><th>3</th><td>'c'</td><td>2500490</td></tr><tr><th>4</th><td>'d'</td><td>2499805</td></tr></tbody></table>"
      ],
      "text/latex": [
       "\\begin{tabular}{r|cc}\n",
       "\t& x & y\\_sum\\\\\n",
       "\t\\hline\n",
       "\t& Cat… & Int64\\\\\n",
       "\t\\hline\n",
       "\t1 & 'a' & 2500455 \\\\\n",
       "\t2 & 'b' & 2499250 \\\\\n",
       "\t3 & 'c' & 2500490 \\\\\n",
       "\t4 & 'd' & 2499805 \\\\\n",
       "\\end{tabular}\n"
      ],
      "text/plain": [
       "4×2 DataFrame\n",
       "│ Row │ x    │ y_sum   │\n",
       "│     │ \u001b[90mCat…\u001b[39m │ \u001b[90mInt64\u001b[39m   │\n",
       "├─────┼──────┼─────────┤\n",
       "│ 1   │ 'a'  │ 2500455 │\n",
       "│ 2   │ 'b'  │ 2499250 │\n",
       "│ 3   │ 'c'  │ 2500490 │\n",
       "│ 4   │ 'd'  │ 2499805 │"
      ]
     },
     "execution_count": 15,
     "metadata": {},
     "output_type": "execute_result"
    }
   ],
   "source": [
    "@btime combine($gdf, :y=>sum)"
   ]
  },
  {
   "cell_type": "code",
   "execution_count": 16,
   "metadata": {},
   "outputs": [],
   "source": [
    "using PooledArrays"
   ]
  },
  {
   "cell_type": "code",
   "execution_count": 17,
   "metadata": {},
   "outputs": [
    {
     "data": {
      "text/plain": [
       "10000000-element PooledArray{Char,UInt8,1,Array{UInt8,1}}:\n",
       " 'a'\n",
       " 'b'\n",
       " 'a'\n",
       " 'b'\n",
       " 'd'\n",
       " 'a'\n",
       " 'd'\n",
       " 'c'\n",
       " 'a'\n",
       " 'b'\n",
       " 'd'\n",
       " 'a'\n",
       " 'a'\n",
       " ⋮\n",
       " 'a'\n",
       " 'd'\n",
       " 'c'\n",
       " 'b'\n",
       " 'b'\n",
       " 'b'\n",
       " 'c'\n",
       " 'c'\n",
       " 'c'\n",
       " 'a'\n",
       " 'c'\n",
       " 'c'"
      ]
     },
     "execution_count": 17,
     "metadata": {},
     "output_type": "execute_result"
    }
   ],
   "source": [
    "df.x = PooledArray{Char}(df.x)"
   ]
  },
  {
   "cell_type": "code",
   "execution_count": 18,
   "metadata": {},
   "outputs": [
    {
     "data": {
      "text/html": [
       "<p><b>GroupedDataFrame with 4 groups based on key: x</b></p><p><i>First Group (2500455 rows): x = 'a'</i></p><table class=\"data-frame\"><thead><tr><th></th><th>x</th><th>y</th></tr><tr><th></th><th>Char</th><th>Int64</th></tr></thead><tbody><tr><th>1</th><td>'a'</td><td>1</td></tr><tr><th>2</th><td>'a'</td><td>1</td></tr><tr><th>3</th><td>'a'</td><td>1</td></tr><tr><th>4</th><td>'a'</td><td>1</td></tr><tr><th>5</th><td>'a'</td><td>1</td></tr><tr><th>6</th><td>'a'</td><td>1</td></tr><tr><th>7</th><td>'a'</td><td>1</td></tr><tr><th>8</th><td>'a'</td><td>1</td></tr><tr><th>9</th><td>'a'</td><td>1</td></tr><tr><th>10</th><td>'a'</td><td>1</td></tr><tr><th>11</th><td>'a'</td><td>1</td></tr><tr><th>12</th><td>'a'</td><td>1</td></tr><tr><th>13</th><td>'a'</td><td>1</td></tr><tr><th>14</th><td>'a'</td><td>1</td></tr><tr><th>15</th><td>'a'</td><td>1</td></tr><tr><th>16</th><td>'a'</td><td>1</td></tr><tr><th>17</th><td>'a'</td><td>1</td></tr><tr><th>18</th><td>'a'</td><td>1</td></tr><tr><th>19</th><td>'a'</td><td>1</td></tr><tr><th>20</th><td>'a'</td><td>1</td></tr><tr><th>21</th><td>'a'</td><td>1</td></tr><tr><th>22</th><td>'a'</td><td>1</td></tr><tr><th>23</th><td>'a'</td><td>1</td></tr><tr><th>24</th><td>'a'</td><td>1</td></tr><tr><th>25</th><td>'a'</td><td>1</td></tr><tr><th>26</th><td>'a'</td><td>1</td></tr><tr><th>27</th><td>'a'</td><td>1</td></tr><tr><th>28</th><td>'a'</td><td>1</td></tr><tr><th>29</th><td>'a'</td><td>1</td></tr><tr><th>30</th><td>'a'</td><td>1</td></tr><tr><th>&vellip;</th><td>&vellip;</td><td>&vellip;</td></tr></tbody></table><p>&vellip;</p><p><i>Last Group (2500490 rows): x = 'c'</i></p><table class=\"data-frame\"><thead><tr><th></th><th>x</th><th>y</th></tr><tr><th></th><th>Char</th><th>Int64</th></tr></thead><tbody><tr><th>1</th><td>'c'</td><td>1</td></tr><tr><th>2</th><td>'c'</td><td>1</td></tr><tr><th>3</th><td>'c'</td><td>1</td></tr><tr><th>4</th><td>'c'</td><td>1</td></tr><tr><th>5</th><td>'c'</td><td>1</td></tr><tr><th>6</th><td>'c'</td><td>1</td></tr><tr><th>7</th><td>'c'</td><td>1</td></tr><tr><th>8</th><td>'c'</td><td>1</td></tr><tr><th>9</th><td>'c'</td><td>1</td></tr><tr><th>10</th><td>'c'</td><td>1</td></tr><tr><th>11</th><td>'c'</td><td>1</td></tr><tr><th>12</th><td>'c'</td><td>1</td></tr><tr><th>13</th><td>'c'</td><td>1</td></tr><tr><th>14</th><td>'c'</td><td>1</td></tr><tr><th>15</th><td>'c'</td><td>1</td></tr><tr><th>16</th><td>'c'</td><td>1</td></tr><tr><th>17</th><td>'c'</td><td>1</td></tr><tr><th>18</th><td>'c'</td><td>1</td></tr><tr><th>19</th><td>'c'</td><td>1</td></tr><tr><th>20</th><td>'c'</td><td>1</td></tr><tr><th>21</th><td>'c'</td><td>1</td></tr><tr><th>22</th><td>'c'</td><td>1</td></tr><tr><th>23</th><td>'c'</td><td>1</td></tr><tr><th>24</th><td>'c'</td><td>1</td></tr><tr><th>25</th><td>'c'</td><td>1</td></tr><tr><th>26</th><td>'c'</td><td>1</td></tr><tr><th>27</th><td>'c'</td><td>1</td></tr><tr><th>28</th><td>'c'</td><td>1</td></tr><tr><th>29</th><td>'c'</td><td>1</td></tr><tr><th>30</th><td>'c'</td><td>1</td></tr><tr><th>&vellip;</th><td>&vellip;</td><td>&vellip;</td></tr></tbody></table>"
      ],
      "text/latex": [
       "GroupedDataFrame with 4 groups based on key: x\n",
       "\n",
       "First Group (2500455 rows): x = 'a'\n",
       "\n",
       "\\begin{tabular}{r|cc}\n",
       "\t& x & y\\\\\n",
       "\t\\hline\n",
       "\t& Char & Int64\\\\\n",
       "\t\\hline\n",
       "\t1 & 'a' & 1 \\\\\n",
       "\t2 & 'a' & 1 \\\\\n",
       "\t3 & 'a' & 1 \\\\\n",
       "\t4 & 'a' & 1 \\\\\n",
       "\t5 & 'a' & 1 \\\\\n",
       "\t6 & 'a' & 1 \\\\\n",
       "\t7 & 'a' & 1 \\\\\n",
       "\t8 & 'a' & 1 \\\\\n",
       "\t9 & 'a' & 1 \\\\\n",
       "\t10 & 'a' & 1 \\\\\n",
       "\t11 & 'a' & 1 \\\\\n",
       "\t12 & 'a' & 1 \\\\\n",
       "\t13 & 'a' & 1 \\\\\n",
       "\t14 & 'a' & 1 \\\\\n",
       "\t15 & 'a' & 1 \\\\\n",
       "\t16 & 'a' & 1 \\\\\n",
       "\t17 & 'a' & 1 \\\\\n",
       "\t18 & 'a' & 1 \\\\\n",
       "\t19 & 'a' & 1 \\\\\n",
       "\t20 & 'a' & 1 \\\\\n",
       "\t21 & 'a' & 1 \\\\\n",
       "\t22 & 'a' & 1 \\\\\n",
       "\t23 & 'a' & 1 \\\\\n",
       "\t24 & 'a' & 1 \\\\\n",
       "\t25 & 'a' & 1 \\\\\n",
       "\t26 & 'a' & 1 \\\\\n",
       "\t27 & 'a' & 1 \\\\\n",
       "\t28 & 'a' & 1 \\\\\n",
       "\t29 & 'a' & 1 \\\\\n",
       "\t30 & 'a' & 1 \\\\\n",
       "\t$\\dots$ & $\\dots$ & $\\dots$ \\\\\n",
       "\\end{tabular}\n",
       "\n",
       "$\\dots$\n",
       "\n",
       "Last Group (2500490 rows): x = 'c'\n",
       "\n",
       "\\begin{tabular}{r|cc}\n",
       "\t& x & y\\\\\n",
       "\t\\hline\n",
       "\t& Char & Int64\\\\\n",
       "\t\\hline\n",
       "\t1 & 'c' & 1 \\\\\n",
       "\t2 & 'c' & 1 \\\\\n",
       "\t3 & 'c' & 1 \\\\\n",
       "\t4 & 'c' & 1 \\\\\n",
       "\t5 & 'c' & 1 \\\\\n",
       "\t6 & 'c' & 1 \\\\\n",
       "\t7 & 'c' & 1 \\\\\n",
       "\t8 & 'c' & 1 \\\\\n",
       "\t9 & 'c' & 1 \\\\\n",
       "\t10 & 'c' & 1 \\\\\n",
       "\t11 & 'c' & 1 \\\\\n",
       "\t12 & 'c' & 1 \\\\\n",
       "\t13 & 'c' & 1 \\\\\n",
       "\t14 & 'c' & 1 \\\\\n",
       "\t15 & 'c' & 1 \\\\\n",
       "\t16 & 'c' & 1 \\\\\n",
       "\t17 & 'c' & 1 \\\\\n",
       "\t18 & 'c' & 1 \\\\\n",
       "\t19 & 'c' & 1 \\\\\n",
       "\t20 & 'c' & 1 \\\\\n",
       "\t21 & 'c' & 1 \\\\\n",
       "\t22 & 'c' & 1 \\\\\n",
       "\t23 & 'c' & 1 \\\\\n",
       "\t24 & 'c' & 1 \\\\\n",
       "\t25 & 'c' & 1 \\\\\n",
       "\t26 & 'c' & 1 \\\\\n",
       "\t27 & 'c' & 1 \\\\\n",
       "\t28 & 'c' & 1 \\\\\n",
       "\t29 & 'c' & 1 \\\\\n",
       "\t30 & 'c' & 1 \\\\\n",
       "\t$\\dots$ & $\\dots$ & $\\dots$ \\\\\n",
       "\\end{tabular}\n"
      ],
      "text/plain": [
       "GroupedDataFrame with 4 groups based on key: x\n",
       "First Group (2500455 rows): x = 'a'\n",
       "│ Row     │ x    │ y     │\n",
       "│         │ \u001b[90mChar\u001b[39m │ \u001b[90mInt64\u001b[39m │\n",
       "├─────────┼──────┼───────┤\n",
       "│ 1       │ 'a'  │ 1     │\n",
       "│ 2       │ 'a'  │ 1     │\n",
       "│ 3       │ 'a'  │ 1     │\n",
       "│ 4       │ 'a'  │ 1     │\n",
       "│ 5       │ 'a'  │ 1     │\n",
       "│ 6       │ 'a'  │ 1     │\n",
       "│ 7       │ 'a'  │ 1     │\n",
       "│ 8       │ 'a'  │ 1     │\n",
       "│ 9       │ 'a'  │ 1     │\n",
       "│ 10      │ 'a'  │ 1     │\n",
       "⋮\n",
       "│ 2500445 │ 'a'  │ 1     │\n",
       "│ 2500446 │ 'a'  │ 1     │\n",
       "│ 2500447 │ 'a'  │ 1     │\n",
       "│ 2500448 │ 'a'  │ 1     │\n",
       "│ 2500449 │ 'a'  │ 1     │\n",
       "│ 2500450 │ 'a'  │ 1     │\n",
       "│ 2500451 │ 'a'  │ 1     │\n",
       "│ 2500452 │ 'a'  │ 1     │\n",
       "│ 2500453 │ 'a'  │ 1     │\n",
       "│ 2500454 │ 'a'  │ 1     │\n",
       "│ 2500455 │ 'a'  │ 1     │\n",
       "⋮\n",
       "Last Group (2500490 rows): x = 'c'\n",
       "│ Row     │ x    │ y     │\n",
       "│         │ \u001b[90mChar\u001b[39m │ \u001b[90mInt64\u001b[39m │\n",
       "├─────────┼──────┼───────┤\n",
       "│ 1       │ 'c'  │ 1     │\n",
       "│ 2       │ 'c'  │ 1     │\n",
       "│ 3       │ 'c'  │ 1     │\n",
       "│ 4       │ 'c'  │ 1     │\n",
       "│ 5       │ 'c'  │ 1     │\n",
       "│ 6       │ 'c'  │ 1     │\n",
       "│ 7       │ 'c'  │ 1     │\n",
       "│ 8       │ 'c'  │ 1     │\n",
       "│ 9       │ 'c'  │ 1     │\n",
       "│ 10      │ 'c'  │ 1     │\n",
       "⋮\n",
       "│ 2500480 │ 'c'  │ 1     │\n",
       "│ 2500481 │ 'c'  │ 1     │\n",
       "│ 2500482 │ 'c'  │ 1     │\n",
       "│ 2500483 │ 'c'  │ 1     │\n",
       "│ 2500484 │ 'c'  │ 1     │\n",
       "│ 2500485 │ 'c'  │ 1     │\n",
       "│ 2500486 │ 'c'  │ 1     │\n",
       "│ 2500487 │ 'c'  │ 1     │\n",
       "│ 2500488 │ 'c'  │ 1     │\n",
       "│ 2500489 │ 'c'  │ 1     │\n",
       "│ 2500490 │ 'c'  │ 1     │"
      ]
     },
     "execution_count": 18,
     "metadata": {},
     "output_type": "execute_result"
    }
   ],
   "source": [
    "gdf = groupby(df, :x)"
   ]
  },
  {
   "cell_type": "code",
   "execution_count": 19,
   "metadata": {
    "scrolled": true
   },
   "outputs": [
    {
     "name": "stdout",
     "output_type": "stream",
     "text": [
      "  12.381 ms (176 allocations: 12.63 KiB)\n"
     ]
    },
    {
     "data": {
      "text/html": [
       "<table class=\"data-frame\"><thead><tr><th></th><th>x</th><th>y_sum</th></tr><tr><th></th><th>Char</th><th>Int64</th></tr></thead><tbody><p>4 rows × 2 columns</p><tr><th>1</th><td>'a'</td><td>2500455</td></tr><tr><th>2</th><td>'b'</td><td>2499250</td></tr><tr><th>3</th><td>'d'</td><td>2499805</td></tr><tr><th>4</th><td>'c'</td><td>2500490</td></tr></tbody></table>"
      ],
      "text/latex": [
       "\\begin{tabular}{r|cc}\n",
       "\t& x & y\\_sum\\\\\n",
       "\t\\hline\n",
       "\t& Char & Int64\\\\\n",
       "\t\\hline\n",
       "\t1 & 'a' & 2500455 \\\\\n",
       "\t2 & 'b' & 2499250 \\\\\n",
       "\t3 & 'd' & 2499805 \\\\\n",
       "\t4 & 'c' & 2500490 \\\\\n",
       "\\end{tabular}\n"
      ],
      "text/plain": [
       "4×2 DataFrame\n",
       "│ Row │ x    │ y_sum   │\n",
       "│     │ \u001b[90mChar\u001b[39m │ \u001b[90mInt64\u001b[39m   │\n",
       "├─────┼──────┼─────────┤\n",
       "│ 1   │ 'a'  │ 2500455 │\n",
       "│ 2   │ 'b'  │ 2499250 │\n",
       "│ 3   │ 'd'  │ 2499805 │\n",
       "│ 4   │ 'c'  │ 2500490 │"
      ]
     },
     "execution_count": 19,
     "metadata": {},
     "output_type": "execute_result"
    }
   ],
   "source": [
    "@btime combine($gdf, :y=>sum)"
   ]
  },
  {
   "cell_type": "markdown",
   "metadata": {},
   "source": [
    "### Use views instead of materializing a new DataFrame"
   ]
  },
  {
   "cell_type": "code",
   "execution_count": 20,
   "metadata": {
    "scrolled": true
   },
   "outputs": [
    {
     "data": {
      "text/html": [
       "<table class=\"data-frame\"><thead><tr><th></th><th>x1</th><th>x2</th><th>x3</th><th>x4</th><th>x5</th><th>x6</th><th>x7</th><th>x8</th></tr><tr><th></th><th>Float64</th><th>Float64</th><th>Float64</th><th>Float64</th><th>Float64</th><th>Float64</th><th>Float64</th><th>Float64</th></tr></thead><tbody><p>100 rows × 1,000 columns (omitted printing of 992 columns)</p><tr><th>1</th><td>0.866276</td><td>0.295163</td><td>0.459568</td><td>0.340574</td><td>0.687971</td><td>0.976229</td><td>0.388116</td><td>0.669996</td></tr><tr><th>2</th><td>0.631602</td><td>0.517963</td><td>0.777873</td><td>0.654429</td><td>0.74561</td><td>0.368433</td><td>0.732388</td><td>0.914784</td></tr><tr><th>3</th><td>0.435846</td><td>0.073114</td><td>0.0466154</td><td>0.548013</td><td>0.532386</td><td>0.317982</td><td>0.836461</td><td>0.259588</td></tr><tr><th>4</th><td>0.784843</td><td>0.057933</td><td>0.438015</td><td>0.451396</td><td>0.31707</td><td>0.862087</td><td>0.346002</td><td>0.0938355</td></tr><tr><th>5</th><td>0.191626</td><td>0.289158</td><td>0.901954</td><td>0.183431</td><td>0.080411</td><td>0.819305</td><td>0.289609</td><td>0.621425</td></tr><tr><th>6</th><td>0.593219</td><td>0.995807</td><td>0.198614</td><td>0.599726</td><td>0.300731</td><td>0.95686</td><td>0.442651</td><td>0.54594</td></tr><tr><th>7</th><td>0.852045</td><td>0.169453</td><td>0.325186</td><td>0.491535</td><td>0.700797</td><td>0.837159</td><td>0.594777</td><td>0.828016</td></tr><tr><th>8</th><td>0.844865</td><td>0.484975</td><td>0.0253496</td><td>0.820666</td><td>0.77177</td><td>0.235397</td><td>0.368437</td><td>0.131434</td></tr><tr><th>9</th><td>0.95415</td><td>0.253442</td><td>0.0529586</td><td>0.484742</td><td>0.550639</td><td>0.0281588</td><td>0.728503</td><td>0.464371</td></tr><tr><th>10</th><td>0.221597</td><td>0.153504</td><td>0.568389</td><td>0.427674</td><td>0.171532</td><td>0.552755</td><td>0.35014</td><td>0.976896</td></tr><tr><th>11</th><td>0.635865</td><td>0.152506</td><td>0.929179</td><td>0.884579</td><td>0.214165</td><td>0.710421</td><td>0.236163</td><td>0.431837</td></tr><tr><th>12</th><td>0.692974</td><td>0.852252</td><td>0.198462</td><td>0.232922</td><td>0.604365</td><td>0.0958184</td><td>0.832817</td><td>0.113663</td></tr><tr><th>13</th><td>0.866975</td><td>0.620853</td><td>0.599458</td><td>0.655479</td><td>0.803087</td><td>0.979134</td><td>0.836868</td><td>0.0507362</td></tr><tr><th>14</th><td>0.587411</td><td>0.78991</td><td>0.277578</td><td>0.87282</td><td>0.460534</td><td>0.771887</td><td>0.703482</td><td>0.848942</td></tr><tr><th>15</th><td>0.613091</td><td>0.225238</td><td>0.949335</td><td>0.123662</td><td>0.725354</td><td>0.20139</td><td>0.79571</td><td>0.715325</td></tr><tr><th>16</th><td>0.592613</td><td>0.153365</td><td>0.462956</td><td>0.177905</td><td>0.667646</td><td>0.188769</td><td>0.181989</td><td>0.744987</td></tr><tr><th>17</th><td>0.473683</td><td>0.207328</td><td>0.30101</td><td>0.229657</td><td>0.616628</td><td>0.48412</td><td>0.383708</td><td>0.340607</td></tr><tr><th>18</th><td>0.777636</td><td>0.479209</td><td>0.661451</td><td>0.477053</td><td>0.273347</td><td>0.597928</td><td>0.661365</td><td>0.989068</td></tr><tr><th>19</th><td>0.934868</td><td>0.0946681</td><td>0.888141</td><td>0.0845424</td><td>0.831854</td><td>0.972085</td><td>0.205475</td><td>0.901704</td></tr><tr><th>20</th><td>0.323308</td><td>0.733373</td><td>0.793944</td><td>0.0812372</td><td>0.184924</td><td>0.153326</td><td>0.694668</td><td>0.753822</td></tr><tr><th>21</th><td>0.4231</td><td>0.893862</td><td>0.274172</td><td>0.210649</td><td>0.142967</td><td>0.410883</td><td>0.949715</td><td>0.862699</td></tr><tr><th>22</th><td>0.728566</td><td>0.563562</td><td>0.698168</td><td>0.557361</td><td>0.205335</td><td>0.26989</td><td>0.427938</td><td>0.262341</td></tr><tr><th>23</th><td>0.773893</td><td>0.350407</td><td>0.489577</td><td>0.620304</td><td>0.0381701</td><td>0.0937795</td><td>0.596393</td><td>0.978378</td></tr><tr><th>24</th><td>0.122378</td><td>0.615065</td><td>0.953753</td><td>0.63866</td><td>0.683189</td><td>0.510268</td><td>0.540403</td><td>0.705912</td></tr><tr><th>25</th><td>0.0819867</td><td>0.254683</td><td>0.160426</td><td>0.573927</td><td>0.969721</td><td>0.121127</td><td>0.508692</td><td>0.231546</td></tr><tr><th>26</th><td>0.507559</td><td>0.277501</td><td>0.462398</td><td>0.266745</td><td>0.506897</td><td>0.454183</td><td>0.288821</td><td>0.491182</td></tr><tr><th>27</th><td>0.580081</td><td>0.322059</td><td>0.132183</td><td>0.498405</td><td>0.154161</td><td>0.969991</td><td>0.862102</td><td>0.200283</td></tr><tr><th>28</th><td>0.252802</td><td>0.406692</td><td>0.82293</td><td>0.600949</td><td>0.181244</td><td>0.304804</td><td>0.463673</td><td>0.76836</td></tr><tr><th>29</th><td>0.00803283</td><td>0.754003</td><td>0.619398</td><td>0.761331</td><td>0.813858</td><td>0.143925</td><td>0.878496</td><td>0.0391495</td></tr><tr><th>30</th><td>0.0946167</td><td>0.600728</td><td>0.186695</td><td>0.66034</td><td>0.742832</td><td>0.248536</td><td>0.123389</td><td>0.575423</td></tr><tr><th>&vellip;</th><td>&vellip;</td><td>&vellip;</td><td>&vellip;</td><td>&vellip;</td><td>&vellip;</td><td>&vellip;</td><td>&vellip;</td><td>&vellip;</td></tr></tbody></table>"
      ],
      "text/latex": [
       "\\begin{tabular}{r|ccccccccc}\n",
       "\t& x1 & x2 & x3 & x4 & x5 & x6 & x7 & x8 & \\\\\n",
       "\t\\hline\n",
       "\t& Float64 & Float64 & Float64 & Float64 & Float64 & Float64 & Float64 & Float64 & \\\\\n",
       "\t\\hline\n",
       "\t1 & 0.866276 & 0.295163 & 0.459568 & 0.340574 & 0.687971 & 0.976229 & 0.388116 & 0.669996 & $\\dots$ \\\\\n",
       "\t2 & 0.631602 & 0.517963 & 0.777873 & 0.654429 & 0.74561 & 0.368433 & 0.732388 & 0.914784 & $\\dots$ \\\\\n",
       "\t3 & 0.435846 & 0.073114 & 0.0466154 & 0.548013 & 0.532386 & 0.317982 & 0.836461 & 0.259588 & $\\dots$ \\\\\n",
       "\t4 & 0.784843 & 0.057933 & 0.438015 & 0.451396 & 0.31707 & 0.862087 & 0.346002 & 0.0938355 & $\\dots$ \\\\\n",
       "\t5 & 0.191626 & 0.289158 & 0.901954 & 0.183431 & 0.080411 & 0.819305 & 0.289609 & 0.621425 & $\\dots$ \\\\\n",
       "\t6 & 0.593219 & 0.995807 & 0.198614 & 0.599726 & 0.300731 & 0.95686 & 0.442651 & 0.54594 & $\\dots$ \\\\\n",
       "\t7 & 0.852045 & 0.169453 & 0.325186 & 0.491535 & 0.700797 & 0.837159 & 0.594777 & 0.828016 & $\\dots$ \\\\\n",
       "\t8 & 0.844865 & 0.484975 & 0.0253496 & 0.820666 & 0.77177 & 0.235397 & 0.368437 & 0.131434 & $\\dots$ \\\\\n",
       "\t9 & 0.95415 & 0.253442 & 0.0529586 & 0.484742 & 0.550639 & 0.0281588 & 0.728503 & 0.464371 & $\\dots$ \\\\\n",
       "\t10 & 0.221597 & 0.153504 & 0.568389 & 0.427674 & 0.171532 & 0.552755 & 0.35014 & 0.976896 & $\\dots$ \\\\\n",
       "\t11 & 0.635865 & 0.152506 & 0.929179 & 0.884579 & 0.214165 & 0.710421 & 0.236163 & 0.431837 & $\\dots$ \\\\\n",
       "\t12 & 0.692974 & 0.852252 & 0.198462 & 0.232922 & 0.604365 & 0.0958184 & 0.832817 & 0.113663 & $\\dots$ \\\\\n",
       "\t13 & 0.866975 & 0.620853 & 0.599458 & 0.655479 & 0.803087 & 0.979134 & 0.836868 & 0.0507362 & $\\dots$ \\\\\n",
       "\t14 & 0.587411 & 0.78991 & 0.277578 & 0.87282 & 0.460534 & 0.771887 & 0.703482 & 0.848942 & $\\dots$ \\\\\n",
       "\t15 & 0.613091 & 0.225238 & 0.949335 & 0.123662 & 0.725354 & 0.20139 & 0.79571 & 0.715325 & $\\dots$ \\\\\n",
       "\t16 & 0.592613 & 0.153365 & 0.462956 & 0.177905 & 0.667646 & 0.188769 & 0.181989 & 0.744987 & $\\dots$ \\\\\n",
       "\t17 & 0.473683 & 0.207328 & 0.30101 & 0.229657 & 0.616628 & 0.48412 & 0.383708 & 0.340607 & $\\dots$ \\\\\n",
       "\t18 & 0.777636 & 0.479209 & 0.661451 & 0.477053 & 0.273347 & 0.597928 & 0.661365 & 0.989068 & $\\dots$ \\\\\n",
       "\t19 & 0.934868 & 0.0946681 & 0.888141 & 0.0845424 & 0.831854 & 0.972085 & 0.205475 & 0.901704 & $\\dots$ \\\\\n",
       "\t20 & 0.323308 & 0.733373 & 0.793944 & 0.0812372 & 0.184924 & 0.153326 & 0.694668 & 0.753822 & $\\dots$ \\\\\n",
       "\t21 & 0.4231 & 0.893862 & 0.274172 & 0.210649 & 0.142967 & 0.410883 & 0.949715 & 0.862699 & $\\dots$ \\\\\n",
       "\t22 & 0.728566 & 0.563562 & 0.698168 & 0.557361 & 0.205335 & 0.26989 & 0.427938 & 0.262341 & $\\dots$ \\\\\n",
       "\t23 & 0.773893 & 0.350407 & 0.489577 & 0.620304 & 0.0381701 & 0.0937795 & 0.596393 & 0.978378 & $\\dots$ \\\\\n",
       "\t24 & 0.122378 & 0.615065 & 0.953753 & 0.63866 & 0.683189 & 0.510268 & 0.540403 & 0.705912 & $\\dots$ \\\\\n",
       "\t25 & 0.0819867 & 0.254683 & 0.160426 & 0.573927 & 0.969721 & 0.121127 & 0.508692 & 0.231546 & $\\dots$ \\\\\n",
       "\t26 & 0.507559 & 0.277501 & 0.462398 & 0.266745 & 0.506897 & 0.454183 & 0.288821 & 0.491182 & $\\dots$ \\\\\n",
       "\t27 & 0.580081 & 0.322059 & 0.132183 & 0.498405 & 0.154161 & 0.969991 & 0.862102 & 0.200283 & $\\dots$ \\\\\n",
       "\t28 & 0.252802 & 0.406692 & 0.82293 & 0.600949 & 0.181244 & 0.304804 & 0.463673 & 0.76836 & $\\dots$ \\\\\n",
       "\t29 & 0.00803283 & 0.754003 & 0.619398 & 0.761331 & 0.813858 & 0.143925 & 0.878496 & 0.0391495 & $\\dots$ \\\\\n",
       "\t30 & 0.0946167 & 0.600728 & 0.186695 & 0.66034 & 0.742832 & 0.248536 & 0.123389 & 0.575423 & $\\dots$ \\\\\n",
       "\t$\\dots$ & $\\dots$ & $\\dots$ & $\\dots$ & $\\dots$ & $\\dots$ & $\\dots$ & $\\dots$ & $\\dots$ &  \\\\\n",
       "\\end{tabular}\n"
      ],
      "text/plain": [
       "100×1000 DataFrame. Omitted printing of 994 columns\n",
       "│ Row │ x1        │ x2       │ x3        │ x4        │ x5        │ x6        │\n",
       "│     │ \u001b[90mFloat64\u001b[39m   │ \u001b[90mFloat64\u001b[39m  │ \u001b[90mFloat64\u001b[39m   │ \u001b[90mFloat64\u001b[39m   │ \u001b[90mFloat64\u001b[39m   │ \u001b[90mFloat64\u001b[39m   │\n",
       "├─────┼───────────┼──────────┼───────────┼───────────┼───────────┼───────────┤\n",
       "│ 1   │ 0.866276  │ 0.295163 │ 0.459568  │ 0.340574  │ 0.687971  │ 0.976229  │\n",
       "│ 2   │ 0.631602  │ 0.517963 │ 0.777873  │ 0.654429  │ 0.74561   │ 0.368433  │\n",
       "│ 3   │ 0.435846  │ 0.073114 │ 0.0466154 │ 0.548013  │ 0.532386  │ 0.317982  │\n",
       "│ 4   │ 0.784843  │ 0.057933 │ 0.438015  │ 0.451396  │ 0.31707   │ 0.862087  │\n",
       "│ 5   │ 0.191626  │ 0.289158 │ 0.901954  │ 0.183431  │ 0.080411  │ 0.819305  │\n",
       "│ 6   │ 0.593219  │ 0.995807 │ 0.198614  │ 0.599726  │ 0.300731  │ 0.95686   │\n",
       "│ 7   │ 0.852045  │ 0.169453 │ 0.325186  │ 0.491535  │ 0.700797  │ 0.837159  │\n",
       "│ 8   │ 0.844865  │ 0.484975 │ 0.0253496 │ 0.820666  │ 0.77177   │ 0.235397  │\n",
       "│ 9   │ 0.95415   │ 0.253442 │ 0.0529586 │ 0.484742  │ 0.550639  │ 0.0281588 │\n",
       "│ 10  │ 0.221597  │ 0.153504 │ 0.568389  │ 0.427674  │ 0.171532  │ 0.552755  │\n",
       "⋮\n",
       "│ 90  │ 0.830436  │ 0.578503 │ 0.522288  │ 0.0077727 │ 0.201077  │ 0.408706  │\n",
       "│ 91  │ 0.978262  │ 0.270114 │ 0.700348  │ 0.744965  │ 0.336523  │ 0.324059  │\n",
       "│ 92  │ 0.742052  │ 0.509929 │ 0.0707279 │ 0.720859  │ 0.0170281 │ 0.187109  │\n",
       "│ 93  │ 0.79767   │ 0.469639 │ 0.209307  │ 0.21709   │ 0.63152   │ 0.238581  │\n",
       "│ 94  │ 0.536006  │ 0.288692 │ 0.723243  │ 0.588229  │ 0.749808  │ 0.781225  │\n",
       "│ 95  │ 0.031071  │ 0.309949 │ 0.22913   │ 0.34811   │ 0.380667  │ 0.225107  │\n",
       "│ 96  │ 0.895181  │ 0.170742 │ 0.0487148 │ 0.130526  │ 0.609432  │ 0.684488  │\n",
       "│ 97  │ 0.533735  │ 0.226596 │ 0.676751  │ 0.926837  │ 0.0128562 │ 0.515431  │\n",
       "│ 98  │ 0.0329849 │ 0.436112 │ 0.592996  │ 0.546758  │ 0.361941  │ 0.970046  │\n",
       "│ 99  │ 0.5771    │ 0.608643 │ 0.137814  │ 0.216468  │ 0.766203  │ 0.0477515 │\n",
       "│ 100 │ 0.0959967 │ 0.565369 │ 0.27087   │ 0.603259  │ 0.209781  │ 0.45971   │"
      ]
     },
     "execution_count": 20,
     "metadata": {},
     "output_type": "execute_result"
    }
   ],
   "source": [
    "x = DataFrame(rand(100, 1000))"
   ]
  },
  {
   "cell_type": "code",
   "execution_count": 21,
   "metadata": {},
   "outputs": [
    {
     "name": "stdout",
     "output_type": "stream",
     "text": [
      "  148.254 μs (1988 allocations: 193.39 KiB)\n"
     ]
    },
    {
     "data": {
      "text/html": [
       "<table class=\"data-frame\"><thead><tr><th></th><th>x1</th><th>x2</th><th>x3</th><th>x4</th><th>x5</th><th>x6</th><th>x7</th><th>x8</th></tr><tr><th></th><th>Float64</th><th>Float64</th><th>Float64</th><th>Float64</th><th>Float64</th><th>Float64</th><th>Float64</th><th>Float64</th></tr></thead><tbody><p>1 rows × 1,000 columns (omitted printing of 992 columns)</p><tr><th>1</th><td>0.866276</td><td>0.295163</td><td>0.459568</td><td>0.340574</td><td>0.687971</td><td>0.976229</td><td>0.388116</td><td>0.669996</td></tr></tbody></table>"
      ],
      "text/latex": [
       "\\begin{tabular}{r|ccccccccc}\n",
       "\t& x1 & x2 & x3 & x4 & x5 & x6 & x7 & x8 & \\\\\n",
       "\t\\hline\n",
       "\t& Float64 & Float64 & Float64 & Float64 & Float64 & Float64 & Float64 & Float64 & \\\\\n",
       "\t\\hline\n",
       "\t1 & 0.866276 & 0.295163 & 0.459568 & 0.340574 & 0.687971 & 0.976229 & 0.388116 & 0.669996 & $\\dots$ \\\\\n",
       "\\end{tabular}\n"
      ],
      "text/plain": [
       "1×1000 DataFrame. Omitted printing of 994 columns\n",
       "│ Row │ x1       │ x2       │ x3       │ x4       │ x5       │ x6       │\n",
       "│     │ \u001b[90mFloat64\u001b[39m  │ \u001b[90mFloat64\u001b[39m  │ \u001b[90mFloat64\u001b[39m  │ \u001b[90mFloat64\u001b[39m  │ \u001b[90mFloat64\u001b[39m  │ \u001b[90mFloat64\u001b[39m  │\n",
       "├─────┼──────────┼──────────┼──────────┼──────────┼──────────┼──────────┤\n",
       "│ 1   │ 0.866276 │ 0.295163 │ 0.459568 │ 0.340574 │ 0.687971 │ 0.976229 │"
      ]
     },
     "execution_count": 21,
     "metadata": {},
     "output_type": "execute_result"
    }
   ],
   "source": [
    "@btime $x[1:1, :]"
   ]
  },
  {
   "cell_type": "code",
   "execution_count": 22,
   "metadata": {},
   "outputs": [
    {
     "name": "stdout",
     "output_type": "stream",
     "text": [
      "  25.479 ns (1 allocation: 32 bytes)\n"
     ]
    },
    {
     "data": {
      "text/html": [
       "<p>DataFrameRow (1000 columns)</p><table class=\"data-frame\"><thead><tr><th></th><th>x1</th><th>x2</th><th>x3</th><th>x4</th><th>x5</th><th>x6</th><th>x7</th><th>x8</th></tr><tr><th></th><th>Float64</th><th>Float64</th><th>Float64</th><th>Float64</th><th>Float64</th><th>Float64</th><th>Float64</th><th>Float64</th></tr></thead><tbody><tr><th>1</th><td>0.866276</td><td>0.295163</td><td>0.459568</td><td>0.340574</td><td>0.687971</td><td>0.976229</td><td>0.388116</td><td>0.669996</td></tr></tbody></table>"
      ],
      "text/latex": [
       "\\begin{tabular}{r|ccccccccc}\n",
       "\t& x1 & x2 & x3 & x4 & x5 & x6 & x7 & x8 & \\\\\n",
       "\t\\hline\n",
       "\t& Float64 & Float64 & Float64 & Float64 & Float64 & Float64 & Float64 & Float64 & \\\\\n",
       "\t\\hline\n",
       "\t1 & 0.866276 & 0.295163 & 0.459568 & 0.340574 & 0.687971 & 0.976229 & 0.388116 & 0.669996 & $\\dots$ \\\\\n",
       "\\end{tabular}\n"
      ],
      "text/plain": [
       "DataFrameRow. Omitted printing of 994 columns\n",
       "│ Row │ x1       │ x2       │ x3       │ x4       │ x5       │ x6       │\n",
       "│     │ \u001b[90mFloat64\u001b[39m  │ \u001b[90mFloat64\u001b[39m  │ \u001b[90mFloat64\u001b[39m  │ \u001b[90mFloat64\u001b[39m  │ \u001b[90mFloat64\u001b[39m  │ \u001b[90mFloat64\u001b[39m  │\n",
       "├─────┼──────────┼──────────┼──────────┼──────────┼──────────┼──────────┤\n",
       "│ 1   │ 0.866276 │ 0.295163 │ 0.459568 │ 0.340574 │ 0.687971 │ 0.976229 │"
      ]
     },
     "execution_count": 22,
     "metadata": {},
     "output_type": "execute_result"
    }
   ],
   "source": [
    "@btime $x[1, :]"
   ]
  },
  {
   "cell_type": "code",
   "execution_count": 23,
   "metadata": {},
   "outputs": [
    {
     "name": "stdout",
     "output_type": "stream",
     "text": [
      "  19.624 ns (1 allocation: 48 bytes)\n"
     ]
    },
    {
     "data": {
      "text/html": [
       "<table class=\"data-frame\"><thead><tr><th></th><th>x1</th><th>x2</th><th>x3</th><th>x4</th><th>x5</th><th>x6</th><th>x7</th><th>x8</th></tr><tr><th></th><th>Float64</th><th>Float64</th><th>Float64</th><th>Float64</th><th>Float64</th><th>Float64</th><th>Float64</th><th>Float64</th></tr></thead><tbody><p>1 rows × 1,000 columns (omitted printing of 992 columns)</p><tr><th>1</th><td>0.866276</td><td>0.295163</td><td>0.459568</td><td>0.340574</td><td>0.687971</td><td>0.976229</td><td>0.388116</td><td>0.669996</td></tr></tbody></table>"
      ],
      "text/latex": [
       "\\begin{tabular}{r|ccccccccc}\n",
       "\t& x1 & x2 & x3 & x4 & x5 & x6 & x7 & x8 & \\\\\n",
       "\t\\hline\n",
       "\t& Float64 & Float64 & Float64 & Float64 & Float64 & Float64 & Float64 & Float64 & \\\\\n",
       "\t\\hline\n",
       "\t1 & 0.866276 & 0.295163 & 0.459568 & 0.340574 & 0.687971 & 0.976229 & 0.388116 & 0.669996 & $\\dots$ \\\\\n",
       "\\end{tabular}\n"
      ],
      "text/plain": [
       "1×1000 SubDataFrame. Omitted printing of 994 columns\n",
       "│ Row │ x1       │ x2       │ x3       │ x4       │ x5       │ x6       │\n",
       "│     │ \u001b[90mFloat64\u001b[39m  │ \u001b[90mFloat64\u001b[39m  │ \u001b[90mFloat64\u001b[39m  │ \u001b[90mFloat64\u001b[39m  │ \u001b[90mFloat64\u001b[39m  │ \u001b[90mFloat64\u001b[39m  │\n",
       "├─────┼──────────┼──────────┼──────────┼──────────┼──────────┼──────────┤\n",
       "│ 1   │ 0.866276 │ 0.295163 │ 0.459568 │ 0.340574 │ 0.687971 │ 0.976229 │"
      ]
     },
     "execution_count": 23,
     "metadata": {},
     "output_type": "execute_result"
    }
   ],
   "source": [
    "@btime view($x, 1:1, :)"
   ]
  },
  {
   "cell_type": "code",
   "execution_count": 24,
   "metadata": {},
   "outputs": [
    {
     "name": "stdout",
     "output_type": "stream",
     "text": [
      "  4.788 μs (43 allocations: 6.28 KiB)\n"
     ]
    },
    {
     "data": {
      "text/html": [
       "<table class=\"data-frame\"><thead><tr><th></th><th>x1</th><th>x2</th><th>x3</th><th>x4</th><th>x5</th><th>x6</th><th>x7</th><th>x8</th></tr><tr><th></th><th>Float64</th><th>Float64</th><th>Float64</th><th>Float64</th><th>Float64</th><th>Float64</th><th>Float64</th><th>Float64</th></tr></thead><tbody><p>1 rows × 20 columns (omitted printing of 12 columns)</p><tr><th>1</th><td>0.866276</td><td>0.295163</td><td>0.459568</td><td>0.340574</td><td>0.687971</td><td>0.976229</td><td>0.388116</td><td>0.669996</td></tr></tbody></table>"
      ],
      "text/latex": [
       "\\begin{tabular}{r|ccccccccc}\n",
       "\t& x1 & x2 & x3 & x4 & x5 & x6 & x7 & x8 & \\\\\n",
       "\t\\hline\n",
       "\t& Float64 & Float64 & Float64 & Float64 & Float64 & Float64 & Float64 & Float64 & \\\\\n",
       "\t\\hline\n",
       "\t1 & 0.866276 & 0.295163 & 0.459568 & 0.340574 & 0.687971 & 0.976229 & 0.388116 & 0.669996 & $\\dots$ \\\\\n",
       "\\end{tabular}\n"
      ],
      "text/plain": [
       "1×20 DataFrame. Omitted printing of 14 columns\n",
       "│ Row │ x1       │ x2       │ x3       │ x4       │ x5       │ x6       │\n",
       "│     │ \u001b[90mFloat64\u001b[39m  │ \u001b[90mFloat64\u001b[39m  │ \u001b[90mFloat64\u001b[39m  │ \u001b[90mFloat64\u001b[39m  │ \u001b[90mFloat64\u001b[39m  │ \u001b[90mFloat64\u001b[39m  │\n",
       "├─────┼──────────┼──────────┼──────────┼──────────┼──────────┼──────────┤\n",
       "│ 1   │ 0.866276 │ 0.295163 │ 0.459568 │ 0.340574 │ 0.687971 │ 0.976229 │"
      ]
     },
     "execution_count": 24,
     "metadata": {},
     "output_type": "execute_result"
    }
   ],
   "source": [
    "@btime $x[1:1, 1:20]"
   ]
  },
  {
   "cell_type": "code",
   "execution_count": 25,
   "metadata": {},
   "outputs": [
    {
     "name": "stdout",
     "output_type": "stream",
     "text": [
      "  24.640 ns (2 allocations: 80 bytes)\n"
     ]
    },
    {
     "data": {
      "text/html": [
       "<p>DataFrameRow (20 columns)</p><table class=\"data-frame\"><thead><tr><th></th><th>x1</th><th>x2</th><th>x3</th><th>x4</th><th>x5</th><th>x6</th><th>x7</th><th>x8</th></tr><tr><th></th><th>Float64</th><th>Float64</th><th>Float64</th><th>Float64</th><th>Float64</th><th>Float64</th><th>Float64</th><th>Float64</th></tr></thead><tbody><tr><th>1</th><td>0.866276</td><td>0.295163</td><td>0.459568</td><td>0.340574</td><td>0.687971</td><td>0.976229</td><td>0.388116</td><td>0.669996</td></tr></tbody></table>"
      ],
      "text/latex": [
       "\\begin{tabular}{r|ccccccccc}\n",
       "\t& x1 & x2 & x3 & x4 & x5 & x6 & x7 & x8 & \\\\\n",
       "\t\\hline\n",
       "\t& Float64 & Float64 & Float64 & Float64 & Float64 & Float64 & Float64 & Float64 & \\\\\n",
       "\t\\hline\n",
       "\t1 & 0.866276 & 0.295163 & 0.459568 & 0.340574 & 0.687971 & 0.976229 & 0.388116 & 0.669996 & $\\dots$ \\\\\n",
       "\\end{tabular}\n"
      ],
      "text/plain": [
       "DataFrameRow. Omitted printing of 14 columns\n",
       "│ Row │ x1       │ x2       │ x3       │ x4       │ x5       │ x6       │\n",
       "│     │ \u001b[90mFloat64\u001b[39m  │ \u001b[90mFloat64\u001b[39m  │ \u001b[90mFloat64\u001b[39m  │ \u001b[90mFloat64\u001b[39m  │ \u001b[90mFloat64\u001b[39m  │ \u001b[90mFloat64\u001b[39m  │\n",
       "├─────┼──────────┼──────────┼──────────┼──────────┼──────────┼──────────┤\n",
       "│ 1   │ 0.866276 │ 0.295163 │ 0.459568 │ 0.340574 │ 0.687971 │ 0.976229 │"
      ]
     },
     "execution_count": 25,
     "metadata": {},
     "output_type": "execute_result"
    }
   ],
   "source": [
    "@btime $x[1, 1:20]"
   ]
  },
  {
   "cell_type": "code",
   "execution_count": 26,
   "metadata": {},
   "outputs": [
    {
     "name": "stdout",
     "output_type": "stream",
     "text": [
      "  24.554 ns (2 allocations: 96 bytes)\n"
     ]
    },
    {
     "data": {
      "text/html": [
       "<table class=\"data-frame\"><thead><tr><th></th><th>x1</th><th>x2</th><th>x3</th><th>x4</th><th>x5</th><th>x6</th><th>x7</th><th>x8</th></tr><tr><th></th><th>Float64</th><th>Float64</th><th>Float64</th><th>Float64</th><th>Float64</th><th>Float64</th><th>Float64</th><th>Float64</th></tr></thead><tbody><p>1 rows × 20 columns (omitted printing of 12 columns)</p><tr><th>1</th><td>0.866276</td><td>0.295163</td><td>0.459568</td><td>0.340574</td><td>0.687971</td><td>0.976229</td><td>0.388116</td><td>0.669996</td></tr></tbody></table>"
      ],
      "text/latex": [
       "\\begin{tabular}{r|ccccccccc}\n",
       "\t& x1 & x2 & x3 & x4 & x5 & x6 & x7 & x8 & \\\\\n",
       "\t\\hline\n",
       "\t& Float64 & Float64 & Float64 & Float64 & Float64 & Float64 & Float64 & Float64 & \\\\\n",
       "\t\\hline\n",
       "\t1 & 0.866276 & 0.295163 & 0.459568 & 0.340574 & 0.687971 & 0.976229 & 0.388116 & 0.669996 & $\\dots$ \\\\\n",
       "\\end{tabular}\n"
      ],
      "text/plain": [
       "1×20 SubDataFrame. Omitted printing of 14 columns\n",
       "│ Row │ x1       │ x2       │ x3       │ x4       │ x5       │ x6       │\n",
       "│     │ \u001b[90mFloat64\u001b[39m  │ \u001b[90mFloat64\u001b[39m  │ \u001b[90mFloat64\u001b[39m  │ \u001b[90mFloat64\u001b[39m  │ \u001b[90mFloat64\u001b[39m  │ \u001b[90mFloat64\u001b[39m  │\n",
       "├─────┼──────────┼──────────┼──────────┼──────────┼──────────┼──────────┤\n",
       "│ 1   │ 0.866276 │ 0.295163 │ 0.459568 │ 0.340574 │ 0.687971 │ 0.976229 │"
      ]
     },
     "execution_count": 26,
     "metadata": {},
     "output_type": "execute_result"
    }
   ],
   "source": [
    "@btime view($x, 1:1, 1:20)"
   ]
  }
 ],
 "metadata": {
  "@webio": {
   "lastCommId": null,
   "lastKernelId": null
  },
  "kernelspec": {
   "display_name": "Julia 1.5.1",
   "language": "julia",
   "name": "julia-1.5"
  },
  "language_info": {
   "file_extension": ".jl",
   "mimetype": "application/julia",
   "name": "julia",
   "version": "1.5.1"
  }
 },
 "nbformat": 4,
 "nbformat_minor": 1
}
