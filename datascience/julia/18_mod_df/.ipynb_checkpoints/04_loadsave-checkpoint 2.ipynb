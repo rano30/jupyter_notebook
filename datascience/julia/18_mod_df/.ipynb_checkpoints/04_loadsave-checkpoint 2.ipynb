{
 "cells": [
  {
   "cell_type": "markdown",
   "metadata": {},
   "source": [
    "Data Science Fundamentals: Julia |\n",
    "[Table of Contents](../index.ipynb)\n",
    "- - - \n",
    "<!--NAVIGATION-->\n",
    "Module 18. [Constructors](01_constructors.ipynb) | [Basic Information](02_basicinfo.ipynb) | [Missing Values](03_missingvalues.ipynb) | **[Load Save](04_loadsave.ipynb)** | [Columns](05_columns.ipynb) | [Rows](06_rows.ipynb) | [Factors](07_factors.ipynb) | [Joins](08_joins.ipynb) | [Reshaping](09_reshaping.ipynb) | [Transforms](10_transforms.ipynb) | [Performance](11_performance.ipynb) | [Pitfalls](12_pitfalls.ipynb) | [Extras](13_extras.ipynb)"
   ]
  },
  {
   "cell_type": "code",
   "execution_count": 1,
   "metadata": {},
   "outputs": [],
   "source": [
    "using DataFrames"
   ]
  },
  {
   "cell_type": "markdown",
   "metadata": {},
   "source": [
    "## Load and save DataFrames\n",
    "We do not cover all features of the packages. Please refer to their documentation to learn them.\n",
    "\n",
    "Here we'll load `CSV` and `CSVFiles` to read and write CSV files and `Feather`, `JLSO`, and serialization, which allow us to work with a binary format and `JSONTables` for JSON interaction."
   ]
  },
  {
   "cell_type": "code",
   "execution_count": 2,
   "metadata": {},
   "outputs": [],
   "source": [
    "using CSV\n",
    "using CSVFiles\n",
    "using Serialization\n",
    "using JLSO\n",
    "using Feather\n",
    "using JSONTables\n",
    "using CodecZlib\n",
    "using ZipFile\n",
    "using JDF\n",
    "using StatsPlots # for charts"
   ]
  },
  {
   "cell_type": "markdown",
   "metadata": {},
   "source": [
    "Let's create a simple `DataFrame` for testing purposes,"
   ]
  },
  {
   "cell_type": "code",
   "execution_count": 3,
   "metadata": {},
   "outputs": [
    {
     "data": {
      "text/html": [
       "<table class=\"data-frame\"><thead><tr><th></th><th>A</th><th>B</th><th>C</th><th>D</th></tr><tr><th></th><th>Bool</th><th>Int64?</th><th>String?</th><th>Char?</th></tr></thead><tbody><p>3 rows × 4 columns</p><tr><th>1</th><td>1</td><td>1</td><td><em>missing</em></td><td>'a'</td></tr><tr><th>2</th><td>0</td><td>2</td><td>b</td><td><em>missing</em></td></tr><tr><th>3</th><td>1</td><td><em>missing</em></td><td>c</td><td>'c'</td></tr></tbody></table>"
      ],
      "text/latex": [
       "\\begin{tabular}{r|cccc}\n",
       "\t& A & B & C & D\\\\\n",
       "\t\\hline\n",
       "\t& Bool & Int64? & String? & Char?\\\\\n",
       "\t\\hline\n",
       "\t1 & 1 & 1 & \\emph{missing} & 'a' \\\\\n",
       "\t2 & 0 & 2 & b & \\emph{missing} \\\\\n",
       "\t3 & 1 & \\emph{missing} & c & 'c' \\\\\n",
       "\\end{tabular}\n"
      ],
      "text/plain": [
       "3×4 DataFrame\n",
       "│ Row │ A    │ B       │ C       │ D       │\n",
       "│     │ \u001b[90mBool\u001b[39m │ \u001b[90mInt64?\u001b[39m  │ \u001b[90mString?\u001b[39m │ \u001b[90mChar?\u001b[39m   │\n",
       "├─────┼──────┼─────────┼─────────┼─────────┤\n",
       "│ 1   │ 1    │ 1       │ \u001b[90mmissing\u001b[39m │ 'a'     │\n",
       "│ 2   │ 0    │ 2       │ b       │ \u001b[90mmissing\u001b[39m │\n",
       "│ 3   │ 1    │ \u001b[90mmissing\u001b[39m │ c       │ 'c'     │"
      ]
     },
     "execution_count": 3,
     "metadata": {},
     "output_type": "execute_result"
    }
   ],
   "source": [
    "x = DataFrame(A=[true, false, true], B=[1, 2, missing],\n",
    "              C=[missing, \"b\", \"c\"], D=['a', missing, 'c'])\n"
   ]
  },
  {
   "cell_type": "markdown",
   "metadata": {},
   "source": [
    "and use `eltypes` to look at the columnwise types."
   ]
  },
  {
   "cell_type": "code",
   "execution_count": 4,
   "metadata": {},
   "outputs": [
    {
     "data": {
      "text/plain": [
       "4-element Array{Type,1}:\n",
       " Bool\n",
       " Union{Missing, Int64}\n",
       " Union{Missing, String}\n",
       " Union{Missing, Char}"
      ]
     },
     "execution_count": 4,
     "metadata": {},
     "output_type": "execute_result"
    }
   ],
   "source": [
    "eltype.(eachcol(x))"
   ]
  },
  {
   "cell_type": "markdown",
   "metadata": {},
   "source": [
    "### CSV.jl"
   ]
  },
  {
   "cell_type": "markdown",
   "metadata": {},
   "source": [
    "Let's use `CSV` to save `x` to disk; make sure `x1.csv` does not conflict with some file in your working directory."
   ]
  },
  {
   "cell_type": "code",
   "execution_count": 5,
   "metadata": {},
   "outputs": [
    {
     "data": {
      "text/plain": [
       "\"x1.csv\""
      ]
     },
     "execution_count": 5,
     "metadata": {},
     "output_type": "execute_result"
    }
   ],
   "source": [
    "CSV.write(\"x1.csv\", x)"
   ]
  },
  {
   "cell_type": "markdown",
   "metadata": {},
   "source": [
    "Now we can see how it was saved by reading `x.csv`."
   ]
  },
  {
   "cell_type": "code",
   "execution_count": 6,
   "metadata": {},
   "outputs": [
    {
     "name": "stdout",
     "output_type": "stream",
     "text": [
      "A,B,C,D\n",
      "true,1,,a\n",
      "false,2,b,\n",
      "true,,c,c\n"
     ]
    }
   ],
   "source": [
    "print(read(\"x1.csv\", String))"
   ]
  },
  {
   "cell_type": "markdown",
   "metadata": {},
   "source": [
    "We can also load it back (`use_mmap=false` disables memory mapping so that on Windows the file can be deleted in the same session, on other OSs it is not needed)."
   ]
  },
  {
   "cell_type": "code",
   "execution_count": 7,
   "metadata": {},
   "outputs": [
    {
     "data": {
      "text/html": [
       "<table class=\"data-frame\"><thead><tr><th></th><th>A</th><th>B</th><th>C</th><th>D</th></tr><tr><th></th><th>Bool</th><th>Int64?</th><th>String?</th><th>String?</th></tr></thead><tbody><p>3 rows × 4 columns</p><tr><th>1</th><td>1</td><td>1</td><td><em>missing</em></td><td>a</td></tr><tr><th>2</th><td>0</td><td>2</td><td>b</td><td><em>missing</em></td></tr><tr><th>3</th><td>1</td><td><em>missing</em></td><td>c</td><td>c</td></tr></tbody></table>"
      ],
      "text/latex": [
       "\\begin{tabular}{r|cccc}\n",
       "\t& A & B & C & D\\\\\n",
       "\t\\hline\n",
       "\t& Bool & Int64? & String? & String?\\\\\n",
       "\t\\hline\n",
       "\t1 & 1 & 1 & \\emph{missing} & a \\\\\n",
       "\t2 & 0 & 2 & b & \\emph{missing} \\\\\n",
       "\t3 & 1 & \\emph{missing} & c & c \\\\\n",
       "\\end{tabular}\n"
      ],
      "text/plain": [
       "3×4 DataFrame\n",
       "│ Row │ A    │ B       │ C       │ D       │\n",
       "│     │ \u001b[90mBool\u001b[39m │ \u001b[90mInt64?\u001b[39m  │ \u001b[90mString?\u001b[39m │ \u001b[90mString?\u001b[39m │\n",
       "├─────┼──────┼─────────┼─────────┼─────────┤\n",
       "│ 1   │ 1    │ 1       │ \u001b[90mmissing\u001b[39m │ a       │\n",
       "│ 2   │ 0    │ 2       │ b       │ \u001b[90mmissing\u001b[39m │\n",
       "│ 3   │ 1    │ \u001b[90mmissing\u001b[39m │ c       │ c       │"
      ]
     },
     "execution_count": 7,
     "metadata": {},
     "output_type": "execute_result"
    }
   ],
   "source": [
    "y = CSV.read(\"x1.csv\", use_mmap=false)"
   ]
  },
  {
   "cell_type": "markdown",
   "metadata": {},
   "source": [
    "Note that when loading in a `DataFrame` from a `CSV` the column type for column `:D` has changed!"
   ]
  },
  {
   "cell_type": "code",
   "execution_count": 8,
   "metadata": {},
   "outputs": [
    {
     "data": {
      "text/plain": [
       "4-element Array{Type,1}:\n",
       " Bool\n",
       " Union{Missing, Int64}\n",
       " Union{Missing, String}\n",
       " Union{Missing, String}"
      ]
     },
     "execution_count": 8,
     "metadata": {},
     "output_type": "execute_result"
    }
   ],
   "source": [
    "eltype.(eachcol(y))"
   ]
  },
  {
   "cell_type": "markdown",
   "metadata": {},
   "source": [
    "### CSVFiles.jl"
   ]
  },
  {
   "cell_type": "markdown",
   "metadata": {},
   "source": [
    "Now we will use `CSVFiles` to achieve the same. First we save the file. Notice that we override default `nastring` that is `\"NA\"` because we have missings in non-numeric columns."
   ]
  },
  {
   "cell_type": "code",
   "execution_count": 9,
   "metadata": {},
   "outputs": [],
   "source": [
    "x |> save(\"x2.csv\", nastring=\"\")"
   ]
  },
  {
   "cell_type": "markdown",
   "metadata": {},
   "source": [
    "and peek the saved file:"
   ]
  },
  {
   "cell_type": "code",
   "execution_count": 10,
   "metadata": {},
   "outputs": [
    {
     "name": "stdout",
     "output_type": "stream",
     "text": [
      "\"A\",\"B\",\"C\",\"D\"\n",
      "true,1,,a\n",
      "false,2,\"b\",\n",
      "true,,\"c\",c\n"
     ]
    }
   ],
   "source": [
    "print(read(\"x2.csv\", String))"
   ]
  },
  {
   "cell_type": "markdown",
   "metadata": {},
   "source": [
    "We can load it back using `load`:"
   ]
  },
  {
   "cell_type": "code",
   "execution_count": 11,
   "metadata": {},
   "outputs": [
    {
     "data": {
      "text/html": [
       "<table class=\"data-frame\"><thead><tr><th></th><th>A</th><th>B</th><th>C</th><th>D</th></tr><tr><th></th><th>String</th><th>Int64?</th><th>String</th><th>String</th></tr></thead><tbody><p>3 rows × 4 columns</p><tr><th>1</th><td>true</td><td>1</td><td></td><td>a</td></tr><tr><th>2</th><td>false</td><td>2</td><td>b</td><td></td></tr><tr><th>3</th><td>true</td><td><em>missing</em></td><td>c</td><td>c</td></tr></tbody></table>"
      ],
      "text/latex": [
       "\\begin{tabular}{r|cccc}\n",
       "\t& A & B & C & D\\\\\n",
       "\t\\hline\n",
       "\t& String & Int64? & String & String\\\\\n",
       "\t\\hline\n",
       "\t1 & true & 1 &  & a \\\\\n",
       "\t2 & false & 2 & b &  \\\\\n",
       "\t3 & true & \\emph{missing} & c & c \\\\\n",
       "\\end{tabular}\n"
      ],
      "text/plain": [
       "3×4 DataFrame\n",
       "│ Row │ A      │ B       │ C      │ D      │\n",
       "│     │ \u001b[90mString\u001b[39m │ \u001b[90mInt64?\u001b[39m  │ \u001b[90mString\u001b[39m │ \u001b[90mString\u001b[39m │\n",
       "├─────┼────────┼─────────┼────────┼────────┤\n",
       "│ 1   │ true   │ 1       │        │ a      │\n",
       "│ 2   │ false  │ 2       │ b      │        │\n",
       "│ 3   │ true   │ \u001b[90mmissing\u001b[39m │ c      │ c      │"
      ]
     },
     "execution_count": 11,
     "metadata": {},
     "output_type": "execute_result"
    }
   ],
   "source": [
    "y = load(\"x2.csv\") |> DataFrame"
   ]
  },
  {
   "cell_type": "markdown",
   "metadata": {},
   "source": [
    "Let us check element types again:"
   ]
  },
  {
   "cell_type": "code",
   "execution_count": 12,
   "metadata": {},
   "outputs": [
    {
     "data": {
      "text/plain": [
       "4-element Array{Type,1}:\n",
       " String\n",
       " Union{Missing, Int64}\n",
       " String\n",
       " String"
      ]
     },
     "execution_count": 12,
     "metadata": {},
     "output_type": "execute_result"
    }
   ],
   "source": [
    "eltype.(eachcol(y))"
   ]
  },
  {
   "cell_type": "markdown",
   "metadata": {},
   "source": [
    "Observe that in columns `:C` and `:D` missings were read back as empty strings. Also `Bool` got converted to `String`."
   ]
  },
  {
   "cell_type": "markdown",
   "metadata": {},
   "source": [
    "### Serialization, JDF.jl, and JLSO.jl\n",
    "\n",
    "#### Serialization"
   ]
  },
  {
   "cell_type": "markdown",
   "metadata": {},
   "source": [
    "Now we use serialization to save `x`.\n",
    "\n",
    "There are two ways to perform serialization. The first way is to use the `Serialization.serialize` as below:"
   ]
  },
  {
   "cell_type": "markdown",
   "metadata": {},
   "source": [
    "Note that in general, this process will not work if the reading and writing are done by different versions of Julia, or an instance of Julia with a different system image."
   ]
  },
  {
   "cell_type": "code",
   "execution_count": 13,
   "metadata": {},
   "outputs": [],
   "source": [
    "open(\"x.bin\", \"w\") do io\n",
    "    serialize(io, x)\n",
    "end"
   ]
  },
  {
   "cell_type": "markdown",
   "metadata": {},
   "source": [
    "Now we load back the saved file to `y` variable. Again `y` is identical to `x`. However, please beware that if you session does not have DataFrames.jl loaded, then it may not recognise the content as DataFrames.jl"
   ]
  },
  {
   "cell_type": "code",
   "execution_count": 14,
   "metadata": {},
   "outputs": [
    {
     "data": {
      "text/html": [
       "<table class=\"data-frame\"><thead><tr><th></th><th>A</th><th>B</th><th>C</th><th>D</th></tr><tr><th></th><th>Bool</th><th>Int64?</th><th>String?</th><th>Char?</th></tr></thead><tbody><p>3 rows × 4 columns</p><tr><th>1</th><td>1</td><td>1</td><td><em>missing</em></td><td>'a'</td></tr><tr><th>2</th><td>0</td><td>2</td><td>b</td><td><em>missing</em></td></tr><tr><th>3</th><td>1</td><td><em>missing</em></td><td>c</td><td>'c'</td></tr></tbody></table>"
      ],
      "text/latex": [
       "\\begin{tabular}{r|cccc}\n",
       "\t& A & B & C & D\\\\\n",
       "\t\\hline\n",
       "\t& Bool & Int64? & String? & Char?\\\\\n",
       "\t\\hline\n",
       "\t1 & 1 & 1 & \\emph{missing} & 'a' \\\\\n",
       "\t2 & 0 & 2 & b & \\emph{missing} \\\\\n",
       "\t3 & 1 & \\emph{missing} & c & 'c' \\\\\n",
       "\\end{tabular}\n"
      ],
      "text/plain": [
       "3×4 DataFrame\n",
       "│ Row │ A    │ B       │ C       │ D       │\n",
       "│     │ \u001b[90mBool\u001b[39m │ \u001b[90mInt64?\u001b[39m  │ \u001b[90mString?\u001b[39m │ \u001b[90mChar?\u001b[39m   │\n",
       "├─────┼──────┼─────────┼─────────┼─────────┤\n",
       "│ 1   │ 1    │ 1       │ \u001b[90mmissing\u001b[39m │ 'a'     │\n",
       "│ 2   │ 0    │ 2       │ b       │ \u001b[90mmissing\u001b[39m │\n",
       "│ 3   │ 1    │ \u001b[90mmissing\u001b[39m │ c       │ 'c'     │"
      ]
     },
     "execution_count": 14,
     "metadata": {},
     "output_type": "execute_result"
    }
   ],
   "source": [
    "y = open(deserialize, \"x.bin\")"
   ]
  },
  {
   "cell_type": "code",
   "execution_count": 15,
   "metadata": {},
   "outputs": [
    {
     "data": {
      "text/plain": [
       "4-element Array{Type,1}:\n",
       " Bool\n",
       " Union{Missing, Int64}\n",
       " Union{Missing, String}\n",
       " Union{Missing, Char}"
      ]
     },
     "execution_count": 15,
     "metadata": {},
     "output_type": "execute_result"
    }
   ],
   "source": [
    "eltype.(eachcol(y))"
   ]
  },
  {
   "cell_type": "markdown",
   "metadata": {},
   "source": [
    "#### JDF.jl\n",
    "\n",
    "[JDF.jl](https://github.com/xiaodaigh/JDF) is a relatively new package designed to serialize DataFrames. You can save a DataFrame with the `savejdf` function."
   ]
  },
  {
   "cell_type": "code",
   "execution_count": 16,
   "metadata": {},
   "outputs": [],
   "source": [
    "savejdf(\"x.jdf\", x);"
   ]
  },
  {
   "cell_type": "markdown",
   "metadata": {},
   "source": [
    "To load the saved JDF file, one can use the `loadjdf` function"
   ]
  },
  {
   "cell_type": "code",
   "execution_count": 17,
   "metadata": {},
   "outputs": [
    {
     "data": {
      "text/html": [
       "<table class=\"data-frame\"><thead><tr><th></th><th>A</th><th>B</th><th>C</th><th>D</th></tr><tr><th></th><th>Bool</th><th>Int64?</th><th>String?</th><th>Char?</th></tr></thead><tbody><p>3 rows × 4 columns</p><tr><th>1</th><td>1</td><td>1</td><td><em>missing</em></td><td>'a'</td></tr><tr><th>2</th><td>0</td><td>2</td><td>b</td><td><em>missing</em></td></tr><tr><th>3</th><td>1</td><td><em>missing</em></td><td>c</td><td>'c'</td></tr></tbody></table>"
      ],
      "text/latex": [
       "\\begin{tabular}{r|cccc}\n",
       "\t& A & B & C & D\\\\\n",
       "\t\\hline\n",
       "\t& Bool & Int64? & String? & Char?\\\\\n",
       "\t\\hline\n",
       "\t1 & 1 & 1 & \\emph{missing} & 'a' \\\\\n",
       "\t2 & 0 & 2 & b & \\emph{missing} \\\\\n",
       "\t3 & 1 & \\emph{missing} & c & 'c' \\\\\n",
       "\\end{tabular}\n"
      ],
      "text/plain": [
       "3×4 DataFrame\n",
       "│ Row │ A    │ B       │ C       │ D       │\n",
       "│     │ \u001b[90mBool\u001b[39m │ \u001b[90mInt64?\u001b[39m  │ \u001b[90mString?\u001b[39m │ \u001b[90mChar?\u001b[39m   │\n",
       "├─────┼──────┼─────────┼─────────┼─────────┤\n",
       "│ 1   │ 1    │ 1       │ \u001b[90mmissing\u001b[39m │ 'a'     │\n",
       "│ 2   │ 0    │ 2       │ b       │ \u001b[90mmissing\u001b[39m │\n",
       "│ 3   │ 1    │ \u001b[90mmissing\u001b[39m │ c       │ 'c'     │"
      ]
     },
     "execution_count": 17,
     "metadata": {},
     "output_type": "execute_result"
    }
   ],
   "source": [
    "x_loaded = loadjdf(\"x.jdf\")"
   ]
  },
  {
   "cell_type": "markdown",
   "metadata": {},
   "source": [
    "You can see that they are the same"
   ]
  },
  {
   "cell_type": "code",
   "execution_count": 18,
   "metadata": {},
   "outputs": [
    {
     "data": {
      "text/plain": [
       "true"
      ]
     },
     "execution_count": 18,
     "metadata": {},
     "output_type": "execute_result"
    }
   ],
   "source": [
    "isequal(x_loaded, x)"
   ]
  },
  {
   "cell_type": "markdown",
   "metadata": {},
   "source": [
    "JDF.jl offers the ability to load only certain columns from disk to help with working with large files"
   ]
  },
  {
   "cell_type": "code",
   "execution_count": 19,
   "metadata": {},
   "outputs": [
    {
     "data": {
      "text/plain": [
       "JDFFile{String}(\"x.jdf\")"
      ]
     },
     "execution_count": 19,
     "metadata": {},
     "output_type": "execute_result"
    }
   ],
   "source": [
    "# set up a JDFFile which is a on disk representation of `x` backed by JDF.jl\n",
    "x_ondisk = jdf\"x.jdf\""
   ]
  },
  {
   "cell_type": "markdown",
   "metadata": {},
   "source": [
    "We can see all the names of `x` without loading it into memory"
   ]
  },
  {
   "cell_type": "code",
   "execution_count": 20,
   "metadata": {},
   "outputs": [
    {
     "data": {
      "text/plain": [
       "4-element Array{String,1}:\n",
       " \"A\"\n",
       " \"B\"\n",
       " \"C\"\n",
       " \"D\""
      ]
     },
     "execution_count": 20,
     "metadata": {},
     "output_type": "execute_result"
    }
   ],
   "source": [
    "names(x_ondisk)"
   ]
  },
  {
   "cell_type": "markdown",
   "metadata": {},
   "source": [
    "The below is an example of how to load only columns `:A` and `:D` "
   ]
  },
  {
   "cell_type": "code",
   "execution_count": 21,
   "metadata": {},
   "outputs": [
    {
     "data": {
      "text/html": [
       "<table class=\"data-frame\"><thead><tr><th></th><th>A</th><th>D</th></tr><tr><th></th><th>Bool</th><th>Char?</th></tr></thead><tbody><p>3 rows × 2 columns</p><tr><th>1</th><td>1</td><td>'a'</td></tr><tr><th>2</th><td>0</td><td><em>missing</em></td></tr><tr><th>3</th><td>1</td><td>'c'</td></tr></tbody></table>"
      ],
      "text/latex": [
       "\\begin{tabular}{r|cc}\n",
       "\t& A & D\\\\\n",
       "\t\\hline\n",
       "\t& Bool & Char?\\\\\n",
       "\t\\hline\n",
       "\t1 & 1 & 'a' \\\\\n",
       "\t2 & 0 & \\emph{missing} \\\\\n",
       "\t3 & 1 & 'c' \\\\\n",
       "\\end{tabular}\n"
      ],
      "text/plain": [
       "3×2 DataFrame\n",
       "│ Row │ A    │ D       │\n",
       "│     │ \u001b[90mBool\u001b[39m │ \u001b[90mChar?\u001b[39m   │\n",
       "├─────┼──────┼─────────┤\n",
       "│ 1   │ 1    │ 'a'     │\n",
       "│ 2   │ 0    │ \u001b[90mmissing\u001b[39m │\n",
       "│ 3   │ 1    │ 'c'     │"
      ]
     },
     "execution_count": 21,
     "metadata": {},
     "output_type": "execute_result"
    }
   ],
   "source": [
    "xd = sloadjdf(x_ondisk; cols = [\"A\", \"D\"])"
   ]
  },
  {
   "cell_type": "markdown",
   "metadata": {},
   "source": [
    "##### JDF.jl vs others\n",
    "\n",
    "JDF.jl is specialized to DataFrames and only supports a restricted list of columns, so it can not save DataFrames with arbitrary column types. However, this also means that JDF.jl has specialised algorithms to serailize the type it supports to optimize speed, minimize disk usage, and reduce the chance of errors\n",
    "\n",
    "The list support columns for JDF include\n",
    "\n",
    "```julia\n",
    "WeakRefStrings.StringVector\n",
    "Vector{T}, Vector{Union{Mising, T}}, Vector{Union{Nothing, T}}\n",
    "CategoricalArrays.CategoricalVetors{T}\n",
    "```\n",
    "\n",
    "where `T` can be `String`, `Bool`, `Symbol`, `Char`, `TimeZones.ZonedDateTime` (experimental) and `isbit`s types i.e. `UInt*`, `Int*`, `Float*`, and `Date*` types etc."
   ]
  },
  {
   "cell_type": "markdown",
   "metadata": {},
   "source": [
    "#### JLSO.jl\n",
    "\n",
    "Another way to perform serialization is by using the [JLSO.jl](https://github.com/invenia/JLSO.jl) library:"
   ]
  },
  {
   "cell_type": "code",
   "execution_count": 22,
   "metadata": {},
   "outputs": [],
   "source": [
    "JLSO.save(\"x.jlso\", :data => x)"
   ]
  },
  {
   "cell_type": "markdown",
   "metadata": {},
   "source": [
    "Now we can laod back the file to `y`"
   ]
  },
  {
   "cell_type": "code",
   "execution_count": 23,
   "metadata": {},
   "outputs": [
    {
     "data": {
      "text/html": [
       "<table class=\"data-frame\"><thead><tr><th></th><th>A</th><th>B</th><th>C</th><th>D</th></tr><tr><th></th><th>Bool</th><th>Int64?</th><th>String?</th><th>Char?</th></tr></thead><tbody><p>3 rows × 4 columns</p><tr><th>1</th><td>1</td><td>1</td><td><em>missing</em></td><td>'a'</td></tr><tr><th>2</th><td>0</td><td>2</td><td>b</td><td><em>missing</em></td></tr><tr><th>3</th><td>1</td><td><em>missing</em></td><td>c</td><td>'c'</td></tr></tbody></table>"
      ],
      "text/latex": [
       "\\begin{tabular}{r|cccc}\n",
       "\t& A & B & C & D\\\\\n",
       "\t\\hline\n",
       "\t& Bool & Int64? & String? & Char?\\\\\n",
       "\t\\hline\n",
       "\t1 & 1 & 1 & \\emph{missing} & 'a' \\\\\n",
       "\t2 & 0 & 2 & b & \\emph{missing} \\\\\n",
       "\t3 & 1 & \\emph{missing} & c & 'c' \\\\\n",
       "\\end{tabular}\n"
      ],
      "text/plain": [
       "3×4 DataFrame\n",
       "│ Row │ A    │ B       │ C       │ D       │\n",
       "│     │ \u001b[90mBool\u001b[39m │ \u001b[90mInt64?\u001b[39m  │ \u001b[90mString?\u001b[39m │ \u001b[90mChar?\u001b[39m   │\n",
       "├─────┼──────┼─────────┼─────────┼─────────┤\n",
       "│ 1   │ 1    │ 1       │ \u001b[90mmissing\u001b[39m │ 'a'     │\n",
       "│ 2   │ 0    │ 2       │ b       │ \u001b[90mmissing\u001b[39m │\n",
       "│ 3   │ 1    │ \u001b[90mmissing\u001b[39m │ c       │ 'c'     │"
      ]
     },
     "execution_count": 23,
     "metadata": {},
     "output_type": "execute_result"
    }
   ],
   "source": [
    "y = JLSO.load(\"x.jlso\")[:data]"
   ]
  },
  {
   "cell_type": "code",
   "execution_count": 24,
   "metadata": {},
   "outputs": [
    {
     "data": {
      "text/plain": [
       "4-element Array{Type,1}:\n",
       " Bool\n",
       " Union{Missing, Int64}\n",
       " Union{Missing, String}\n",
       " Union{Missing, Char}"
      ]
     },
     "execution_count": 24,
     "metadata": {},
     "output_type": "execute_result"
    }
   ],
   "source": [
    "eltype.(eachcol(y))"
   ]
  },
  {
   "cell_type": "markdown",
   "metadata": {},
   "source": [
    "### JSONTables.jl"
   ]
  },
  {
   "cell_type": "markdown",
   "metadata": {},
   "source": [
    "Often you might need to read and write data stored in JSON format. JSONTables.jl provides a way to process them in row-oriented or column-oriented layout. We present both options below."
   ]
  },
  {
   "cell_type": "code",
   "execution_count": 25,
   "metadata": {},
   "outputs": [
    {
     "data": {
      "text/plain": [
       "106"
      ]
     },
     "execution_count": 25,
     "metadata": {},
     "output_type": "execute_result"
    }
   ],
   "source": [
    "open(io -> arraytable(io, x), \"x1.json\", \"w\")"
   ]
  },
  {
   "cell_type": "code",
   "execution_count": 26,
   "metadata": {},
   "outputs": [
    {
     "data": {
      "text/plain": [
       "76"
      ]
     },
     "execution_count": 26,
     "metadata": {},
     "output_type": "execute_result"
    }
   ],
   "source": [
    "open(io -> objecttable(io, x), \"x2.json\", \"w\")"
   ]
  },
  {
   "cell_type": "code",
   "execution_count": 27,
   "metadata": {},
   "outputs": [
    {
     "name": "stdout",
     "output_type": "stream",
     "text": [
      "[{\"A\":true,\"B\":1,\"C\":null,\"D\":\"a\"},{\"A\":false,\"B\":2,\"C\":\"b\",\"D\":null},{\"A\":true,\"B\":null,\"C\":\"c\",\"D\":\"c\"}]"
     ]
    }
   ],
   "source": [
    "print(read(\"x1.json\", String))"
   ]
  },
  {
   "cell_type": "code",
   "execution_count": 28,
   "metadata": {},
   "outputs": [
    {
     "name": "stdout",
     "output_type": "stream",
     "text": [
      "{\"A\":[true,false,true],\"B\":[1,2,null],\"C\":[null,\"b\",\"c\"],\"D\":[\"a\",null,\"c\"]}"
     ]
    }
   ],
   "source": [
    "print(read(\"x2.json\", String))"
   ]
  },
  {
   "cell_type": "code",
   "execution_count": 29,
   "metadata": {},
   "outputs": [
    {
     "data": {
      "text/html": [
       "<table class=\"data-frame\"><thead><tr><th></th><th>A</th><th>B</th><th>C</th><th>D</th></tr><tr><th></th><th>Bool</th><th>Int64?</th><th>String?</th><th>String?</th></tr></thead><tbody><p>3 rows × 4 columns</p><tr><th>1</th><td>1</td><td>1</td><td><em>missing</em></td><td>a</td></tr><tr><th>2</th><td>0</td><td>2</td><td>b</td><td><em>missing</em></td></tr><tr><th>3</th><td>1</td><td><em>missing</em></td><td>c</td><td>c</td></tr></tbody></table>"
      ],
      "text/latex": [
       "\\begin{tabular}{r|cccc}\n",
       "\t& A & B & C & D\\\\\n",
       "\t\\hline\n",
       "\t& Bool & Int64? & String? & String?\\\\\n",
       "\t\\hline\n",
       "\t1 & 1 & 1 & \\emph{missing} & a \\\\\n",
       "\t2 & 0 & 2 & b & \\emph{missing} \\\\\n",
       "\t3 & 1 & \\emph{missing} & c & c \\\\\n",
       "\\end{tabular}\n"
      ],
      "text/plain": [
       "3×4 DataFrame\n",
       "│ Row │ A    │ B       │ C       │ D       │\n",
       "│     │ \u001b[90mBool\u001b[39m │ \u001b[90mInt64?\u001b[39m  │ \u001b[90mString?\u001b[39m │ \u001b[90mString?\u001b[39m │\n",
       "├─────┼──────┼─────────┼─────────┼─────────┤\n",
       "│ 1   │ 1    │ 1       │ \u001b[90mmissing\u001b[39m │ a       │\n",
       "│ 2   │ 0    │ 2       │ b       │ \u001b[90mmissing\u001b[39m │\n",
       "│ 3   │ 1    │ \u001b[90mmissing\u001b[39m │ c       │ c       │"
      ]
     },
     "execution_count": 29,
     "metadata": {},
     "output_type": "execute_result"
    }
   ],
   "source": [
    "y1 = open(jsontable, \"x1.json\") |> DataFrame"
   ]
  },
  {
   "cell_type": "code",
   "execution_count": 30,
   "metadata": {},
   "outputs": [
    {
     "data": {
      "text/plain": [
       "4-element Array{Type,1}:\n",
       " Bool\n",
       " Union{Missing, Int64}\n",
       " Union{Missing, String}\n",
       " Union{Missing, String}"
      ]
     },
     "execution_count": 30,
     "metadata": {},
     "output_type": "execute_result"
    }
   ],
   "source": [
    "eltype.(eachcol(y1))"
   ]
  },
  {
   "cell_type": "code",
   "execution_count": 31,
   "metadata": {},
   "outputs": [
    {
     "data": {
      "text/html": [
       "<table class=\"data-frame\"><thead><tr><th></th><th>A</th><th>B</th><th>C</th><th>D</th></tr><tr><th></th><th>Bool</th><th>Int64?</th><th>String?</th><th>String?</th></tr></thead><tbody><p>3 rows × 4 columns</p><tr><th>1</th><td>1</td><td>1</td><td><em>missing</em></td><td>a</td></tr><tr><th>2</th><td>0</td><td>2</td><td>b</td><td><em>missing</em></td></tr><tr><th>3</th><td>1</td><td><em>missing</em></td><td>c</td><td>c</td></tr></tbody></table>"
      ],
      "text/latex": [
       "\\begin{tabular}{r|cccc}\n",
       "\t& A & B & C & D\\\\\n",
       "\t\\hline\n",
       "\t& Bool & Int64? & String? & String?\\\\\n",
       "\t\\hline\n",
       "\t1 & 1 & 1 & \\emph{missing} & a \\\\\n",
       "\t2 & 0 & 2 & b & \\emph{missing} \\\\\n",
       "\t3 & 1 & \\emph{missing} & c & c \\\\\n",
       "\\end{tabular}\n"
      ],
      "text/plain": [
       "3×4 DataFrame\n",
       "│ Row │ A    │ B       │ C       │ D       │\n",
       "│     │ \u001b[90mBool\u001b[39m │ \u001b[90mInt64?\u001b[39m  │ \u001b[90mString?\u001b[39m │ \u001b[90mString?\u001b[39m │\n",
       "├─────┼──────┼─────────┼─────────┼─────────┤\n",
       "│ 1   │ 1    │ 1       │ \u001b[90mmissing\u001b[39m │ a       │\n",
       "│ 2   │ 0    │ 2       │ b       │ \u001b[90mmissing\u001b[39m │\n",
       "│ 3   │ 1    │ \u001b[90mmissing\u001b[39m │ c       │ c       │"
      ]
     },
     "execution_count": 31,
     "metadata": {},
     "output_type": "execute_result"
    }
   ],
   "source": [
    "y2 = open(jsontable, \"x2.json\") |> DataFrame"
   ]
  },
  {
   "cell_type": "code",
   "execution_count": 32,
   "metadata": {},
   "outputs": [
    {
     "data": {
      "text/plain": [
       "4-element Array{Type,1}:\n",
       " Bool\n",
       " Union{Missing, Int64}\n",
       " Union{Missing, String}\n",
       " Union{Missing, String}"
      ]
     },
     "execution_count": 32,
     "metadata": {},
     "output_type": "execute_result"
    }
   ],
   "source": [
    "eltype.(eachcol(y2))"
   ]
  },
  {
   "cell_type": "markdown",
   "metadata": {},
   "source": [
    "### Feather.jl"
   ]
  },
  {
   "cell_type": "markdown",
   "metadata": {},
   "source": [
    "Finally we use Feather format that allows, in particular, for data interchange with R or Python."
   ]
  },
  {
   "cell_type": "code",
   "execution_count": 33,
   "metadata": {},
   "outputs": [
    {
     "data": {
      "text/plain": [
       "3-element Array{Union{Missing, String},1}:\n",
       " \"a\"\n",
       " missing\n",
       " \"c\""
      ]
     },
     "execution_count": 33,
     "metadata": {},
     "output_type": "execute_result"
    }
   ],
   "source": [
    "x.D = passmissing(string).(x.D) # Feather format does not support Char type"
   ]
  },
  {
   "cell_type": "code",
   "execution_count": 34,
   "metadata": {},
   "outputs": [
    {
     "data": {
      "text/plain": [
       "\"x.feather\""
      ]
     },
     "execution_count": 34,
     "metadata": {},
     "output_type": "execute_result"
    }
   ],
   "source": [
    "Feather.write(\"x.feather\", x)"
   ]
  },
  {
   "cell_type": "code",
   "execution_count": 35,
   "metadata": {},
   "outputs": [
    {
     "data": {
      "text/html": [
       "<table class=\"data-frame\"><thead><tr><th></th><th>A</th><th>B</th><th>C</th><th>D</th></tr><tr><th></th><th>Bool</th><th>Int64?</th><th>String?</th><th>String?</th></tr></thead><tbody><p>3 rows × 4 columns</p><tr><th>1</th><td>1</td><td>1</td><td><em>missing</em></td><td>a</td></tr><tr><th>2</th><td>0</td><td>2</td><td>b</td><td><em>missing</em></td></tr><tr><th>3</th><td>1</td><td><em>missing</em></td><td>c</td><td>c</td></tr></tbody></table>"
      ],
      "text/latex": [
       "\\begin{tabular}{r|cccc}\n",
       "\t& A & B & C & D\\\\\n",
       "\t\\hline\n",
       "\t& Bool & Int64? & String? & String?\\\\\n",
       "\t\\hline\n",
       "\t1 & 1 & 1 & \\emph{missing} & a \\\\\n",
       "\t2 & 0 & 2 & b & \\emph{missing} \\\\\n",
       "\t3 & 1 & \\emph{missing} & c & c \\\\\n",
       "\\end{tabular}\n"
      ],
      "text/plain": [
       "3×4 DataFrame\n",
       "│ Row │ A    │ B       │ C       │ D       │\n",
       "│     │ \u001b[90mBool\u001b[39m │ \u001b[90mInt64?\u001b[39m  │ \u001b[90mString?\u001b[39m │ \u001b[90mString?\u001b[39m │\n",
       "├─────┼──────┼─────────┼─────────┼─────────┤\n",
       "│ 1   │ 1    │ 1       │ \u001b[90mmissing\u001b[39m │ a       │\n",
       "│ 2   │ 0    │ 2       │ b       │ \u001b[90mmissing\u001b[39m │\n",
       "│ 3   │ 1    │ \u001b[90mmissing\u001b[39m │ c       │ c       │"
      ]
     },
     "execution_count": 35,
     "metadata": {},
     "output_type": "execute_result"
    }
   ],
   "source": [
    "y = Feather.materialize(\"x.feather\") # Feather.read is a lazy alternative"
   ]
  },
  {
   "cell_type": "code",
   "execution_count": 36,
   "metadata": {},
   "outputs": [
    {
     "data": {
      "text/plain": [
       "4-element Array{Type,1}:\n",
       " Bool\n",
       " Union{Missing, Int64}\n",
       " Union{Missing, String}\n",
       " Union{Missing, String}"
      ]
     },
     "execution_count": 36,
     "metadata": {},
     "output_type": "execute_result"
    }
   ],
   "source": [
    "eltype.(eachcol(y))"
   ]
  },
  {
   "cell_type": "markdown",
   "metadata": {},
   "source": [
    "### Basic bechmarking"
   ]
  },
  {
   "cell_type": "markdown",
   "metadata": {},
   "source": [
    "Next, we'll create some files, so be careful that you don't already have these files in your working directory!\n",
    "\n",
    "In particular, we'll time how long it takes us to write a `DataFrame` with 10^3 rows and 10^5 columns."
   ]
  },
  {
   "cell_type": "code",
   "execution_count": 37,
   "metadata": {},
   "outputs": [
    {
     "name": "stdout",
     "output_type": "stream",
     "text": [
      "First run\n",
      "CSV.jl\n",
      "  8.225849 seconds (152.06 M allocations: 2.331 GiB, 9.45% gc time)\n",
      "CSVFiles.jl\n",
      " 12.792522 seconds (6.18 M allocations: 373.478 MiB, 0.57% gc time)\n",
      "Serialization\n",
      "  1.280607 seconds (204.40 k allocations: 10.697 MiB)\n",
      "JDF.jl\n",
      "  0.463312 seconds (96.95 k allocations: 166.966 MiB, 4.41% gc time)\n",
      "JLSO.jl\n",
      "  8.829102 seconds (290.41 k allocations: 178.629 MiB, 0.15% gc time)\n",
      "Feather.jl\n",
      "  0.254691 seconds (499.97 k allocations: 49.573 MiB, 3.65% gc time)\n",
      "JSONTables.jl arraytable\n",
      "168.000230 seconds (1.15 G allocations: 222.627 GiB, 8.12% gc time)\n",
      "JSONTables.jl objecttable\n",
      "  1.813862 seconds (386.70 k allocations: 1.403 GiB, 2.00% gc time)\n",
      "Second run\n",
      "CSV.jl\n",
      "  7.677150 seconds (150.14 M allocations: 2.247 GiB, 4.06% gc time)\n",
      "CSVFiles.jl\n",
      "  6.865196 seconds (606.56 k allocations: 105.606 MiB)\n",
      "Serialization\n",
      "  1.189541 seconds (5.62 k allocations: 771.223 KiB)\n",
      "JDF.jl\n",
      "  0.432028 seconds (20.63 k allocations: 163.216 MiB, 11.94% gc time)\n",
      "JLSO.jl\n",
      "  8.699682 seconds (26.40 k allocations: 166.194 MiB)\n",
      "Feather.jl\n",
      "  0.119212 seconds (157.87 k allocations: 32.756 MiB)\n",
      "JSONTables.jl arraytable\n",
      "195.969771 seconds (1.15 G allocations: 222.591 GiB, 6.31% gc time)\n",
      "JSONTables.jl objecttable\n",
      "  1.357717 seconds (12.83 k allocations: 1.386 GiB, 2.09% gc time)\n"
     ]
    },
    {
     "data": {
      "text/plain": [
       "1.358529052"
      ]
     },
     "execution_count": 37,
     "metadata": {},
     "output_type": "execute_result"
    }
   ],
   "source": [
    "bigdf = DataFrame(rand(Bool, 10^5, 500))\n",
    "bigdf[!, 1] = Int.(bigdf[!, 1])\n",
    "bigdf[!, 2] = bigdf[!, 2] .+ 0.5\n",
    "bigdf[!, 3] = string.(bigdf[!, 3], \", as string\")\n",
    "println(\"First run\")\n",
    "println(\"CSV.jl\")\n",
    "csvwrite1 = @elapsed @time CSV.write(\"bigdf1.csv\", bigdf)\n",
    "println(\"CSVFiles.jl\")\n",
    "csvfileswrite1 = @elapsed @time bigdf |> save(\"bigdf2.csv\")\n",
    "println(\"Serialization\")\n",
    "serializewrite1 = @elapsed @time open(io -> serialize(io, bigdf), \"bigdf.bin\", \"w\")\n",
    "println(\"JDF.jl\")\n",
    "jdfwrite1 = @elapsed @time savejdf(\"bigdf.jdf\", bigdf)\n",
    "println(\"JLSO.jl\")\n",
    "jlsowrite1 = @elapsed @time JLSO.save(\"bigdf.jlso\", :data => bigdf)\n",
    "println(\"Feather.jl\")\n",
    "featherwrite1 = @elapsed @time Feather.write(\"bigdf.feather\", bigdf)\n",
    "println(\"JSONTables.jl arraytable\")\n",
    "jsontablesawrite1 = @elapsed @time open(io -> arraytable(io, bigdf), \"bigdf1.json\", \"w\")\n",
    "println(\"JSONTables.jl objecttable\")\n",
    "jsontablesowrite1 = @elapsed @time open(io -> objecttable(io, bigdf), \"bigdf2.json\", \"w\")\n",
    "println(\"Second run\")\n",
    "println(\"CSV.jl\")\n",
    "csvwrite2 = @elapsed @time CSV.write(\"bigdf1.csv\", bigdf)\n",
    "println(\"CSVFiles.jl\")\n",
    "csvfileswrite2 = @elapsed @time bigdf |> save(\"bigdf2.csv\")\n",
    "println(\"Serialization\")\n",
    "serializewrite2 = @elapsed @time open(io -> serialize(io, bigdf), \"bigdf.bin\", \"w\")\n",
    "println(\"JDF.jl\")\n",
    "jdfwrite2 = @elapsed @time savejdf(\"bigdf.jdf\", bigdf)\n",
    "println(\"JLSO.jl\")\n",
    "jlsowrite2 = @elapsed @time JLSO.save(\"bigdf.jlso\", :data => bigdf)\n",
    "println(\"Feather.jl\")\n",
    "featherwrite2 = @elapsed @time Feather.write(\"bigdf.feather\", bigdf)\n",
    "println(\"JSONTables.jl arraytable\")\n",
    "jsontablesawrite2 = @elapsed @time open(io -> arraytable(io, bigdf), \"bigdf1.json\", \"w\")\n",
    "println(\"JSONTables.jl objecttable\")\n",
    "jsontablesowrite2 = @elapsed @time open(io -> objecttable(io, bigdf), \"bigdf2.json\", \"w\")"
   ]
  },
  {
   "cell_type": "code",
   "execution_count": 38,
   "metadata": {},
   "outputs": [
    {
     "data": {
      "image/svg+xml": [
       "<?xml version=\"1.0\" encoding=\"utf-8\"?>\n",
       "<svg xmlns=\"http://www.w3.org/2000/svg\" xmlns:xlink=\"http://www.w3.org/1999/xlink\" width=\"600\" height=\"400\" viewBox=\"0 0 2400 1600\">\n",
       "<defs>\n",
       "  <clipPath id=\"clip350\">\n",
       "    <rect x=\"0\" y=\"0\" width=\"2400\" height=\"1600\"/>\n",
       "  </clipPath>\n",
       "</defs>\n",
       "<path clip-path=\"url(#clip350)\" d=\"\n",
       "M0 1600 L2400 1600 L2400 0 L0 0  Z\n",
       "  \" fill=\"#ffffff\" fill-rule=\"evenodd\" fill-opacity=\"1\"/>\n",
       "<defs>\n",
       "  <clipPath id=\"clip351\">\n",
       "    <rect x=\"480\" y=\"0\" width=\"1681\" height=\"1600\"/>\n",
       "  </clipPath>\n",
       "</defs>\n",
       "<path clip-path=\"url(#clip350)\" d=\"\n",
       "M197.852 1451.89 L2352.76 1451.89 L2352.76 244.432 L197.852 244.432  Z\n",
       "  \" fill=\"#ffffff\" fill-rule=\"evenodd\" fill-opacity=\"1\"/>\n",
       "<defs>\n",
       "  <clipPath id=\"clip352\">\n",
       "    <rect x=\"197\" y=\"244\" width=\"2156\" height=\"1208\"/>\n",
       "  </clipPath>\n",
       "</defs>\n",
       "<polyline clip-path=\"url(#clip352)\" style=\"stroke:#000000; stroke-width:2; stroke-opacity:0.1; fill:none\" points=\"\n",
       "  426.364,1451.89 426.364,244.432 \n",
       "  \"/>\n",
       "<polyline clip-path=\"url(#clip352)\" style=\"stroke:#000000; stroke-width:2; stroke-opacity:0.1; fill:none\" points=\"\n",
       "  709.344,1451.89 709.344,244.432 \n",
       "  \"/>\n",
       "<polyline clip-path=\"url(#clip352)\" style=\"stroke:#000000; stroke-width:2; stroke-opacity:0.1; fill:none\" points=\"\n",
       "  992.324,1451.89 992.324,244.432 \n",
       "  \"/>\n",
       "<polyline clip-path=\"url(#clip352)\" style=\"stroke:#000000; stroke-width:2; stroke-opacity:0.1; fill:none\" points=\"\n",
       "  1275.3,1451.89 1275.3,244.432 \n",
       "  \"/>\n",
       "<polyline clip-path=\"url(#clip352)\" style=\"stroke:#000000; stroke-width:2; stroke-opacity:0.1; fill:none\" points=\"\n",
       "  1558.28,1451.89 1558.28,244.432 \n",
       "  \"/>\n",
       "<polyline clip-path=\"url(#clip352)\" style=\"stroke:#000000; stroke-width:2; stroke-opacity:0.1; fill:none\" points=\"\n",
       "  1841.26,1451.89 1841.26,244.432 \n",
       "  \"/>\n",
       "<polyline clip-path=\"url(#clip352)\" style=\"stroke:#000000; stroke-width:2; stroke-opacity:0.1; fill:none\" points=\"\n",
       "  2124.24,1451.89 2124.24,244.432 \n",
       "  \"/>\n",
       "<polyline clip-path=\"url(#clip352)\" style=\"stroke:#000000; stroke-width:2; stroke-opacity:0.1; fill:none\" points=\"\n",
       "  197.852,1417.71 2352.76,1417.71 \n",
       "  \"/>\n",
       "<polyline clip-path=\"url(#clip352)\" style=\"stroke:#000000; stroke-width:2; stroke-opacity:0.1; fill:none\" points=\"\n",
       "  197.852,1239.64 2352.76,1239.64 \n",
       "  \"/>\n",
       "<polyline clip-path=\"url(#clip352)\" style=\"stroke:#000000; stroke-width:2; stroke-opacity:0.1; fill:none\" points=\"\n",
       "  197.852,1061.56 2352.76,1061.56 \n",
       "  \"/>\n",
       "<polyline clip-path=\"url(#clip352)\" style=\"stroke:#000000; stroke-width:2; stroke-opacity:0.1; fill:none\" points=\"\n",
       "  197.852,883.484 2352.76,883.484 \n",
       "  \"/>\n",
       "<polyline clip-path=\"url(#clip352)\" style=\"stroke:#000000; stroke-width:2; stroke-opacity:0.1; fill:none\" points=\"\n",
       "  197.852,705.407 2352.76,705.407 \n",
       "  \"/>\n",
       "<polyline clip-path=\"url(#clip352)\" style=\"stroke:#000000; stroke-width:2; stroke-opacity:0.1; fill:none\" points=\"\n",
       "  197.852,527.33 2352.76,527.33 \n",
       "  \"/>\n",
       "<polyline clip-path=\"url(#clip352)\" style=\"stroke:#000000; stroke-width:2; stroke-opacity:0.1; fill:none\" points=\"\n",
       "  197.852,349.254 2352.76,349.254 \n",
       "  \"/>\n",
       "<polyline clip-path=\"url(#clip350)\" style=\"stroke:#000000; stroke-width:4; stroke-opacity:1; fill:none\" points=\"\n",
       "  197.852,1451.89 2352.76,1451.89 \n",
       "  \"/>\n",
       "<polyline clip-path=\"url(#clip350)\" style=\"stroke:#000000; stroke-width:4; stroke-opacity:1; fill:none\" points=\"\n",
       "  197.852,1451.89 197.852,244.432 \n",
       "  \"/>\n",
       "<polyline clip-path=\"url(#clip350)\" style=\"stroke:#000000; stroke-width:4; stroke-opacity:1; fill:none\" points=\"\n",
       "  426.364,1451.89 426.364,1437.4 \n",
       "  \"/>\n",
       "<polyline clip-path=\"url(#clip350)\" style=\"stroke:#000000; stroke-width:4; stroke-opacity:1; fill:none\" points=\"\n",
       "  709.344,1451.89 709.344,1437.4 \n",
       "  \"/>\n",
       "<polyline clip-path=\"url(#clip350)\" style=\"stroke:#000000; stroke-width:4; stroke-opacity:1; fill:none\" points=\"\n",
       "  992.324,1451.89 992.324,1437.4 \n",
       "  \"/>\n",
       "<polyline clip-path=\"url(#clip350)\" style=\"stroke:#000000; stroke-width:4; stroke-opacity:1; fill:none\" points=\"\n",
       "  1275.3,1451.89 1275.3,1437.4 \n",
       "  \"/>\n",
       "<polyline clip-path=\"url(#clip350)\" style=\"stroke:#000000; stroke-width:4; stroke-opacity:1; fill:none\" points=\"\n",
       "  1558.28,1451.89 1558.28,1437.4 \n",
       "  \"/>\n",
       "<polyline clip-path=\"url(#clip350)\" style=\"stroke:#000000; stroke-width:4; stroke-opacity:1; fill:none\" points=\"\n",
       "  1841.26,1451.89 1841.26,1437.4 \n",
       "  \"/>\n",
       "<polyline clip-path=\"url(#clip350)\" style=\"stroke:#000000; stroke-width:4; stroke-opacity:1; fill:none\" points=\"\n",
       "  2124.24,1451.89 2124.24,1437.4 \n",
       "  \"/>\n",
       "<polyline clip-path=\"url(#clip350)\" style=\"stroke:#000000; stroke-width:4; stroke-opacity:1; fill:none\" points=\"\n",
       "  197.852,1417.71 223.711,1417.71 \n",
       "  \"/>\n",
       "<polyline clip-path=\"url(#clip350)\" style=\"stroke:#000000; stroke-width:4; stroke-opacity:1; fill:none\" points=\"\n",
       "  197.852,1239.64 223.711,1239.64 \n",
       "  \"/>\n",
       "<polyline clip-path=\"url(#clip350)\" style=\"stroke:#000000; stroke-width:4; stroke-opacity:1; fill:none\" points=\"\n",
       "  197.852,1061.56 223.711,1061.56 \n",
       "  \"/>\n",
       "<polyline clip-path=\"url(#clip350)\" style=\"stroke:#000000; stroke-width:4; stroke-opacity:1; fill:none\" points=\"\n",
       "  197.852,883.484 223.711,883.484 \n",
       "  \"/>\n",
       "<polyline clip-path=\"url(#clip350)\" style=\"stroke:#000000; stroke-width:4; stroke-opacity:1; fill:none\" points=\"\n",
       "  197.852,705.407 223.711,705.407 \n",
       "  \"/>\n",
       "<polyline clip-path=\"url(#clip350)\" style=\"stroke:#000000; stroke-width:4; stroke-opacity:1; fill:none\" points=\"\n",
       "  197.852,527.33 223.711,527.33 \n",
       "  \"/>\n",
       "<polyline clip-path=\"url(#clip350)\" style=\"stroke:#000000; stroke-width:4; stroke-opacity:1; fill:none\" points=\"\n",
       "  197.852,349.254 223.711,349.254 \n",
       "  \"/>\n",
       "<path clip-path=\"url(#clip350)\" d=\"M 0 0 M399.906 1473.46 L399.906 1478.39 Q397.545 1476.19 394.86 1475.11 Q392.198 1474.02 389.189 1474.02 Q383.263 1474.02 380.115 1477.65 Q376.967 1481.26 376.967 1488.11 Q376.967 1494.94 380.115 1498.58 Q383.263 1502.19 389.189 1502.19 Q392.198 1502.19 394.86 1501.1 Q397.545 1500.01 399.906 1497.81 L399.906 1502.7 Q397.453 1504.36 394.698 1505.2 Q391.966 1506.03 388.911 1506.03 Q381.064 1506.03 376.55 1501.24 Q372.036 1496.42 372.036 1488.11 Q372.036 1479.78 376.55 1474.99 Q381.064 1470.17 388.911 1470.17 Q392.013 1470.17 394.744 1471.01 Q397.499 1471.82 399.906 1473.46 Z\" fill=\"#000000\" fill-rule=\"evenodd\" fill-opacity=\"1\" /><path clip-path=\"url(#clip350)\" d=\"M 0 0 M425.276 1471.93 L425.276 1476.49 Q422.614 1475.22 420.253 1474.6 Q417.892 1473.97 415.693 1473.97 Q411.874 1473.97 409.79 1475.45 Q407.73 1476.93 407.73 1479.67 Q407.73 1481.96 409.096 1483.14 Q410.485 1484.3 414.327 1485.01 L417.152 1485.59 Q422.383 1486.59 424.86 1489.11 Q427.36 1491.61 427.36 1495.82 Q427.36 1500.85 423.98 1503.44 Q420.624 1506.03 414.119 1506.03 Q411.665 1506.03 408.888 1505.48 Q406.133 1504.92 403.17 1503.83 L403.17 1499.02 Q406.017 1500.61 408.749 1501.42 Q411.48 1502.23 414.119 1502.23 Q418.124 1502.23 420.3 1500.66 Q422.476 1499.09 422.476 1496.17 Q422.476 1493.62 420.902 1492.19 Q419.351 1490.75 415.786 1490.04 L412.939 1489.48 Q407.707 1488.44 405.369 1486.22 Q403.031 1483.99 403.031 1480.04 Q403.031 1475.45 406.249 1472.81 Q409.49 1470.17 415.161 1470.17 Q417.591 1470.17 420.114 1470.61 Q422.638 1471.05 425.276 1471.93 Z\" fill=\"#000000\" fill-rule=\"evenodd\" fill-opacity=\"1\" /><path clip-path=\"url(#clip350)\" d=\"M 0 0 M440.925 1505.36 L427.73 1470.8 L432.614 1470.8 L443.563 1499.9 L454.536 1470.8 L459.397 1470.8 L446.225 1505.36 L440.925 1505.36 Z\" fill=\"#000000\" fill-rule=\"evenodd\" fill-opacity=\"1\" /><path clip-path=\"url(#clip350)\" d=\"M 0 0 M458.355 1499.48 L463.239 1499.48 L463.239 1505.36 L458.355 1505.36 L458.355 1499.48 Z\" fill=\"#000000\" fill-rule=\"evenodd\" fill-opacity=\"1\" /><path clip-path=\"url(#clip350)\" d=\"M 0 0 M467.707 1479.43 L471.966 1479.43 L471.966 1505.82 Q471.966 1510.78 470.068 1513 Q468.193 1515.22 464.003 1515.22 L462.383 1515.22 L462.383 1511.61 L463.517 1511.61 Q465.948 1511.61 466.827 1510.48 Q467.707 1509.36 467.707 1505.82 L467.707 1479.43 M467.707 1469.34 L471.966 1469.34 L471.966 1474.74 L467.707 1474.74 L467.707 1469.34 Z\" fill=\"#000000\" fill-rule=\"evenodd\" fill-opacity=\"1\" /><path clip-path=\"url(#clip350)\" d=\"M 0 0 M476.434 1469.34 L480.693 1469.34 L480.693 1505.36 L476.434 1505.36 L476.434 1469.34 Z\" fill=\"#000000\" fill-rule=\"evenodd\" fill-opacity=\"1\" /><path clip-path=\"url(#clip350)\" d=\"M 0 0 M636.058 1473.46 L636.058 1478.39 Q633.697 1476.19 631.011 1475.11 Q628.349 1474.02 625.34 1474.02 Q619.414 1474.02 616.266 1477.65 Q613.118 1481.26 613.118 1488.11 Q613.118 1494.94 616.266 1498.58 Q619.414 1502.19 625.34 1502.19 Q628.349 1502.19 631.011 1501.1 Q633.697 1500.01 636.058 1497.81 L636.058 1502.7 Q633.604 1504.36 630.849 1505.2 Q628.118 1506.03 625.062 1506.03 Q617.215 1506.03 612.701 1501.24 Q608.187 1496.42 608.187 1488.11 Q608.187 1479.78 612.701 1474.99 Q617.215 1470.17 625.062 1470.17 Q628.164 1470.17 630.896 1471.01 Q633.65 1471.82 636.058 1473.46 Z\" fill=\"#000000\" fill-rule=\"evenodd\" fill-opacity=\"1\" /><path clip-path=\"url(#clip350)\" d=\"M 0 0 M661.428 1471.93 L661.428 1476.49 Q658.766 1475.22 656.405 1474.6 Q654.044 1473.97 651.845 1473.97 Q648.025 1473.97 645.942 1475.45 Q643.882 1476.93 643.882 1479.67 Q643.882 1481.96 645.247 1483.14 Q646.636 1484.3 650.479 1485.01 L653.303 1485.59 Q658.534 1486.59 661.011 1489.11 Q663.511 1491.61 663.511 1495.82 Q663.511 1500.85 660.132 1503.44 Q656.775 1506.03 650.271 1506.03 Q647.817 1506.03 645.039 1505.48 Q642.285 1504.92 639.322 1503.83 L639.322 1499.02 Q642.169 1500.61 644.9 1501.42 Q647.632 1502.23 650.271 1502.23 Q654.275 1502.23 656.451 1500.66 Q658.627 1499.09 658.627 1496.17 Q658.627 1493.62 657.053 1492.19 Q655.502 1490.75 651.937 1490.04 L649.09 1489.48 Q643.859 1488.44 641.521 1486.22 Q639.183 1483.99 639.183 1480.04 Q639.183 1475.45 642.4 1472.81 Q645.641 1470.17 651.312 1470.17 Q653.743 1470.17 656.266 1470.61 Q658.789 1471.05 661.428 1471.93 Z\" fill=\"#000000\" fill-rule=\"evenodd\" fill-opacity=\"1\" /><path clip-path=\"url(#clip350)\" d=\"M 0 0 M677.076 1505.36 L663.882 1470.8 L668.766 1470.8 L679.715 1499.9 L690.687 1470.8 L695.548 1470.8 L682.377 1505.36 L677.076 1505.36 Z\" fill=\"#000000\" fill-rule=\"evenodd\" fill-opacity=\"1\" /><path clip-path=\"url(#clip350)\" d=\"M 0 0 M700.201 1470.8 L720.062 1470.8 L720.062 1474.74 L704.877 1474.74 L704.877 1484.92 L718.58 1484.92 L718.58 1488.86 L704.877 1488.86 L704.877 1505.36 L700.201 1505.36 L700.201 1470.8 Z\" fill=\"#000000\" fill-rule=\"evenodd\" fill-opacity=\"1\" /><path clip-path=\"url(#clip350)\" d=\"M 0 0 M721.08 1479.43 L725.34 1479.43 L725.34 1505.36 L721.08 1505.36 L721.08 1479.43 M721.08 1469.34 L725.34 1469.34 L725.34 1474.74 L721.08 1474.74 L721.08 1469.34 Z\" fill=\"#000000\" fill-rule=\"evenodd\" fill-opacity=\"1\" /><path clip-path=\"url(#clip350)\" d=\"M 0 0 M729.807 1469.34 L734.066 1469.34 L734.066 1505.36 L729.807 1505.36 L729.807 1469.34 Z\" fill=\"#000000\" fill-rule=\"evenodd\" fill-opacity=\"1\" /><path clip-path=\"url(#clip350)\" d=\"M 0 0 M760.71 1491.33 L760.71 1493.42 L741.127 1493.42 Q741.404 1497.81 743.765 1500.13 Q746.15 1502.42 750.386 1502.42 Q752.839 1502.42 755.131 1501.82 Q757.446 1501.22 759.714 1500.01 L759.714 1504.04 Q757.423 1505.01 755.015 1505.52 Q752.608 1506.03 750.131 1506.03 Q743.928 1506.03 740.293 1502.42 Q736.682 1498.81 736.682 1492.65 Q736.682 1486.29 740.108 1482.56 Q743.557 1478.81 749.39 1478.81 Q754.622 1478.81 757.654 1482.19 Q760.71 1485.55 760.71 1491.33 M756.451 1490.08 Q756.404 1486.59 754.483 1484.5 Q752.585 1482.42 749.437 1482.42 Q745.872 1482.42 743.719 1484.43 Q741.59 1486.45 741.265 1490.11 L756.451 1490.08 Z\" fill=\"#000000\" fill-rule=\"evenodd\" fill-opacity=\"1\" /><path clip-path=\"url(#clip350)\" d=\"M 0 0 M781.705 1480.2 L781.705 1484.23 Q779.9 1483.3 777.955 1482.84 Q776.011 1482.37 773.927 1482.37 Q770.756 1482.37 769.159 1483.35 Q767.585 1484.32 767.585 1486.26 Q767.585 1487.74 768.719 1488.6 Q769.853 1489.43 773.279 1490.2 L774.738 1490.52 Q779.275 1491.49 781.173 1493.28 Q783.094 1495.04 783.094 1498.21 Q783.094 1501.82 780.224 1503.92 Q777.376 1506.03 772.376 1506.03 Q770.293 1506.03 768.025 1505.61 Q765.779 1505.22 763.279 1504.41 L763.279 1500.01 Q765.64 1501.24 767.932 1501.86 Q770.224 1502.47 772.469 1502.47 Q775.478 1502.47 777.099 1501.45 Q778.719 1500.41 778.719 1498.53 Q778.719 1496.8 777.538 1495.87 Q776.381 1494.94 772.423 1494.09 L770.941 1493.74 Q766.983 1492.91 765.224 1491.19 Q763.464 1489.46 763.464 1486.45 Q763.464 1482.79 766.057 1480.8 Q768.65 1478.81 773.418 1478.81 Q775.779 1478.81 777.863 1479.16 Q779.946 1479.5 781.705 1480.2 Z\" fill=\"#000000\" fill-rule=\"evenodd\" fill-opacity=\"1\" /><path clip-path=\"url(#clip350)\" d=\"M 0 0 M788.163 1499.48 L793.048 1499.48 L793.048 1505.36 L788.163 1505.36 L788.163 1499.48 Z\" fill=\"#000000\" fill-rule=\"evenodd\" fill-opacity=\"1\" /><path clip-path=\"url(#clip350)\" d=\"M 0 0 M797.515 1479.43 L801.774 1479.43 L801.774 1505.82 Q801.774 1510.78 799.876 1513 Q798.001 1515.22 793.812 1515.22 L792.191 1515.22 L792.191 1511.61 L793.325 1511.61 Q795.756 1511.61 796.636 1510.48 Q797.515 1509.36 797.515 1505.82 L797.515 1479.43 M797.515 1469.34 L801.774 1469.34 L801.774 1474.74 L797.515 1474.74 L797.515 1469.34 Z\" fill=\"#000000\" fill-rule=\"evenodd\" fill-opacity=\"1\" /><path clip-path=\"url(#clip350)\" d=\"M 0 0 M806.242 1469.34 L810.501 1469.34 L810.501 1505.36 L806.242 1505.36 L806.242 1469.34 Z\" fill=\"#000000\" fill-rule=\"evenodd\" fill-opacity=\"1\" /><path clip-path=\"url(#clip350)\" d=\"M 0 0 M901.665 1470.8 L921.526 1470.8 L921.526 1474.74 L906.341 1474.74 L906.341 1484.92 L920.045 1484.92 L920.045 1488.86 L906.341 1488.86 L906.341 1505.36 L901.665 1505.36 L901.665 1470.8 Z\" fill=\"#000000\" fill-rule=\"evenodd\" fill-opacity=\"1\" /><path clip-path=\"url(#clip350)\" d=\"M 0 0 M945.577 1491.33 L945.577 1493.42 L925.994 1493.42 Q926.271 1497.81 928.632 1500.13 Q931.017 1502.42 935.253 1502.42 Q937.707 1502.42 939.998 1501.82 Q942.313 1501.22 944.581 1500.01 L944.581 1504.04 Q942.29 1505.01 939.882 1505.52 Q937.475 1506.03 934.998 1506.03 Q928.795 1506.03 925.16 1502.42 Q921.549 1498.81 921.549 1492.65 Q921.549 1486.29 924.975 1482.56 Q928.424 1478.81 934.257 1478.81 Q939.489 1478.81 942.521 1482.19 Q945.577 1485.55 945.577 1491.33 M941.318 1490.08 Q941.271 1486.59 939.35 1484.5 Q937.452 1482.42 934.304 1482.42 Q930.739 1482.42 928.586 1484.43 Q926.457 1486.45 926.133 1490.11 L941.318 1490.08 Z\" fill=\"#000000\" fill-rule=\"evenodd\" fill-opacity=\"1\" /><path clip-path=\"url(#clip350)\" d=\"M 0 0 M961.827 1492.33 Q956.665 1492.33 954.674 1493.51 Q952.683 1494.69 952.683 1497.54 Q952.683 1499.8 954.165 1501.15 Q955.669 1502.47 958.239 1502.47 Q961.78 1502.47 963.91 1499.97 Q966.063 1497.44 966.063 1493.28 L966.063 1492.33 L961.827 1492.33 M970.322 1490.57 L970.322 1505.36 L966.063 1505.36 L966.063 1501.42 Q964.605 1503.79 962.429 1504.92 Q960.253 1506.03 957.105 1506.03 Q953.123 1506.03 950.762 1503.81 Q948.424 1501.56 948.424 1497.81 Q948.424 1493.44 951.341 1491.22 Q954.281 1488.99 960.091 1488.99 L966.063 1488.99 L966.063 1488.58 Q966.063 1485.64 964.118 1484.04 Q962.197 1482.42 958.702 1482.42 Q956.48 1482.42 954.373 1482.95 Q952.267 1483.48 950.322 1484.55 L950.322 1480.61 Q952.66 1479.71 954.859 1479.27 Q957.058 1478.81 959.142 1478.81 Q964.767 1478.81 967.544 1481.73 Q970.322 1484.64 970.322 1490.57 Z\" fill=\"#000000\" fill-rule=\"evenodd\" fill-opacity=\"1\" /><path clip-path=\"url(#clip350)\" d=\"M 0 0 M979.003 1472.07 L979.003 1479.43 L987.776 1479.43 L987.776 1482.74 L979.003 1482.74 L979.003 1496.82 Q979.003 1499.99 979.859 1500.89 Q980.739 1501.8 983.401 1501.8 L987.776 1501.8 L987.776 1505.36 L983.401 1505.36 Q978.47 1505.36 976.595 1503.53 Q974.72 1501.68 974.72 1496.82 L974.72 1482.74 L971.595 1482.74 L971.595 1479.43 L974.72 1479.43 L974.72 1472.07 L979.003 1472.07 Z\" fill=\"#000000\" fill-rule=\"evenodd\" fill-opacity=\"1\" /><path clip-path=\"url(#clip350)\" d=\"M 0 0 M1013.79 1489.71 L1013.79 1505.36 L1009.53 1505.36 L1009.53 1489.85 Q1009.53 1486.17 1008.1 1484.34 Q1006.66 1482.51 1003.79 1482.51 Q1000.35 1482.51 998.354 1484.71 Q996.364 1486.91 996.364 1490.71 L996.364 1505.36 L992.081 1505.36 L992.081 1469.34 L996.364 1469.34 L996.364 1483.46 Q997.891 1481.12 999.952 1479.97 Q1002.03 1478.81 1004.74 1478.81 Q1009.21 1478.81 1011.5 1481.59 Q1013.79 1484.34 1013.79 1489.71 Z\" fill=\"#000000\" fill-rule=\"evenodd\" fill-opacity=\"1\" /><path clip-path=\"url(#clip350)\" d=\"M 0 0 M1040.44 1491.33 L1040.44 1493.42 L1020.85 1493.42 Q1021.13 1497.81 1023.49 1500.13 Q1025.88 1502.42 1030.11 1502.42 Q1032.57 1502.42 1034.86 1501.82 Q1037.17 1501.22 1039.44 1500.01 L1039.44 1504.04 Q1037.15 1505.01 1034.74 1505.52 Q1032.34 1506.03 1029.86 1506.03 Q1023.66 1506.03 1020.02 1502.42 Q1016.41 1498.81 1016.41 1492.65 Q1016.41 1486.29 1019.84 1482.56 Q1023.28 1478.81 1029.12 1478.81 Q1034.35 1478.81 1037.38 1482.19 Q1040.44 1485.55 1040.44 1491.33 M1036.18 1490.08 Q1036.13 1486.59 1034.21 1484.5 Q1032.31 1482.42 1029.16 1482.42 Q1025.6 1482.42 1023.45 1484.43 Q1021.32 1486.45 1020.99 1490.11 L1036.18 1490.08 Z\" fill=\"#000000\" fill-rule=\"evenodd\" fill-opacity=\"1\" /><path clip-path=\"url(#clip350)\" d=\"M 0 0 M1059.93 1483.42 Q1059.21 1483 1058.35 1482.81 Q1057.52 1482.61 1056.5 1482.61 Q1052.89 1482.61 1050.95 1484.97 Q1049.03 1487.3 1049.03 1491.7 L1049.03 1505.36 L1044.74 1505.36 L1044.74 1479.43 L1049.03 1479.43 L1049.03 1483.46 Q1050.37 1481.1 1052.52 1479.97 Q1054.67 1478.81 1057.75 1478.81 Q1058.19 1478.81 1058.72 1478.88 Q1059.26 1478.92 1059.9 1479.04 L1059.93 1483.42 Z\" fill=\"#000000\" fill-rule=\"evenodd\" fill-opacity=\"1\" /><path clip-path=\"url(#clip350)\" d=\"M 0 0 M1060.65 1499.48 L1065.53 1499.48 L1065.53 1505.36 L1060.65 1505.36 L1060.65 1499.48 Z\" fill=\"#000000\" fill-rule=\"evenodd\" fill-opacity=\"1\" /><path clip-path=\"url(#clip350)\" d=\"M 0 0 M1070 1479.43 L1074.26 1479.43 L1074.26 1505.82 Q1074.26 1510.78 1072.36 1513 Q1070.48 1515.22 1066.29 1515.22 L1064.67 1515.22 L1064.67 1511.61 L1065.81 1511.61 Q1068.24 1511.61 1069.12 1510.48 Q1070 1509.36 1070 1505.82 L1070 1479.43 M1070 1469.34 L1074.26 1469.34 L1074.26 1474.74 L1070 1474.74 L1070 1469.34 Z\" fill=\"#000000\" fill-rule=\"evenodd\" fill-opacity=\"1\" /><path clip-path=\"url(#clip350)\" d=\"M 0 0 M1078.72 1469.34 L1082.98 1469.34 L1082.98 1505.36 L1078.72 1505.36 L1078.72 1469.34 Z\" fill=\"#000000\" fill-rule=\"evenodd\" fill-opacity=\"1\" /><path clip-path=\"url(#clip350)\" d=\"M 0 0 M1237.52 1470.8 L1242.19 1470.8 L1242.19 1502.95 Q1242.19 1509.2 1239.81 1512.03 Q1237.45 1514.85 1232.19 1514.85 L1230.41 1514.85 L1230.41 1510.92 L1231.87 1510.92 Q1234.97 1510.92 1236.24 1509.18 Q1237.52 1507.44 1237.52 1502.95 L1237.52 1470.8 Z\" fill=\"#000000\" fill-rule=\"evenodd\" fill-opacity=\"1\" /><path clip-path=\"url(#clip350)\" d=\"M 0 0 M1251.52 1474.64 L1251.52 1501.52 L1257.17 1501.52 Q1264.32 1501.52 1267.63 1498.28 Q1270.96 1495.04 1270.96 1488.05 Q1270.96 1481.1 1267.63 1477.88 Q1264.32 1474.64 1257.17 1474.64 L1251.52 1474.64 M1246.84 1470.8 L1256.45 1470.8 Q1266.5 1470.8 1271.2 1474.99 Q1275.89 1479.16 1275.89 1488.05 Q1275.89 1496.98 1271.17 1501.17 Q1266.45 1505.36 1256.45 1505.36 L1246.84 1505.36 L1246.84 1470.8 Z\" fill=\"#000000\" fill-rule=\"evenodd\" fill-opacity=\"1\" /><path clip-path=\"url(#clip350)\" d=\"M 0 0 M1280.55 1470.8 L1300.41 1470.8 L1300.41 1474.74 L1285.22 1474.74 L1285.22 1484.92 L1298.93 1484.92 L1298.93 1488.86 L1285.22 1488.86 L1285.22 1505.36 L1280.55 1505.36 L1280.55 1470.8 Z\" fill=\"#000000\" fill-rule=\"evenodd\" fill-opacity=\"1\" /><path clip-path=\"url(#clip350)\" d=\"M 0 0 M1297.86 1499.48 L1302.75 1499.48 L1302.75 1505.36 L1297.86 1505.36 L1297.86 1499.48 Z\" fill=\"#000000\" fill-rule=\"evenodd\" fill-opacity=\"1\" /><path clip-path=\"url(#clip350)\" d=\"M 0 0 M1307.21 1479.43 L1311.47 1479.43 L1311.47 1505.82 Q1311.47 1510.78 1309.57 1513 Q1307.7 1515.22 1303.51 1515.22 L1301.89 1515.22 L1301.89 1511.61 L1303.02 1511.61 Q1305.45 1511.61 1306.33 1510.48 Q1307.21 1509.36 1307.21 1505.82 L1307.21 1479.43 M1307.21 1469.34 L1311.47 1469.34 L1311.47 1474.74 L1307.21 1474.74 L1307.21 1469.34 Z\" fill=\"#000000\" fill-rule=\"evenodd\" fill-opacity=\"1\" /><path clip-path=\"url(#clip350)\" d=\"M 0 0 M1315.94 1469.34 L1320.2 1469.34 L1320.2 1505.36 L1315.94 1505.36 L1315.94 1469.34 Z\" fill=\"#000000\" fill-rule=\"evenodd\" fill-opacity=\"1\" /><path clip-path=\"url(#clip350)\" d=\"M 0 0 M1502.62 1470.8 L1507.3 1470.8 L1507.3 1502.95 Q1507.3 1509.2 1504.92 1512.03 Q1502.56 1514.85 1497.3 1514.85 L1495.52 1514.85 L1495.52 1510.92 L1496.98 1510.92 Q1500.08 1510.92 1501.35 1509.18 Q1502.62 1507.44 1502.62 1502.95 L1502.62 1470.8 Z\" fill=\"#000000\" fill-rule=\"evenodd\" fill-opacity=\"1\" /><path clip-path=\"url(#clip350)\" d=\"M 0 0 M1511.95 1470.8 L1516.63 1470.8 L1516.63 1501.42 L1533.46 1501.42 L1533.46 1505.36 L1511.95 1505.36 L1511.95 1470.8 Z\" fill=\"#000000\" fill-rule=\"evenodd\" fill-opacity=\"1\" /><path clip-path=\"url(#clip350)\" d=\"M 0 0 M1558.83 1471.93 L1558.83 1476.49 Q1556.17 1475.22 1553.8 1474.6 Q1551.44 1473.97 1549.24 1473.97 Q1545.43 1473.97 1543.34 1475.45 Q1541.28 1476.93 1541.28 1479.67 Q1541.28 1481.96 1542.65 1483.14 Q1544.04 1484.3 1547.88 1485.01 L1550.7 1485.59 Q1555.93 1486.59 1558.41 1489.11 Q1560.91 1491.61 1560.91 1495.82 Q1560.91 1500.85 1557.53 1503.44 Q1554.18 1506.03 1547.67 1506.03 Q1545.22 1506.03 1542.44 1505.48 Q1539.68 1504.92 1536.72 1503.83 L1536.72 1499.02 Q1539.57 1500.61 1542.3 1501.42 Q1545.03 1502.23 1547.67 1502.23 Q1551.68 1502.23 1553.85 1500.66 Q1556.03 1499.09 1556.03 1496.17 Q1556.03 1493.62 1554.45 1492.19 Q1552.9 1490.75 1549.34 1490.04 L1546.49 1489.48 Q1541.26 1488.44 1538.92 1486.22 Q1536.58 1483.99 1536.58 1480.04 Q1536.58 1475.45 1539.8 1472.81 Q1543.04 1470.17 1548.71 1470.17 Q1551.14 1470.17 1553.67 1470.61 Q1556.19 1471.05 1558.83 1471.93 Z\" fill=\"#000000\" fill-rule=\"evenodd\" fill-opacity=\"1\" /><path clip-path=\"url(#clip350)\" d=\"M 0 0 M1579.59 1473.97 Q1574.5 1473.97 1571.49 1477.77 Q1568.5 1481.56 1568.5 1488.11 Q1568.5 1494.64 1571.49 1498.44 Q1574.5 1502.23 1579.59 1502.23 Q1584.68 1502.23 1587.65 1498.44 Q1590.63 1494.64 1590.63 1488.11 Q1590.63 1481.56 1587.65 1477.77 Q1584.68 1473.97 1579.59 1473.97 M1579.59 1470.17 Q1586.86 1470.17 1591.21 1475.06 Q1595.56 1479.92 1595.56 1488.11 Q1595.56 1496.29 1591.21 1501.17 Q1586.86 1506.03 1579.59 1506.03 Q1572.3 1506.03 1567.93 1501.17 Q1563.57 1496.31 1563.57 1488.11 Q1563.57 1479.92 1567.93 1475.06 Q1572.3 1470.17 1579.59 1470.17 Z\" fill=\"#000000\" fill-rule=\"evenodd\" fill-opacity=\"1\" /><path clip-path=\"url(#clip350)\" d=\"M 0 0 M1598.71 1499.48 L1603.6 1499.48 L1603.6 1505.36 L1598.71 1505.36 L1598.71 1499.48 Z\" fill=\"#000000\" fill-rule=\"evenodd\" fill-opacity=\"1\" /><path clip-path=\"url(#clip350)\" d=\"M 0 0 M1608.06 1479.43 L1612.32 1479.43 L1612.32 1505.82 Q1612.32 1510.78 1610.43 1513 Q1608.55 1515.22 1604.36 1515.22 L1602.74 1515.22 L1602.74 1511.61 L1603.87 1511.61 Q1606.3 1511.61 1607.18 1510.48 Q1608.06 1509.36 1608.06 1505.82 L1608.06 1479.43 M1608.06 1469.34 L1612.32 1469.34 L1612.32 1474.74 L1608.06 1474.74 L1608.06 1469.34 Z\" fill=\"#000000\" fill-rule=\"evenodd\" fill-opacity=\"1\" /><path clip-path=\"url(#clip350)\" d=\"M 0 0 M1616.79 1469.34 L1621.05 1469.34 L1621.05 1505.36 L1616.79 1505.36 L1616.79 1469.34 Z\" fill=\"#000000\" fill-rule=\"evenodd\" fill-opacity=\"1\" /><path clip-path=\"url(#clip350)\" d=\"M 0 0 M1716.69 1470.8 L1721.37 1470.8 L1721.37 1502.95 Q1721.37 1509.2 1718.98 1512.03 Q1716.62 1514.85 1711.37 1514.85 L1709.59 1514.85 L1709.59 1510.92 L1711.04 1510.92 Q1714.15 1510.92 1715.42 1509.18 Q1716.69 1507.44 1716.69 1502.95 L1716.69 1470.8 Z\" fill=\"#000000\" fill-rule=\"evenodd\" fill-opacity=\"1\" /><path clip-path=\"url(#clip350)\" d=\"M 0 0 M1746.74 1471.93 L1746.74 1476.49 Q1744.08 1475.22 1741.72 1474.6 Q1739.35 1473.97 1737.16 1473.97 Q1733.34 1473.97 1731.25 1475.45 Q1729.19 1476.93 1729.19 1479.67 Q1729.19 1481.96 1730.56 1483.14 Q1731.95 1484.3 1735.79 1485.01 L1738.61 1485.59 Q1743.85 1486.59 1746.32 1489.11 Q1748.82 1491.61 1748.82 1495.82 Q1748.82 1500.85 1745.44 1503.44 Q1742.09 1506.03 1735.58 1506.03 Q1733.13 1506.03 1730.35 1505.48 Q1727.6 1504.92 1724.63 1503.83 L1724.63 1499.02 Q1727.48 1500.61 1730.21 1501.42 Q1732.94 1502.23 1735.58 1502.23 Q1739.59 1502.23 1741.76 1500.66 Q1743.94 1499.09 1743.94 1496.17 Q1743.94 1493.62 1742.36 1492.19 Q1740.81 1490.75 1737.25 1490.04 L1734.4 1489.48 Q1729.17 1488.44 1726.83 1486.22 Q1724.49 1483.99 1724.49 1480.04 Q1724.49 1475.45 1727.71 1472.81 Q1730.95 1470.17 1736.62 1470.17 Q1739.05 1470.17 1741.58 1470.61 Q1744.1 1471.05 1746.74 1471.93 Z\" fill=\"#000000\" fill-rule=\"evenodd\" fill-opacity=\"1\" /><path clip-path=\"url(#clip350)\" d=\"M 0 0 M1767.5 1473.97 Q1762.41 1473.97 1759.4 1477.77 Q1756.41 1481.56 1756.41 1488.11 Q1756.41 1494.64 1759.4 1498.44 Q1762.41 1502.23 1767.5 1502.23 Q1772.6 1502.23 1775.56 1498.44 Q1778.54 1494.64 1778.54 1488.11 Q1778.54 1481.56 1775.56 1477.77 Q1772.6 1473.97 1767.5 1473.97 M1767.5 1470.17 Q1774.77 1470.17 1779.12 1475.06 Q1783.47 1479.92 1783.47 1488.11 Q1783.47 1496.29 1779.12 1501.17 Q1774.77 1506.03 1767.5 1506.03 Q1760.21 1506.03 1755.84 1501.17 Q1751.48 1496.31 1751.48 1488.11 Q1751.48 1479.92 1755.84 1475.06 Q1760.21 1470.17 1767.5 1470.17 Z\" fill=\"#000000\" fill-rule=\"evenodd\" fill-opacity=\"1\" /><path clip-path=\"url(#clip350)\" d=\"M 0 0 M1788.13 1470.8 L1794.42 1470.8 L1809.75 1499.71 L1809.75 1470.8 L1814.29 1470.8 L1814.29 1505.36 L1807.99 1505.36 L1792.66 1476.45 L1792.66 1505.36 L1788.13 1505.36 L1788.13 1470.8 Z\" fill=\"#000000\" fill-rule=\"evenodd\" fill-opacity=\"1\" /><path clip-path=\"url(#clip350)\" d=\"M 0 0 M1814.15 1470.8 L1843.38 1470.8 L1843.38 1474.74 L1831.11 1474.74 L1831.11 1505.36 L1826.41 1505.36 L1826.41 1474.74 L1814.15 1474.74 L1814.15 1470.8 Z\" fill=\"#000000\" fill-rule=\"evenodd\" fill-opacity=\"1\" /><path clip-path=\"url(#clip350)\" d=\"M 0 0 M1851.78 1492.33 Q1846.62 1492.33 1844.63 1493.51 Q1842.64 1494.69 1842.64 1497.54 Q1842.64 1499.8 1844.12 1501.15 Q1845.63 1502.47 1848.2 1502.47 Q1851.74 1502.47 1853.87 1499.97 Q1856.02 1497.44 1856.02 1493.28 L1856.02 1492.33 L1851.78 1492.33 M1860.28 1490.57 L1860.28 1505.36 L1856.02 1505.36 L1856.02 1501.42 Q1854.56 1503.79 1852.39 1504.92 Q1850.21 1506.03 1847.06 1506.03 Q1843.08 1506.03 1840.72 1503.81 Q1838.38 1501.56 1838.38 1497.81 Q1838.38 1493.44 1841.3 1491.22 Q1844.24 1488.99 1850.05 1488.99 L1856.02 1488.99 L1856.02 1488.58 Q1856.02 1485.64 1854.08 1484.04 Q1852.16 1482.42 1848.66 1482.42 Q1846.44 1482.42 1844.33 1482.95 Q1842.22 1483.48 1840.28 1484.55 L1840.28 1480.61 Q1842.62 1479.71 1844.82 1479.27 Q1847.02 1478.81 1849.1 1478.81 Q1854.72 1478.81 1857.5 1481.73 Q1860.28 1484.64 1860.28 1490.57 Z\" fill=\"#000000\" fill-rule=\"evenodd\" fill-opacity=\"1\" /><path clip-path=\"url(#clip350)\" d=\"M 0 0 M1883.36 1492.42 Q1883.36 1487.72 1881.41 1485.06 Q1879.49 1482.37 1876.11 1482.37 Q1872.73 1482.37 1870.79 1485.06 Q1868.87 1487.72 1868.87 1492.42 Q1868.87 1497.12 1870.79 1499.8 Q1872.73 1502.47 1876.11 1502.47 Q1879.49 1502.47 1881.41 1499.8 Q1883.36 1497.12 1883.36 1492.42 M1868.87 1483.37 Q1870.21 1481.05 1872.25 1479.94 Q1874.31 1478.81 1877.16 1478.81 Q1881.88 1478.81 1884.82 1482.56 Q1887.78 1486.31 1887.78 1492.42 Q1887.78 1498.53 1884.82 1502.28 Q1881.88 1506.03 1877.16 1506.03 Q1874.31 1506.03 1872.25 1504.92 Q1870.21 1503.79 1868.87 1501.47 L1868.87 1505.36 L1864.59 1505.36 L1864.59 1469.34 L1868.87 1469.34 L1868.87 1483.37 Z\" fill=\"#000000\" fill-rule=\"evenodd\" fill-opacity=\"1\" /><path clip-path=\"url(#clip350)\" d=\"M 0 0 M1892.25 1469.34 L1896.51 1469.34 L1896.51 1505.36 L1892.25 1505.36 L1892.25 1469.34 Z\" fill=\"#000000\" fill-rule=\"evenodd\" fill-opacity=\"1\" /><path clip-path=\"url(#clip350)\" d=\"M 0 0 M1923.15 1491.33 L1923.15 1493.42 L1903.57 1493.42 Q1903.84 1497.81 1906.21 1500.13 Q1908.59 1502.42 1912.83 1502.42 Q1915.28 1502.42 1917.57 1501.82 Q1919.89 1501.22 1922.15 1500.01 L1922.15 1504.04 Q1919.86 1505.01 1917.46 1505.52 Q1915.05 1506.03 1912.57 1506.03 Q1906.37 1506.03 1902.73 1502.42 Q1899.12 1498.81 1899.12 1492.65 Q1899.12 1486.29 1902.55 1482.56 Q1906 1478.81 1911.83 1478.81 Q1917.06 1478.81 1920.09 1482.19 Q1923.15 1485.55 1923.15 1491.33 M1918.89 1490.08 Q1918.84 1486.59 1916.92 1484.5 Q1915.03 1482.42 1911.88 1482.42 Q1908.31 1482.42 1906.16 1484.43 Q1904.03 1486.45 1903.71 1490.11 L1918.89 1490.08 Z\" fill=\"#000000\" fill-rule=\"evenodd\" fill-opacity=\"1\" /><path clip-path=\"url(#clip350)\" d=\"M 0 0 M1944.15 1480.2 L1944.15 1484.23 Q1942.34 1483.3 1940.4 1482.84 Q1938.45 1482.37 1936.37 1482.37 Q1933.2 1482.37 1931.6 1483.35 Q1930.03 1484.32 1930.03 1486.26 Q1930.03 1487.74 1931.16 1488.6 Q1932.29 1489.43 1935.72 1490.2 L1937.18 1490.52 Q1941.71 1491.49 1943.61 1493.28 Q1945.53 1495.04 1945.53 1498.21 Q1945.53 1501.82 1942.66 1503.92 Q1939.82 1506.03 1934.82 1506.03 Q1932.73 1506.03 1930.46 1505.61 Q1928.22 1505.22 1925.72 1504.41 L1925.72 1500.01 Q1928.08 1501.24 1930.37 1501.86 Q1932.66 1502.47 1934.91 1502.47 Q1937.92 1502.47 1939.54 1501.45 Q1941.16 1500.41 1941.16 1498.53 Q1941.16 1496.8 1939.98 1495.87 Q1938.82 1494.94 1934.86 1494.09 L1933.38 1493.74 Q1929.42 1492.91 1927.66 1491.19 Q1925.9 1489.46 1925.9 1486.45 Q1925.9 1482.79 1928.5 1480.8 Q1931.09 1478.81 1935.86 1478.81 Q1938.22 1478.81 1940.3 1479.16 Q1942.39 1479.5 1944.15 1480.2 Z\" fill=\"#000000\" fill-rule=\"evenodd\" fill-opacity=\"1\" /><path clip-path=\"url(#clip350)\" d=\"M 0 0 M1950.6 1499.48 L1955.49 1499.48 L1955.49 1505.36 L1950.6 1505.36 L1950.6 1499.48 Z\" fill=\"#000000\" fill-rule=\"evenodd\" fill-opacity=\"1\" /><path clip-path=\"url(#clip350)\" d=\"M 0 0 M1959.96 1479.43 L1964.21 1479.43 L1964.21 1505.82 Q1964.21 1510.78 1962.32 1513 Q1960.44 1515.22 1956.25 1515.22 L1954.63 1515.22 L1954.63 1511.61 L1955.77 1511.61 Q1958.2 1511.61 1959.08 1510.48 Q1959.96 1509.36 1959.96 1505.82 L1959.96 1479.43 M1959.96 1469.34 L1964.21 1469.34 L1964.21 1474.74 L1959.96 1474.74 L1959.96 1469.34 Z\" fill=\"#000000\" fill-rule=\"evenodd\" fill-opacity=\"1\" /><path clip-path=\"url(#clip350)\" d=\"M 0 0 M1968.68 1469.34 L1972.94 1469.34 L1972.94 1505.36 L1968.68 1505.36 L1968.68 1469.34 Z\" fill=\"#000000\" fill-rule=\"evenodd\" fill-opacity=\"1\" /><path clip-path=\"url(#clip350)\" d=\"M 0 0 M1737.01 1534.26 Q1733.58 1534.26 1731.59 1536.95 Q1729.6 1539.61 1729.6 1544.26 Q1729.6 1548.91 1731.57 1551.6 Q1733.56 1554.26 1737.01 1554.26 Q1740.41 1554.26 1742.4 1551.57 Q1744.39 1548.89 1744.39 1544.26 Q1744.39 1539.65 1742.4 1536.97 Q1740.41 1534.26 1737.01 1534.26 M1737.01 1530.65 Q1742.56 1530.65 1745.73 1534.26 Q1748.9 1537.87 1748.9 1544.26 Q1748.9 1550.63 1745.73 1554.26 Q1742.56 1557.87 1737.01 1557.87 Q1731.43 1557.87 1728.26 1554.26 Q1725.11 1550.63 1725.11 1544.26 Q1725.11 1537.87 1728.26 1534.26 Q1731.43 1530.65 1737.01 1530.65 Z\" fill=\"#000000\" fill-rule=\"evenodd\" fill-opacity=\"1\" /><path clip-path=\"url(#clip350)\" d=\"M 0 0 M1771.98 1544.26 Q1771.98 1539.56 1770.04 1536.9 Q1768.12 1534.21 1764.74 1534.21 Q1761.36 1534.21 1759.41 1536.9 Q1757.49 1539.56 1757.49 1544.26 Q1757.49 1548.96 1759.41 1551.64 Q1761.36 1554.31 1764.74 1554.31 Q1768.12 1554.31 1770.04 1551.64 Q1771.98 1548.96 1771.98 1544.26 M1757.49 1535.21 Q1758.83 1532.89 1760.87 1531.78 Q1762.93 1530.65 1765.78 1530.65 Q1770.5 1530.65 1773.44 1534.4 Q1776.4 1538.15 1776.4 1544.26 Q1776.4 1550.37 1773.44 1554.12 Q1770.5 1557.87 1765.78 1557.87 Q1762.93 1557.87 1760.87 1556.76 Q1758.83 1555.63 1757.49 1553.31 L1757.49 1557.2 L1753.21 1557.2 L1753.21 1521.18 L1757.49 1521.18 L1757.49 1535.21 Z\" fill=\"#000000\" fill-rule=\"evenodd\" fill-opacity=\"1\" /><path clip-path=\"url(#clip350)\" d=\"M 0 0 M1780.87 1531.27 L1785.13 1531.27 L1785.13 1557.66 Q1785.13 1562.62 1783.23 1564.84 Q1781.36 1567.06 1777.17 1567.06 L1775.55 1567.06 L1775.55 1563.45 L1776.68 1563.45 Q1779.11 1563.45 1779.99 1562.32 Q1780.87 1561.2 1780.87 1557.66 L1780.87 1531.27 M1780.87 1521.18 L1785.13 1521.18 L1785.13 1526.58 L1780.87 1526.58 L1780.87 1521.18 Z\" fill=\"#000000\" fill-rule=\"evenodd\" fill-opacity=\"1\" /><path clip-path=\"url(#clip350)\" d=\"M 0 0 M1811.77 1543.17 L1811.77 1545.26 L1792.19 1545.26 Q1792.47 1549.65 1794.83 1551.97 Q1797.21 1554.26 1801.45 1554.26 Q1803.9 1554.26 1806.19 1553.66 Q1808.51 1553.06 1810.78 1551.85 L1810.78 1555.88 Q1808.49 1556.85 1806.08 1557.36 Q1803.67 1557.87 1801.19 1557.87 Q1794.99 1557.87 1791.36 1554.26 Q1787.75 1550.65 1787.75 1544.49 Q1787.75 1538.13 1791.17 1534.4 Q1794.62 1530.65 1800.45 1530.65 Q1805.69 1530.65 1808.72 1534.03 Q1811.77 1537.39 1811.77 1543.17 M1807.51 1541.92 Q1807.47 1538.43 1805.55 1536.34 Q1803.65 1534.26 1800.5 1534.26 Q1796.94 1534.26 1794.78 1536.27 Q1792.65 1538.29 1792.33 1541.95 L1807.51 1541.92 Z\" fill=\"#000000\" fill-rule=\"evenodd\" fill-opacity=\"1\" /><path clip-path=\"url(#clip350)\" d=\"M 0 0 M1834.9 1532.27 L1834.9 1536.25 Q1833.09 1535.26 1831.26 1534.77 Q1829.46 1534.26 1827.61 1534.26 Q1823.46 1534.26 1821.17 1536.9 Q1818.88 1539.51 1818.88 1544.26 Q1818.88 1549.01 1821.17 1551.64 Q1823.46 1554.26 1827.61 1554.26 Q1829.46 1554.26 1831.26 1553.77 Q1833.09 1553.26 1834.9 1552.27 L1834.9 1556.2 Q1833.12 1557.04 1831.19 1557.45 Q1829.3 1557.87 1827.14 1557.87 Q1821.29 1557.87 1817.84 1554.19 Q1814.39 1550.51 1814.39 1544.26 Q1814.39 1537.92 1817.86 1534.28 Q1821.36 1530.65 1827.42 1530.65 Q1829.39 1530.65 1831.26 1531.07 Q1833.14 1531.46 1834.9 1532.27 Z\" fill=\"#000000\" fill-rule=\"evenodd\" fill-opacity=\"1\" /><path clip-path=\"url(#clip350)\" d=\"M 0 0 M1843.58 1523.91 L1843.58 1531.27 L1852.35 1531.27 L1852.35 1534.58 L1843.58 1534.58 L1843.58 1548.66 Q1843.58 1551.83 1844.44 1552.73 Q1845.31 1553.64 1847.98 1553.64 L1852.35 1553.64 L1852.35 1557.2 L1847.98 1557.2 Q1843.05 1557.2 1841.17 1555.37 Q1839.3 1553.52 1839.3 1548.66 L1839.3 1534.58 L1836.17 1534.58 L1836.17 1531.27 L1839.3 1531.27 L1839.3 1523.91 L1843.58 1523.91 Z\" fill=\"#000000\" fill-rule=\"evenodd\" fill-opacity=\"1\" /><path clip-path=\"url(#clip350)\" d=\"M 0 0 M1861.03 1523.91 L1861.03 1531.27 L1869.81 1531.27 L1869.81 1534.58 L1861.03 1534.58 L1861.03 1548.66 Q1861.03 1551.83 1861.89 1552.73 Q1862.77 1553.64 1865.43 1553.64 L1869.81 1553.64 L1869.81 1557.2 L1865.43 1557.2 Q1860.5 1557.2 1858.63 1555.37 Q1856.75 1553.52 1856.75 1548.66 L1856.75 1534.58 L1853.63 1534.58 L1853.63 1531.27 L1856.75 1531.27 L1856.75 1523.91 L1861.03 1523.91 Z\" fill=\"#000000\" fill-rule=\"evenodd\" fill-opacity=\"1\" /><path clip-path=\"url(#clip350)\" d=\"M 0 0 M1886.06 1544.17 Q1880.89 1544.17 1878.9 1545.35 Q1876.91 1546.53 1876.91 1549.38 Q1876.91 1551.64 1878.39 1552.99 Q1879.9 1554.31 1882.47 1554.31 Q1886.01 1554.31 1888.14 1551.81 Q1890.29 1549.28 1890.29 1545.12 L1890.29 1544.17 L1886.06 1544.17 M1894.55 1542.41 L1894.55 1557.2 L1890.29 1557.2 L1890.29 1553.26 Q1888.83 1555.63 1886.66 1556.76 Q1884.48 1557.87 1881.33 1557.87 Q1877.35 1557.87 1874.99 1555.65 Q1872.65 1553.4 1872.65 1549.65 Q1872.65 1545.28 1875.57 1543.06 Q1878.51 1540.83 1884.32 1540.83 L1890.29 1540.83 L1890.29 1540.42 Q1890.29 1537.48 1888.35 1535.88 Q1886.43 1534.26 1882.93 1534.26 Q1880.71 1534.26 1878.6 1534.79 Q1876.5 1535.32 1874.55 1536.39 L1874.55 1532.45 Q1876.89 1531.55 1879.09 1531.11 Q1881.29 1530.65 1883.37 1530.65 Q1889 1530.65 1891.77 1533.57 Q1894.55 1536.48 1894.55 1542.41 Z\" fill=\"#000000\" fill-rule=\"evenodd\" fill-opacity=\"1\" /><path clip-path=\"url(#clip350)\" d=\"M 0 0 M1917.63 1544.26 Q1917.63 1539.56 1915.68 1536.9 Q1913.76 1534.21 1910.38 1534.21 Q1907 1534.21 1905.06 1536.9 Q1903.14 1539.56 1903.14 1544.26 Q1903.14 1548.96 1905.06 1551.64 Q1907 1554.31 1910.38 1554.31 Q1913.76 1554.31 1915.68 1551.64 Q1917.63 1548.96 1917.63 1544.26 M1903.14 1535.21 Q1904.48 1532.89 1906.52 1531.78 Q1908.58 1530.65 1911.43 1530.65 Q1916.15 1530.65 1919.09 1534.4 Q1922.05 1538.15 1922.05 1544.26 Q1922.05 1550.37 1919.09 1554.12 Q1916.15 1557.87 1911.43 1557.87 Q1908.58 1557.87 1906.52 1556.76 Q1904.48 1555.63 1903.14 1553.31 L1903.14 1557.2 L1898.86 1557.2 L1898.86 1521.18 L1903.14 1521.18 L1903.14 1535.21 Z\" fill=\"#000000\" fill-rule=\"evenodd\" fill-opacity=\"1\" /><path clip-path=\"url(#clip350)\" d=\"M 0 0 M1926.52 1521.18 L1930.78 1521.18 L1930.78 1557.2 L1926.52 1557.2 L1926.52 1521.18 Z\" fill=\"#000000\" fill-rule=\"evenodd\" fill-opacity=\"1\" /><path clip-path=\"url(#clip350)\" d=\"M 0 0 M1957.42 1543.17 L1957.42 1545.26 L1937.84 1545.26 Q1938.12 1549.65 1940.48 1551.97 Q1942.86 1554.26 1947.1 1554.26 Q1949.55 1554.26 1951.84 1553.66 Q1954.16 1553.06 1956.43 1551.85 L1956.43 1555.88 Q1954.13 1556.85 1951.73 1557.36 Q1949.32 1557.87 1946.84 1557.87 Q1940.64 1557.87 1937 1554.26 Q1933.39 1550.65 1933.39 1544.49 Q1933.39 1538.13 1936.82 1534.4 Q1940.27 1530.65 1946.1 1530.65 Q1951.33 1530.65 1954.37 1534.03 Q1957.42 1537.39 1957.42 1543.17 M1953.16 1541.92 Q1953.12 1538.43 1951.19 1536.34 Q1949.3 1534.26 1946.15 1534.26 Q1942.58 1534.26 1940.43 1536.27 Q1938.3 1538.29 1937.98 1541.95 L1953.16 1541.92 Z\" fill=\"#000000\" fill-rule=\"evenodd\" fill-opacity=\"1\" /><path clip-path=\"url(#clip350)\" d=\"M 0 0 M2022.69 1471.93 L2022.69 1476.49 Q2020.03 1475.22 2017.67 1474.6 Q2015.31 1473.97 2013.11 1473.97 Q2009.29 1473.97 2007.21 1475.45 Q2005.15 1476.93 2005.15 1479.67 Q2005.15 1481.96 2006.51 1483.14 Q2007.9 1484.3 2011.74 1485.01 L2014.57 1485.59 Q2019.8 1486.59 2022.28 1489.11 Q2024.78 1491.61 2024.78 1495.82 Q2024.78 1500.85 2021.4 1503.44 Q2018.04 1506.03 2011.54 1506.03 Q2009.08 1506.03 2006.3 1505.48 Q2003.55 1504.92 2000.59 1503.83 L2000.59 1499.02 Q2003.43 1500.61 2006.17 1501.42 Q2008.9 1502.23 2011.54 1502.23 Q2015.54 1502.23 2017.72 1500.66 Q2019.89 1499.09 2019.89 1496.17 Q2019.89 1493.62 2018.32 1492.19 Q2016.77 1490.75 2013.2 1490.04 L2010.36 1489.48 Q2005.12 1488.44 2002.79 1486.22 Q2000.45 1483.99 2000.45 1480.04 Q2000.45 1475.45 2003.67 1472.81 Q2006.91 1470.17 2012.58 1470.17 Q2015.01 1470.17 2017.53 1470.61 Q2020.05 1471.05 2022.69 1471.93 Z\" fill=\"#000000\" fill-rule=\"evenodd\" fill-opacity=\"1\" /><path clip-path=\"url(#clip350)\" d=\"M 0 0 M2051.42 1491.33 L2051.42 1493.42 L2031.84 1493.42 Q2032.11 1497.81 2034.48 1500.13 Q2036.86 1502.42 2041.1 1502.42 Q2043.55 1502.42 2045.84 1501.82 Q2048.16 1501.22 2050.42 1500.01 L2050.42 1504.04 Q2048.13 1505.01 2045.73 1505.52 Q2043.32 1506.03 2040.84 1506.03 Q2034.64 1506.03 2031 1502.42 Q2027.39 1498.81 2027.39 1492.65 Q2027.39 1486.29 2030.82 1482.56 Q2034.27 1478.81 2040.1 1478.81 Q2045.33 1478.81 2048.36 1482.19 Q2051.42 1485.55 2051.42 1491.33 M2047.16 1490.08 Q2047.11 1486.59 2045.19 1484.5 Q2043.3 1482.42 2040.15 1482.42 Q2036.58 1482.42 2034.43 1484.43 Q2032.3 1486.45 2031.98 1490.11 L2047.16 1490.08 Z\" fill=\"#000000\" fill-rule=\"evenodd\" fill-opacity=\"1\" /><path clip-path=\"url(#clip350)\" d=\"M 0 0 M2070.91 1483.42 Q2070.19 1483 2069.34 1482.81 Q2068.5 1482.61 2067.49 1482.61 Q2063.87 1482.61 2061.93 1484.97 Q2060.01 1487.3 2060.01 1491.7 L2060.01 1505.36 L2055.73 1505.36 L2055.73 1479.43 L2060.01 1479.43 L2060.01 1483.46 Q2061.35 1481.1 2063.5 1479.97 Q2065.66 1478.81 2068.73 1478.81 Q2069.17 1478.81 2069.71 1478.88 Q2070.24 1478.92 2070.89 1479.04 L2070.91 1483.42 Z\" fill=\"#000000\" fill-rule=\"evenodd\" fill-opacity=\"1\" /><path clip-path=\"url(#clip350)\" d=\"M 0 0 M2075.38 1479.43 L2079.64 1479.43 L2079.64 1505.36 L2075.38 1505.36 L2075.38 1479.43 M2075.38 1469.34 L2079.64 1469.34 L2079.64 1474.74 L2075.38 1474.74 L2075.38 1469.34 Z\" fill=\"#000000\" fill-rule=\"evenodd\" fill-opacity=\"1\" /><path clip-path=\"url(#clip350)\" d=\"M 0 0 M2095.89 1492.33 Q2090.73 1492.33 2088.73 1493.51 Q2086.74 1494.69 2086.74 1497.54 Q2086.74 1499.8 2088.23 1501.15 Q2089.73 1502.47 2092.3 1502.47 Q2095.84 1502.47 2097.97 1499.97 Q2100.12 1497.44 2100.12 1493.28 L2100.12 1492.33 L2095.89 1492.33 M2104.38 1490.57 L2104.38 1505.36 L2100.12 1505.36 L2100.12 1501.42 Q2098.67 1503.79 2096.49 1504.92 Q2094.31 1506.03 2091.17 1506.03 Q2087.18 1506.03 2084.82 1503.81 Q2082.48 1501.56 2082.48 1497.81 Q2082.48 1493.44 2085.4 1491.22 Q2088.34 1488.99 2094.15 1488.99 L2100.12 1488.99 L2100.12 1488.58 Q2100.12 1485.64 2098.18 1484.04 Q2096.26 1482.42 2092.76 1482.42 Q2090.54 1482.42 2088.43 1482.95 Q2086.33 1483.48 2084.38 1484.55 L2084.38 1480.61 Q2086.72 1479.71 2088.92 1479.27 Q2091.12 1478.81 2093.2 1478.81 Q2098.83 1478.81 2101.61 1481.73 Q2104.38 1484.64 2104.38 1490.57 Z\" fill=\"#000000\" fill-rule=\"evenodd\" fill-opacity=\"1\" /><path clip-path=\"url(#clip350)\" d=\"M 0 0 M2108.85 1469.34 L2113.11 1469.34 L2113.11 1505.36 L2108.85 1505.36 L2108.85 1469.34 Z\" fill=\"#000000\" fill-rule=\"evenodd\" fill-opacity=\"1\" /><path clip-path=\"url(#clip350)\" d=\"M 0 0 M2117.58 1479.43 L2121.84 1479.43 L2121.84 1505.36 L2117.58 1505.36 L2117.58 1479.43 M2117.58 1469.34 L2121.84 1469.34 L2121.84 1474.74 L2117.58 1474.74 L2117.58 1469.34 Z\" fill=\"#000000\" fill-rule=\"evenodd\" fill-opacity=\"1\" /><path clip-path=\"url(#clip350)\" d=\"M 0 0 M2124.45 1479.43 L2144.68 1479.43 L2144.68 1483.32 L2128.67 1501.96 L2144.68 1501.96 L2144.68 1505.36 L2123.87 1505.36 L2123.87 1501.47 L2139.89 1482.84 L2124.45 1482.84 L2124.45 1479.43 Z\" fill=\"#000000\" fill-rule=\"evenodd\" fill-opacity=\"1\" /><path clip-path=\"url(#clip350)\" d=\"M 0 0 M2160.93 1492.33 Q2155.77 1492.33 2153.78 1493.51 Q2151.79 1494.69 2151.79 1497.54 Q2151.79 1499.8 2153.27 1501.15 Q2154.78 1502.47 2157.35 1502.47 Q2160.89 1502.47 2163.02 1499.97 Q2165.17 1497.44 2165.17 1493.28 L2165.17 1492.33 L2160.93 1492.33 M2169.43 1490.57 L2169.43 1505.36 L2165.17 1505.36 L2165.17 1501.42 Q2163.71 1503.79 2161.54 1504.92 Q2159.36 1506.03 2156.21 1506.03 Q2152.23 1506.03 2149.87 1503.81 Q2147.53 1501.56 2147.53 1497.81 Q2147.53 1493.44 2150.45 1491.22 Q2153.39 1488.99 2159.2 1488.99 L2165.17 1488.99 L2165.17 1488.58 Q2165.17 1485.64 2163.23 1484.04 Q2161.3 1482.42 2157.81 1482.42 Q2155.59 1482.42 2153.48 1482.95 Q2151.37 1483.48 2149.43 1484.55 L2149.43 1480.61 Q2151.77 1479.71 2153.97 1479.27 Q2156.17 1478.81 2158.25 1478.81 Q2163.87 1478.81 2166.65 1481.73 Q2169.43 1484.64 2169.43 1490.57 Z\" fill=\"#000000\" fill-rule=\"evenodd\" fill-opacity=\"1\" /><path clip-path=\"url(#clip350)\" d=\"M 0 0 M2178.11 1472.07 L2178.11 1479.43 L2186.88 1479.43 L2186.88 1482.74 L2178.11 1482.74 L2178.11 1496.82 Q2178.11 1499.99 2178.97 1500.89 Q2179.85 1501.8 2182.51 1501.8 L2186.88 1501.8 L2186.88 1505.36 L2182.51 1505.36 Q2177.58 1505.36 2175.7 1503.53 Q2173.83 1501.68 2173.83 1496.82 L2173.83 1482.74 L2170.7 1482.74 L2170.7 1479.43 L2173.83 1479.43 L2173.83 1472.07 L2178.11 1472.07 Z\" fill=\"#000000\" fill-rule=\"evenodd\" fill-opacity=\"1\" /><path clip-path=\"url(#clip350)\" d=\"M 0 0 M2191.35 1479.43 L2195.61 1479.43 L2195.61 1505.36 L2191.35 1505.36 L2191.35 1479.43 M2191.35 1469.34 L2195.61 1469.34 L2195.61 1474.74 L2191.35 1474.74 L2191.35 1469.34 Z\" fill=\"#000000\" fill-rule=\"evenodd\" fill-opacity=\"1\" /><path clip-path=\"url(#clip350)\" d=\"M 0 0 M2210.12 1482.42 Q2206.7 1482.42 2204.71 1485.11 Q2202.72 1487.77 2202.72 1492.42 Q2202.72 1497.07 2204.68 1499.76 Q2206.67 1502.42 2210.12 1502.42 Q2213.53 1502.42 2215.52 1499.73 Q2217.51 1497.05 2217.51 1492.42 Q2217.51 1487.81 2215.52 1485.13 Q2213.53 1482.42 2210.12 1482.42 M2210.12 1478.81 Q2215.68 1478.81 2218.85 1482.42 Q2222.02 1486.03 2222.02 1492.42 Q2222.02 1498.79 2218.85 1502.42 Q2215.68 1506.03 2210.12 1506.03 Q2204.54 1506.03 2201.37 1502.42 Q2198.23 1498.79 2198.23 1492.42 Q2198.23 1486.03 2201.37 1482.42 Q2204.54 1478.81 2210.12 1478.81 Z\" fill=\"#000000\" fill-rule=\"evenodd\" fill-opacity=\"1\" /><path clip-path=\"url(#clip350)\" d=\"M 0 0 M2248.04 1489.71 L2248.04 1505.36 L2243.78 1505.36 L2243.78 1489.85 Q2243.78 1486.17 2242.35 1484.34 Q2240.91 1482.51 2238.04 1482.51 Q2234.59 1482.51 2232.6 1484.71 Q2230.61 1486.91 2230.61 1490.71 L2230.61 1505.36 L2226.33 1505.36 L2226.33 1479.43 L2230.61 1479.43 L2230.61 1483.46 Q2232.14 1481.12 2234.2 1479.97 Q2236.28 1478.81 2238.99 1478.81 Q2243.46 1478.81 2245.75 1481.59 Q2248.04 1484.34 2248.04 1489.71 Z\" fill=\"#000000\" fill-rule=\"evenodd\" fill-opacity=\"1\" /><path clip-path=\"url(#clip350)\" d=\"M 0 0 M161.908 1403.51 Q158.297 1403.51 156.468 1407.08 Q154.663 1410.62 154.663 1417.75 Q154.663 1424.86 156.468 1428.42 Q158.297 1431.96 161.908 1431.96 Q165.542 1431.96 167.348 1428.42 Q169.177 1424.86 169.177 1417.75 Q169.177 1410.62 167.348 1407.08 Q165.542 1403.51 161.908 1403.51 M161.908 1399.81 Q167.718 1399.81 170.774 1404.42 Q173.852 1409 173.852 1417.75 Q173.852 1426.48 170.774 1431.08 Q167.718 1435.67 161.908 1435.67 Q156.098 1435.67 153.019 1431.08 Q149.964 1426.48 149.964 1417.75 Q149.964 1409 153.019 1404.42 Q156.098 1399.81 161.908 1399.81 Z\" fill=\"#000000\" fill-rule=\"evenodd\" fill-opacity=\"1\" /><path clip-path=\"url(#clip350)\" d=\"M 0 0 M157.533 1252.98 L173.852 1252.98 L173.852 1256.92 L151.908 1256.92 L151.908 1252.98 Q154.57 1250.23 159.153 1245.6 Q163.76 1240.95 164.941 1239.6 Q167.186 1237.08 168.065 1235.34 Q168.968 1233.58 168.968 1231.89 Q168.968 1229.14 167.024 1227.4 Q165.103 1225.67 162.001 1225.67 Q159.802 1225.67 157.348 1226.43 Q154.917 1227.2 152.14 1228.75 L152.14 1224.02 Q154.964 1222.89 157.417 1222.31 Q159.871 1221.73 161.908 1221.73 Q167.278 1221.73 170.473 1224.42 Q173.667 1227.1 173.667 1231.59 Q173.667 1233.72 172.857 1235.64 Q172.07 1237.54 169.964 1240.14 Q169.385 1240.81 166.283 1244.02 Q163.181 1247.22 157.533 1252.98 Z\" fill=\"#000000\" fill-rule=\"evenodd\" fill-opacity=\"1\" /><path clip-path=\"url(#clip350)\" d=\"M 0 0 M164.269 1048.35 L152.464 1066.8 L164.269 1066.8 L164.269 1048.35 M163.042 1044.28 L168.922 1044.28 L168.922 1066.8 L173.852 1066.8 L173.852 1070.69 L168.922 1070.69 L168.922 1078.84 L164.269 1078.84 L164.269 1070.69 L148.667 1070.69 L148.667 1066.18 L163.042 1044.28 Z\" fill=\"#000000\" fill-rule=\"evenodd\" fill-opacity=\"1\" /><path clip-path=\"url(#clip350)\" d=\"M 0 0 M162.325 881.621 Q159.177 881.621 157.325 883.773 Q155.496 885.926 155.496 889.676 Q155.496 893.403 157.325 895.579 Q159.177 897.732 162.325 897.732 Q165.473 897.732 167.302 895.579 Q169.153 893.403 169.153 889.676 Q169.153 885.926 167.302 883.773 Q165.473 881.621 162.325 881.621 M171.607 866.968 L171.607 871.227 Q169.848 870.394 168.042 869.954 Q166.26 869.514 164.501 869.514 Q159.871 869.514 157.417 872.639 Q154.987 875.764 154.64 882.084 Q156.005 880.07 158.066 879.005 Q160.126 877.917 162.603 877.917 Q167.811 877.917 170.82 881.088 Q173.852 884.236 173.852 889.676 Q173.852 895 170.704 898.218 Q167.556 901.435 162.325 901.435 Q156.329 901.435 153.158 896.852 Q149.987 892.246 149.987 883.519 Q149.987 875.324 153.876 870.463 Q157.765 865.579 164.316 865.579 Q166.075 865.579 167.857 865.926 Q169.663 866.274 171.607 866.968 Z\" fill=\"#000000\" fill-rule=\"evenodd\" fill-opacity=\"1\" /><path clip-path=\"url(#clip350)\" d=\"M 0 0 M162.001 706.275 Q158.667 706.275 156.746 708.058 Q154.848 709.84 154.848 712.965 Q154.848 716.09 156.746 717.872 Q158.667 719.655 162.001 719.655 Q165.334 719.655 167.255 717.872 Q169.177 716.067 169.177 712.965 Q169.177 709.84 167.255 708.058 Q165.357 706.275 162.001 706.275 M157.325 704.285 Q154.316 703.544 152.626 701.484 Q150.959 699.424 150.959 696.461 Q150.959 692.317 153.899 689.91 Q156.862 687.502 162.001 687.502 Q167.163 687.502 170.103 689.91 Q173.042 692.317 173.042 696.461 Q173.042 699.424 171.353 701.484 Q169.686 703.544 166.7 704.285 Q170.079 705.072 171.954 707.363 Q173.852 709.655 173.852 712.965 Q173.852 717.988 170.774 720.673 Q167.718 723.359 162.001 723.359 Q156.283 723.359 153.204 720.673 Q150.149 717.988 150.149 712.965 Q150.149 709.655 152.047 707.363 Q153.945 705.072 157.325 704.285 M155.612 696.9 Q155.612 699.586 157.279 701.09 Q158.968 702.595 162.001 702.595 Q165.01 702.595 166.7 701.09 Q168.413 699.586 168.413 696.9 Q168.413 694.215 166.7 692.711 Q165.01 691.206 162.001 691.206 Q158.968 691.206 157.279 692.711 Q155.612 694.215 155.612 696.9 Z\" fill=\"#000000\" fill-rule=\"evenodd\" fill-opacity=\"1\" /><path clip-path=\"url(#clip350)\" d=\"M 0 0 M126.931 540.675 L134.57 540.675 L134.57 514.31 L126.26 515.976 L126.26 511.717 L134.524 510.05 L139.2 510.05 L139.2 540.675 L146.839 540.675 L146.839 544.61 L126.931 544.61 L126.931 540.675 Z\" fill=\"#000000\" fill-rule=\"evenodd\" fill-opacity=\"1\" /><path clip-path=\"url(#clip350)\" d=\"M 0 0 M161.908 513.129 Q158.297 513.129 156.468 516.694 Q154.663 520.236 154.663 527.365 Q154.663 534.472 156.468 538.036 Q158.297 541.578 161.908 541.578 Q165.542 541.578 167.348 538.036 Q169.177 534.472 169.177 527.365 Q169.177 520.236 167.348 516.694 Q165.542 513.129 161.908 513.129 M161.908 509.425 Q167.718 509.425 170.774 514.032 Q173.852 518.615 173.852 527.365 Q173.852 536.092 170.774 540.698 Q167.718 545.282 161.908 545.282 Q156.098 545.282 153.019 540.698 Q149.964 536.092 149.964 527.365 Q149.964 518.615 153.019 514.032 Q156.098 509.425 161.908 509.425 Z\" fill=\"#000000\" fill-rule=\"evenodd\" fill-opacity=\"1\" /><path clip-path=\"url(#clip350)\" d=\"M 0 0 M128.529 362.598 L136.168 362.598 L136.168 336.233 L127.857 337.899 L127.857 333.64 L136.121 331.974 L140.797 331.974 L140.797 362.598 L148.436 362.598 L148.436 366.534 L128.529 366.534 L128.529 362.598 Z\" fill=\"#000000\" fill-rule=\"evenodd\" fill-opacity=\"1\" /><path clip-path=\"url(#clip350)\" d=\"M 0 0 M157.533 362.598 L173.852 362.598 L173.852 366.534 L151.908 366.534 L151.908 362.598 Q154.57 359.844 159.153 355.214 Q163.76 350.561 164.941 349.219 Q167.186 346.696 168.065 344.96 Q168.968 343.2 168.968 341.511 Q168.968 338.756 167.024 337.02 Q165.103 335.284 162.001 335.284 Q159.802 335.284 157.348 336.048 Q154.917 336.812 152.14 338.362 L152.14 333.64 Q154.964 332.506 157.417 331.927 Q159.871 331.349 161.908 331.349 Q167.278 331.349 170.473 334.034 Q173.667 336.719 173.667 341.21 Q173.667 343.339 172.857 345.261 Q172.07 347.159 169.964 349.751 Q169.385 350.423 166.283 353.64 Q163.181 356.835 157.533 362.598 Z\" fill=\"#000000\" fill-rule=\"evenodd\" fill-opacity=\"1\" /><path clip-path=\"url(#clip350)\" d=\"M 0 0 M920.263 12.096 L928.527 12.096 L941.246 63.2184 L953.926 12.096 L963.121 12.096 L975.841 63.2184 L988.52 12.096 L996.825 12.096 L981.634 72.576 L971.345 72.576 L958.584 20.0763 L945.702 72.576 L935.413 72.576 L920.263 12.096 Z\" fill=\"#000000\" fill-rule=\"evenodd\" fill-opacity=\"1\" /><path clip-path=\"url(#clip350)\" d=\"M 0 0 M1027.21 34.1734 Q1025.95 33.4443 1024.45 33.1202 Q1022.99 32.7556 1021.21 32.7556 Q1014.89 32.7556 1011.49 36.8875 Q1008.13 40.9789 1008.13 48.6757 L1008.13 72.576 L1000.63 72.576 L1000.63 27.2059 L1008.13 27.2059 L1008.13 34.2544 Q1010.48 30.1225 1014.24 28.1376 Q1018.01 26.1121 1023.4 26.1121 Q1024.17 26.1121 1025.1 26.2337 Q1026.03 26.3147 1027.17 26.5172 L1027.21 34.1734 Z\" fill=\"#000000\" fill-rule=\"evenodd\" fill-opacity=\"1\" /><path clip-path=\"url(#clip350)\" d=\"M 0 0 M1035.02 27.2059 L1042.48 27.2059 L1042.48 72.576 L1035.02 72.576 L1035.02 27.2059 M1035.02 9.54393 L1042.48 9.54393 L1042.48 18.9825 L1035.02 18.9825 L1035.02 9.54393 Z\" fill=\"#000000\" fill-rule=\"evenodd\" fill-opacity=\"1\" /><path clip-path=\"url(#clip350)\" d=\"M 0 0 M1057.67 14.324 L1057.67 27.2059 L1073.02 27.2059 L1073.02 32.9987 L1057.67 32.9987 L1057.67 57.6282 Q1057.67 63.1779 1059.17 64.7578 Q1060.71 66.3376 1065.37 66.3376 L1073.02 66.3376 L1073.02 72.576 L1065.37 72.576 Q1056.74 72.576 1053.46 69.3758 Q1050.18 66.1351 1050.18 57.6282 L1050.18 32.9987 L1044.71 32.9987 L1044.71 27.2059 L1050.18 27.2059 L1050.18 14.324 L1057.67 14.324 Z\" fill=\"#000000\" fill-rule=\"evenodd\" fill-opacity=\"1\" /><path clip-path=\"url(#clip350)\" d=\"M 0 0 M1119.65 48.0275 L1119.65 51.6733 L1085.38 51.6733 Q1085.86 59.3701 1090 63.421 Q1094.17 67.4314 1101.58 67.4314 Q1105.88 67.4314 1109.89 66.3781 Q1113.94 65.3249 1117.91 63.2184 L1117.91 70.267 Q1113.9 71.9684 1109.68 72.8596 Q1105.47 73.7508 1101.14 73.7508 Q1090.28 73.7508 1083.92 67.4314 Q1077.6 61.1119 1077.6 50.3365 Q1077.6 39.1965 1083.6 32.6746 Q1089.63 26.1121 1099.84 26.1121 Q1108.99 26.1121 1114.3 32.0264 Q1119.65 37.9003 1119.65 48.0275 M1112.19 45.84 Q1112.11 39.7232 1108.75 36.0774 Q1105.43 32.4315 1099.92 32.4315 Q1093.68 32.4315 1089.91 35.9558 Q1086.19 39.4801 1085.62 45.8805 L1112.19 45.84 Z\" fill=\"#000000\" fill-rule=\"evenodd\" fill-opacity=\"1\" /><path clip-path=\"url(#clip350)\" d=\"M 0 0 M1162.34 18.8205 L1162.34 41.5461 L1172.63 41.5461 Q1178.35 41.5461 1181.47 38.5889 Q1184.58 35.6318 1184.58 30.163 Q1184.58 24.7348 1181.47 21.7777 Q1178.35 18.8205 1172.63 18.8205 L1162.34 18.8205 M1154.16 12.096 L1172.63 12.096 Q1182.8 12.096 1187.99 16.714 Q1193.21 21.2916 1193.21 30.163 Q1193.21 39.1155 1187.99 43.6931 Q1182.8 48.2706 1172.63 48.2706 L1162.34 48.2706 L1162.34 72.576 L1154.16 72.576 L1154.16 12.096 Z\" fill=\"#000000\" fill-rule=\"evenodd\" fill-opacity=\"1\" /><path clip-path=\"url(#clip350)\" d=\"M 0 0 M1236.88 48.0275 L1236.88 51.6733 L1202.61 51.6733 Q1203.1 59.3701 1207.23 63.421 Q1211.4 67.4314 1218.81 67.4314 Q1223.11 67.4314 1227.12 66.3781 Q1231.17 65.3249 1235.14 63.2184 L1235.14 70.267 Q1231.13 71.9684 1226.92 72.8596 Q1222.7 73.7508 1218.37 73.7508 Q1207.51 73.7508 1201.15 67.4314 Q1194.83 61.1119 1194.83 50.3365 Q1194.83 39.1965 1200.83 32.6746 Q1206.86 26.1121 1217.07 26.1121 Q1226.23 26.1121 1231.53 32.0264 Q1236.88 37.9003 1236.88 48.0275 M1229.43 45.84 Q1229.35 39.7232 1225.98 36.0774 Q1222.66 32.4315 1217.15 32.4315 Q1210.92 32.4315 1207.15 35.9558 Q1203.42 39.4801 1202.85 45.8805 L1229.43 45.84 Z\" fill=\"#000000\" fill-rule=\"evenodd\" fill-opacity=\"1\" /><path clip-path=\"url(#clip350)\" d=\"M 0 0 M1270.99 34.1734 Q1269.73 33.4443 1268.24 33.1202 Q1266.78 32.7556 1264.99 32.7556 Q1258.68 32.7556 1255.27 36.8875 Q1251.91 40.9789 1251.91 48.6757 L1251.91 72.576 L1244.42 72.576 L1244.42 27.2059 L1251.91 27.2059 L1251.91 34.2544 Q1254.26 30.1225 1258.03 28.1376 Q1261.79 26.1121 1267.18 26.1121 Q1267.95 26.1121 1268.88 26.2337 Q1269.82 26.3147 1270.95 26.5172 L1270.99 34.1734 Z\" fill=\"#000000\" fill-rule=\"evenodd\" fill-opacity=\"1\" /><path clip-path=\"url(#clip350)\" d=\"M 0 0 M1301.78 9.54393 L1301.78 15.7418 L1294.65 15.7418 Q1290.64 15.7418 1289.06 17.3622 Q1287.52 18.9825 1287.52 23.1955 L1287.52 27.2059 L1299.79 27.2059 L1299.79 32.9987 L1287.52 32.9987 L1287.52 72.576 L1280.02 72.576 L1280.02 32.9987 L1272.89 32.9987 L1272.89 27.2059 L1280.02 27.2059 L1280.02 24.0462 Q1280.02 16.471 1283.55 13.0277 Q1287.07 9.54393 1294.73 9.54393 L1301.78 9.54393 Z\" fill=\"#000000\" fill-rule=\"evenodd\" fill-opacity=\"1\" /><path clip-path=\"url(#clip350)\" d=\"M 0 0 M1327.18 32.4315 Q1321.18 32.4315 1317.7 37.1306 Q1314.21 41.7891 1314.21 49.9314 Q1314.21 58.0738 1317.66 62.7728 Q1321.14 67.4314 1327.18 67.4314 Q1333.13 67.4314 1336.61 62.7323 Q1340.1 58.0333 1340.1 49.9314 Q1340.1 41.8701 1336.61 37.1711 Q1333.13 32.4315 1327.18 32.4315 M1327.18 26.1121 Q1336.9 26.1121 1342.45 32.4315 Q1348 38.7509 1348 49.9314 Q1348 61.0714 1342.45 67.4314 Q1336.9 73.7508 1327.18 73.7508 Q1317.41 73.7508 1311.86 67.4314 Q1306.35 61.0714 1306.35 49.9314 Q1306.35 38.7509 1311.86 32.4315 Q1317.41 26.1121 1327.18 26.1121 Z\" fill=\"#000000\" fill-rule=\"evenodd\" fill-opacity=\"1\" /><path clip-path=\"url(#clip350)\" d=\"M 0 0 M1382.11 34.1734 Q1380.85 33.4443 1379.35 33.1202 Q1377.89 32.7556 1376.11 32.7556 Q1369.79 32.7556 1366.39 36.8875 Q1363.03 40.9789 1363.03 48.6757 L1363.03 72.576 L1355.53 72.576 L1355.53 27.2059 L1363.03 27.2059 L1363.03 34.2544 Q1365.38 30.1225 1369.14 28.1376 Q1372.91 26.1121 1378.3 26.1121 Q1379.07 26.1121 1380 26.2337 Q1380.93 26.3147 1382.07 26.5172 L1382.11 34.1734 Z\" fill=\"#000000\" fill-rule=\"evenodd\" fill-opacity=\"1\" /><path clip-path=\"url(#clip350)\" d=\"M 0 0 M1423.79 35.9153 Q1426.59 30.8922 1430.47 28.5022 Q1434.36 26.1121 1439.63 26.1121 Q1446.72 26.1121 1450.57 31.0947 Q1454.41 36.0368 1454.41 45.1919 L1454.41 72.576 L1446.92 72.576 L1446.92 45.4349 Q1446.92 38.913 1444.61 35.7533 Q1442.3 32.5936 1437.56 32.5936 Q1431.77 32.5936 1428.41 36.4419 Q1425.05 40.2903 1425.05 46.9338 L1425.05 72.576 L1417.55 72.576 L1417.55 45.4349 Q1417.55 38.8725 1415.24 35.7533 Q1412.93 32.5936 1408.11 32.5936 Q1402.4 32.5936 1399.04 36.4824 Q1395.68 40.3308 1395.68 46.9338 L1395.68 72.576 L1388.18 72.576 L1388.18 27.2059 L1395.68 27.2059 L1395.68 34.2544 Q1398.23 30.082 1401.79 28.0971 Q1405.36 26.1121 1410.26 26.1121 Q1415.2 26.1121 1418.65 28.6237 Q1422.13 31.1352 1423.79 35.9153 Z\" fill=\"#000000\" fill-rule=\"evenodd\" fill-opacity=\"1\" /><path clip-path=\"url(#clip350)\" d=\"M 0 0 M1482.85 49.7694 Q1473.82 49.7694 1470.33 51.8354 Q1466.85 53.9013 1466.85 58.8839 Q1466.85 62.8538 1469.44 65.2034 Q1472.08 67.5124 1476.57 67.5124 Q1482.77 67.5124 1486.5 63.1374 Q1490.27 58.7219 1490.27 51.4303 L1490.27 49.7694 L1482.85 49.7694 M1497.72 46.6907 L1497.72 72.576 L1490.27 72.576 L1490.27 65.6895 Q1487.71 69.8214 1483.91 71.8063 Q1480.1 73.7508 1474.59 73.7508 Q1467.62 73.7508 1463.49 69.8619 Q1459.4 65.9325 1459.4 59.3701 Q1459.4 51.7138 1464.5 47.825 Q1469.65 43.9361 1479.81 43.9361 L1490.27 43.9361 L1490.27 43.2069 Q1490.27 38.0623 1486.86 35.2672 Q1483.5 32.4315 1477.38 32.4315 Q1473.49 32.4315 1469.81 33.3632 Q1466.12 34.295 1462.72 36.1584 L1462.72 29.2718 Q1466.81 27.692 1470.66 26.9223 Q1474.51 26.1121 1478.15 26.1121 Q1488 26.1121 1492.86 31.2163 Q1497.72 36.3204 1497.72 46.6907 Z\" fill=\"#000000\" fill-rule=\"evenodd\" fill-opacity=\"1\" /><path clip-path=\"url(#clip350)\" d=\"M 0 0 M1543.25 45.1919 L1543.25 72.576 L1535.8 72.576 L1535.8 45.4349 Q1535.8 38.994 1533.29 35.7938 Q1530.77 32.5936 1525.75 32.5936 Q1519.72 32.5936 1516.23 36.4419 Q1512.75 40.2903 1512.75 46.9338 L1512.75 72.576 L1505.25 72.576 L1505.25 27.2059 L1512.75 27.2059 L1512.75 34.2544 Q1515.42 30.163 1519.03 28.1376 Q1522.67 26.1121 1527.41 26.1121 Q1535.23 26.1121 1539.24 30.9732 Q1543.25 35.7938 1543.25 45.1919 Z\" fill=\"#000000\" fill-rule=\"evenodd\" fill-opacity=\"1\" /><path clip-path=\"url(#clip350)\" d=\"M 0 0 M1583.72 28.9478 L1583.72 35.9153 Q1580.56 34.1734 1577.36 33.3227 Q1574.2 32.4315 1570.96 32.4315 Q1563.71 32.4315 1559.7 37.0496 Q1555.69 41.6271 1555.69 49.9314 Q1555.69 58.2358 1559.7 62.8538 Q1563.71 67.4314 1570.96 67.4314 Q1574.2 67.4314 1577.36 66.5807 Q1580.56 65.6895 1583.72 63.9476 L1583.72 70.8341 Q1580.6 72.2924 1577.24 73.0216 Q1573.92 73.7508 1570.15 73.7508 Q1559.9 73.7508 1553.86 67.3098 Q1547.83 60.8689 1547.83 49.9314 Q1547.83 38.832 1553.91 32.472 Q1560.02 26.1121 1570.64 26.1121 Q1574.08 26.1121 1577.36 26.8413 Q1580.64 27.5299 1583.72 28.9478 Z\" fill=\"#000000\" fill-rule=\"evenodd\" fill-opacity=\"1\" /><path clip-path=\"url(#clip350)\" d=\"M 0 0 M1630.35 48.0275 L1630.35 51.6733 L1596.08 51.6733 Q1596.56 59.3701 1600.69 63.421 Q1604.87 67.4314 1612.28 67.4314 Q1616.57 67.4314 1620.58 66.3781 Q1624.63 65.3249 1628.6 63.2184 L1628.6 70.267 Q1624.59 71.9684 1620.38 72.8596 Q1616.17 73.7508 1611.83 73.7508 Q1600.98 73.7508 1594.62 67.4314 Q1588.3 61.1119 1588.3 50.3365 Q1588.3 39.1965 1594.29 32.6746 Q1600.33 26.1121 1610.54 26.1121 Q1619.69 26.1121 1625 32.0264 Q1630.35 37.9003 1630.35 48.0275 M1622.89 45.84 Q1622.81 39.7232 1619.45 36.0774 Q1616.13 32.4315 1610.62 32.4315 Q1604.38 32.4315 1600.61 35.9558 Q1596.89 39.4801 1596.32 45.8805 L1622.89 45.84 Z\" fill=\"#000000\" fill-rule=\"evenodd\" fill-opacity=\"1\" /><path clip-path=\"url(#clip350)\" d=\"M 0 0 M967.618 109.541 L967.618 156.571 L977.502 156.571 Q990.019 156.571 995.812 150.9 Q1001.65 145.229 1001.65 132.995 Q1001.65 120.843 995.812 115.212 Q990.019 109.541 977.502 109.541 L967.618 109.541 M959.435 102.816 L976.246 102.816 Q993.827 102.816 1002.05 110.148 Q1010.27 117.44 1010.27 132.995 Q1010.27 148.632 1002.01 155.964 Q993.746 163.296 976.246 163.296 L959.435 163.296 L959.435 102.816 Z\" fill=\"#000000\" fill-rule=\"evenodd\" fill-opacity=\"1\" /><path clip-path=\"url(#clip350)\" d=\"M 0 0 M1038.71 140.489 Q1029.68 140.489 1026.19 142.555 Q1022.71 144.621 1022.71 149.604 Q1022.71 153.574 1025.3 155.923 Q1027.94 158.232 1032.43 158.232 Q1038.63 158.232 1042.36 153.857 Q1046.12 149.442 1046.12 142.15 L1046.12 140.489 L1038.71 140.489 M1053.58 137.411 L1053.58 163.296 L1046.12 163.296 L1046.12 156.409 Q1043.57 160.541 1039.76 162.526 Q1035.96 164.471 1030.45 164.471 Q1023.48 164.471 1019.35 160.582 Q1015.26 156.653 1015.26 150.09 Q1015.26 142.434 1020.36 138.545 Q1025.51 134.656 1035.67 134.656 L1046.12 134.656 L1046.12 133.927 Q1046.12 128.782 1042.72 125.987 Q1039.36 123.152 1033.24 123.152 Q1029.35 123.152 1025.67 124.083 Q1021.98 125.015 1018.58 126.878 L1018.58 119.992 Q1022.67 118.412 1026.52 117.642 Q1030.37 116.832 1034.01 116.832 Q1043.86 116.832 1048.72 121.936 Q1053.58 127.04 1053.58 137.411 Z\" fill=\"#000000\" fill-rule=\"evenodd\" fill-opacity=\"1\" /><path clip-path=\"url(#clip350)\" d=\"M 0 0 M1068.77 105.044 L1068.77 117.926 L1084.12 117.926 L1084.12 123.719 L1068.77 123.719 L1068.77 148.348 Q1068.77 153.898 1070.27 155.478 Q1071.81 157.058 1076.47 157.058 L1084.12 157.058 L1084.12 163.296 L1076.47 163.296 Q1067.84 163.296 1064.56 160.096 Q1061.27 156.855 1061.27 148.348 L1061.27 123.719 L1055.81 123.719 L1055.81 117.926 L1061.27 117.926 L1061.27 105.044 L1068.77 105.044 Z\" fill=\"#000000\" fill-rule=\"evenodd\" fill-opacity=\"1\" /><path clip-path=\"url(#clip350)\" d=\"M 0 0 M1112.56 140.489 Q1103.53 140.489 1100.04 142.555 Q1096.56 144.621 1096.56 149.604 Q1096.56 153.574 1099.15 155.923 Q1101.78 158.232 1106.28 158.232 Q1112.48 158.232 1116.2 153.857 Q1119.97 149.442 1119.97 142.15 L1119.97 140.489 L1112.56 140.489 M1127.43 137.411 L1127.43 163.296 L1119.97 163.296 L1119.97 156.409 Q1117.42 160.541 1113.61 162.526 Q1109.8 164.471 1104.3 164.471 Q1097.33 164.471 1093.2 160.582 Q1089.1 156.653 1089.1 150.09 Q1089.1 142.434 1094.21 138.545 Q1099.35 134.656 1109.52 134.656 L1119.97 134.656 L1119.97 133.927 Q1119.97 128.782 1116.57 125.987 Q1113.21 123.152 1107.09 123.152 Q1103.2 123.152 1099.52 124.083 Q1095.83 125.015 1092.43 126.878 L1092.43 119.992 Q1096.52 118.412 1100.37 117.642 Q1104.21 116.832 1107.86 116.832 Q1117.7 116.832 1122.56 121.936 Q1127.43 127.04 1127.43 137.411 Z\" fill=\"#000000\" fill-rule=\"evenodd\" fill-opacity=\"1\" /><path clip-path=\"url(#clip350)\" d=\"M 0 0 M1135.57 102.816 L1170.33 102.816 L1170.33 109.703 L1143.75 109.703 L1143.75 127.527 L1167.73 127.527 L1167.73 134.413 L1143.75 134.413 L1143.75 163.296 L1135.57 163.296 L1135.57 102.816 Z\" fill=\"#000000\" fill-rule=\"evenodd\" fill-opacity=\"1\" /><path clip-path=\"url(#clip350)\" d=\"M 0 0 M1198.4 124.893 Q1197.14 124.164 1195.64 123.84 Q1194.18 123.476 1192.4 123.476 Q1186.08 123.476 1182.68 127.608 Q1179.32 131.699 1179.32 139.396 L1179.32 163.296 L1171.82 163.296 L1171.82 117.926 L1179.32 117.926 L1179.32 124.974 Q1181.67 120.843 1185.43 118.858 Q1189.2 116.832 1194.59 116.832 Q1195.36 116.832 1196.29 116.954 Q1197.22 117.035 1198.36 117.237 L1198.4 124.893 Z\" fill=\"#000000\" fill-rule=\"evenodd\" fill-opacity=\"1\" /><path clip-path=\"url(#clip350)\" d=\"M 0 0 M1226.84 140.489 Q1217.8 140.489 1214.32 142.555 Q1210.83 144.621 1210.83 149.604 Q1210.83 153.574 1213.43 155.923 Q1216.06 158.232 1220.56 158.232 Q1226.75 158.232 1230.48 153.857 Q1234.25 149.442 1234.25 142.15 L1234.25 140.489 L1226.84 140.489 M1241.7 137.411 L1241.7 163.296 L1234.25 163.296 L1234.25 156.409 Q1231.7 160.541 1227.89 162.526 Q1224.08 164.471 1218.57 164.471 Q1211.6 164.471 1207.47 160.582 Q1203.38 156.653 1203.38 150.09 Q1203.38 142.434 1208.48 138.545 Q1213.63 134.656 1223.8 134.656 L1234.25 134.656 L1234.25 133.927 Q1234.25 128.782 1230.85 125.987 Q1227.48 123.152 1221.37 123.152 Q1217.48 123.152 1213.79 124.083 Q1210.1 125.015 1206.7 126.878 L1206.7 119.992 Q1210.79 118.412 1214.64 117.642 Q1218.49 116.832 1222.14 116.832 Q1231.98 116.832 1236.84 121.936 Q1241.7 127.04 1241.7 137.411 Z\" fill=\"#000000\" fill-rule=\"evenodd\" fill-opacity=\"1\" /><path clip-path=\"url(#clip350)\" d=\"M 0 0 M1284.84 126.635 Q1287.64 121.612 1291.53 119.222 Q1295.42 116.832 1300.68 116.832 Q1307.77 116.832 1311.62 121.815 Q1315.47 126.757 1315.47 135.912 L1315.47 163.296 L1307.97 163.296 L1307.97 136.155 Q1307.97 129.633 1305.67 126.473 Q1303.36 123.314 1298.62 123.314 Q1292.82 123.314 1289.46 127.162 Q1286.1 131.01 1286.1 137.654 L1286.1 163.296 L1278.61 163.296 L1278.61 136.155 Q1278.61 129.592 1276.3 126.473 Q1273.99 123.314 1269.17 123.314 Q1263.46 123.314 1260.09 127.202 Q1256.73 131.051 1256.73 137.654 L1256.73 163.296 L1249.24 163.296 L1249.24 117.926 L1256.73 117.926 L1256.73 124.974 Q1259.28 120.802 1262.85 118.817 Q1266.41 116.832 1271.31 116.832 Q1276.26 116.832 1279.7 119.344 Q1283.18 121.855 1284.84 126.635 Z\" fill=\"#000000\" fill-rule=\"evenodd\" fill-opacity=\"1\" /><path clip-path=\"url(#clip350)\" d=\"M 0 0 M1362.09 138.748 L1362.09 142.393 L1327.82 142.393 Q1328.31 150.09 1332.44 154.141 Q1336.61 158.151 1344.03 158.151 Q1348.32 158.151 1352.33 157.098 Q1356.38 156.045 1360.35 153.938 L1360.35 160.987 Q1356.34 162.688 1352.13 163.58 Q1347.92 164.471 1343.58 164.471 Q1332.73 164.471 1326.37 158.151 Q1320.05 151.832 1320.05 141.057 Q1320.05 129.917 1326.04 123.395 Q1332.08 116.832 1342.29 116.832 Q1351.44 116.832 1356.75 122.746 Q1362.09 128.62 1362.09 138.748 M1354.64 136.56 Q1354.56 130.443 1351.2 126.797 Q1347.88 123.152 1342.37 123.152 Q1336.13 123.152 1332.36 126.676 Q1328.63 130.2 1328.07 136.601 L1354.64 136.56 Z\" fill=\"#000000\" fill-rule=\"evenodd\" fill-opacity=\"1\" /><path clip-path=\"url(#clip350)\" d=\"M 0 0 M1371.82 153.007 L1380.36 153.007 L1380.36 163.296 L1371.82 163.296 L1371.82 153.007 M1371.82 120.397 L1380.36 120.397 L1380.36 130.686 L1371.82 130.686 L1371.82 120.397 Z\" fill=\"#000000\" fill-rule=\"evenodd\" fill-opacity=\"1\" /><path clip-path=\"url(#clip350)\" d=\"M 0 0 M1447.12 140.651 Q1447.12 132.428 1443.72 127.77 Q1440.36 123.071 1434.44 123.071 Q1428.53 123.071 1425.13 127.77 Q1421.76 132.428 1421.76 140.651 Q1421.76 148.875 1425.13 153.574 Q1428.53 158.232 1434.44 158.232 Q1440.36 158.232 1443.72 153.574 Q1447.12 148.875 1447.12 140.651 M1421.76 124.812 Q1424.11 120.762 1427.68 118.817 Q1431.28 116.832 1436.27 116.832 Q1444.53 116.832 1449.68 123.395 Q1454.86 129.957 1454.86 140.651 Q1454.86 151.346 1449.68 157.908 Q1444.53 164.471 1436.27 164.471 Q1431.28 164.471 1427.68 162.526 Q1424.11 160.541 1421.76 156.49 L1421.76 163.296 L1414.27 163.296 L1414.27 100.264 L1421.76 100.264 L1421.76 124.812 Z\" fill=\"#000000\" fill-rule=\"evenodd\" fill-opacity=\"1\" /><path clip-path=\"url(#clip350)\" d=\"M 0 0 M1462.68 117.926 L1470.13 117.926 L1470.13 163.296 L1462.68 163.296 L1462.68 117.926 M1462.68 100.264 L1470.13 100.264 L1470.13 109.703 L1462.68 109.703 L1462.68 100.264 Z\" fill=\"#000000\" fill-rule=\"evenodd\" fill-opacity=\"1\" /><path clip-path=\"url(#clip350)\" d=\"M 0 0 M1507.81 140.084 Q1507.81 131.983 1504.44 127.527 Q1501.12 123.071 1495.09 123.071 Q1489.09 123.071 1485.73 127.527 Q1482.41 131.983 1482.41 140.084 Q1482.41 148.146 1485.73 152.602 Q1489.09 157.058 1495.09 157.058 Q1501.12 157.058 1504.44 152.602 Q1507.81 148.146 1507.81 140.084 M1515.26 157.665 Q1515.26 169.251 1510.11 174.882 Q1504.97 180.553 1494.36 180.553 Q1490.43 180.553 1486.94 179.945 Q1483.46 179.378 1480.18 178.163 L1480.18 170.912 Q1483.46 172.694 1486.66 173.545 Q1489.86 174.395 1493.18 174.395 Q1500.51 174.395 1504.16 170.547 Q1507.81 166.739 1507.81 159.002 L1507.81 155.316 Q1505.5 159.326 1501.89 161.311 Q1498.29 163.296 1493.26 163.296 Q1484.92 163.296 1479.81 156.936 Q1474.71 150.576 1474.71 140.084 Q1474.71 129.552 1479.81 123.192 Q1484.92 116.832 1493.26 116.832 Q1498.29 116.832 1501.89 118.817 Q1505.5 120.802 1507.81 124.812 L1507.81 117.926 L1515.26 117.926 L1515.26 157.665 Z\" fill=\"#000000\" fill-rule=\"evenodd\" fill-opacity=\"1\" /><path clip-path=\"url(#clip350)\" d=\"M 0 0 M1552.93 124.812 L1552.93 100.264 L1560.39 100.264 L1560.39 163.296 L1552.93 163.296 L1552.93 156.49 Q1550.58 160.541 1546.98 162.526 Q1543.41 164.471 1538.39 164.471 Q1530.17 164.471 1524.98 157.908 Q1519.84 151.346 1519.84 140.651 Q1519.84 129.957 1524.98 123.395 Q1530.17 116.832 1538.39 116.832 Q1543.41 116.832 1546.98 118.817 Q1550.58 120.762 1552.93 124.812 M1527.53 140.651 Q1527.53 148.875 1530.9 153.574 Q1534.3 158.232 1540.21 158.232 Q1546.13 158.232 1549.53 153.574 Q1552.93 148.875 1552.93 140.651 Q1552.93 132.428 1549.53 127.77 Q1546.13 123.071 1540.21 123.071 Q1534.3 123.071 1530.9 127.77 Q1527.53 132.428 1527.53 140.651 Z\" fill=\"#000000\" fill-rule=\"evenodd\" fill-opacity=\"1\" /><path clip-path=\"url(#clip350)\" d=\"M 0 0 M1591.17 100.264 L1591.17 106.462 L1584.04 106.462 Q1580.03 106.462 1578.45 108.082 Q1576.91 109.703 1576.91 113.915 L1576.91 117.926 L1589.19 117.926 L1589.19 123.719 L1576.91 123.719 L1576.91 163.296 L1569.42 163.296 L1569.42 123.719 L1562.29 123.719 L1562.29 117.926 L1569.42 117.926 L1569.42 114.766 Q1569.42 107.191 1572.94 103.748 Q1576.47 100.264 1584.12 100.264 L1591.17 100.264 Z\" fill=\"#000000\" fill-rule=\"evenodd\" fill-opacity=\"1\" /><path clip-path=\"url(#clip350)\" d=\"M 0 0 M961.096 195.521 L961.096 203.501 Q956.437 201.273 952.305 200.179 Q948.173 199.086 944.325 199.086 Q937.641 199.086 933.995 201.678 Q930.39 204.271 930.39 209.051 Q930.39 213.061 932.78 215.127 Q935.211 217.153 941.935 218.409 L946.877 219.421 Q956.032 221.163 960.367 225.579 Q964.742 229.954 964.742 237.326 Q964.742 246.117 958.827 250.654 Q952.953 255.191 941.57 255.191 Q937.276 255.191 932.415 254.219 Q927.595 253.246 922.41 251.342 L922.41 242.917 Q927.392 245.712 932.172 247.129 Q936.952 248.547 941.57 248.547 Q948.579 248.547 952.386 245.793 Q956.194 243.038 956.194 237.934 Q956.194 233.478 953.44 230.966 Q950.725 228.455 944.487 227.199 L939.504 226.227 Q930.349 224.404 926.258 220.515 Q922.167 216.626 922.167 209.699 Q922.167 201.678 927.797 197.06 Q933.469 192.442 943.393 192.442 Q947.647 192.442 952.062 193.212 Q956.478 193.982 961.096 195.521 Z\" fill=\"#000000\" fill-rule=\"evenodd\" fill-opacity=\"1\" /><path clip-path=\"url(#clip350)\" d=\"M 0 0 M972.56 208.646 L980.014 208.646 L980.014 254.016 L972.56 254.016 L972.56 208.646 M972.56 190.984 L980.014 190.984 L980.014 200.423 L972.56 200.423 L972.56 190.984 Z\" fill=\"#000000\" fill-rule=\"evenodd\" fill-opacity=\"1\" /><path clip-path=\"url(#clip350)\" d=\"M 0 0 M984.591 208.646 L1020 208.646 L1020 215.451 L991.964 248.061 L1020 248.061 L1020 254.016 L983.578 254.016 L983.578 247.21 L1011.61 214.601 L984.591 214.601 L984.591 208.646 Z\" fill=\"#000000\" fill-rule=\"evenodd\" fill-opacity=\"1\" /><path clip-path=\"url(#clip350)\" d=\"M 0 0 M1066.62 229.468 L1066.62 233.113 L1032.35 233.113 Q1032.84 240.81 1036.97 244.861 Q1041.14 248.871 1048.55 248.871 Q1052.85 248.871 1056.86 247.818 Q1060.91 246.765 1064.88 244.658 L1064.88 251.707 Q1060.87 253.408 1056.66 254.3 Q1052.44 255.191 1048.11 255.191 Q1037.25 255.191 1030.89 248.871 Q1024.57 242.552 1024.57 231.777 Q1024.57 220.637 1030.57 214.115 Q1036.6 207.552 1046.81 207.552 Q1055.97 207.552 1061.27 213.466 Q1066.62 219.34 1066.62 229.468 M1059.17 227.28 Q1059.09 221.163 1055.72 217.517 Q1052.4 213.872 1046.89 213.872 Q1040.66 213.872 1036.89 217.396 Q1033.16 220.92 1032.59 227.321 L1059.17 227.28 Z\" fill=\"#000000\" fill-rule=\"evenodd\" fill-opacity=\"1\" /><path clip-path=\"url(#clip350)\" d=\"M 0 0 M1076.34 243.727 L1084.89 243.727 L1084.89 254.016 L1076.34 254.016 L1076.34 243.727 M1076.34 211.117 L1084.89 211.117 L1084.89 221.406 L1076.34 221.406 L1076.34 211.117 Z\" fill=\"#000000\" fill-rule=\"evenodd\" fill-opacity=\"1\" /><path clip-path=\"url(#clip350)\" d=\"M 0 0 M1136.99 191.065 Q1131.56 200.382 1128.92 209.497 Q1126.29 218.611 1126.29 227.969 Q1126.29 237.326 1128.92 246.522 Q1131.6 255.677 1136.99 264.953 L1130.5 264.953 Q1124.43 255.434 1121.39 246.238 Q1118.39 237.043 1118.39 227.969 Q1118.39 218.935 1121.39 209.78 Q1124.39 200.625 1130.5 191.065 L1136.99 191.065 Z\" fill=\"#000000\" fill-rule=\"evenodd\" fill-opacity=\"1\" /><path clip-path=\"url(#clip350)\" d=\"M 0 0 M1147.28 247.129 L1160.64 247.129 L1160.64 200.99 L1146.1 203.906 L1146.1 196.453 L1160.56 193.536 L1168.75 193.536 L1168.75 247.129 L1182.11 247.129 L1182.11 254.016 L1147.28 254.016 L1147.28 247.129 Z\" fill=\"#000000\" fill-rule=\"evenodd\" fill-opacity=\"1\" /><path clip-path=\"url(#clip350)\" d=\"M 0 0 M1208.48 198.924 Q1202.17 198.924 1198.96 205.162 Q1195.81 211.36 1195.81 223.837 Q1195.81 236.273 1198.96 242.511 Q1202.17 248.709 1208.48 248.709 Q1214.84 248.709 1218 242.511 Q1221.2 236.273 1221.2 223.837 Q1221.2 211.36 1218 205.162 Q1214.84 198.924 1208.48 198.924 M1208.48 192.442 Q1218.65 192.442 1224 200.504 Q1229.39 208.524 1229.39 223.837 Q1229.39 239.109 1224 247.17 Q1218.65 255.191 1208.48 255.191 Q1198.32 255.191 1192.93 247.17 Q1187.58 239.109 1187.58 223.837 Q1187.58 208.524 1192.93 200.504 Q1198.32 192.442 1208.48 192.442 Z\" fill=\"#000000\" fill-rule=\"evenodd\" fill-opacity=\"1\" /><path clip-path=\"url(#clip350)\" d=\"M 0 0 M1255.76 198.924 Q1249.44 198.924 1246.24 205.162 Q1243.08 211.36 1243.08 223.837 Q1243.08 236.273 1246.24 242.511 Q1249.44 248.709 1255.76 248.709 Q1262.12 248.709 1265.28 242.511 Q1268.48 236.273 1268.48 223.837 Q1268.48 211.36 1265.28 205.162 Q1262.12 198.924 1255.76 198.924 M1255.76 192.442 Q1265.93 192.442 1271.27 200.504 Q1276.66 208.524 1276.66 223.837 Q1276.66 239.109 1271.27 247.17 Q1265.93 255.191 1255.76 255.191 Q1245.59 255.191 1240.2 247.17 Q1234.86 239.109 1234.86 223.837 Q1234.86 208.524 1240.2 200.504 Q1245.59 192.442 1255.76 192.442 Z\" fill=\"#000000\" fill-rule=\"evenodd\" fill-opacity=\"1\" /><path clip-path=\"url(#clip350)\" d=\"M 0 0 M1303.03 198.924 Q1296.71 198.924 1293.51 205.162 Q1290.35 211.36 1290.35 223.837 Q1290.35 236.273 1293.51 242.511 Q1296.71 248.709 1303.03 248.709 Q1309.39 248.709 1312.55 242.511 Q1315.75 236.273 1315.75 223.837 Q1315.75 211.36 1312.55 205.162 Q1309.39 198.924 1303.03 198.924 M1303.03 192.442 Q1313.2 192.442 1318.55 200.504 Q1323.94 208.524 1323.94 223.837 Q1323.94 239.109 1318.55 247.17 Q1313.2 255.191 1303.03 255.191 Q1292.86 255.191 1287.48 247.17 Q1282.13 239.109 1282.13 223.837 Q1282.13 208.524 1287.48 200.504 Q1292.86 192.442 1303.03 192.442 Z\" fill=\"#000000\" fill-rule=\"evenodd\" fill-opacity=\"1\" /><path clip-path=\"url(#clip350)\" d=\"M 0 0 M1350.31 198.924 Q1343.99 198.924 1340.79 205.162 Q1337.63 211.36 1337.63 223.837 Q1337.63 236.273 1340.79 242.511 Q1343.99 248.709 1350.31 248.709 Q1356.67 248.709 1359.83 242.511 Q1363.03 236.273 1363.03 223.837 Q1363.03 211.36 1359.83 205.162 Q1356.67 198.924 1350.31 198.924 M1350.31 192.442 Q1360.47 192.442 1365.82 200.504 Q1371.21 208.524 1371.21 223.837 Q1371.21 239.109 1365.82 247.17 Q1360.47 255.191 1350.31 255.191 Q1340.14 255.191 1334.75 247.17 Q1329.4 239.109 1329.4 223.837 Q1329.4 208.524 1334.75 200.504 Q1340.14 192.442 1350.31 192.442 Z\" fill=\"#000000\" fill-rule=\"evenodd\" fill-opacity=\"1\" /><path clip-path=\"url(#clip350)\" d=\"M 0 0 M1397.58 198.924 Q1391.26 198.924 1388.06 205.162 Q1384.9 211.36 1384.9 223.837 Q1384.9 236.273 1388.06 242.511 Q1391.26 248.709 1397.58 248.709 Q1403.94 248.709 1407.1 242.511 Q1410.3 236.273 1410.3 223.837 Q1410.3 211.36 1407.1 205.162 Q1403.94 198.924 1397.58 198.924 M1397.58 192.442 Q1407.75 192.442 1413.1 200.504 Q1418.48 208.524 1418.48 223.837 Q1418.48 239.109 1413.1 247.17 Q1407.75 255.191 1397.58 255.191 Q1387.41 255.191 1382.03 247.17 Q1376.68 239.109 1376.68 223.837 Q1376.68 208.524 1382.03 200.504 Q1387.41 192.442 1397.58 192.442 Z\" fill=\"#000000\" fill-rule=\"evenodd\" fill-opacity=\"1\" /><path clip-path=\"url(#clip350)\" d=\"M 0 0 M1428.21 243.727 L1436.75 243.727 L1436.75 250.694 L1430.11 263.657 L1424.88 263.657 L1428.21 250.694 L1428.21 243.727 Z\" fill=\"#000000\" fill-rule=\"evenodd\" fill-opacity=\"1\" /><path clip-path=\"url(#clip350)\" d=\"M 0 0 M1472.08 193.536 L1504.2 193.536 L1504.2 200.423 L1479.57 200.423 L1479.57 215.249 Q1481.35 214.641 1483.14 214.358 Q1484.92 214.034 1486.7 214.034 Q1496.83 214.034 1502.74 219.583 Q1508.66 225.133 1508.66 234.612 Q1508.66 244.375 1502.58 249.803 Q1496.5 255.191 1485.44 255.191 Q1481.64 255.191 1477.67 254.543 Q1473.74 253.894 1469.52 252.598 L1469.52 244.375 Q1473.17 246.36 1477.06 247.332 Q1480.95 248.304 1485.28 248.304 Q1492.29 248.304 1496.38 244.618 Q1500.47 240.932 1500.47 234.612 Q1500.47 228.293 1496.38 224.606 Q1492.29 220.92 1485.28 220.92 Q1482 220.92 1478.72 221.649 Q1475.48 222.378 1472.08 223.918 L1472.08 193.536 Z\" fill=\"#000000\" fill-rule=\"evenodd\" fill-opacity=\"1\" /><path clip-path=\"url(#clip350)\" d=\"M 0 0 M1535.03 198.924 Q1528.71 198.924 1525.51 205.162 Q1522.35 211.36 1522.35 223.837 Q1522.35 236.273 1525.51 242.511 Q1528.71 248.709 1535.03 248.709 Q1541.39 248.709 1544.55 242.511 Q1547.75 236.273 1547.75 223.837 Q1547.75 211.36 1544.55 205.162 Q1541.39 198.924 1535.03 198.924 M1535.03 192.442 Q1545.2 192.442 1550.54 200.504 Q1555.93 208.524 1555.93 223.837 Q1555.93 239.109 1550.54 247.17 Q1545.2 255.191 1535.03 255.191 Q1524.86 255.191 1519.47 247.17 Q1514.13 239.109 1514.13 223.837 Q1514.13 208.524 1519.47 200.504 Q1524.86 192.442 1535.03 192.442 Z\" fill=\"#000000\" fill-rule=\"evenodd\" fill-opacity=\"1\" /><path clip-path=\"url(#clip350)\" d=\"M 0 0 M1582.3 198.924 Q1575.98 198.924 1572.78 205.162 Q1569.62 211.36 1569.62 223.837 Q1569.62 236.273 1572.78 242.511 Q1575.98 248.709 1582.3 248.709 Q1588.66 248.709 1591.82 242.511 Q1595.02 236.273 1595.02 223.837 Q1595.02 211.36 1591.82 205.162 Q1588.66 198.924 1582.3 198.924 M1582.3 192.442 Q1592.47 192.442 1597.82 200.504 Q1603.2 208.524 1603.2 223.837 Q1603.2 239.109 1597.82 247.17 Q1592.47 255.191 1582.3 255.191 Q1572.13 255.191 1566.75 247.17 Q1561.4 239.109 1561.4 223.837 Q1561.4 208.524 1566.75 200.504 Q1572.13 192.442 1582.3 192.442 Z\" fill=\"#000000\" fill-rule=\"evenodd\" fill-opacity=\"1\" /><path clip-path=\"url(#clip350)\" d=\"M 0 0 M1609.85 191.065 L1616.33 191.065 Q1622.41 200.625 1625.4 209.78 Q1628.44 218.935 1628.44 227.969 Q1628.44 237.043 1625.4 246.238 Q1622.41 255.434 1616.33 264.953 L1609.85 264.953 Q1615.24 255.677 1617.87 246.522 Q1620.54 237.326 1620.54 227.969 Q1620.54 218.611 1617.87 209.497 Q1615.24 200.382 1609.85 191.065 Z\" fill=\"#000000\" fill-rule=\"evenodd\" fill-opacity=\"1\" /><path clip-path=\"url(#clip350)\" d=\"M 0 0 M42.0438 922.289 L48.314 922.289 Q46.5634 925.949 45.704 929.195 Q44.8447 932.442 44.8447 935.466 Q44.8447 940.717 46.8817 943.582 Q48.9187 946.415 52.6745 946.415 Q55.8255 946.415 57.4488 944.537 Q59.0402 942.627 60.0269 937.344 L60.8226 933.46 Q62.1912 926.267 65.6605 922.862 Q69.098 919.424 74.8908 919.424 Q81.7976 919.424 85.3624 924.071 Q88.9272 928.686 88.9272 937.63 Q88.9272 941.004 88.1633 944.823 Q87.3994 948.611 85.9035 952.685 L79.2831 952.685 Q81.4793 948.77 82.5933 945.014 Q83.7073 941.258 83.7073 937.63 Q83.7073 932.124 81.543 929.132 Q79.3786 926.14 75.3682 926.14 Q71.8671 926.14 69.8937 928.304 Q67.9204 930.437 66.9337 935.338 L66.1698 939.253 Q64.7375 946.447 61.682 949.661 Q58.6264 952.876 53.1837 952.876 Q46.8817 952.876 43.2532 948.452 Q39.6248 943.996 39.6248 936.198 Q39.6248 932.856 40.2295 929.386 Q40.8343 925.917 42.0438 922.289 Z\" fill=\"#000000\" fill-rule=\"evenodd\" fill-opacity=\"1\" /><path clip-path=\"url(#clip350)\" d=\"M 0 0 M68.7161 882.789 L71.5806 882.789 L71.5806 909.716 Q77.6281 909.334 80.8109 906.088 Q83.9619 902.81 83.9619 896.985 Q83.9619 893.611 83.1344 890.46 Q82.3069 887.277 80.6518 884.158 L86.1899 884.158 Q87.5267 887.309 88.227 890.619 Q88.9272 893.929 88.9272 897.335 Q88.9272 905.865 83.9619 910.862 Q78.9967 915.827 70.5303 915.827 Q61.7774 915.827 56.6531 911.117 Q51.4968 906.374 51.4968 898.354 Q51.4968 891.16 56.1438 886.991 Q60.7589 882.789 68.7161 882.789 M66.9973 888.646 Q62.1912 888.71 59.3266 891.351 Q56.4621 893.961 56.4621 898.29 Q56.4621 903.192 59.2312 906.152 Q62.0002 909.08 67.0292 909.525 L66.9973 888.646 Z\" fill=\"#000000\" fill-rule=\"evenodd\" fill-opacity=\"1\" /><path clip-path=\"url(#clip350)\" d=\"M 0 0 M53.7248 850.993 L59.1993 850.993 Q57.8307 853.475 57.1623 855.99 Q56.4621 858.472 56.4621 861.019 Q56.4621 866.716 60.0905 869.867 Q63.6872 873.018 70.212 873.018 Q76.7369 873.018 80.3653 869.867 Q83.9619 866.716 83.9619 861.019 Q83.9619 858.472 83.2935 855.99 Q82.5933 853.475 81.2247 850.993 L86.6355 850.993 Q87.7814 853.444 88.3543 856.085 Q88.9272 858.695 88.9272 861.655 Q88.9272 869.708 83.8664 874.45 Q78.8057 879.193 70.212 879.193 Q61.491 879.193 56.4939 874.419 Q51.4968 869.612 51.4968 861.273 Q51.4968 858.568 52.0697 855.99 Q52.6108 853.412 53.7248 850.993 Z\" fill=\"#000000\" fill-rule=\"evenodd\" fill-opacity=\"1\" /><path clip-path=\"url(#clip350)\" d=\"M 0 0 M56.4621 831.036 Q56.4621 835.747 60.1542 838.484 Q63.8145 841.221 70.212 841.221 Q76.6095 841.221 80.3017 838.516 Q83.9619 835.779 83.9619 831.036 Q83.9619 826.357 80.2698 823.62 Q76.5777 820.883 70.212 820.883 Q63.8781 820.883 60.186 823.62 Q56.4621 826.357 56.4621 831.036 M51.4968 831.036 Q51.4968 823.397 56.4621 819.037 Q61.4273 814.676 70.212 814.676 Q78.9649 814.676 83.9619 819.037 Q88.9272 823.397 88.9272 831.036 Q88.9272 838.707 83.9619 843.067 Q78.9649 847.396 70.212 847.396 Q61.4273 847.396 56.4621 843.067 Q51.4968 838.707 51.4968 831.036 Z\" fill=\"#000000\" fill-rule=\"evenodd\" fill-opacity=\"1\" /><path clip-path=\"url(#clip350)\" d=\"M 0 0 M66.4881 778.901 L88.0042 778.901 L88.0042 784.758 L66.679 784.758 Q61.6183 784.758 59.1038 786.731 Q56.5894 788.704 56.5894 792.651 Q56.5894 797.393 59.6131 800.131 Q62.6368 802.868 67.8567 802.868 L88.0042 802.868 L88.0042 808.756 L52.3562 808.756 L52.3562 802.868 L57.8944 802.868 Q54.6797 800.767 53.0883 797.935 Q51.4968 795.07 51.4968 791.346 Q51.4968 785.203 55.3163 782.052 Q59.1038 778.901 66.4881 778.901 Z\" fill=\"#000000\" fill-rule=\"evenodd\" fill-opacity=\"1\" /><path clip-path=\"url(#clip350)\" d=\"M 0 0 M57.7671 749.301 L38.479 749.301 L38.479 743.444 L88.0042 743.444 L88.0042 749.301 L82.657 749.301 Q85.8398 751.147 87.3994 753.979 Q88.9272 756.78 88.9272 760.727 Q88.9272 767.188 83.771 771.262 Q78.6147 775.304 70.212 775.304 Q61.8093 775.304 56.6531 771.262 Q51.4968 767.188 51.4968 760.727 Q51.4968 756.78 53.0564 753.979 Q54.5842 751.147 57.7671 749.301 M70.212 769.257 Q76.6732 769.257 80.3653 766.615 Q84.0256 763.942 84.0256 759.295 Q84.0256 754.648 80.3653 751.974 Q76.6732 749.301 70.212 749.301 Q63.7508 749.301 60.0905 751.974 Q56.3984 754.648 56.3984 759.295 Q56.3984 763.942 60.0905 766.615 Q63.7508 769.257 70.212 769.257 Z\" fill=\"#000000\" fill-rule=\"evenodd\" fill-opacity=\"1\" /><path clip-path=\"url(#clip352)\" d=\"\n",
       "M313.172 681.432 L313.172 1417.71 L426.364 1417.71 L426.364 681.432 L313.172 681.432 L313.172 681.432  Z\n",
       "  \" fill=\"#009af9\" fill-rule=\"evenodd\" fill-opacity=\"1\"/>\n",
       "<polyline clip-path=\"url(#clip352)\" style=\"stroke:#000000; stroke-width:4; stroke-opacity:1; fill:none\" points=\"\n",
       "  313.172,681.432 313.172,1417.71 426.364,1417.71 426.364,681.432 313.172,681.432 \n",
       "  \"/>\n",
       "<path clip-path=\"url(#clip352)\" d=\"\n",
       "M596.152 278.605 L596.152 1417.71 L709.344 1417.71 L709.344 278.605 L596.152 278.605 L596.152 278.605  Z\n",
       "  \" fill=\"#009af9\" fill-rule=\"evenodd\" fill-opacity=\"1\"/>\n",
       "<polyline clip-path=\"url(#clip352)\" style=\"stroke:#000000; stroke-width:4; stroke-opacity:1; fill:none\" points=\"\n",
       "  596.152,278.605 596.152,1417.71 709.344,1417.71 709.344,278.605 596.152,278.605 \n",
       "  \"/>\n",
       "<path clip-path=\"url(#clip352)\" d=\"\n",
       "M879.132 1395.01 L879.132 1417.71 L992.324 1417.71 L992.324 1395.01 L879.132 1395.01 L879.132 1395.01  Z\n",
       "  \" fill=\"#009af9\" fill-rule=\"evenodd\" fill-opacity=\"1\"/>\n",
       "<polyline clip-path=\"url(#clip352)\" style=\"stroke:#000000; stroke-width:4; stroke-opacity:1; fill:none\" points=\"\n",
       "  879.132,1395.01 879.132,1417.71 992.324,1417.71 992.324,1395.01 879.132,1395.01 \n",
       "  \"/>\n",
       "<path clip-path=\"url(#clip352)\" d=\"\n",
       "M1162.11 1376.44 L1162.11 1417.71 L1275.3 1417.71 L1275.3 1376.44 L1162.11 1376.44 L1162.11 1376.44  Z\n",
       "  \" fill=\"#009af9\" fill-rule=\"evenodd\" fill-opacity=\"1\"/>\n",
       "<polyline clip-path=\"url(#clip352)\" style=\"stroke:#000000; stroke-width:4; stroke-opacity:1; fill:none\" points=\"\n",
       "  1162.11,1376.44 1162.11,1417.71 1275.3,1417.71 1275.3,1376.44 1162.11,1376.44 \n",
       "  \"/>\n",
       "<path clip-path=\"url(#clip352)\" d=\"\n",
       "M1445.09 631.558 L1445.09 1417.71 L1558.28 1417.71 L1558.28 631.558 L1445.09 631.558 L1445.09 631.558  Z\n",
       "  \" fill=\"#009af9\" fill-rule=\"evenodd\" fill-opacity=\"1\"/>\n",
       "<polyline clip-path=\"url(#clip352)\" style=\"stroke:#000000; stroke-width:4; stroke-opacity:1; fill:none\" points=\"\n",
       "  1445.09,631.558 1445.09,1417.71 1558.28,1417.71 1558.28,631.558 1445.09,631.558 \n",
       "  \"/>\n",
       "<path clip-path=\"url(#clip352)\" d=\"\n",
       "M1728.07 1296.75 L1728.07 1417.71 L1841.26 1417.71 L1841.26 1296.75 L1728.07 1296.75 L1728.07 1296.75  Z\n",
       "  \" fill=\"#009af9\" fill-rule=\"evenodd\" fill-opacity=\"1\"/>\n",
       "<polyline clip-path=\"url(#clip352)\" style=\"stroke:#000000; stroke-width:4; stroke-opacity:1; fill:none\" points=\"\n",
       "  1728.07,1296.75 1728.07,1417.71 1841.26,1417.71 1841.26,1296.75 1728.07,1296.75 \n",
       "  \"/>\n",
       "<path clip-path=\"url(#clip352)\" d=\"\n",
       "M2011.05 1300.29 L2011.05 1417.71 L2124.24 1417.71 L2124.24 1300.29 L2011.05 1300.29 L2011.05 1300.29  Z\n",
       "  \" fill=\"#009af9\" fill-rule=\"evenodd\" fill-opacity=\"1\"/>\n",
       "<polyline clip-path=\"url(#clip352)\" style=\"stroke:#000000; stroke-width:4; stroke-opacity:1; fill:none\" points=\"\n",
       "  2011.05,1300.29 2011.05,1417.71 2124.24,1417.71 2124.24,1300.29 2011.05,1300.29 \n",
       "  \"/>\n",
       "<path clip-path=\"url(#clip352)\" d=\"\n",
       "M426.364 733.956 L426.364 1417.71 L539.556 1417.71 L539.556 733.956 L426.364 733.956 L426.364 733.956  Z\n",
       "  \" fill=\"#e26f46\" fill-rule=\"evenodd\" fill-opacity=\"1\"/>\n",
       "<polyline clip-path=\"url(#clip352)\" style=\"stroke:#000000; stroke-width:4; stroke-opacity:1; fill:none\" points=\"\n",
       "  426.364,733.956 426.364,1417.71 539.556,1417.71 539.556,733.956 426.364,733.956 \n",
       "  \"/>\n",
       "<path clip-path=\"url(#clip352)\" d=\"\n",
       "M709.344 806.289 L709.344 1417.71 L822.536 1417.71 L822.536 806.289 L709.344 806.289 L709.344 806.289  Z\n",
       "  \" fill=\"#e26f46\" fill-rule=\"evenodd\" fill-opacity=\"1\"/>\n",
       "<polyline clip-path=\"url(#clip352)\" style=\"stroke:#000000; stroke-width:4; stroke-opacity:1; fill:none\" points=\"\n",
       "  709.344,806.289 709.344,1417.71 822.536,1417.71 822.536,806.289 709.344,806.289 \n",
       "  \"/>\n",
       "<path clip-path=\"url(#clip352)\" d=\"\n",
       "M992.324 1407.05 L992.324 1417.71 L1105.52 1417.71 L1105.52 1407.05 L992.324 1407.05 L992.324 1407.05  Z\n",
       "  \" fill=\"#e26f46\" fill-rule=\"evenodd\" fill-opacity=\"1\"/>\n",
       "<polyline clip-path=\"url(#clip352)\" style=\"stroke:#000000; stroke-width:4; stroke-opacity:1; fill:none\" points=\"\n",
       "  992.324,1407.05 992.324,1417.71 1105.52,1417.71 1105.52,1407.05 992.324,1407.05 \n",
       "  \"/>\n",
       "<path clip-path=\"url(#clip352)\" d=\"\n",
       "M1275.3 1379.23 L1275.3 1417.71 L1388.5 1417.71 L1388.5 1379.23 L1275.3 1379.23 L1275.3 1379.23  Z\n",
       "  \" fill=\"#e26f46\" fill-rule=\"evenodd\" fill-opacity=\"1\"/>\n",
       "<polyline clip-path=\"url(#clip352)\" style=\"stroke:#000000; stroke-width:4; stroke-opacity:1; fill:none\" points=\"\n",
       "  1275.3,1379.23 1275.3,1417.71 1388.5,1417.71 1388.5,1379.23 1275.3,1379.23 \n",
       "  \"/>\n",
       "<path clip-path=\"url(#clip352)\" d=\"\n",
       "M1558.28 643.083 L1558.28 1417.71 L1671.48 1417.71 L1671.48 643.083 L1558.28 643.083 L1558.28 643.083  Z\n",
       "  \" fill=\"#e26f46\" fill-rule=\"evenodd\" fill-opacity=\"1\"/>\n",
       "<polyline clip-path=\"url(#clip352)\" style=\"stroke:#000000; stroke-width:4; stroke-opacity:1; fill:none\" points=\"\n",
       "  1558.28,643.083 1558.28,1417.71 1671.48,1417.71 1671.48,643.083 1558.28,643.083 \n",
       "  \"/>\n",
       "<path clip-path=\"url(#clip352)\" d=\"\n",
       "M1841.26 1296.75 L1841.26 1417.71 L1954.46 1417.71 L1954.46 1296.75 L1841.26 1296.75 L1841.26 1296.75  Z\n",
       "  \" fill=\"#e26f46\" fill-rule=\"evenodd\" fill-opacity=\"1\"/>\n",
       "<polyline clip-path=\"url(#clip352)\" style=\"stroke:#000000; stroke-width:4; stroke-opacity:1; fill:none\" points=\"\n",
       "  1841.26,1296.75 1841.26,1417.71 1954.46,1417.71 1954.46,1296.75 1841.26,1296.75 \n",
       "  \"/>\n",
       "<path clip-path=\"url(#clip352)\" d=\"\n",
       "M2124.24 1300.29 L2124.24 1417.71 L2237.44 1417.71 L2237.44 1300.29 L2124.24 1300.29 L2124.24 1300.29  Z\n",
       "  \" fill=\"#e26f46\" fill-rule=\"evenodd\" fill-opacity=\"1\"/>\n",
       "<polyline clip-path=\"url(#clip352)\" style=\"stroke:#000000; stroke-width:4; stroke-opacity:1; fill:none\" points=\"\n",
       "  2124.24,1300.29 2124.24,1417.71 2237.44,1417.71 2237.44,1300.29 2124.24,1300.29 \n",
       "  \"/>\n",
       "<path clip-path=\"url(#clip350)\" d=\"\n",
       "M1967.01 509.392 L2280.76 509.392 L2280.76 327.952 L1967.01 327.952  Z\n",
       "  \" fill=\"#ffffff\" fill-rule=\"evenodd\" fill-opacity=\"1\"/>\n",
       "<polyline clip-path=\"url(#clip350)\" style=\"stroke:#000000; stroke-width:4; stroke-opacity:1; fill:none\" points=\"\n",
       "  1967.01,509.392 2280.76,509.392 2280.76,327.952 1967.01,327.952 1967.01,509.392 \n",
       "  \"/>\n",
       "<path clip-path=\"url(#clip350)\" d=\"\n",
       "M1991.01 412.624 L2135.01 412.624 L2135.01 364.24 L1991.01 364.24 L1991.01 412.624  Z\n",
       "  \" fill=\"#009af9\" fill-rule=\"evenodd\" fill-opacity=\"1\"/>\n",
       "<polyline clip-path=\"url(#clip350)\" style=\"stroke:#000000; stroke-width:4; stroke-opacity:1; fill:none\" points=\"\n",
       "  1991.01,412.624 2135.01,412.624 2135.01,364.24 1991.01,364.24 1991.01,412.624 \n",
       "  \"/>\n",
       "<path clip-path=\"url(#clip350)\" d=\"M 0 0 M2159.68 401.777 L2167.32 401.777 L2167.32 375.411 L2159.01 377.078 L2159.01 372.819 L2167.27 371.152 L2171.95 371.152 L2171.95 401.777 L2179.58 401.777 L2179.58 405.712 L2159.68 405.712 L2159.68 401.777 Z\" fill=\"#000000\" fill-rule=\"evenodd\" fill-opacity=\"1\" /><path clip-path=\"url(#clip350)\" d=\"M 0 0 M2200.58 380.55 L2200.58 384.578 Q2198.77 383.652 2196.83 383.189 Q2194.89 382.726 2192.8 382.726 Q2189.63 382.726 2188.03 383.698 Q2186.46 384.671 2186.46 386.615 Q2186.46 388.096 2187.59 388.953 Q2188.73 389.786 2192.15 390.55 L2193.61 390.874 Q2198.15 391.846 2200.05 393.629 Q2201.97 395.388 2201.97 398.559 Q2201.97 402.17 2199.1 404.277 Q2196.25 406.383 2191.25 406.383 Q2189.17 406.383 2186.9 405.967 Q2184.65 405.573 2182.15 404.763 L2182.15 400.365 Q2184.52 401.592 2186.81 402.217 Q2189.1 402.819 2191.34 402.819 Q2194.35 402.819 2195.97 401.8 Q2197.59 400.758 2197.59 398.883 Q2197.59 397.147 2196.41 396.221 Q2195.26 395.296 2191.3 394.439 L2189.82 394.092 Q2185.86 393.258 2184.1 391.546 Q2182.34 389.809 2182.34 386.8 Q2182.34 383.143 2184.93 381.152 Q2187.52 379.161 2192.29 379.161 Q2194.65 379.161 2196.74 379.509 Q2198.82 379.856 2200.58 380.55 Z\" fill=\"#000000\" fill-rule=\"evenodd\" fill-opacity=\"1\" /><path clip-path=\"url(#clip350)\" d=\"M 0 0 M2210.65 372.425 L2210.65 379.786 L2219.42 379.786 L2219.42 383.097 L2210.65 383.097 L2210.65 397.171 Q2210.65 400.342 2211.51 401.245 Q2212.39 402.147 2215.05 402.147 L2219.42 402.147 L2219.42 405.712 L2215.05 405.712 Q2210.12 405.712 2208.24 403.883 Q2206.37 402.032 2206.37 397.171 L2206.37 383.097 L2203.24 383.097 L2203.24 379.786 L2206.37 379.786 L2206.37 372.425 L2210.65 372.425 Z\" fill=\"#000000\" fill-rule=\"evenodd\" fill-opacity=\"1\" /><path clip-path=\"url(#clip350)\" d=\"\n",
       "M1991.01 473.104 L2135.01 473.104 L2135.01 424.72 L1991.01 424.72 L1991.01 473.104  Z\n",
       "  \" fill=\"#e26f46\" fill-rule=\"evenodd\" fill-opacity=\"1\"/>\n",
       "<polyline clip-path=\"url(#clip350)\" style=\"stroke:#000000; stroke-width:4; stroke-opacity:1; fill:none\" points=\"\n",
       "  1991.01,473.104 2135.01,473.104 2135.01,424.72 1991.01,424.72 1991.01,473.104 \n",
       "  \"/>\n",
       "<path clip-path=\"url(#clip350)\" d=\"M 0 0 M2164.63 462.257 L2180.95 462.257 L2180.95 466.192 L2159.01 466.192 L2159.01 462.257 Q2161.67 459.502 2166.25 454.873 Q2170.86 450.22 2172.04 448.877 Q2174.28 446.354 2175.16 444.618 Q2176.07 442.859 2176.07 441.169 Q2176.07 438.414 2174.12 436.678 Q2172.2 434.942 2169.1 434.942 Q2166.9 434.942 2164.45 435.706 Q2162.02 436.47 2159.24 438.021 L2159.24 433.299 Q2162.06 432.165 2164.52 431.586 Q2166.97 431.007 2169.01 431.007 Q2174.38 431.007 2177.57 433.692 Q2180.77 436.377 2180.77 440.868 Q2180.77 442.998 2179.96 444.919 Q2179.17 446.817 2177.06 449.41 Q2176.48 450.081 2173.38 453.299 Q2170.28 456.493 2164.63 462.257 Z\" fill=\"#000000\" fill-rule=\"evenodd\" fill-opacity=\"1\" /><path clip-path=\"url(#clip350)\" d=\"M 0 0 M2206.97 450.544 L2206.97 466.192 L2202.71 466.192 L2202.71 450.683 Q2202.71 447.002 2201.27 445.174 Q2199.84 443.345 2196.97 443.345 Q2193.52 443.345 2191.53 445.544 Q2189.54 447.743 2189.54 451.539 L2189.54 466.192 L2185.26 466.192 L2185.26 440.266 L2189.54 440.266 L2189.54 444.294 Q2191.07 441.956 2193.13 440.799 Q2195.21 439.641 2197.92 439.641 Q2202.39 439.641 2204.68 442.419 Q2206.97 445.174 2206.97 450.544 Z\" fill=\"#000000\" fill-rule=\"evenodd\" fill-opacity=\"1\" /><path clip-path=\"url(#clip350)\" d=\"M 0 0 M2228.5 444.202 L2228.5 430.174 L2232.76 430.174 L2232.76 466.192 L2228.5 466.192 L2228.5 462.303 Q2227.15 464.618 2225.09 465.752 Q2223.06 466.863 2220.19 466.863 Q2215.49 466.863 2212.52 463.113 Q2209.58 459.363 2209.58 453.252 Q2209.58 447.141 2212.52 443.391 Q2215.49 439.641 2220.19 439.641 Q2223.06 439.641 2225.09 440.776 Q2227.15 441.887 2228.5 444.202 M2213.98 453.252 Q2213.98 457.951 2215.9 460.637 Q2217.85 463.299 2221.23 463.299 Q2224.61 463.299 2226.55 460.637 Q2228.5 457.951 2228.5 453.252 Q2228.5 448.553 2226.55 445.891 Q2224.61 443.206 2221.23 443.206 Q2217.85 443.206 2215.9 445.891 Q2213.98 448.553 2213.98 453.252 Z\" fill=\"#000000\" fill-rule=\"evenodd\" fill-opacity=\"1\" /></svg>\n"
      ]
     },
     "execution_count": 38,
     "metadata": {},
     "output_type": "execute_result"
    }
   ],
   "source": [
    "groupedbar(\n",
    "    #repeat([\"CSV.jl\", \"CSVFiles.jl\", \"Serialization\", \"JDF.jl\", \"JLSO.jl\", \"Feather.jl\", \"JSONTables.jl\\narraytable\", \"JSONTables.jl\\nobjecttable\"], inner = 2),\n",
    "    #[csvwrite1, csvwrite2, csvfileswrite1, csvfileswrite2, serializewrite1, serializewrite1, jdfwrite1, jdfwrite2, jlsowrite1, jlsowrite2, featherwrite1, featherwrite2, jsontablesawrite1, jsontablesawrite2, jsontablesowrite2, jsontablesowrite2],\n",
    "    # Exclude JSONTables.jl arraytable due to timing\n",
    "    repeat([\"CSV.jl\", \"CSVFiles.jl\", \"Serialization\", \"JDF.jl\", \"JLSO.jl\", \"Feather.jl\", \"JSONTables.jl\\nobjecttable\"],\n",
    "            inner = 2),\n",
    "    [csvwrite1, csvwrite2, csvfileswrite1, csvfileswrite2, serializewrite1, serializewrite1, jdfwrite1, jdfwrite2,\n",
    "     jlsowrite1, jlsowrite2, featherwrite1, featherwrite2, jsontablesowrite2, jsontablesowrite2],\n",
    "    group = repeat([\"1st\", \"2nd\"], outer = 7),\n",
    "    ylab = \"Second\",\n",
    "    title = \"Write Performance\\nDataFrame: bigdf\\nSize: $(size(bigdf))\"\n",
    ")"
   ]
  },
  {
   "cell_type": "code",
   "execution_count": 39,
   "metadata": {},
   "outputs": [
    {
     "data": {
      "text/html": [
       "<table class=\"data-frame\"><thead><tr><th></th><th>file</th><th>size</th></tr><tr><th></th><th>String</th><th>Int64</th></tr></thead><tbody><p>7 rows × 2 columns</p><tr><th>1</th><td>bigdf1.csv</td><td>275801340</td></tr><tr><th>2</th><td>bigdf2.csv</td><td>275802340</td></tr><tr><th>3</th><td>bigdf.bin</td><td>28210089</td></tr><tr><th>4</th><td>bigdf.feather</td><td>9797928</td></tr><tr><th>5</th><td>bigdf1.json</td><td>615198949</td></tr><tr><th>6</th><td>bigdf2.json</td><td>275803341</td></tr><tr><th>7</th><td>bigdf.jdf</td><td>26018250</td></tr></tbody></table>"
      ],
      "text/latex": [
       "\\begin{tabular}{r|cc}\n",
       "\t& file & size\\\\\n",
       "\t\\hline\n",
       "\t& String & Int64\\\\\n",
       "\t\\hline\n",
       "\t1 & bigdf1.csv & 275801340 \\\\\n",
       "\t2 & bigdf2.csv & 275802340 \\\\\n",
       "\t3 & bigdf.bin & 28210089 \\\\\n",
       "\t4 & bigdf.feather & 9797928 \\\\\n",
       "\t5 & bigdf1.json & 615198949 \\\\\n",
       "\t6 & bigdf2.json & 275803341 \\\\\n",
       "\t7 & bigdf.jdf & 26018250 \\\\\n",
       "\\end{tabular}\n"
      ],
      "text/plain": [
       "7×2 DataFrame\n",
       "│ Row │ file          │ size      │\n",
       "│     │ \u001b[90mString\u001b[39m        │ \u001b[90mInt64\u001b[39m     │\n",
       "├─────┼───────────────┼───────────┤\n",
       "│ 1   │ bigdf1.csv    │ 275801340 │\n",
       "│ 2   │ bigdf2.csv    │ 275802340 │\n",
       "│ 3   │ bigdf.bin     │ 28210089  │\n",
       "│ 4   │ bigdf.feather │ 9797928   │\n",
       "│ 5   │ bigdf1.json   │ 615198949 │\n",
       "│ 6   │ bigdf2.json   │ 275803341 │\n",
       "│ 7   │ bigdf.jdf     │ 26018250  │"
      ]
     },
     "execution_count": 39,
     "metadata": {},
     "output_type": "execute_result"
    }
   ],
   "source": [
    "data_files = [\"bigdf1.csv\", \"bigdf2.csv\", \"bigdf.bin\", \"bigdf.feather\", \"bigdf1.json\", \"bigdf2.json\"]\n",
    "df = DataFrame(file = data_files, size = getfield.(stat.(data_files), :size))\n",
    "append!(df, DataFrame(file = \"bigdf.jdf\", size=reduce((x,y)->x+y.size,\n",
    "                                                      stat.(joinpath.(\"bigdf.jdf\", readdir(\"bigdf.jdf\"))),\n",
    "                                                      init=0)))"
   ]
  },
  {
   "cell_type": "code",
   "execution_count": 40,
   "metadata": {},
   "outputs": [
    {
     "data": {
      "image/svg+xml": [
       "<?xml version=\"1.0\" encoding=\"utf-8\"?>\n",
       "<svg xmlns=\"http://www.w3.org/2000/svg\" xmlns:xlink=\"http://www.w3.org/1999/xlink\" width=\"600\" height=\"400\" viewBox=\"0 0 2400 1600\">\n",
       "<defs>\n",
       "  <clipPath id=\"clip390\">\n",
       "    <rect x=\"0\" y=\"0\" width=\"2400\" height=\"1600\"/>\n",
       "  </clipPath>\n",
       "</defs>\n",
       "<path clip-path=\"url(#clip390)\" d=\"\n",
       "M0 1600 L2400 1600 L2400 0 L0 0  Z\n",
       "  \" fill=\"#ffffff\" fill-rule=\"evenodd\" fill-opacity=\"1\"/>\n",
       "<defs>\n",
       "  <clipPath id=\"clip391\">\n",
       "    <rect x=\"480\" y=\"0\" width=\"1681\" height=\"1600\"/>\n",
       "  </clipPath>\n",
       "</defs>\n",
       "<path clip-path=\"url(#clip390)\" d=\"\n",
       "M229.473 1486.45 L2352.76 1486.45 L2352.76 123.472 L229.473 123.472  Z\n",
       "  \" fill=\"#ffffff\" fill-rule=\"evenodd\" fill-opacity=\"1\"/>\n",
       "<defs>\n",
       "  <clipPath id=\"clip392\">\n",
       "    <rect x=\"229\" y=\"123\" width=\"2124\" height=\"1364\"/>\n",
       "  </clipPath>\n",
       "</defs>\n",
       "<polyline clip-path=\"url(#clip392)\" style=\"stroke:#000000; stroke-width:2; stroke-opacity:0.1; fill:none\" points=\"\n",
       "  457.417,1486.45 457.417,123.472 \n",
       "  \"/>\n",
       "<polyline clip-path=\"url(#clip392)\" style=\"stroke:#000000; stroke-width:2; stroke-opacity:0.1; fill:none\" points=\"\n",
       "  735.316,1486.45 735.316,123.472 \n",
       "  \"/>\n",
       "<polyline clip-path=\"url(#clip392)\" style=\"stroke:#000000; stroke-width:2; stroke-opacity:0.1; fill:none\" points=\"\n",
       "  1013.22,1486.45 1013.22,123.472 \n",
       "  \"/>\n",
       "<polyline clip-path=\"url(#clip392)\" style=\"stroke:#000000; stroke-width:2; stroke-opacity:0.1; fill:none\" points=\"\n",
       "  1291.11,1486.45 1291.11,123.472 \n",
       "  \"/>\n",
       "<polyline clip-path=\"url(#clip392)\" style=\"stroke:#000000; stroke-width:2; stroke-opacity:0.1; fill:none\" points=\"\n",
       "  1569.01,1486.45 1569.01,123.472 \n",
       "  \"/>\n",
       "<polyline clip-path=\"url(#clip392)\" style=\"stroke:#000000; stroke-width:2; stroke-opacity:0.1; fill:none\" points=\"\n",
       "  1846.91,1486.45 1846.91,123.472 \n",
       "  \"/>\n",
       "<polyline clip-path=\"url(#clip392)\" style=\"stroke:#000000; stroke-width:2; stroke-opacity:0.1; fill:none\" points=\"\n",
       "  2124.81,1486.45 2124.81,123.472 \n",
       "  \"/>\n",
       "<polyline clip-path=\"url(#clip392)\" style=\"stroke:#000000; stroke-width:2; stroke-opacity:0.1; fill:none\" points=\"\n",
       "  229.473,1447.87 2352.76,1447.87 \n",
       "  \"/>\n",
       "<polyline clip-path=\"url(#clip392)\" style=\"stroke:#000000; stroke-width:2; stroke-opacity:0.1; fill:none\" points=\"\n",
       "  229.473,1228.71 2352.76,1228.71 \n",
       "  \"/>\n",
       "<polyline clip-path=\"url(#clip392)\" style=\"stroke:#000000; stroke-width:2; stroke-opacity:0.1; fill:none\" points=\"\n",
       "  229.473,1009.55 2352.76,1009.55 \n",
       "  \"/>\n",
       "<polyline clip-path=\"url(#clip392)\" style=\"stroke:#000000; stroke-width:2; stroke-opacity:0.1; fill:none\" points=\"\n",
       "  229.473,790.385 2352.76,790.385 \n",
       "  \"/>\n",
       "<polyline clip-path=\"url(#clip392)\" style=\"stroke:#000000; stroke-width:2; stroke-opacity:0.1; fill:none\" points=\"\n",
       "  229.473,571.222 2352.76,571.222 \n",
       "  \"/>\n",
       "<polyline clip-path=\"url(#clip392)\" style=\"stroke:#000000; stroke-width:2; stroke-opacity:0.1; fill:none\" points=\"\n",
       "  229.473,352.06 2352.76,352.06 \n",
       "  \"/>\n",
       "<polyline clip-path=\"url(#clip392)\" style=\"stroke:#000000; stroke-width:2; stroke-opacity:0.1; fill:none\" points=\"\n",
       "  229.473,132.897 2352.76,132.897 \n",
       "  \"/>\n",
       "<polyline clip-path=\"url(#clip390)\" style=\"stroke:#000000; stroke-width:4; stroke-opacity:1; fill:none\" points=\"\n",
       "  229.473,1486.45 2352.76,1486.45 \n",
       "  \"/>\n",
       "<polyline clip-path=\"url(#clip390)\" style=\"stroke:#000000; stroke-width:4; stroke-opacity:1; fill:none\" points=\"\n",
       "  229.473,1486.45 229.473,123.472 \n",
       "  \"/>\n",
       "<polyline clip-path=\"url(#clip390)\" style=\"stroke:#000000; stroke-width:4; stroke-opacity:1; fill:none\" points=\"\n",
       "  457.417,1486.45 457.417,1470.09 \n",
       "  \"/>\n",
       "<polyline clip-path=\"url(#clip390)\" style=\"stroke:#000000; stroke-width:4; stroke-opacity:1; fill:none\" points=\"\n",
       "  735.316,1486.45 735.316,1470.09 \n",
       "  \"/>\n",
       "<polyline clip-path=\"url(#clip390)\" style=\"stroke:#000000; stroke-width:4; stroke-opacity:1; fill:none\" points=\"\n",
       "  1013.22,1486.45 1013.22,1470.09 \n",
       "  \"/>\n",
       "<polyline clip-path=\"url(#clip390)\" style=\"stroke:#000000; stroke-width:4; stroke-opacity:1; fill:none\" points=\"\n",
       "  1291.11,1486.45 1291.11,1470.09 \n",
       "  \"/>\n",
       "<polyline clip-path=\"url(#clip390)\" style=\"stroke:#000000; stroke-width:4; stroke-opacity:1; fill:none\" points=\"\n",
       "  1569.01,1486.45 1569.01,1470.09 \n",
       "  \"/>\n",
       "<polyline clip-path=\"url(#clip390)\" style=\"stroke:#000000; stroke-width:4; stroke-opacity:1; fill:none\" points=\"\n",
       "  1846.91,1486.45 1846.91,1470.09 \n",
       "  \"/>\n",
       "<polyline clip-path=\"url(#clip390)\" style=\"stroke:#000000; stroke-width:4; stroke-opacity:1; fill:none\" points=\"\n",
       "  2124.81,1486.45 2124.81,1470.09 \n",
       "  \"/>\n",
       "<polyline clip-path=\"url(#clip390)\" style=\"stroke:#000000; stroke-width:4; stroke-opacity:1; fill:none\" points=\"\n",
       "  229.473,1447.87 254.952,1447.87 \n",
       "  \"/>\n",
       "<polyline clip-path=\"url(#clip390)\" style=\"stroke:#000000; stroke-width:4; stroke-opacity:1; fill:none\" points=\"\n",
       "  229.473,1228.71 254.952,1228.71 \n",
       "  \"/>\n",
       "<polyline clip-path=\"url(#clip390)\" style=\"stroke:#000000; stroke-width:4; stroke-opacity:1; fill:none\" points=\"\n",
       "  229.473,1009.55 254.952,1009.55 \n",
       "  \"/>\n",
       "<polyline clip-path=\"url(#clip390)\" style=\"stroke:#000000; stroke-width:4; stroke-opacity:1; fill:none\" points=\"\n",
       "  229.473,790.385 254.952,790.385 \n",
       "  \"/>\n",
       "<polyline clip-path=\"url(#clip390)\" style=\"stroke:#000000; stroke-width:4; stroke-opacity:1; fill:none\" points=\"\n",
       "  229.473,571.222 254.952,571.222 \n",
       "  \"/>\n",
       "<polyline clip-path=\"url(#clip390)\" style=\"stroke:#000000; stroke-width:4; stroke-opacity:1; fill:none\" points=\"\n",
       "  229.473,352.06 254.952,352.06 \n",
       "  \"/>\n",
       "<polyline clip-path=\"url(#clip390)\" style=\"stroke:#000000; stroke-width:4; stroke-opacity:1; fill:none\" points=\"\n",
       "  229.473,132.897 254.952,132.897 \n",
       "  \"/>\n",
       "<path clip-path=\"url(#clip390)\" d=\"M 0 0 M371.7 1526.98 Q371.7 1522.28 369.755 1519.62 Q367.834 1516.93 364.454 1516.93 Q361.075 1516.93 359.13 1519.62 Q357.209 1522.28 357.209 1526.98 Q357.209 1531.68 359.13 1534.36 Q361.075 1537.03 364.454 1537.03 Q367.834 1537.03 369.755 1534.36 Q371.7 1531.68 371.7 1526.98 M357.209 1517.93 Q358.552 1515.61 360.589 1514.5 Q362.649 1513.37 365.496 1513.37 Q370.218 1513.37 373.158 1517.12 Q376.121 1520.87 376.121 1526.98 Q376.121 1533.09 373.158 1536.84 Q370.218 1540.59 365.496 1540.59 Q362.649 1540.59 360.589 1539.48 Q358.552 1538.35 357.209 1536.03 L357.209 1539.92 L352.927 1539.92 L352.927 1503.9 L357.209 1503.9 L357.209 1517.93 Z\" fill=\"#000000\" fill-rule=\"evenodd\" fill-opacity=\"1\" /><path clip-path=\"url(#clip390)\" d=\"M 0 0 M380.588 1513.99 L384.848 1513.99 L384.848 1539.92 L380.588 1539.92 L380.588 1513.99 M380.588 1503.9 L384.848 1503.9 L384.848 1509.3 L380.588 1509.3 L380.588 1503.9 Z\" fill=\"#000000\" fill-rule=\"evenodd\" fill-opacity=\"1\" /><path clip-path=\"url(#clip390)\" d=\"M 0 0 M406.375 1526.66 Q406.375 1522.03 404.454 1519.48 Q402.556 1516.93 399.107 1516.93 Q395.681 1516.93 393.76 1519.48 Q391.862 1522.03 391.862 1526.66 Q391.862 1531.26 393.76 1533.81 Q395.681 1536.36 399.107 1536.36 Q402.556 1536.36 404.454 1533.81 Q406.375 1531.26 406.375 1526.66 M410.635 1536.7 Q410.635 1543.32 407.695 1546.54 Q404.755 1549.78 398.69 1549.78 Q396.445 1549.78 394.454 1549.43 Q392.463 1549.11 390.588 1548.42 L390.588 1544.27 Q392.463 1545.29 394.292 1545.78 Q396.121 1546.26 398.019 1546.26 Q402.209 1546.26 404.292 1544.06 Q406.375 1541.89 406.375 1537.47 L406.375 1535.36 Q405.056 1537.65 402.996 1538.79 Q400.936 1539.92 398.065 1539.92 Q393.297 1539.92 390.38 1536.29 Q387.463 1532.65 387.463 1526.66 Q387.463 1520.64 390.38 1517 Q393.297 1513.37 398.065 1513.37 Q400.936 1513.37 402.996 1514.5 Q405.056 1515.64 406.375 1517.93 L406.375 1513.99 L410.635 1513.99 L410.635 1536.7 Z\" fill=\"#000000\" fill-rule=\"evenodd\" fill-opacity=\"1\" /><path clip-path=\"url(#clip390)\" d=\"M 0 0 M432.162 1517.93 L432.162 1503.9 L436.421 1503.9 L436.421 1539.92 L432.162 1539.92 L432.162 1536.03 Q430.82 1538.35 428.759 1539.48 Q426.722 1540.59 423.852 1540.59 Q419.153 1540.59 416.19 1536.84 Q413.25 1533.09 413.25 1526.98 Q413.25 1520.87 416.19 1517.12 Q419.153 1513.37 423.852 1513.37 Q426.722 1513.37 428.759 1514.5 Q430.82 1515.61 432.162 1517.93 M417.648 1526.98 Q417.648 1531.68 419.57 1534.36 Q421.514 1537.03 424.894 1537.03 Q428.273 1537.03 430.218 1534.36 Q432.162 1531.68 432.162 1526.98 Q432.162 1522.28 430.218 1519.62 Q428.273 1516.93 424.894 1516.93 Q421.514 1516.93 419.57 1519.62 Q417.648 1522.28 417.648 1526.98 Z\" fill=\"#000000\" fill-rule=\"evenodd\" fill-opacity=\"1\" /><path clip-path=\"url(#clip390)\" d=\"M 0 0 M454.014 1503.9 L454.014 1507.44 L449.94 1507.44 Q447.648 1507.44 446.745 1508.37 Q445.866 1509.3 445.866 1511.7 L445.866 1513.99 L452.88 1513.99 L452.88 1517.3 L445.866 1517.3 L445.866 1539.92 L441.583 1539.92 L441.583 1517.3 L437.509 1517.3 L437.509 1513.99 L441.583 1513.99 L441.583 1512.19 Q441.583 1507.86 443.597 1505.89 Q445.611 1503.9 449.986 1503.9 L454.014 1503.9 Z\" fill=\"#000000\" fill-rule=\"evenodd\" fill-opacity=\"1\" /><path clip-path=\"url(#clip390)\" d=\"M 0 0 M459.894 1535.98 L467.532 1535.98 L467.532 1509.62 L459.222 1511.29 L459.222 1507.03 L467.486 1505.36 L472.162 1505.36 L472.162 1535.98 L479.801 1535.98 L479.801 1539.92 L459.894 1539.92 L459.894 1535.98 Z\" fill=\"#000000\" fill-rule=\"evenodd\" fill-opacity=\"1\" /><path clip-path=\"url(#clip390)\" d=\"M 0 0 M484.87 1534.04 L489.755 1534.04 L489.755 1539.92 L484.87 1539.92 L484.87 1534.04 Z\" fill=\"#000000\" fill-rule=\"evenodd\" fill-opacity=\"1\" /><path clip-path=\"url(#clip390)\" d=\"M 0 0 M512.879 1514.99 L512.879 1518.97 Q511.074 1517.98 509.245 1517.49 Q507.44 1516.98 505.588 1516.98 Q501.444 1516.98 499.153 1519.62 Q496.861 1522.23 496.861 1526.98 Q496.861 1531.73 499.153 1534.36 Q501.444 1536.98 505.588 1536.98 Q507.44 1536.98 509.245 1536.49 Q511.074 1535.98 512.879 1534.99 L512.879 1538.92 Q511.097 1539.76 509.176 1540.17 Q507.278 1540.59 505.125 1540.59 Q499.268 1540.59 495.819 1536.91 Q492.37 1533.23 492.37 1526.98 Q492.37 1520.64 495.842 1517 Q499.338 1513.37 505.403 1513.37 Q507.37 1513.37 509.245 1513.79 Q511.12 1514.18 512.879 1514.99 Z\" fill=\"#000000\" fill-rule=\"evenodd\" fill-opacity=\"1\" /><path clip-path=\"url(#clip390)\" d=\"M 0 0 M533.875 1514.76 L533.875 1518.79 Q532.069 1517.86 530.125 1517.4 Q528.18 1516.93 526.097 1516.93 Q522.926 1516.93 521.328 1517.91 Q519.754 1518.88 519.754 1520.82 Q519.754 1522.3 520.889 1523.16 Q522.023 1523.99 525.449 1524.76 L526.907 1525.08 Q531.444 1526.05 533.342 1527.84 Q535.264 1529.6 535.264 1532.77 Q535.264 1536.38 532.393 1538.48 Q529.546 1540.59 524.546 1540.59 Q522.463 1540.59 520.194 1540.17 Q517.949 1539.78 515.449 1538.97 L515.449 1534.57 Q517.81 1535.8 520.102 1536.42 Q522.393 1537.03 524.639 1537.03 Q527.648 1537.03 529.268 1536.01 Q530.889 1534.97 530.889 1533.09 Q530.889 1531.36 529.708 1530.43 Q528.551 1529.5 524.592 1528.65 L523.111 1528.3 Q519.153 1527.47 517.393 1525.75 Q515.634 1524.02 515.634 1521.01 Q515.634 1517.35 518.227 1515.36 Q520.819 1513.37 525.588 1513.37 Q527.949 1513.37 530.032 1513.72 Q532.115 1514.06 533.875 1514.76 Z\" fill=\"#000000\" fill-rule=\"evenodd\" fill-opacity=\"1\" /><path clip-path=\"url(#clip390)\" d=\"M 0 0 M536.676 1513.99 L541.189 1513.99 L549.291 1535.75 L557.393 1513.99 L561.907 1513.99 L552.185 1539.92 L546.398 1539.92 L536.676 1513.99 Z\" fill=\"#000000\" fill-rule=\"evenodd\" fill-opacity=\"1\" /><path clip-path=\"url(#clip390)\" d=\"M 0 0 M649.784 1526.98 Q649.784 1522.28 647.84 1519.62 Q645.918 1516.93 642.539 1516.93 Q639.159 1516.93 637.215 1519.62 Q635.293 1522.28 635.293 1526.98 Q635.293 1531.68 637.215 1534.36 Q639.159 1537.03 642.539 1537.03 Q645.918 1537.03 647.84 1534.36 Q649.784 1531.68 649.784 1526.98 M635.293 1517.93 Q636.636 1515.61 638.673 1514.5 Q640.733 1513.37 643.58 1513.37 Q648.302 1513.37 651.242 1517.12 Q654.205 1520.87 654.205 1526.98 Q654.205 1533.09 651.242 1536.84 Q648.302 1540.59 643.58 1540.59 Q640.733 1540.59 638.673 1539.48 Q636.636 1538.35 635.293 1536.03 L635.293 1539.92 L631.011 1539.92 L631.011 1503.9 L635.293 1503.9 L635.293 1517.93 Z\" fill=\"#000000\" fill-rule=\"evenodd\" fill-opacity=\"1\" /><path clip-path=\"url(#clip390)\" d=\"M 0 0 M658.673 1513.99 L662.932 1513.99 L662.932 1539.92 L658.673 1539.92 L658.673 1513.99 M658.673 1503.9 L662.932 1503.9 L662.932 1509.3 L658.673 1509.3 L658.673 1503.9 Z\" fill=\"#000000\" fill-rule=\"evenodd\" fill-opacity=\"1\" /><path clip-path=\"url(#clip390)\" d=\"M 0 0 M684.46 1526.66 Q684.46 1522.03 682.538 1519.48 Q680.64 1516.93 677.191 1516.93 Q673.765 1516.93 671.844 1519.48 Q669.946 1522.03 669.946 1526.66 Q669.946 1531.26 671.844 1533.81 Q673.765 1536.36 677.191 1536.36 Q680.64 1536.36 682.538 1533.81 Q684.46 1531.26 684.46 1526.66 M688.719 1536.7 Q688.719 1543.32 685.779 1546.54 Q682.839 1549.78 676.775 1549.78 Q674.529 1549.78 672.538 1549.43 Q670.548 1549.11 668.673 1548.42 L668.673 1544.27 Q670.548 1545.29 672.376 1545.78 Q674.205 1546.26 676.103 1546.26 Q680.293 1546.26 682.376 1544.06 Q684.46 1541.89 684.46 1537.47 L684.46 1535.36 Q683.14 1537.65 681.08 1538.79 Q679.02 1539.92 676.15 1539.92 Q671.381 1539.92 668.464 1536.29 Q665.548 1532.65 665.548 1526.66 Q665.548 1520.64 668.464 1517 Q671.381 1513.37 676.15 1513.37 Q679.02 1513.37 681.08 1514.5 Q683.14 1515.64 684.46 1517.93 L684.46 1513.99 L688.719 1513.99 L688.719 1536.7 Z\" fill=\"#000000\" fill-rule=\"evenodd\" fill-opacity=\"1\" /><path clip-path=\"url(#clip390)\" d=\"M 0 0 M710.247 1517.93 L710.247 1503.9 L714.506 1503.9 L714.506 1539.92 L710.247 1539.92 L710.247 1536.03 Q708.904 1538.35 706.844 1539.48 Q704.807 1540.59 701.936 1540.59 Q697.237 1540.59 694.274 1536.84 Q691.335 1533.09 691.335 1526.98 Q691.335 1520.87 694.274 1517.12 Q697.237 1513.37 701.936 1513.37 Q704.807 1513.37 706.844 1514.5 Q708.904 1515.61 710.247 1517.93 M695.733 1526.98 Q695.733 1531.68 697.654 1534.36 Q699.599 1537.03 702.978 1537.03 Q706.358 1537.03 708.302 1534.36 Q710.247 1531.68 710.247 1526.98 Q710.247 1522.28 708.302 1519.62 Q706.358 1516.93 702.978 1516.93 Q699.599 1516.93 697.654 1519.62 Q695.733 1522.28 695.733 1526.98 Z\" fill=\"#000000\" fill-rule=\"evenodd\" fill-opacity=\"1\" /><path clip-path=\"url(#clip390)\" d=\"M 0 0 M732.098 1503.9 L732.098 1507.44 L728.024 1507.44 Q725.733 1507.44 724.83 1508.37 Q723.95 1509.3 723.95 1511.7 L723.95 1513.99 L730.964 1513.99 L730.964 1517.3 L723.95 1517.3 L723.95 1539.92 L719.668 1539.92 L719.668 1517.3 L715.594 1517.3 L715.594 1513.99 L719.668 1513.99 L719.668 1512.19 Q719.668 1507.86 721.682 1505.89 Q723.696 1503.9 728.071 1503.9 L732.098 1503.9 Z\" fill=\"#000000\" fill-rule=\"evenodd\" fill-opacity=\"1\" /><path clip-path=\"url(#clip390)\" d=\"M 0 0 M741.196 1535.98 L757.515 1535.98 L757.515 1539.92 L735.571 1539.92 L735.571 1535.98 Q738.233 1533.23 742.816 1528.6 Q747.422 1523.95 748.603 1522.61 Q750.848 1520.08 751.728 1518.35 Q752.631 1516.59 752.631 1514.9 Q752.631 1512.14 750.686 1510.41 Q748.765 1508.67 745.663 1508.67 Q743.464 1508.67 741.01 1509.43 Q738.58 1510.2 735.802 1511.75 L735.802 1507.03 Q738.626 1505.89 741.08 1505.31 Q743.533 1504.73 745.57 1504.73 Q750.941 1504.73 754.135 1507.42 Q757.33 1510.11 757.33 1514.6 Q757.33 1516.73 756.52 1518.65 Q755.732 1520.54 753.626 1523.14 Q753.047 1523.81 749.945 1527.03 Q746.844 1530.22 741.196 1535.98 Z\" fill=\"#000000\" fill-rule=\"evenodd\" fill-opacity=\"1\" /><path clip-path=\"url(#clip390)\" d=\"M 0 0 M762.584 1534.04 L767.469 1534.04 L767.469 1539.92 L762.584 1539.92 L762.584 1534.04 Z\" fill=\"#000000\" fill-rule=\"evenodd\" fill-opacity=\"1\" /><path clip-path=\"url(#clip390)\" d=\"M 0 0 M790.593 1514.99 L790.593 1518.97 Q788.788 1517.98 786.959 1517.49 Q785.154 1516.98 783.302 1516.98 Q779.158 1516.98 776.867 1519.62 Q774.575 1522.23 774.575 1526.98 Q774.575 1531.73 776.867 1534.36 Q779.158 1536.98 783.302 1536.98 Q785.154 1536.98 786.959 1536.49 Q788.788 1535.98 790.593 1534.99 L790.593 1538.92 Q788.811 1539.76 786.89 1540.17 Q784.992 1540.59 782.839 1540.59 Q776.982 1540.59 773.533 1536.91 Q770.084 1533.23 770.084 1526.98 Q770.084 1520.64 773.556 1517 Q777.052 1513.37 783.117 1513.37 Q785.084 1513.37 786.959 1513.79 Q788.834 1514.18 790.593 1514.99 Z\" fill=\"#000000\" fill-rule=\"evenodd\" fill-opacity=\"1\" /><path clip-path=\"url(#clip390)\" d=\"M 0 0 M811.589 1514.76 L811.589 1518.79 Q809.783 1517.86 807.839 1517.4 Q805.894 1516.93 803.811 1516.93 Q800.64 1516.93 799.042 1517.91 Q797.468 1518.88 797.468 1520.82 Q797.468 1522.3 798.603 1523.16 Q799.737 1523.99 803.163 1524.76 L804.621 1525.08 Q809.158 1526.05 811.056 1527.84 Q812.978 1529.6 812.978 1532.77 Q812.978 1536.38 810.107 1538.48 Q807.26 1540.59 802.26 1540.59 Q800.177 1540.59 797.908 1540.17 Q795.663 1539.78 793.163 1538.97 L793.163 1534.57 Q795.524 1535.8 797.816 1536.42 Q800.107 1537.03 802.353 1537.03 Q805.362 1537.03 806.982 1536.01 Q808.603 1534.97 808.603 1533.09 Q808.603 1531.36 807.422 1530.43 Q806.265 1529.5 802.306 1528.65 L800.825 1528.3 Q796.867 1527.47 795.107 1525.75 Q793.348 1524.02 793.348 1521.01 Q793.348 1517.35 795.941 1515.36 Q798.533 1513.37 803.302 1513.37 Q805.663 1513.37 807.746 1513.72 Q809.829 1514.06 811.589 1514.76 Z\" fill=\"#000000\" fill-rule=\"evenodd\" fill-opacity=\"1\" /><path clip-path=\"url(#clip390)\" d=\"M 0 0 M814.39 1513.99 L818.903 1513.99 L827.005 1535.75 L835.107 1513.99 L839.621 1513.99 L829.899 1539.92 L824.112 1539.92 L814.39 1513.99 Z\" fill=\"#000000\" fill-rule=\"evenodd\" fill-opacity=\"1\" /><path clip-path=\"url(#clip390)\" d=\"M 0 0 M947.07 1526.98 Q947.07 1522.28 945.125 1519.62 Q943.204 1516.93 939.824 1516.93 Q936.445 1516.93 934.5 1519.62 Q932.579 1522.28 932.579 1526.98 Q932.579 1531.68 934.5 1534.36 Q936.445 1537.03 939.824 1537.03 Q943.204 1537.03 945.125 1534.36 Q947.07 1531.68 947.07 1526.98 M932.579 1517.93 Q933.922 1515.61 935.959 1514.5 Q938.019 1513.37 940.866 1513.37 Q945.588 1513.37 948.528 1517.12 Q951.491 1520.87 951.491 1526.98 Q951.491 1533.09 948.528 1536.84 Q945.588 1540.59 940.866 1540.59 Q938.019 1540.59 935.959 1539.48 Q933.922 1538.35 932.579 1536.03 L932.579 1539.92 L928.297 1539.92 L928.297 1503.9 L932.579 1503.9 L932.579 1517.93 Z\" fill=\"#000000\" fill-rule=\"evenodd\" fill-opacity=\"1\" /><path clip-path=\"url(#clip390)\" d=\"M 0 0 M955.958 1513.99 L960.218 1513.99 L960.218 1539.92 L955.958 1539.92 L955.958 1513.99 M955.958 1503.9 L960.218 1503.9 L960.218 1509.3 L955.958 1509.3 L955.958 1503.9 Z\" fill=\"#000000\" fill-rule=\"evenodd\" fill-opacity=\"1\" /><path clip-path=\"url(#clip390)\" d=\"M 0 0 M981.745 1526.66 Q981.745 1522.03 979.824 1519.48 Q977.926 1516.93 974.477 1516.93 Q971.051 1516.93 969.13 1519.48 Q967.232 1522.03 967.232 1526.66 Q967.232 1531.26 969.13 1533.81 Q971.051 1536.36 974.477 1536.36 Q977.926 1536.36 979.824 1533.81 Q981.745 1531.26 981.745 1526.66 M986.005 1536.7 Q986.005 1543.32 983.065 1546.54 Q980.125 1549.78 974.06 1549.78 Q971.815 1549.78 969.824 1549.43 Q967.833 1549.11 965.958 1548.42 L965.958 1544.27 Q967.833 1545.29 969.662 1545.78 Q971.491 1546.26 973.389 1546.26 Q977.579 1546.26 979.662 1544.06 Q981.745 1541.89 981.745 1537.47 L981.745 1535.36 Q980.426 1537.65 978.366 1538.79 Q976.306 1539.92 973.435 1539.92 Q968.667 1539.92 965.75 1536.29 Q962.833 1532.65 962.833 1526.66 Q962.833 1520.64 965.75 1517 Q968.667 1513.37 973.435 1513.37 Q976.306 1513.37 978.366 1514.5 Q980.426 1515.64 981.745 1517.93 L981.745 1513.99 L986.005 1513.99 L986.005 1536.7 Z\" fill=\"#000000\" fill-rule=\"evenodd\" fill-opacity=\"1\" /><path clip-path=\"url(#clip390)\" d=\"M 0 0 M1007.53 1517.93 L1007.53 1503.9 L1011.79 1503.9 L1011.79 1539.92 L1007.53 1539.92 L1007.53 1536.03 Q1006.19 1538.35 1004.13 1539.48 Q1002.09 1540.59 999.222 1540.59 Q994.523 1540.59 991.56 1536.84 Q988.62 1533.09 988.62 1526.98 Q988.62 1520.87 991.56 1517.12 Q994.523 1513.37 999.222 1513.37 Q1002.09 1513.37 1004.13 1514.5 Q1006.19 1515.61 1007.53 1517.93 M993.018 1526.98 Q993.018 1531.68 994.94 1534.36 Q996.884 1537.03 1000.26 1537.03 Q1003.64 1537.03 1005.59 1534.36 Q1007.53 1531.68 1007.53 1526.98 Q1007.53 1522.28 1005.59 1519.62 Q1003.64 1516.93 1000.26 1516.93 Q996.884 1516.93 994.94 1519.62 Q993.018 1522.28 993.018 1526.98 Z\" fill=\"#000000\" fill-rule=\"evenodd\" fill-opacity=\"1\" /><path clip-path=\"url(#clip390)\" d=\"M 0 0 M1029.38 1503.9 L1029.38 1507.44 L1025.31 1507.44 Q1023.02 1507.44 1022.12 1508.37 Q1021.24 1509.3 1021.24 1511.7 L1021.24 1513.99 L1028.25 1513.99 L1028.25 1517.3 L1021.24 1517.3 L1021.24 1539.92 L1016.95 1539.92 L1016.95 1517.3 L1012.88 1517.3 L1012.88 1513.99 L1016.95 1513.99 L1016.95 1512.19 Q1016.95 1507.86 1018.97 1505.89 Q1020.98 1503.9 1025.36 1503.9 L1029.38 1503.9 Z\" fill=\"#000000\" fill-rule=\"evenodd\" fill-opacity=\"1\" /><path clip-path=\"url(#clip390)\" d=\"M 0 0 M1031 1534.04 L1035.89 1534.04 L1035.89 1539.92 L1031 1539.92 L1031 1534.04 Z\" fill=\"#000000\" fill-rule=\"evenodd\" fill-opacity=\"1\" /><path clip-path=\"url(#clip390)\" d=\"M 0 0 M1058.97 1526.98 Q1058.97 1522.28 1057.02 1519.62 Q1055.1 1516.93 1051.72 1516.93 Q1048.34 1516.93 1046.4 1519.62 Q1044.48 1522.28 1044.48 1526.98 Q1044.48 1531.68 1046.4 1534.36 Q1048.34 1537.03 1051.72 1537.03 Q1055.1 1537.03 1057.02 1534.36 Q1058.97 1531.68 1058.97 1526.98 M1044.48 1517.93 Q1045.82 1515.61 1047.86 1514.5 Q1049.92 1513.37 1052.76 1513.37 Q1057.49 1513.37 1060.43 1517.12 Q1063.39 1520.87 1063.39 1526.98 Q1063.39 1533.09 1060.43 1536.84 Q1057.49 1540.59 1052.76 1540.59 Q1049.92 1540.59 1047.86 1539.48 Q1045.82 1538.35 1044.48 1536.03 L1044.48 1539.92 L1040.19 1539.92 L1040.19 1503.9 L1044.48 1503.9 L1044.48 1517.93 Z\" fill=\"#000000\" fill-rule=\"evenodd\" fill-opacity=\"1\" /><path clip-path=\"url(#clip390)\" d=\"M 0 0 M1067.86 1513.99 L1072.12 1513.99 L1072.12 1539.92 L1067.86 1539.92 L1067.86 1513.99 M1067.86 1503.9 L1072.12 1503.9 L1072.12 1509.3 L1067.86 1509.3 L1067.86 1503.9 Z\" fill=\"#000000\" fill-rule=\"evenodd\" fill-opacity=\"1\" /><path clip-path=\"url(#clip390)\" d=\"M 0 0 M1098.13 1524.27 L1098.13 1539.92 L1093.87 1539.92 L1093.87 1524.41 Q1093.87 1520.73 1092.44 1518.9 Q1091 1517.07 1088.13 1517.07 Q1084.68 1517.07 1082.69 1519.27 Q1080.7 1521.47 1080.7 1525.27 L1080.7 1539.92 L1076.42 1539.92 L1076.42 1513.99 L1080.7 1513.99 L1080.7 1518.02 Q1082.23 1515.68 1084.29 1514.53 Q1086.37 1513.37 1089.08 1513.37 Q1093.55 1513.37 1095.84 1516.15 Q1098.13 1518.9 1098.13 1524.27 Z\" fill=\"#000000\" fill-rule=\"evenodd\" fill-opacity=\"1\" /><path clip-path=\"url(#clip390)\" d=\"M 0 0 M1176.8 1526.98 Q1176.8 1522.28 1174.85 1519.62 Q1172.93 1516.93 1169.55 1516.93 Q1166.17 1516.93 1164.23 1519.62 Q1162.31 1522.28 1162.31 1526.98 Q1162.31 1531.68 1164.23 1534.36 Q1166.17 1537.03 1169.55 1537.03 Q1172.93 1537.03 1174.85 1534.36 Q1176.8 1531.68 1176.8 1526.98 M1162.31 1517.93 Q1163.65 1515.61 1165.69 1514.5 Q1167.75 1513.37 1170.59 1513.37 Q1175.32 1513.37 1178.26 1517.12 Q1181.22 1520.87 1181.22 1526.98 Q1181.22 1533.09 1178.26 1536.84 Q1175.32 1540.59 1170.59 1540.59 Q1167.75 1540.59 1165.69 1539.48 Q1163.65 1538.35 1162.31 1536.03 L1162.31 1539.92 L1158.02 1539.92 L1158.02 1503.9 L1162.31 1503.9 L1162.31 1517.93 Z\" fill=\"#000000\" fill-rule=\"evenodd\" fill-opacity=\"1\" /><path clip-path=\"url(#clip390)\" d=\"M 0 0 M1185.69 1513.99 L1189.95 1513.99 L1189.95 1539.92 L1185.69 1539.92 L1185.69 1513.99 M1185.69 1503.9 L1189.95 1503.9 L1189.95 1509.3 L1185.69 1509.3 L1185.69 1503.9 Z\" fill=\"#000000\" fill-rule=\"evenodd\" fill-opacity=\"1\" /><path clip-path=\"url(#clip390)\" d=\"M 0 0 M1211.47 1526.66 Q1211.47 1522.03 1209.55 1519.48 Q1207.65 1516.93 1204.21 1516.93 Q1200.78 1516.93 1198.86 1519.48 Q1196.96 1522.03 1196.96 1526.66 Q1196.96 1531.26 1198.86 1533.81 Q1200.78 1536.36 1204.21 1536.36 Q1207.65 1536.36 1209.55 1533.81 Q1211.47 1531.26 1211.47 1526.66 M1215.73 1536.7 Q1215.73 1543.32 1212.79 1546.54 Q1209.85 1549.78 1203.79 1549.78 Q1201.54 1549.78 1199.55 1549.43 Q1197.56 1549.11 1195.69 1548.42 L1195.69 1544.27 Q1197.56 1545.29 1199.39 1545.78 Q1201.22 1546.26 1203.12 1546.26 Q1207.31 1546.26 1209.39 1544.06 Q1211.47 1541.89 1211.47 1537.47 L1211.47 1535.36 Q1210.15 1537.65 1208.09 1538.79 Q1206.03 1539.92 1203.16 1539.92 Q1198.39 1539.92 1195.48 1536.29 Q1192.56 1532.65 1192.56 1526.66 Q1192.56 1520.64 1195.48 1517 Q1198.39 1513.37 1203.16 1513.37 Q1206.03 1513.37 1208.09 1514.5 Q1210.15 1515.64 1211.47 1517.93 L1211.47 1513.99 L1215.73 1513.99 L1215.73 1536.7 Z\" fill=\"#000000\" fill-rule=\"evenodd\" fill-opacity=\"1\" /><path clip-path=\"url(#clip390)\" d=\"M 0 0 M1237.26 1517.93 L1237.26 1503.9 L1241.52 1503.9 L1241.52 1539.92 L1237.26 1539.92 L1237.26 1536.03 Q1235.92 1538.35 1233.86 1539.48 Q1231.82 1540.59 1228.95 1540.59 Q1224.25 1540.59 1221.29 1536.84 Q1218.35 1533.09 1218.35 1526.98 Q1218.35 1520.87 1221.29 1517.12 Q1224.25 1513.37 1228.95 1513.37 Q1231.82 1513.37 1233.86 1514.5 Q1235.92 1515.61 1237.26 1517.93 M1222.75 1526.98 Q1222.75 1531.68 1224.67 1534.36 Q1226.61 1537.03 1229.99 1537.03 Q1233.37 1537.03 1235.32 1534.36 Q1237.26 1531.68 1237.26 1526.98 Q1237.26 1522.28 1235.32 1519.62 Q1233.37 1516.93 1229.99 1516.93 Q1226.61 1516.93 1224.67 1519.62 Q1222.75 1522.28 1222.75 1526.98 Z\" fill=\"#000000\" fill-rule=\"evenodd\" fill-opacity=\"1\" /><path clip-path=\"url(#clip390)\" d=\"M 0 0 M1259.11 1503.9 L1259.11 1507.44 L1255.04 1507.44 Q1252.75 1507.44 1251.84 1508.37 Q1250.96 1509.3 1250.96 1511.7 L1250.96 1513.99 L1257.98 1513.99 L1257.98 1517.3 L1250.96 1517.3 L1250.96 1539.92 L1246.68 1539.92 L1246.68 1517.3 L1242.61 1517.3 L1242.61 1513.99 L1246.68 1513.99 L1246.68 1512.19 Q1246.68 1507.86 1248.7 1505.89 Q1250.71 1503.9 1255.08 1503.9 L1259.11 1503.9 Z\" fill=\"#000000\" fill-rule=\"evenodd\" fill-opacity=\"1\" /><path clip-path=\"url(#clip390)\" d=\"M 0 0 M1260.73 1534.04 L1265.62 1534.04 L1265.62 1539.92 L1260.73 1539.92 L1260.73 1534.04 Z\" fill=\"#000000\" fill-rule=\"evenodd\" fill-opacity=\"1\" /><path clip-path=\"url(#clip390)\" d=\"M 0 0 M1283.21 1503.9 L1283.21 1507.44 L1279.14 1507.44 Q1276.84 1507.44 1275.94 1508.37 Q1275.06 1509.3 1275.06 1511.7 L1275.06 1513.99 L1282.07 1513.99 L1282.07 1517.3 L1275.06 1517.3 L1275.06 1539.92 L1270.78 1539.92 L1270.78 1517.3 L1266.7 1517.3 L1266.7 1513.99 L1270.78 1513.99 L1270.78 1512.19 Q1270.78 1507.86 1272.79 1505.89 Q1274.81 1503.9 1279.18 1503.9 L1283.21 1503.9 Z\" fill=\"#000000\" fill-rule=\"evenodd\" fill-opacity=\"1\" /><path clip-path=\"url(#clip390)\" d=\"M 0 0 M1309.85 1525.89 L1309.85 1527.98 L1290.27 1527.98 Q1290.55 1532.37 1292.91 1534.69 Q1295.29 1536.98 1299.53 1536.98 Q1301.98 1536.98 1304.27 1536.38 Q1306.59 1535.78 1308.86 1534.57 L1308.86 1538.6 Q1306.57 1539.57 1304.16 1540.08 Q1301.75 1540.59 1299.27 1540.59 Q1293.07 1540.59 1289.44 1536.98 Q1285.82 1533.37 1285.82 1527.21 Q1285.82 1520.85 1289.25 1517.12 Q1292.7 1513.37 1298.53 1513.37 Q1303.76 1513.37 1306.8 1516.75 Q1309.85 1520.11 1309.85 1525.89 M1305.59 1524.64 Q1305.55 1521.15 1303.63 1519.06 Q1301.73 1516.98 1298.58 1516.98 Q1295.01 1516.98 1292.86 1518.99 Q1290.73 1521.01 1290.41 1524.67 L1305.59 1524.64 Z\" fill=\"#000000\" fill-rule=\"evenodd\" fill-opacity=\"1\" /><path clip-path=\"url(#clip390)\" d=\"M 0 0 M1326.1 1526.89 Q1320.94 1526.89 1318.95 1528.07 Q1316.96 1529.25 1316.96 1532.1 Q1316.96 1534.36 1318.44 1535.71 Q1319.95 1537.03 1322.51 1537.03 Q1326.06 1537.03 1328.19 1534.53 Q1330.34 1532 1330.34 1527.84 L1330.34 1526.89 L1326.1 1526.89 M1334.6 1525.13 L1334.6 1539.92 L1330.34 1539.92 L1330.34 1535.98 Q1328.88 1538.35 1326.7 1539.48 Q1324.53 1540.59 1321.38 1540.59 Q1317.4 1540.59 1315.04 1538.37 Q1312.7 1536.12 1312.7 1532.37 Q1312.7 1528 1315.62 1525.78 Q1318.56 1523.55 1324.37 1523.55 L1330.34 1523.55 L1330.34 1523.14 Q1330.34 1520.2 1328.39 1518.6 Q1326.47 1516.98 1322.98 1516.98 Q1320.76 1516.98 1318.65 1517.51 Q1316.54 1518.04 1314.6 1519.11 L1314.6 1515.17 Q1316.94 1514.27 1319.13 1513.83 Q1321.33 1513.37 1323.42 1513.37 Q1329.04 1513.37 1331.82 1516.29 Q1334.6 1519.2 1334.6 1525.13 Z\" fill=\"#000000\" fill-rule=\"evenodd\" fill-opacity=\"1\" /><path clip-path=\"url(#clip390)\" d=\"M 0 0 M1343.28 1506.63 L1343.28 1513.99 L1352.05 1513.99 L1352.05 1517.3 L1343.28 1517.3 L1343.28 1531.38 Q1343.28 1534.55 1344.13 1535.45 Q1345.01 1536.36 1347.68 1536.36 L1352.05 1536.36 L1352.05 1539.92 L1347.68 1539.92 Q1342.75 1539.92 1340.87 1538.09 Q1339 1536.24 1339 1531.38 L1339 1517.3 L1335.87 1517.3 L1335.87 1513.99 L1339 1513.99 L1339 1506.63 L1343.28 1506.63 Z\" fill=\"#000000\" fill-rule=\"evenodd\" fill-opacity=\"1\" /><path clip-path=\"url(#clip390)\" d=\"M 0 0 M1378.07 1524.27 L1378.07 1539.92 L1373.81 1539.92 L1373.81 1524.41 Q1373.81 1520.73 1372.38 1518.9 Q1370.94 1517.07 1368.07 1517.07 Q1364.62 1517.07 1362.63 1519.27 Q1360.64 1521.47 1360.64 1525.27 L1360.64 1539.92 L1356.36 1539.92 L1356.36 1503.9 L1360.64 1503.9 L1360.64 1518.02 Q1362.17 1515.68 1364.23 1514.53 Q1366.31 1513.37 1369.02 1513.37 Q1373.49 1513.37 1375.78 1516.15 Q1378.07 1518.9 1378.07 1524.27 Z\" fill=\"#000000\" fill-rule=\"evenodd\" fill-opacity=\"1\" /><path clip-path=\"url(#clip390)\" d=\"M 0 0 M1404.71 1525.89 L1404.71 1527.98 L1385.13 1527.98 Q1385.41 1532.37 1387.77 1534.69 Q1390.15 1536.98 1394.39 1536.98 Q1396.84 1536.98 1399.13 1536.38 Q1401.45 1535.78 1403.72 1534.57 L1403.72 1538.6 Q1401.43 1539.57 1399.02 1540.08 Q1396.61 1540.59 1394.13 1540.59 Q1387.93 1540.59 1384.3 1536.98 Q1380.69 1533.37 1380.69 1527.21 Q1380.69 1520.85 1384.11 1517.12 Q1387.56 1513.37 1393.39 1513.37 Q1398.63 1513.37 1401.66 1516.75 Q1404.71 1520.11 1404.71 1525.89 M1400.45 1524.64 Q1400.41 1521.15 1398.49 1519.06 Q1396.59 1516.98 1393.44 1516.98 Q1389.88 1516.98 1387.72 1518.99 Q1385.59 1521.01 1385.27 1524.67 L1400.45 1524.64 Z\" fill=\"#000000\" fill-rule=\"evenodd\" fill-opacity=\"1\" /><path clip-path=\"url(#clip390)\" d=\"M 0 0 M1424.2 1517.98 Q1423.49 1517.56 1422.63 1517.37 Q1421.8 1517.17 1420.78 1517.17 Q1417.17 1517.17 1415.22 1519.53 Q1413.3 1521.86 1413.3 1526.26 L1413.3 1539.92 L1409.02 1539.92 L1409.02 1513.99 L1413.3 1513.99 L1413.3 1518.02 Q1414.64 1515.66 1416.8 1514.53 Q1418.95 1513.37 1422.03 1513.37 Q1422.47 1513.37 1423 1513.44 Q1423.53 1513.48 1424.18 1513.6 L1424.2 1517.98 Z\" fill=\"#000000\" fill-rule=\"evenodd\" fill-opacity=\"1\" /><path clip-path=\"url(#clip390)\" d=\"M 0 0 M1477.6 1526.98 Q1477.6 1522.28 1475.66 1519.62 Q1473.74 1516.93 1470.36 1516.93 Q1466.98 1516.93 1465.03 1519.62 Q1463.11 1522.28 1463.11 1526.98 Q1463.11 1531.68 1465.03 1534.36 Q1466.98 1537.03 1470.36 1537.03 Q1473.74 1537.03 1475.66 1534.36 Q1477.6 1531.68 1477.6 1526.98 M1463.11 1517.93 Q1464.45 1515.61 1466.49 1514.5 Q1468.55 1513.37 1471.4 1513.37 Q1476.12 1513.37 1479.06 1517.12 Q1482.02 1520.87 1482.02 1526.98 Q1482.02 1533.09 1479.06 1536.84 Q1476.12 1540.59 1471.4 1540.59 Q1468.55 1540.59 1466.49 1539.48 Q1464.45 1538.35 1463.11 1536.03 L1463.11 1539.92 L1458.83 1539.92 L1458.83 1503.9 L1463.11 1503.9 L1463.11 1517.93 Z\" fill=\"#000000\" fill-rule=\"evenodd\" fill-opacity=\"1\" /><path clip-path=\"url(#clip390)\" d=\"M 0 0 M1486.49 1513.99 L1490.75 1513.99 L1490.75 1539.92 L1486.49 1539.92 L1486.49 1513.99 M1486.49 1503.9 L1490.75 1503.9 L1490.75 1509.3 L1486.49 1509.3 L1486.49 1503.9 Z\" fill=\"#000000\" fill-rule=\"evenodd\" fill-opacity=\"1\" /><path clip-path=\"url(#clip390)\" d=\"M 0 0 M1512.28 1526.66 Q1512.28 1522.03 1510.36 1519.48 Q1508.46 1516.93 1505.01 1516.93 Q1501.58 1516.93 1499.66 1519.48 Q1497.76 1522.03 1497.76 1526.66 Q1497.76 1531.26 1499.66 1533.81 Q1501.58 1536.36 1505.01 1536.36 Q1508.46 1536.36 1510.36 1533.81 Q1512.28 1531.26 1512.28 1526.66 M1516.54 1536.7 Q1516.54 1543.32 1513.6 1546.54 Q1510.66 1549.78 1504.59 1549.78 Q1502.35 1549.78 1500.36 1549.43 Q1498.37 1549.11 1496.49 1548.42 L1496.49 1544.27 Q1498.37 1545.29 1500.19 1545.78 Q1502.02 1546.26 1503.92 1546.26 Q1508.11 1546.26 1510.19 1544.06 Q1512.28 1541.89 1512.28 1537.47 L1512.28 1535.36 Q1510.96 1537.65 1508.9 1538.79 Q1506.84 1539.92 1503.97 1539.92 Q1499.2 1539.92 1496.28 1536.29 Q1493.37 1532.65 1493.37 1526.66 Q1493.37 1520.64 1496.28 1517 Q1499.2 1513.37 1503.97 1513.37 Q1506.84 1513.37 1508.9 1514.5 Q1510.96 1515.64 1512.28 1517.93 L1512.28 1513.99 L1516.54 1513.99 L1516.54 1536.7 Z\" fill=\"#000000\" fill-rule=\"evenodd\" fill-opacity=\"1\" /><path clip-path=\"url(#clip390)\" d=\"M 0 0 M1538.06 1517.93 L1538.06 1503.9 L1542.32 1503.9 L1542.32 1539.92 L1538.06 1539.92 L1538.06 1536.03 Q1536.72 1538.35 1534.66 1539.48 Q1532.62 1540.59 1529.75 1540.59 Q1525.06 1540.59 1522.09 1536.84 Q1519.15 1533.09 1519.15 1526.98 Q1519.15 1520.87 1522.09 1517.12 Q1525.06 1513.37 1529.75 1513.37 Q1532.62 1513.37 1534.66 1514.5 Q1536.72 1515.61 1538.06 1517.93 M1523.55 1526.98 Q1523.55 1531.68 1525.47 1534.36 Q1527.42 1537.03 1530.8 1537.03 Q1534.18 1537.03 1536.12 1534.36 Q1538.06 1531.68 1538.06 1526.98 Q1538.06 1522.28 1536.12 1519.62 Q1534.18 1516.93 1530.8 1516.93 Q1527.42 1516.93 1525.47 1519.62 Q1523.55 1522.28 1523.55 1526.98 Z\" fill=\"#000000\" fill-rule=\"evenodd\" fill-opacity=\"1\" /><path clip-path=\"url(#clip390)\" d=\"M 0 0 M1559.92 1503.9 L1559.92 1507.44 L1555.84 1507.44 Q1553.55 1507.44 1552.65 1508.37 Q1551.77 1509.3 1551.77 1511.7 L1551.77 1513.99 L1558.78 1513.99 L1558.78 1517.3 L1551.77 1517.3 L1551.77 1539.92 L1547.49 1539.92 L1547.49 1517.3 L1543.41 1517.3 L1543.41 1513.99 L1547.49 1513.99 L1547.49 1512.19 Q1547.49 1507.86 1549.5 1505.89 Q1551.51 1503.9 1555.89 1503.9 L1559.92 1503.9 Z\" fill=\"#000000\" fill-rule=\"evenodd\" fill-opacity=\"1\" /><path clip-path=\"url(#clip390)\" d=\"M 0 0 M1565.8 1535.98 L1573.43 1535.98 L1573.43 1509.62 L1565.12 1511.29 L1565.12 1507.03 L1573.39 1505.36 L1578.06 1505.36 L1578.06 1535.98 L1585.7 1535.98 L1585.7 1539.92 L1565.8 1539.92 L1565.8 1535.98 Z\" fill=\"#000000\" fill-rule=\"evenodd\" fill-opacity=\"1\" /><path clip-path=\"url(#clip390)\" d=\"M 0 0 M1590.77 1534.04 L1595.66 1534.04 L1595.66 1539.92 L1590.77 1539.92 L1590.77 1534.04 Z\" fill=\"#000000\" fill-rule=\"evenodd\" fill-opacity=\"1\" /><path clip-path=\"url(#clip390)\" d=\"M 0 0 M1600.12 1513.99 L1604.38 1513.99 L1604.38 1540.38 Q1604.38 1545.34 1602.49 1547.56 Q1600.61 1549.78 1596.42 1549.78 L1594.8 1549.78 L1594.8 1546.17 L1595.93 1546.17 Q1598.37 1546.17 1599.24 1545.04 Q1600.12 1543.92 1600.12 1540.38 L1600.12 1513.99 M1600.12 1503.9 L1604.38 1503.9 L1604.38 1509.3 L1600.12 1509.3 L1600.12 1503.9 Z\" fill=\"#000000\" fill-rule=\"evenodd\" fill-opacity=\"1\" /><path clip-path=\"url(#clip390)\" d=\"M 0 0 M1625.38 1514.76 L1625.38 1518.79 Q1623.57 1517.86 1621.63 1517.4 Q1619.68 1516.93 1617.6 1516.93 Q1614.43 1516.93 1612.83 1517.91 Q1611.26 1518.88 1611.26 1520.82 Q1611.26 1522.3 1612.39 1523.16 Q1613.53 1523.99 1616.95 1524.76 L1618.41 1525.08 Q1622.95 1526.05 1624.85 1527.84 Q1626.77 1529.6 1626.77 1532.77 Q1626.77 1536.38 1623.9 1538.48 Q1621.05 1540.59 1616.05 1540.59 Q1613.97 1540.59 1611.7 1540.17 Q1609.45 1539.78 1606.95 1538.97 L1606.95 1534.57 Q1609.31 1535.8 1611.61 1536.42 Q1613.9 1537.03 1616.14 1537.03 Q1619.15 1537.03 1620.77 1536.01 Q1622.39 1534.97 1622.39 1533.09 Q1622.39 1531.36 1621.21 1530.43 Q1620.05 1529.5 1616.1 1528.65 L1614.62 1528.3 Q1610.66 1527.47 1608.9 1525.75 Q1607.14 1524.02 1607.14 1521.01 Q1607.14 1517.35 1609.73 1515.36 Q1612.32 1513.37 1617.09 1513.37 Q1619.45 1513.37 1621.54 1513.72 Q1623.62 1514.06 1625.38 1514.76 Z\" fill=\"#000000\" fill-rule=\"evenodd\" fill-opacity=\"1\" /><path clip-path=\"url(#clip390)\" d=\"M 0 0 M1641.28 1516.98 Q1637.86 1516.98 1635.86 1519.67 Q1633.87 1522.33 1633.87 1526.98 Q1633.87 1531.63 1635.84 1534.32 Q1637.83 1536.98 1641.28 1536.98 Q1644.68 1536.98 1646.68 1534.29 Q1648.67 1531.61 1648.67 1526.98 Q1648.67 1522.37 1646.68 1519.69 Q1644.68 1516.98 1641.28 1516.98 M1641.28 1513.37 Q1646.84 1513.37 1650.01 1516.98 Q1653.18 1520.59 1653.18 1526.98 Q1653.18 1533.35 1650.01 1536.98 Q1646.84 1540.59 1641.28 1540.59 Q1635.7 1540.59 1632.53 1536.98 Q1629.38 1533.35 1629.38 1526.98 Q1629.38 1520.59 1632.53 1516.98 Q1635.7 1513.37 1641.28 1513.37 Z\" fill=\"#000000\" fill-rule=\"evenodd\" fill-opacity=\"1\" /><path clip-path=\"url(#clip390)\" d=\"M 0 0 M1679.2 1524.27 L1679.2 1539.92 L1674.94 1539.92 L1674.94 1524.41 Q1674.94 1520.73 1673.5 1518.9 Q1672.07 1517.07 1669.2 1517.07 Q1665.75 1517.07 1663.76 1519.27 Q1661.77 1521.47 1661.77 1525.27 L1661.77 1539.92 L1657.49 1539.92 L1657.49 1513.99 L1661.77 1513.99 L1661.77 1518.02 Q1663.3 1515.68 1665.36 1514.53 Q1667.44 1513.37 1670.15 1513.37 Q1674.61 1513.37 1676.91 1516.15 Q1679.2 1518.9 1679.2 1524.27 Z\" fill=\"#000000\" fill-rule=\"evenodd\" fill-opacity=\"1\" /><path clip-path=\"url(#clip390)\" d=\"M 0 0 M1755.69 1526.98 Q1755.69 1522.28 1753.74 1519.62 Q1751.82 1516.93 1748.44 1516.93 Q1745.06 1516.93 1743.12 1519.62 Q1741.2 1522.28 1741.2 1526.98 Q1741.2 1531.68 1743.12 1534.36 Q1745.06 1537.03 1748.44 1537.03 Q1751.82 1537.03 1753.74 1534.36 Q1755.69 1531.68 1755.69 1526.98 M1741.2 1517.93 Q1742.54 1515.61 1744.58 1514.5 Q1746.64 1513.37 1749.48 1513.37 Q1754.2 1513.37 1757.14 1517.12 Q1760.11 1520.87 1760.11 1526.98 Q1760.11 1533.09 1757.14 1536.84 Q1754.2 1540.59 1749.48 1540.59 Q1746.64 1540.59 1744.58 1539.48 Q1742.54 1538.35 1741.2 1536.03 L1741.2 1539.92 L1736.91 1539.92 L1736.91 1503.9 L1741.2 1503.9 L1741.2 1517.93 Z\" fill=\"#000000\" fill-rule=\"evenodd\" fill-opacity=\"1\" /><path clip-path=\"url(#clip390)\" d=\"M 0 0 M1764.58 1513.99 L1768.83 1513.99 L1768.83 1539.92 L1764.58 1539.92 L1764.58 1513.99 M1764.58 1503.9 L1768.83 1503.9 L1768.83 1509.3 L1764.58 1509.3 L1764.58 1503.9 Z\" fill=\"#000000\" fill-rule=\"evenodd\" fill-opacity=\"1\" /><path clip-path=\"url(#clip390)\" d=\"M 0 0 M1790.36 1526.66 Q1790.36 1522.03 1788.44 1519.48 Q1786.54 1516.93 1783.09 1516.93 Q1779.67 1516.93 1777.75 1519.48 Q1775.85 1522.03 1775.85 1526.66 Q1775.85 1531.26 1777.75 1533.81 Q1779.67 1536.36 1783.09 1536.36 Q1786.54 1536.36 1788.44 1533.81 Q1790.36 1531.26 1790.36 1526.66 M1794.62 1536.7 Q1794.62 1543.32 1791.68 1546.54 Q1788.74 1549.78 1782.68 1549.78 Q1780.43 1549.78 1778.44 1549.43 Q1776.45 1549.11 1774.58 1548.42 L1774.58 1544.27 Q1776.45 1545.29 1778.28 1545.78 Q1780.11 1546.26 1782.01 1546.26 Q1786.2 1546.26 1788.28 1544.06 Q1790.36 1541.89 1790.36 1537.47 L1790.36 1535.36 Q1789.04 1537.65 1786.98 1538.79 Q1784.92 1539.92 1782.05 1539.92 Q1777.28 1539.92 1774.37 1536.29 Q1771.45 1532.65 1771.45 1526.66 Q1771.45 1520.64 1774.37 1517 Q1777.28 1513.37 1782.05 1513.37 Q1784.92 1513.37 1786.98 1514.5 Q1789.04 1515.64 1790.36 1517.93 L1790.36 1513.99 L1794.62 1513.99 L1794.62 1536.7 Z\" fill=\"#000000\" fill-rule=\"evenodd\" fill-opacity=\"1\" /><path clip-path=\"url(#clip390)\" d=\"M 0 0 M1816.15 1517.93 L1816.15 1503.9 L1820.41 1503.9 L1820.41 1539.92 L1816.15 1539.92 L1816.15 1536.03 Q1814.81 1538.35 1812.75 1539.48 Q1810.71 1540.59 1807.84 1540.59 Q1803.14 1540.59 1800.18 1536.84 Q1797.24 1533.09 1797.24 1526.98 Q1797.24 1520.87 1800.18 1517.12 Q1803.14 1513.37 1807.84 1513.37 Q1810.71 1513.37 1812.75 1514.5 Q1814.81 1515.61 1816.15 1517.93 M1801.64 1526.98 Q1801.64 1531.68 1803.56 1534.36 Q1805.5 1537.03 1808.88 1537.03 Q1812.26 1537.03 1814.2 1534.36 Q1816.15 1531.68 1816.15 1526.98 Q1816.15 1522.28 1814.2 1519.62 Q1812.26 1516.93 1808.88 1516.93 Q1805.5 1516.93 1803.56 1519.62 Q1801.64 1522.28 1801.64 1526.98 Z\" fill=\"#000000\" fill-rule=\"evenodd\" fill-opacity=\"1\" /><path clip-path=\"url(#clip390)\" d=\"M 0 0 M1838 1503.9 L1838 1507.44 L1833.93 1507.44 Q1831.63 1507.44 1830.73 1508.37 Q1829.85 1509.3 1829.85 1511.7 L1829.85 1513.99 L1836.87 1513.99 L1836.87 1517.3 L1829.85 1517.3 L1829.85 1539.92 L1825.57 1539.92 L1825.57 1517.3 L1821.5 1517.3 L1821.5 1513.99 L1825.57 1513.99 L1825.57 1512.19 Q1825.57 1507.86 1827.58 1505.89 Q1829.6 1503.9 1833.97 1503.9 L1838 1503.9 Z\" fill=\"#000000\" fill-rule=\"evenodd\" fill-opacity=\"1\" /><path clip-path=\"url(#clip390)\" d=\"M 0 0 M1847.1 1535.98 L1863.42 1535.98 L1863.42 1539.92 L1841.47 1539.92 L1841.47 1535.98 Q1844.13 1533.23 1848.72 1528.6 Q1853.32 1523.95 1854.51 1522.61 Q1856.75 1520.08 1857.63 1518.35 Q1858.53 1516.59 1858.53 1514.9 Q1858.53 1512.14 1856.59 1510.41 Q1854.67 1508.67 1851.57 1508.67 Q1849.37 1508.67 1846.91 1509.43 Q1844.48 1510.2 1841.7 1511.75 L1841.7 1507.03 Q1844.53 1505.89 1846.98 1505.31 Q1849.44 1504.73 1851.47 1504.73 Q1856.84 1504.73 1860.04 1507.42 Q1863.23 1510.11 1863.23 1514.6 Q1863.23 1516.73 1862.42 1518.65 Q1861.63 1520.54 1859.53 1523.14 Q1858.95 1523.81 1855.85 1527.03 Q1852.75 1530.22 1847.1 1535.98 Z\" fill=\"#000000\" fill-rule=\"evenodd\" fill-opacity=\"1\" /><path clip-path=\"url(#clip390)\" d=\"M 0 0 M1868.49 1534.04 L1873.37 1534.04 L1873.37 1539.92 L1868.49 1539.92 L1868.49 1534.04 Z\" fill=\"#000000\" fill-rule=\"evenodd\" fill-opacity=\"1\" /><path clip-path=\"url(#clip390)\" d=\"M 0 0 M1877.84 1513.99 L1882.1 1513.99 L1882.1 1540.38 Q1882.1 1545.34 1880.2 1547.56 Q1878.32 1549.78 1874.13 1549.78 L1872.51 1549.78 L1872.51 1546.17 L1873.65 1546.17 Q1876.08 1546.17 1876.96 1545.04 Q1877.84 1543.92 1877.84 1540.38 L1877.84 1513.99 M1877.84 1503.9 L1882.1 1503.9 L1882.1 1509.3 L1877.84 1509.3 L1877.84 1503.9 Z\" fill=\"#000000\" fill-rule=\"evenodd\" fill-opacity=\"1\" /><path clip-path=\"url(#clip390)\" d=\"M 0 0 M1903.09 1514.76 L1903.09 1518.79 Q1901.29 1517.86 1899.34 1517.4 Q1897.4 1516.93 1895.32 1516.93 Q1892.14 1516.93 1890.55 1517.91 Q1888.97 1518.88 1888.97 1520.82 Q1888.97 1522.3 1890.11 1523.16 Q1891.24 1523.99 1894.67 1524.76 L1896.13 1525.08 Q1900.66 1526.05 1902.56 1527.84 Q1904.48 1529.6 1904.48 1532.77 Q1904.48 1536.38 1901.61 1538.48 Q1898.76 1540.59 1893.76 1540.59 Q1891.68 1540.59 1889.41 1540.17 Q1887.17 1539.78 1884.67 1538.97 L1884.67 1534.57 Q1887.03 1535.8 1889.32 1536.42 Q1891.61 1537.03 1893.86 1537.03 Q1896.87 1537.03 1898.49 1536.01 Q1900.11 1534.97 1900.11 1533.09 Q1900.11 1531.36 1898.93 1530.43 Q1897.77 1529.5 1893.81 1528.65 L1892.33 1528.3 Q1888.37 1527.47 1886.61 1525.75 Q1884.85 1524.02 1884.85 1521.01 Q1884.85 1517.35 1887.44 1515.36 Q1890.04 1513.37 1894.81 1513.37 Q1897.17 1513.37 1899.25 1513.72 Q1901.33 1514.06 1903.09 1514.76 Z\" fill=\"#000000\" fill-rule=\"evenodd\" fill-opacity=\"1\" /><path clip-path=\"url(#clip390)\" d=\"M 0 0 M1919 1516.98 Q1915.57 1516.98 1913.58 1519.67 Q1911.59 1522.33 1911.59 1526.98 Q1911.59 1531.63 1913.56 1534.32 Q1915.55 1536.98 1919 1536.98 Q1922.4 1536.98 1924.39 1534.29 Q1926.38 1531.61 1926.38 1526.98 Q1926.38 1522.37 1924.39 1519.69 Q1922.4 1516.98 1919 1516.98 M1919 1513.37 Q1924.55 1513.37 1927.72 1516.98 Q1930.89 1520.59 1930.89 1526.98 Q1930.89 1533.35 1927.72 1536.98 Q1924.55 1540.59 1919 1540.59 Q1913.42 1540.59 1910.25 1536.98 Q1907.1 1533.35 1907.1 1526.98 Q1907.1 1520.59 1910.25 1516.98 Q1913.42 1513.37 1919 1513.37 Z\" fill=\"#000000\" fill-rule=\"evenodd\" fill-opacity=\"1\" /><path clip-path=\"url(#clip390)\" d=\"M 0 0 M1956.91 1524.27 L1956.91 1539.92 L1952.65 1539.92 L1952.65 1524.41 Q1952.65 1520.73 1951.22 1518.9 Q1949.78 1517.07 1946.91 1517.07 Q1943.46 1517.07 1941.47 1519.27 Q1939.48 1521.47 1939.48 1525.27 L1939.48 1539.92 L1935.2 1539.92 L1935.2 1513.99 L1939.48 1513.99 L1939.48 1518.02 Q1941.01 1515.68 1943.07 1514.53 Q1945.15 1513.37 1947.86 1513.37 Q1952.33 1513.37 1954.62 1516.15 Q1956.91 1518.9 1956.91 1524.27 Z\" fill=\"#000000\" fill-rule=\"evenodd\" fill-opacity=\"1\" /><path clip-path=\"url(#clip390)\" d=\"M 0 0 M2063.74 1526.98 Q2063.74 1522.28 2061.79 1519.62 Q2059.87 1516.93 2056.49 1516.93 Q2053.11 1516.93 2051.17 1519.62 Q2049.25 1522.28 2049.25 1526.98 Q2049.25 1531.68 2051.17 1534.36 Q2053.11 1537.03 2056.49 1537.03 Q2059.87 1537.03 2061.79 1534.36 Q2063.74 1531.68 2063.74 1526.98 M2049.25 1517.93 Q2050.59 1515.61 2052.62 1514.5 Q2054.68 1513.37 2057.53 1513.37 Q2062.25 1513.37 2065.19 1517.12 Q2068.16 1520.87 2068.16 1526.98 Q2068.16 1533.09 2065.19 1536.84 Q2062.25 1540.59 2057.53 1540.59 Q2054.68 1540.59 2052.62 1539.48 Q2050.59 1538.35 2049.25 1536.03 L2049.25 1539.92 L2044.96 1539.92 L2044.96 1503.9 L2049.25 1503.9 L2049.25 1517.93 Z\" fill=\"#000000\" fill-rule=\"evenodd\" fill-opacity=\"1\" /><path clip-path=\"url(#clip390)\" d=\"M 0 0 M2072.62 1513.99 L2076.88 1513.99 L2076.88 1539.92 L2072.62 1539.92 L2072.62 1513.99 M2072.62 1503.9 L2076.88 1503.9 L2076.88 1509.3 L2072.62 1509.3 L2072.62 1503.9 Z\" fill=\"#000000\" fill-rule=\"evenodd\" fill-opacity=\"1\" /><path clip-path=\"url(#clip390)\" d=\"M 0 0 M2098.41 1526.66 Q2098.41 1522.03 2096.49 1519.48 Q2094.59 1516.93 2091.14 1516.93 Q2087.72 1516.93 2085.8 1519.48 Q2083.9 1522.03 2083.9 1526.66 Q2083.9 1531.26 2085.8 1533.81 Q2087.72 1536.36 2091.14 1536.36 Q2094.59 1536.36 2096.49 1533.81 Q2098.41 1531.26 2098.41 1526.66 M2102.67 1536.7 Q2102.67 1543.32 2099.73 1546.54 Q2096.79 1549.78 2090.73 1549.78 Q2088.48 1549.78 2086.49 1549.43 Q2084.5 1549.11 2082.62 1548.42 L2082.62 1544.27 Q2084.5 1545.29 2086.33 1545.78 Q2088.16 1546.26 2090.06 1546.26 Q2094.24 1546.26 2096.33 1544.06 Q2098.41 1541.89 2098.41 1537.47 L2098.41 1535.36 Q2097.09 1537.65 2095.03 1538.79 Q2092.97 1539.92 2090.1 1539.92 Q2085.33 1539.92 2082.42 1536.29 Q2079.5 1532.65 2079.5 1526.66 Q2079.5 1520.64 2082.42 1517 Q2085.33 1513.37 2090.1 1513.37 Q2092.97 1513.37 2095.03 1514.5 Q2097.09 1515.64 2098.41 1517.93 L2098.41 1513.99 L2102.67 1513.99 L2102.67 1536.7 Z\" fill=\"#000000\" fill-rule=\"evenodd\" fill-opacity=\"1\" /><path clip-path=\"url(#clip390)\" d=\"M 0 0 M2124.2 1517.93 L2124.2 1503.9 L2128.46 1503.9 L2128.46 1539.92 L2124.2 1539.92 L2124.2 1536.03 Q2122.86 1538.35 2120.8 1539.48 Q2118.76 1540.59 2115.89 1540.59 Q2111.19 1540.59 2108.23 1536.84 Q2105.29 1533.09 2105.29 1526.98 Q2105.29 1520.87 2108.23 1517.12 Q2111.19 1513.37 2115.89 1513.37 Q2118.76 1513.37 2120.8 1514.5 Q2122.86 1515.61 2124.2 1517.93 M2109.68 1526.98 Q2109.68 1531.68 2111.61 1534.36 Q2113.55 1537.03 2116.93 1537.03 Q2120.31 1537.03 2122.25 1534.36 Q2124.2 1531.68 2124.2 1526.98 Q2124.2 1522.28 2122.25 1519.62 Q2120.31 1516.93 2116.93 1516.93 Q2113.55 1516.93 2111.61 1519.62 Q2109.68 1522.28 2109.68 1526.98 Z\" fill=\"#000000\" fill-rule=\"evenodd\" fill-opacity=\"1\" /><path clip-path=\"url(#clip390)\" d=\"M 0 0 M2146.05 1503.9 L2146.05 1507.44 L2141.98 1507.44 Q2139.68 1507.44 2138.78 1508.37 Q2137.9 1509.3 2137.9 1511.7 L2137.9 1513.99 L2144.92 1513.99 L2144.92 1517.3 L2137.9 1517.3 L2137.9 1539.92 L2133.62 1539.92 L2133.62 1517.3 L2129.55 1517.3 L2129.55 1513.99 L2133.62 1513.99 L2133.62 1512.19 Q2133.62 1507.86 2135.63 1505.89 Q2137.65 1503.9 2142.02 1503.9 L2146.05 1503.9 Z\" fill=\"#000000\" fill-rule=\"evenodd\" fill-opacity=\"1\" /><path clip-path=\"url(#clip390)\" d=\"M 0 0 M2147.67 1534.04 L2152.55 1534.04 L2152.55 1539.92 L2147.67 1539.92 L2147.67 1534.04 Z\" fill=\"#000000\" fill-rule=\"evenodd\" fill-opacity=\"1\" /><path clip-path=\"url(#clip390)\" d=\"M 0 0 M2157.02 1513.99 L2161.28 1513.99 L2161.28 1540.38 Q2161.28 1545.34 2159.38 1547.56 Q2157.51 1549.78 2153.32 1549.78 L2151.7 1549.78 L2151.7 1546.17 L2152.83 1546.17 Q2155.26 1546.17 2156.14 1545.04 Q2157.02 1543.92 2157.02 1540.38 L2157.02 1513.99 M2157.02 1503.9 L2161.28 1503.9 L2161.28 1509.3 L2157.02 1509.3 L2157.02 1503.9 Z\" fill=\"#000000\" fill-rule=\"evenodd\" fill-opacity=\"1\" /><path clip-path=\"url(#clip390)\" d=\"M 0 0 M2182.81 1517.93 L2182.81 1503.9 L2187.07 1503.9 L2187.07 1539.92 L2182.81 1539.92 L2182.81 1536.03 Q2181.47 1538.35 2179.41 1539.48 Q2177.37 1540.59 2174.5 1540.59 Q2169.8 1540.59 2166.84 1536.84 Q2163.9 1533.09 2163.9 1526.98 Q2163.9 1520.87 2166.84 1517.12 Q2169.8 1513.37 2174.5 1513.37 Q2177.37 1513.37 2179.41 1514.5 Q2181.47 1515.61 2182.81 1517.93 M2168.3 1526.98 Q2168.3 1531.68 2170.22 1534.36 Q2172.16 1537.03 2175.54 1537.03 Q2178.92 1537.03 2180.86 1534.36 Q2182.81 1531.68 2182.81 1526.98 Q2182.81 1522.28 2180.86 1519.62 Q2178.92 1516.93 2175.54 1516.93 Q2172.16 1516.93 2170.22 1519.62 Q2168.3 1522.28 2168.3 1526.98 Z\" fill=\"#000000\" fill-rule=\"evenodd\" fill-opacity=\"1\" /><path clip-path=\"url(#clip390)\" d=\"M 0 0 M2204.66 1503.9 L2204.66 1507.44 L2200.59 1507.44 Q2198.3 1507.44 2197.39 1508.37 Q2196.51 1509.3 2196.51 1511.7 L2196.51 1513.99 L2203.53 1513.99 L2203.53 1517.3 L2196.51 1517.3 L2196.51 1539.92 L2192.23 1539.92 L2192.23 1517.3 L2188.16 1517.3 L2188.16 1513.99 L2192.23 1513.99 L2192.23 1512.19 Q2192.23 1507.86 2194.24 1505.89 Q2196.26 1503.9 2200.63 1503.9 L2204.66 1503.9 Z\" fill=\"#000000\" fill-rule=\"evenodd\" fill-opacity=\"1\" /><path clip-path=\"url(#clip390)\" d=\"M 0 0 M193.528 1433.67 Q189.917 1433.67 188.089 1437.24 Q186.283 1440.78 186.283 1447.91 Q186.283 1455.01 188.089 1458.58 Q189.917 1462.12 193.528 1462.12 Q197.163 1462.12 198.968 1458.58 Q200.797 1455.01 200.797 1447.91 Q200.797 1440.78 198.968 1437.24 Q197.163 1433.67 193.528 1433.67 M193.528 1429.97 Q199.338 1429.97 202.394 1434.57 Q205.473 1439.16 205.473 1447.91 Q205.473 1456.63 202.394 1461.24 Q199.338 1465.82 193.528 1465.82 Q187.718 1465.82 184.639 1461.24 Q181.584 1456.63 181.584 1447.91 Q181.584 1439.16 184.639 1434.57 Q187.718 1429.97 193.528 1429.97 Z\" fill=\"#000000\" fill-rule=\"evenodd\" fill-opacity=\"1\" /><path clip-path=\"url(#clip390)\" d=\"M 0 0 M131.538 1242.06 L139.177 1242.06 L139.177 1215.69 L130.867 1217.36 L130.867 1213.1 L139.13 1211.43 L143.806 1211.43 L143.806 1242.06 L151.445 1242.06 L151.445 1245.99 L131.538 1245.99 L131.538 1242.06 Z\" fill=\"#000000\" fill-rule=\"evenodd\" fill-opacity=\"1\" /><path clip-path=\"url(#clip390)\" d=\"M 0 0 M166.515 1214.51 Q162.903 1214.51 161.075 1218.07 Q159.269 1221.62 159.269 1228.75 Q159.269 1235.85 161.075 1239.42 Q162.903 1242.96 166.515 1242.96 Q170.149 1242.96 171.954 1239.42 Q173.783 1235.85 173.783 1228.75 Q173.783 1221.62 171.954 1218.07 Q170.149 1214.51 166.515 1214.51 M166.515 1210.81 Q172.325 1210.81 175.38 1215.41 Q178.459 1220 178.459 1228.75 Q178.459 1237.47 175.38 1242.08 Q172.325 1246.66 166.515 1246.66 Q160.704 1246.66 157.626 1242.08 Q154.57 1237.47 154.57 1228.75 Q154.57 1220 157.626 1215.41 Q160.704 1210.81 166.515 1210.81 Z\" fill=\"#000000\" fill-rule=\"evenodd\" fill-opacity=\"1\" /><path clip-path=\"url(#clip390)\" d=\"M 0 0 M193.528 1214.51 Q189.917 1214.51 188.089 1218.07 Q186.283 1221.62 186.283 1228.75 Q186.283 1235.85 188.089 1239.42 Q189.917 1242.96 193.528 1242.96 Q197.163 1242.96 198.968 1239.42 Q200.797 1235.85 200.797 1228.75 Q200.797 1221.62 198.968 1218.07 Q197.163 1214.51 193.528 1214.51 M193.528 1210.81 Q199.338 1210.81 202.394 1215.41 Q205.473 1220 205.473 1228.75 Q205.473 1237.47 202.394 1242.08 Q199.338 1246.66 193.528 1246.66 Q187.718 1246.66 184.639 1242.08 Q181.584 1237.47 181.584 1228.75 Q181.584 1220 184.639 1215.41 Q187.718 1210.81 193.528 1210.81 Z\" fill=\"#000000\" fill-rule=\"evenodd\" fill-opacity=\"1\" /><path clip-path=\"url(#clip390)\" d=\"M 0 0 M135.126 1022.89 L151.445 1022.89 L151.445 1026.83 L129.501 1026.83 L129.501 1022.89 Q132.163 1020.14 136.746 1015.51 Q141.353 1010.86 142.533 1009.51 Q144.779 1006.99 145.658 1005.25 Q146.561 1003.49 146.561 1001.8 Q146.561 999.05 144.617 997.314 Q142.695 995.578 139.593 995.578 Q137.394 995.578 134.941 996.342 Q132.51 997.106 129.732 998.657 L129.732 993.934 Q132.556 992.8 135.01 992.221 Q137.464 991.643 139.501 991.643 Q144.871 991.643 148.066 994.328 Q151.26 997.013 151.26 1001.5 Q151.26 1003.63 150.45 1005.55 Q149.663 1007.45 147.556 1010.05 Q146.978 1010.72 143.876 1013.93 Q140.774 1017.13 135.126 1022.89 Z\" fill=\"#000000\" fill-rule=\"evenodd\" fill-opacity=\"1\" /><path clip-path=\"url(#clip390)\" d=\"M 0 0 M166.515 995.346 Q162.903 995.346 161.075 998.911 Q159.269 1002.45 159.269 1009.58 Q159.269 1016.69 161.075 1020.25 Q162.903 1023.8 166.515 1023.8 Q170.149 1023.8 171.954 1020.25 Q173.783 1016.69 173.783 1009.58 Q173.783 1002.45 171.954 998.911 Q170.149 995.346 166.515 995.346 M166.515 991.643 Q172.325 991.643 175.38 996.249 Q178.459 1000.83 178.459 1009.58 Q178.459 1018.31 175.38 1022.92 Q172.325 1027.5 166.515 1027.5 Q160.704 1027.5 157.626 1022.92 Q154.57 1018.31 154.57 1009.58 Q154.57 1000.83 157.626 996.249 Q160.704 991.643 166.515 991.643 Z\" fill=\"#000000\" fill-rule=\"evenodd\" fill-opacity=\"1\" /><path clip-path=\"url(#clip390)\" d=\"M 0 0 M193.528 995.346 Q189.917 995.346 188.089 998.911 Q186.283 1002.45 186.283 1009.58 Q186.283 1016.69 188.089 1020.25 Q189.917 1023.8 193.528 1023.8 Q197.163 1023.8 198.968 1020.25 Q200.797 1016.69 200.797 1009.58 Q200.797 1002.45 198.968 998.911 Q197.163 995.346 193.528 995.346 M193.528 991.643 Q199.338 991.643 202.394 996.249 Q205.473 1000.83 205.473 1009.58 Q205.473 1018.31 202.394 1022.92 Q199.338 1027.5 193.528 1027.5 Q187.718 1027.5 184.639 1022.92 Q181.584 1018.31 181.584 1009.58 Q181.584 1000.83 184.639 996.249 Q187.718 991.643 193.528 991.643 Z\" fill=\"#000000\" fill-rule=\"evenodd\" fill-opacity=\"1\" /><path clip-path=\"url(#clip390)\" d=\"M 0 0 M144.316 789.031 Q147.672 789.748 149.547 792.017 Q151.445 794.286 151.445 797.619 Q151.445 802.735 147.927 805.535 Q144.408 808.336 137.927 808.336 Q135.751 808.336 133.436 807.897 Q131.144 807.48 128.691 806.623 L128.691 802.11 Q130.635 803.244 132.95 803.822 Q135.265 804.401 137.788 804.401 Q142.186 804.401 144.478 802.665 Q146.792 800.929 146.792 797.619 Q146.792 794.563 144.64 792.85 Q142.51 791.114 138.691 791.114 L134.663 791.114 L134.663 787.272 L138.876 787.272 Q142.325 787.272 144.154 785.906 Q145.982 784.517 145.982 781.924 Q145.982 779.262 144.084 777.85 Q142.209 776.415 138.691 776.415 Q136.769 776.415 134.57 776.832 Q132.371 777.249 129.732 778.128 L129.732 773.962 Q132.394 773.221 134.709 772.85 Q137.047 772.48 139.107 772.48 Q144.431 772.48 147.533 774.911 Q150.635 777.318 150.635 781.438 Q150.635 784.309 148.992 786.299 Q147.348 788.267 144.316 789.031 Z\" fill=\"#000000\" fill-rule=\"evenodd\" fill-opacity=\"1\" /><path clip-path=\"url(#clip390)\" d=\"M 0 0 M166.515 776.184 Q162.903 776.184 161.075 779.749 Q159.269 783.29 159.269 790.42 Q159.269 797.526 161.075 801.091 Q162.903 804.633 166.515 804.633 Q170.149 804.633 171.954 801.091 Q173.783 797.526 173.783 790.42 Q173.783 783.29 171.954 779.749 Q170.149 776.184 166.515 776.184 M166.515 772.48 Q172.325 772.48 175.38 777.087 Q178.459 781.67 178.459 790.42 Q178.459 799.147 175.38 803.753 Q172.325 808.336 166.515 808.336 Q160.704 808.336 157.626 803.753 Q154.57 799.147 154.57 790.42 Q154.57 781.67 157.626 777.087 Q160.704 772.48 166.515 772.48 Z\" fill=\"#000000\" fill-rule=\"evenodd\" fill-opacity=\"1\" /><path clip-path=\"url(#clip390)\" d=\"M 0 0 M193.528 776.184 Q189.917 776.184 188.089 779.749 Q186.283 783.29 186.283 790.42 Q186.283 797.526 188.089 801.091 Q189.917 804.633 193.528 804.633 Q197.163 804.633 198.968 801.091 Q200.797 797.526 200.797 790.42 Q200.797 783.29 198.968 779.749 Q197.163 776.184 193.528 776.184 M193.528 772.48 Q199.338 772.48 202.394 777.087 Q205.473 781.67 205.473 790.42 Q205.473 799.147 202.394 803.753 Q199.338 808.336 193.528 808.336 Q187.718 808.336 184.639 803.753 Q181.584 799.147 181.584 790.42 Q181.584 781.67 184.639 777.087 Q187.718 772.48 193.528 772.48 Z\" fill=\"#000000\" fill-rule=\"evenodd\" fill-opacity=\"1\" /><path clip-path=\"url(#clip390)\" d=\"M 0 0 M141.862 558.016 L130.056 576.465 L141.862 576.465 L141.862 558.016 M140.635 553.942 L146.515 553.942 L146.515 576.465 L151.445 576.465 L151.445 580.354 L146.515 580.354 L146.515 588.502 L141.862 588.502 L141.862 580.354 L126.26 580.354 L126.26 575.84 L140.635 553.942 Z\" fill=\"#000000\" fill-rule=\"evenodd\" fill-opacity=\"1\" /><path clip-path=\"url(#clip390)\" d=\"M 0 0 M166.515 557.021 Q162.903 557.021 161.075 560.586 Q159.269 564.128 159.269 571.257 Q159.269 578.364 161.075 581.928 Q162.903 585.47 166.515 585.47 Q170.149 585.47 171.954 581.928 Q173.783 578.364 173.783 571.257 Q173.783 564.128 171.954 560.586 Q170.149 557.021 166.515 557.021 M166.515 553.317 Q172.325 553.317 175.38 557.924 Q178.459 562.507 178.459 571.257 Q178.459 579.984 175.38 584.59 Q172.325 589.174 166.515 589.174 Q160.704 589.174 157.626 584.59 Q154.57 579.984 154.57 571.257 Q154.57 562.507 157.626 557.924 Q160.704 553.317 166.515 553.317 Z\" fill=\"#000000\" fill-rule=\"evenodd\" fill-opacity=\"1\" /><path clip-path=\"url(#clip390)\" d=\"M 0 0 M193.528 557.021 Q189.917 557.021 188.089 560.586 Q186.283 564.128 186.283 571.257 Q186.283 578.364 188.089 581.928 Q189.917 585.47 193.528 585.47 Q197.163 585.47 198.968 581.928 Q200.797 578.364 200.797 571.257 Q200.797 564.128 198.968 560.586 Q197.163 557.021 193.528 557.021 M193.528 553.317 Q199.338 553.317 202.394 557.924 Q205.473 562.507 205.473 571.257 Q205.473 579.984 202.394 584.59 Q199.338 589.174 193.528 589.174 Q187.718 589.174 184.639 584.59 Q181.584 579.984 181.584 571.257 Q181.584 562.507 184.639 557.924 Q187.718 553.317 193.528 553.317 Z\" fill=\"#000000\" fill-rule=\"evenodd\" fill-opacity=\"1\" /><path clip-path=\"url(#clip390)\" d=\"M 0 0 M130.543 334.78 L148.899 334.78 L148.899 338.715 L134.825 338.715 L134.825 347.187 Q135.843 346.84 136.862 346.678 Q137.88 346.493 138.899 346.493 Q144.686 346.493 148.066 349.664 Q151.445 352.835 151.445 358.252 Q151.445 363.83 147.973 366.932 Q144.501 370.011 138.181 370.011 Q136.005 370.011 133.737 369.641 Q131.492 369.27 129.084 368.53 L129.084 363.83 Q131.168 364.965 133.39 365.52 Q135.612 366.076 138.089 366.076 Q142.093 366.076 144.431 363.969 Q146.769 361.863 146.769 358.252 Q146.769 354.641 144.431 352.534 Q142.093 350.428 138.089 350.428 Q136.214 350.428 134.339 350.844 Q132.487 351.261 130.543 352.141 L130.543 334.78 Z\" fill=\"#000000\" fill-rule=\"evenodd\" fill-opacity=\"1\" /><path clip-path=\"url(#clip390)\" d=\"M 0 0 M166.515 337.858 Q162.903 337.858 161.075 341.423 Q159.269 344.965 159.269 352.094 Q159.269 359.201 161.075 362.766 Q162.903 366.307 166.515 366.307 Q170.149 366.307 171.954 362.766 Q173.783 359.201 173.783 352.094 Q173.783 344.965 171.954 341.423 Q170.149 337.858 166.515 337.858 M166.515 334.155 Q172.325 334.155 175.38 338.761 Q178.459 343.344 178.459 352.094 Q178.459 360.821 175.38 365.428 Q172.325 370.011 166.515 370.011 Q160.704 370.011 157.626 365.428 Q154.57 360.821 154.57 352.094 Q154.57 343.344 157.626 338.761 Q160.704 334.155 166.515 334.155 Z\" fill=\"#000000\" fill-rule=\"evenodd\" fill-opacity=\"1\" /><path clip-path=\"url(#clip390)\" d=\"M 0 0 M193.528 337.858 Q189.917 337.858 188.089 341.423 Q186.283 344.965 186.283 352.094 Q186.283 359.201 188.089 362.766 Q189.917 366.307 193.528 366.307 Q197.163 366.307 198.968 362.766 Q200.797 359.201 200.797 352.094 Q200.797 344.965 198.968 341.423 Q197.163 337.858 193.528 337.858 M193.528 334.155 Q199.338 334.155 202.394 338.761 Q205.473 343.344 205.473 352.094 Q205.473 360.821 202.394 365.428 Q199.338 370.011 193.528 370.011 Q187.718 370.011 184.639 365.428 Q181.584 360.821 181.584 352.094 Q181.584 343.344 184.639 338.761 Q187.718 334.155 193.528 334.155 Z\" fill=\"#000000\" fill-rule=\"evenodd\" fill-opacity=\"1\" /><path clip-path=\"url(#clip390)\" d=\"M 0 0 M139.917 131.034 Q136.769 131.034 134.918 133.186 Q133.089 135.339 133.089 139.089 Q133.089 142.816 134.918 144.992 Q136.769 147.145 139.917 147.145 Q143.066 147.145 144.894 144.992 Q146.746 142.816 146.746 139.089 Q146.746 135.339 144.894 133.186 Q143.066 131.034 139.917 131.034 M149.2 116.381 L149.2 120.64 Q147.441 119.807 145.635 119.367 Q143.853 118.927 142.093 118.927 Q137.464 118.927 135.01 122.052 Q132.58 125.177 132.232 131.497 Q133.598 129.483 135.658 128.418 Q137.718 127.33 140.195 127.33 Q145.404 127.33 148.413 130.501 Q151.445 133.649 151.445 139.089 Q151.445 144.413 148.297 147.631 Q145.149 150.848 139.917 150.848 Q133.922 150.848 130.751 146.265 Q127.58 141.659 127.58 132.932 Q127.58 124.737 131.468 119.876 Q135.357 114.992 141.908 114.992 Q143.667 114.992 145.45 115.339 Q147.255 115.686 149.2 116.381 Z\" fill=\"#000000\" fill-rule=\"evenodd\" fill-opacity=\"1\" /><path clip-path=\"url(#clip390)\" d=\"M 0 0 M166.515 118.696 Q162.903 118.696 161.075 122.261 Q159.269 125.802 159.269 132.932 Q159.269 140.038 161.075 143.603 Q162.903 147.145 166.515 147.145 Q170.149 147.145 171.954 143.603 Q173.783 140.038 173.783 132.932 Q173.783 125.802 171.954 122.261 Q170.149 118.696 166.515 118.696 M166.515 114.992 Q172.325 114.992 175.38 119.599 Q178.459 124.182 178.459 132.932 Q178.459 141.659 175.38 146.265 Q172.325 150.848 166.515 150.848 Q160.704 150.848 157.626 146.265 Q154.57 141.659 154.57 132.932 Q154.57 124.182 157.626 119.599 Q160.704 114.992 166.515 114.992 Z\" fill=\"#000000\" fill-rule=\"evenodd\" fill-opacity=\"1\" /><path clip-path=\"url(#clip390)\" d=\"M 0 0 M193.528 118.696 Q189.917 118.696 188.089 122.261 Q186.283 125.802 186.283 132.932 Q186.283 140.038 188.089 143.603 Q189.917 147.145 193.528 147.145 Q197.163 147.145 198.968 143.603 Q200.797 140.038 200.797 132.932 Q200.797 125.802 198.968 122.261 Q197.163 118.696 193.528 118.696 M193.528 114.992 Q199.338 114.992 202.394 119.599 Q205.473 124.182 205.473 132.932 Q205.473 141.659 202.394 146.265 Q199.338 150.848 193.528 150.848 Q187.718 150.848 184.639 146.265 Q181.584 141.659 181.584 132.932 Q181.584 124.182 184.639 119.599 Q187.718 114.992 193.528 114.992 Z\" fill=\"#000000\" fill-rule=\"evenodd\" fill-opacity=\"1\" /><path clip-path=\"url(#clip390)\" d=\"M 0 0 M907.696 12.096 L942.453 12.096 L942.453 18.9825 L915.879 18.9825 L915.879 36.8065 L939.86 36.8065 L939.86 43.6931 L915.879 43.6931 L915.879 72.576 L907.696 72.576 L907.696 12.096 Z\" fill=\"#000000\" fill-rule=\"evenodd\" fill-opacity=\"1\" /><path clip-path=\"url(#clip390)\" d=\"M 0 0 M964.895 32.4315 Q958.9 32.4315 955.416 37.1306 Q951.932 41.7891 951.932 49.9314 Q951.932 58.0738 955.375 62.7728 Q958.859 67.4314 964.895 67.4314 Q970.85 67.4314 974.334 62.7323 Q977.817 58.0333 977.817 49.9314 Q977.817 41.8701 974.334 37.1711 Q970.85 32.4315 964.895 32.4315 M964.895 26.1121 Q974.617 26.1121 980.167 32.4315 Q985.717 38.7509 985.717 49.9314 Q985.717 61.0714 980.167 67.4314 Q974.617 73.7508 964.895 73.7508 Q955.132 73.7508 949.583 67.4314 Q944.073 61.0714 944.073 49.9314 Q944.073 38.7509 949.583 32.4315 Q955.132 26.1121 964.895 26.1121 Z\" fill=\"#000000\" fill-rule=\"evenodd\" fill-opacity=\"1\" /><path clip-path=\"url(#clip390)\" d=\"M 0 0 M1019.83 34.1734 Q1018.57 33.4443 1017.07 33.1202 Q1015.61 32.7556 1013.83 32.7556 Q1007.51 32.7556 1004.11 36.8875 Q1000.75 40.9789 1000.75 48.6757 L1000.75 72.576 L993.251 72.576 L993.251 27.2059 L1000.75 27.2059 L1000.75 34.2544 Q1003.1 30.1225 1006.86 28.1376 Q1010.63 26.1121 1016.02 26.1121 Q1016.79 26.1121 1017.72 26.2337 Q1018.65 26.3147 1019.78 26.5172 L1019.83 34.1734 Z\" fill=\"#000000\" fill-rule=\"evenodd\" fill-opacity=\"1\" /><path clip-path=\"url(#clip390)\" d=\"M 0 0 M1061.51 35.9153 Q1064.3 30.8922 1068.19 28.5022 Q1072.08 26.1121 1077.35 26.1121 Q1084.44 26.1121 1088.29 31.0947 Q1092.13 36.0368 1092.13 45.1919 L1092.13 72.576 L1084.64 72.576 L1084.64 45.4349 Q1084.64 38.913 1082.33 35.7533 Q1080.02 32.5936 1075.28 32.5936 Q1069.49 32.5936 1066.13 36.4419 Q1062.76 40.2903 1062.76 46.9338 L1062.76 72.576 L1055.27 72.576 L1055.27 45.4349 Q1055.27 38.8725 1052.96 35.7533 Q1050.65 32.5936 1045.83 32.5936 Q1040.12 32.5936 1036.76 36.4824 Q1033.4 40.3308 1033.4 46.9338 L1033.4 72.576 L1025.9 72.576 L1025.9 27.2059 L1033.4 27.2059 L1033.4 34.2544 Q1035.95 30.082 1039.51 28.0971 Q1043.08 26.1121 1047.98 26.1121 Q1052.92 26.1121 1056.36 28.6237 Q1059.85 31.1352 1061.51 35.9153 Z\" fill=\"#000000\" fill-rule=\"evenodd\" fill-opacity=\"1\" /><path clip-path=\"url(#clip390)\" d=\"M 0 0 M1120.57 49.7694 Q1111.54 49.7694 1108.05 51.8354 Q1104.57 53.9013 1104.57 58.8839 Q1104.57 62.8538 1107.16 65.2034 Q1109.8 67.5124 1114.29 67.5124 Q1120.49 67.5124 1124.22 63.1374 Q1127.98 58.7219 1127.98 51.4303 L1127.98 49.7694 L1120.57 49.7694 M1135.44 46.6907 L1135.44 72.576 L1127.98 72.576 L1127.98 65.6895 Q1125.43 69.8214 1121.62 71.8063 Q1117.82 73.7508 1112.31 73.7508 Q1105.34 73.7508 1101.21 69.8619 Q1097.12 65.9325 1097.12 59.3701 Q1097.12 51.7138 1102.22 47.825 Q1107.37 43.9361 1117.53 43.9361 L1127.98 43.9361 L1127.98 43.2069 Q1127.98 38.0623 1124.58 35.2672 Q1121.22 32.4315 1115.1 32.4315 Q1111.21 32.4315 1107.53 33.3632 Q1103.84 34.295 1100.44 36.1584 L1100.44 29.2718 Q1104.53 27.692 1108.38 26.9223 Q1112.23 26.1121 1115.87 26.1121 Q1125.72 26.1121 1130.58 31.2163 Q1135.44 36.3204 1135.44 46.6907 Z\" fill=\"#000000\" fill-rule=\"evenodd\" fill-opacity=\"1\" /><path clip-path=\"url(#clip390)\" d=\"M 0 0 M1150.63 14.324 L1150.63 27.2059 L1165.98 27.2059 L1165.98 32.9987 L1150.63 32.9987 L1150.63 57.6282 Q1150.63 63.1779 1152.13 64.7578 Q1153.67 66.3376 1158.33 66.3376 L1165.98 66.3376 L1165.98 72.576 L1158.33 72.576 Q1149.7 72.576 1146.42 69.3758 Q1143.13 66.1351 1143.13 57.6282 L1143.13 32.9987 L1137.67 32.9987 L1137.67 27.2059 L1143.13 27.2059 L1143.13 14.324 L1150.63 14.324 Z\" fill=\"#000000\" fill-rule=\"evenodd\" fill-opacity=\"1\" /><path clip-path=\"url(#clip390)\" d=\"M 0 0 M1200.5 12.096 L1235.25 12.096 L1235.25 18.9825 L1208.68 18.9825 L1208.68 36.8065 L1232.66 36.8065 L1232.66 43.6931 L1208.68 43.6931 L1208.68 72.576 L1200.5 72.576 L1200.5 12.096 Z\" fill=\"#000000\" fill-rule=\"evenodd\" fill-opacity=\"1\" /><path clip-path=\"url(#clip390)\" d=\"M 0 0 M1237.03 27.2059 L1244.49 27.2059 L1244.49 72.576 L1237.03 72.576 L1237.03 27.2059 M1237.03 9.54393 L1244.49 9.54393 L1244.49 18.9825 L1237.03 18.9825 L1237.03 9.54393 Z\" fill=\"#000000\" fill-rule=\"evenodd\" fill-opacity=\"1\" /><path clip-path=\"url(#clip390)\" d=\"M 0 0 M1252.31 9.54393 L1259.76 9.54393 L1259.76 72.576 L1252.31 72.576 L1252.31 9.54393 Z\" fill=\"#000000\" fill-rule=\"evenodd\" fill-opacity=\"1\" /><path clip-path=\"url(#clip390)\" d=\"M 0 0 M1306.39 48.0275 L1306.39 51.6733 L1272.12 51.6733 Q1272.6 59.3701 1276.73 63.421 Q1280.91 67.4314 1288.32 67.4314 Q1292.61 67.4314 1296.62 66.3781 Q1300.67 65.3249 1304.64 63.2184 L1304.64 70.267 Q1300.63 71.9684 1296.42 72.8596 Q1292.21 73.7508 1287.87 73.7508 Q1277.02 73.7508 1270.66 67.4314 Q1264.34 61.1119 1264.34 50.3365 Q1264.34 39.1965 1270.33 32.6746 Q1276.37 26.1121 1286.58 26.1121 Q1295.73 26.1121 1301.04 32.0264 Q1306.39 37.9003 1306.39 48.0275 M1298.93 45.84 Q1298.85 39.7232 1295.49 36.0774 Q1292.17 32.4315 1286.66 32.4315 Q1280.42 32.4315 1276.65 35.9558 Q1272.93 39.4801 1272.36 45.8805 L1298.93 45.84 Z\" fill=\"#000000\" fill-rule=\"evenodd\" fill-opacity=\"1\" /><path clip-path=\"url(#clip390)\" d=\"M 0 0 M1377.16 14.0809 L1377.16 22.0612 Q1372.5 19.8332 1368.37 18.7395 Q1364.23 17.6457 1360.38 17.6457 Q1353.7 17.6457 1350.05 20.2383 Q1346.45 22.8309 1346.45 27.611 Q1346.45 31.6214 1348.84 33.6873 Q1351.27 35.7128 1357.99 36.9686 L1362.94 37.9813 Q1372.09 39.7232 1376.43 44.1387 Q1380.8 48.5136 1380.8 55.8863 Q1380.8 64.6767 1374.89 69.2137 Q1369.01 73.7508 1357.63 73.7508 Q1353.34 73.7508 1348.48 72.7785 Q1343.65 71.8063 1338.47 69.9024 L1338.47 61.4765 Q1343.45 64.2716 1348.23 65.6895 Q1353.01 67.1073 1357.63 67.1073 Q1364.64 67.1073 1368.45 64.3527 Q1372.25 61.598 1372.25 56.4939 Q1372.25 52.0379 1369.5 49.5264 Q1366.79 47.0148 1360.55 45.759 L1355.56 44.7868 Q1346.41 42.9639 1342.32 39.075 Q1338.23 35.1862 1338.23 28.2591 Q1338.23 20.2383 1343.86 15.6203 Q1349.53 11.0023 1359.45 11.0023 Q1363.71 11.0023 1368.12 11.7719 Q1372.54 12.5416 1377.16 14.0809 Z\" fill=\"#000000\" fill-rule=\"evenodd\" fill-opacity=\"1\" /><path clip-path=\"url(#clip390)\" d=\"M 0 0 M1388.62 27.2059 L1396.07 27.2059 L1396.07 72.576 L1388.62 72.576 L1388.62 27.2059 M1388.62 9.54393 L1396.07 9.54393 L1396.07 18.9825 L1388.62 18.9825 L1388.62 9.54393 Z\" fill=\"#000000\" fill-rule=\"evenodd\" fill-opacity=\"1\" /><path clip-path=\"url(#clip390)\" d=\"M 0 0 M1400.65 27.2059 L1436.06 27.2059 L1436.06 34.0114 L1408.02 66.6212 L1436.06 66.6212 L1436.06 72.576 L1399.64 72.576 L1399.64 65.7705 L1427.67 33.1607 L1400.65 33.1607 L1400.65 27.2059 Z\" fill=\"#000000\" fill-rule=\"evenodd\" fill-opacity=\"1\" /><path clip-path=\"url(#clip390)\" d=\"M 0 0 M1482.68 48.0275 L1482.68 51.6733 L1448.41 51.6733 Q1448.9 59.3701 1453.03 63.421 Q1457.2 67.4314 1464.61 67.4314 Q1468.91 67.4314 1472.92 66.3781 Q1476.97 65.3249 1480.94 63.2184 L1480.94 70.267 Q1476.93 71.9684 1472.72 72.8596 Q1468.5 73.7508 1464.17 73.7508 Q1453.31 73.7508 1446.95 67.4314 Q1440.63 61.1119 1440.63 50.3365 Q1440.63 39.1965 1446.63 32.6746 Q1452.66 26.1121 1462.87 26.1121 Q1472.03 26.1121 1477.33 32.0264 Q1482.68 37.9003 1482.68 48.0275 M1475.23 45.84 Q1475.15 39.7232 1471.78 36.0774 Q1468.46 32.4315 1462.95 32.4315 Q1456.72 32.4315 1452.95 35.9558 Q1449.22 39.4801 1448.65 45.8805 L1475.23 45.84 Z\" fill=\"#000000\" fill-rule=\"evenodd\" fill-opacity=\"1\" /><path clip-path=\"url(#clip390)\" d=\"M 0 0 M1534.78 9.62495 Q1529.35 18.942 1526.71 28.0566 Q1524.08 37.1711 1524.08 46.5287 Q1524.08 55.8863 1526.71 65.0818 Q1529.39 74.2369 1534.78 83.5134 L1528.29 83.5134 Q1522.22 73.9938 1519.18 64.7983 Q1516.18 55.6027 1516.18 46.5287 Q1516.18 37.4952 1519.18 28.3401 Q1522.18 19.1851 1528.29 9.62495 L1534.78 9.62495 Z\" fill=\"#000000\" fill-rule=\"evenodd\" fill-opacity=\"1\" /><path clip-path=\"url(#clip390)\" d=\"M 0 0 M1542.92 12.096 L1555.11 12.096 L1570.55 53.2532 L1586.06 12.096 L1598.25 12.096 L1598.25 72.576 L1590.27 72.576 L1590.27 19.4686 L1574.68 60.9499 L1566.45 60.9499 L1550.86 19.4686 L1550.86 72.576 L1542.92 72.576 L1542.92 12.096 Z\" fill=\"#000000\" fill-rule=\"evenodd\" fill-opacity=\"1\" /><path clip-path=\"url(#clip390)\" d=\"M 0 0 M1614.58 43.6931 L1614.58 65.8515 L1627.7 65.8515 Q1634.31 65.8515 1637.47 63.1374 Q1640.67 60.3828 1640.67 54.752 Q1640.67 49.0808 1637.47 46.4072 Q1634.31 43.6931 1627.7 43.6931 L1614.58 43.6931 M1614.58 18.8205 L1614.58 37.0496 L1626.69 37.0496 Q1632.69 37.0496 1635.6 34.8216 Q1638.56 32.5531 1638.56 27.935 Q1638.56 23.3575 1635.6 21.089 Q1632.69 18.8205 1626.69 18.8205 L1614.58 18.8205 M1606.4 12.096 L1627.3 12.096 Q1636.66 12.096 1641.72 15.9849 Q1646.78 19.8737 1646.78 27.0438 Q1646.78 32.5936 1644.19 35.8748 Q1641.6 39.156 1636.58 39.9662 Q1642.61 41.2625 1645.93 45.3944 Q1649.3 49.4858 1649.3 55.6432 Q1649.3 63.745 1643.79 68.1605 Q1638.28 72.576 1628.11 72.576 L1606.4 72.576 L1606.4 12.096 Z\" fill=\"#000000\" fill-rule=\"evenodd\" fill-opacity=\"1\" /><path clip-path=\"url(#clip390)\" d=\"M 0 0 M1655.94 9.62495 L1662.42 9.62495 Q1668.5 19.1851 1671.49 28.3401 Q1674.53 37.4952 1674.53 46.5287 Q1674.53 55.6027 1671.49 64.7983 Q1668.5 73.9938 1662.42 83.5134 L1655.94 83.5134 Q1661.33 74.2369 1663.96 65.0818 Q1666.63 55.8863 1666.63 46.5287 Q1666.63 37.1711 1663.96 28.0566 Q1661.33 18.942 1655.94 9.62495 Z\" fill=\"#000000\" fill-rule=\"evenodd\" fill-opacity=\"1\" /><path clip-path=\"url(#clip390)\" d=\"M 0 0 M40.4842 846.751 L40.4842 837.17 L72.8219 825.044 L40.4842 812.853 L40.4842 803.273 L88.0042 803.273 L88.0042 809.543 L46.277 809.543 L78.8694 821.797 L78.8694 828.258 L46.277 840.512 L88.0042 840.512 L88.0042 846.751 L40.4842 846.751 Z\" fill=\"#000000\" fill-rule=\"evenodd\" fill-opacity=\"1\" /><path clip-path=\"url(#clip390)\" d=\"M 0 0 M65.3104 790.446 L82.7206 790.446 L82.7206 780.134 Q82.7206 774.946 80.5881 772.463 Q78.4238 769.949 73.9996 769.949 Q69.5436 769.949 67.4429 772.463 Q65.3104 774.946 65.3104 780.134 L65.3104 790.446 M45.7677 790.446 L60.0905 790.446 L60.0905 780.929 Q60.0905 776.219 58.34 773.927 Q56.5576 771.604 52.9291 771.604 Q49.3325 771.604 47.5501 773.927 Q45.7677 776.219 45.7677 780.929 L45.7677 790.446 M40.4842 796.876 L40.4842 780.452 Q40.4842 773.1 43.5397 769.121 Q46.5952 765.143 52.2289 765.143 Q56.5894 765.143 59.1675 767.18 Q61.7456 769.217 62.3822 773.163 Q63.4007 768.421 66.6472 765.811 Q69.8619 763.169 74.6998 763.169 Q81.0655 763.169 84.5348 767.498 Q88.0042 771.826 88.0042 779.815 L88.0042 796.876 L40.4842 796.876 Z\" fill=\"#000000\" fill-rule=\"evenodd\" fill-opacity=\"1\" /><path clip-path=\"url(#clip392)\" d=\"\n",
       "M346.257 871.421 L346.257 1447.87 L568.576 1447.87 L568.576 871.421 L346.257 871.421 L346.257 871.421  Z\n",
       "  \" fill=\"#009af9\" fill-rule=\"evenodd\" fill-opacity=\"1\"/>\n",
       "<polyline clip-path=\"url(#clip392)\" style=\"stroke:#000000; stroke-width:4; stroke-opacity:1; fill:none\" points=\"\n",
       "  346.257,871.421 346.257,1447.87 568.576,1447.87 568.576,871.421 346.257,871.421 \n",
       "  \"/>\n",
       "<path clip-path=\"url(#clip392)\" d=\"\n",
       "M624.156 871.419 L624.156 1447.87 L846.476 1447.87 L846.476 871.419 L624.156 871.419 L624.156 871.419  Z\n",
       "  \" fill=\"#009af9\" fill-rule=\"evenodd\" fill-opacity=\"1\"/>\n",
       "<polyline clip-path=\"url(#clip392)\" style=\"stroke:#000000; stroke-width:4; stroke-opacity:1; fill:none\" points=\"\n",
       "  624.156,871.419 624.156,1447.87 846.476,1447.87 846.476,871.419 624.156,871.419 \n",
       "  \"/>\n",
       "<path clip-path=\"url(#clip392)\" d=\"\n",
       "M902.055 1388.91 L902.055 1447.87 L1124.37 1447.87 L1124.37 1388.91 L902.055 1388.91 L902.055 1388.91  Z\n",
       "  \" fill=\"#009af9\" fill-rule=\"evenodd\" fill-opacity=\"1\"/>\n",
       "<polyline clip-path=\"url(#clip392)\" style=\"stroke:#000000; stroke-width:4; stroke-opacity:1; fill:none\" points=\"\n",
       "  902.055,1388.91 902.055,1447.87 1124.37,1447.87 1124.37,1388.91 902.055,1388.91 \n",
       "  \"/>\n",
       "<path clip-path=\"url(#clip392)\" d=\"\n",
       "M1179.95 1427.39 L1179.95 1447.87 L1402.27 1447.87 L1402.27 1427.39 L1179.95 1427.39 L1179.95 1427.39  Z\n",
       "  \" fill=\"#009af9\" fill-rule=\"evenodd\" fill-opacity=\"1\"/>\n",
       "<polyline clip-path=\"url(#clip392)\" style=\"stroke:#000000; stroke-width:4; stroke-opacity:1; fill:none\" points=\"\n",
       "  1179.95,1427.39 1179.95,1447.87 1402.27,1447.87 1402.27,1427.39 1179.95,1427.39 \n",
       "  \"/>\n",
       "<path clip-path=\"url(#clip392)\" d=\"\n",
       "M1457.85 162.047 L1457.85 1447.87 L1680.17 1447.87 L1680.17 162.047 L1457.85 162.047 L1457.85 162.047  Z\n",
       "  \" fill=\"#009af9\" fill-rule=\"evenodd\" fill-opacity=\"1\"/>\n",
       "<polyline clip-path=\"url(#clip392)\" style=\"stroke:#000000; stroke-width:4; stroke-opacity:1; fill:none\" points=\"\n",
       "  1457.85,162.047 1457.85,1447.87 1680.17,1447.87 1680.17,162.047 1457.85,162.047 \n",
       "  \"/>\n",
       "<path clip-path=\"url(#clip392)\" d=\"\n",
       "M1735.75 871.417 L1735.75 1447.87 L1958.07 1447.87 L1958.07 871.417 L1735.75 871.417 L1735.75 871.417  Z\n",
       "  \" fill=\"#009af9\" fill-rule=\"evenodd\" fill-opacity=\"1\"/>\n",
       "<polyline clip-path=\"url(#clip392)\" style=\"stroke:#000000; stroke-width:4; stroke-opacity:1; fill:none\" points=\"\n",
       "  1735.75,871.417 1735.75,1447.87 1958.07,1447.87 1958.07,871.417 1735.75,871.417 \n",
       "  \"/>\n",
       "<path clip-path=\"url(#clip392)\" d=\"\n",
       "M2013.65 1393.49 L2013.65 1447.87 L2235.97 1447.87 L2235.97 1393.49 L2013.65 1393.49 L2013.65 1393.49  Z\n",
       "  \" fill=\"#009af9\" fill-rule=\"evenodd\" fill-opacity=\"1\"/>\n",
       "<polyline clip-path=\"url(#clip392)\" style=\"stroke:#000000; stroke-width:4; stroke-opacity:1; fill:none\" points=\"\n",
       "  2013.65,1393.49 2013.65,1447.87 2235.97,1447.87 2235.97,1393.49 2013.65,1393.49 \n",
       "  \"/>\n",
       "<path clip-path=\"url(#clip390)\" d=\"\n",
       "M1958.21 327.952 L2280.76 327.952 L2280.76 206.992 L1958.21 206.992  Z\n",
       "  \" fill=\"#ffffff\" fill-rule=\"evenodd\" fill-opacity=\"1\"/>\n",
       "<polyline clip-path=\"url(#clip390)\" style=\"stroke:#000000; stroke-width:4; stroke-opacity:1; fill:none\" points=\"\n",
       "  1958.21,327.952 2280.76,327.952 2280.76,206.992 1958.21,206.992 1958.21,327.952 \n",
       "  \"/>\n",
       "<path clip-path=\"url(#clip390)\" d=\"\n",
       "M1982.21 291.664 L2126.21 291.664 L2126.21 243.28 L1982.21 243.28 L1982.21 291.664  Z\n",
       "  \" fill=\"#009af9\" fill-rule=\"evenodd\" fill-opacity=\"1\"/>\n",
       "<polyline clip-path=\"url(#clip390)\" style=\"stroke:#000000; stroke-width:4; stroke-opacity:1; fill:none\" points=\"\n",
       "  1982.21,291.664 2126.21,291.664 2126.21,243.28 1982.21,243.28 1982.21,291.664 \n",
       "  \"/>\n",
       "<path clip-path=\"url(#clip390)\" d=\"M 0 0 M2172.46 251.326 L2172.46 255.887 Q2169.79 254.613 2167.43 253.988 Q2165.07 253.363 2162.87 253.363 Q2159.05 253.363 2156.97 254.845 Q2154.91 256.326 2154.91 259.058 Q2154.91 261.349 2156.27 262.53 Q2157.66 263.687 2161.51 264.405 L2164.33 264.984 Q2169.56 265.979 2172.04 268.502 Q2174.54 271.002 2174.54 275.215 Q2174.54 280.238 2171.16 282.831 Q2167.8 285.423 2161.3 285.423 Q2158.84 285.423 2156.07 284.868 Q2153.31 284.312 2150.35 283.224 L2150.35 278.41 Q2153.2 280.007 2155.93 280.817 Q2158.66 281.627 2161.3 281.627 Q2165.3 281.627 2167.48 280.053 Q2169.65 278.479 2169.65 275.562 Q2169.65 273.016 2168.08 271.581 Q2166.53 270.146 2162.96 269.428 L2160.12 268.873 Q2154.89 267.831 2152.55 265.609 Q2150.21 263.386 2150.21 259.428 Q2150.21 254.845 2153.43 252.206 Q2156.67 249.567 2162.34 249.567 Q2164.77 249.567 2167.29 250.007 Q2169.82 250.447 2172.46 251.326 Z\" fill=\"#000000\" fill-rule=\"evenodd\" fill-opacity=\"1\" /><path clip-path=\"url(#clip390)\" d=\"M 0 0 M2179.01 258.826 L2183.27 258.826 L2183.27 284.752 L2179.01 284.752 L2179.01 258.826 M2179.01 248.734 L2183.27 248.734 L2183.27 254.127 L2179.01 254.127 L2179.01 248.734 Z\" fill=\"#000000\" fill-rule=\"evenodd\" fill-opacity=\"1\" /><path clip-path=\"url(#clip390)\" d=\"M 0 0 M2185.88 258.826 L2206.11 258.826 L2206.11 262.715 L2190.09 281.349 L2206.11 281.349 L2206.11 284.752 L2185.3 284.752 L2185.3 280.863 L2201.32 262.229 L2185.88 262.229 L2185.88 258.826 Z\" fill=\"#000000\" fill-rule=\"evenodd\" fill-opacity=\"1\" /><path clip-path=\"url(#clip390)\" d=\"M 0 0 M2232.76 270.724 L2232.76 272.808 L2213.17 272.808 Q2213.45 277.206 2215.81 279.521 Q2218.2 281.812 2222.43 281.812 Q2224.89 281.812 2227.18 281.21 Q2229.49 280.609 2231.76 279.405 L2231.76 283.433 Q2229.47 284.405 2227.06 284.914 Q2224.65 285.423 2222.18 285.423 Q2215.97 285.423 2212.34 281.812 Q2208.73 278.201 2208.73 272.044 Q2208.73 265.678 2212.15 261.951 Q2215.6 258.201 2221.44 258.201 Q2226.67 258.201 2229.7 261.581 Q2232.76 264.937 2232.76 270.724 M2228.5 269.474 Q2228.45 265.979 2226.53 263.896 Q2224.63 261.812 2221.48 261.812 Q2217.92 261.812 2215.77 263.826 Q2213.64 265.84 2213.31 269.498 L2228.5 269.474 Z\" fill=\"#000000\" fill-rule=\"evenodd\" fill-opacity=\"1\" /></svg>\n"
      ]
     },
     "execution_count": 40,
     "metadata": {},
     "output_type": "execute_result"
    }
   ],
   "source": [
    "@df df plot(:file, :size/1024^2, seriestype=:bar, title = \"Format File Size (MB)\", label=\"Size\", ylab=\"MB\")"
   ]
  },
  {
   "cell_type": "code",
   "execution_count": 41,
   "metadata": {},
   "outputs": [
    {
     "name": "stdout",
     "output_type": "stream",
     "text": [
      "First run\n",
      "CSV.jl\n",
      "  2.785704 seconds (512.69 k allocations: 874.381 MiB, 9.03% gc time)\n",
      "CSVFiles.jl\n",
      "  disabled due to time-out\n",
      "Serialization\n",
      "  2.592653 seconds (49.66 M allocations: 810.865 MiB, 10.89% gc time)\n",
      "JDF.jl\n",
      "  0.807907 seconds (180.15 k allocations: 155.762 MiB, 2.65% gc time)\n",
      "JLSO.jl\n",
      "  2.120210 seconds (49.68 M allocations: 819.987 MiB, 4.89% gc time)\n",
      "Feather.jl\n",
      "  0.670653 seconds (757.55 k allocations: 135.167 MiB, 2.98% gc time)\n",
      "JSONTables.jl arraytable\n",
      "  3.245704 seconds (27 allocations: 586.701 MiB, 2.46% gc time)\n",
      "JSONTables.jl objecttable\n",
      "  1.811115 seconds (2.92 k allocations: 263.199 MiB)\n",
      "Second run\n",
      "  2.954778 seconds (7.45 k allocations: 848.555 MiB, 11.26% gc time)\n",
      "CSVFiles.jl\n",
      "  disabled due to time-out\n",
      "Serialization\n",
      "  2.816147 seconds (49.65 M allocations: 810.172 MiB, 18.48% gc time)\n",
      "JDF.jl\n",
      "  0.642740 seconds (22.20 k allocations: 148.231 MiB, 2.92% gc time)\n",
      "JLSO.jl\n",
      "  2.060383 seconds (49.66 M allocations: 819.368 MiB, 4.84% gc time)\n",
      "Feather.jl\n",
      "  0.318256 seconds (229.35 k allocations: 107.619 MiB, 24.65% gc time)\n",
      "JSONTables.jl arraytable\n",
      "  3.252476 seconds (27 allocations: 586.701 MiB, 7.54% gc time)\n",
      "JSONTables.jl objecttable\n",
      "  1.798539 seconds (40 allocations: 263.029 MiB)\n"
     ]
    }
   ],
   "source": [
    "println(\"First run\")\n",
    "println(\"CSV.jl\")\n",
    "csvread1 = @elapsed @time CSV.read(\"bigdf1.csv\")\n",
    "println(\"CSVFiles.jl\")\n",
    "println(\"  disabled due to time-out\")\n",
    "# @time load(\"bigdf2.csv\") |> DataFrame\n",
    "println(\"Serialization\")\n",
    "serializeread1 = @elapsed @time open(deserialize, \"bigdf.bin\")\n",
    "println(\"JDF.jl\")\n",
    "jdfread1 = @elapsed @time loadjdf(\"bigdf.jdf\")\n",
    "println(\"JLSO.jl\")\n",
    "jlsoread1 = @elapsed @time JLSO.load(\"bigdf.jlso\")\n",
    "println(\"Feather.jl\")\n",
    "featherread1 = @elapsed @time Feather.materialize(\"bigdf.feather\")\n",
    "println(\"JSONTables.jl arraytable\")\n",
    "jsontablesaread1 = @elapsed @time open(jsontable, \"bigdf1.json\")\n",
    "println(\"JSONTables.jl objecttable\")\n",
    "jsontablesoread1 = @elapsed @time open(jsontable, \"bigdf2.json\")\n",
    "println(\"Second run\")\n",
    "csvread2 = @elapsed @time CSV.read(\"bigdf1.csv\")\n",
    "println(\"CSVFiles.jl\")\n",
    "println(\"  disabled due to time-out\")\n",
    "# @time load(\"bigdf2.csv\") |> DataFrame\n",
    "println(\"Serialization\")\n",
    "serializeread2 = @elapsed @time open(deserialize, \"bigdf.bin\")\n",
    "println(\"JDF.jl\")\n",
    "jdfread2 = @elapsed @time loadjdf(\"bigdf.jdf\")\n",
    "println(\"JLSO.jl\")\n",
    "jlsoread2 = @elapsed @time JLSO.load(\"bigdf.jlso\")\n",
    "println(\"Feather.jl\")\n",
    "featherread2 = @elapsed @time Feather.materialize(\"bigdf.feather\")\n",
    "println(\"JSONTables.jl arraytable\")\n",
    "jsontablesaread2 = @elapsed @time open(jsontable, \"bigdf1.json\")\n",
    "println(\"JSONTables.jl objecttable\")\n",
    "jsontablesoread2 = @elapsed @time open(jsontable, \"bigdf2.json\");"
   ]
  },
  {
   "cell_type": "code",
   "execution_count": 42,
   "metadata": {},
   "outputs": [
    {
     "data": {
      "image/svg+xml": [
       "<?xml version=\"1.0\" encoding=\"utf-8\"?>\n",
       "<svg xmlns=\"http://www.w3.org/2000/svg\" xmlns:xlink=\"http://www.w3.org/1999/xlink\" width=\"600\" height=\"400\" viewBox=\"0 0 2400 1600\">\n",
       "<defs>\n",
       "  <clipPath id=\"clip430\">\n",
       "    <rect x=\"0\" y=\"0\" width=\"2400\" height=\"1600\"/>\n",
       "  </clipPath>\n",
       "</defs>\n",
       "<path clip-path=\"url(#clip430)\" d=\"\n",
       "M0 1600 L2400 1600 L2400 0 L0 0  Z\n",
       "  \" fill=\"#ffffff\" fill-rule=\"evenodd\" fill-opacity=\"1\"/>\n",
       "<defs>\n",
       "  <clipPath id=\"clip431\">\n",
       "    <rect x=\"480\" y=\"0\" width=\"1681\" height=\"1600\"/>\n",
       "  </clipPath>\n",
       "</defs>\n",
       "<path clip-path=\"url(#clip430)\" d=\"\n",
       "M174.149 1451.89 L2352.76 1451.89 L2352.76 244.432 L174.149 244.432  Z\n",
       "  \" fill=\"#ffffff\" fill-rule=\"evenodd\" fill-opacity=\"1\"/>\n",
       "<defs>\n",
       "  <clipPath id=\"clip432\">\n",
       "    <rect x=\"174\" y=\"244\" width=\"2180\" height=\"1208\"/>\n",
       "  </clipPath>\n",
       "</defs>\n",
       "<polyline clip-path=\"url(#clip432)\" style=\"stroke:#000000; stroke-width:2; stroke-opacity:0.1; fill:none\" points=\"\n",
       "  405.174,1451.89 405.174,244.432 \n",
       "  \"/>\n",
       "<polyline clip-path=\"url(#clip432)\" style=\"stroke:#000000; stroke-width:2; stroke-opacity:0.1; fill:none\" points=\"\n",
       "  691.267,1451.89 691.267,244.432 \n",
       "  \"/>\n",
       "<polyline clip-path=\"url(#clip432)\" style=\"stroke:#000000; stroke-width:2; stroke-opacity:0.1; fill:none\" points=\"\n",
       "  977.36,1451.89 977.36,244.432 \n",
       "  \"/>\n",
       "<polyline clip-path=\"url(#clip432)\" style=\"stroke:#000000; stroke-width:2; stroke-opacity:0.1; fill:none\" points=\"\n",
       "  1263.45,1451.89 1263.45,244.432 \n",
       "  \"/>\n",
       "<polyline clip-path=\"url(#clip432)\" style=\"stroke:#000000; stroke-width:2; stroke-opacity:0.1; fill:none\" points=\"\n",
       "  1549.55,1451.89 1549.55,244.432 \n",
       "  \"/>\n",
       "<polyline clip-path=\"url(#clip432)\" style=\"stroke:#000000; stroke-width:2; stroke-opacity:0.1; fill:none\" points=\"\n",
       "  1835.64,1451.89 1835.64,244.432 \n",
       "  \"/>\n",
       "<polyline clip-path=\"url(#clip432)\" style=\"stroke:#000000; stroke-width:2; stroke-opacity:0.1; fill:none\" points=\"\n",
       "  2121.73,1451.89 2121.73,244.432 \n",
       "  \"/>\n",
       "<polyline clip-path=\"url(#clip432)\" style=\"stroke:#000000; stroke-width:2; stroke-opacity:0.1; fill:none\" points=\"\n",
       "  174.149,1417.71 2352.76,1417.71 \n",
       "  \"/>\n",
       "<polyline clip-path=\"url(#clip432)\" style=\"stroke:#000000; stroke-width:2; stroke-opacity:0.1; fill:none\" points=\"\n",
       "  174.149,1069.47 2352.76,1069.47 \n",
       "  \"/>\n",
       "<polyline clip-path=\"url(#clip432)\" style=\"stroke:#000000; stroke-width:2; stroke-opacity:0.1; fill:none\" points=\"\n",
       "  174.149,721.233 2352.76,721.233 \n",
       "  \"/>\n",
       "<polyline clip-path=\"url(#clip432)\" style=\"stroke:#000000; stroke-width:2; stroke-opacity:0.1; fill:none\" points=\"\n",
       "  174.149,372.992 2352.76,372.992 \n",
       "  \"/>\n",
       "<polyline clip-path=\"url(#clip430)\" style=\"stroke:#000000; stroke-width:4; stroke-opacity:1; fill:none\" points=\"\n",
       "  174.149,1451.89 2352.76,1451.89 \n",
       "  \"/>\n",
       "<polyline clip-path=\"url(#clip430)\" style=\"stroke:#000000; stroke-width:4; stroke-opacity:1; fill:none\" points=\"\n",
       "  174.149,1451.89 174.149,244.432 \n",
       "  \"/>\n",
       "<polyline clip-path=\"url(#clip430)\" style=\"stroke:#000000; stroke-width:4; stroke-opacity:1; fill:none\" points=\"\n",
       "  405.174,1451.89 405.174,1437.4 \n",
       "  \"/>\n",
       "<polyline clip-path=\"url(#clip430)\" style=\"stroke:#000000; stroke-width:4; stroke-opacity:1; fill:none\" points=\"\n",
       "  691.267,1451.89 691.267,1437.4 \n",
       "  \"/>\n",
       "<polyline clip-path=\"url(#clip430)\" style=\"stroke:#000000; stroke-width:4; stroke-opacity:1; fill:none\" points=\"\n",
       "  977.36,1451.89 977.36,1437.4 \n",
       "  \"/>\n",
       "<polyline clip-path=\"url(#clip430)\" style=\"stroke:#000000; stroke-width:4; stroke-opacity:1; fill:none\" points=\"\n",
       "  1263.45,1451.89 1263.45,1437.4 \n",
       "  \"/>\n",
       "<polyline clip-path=\"url(#clip430)\" style=\"stroke:#000000; stroke-width:4; stroke-opacity:1; fill:none\" points=\"\n",
       "  1549.55,1451.89 1549.55,1437.4 \n",
       "  \"/>\n",
       "<polyline clip-path=\"url(#clip430)\" style=\"stroke:#000000; stroke-width:4; stroke-opacity:1; fill:none\" points=\"\n",
       "  1835.64,1451.89 1835.64,1437.4 \n",
       "  \"/>\n",
       "<polyline clip-path=\"url(#clip430)\" style=\"stroke:#000000; stroke-width:4; stroke-opacity:1; fill:none\" points=\"\n",
       "  2121.73,1451.89 2121.73,1437.4 \n",
       "  \"/>\n",
       "<polyline clip-path=\"url(#clip430)\" style=\"stroke:#000000; stroke-width:4; stroke-opacity:1; fill:none\" points=\"\n",
       "  174.149,1417.71 200.292,1417.71 \n",
       "  \"/>\n",
       "<polyline clip-path=\"url(#clip430)\" style=\"stroke:#000000; stroke-width:4; stroke-opacity:1; fill:none\" points=\"\n",
       "  174.149,1069.47 200.292,1069.47 \n",
       "  \"/>\n",
       "<polyline clip-path=\"url(#clip430)\" style=\"stroke:#000000; stroke-width:4; stroke-opacity:1; fill:none\" points=\"\n",
       "  174.149,721.233 200.292,721.233 \n",
       "  \"/>\n",
       "<polyline clip-path=\"url(#clip430)\" style=\"stroke:#000000; stroke-width:4; stroke-opacity:1; fill:none\" points=\"\n",
       "  174.149,372.992 200.292,372.992 \n",
       "  \"/>\n",
       "<path clip-path=\"url(#clip430)\" d=\"M 0 0 M378.716 1473.46 L378.716 1478.39 Q376.355 1476.19 373.67 1475.11 Q371.008 1474.02 367.999 1474.02 Q362.073 1474.02 358.925 1477.65 Q355.777 1481.26 355.777 1488.11 Q355.777 1494.94 358.925 1498.58 Q362.073 1502.19 367.999 1502.19 Q371.008 1502.19 373.67 1501.1 Q376.355 1500.01 378.716 1497.81 L378.716 1502.7 Q376.263 1504.36 373.508 1505.2 Q370.776 1506.03 367.721 1506.03 Q359.874 1506.03 355.36 1501.24 Q350.846 1496.42 350.846 1488.11 Q350.846 1479.78 355.36 1474.99 Q359.874 1470.17 367.721 1470.17 Q370.823 1470.17 373.554 1471.01 Q376.309 1471.82 378.716 1473.46 Z\" fill=\"#000000\" fill-rule=\"evenodd\" fill-opacity=\"1\" /><path clip-path=\"url(#clip430)\" d=\"M 0 0 M404.086 1471.93 L404.086 1476.49 Q401.424 1475.22 399.063 1474.6 Q396.702 1473.97 394.503 1473.97 Q390.684 1473.97 388.6 1475.45 Q386.54 1476.93 386.54 1479.67 Q386.54 1481.96 387.906 1483.14 Q389.295 1484.3 393.137 1485.01 L395.962 1485.59 Q401.193 1486.59 403.67 1489.11 Q406.17 1491.61 406.17 1495.82 Q406.17 1500.85 402.79 1503.44 Q399.434 1506.03 392.929 1506.03 Q390.475 1506.03 387.698 1505.48 Q384.943 1504.92 381.98 1503.83 L381.98 1499.02 Q384.827 1500.61 387.559 1501.42 Q390.29 1502.23 392.929 1502.23 Q396.934 1502.23 399.11 1500.66 Q401.286 1499.09 401.286 1496.17 Q401.286 1493.62 399.712 1492.19 Q398.161 1490.75 394.596 1490.04 L391.749 1489.48 Q386.517 1488.44 384.179 1486.22 Q381.841 1483.99 381.841 1480.04 Q381.841 1475.45 385.059 1472.81 Q388.3 1470.17 393.971 1470.17 Q396.401 1470.17 398.924 1470.61 Q401.448 1471.05 404.086 1471.93 Z\" fill=\"#000000\" fill-rule=\"evenodd\" fill-opacity=\"1\" /><path clip-path=\"url(#clip430)\" d=\"M 0 0 M419.735 1505.36 L406.54 1470.8 L411.424 1470.8 L422.373 1499.9 L433.346 1470.8 L438.207 1470.8 L425.035 1505.36 L419.735 1505.36 Z\" fill=\"#000000\" fill-rule=\"evenodd\" fill-opacity=\"1\" /><path clip-path=\"url(#clip430)\" d=\"M 0 0 M437.165 1499.48 L442.049 1499.48 L442.049 1505.36 L437.165 1505.36 L437.165 1499.48 Z\" fill=\"#000000\" fill-rule=\"evenodd\" fill-opacity=\"1\" /><path clip-path=\"url(#clip430)\" d=\"M 0 0 M446.517 1479.43 L450.776 1479.43 L450.776 1505.82 Q450.776 1510.78 448.878 1513 Q447.003 1515.22 442.813 1515.22 L441.193 1515.22 L441.193 1511.61 L442.327 1511.61 Q444.758 1511.61 445.637 1510.48 Q446.517 1509.36 446.517 1505.82 L446.517 1479.43 M446.517 1469.34 L450.776 1469.34 L450.776 1474.74 L446.517 1474.74 L446.517 1469.34 Z\" fill=\"#000000\" fill-rule=\"evenodd\" fill-opacity=\"1\" /><path clip-path=\"url(#clip430)\" d=\"M 0 0 M455.244 1469.34 L459.503 1469.34 L459.503 1505.36 L455.244 1505.36 L455.244 1469.34 Z\" fill=\"#000000\" fill-rule=\"evenodd\" fill-opacity=\"1\" /><path clip-path=\"url(#clip430)\" d=\"M 0 0 M600.608 1470.8 L620.469 1470.8 L620.469 1474.74 L605.284 1474.74 L605.284 1484.92 L618.987 1484.92 L618.987 1488.86 L605.284 1488.86 L605.284 1505.36 L600.608 1505.36 L600.608 1470.8 Z\" fill=\"#000000\" fill-rule=\"evenodd\" fill-opacity=\"1\" /><path clip-path=\"url(#clip430)\" d=\"M 0 0 M644.52 1491.33 L644.52 1493.42 L624.936 1493.42 Q625.214 1497.81 627.575 1500.13 Q629.96 1502.42 634.196 1502.42 Q636.649 1502.42 638.941 1501.82 Q641.256 1501.22 643.524 1500.01 L643.524 1504.04 Q641.233 1505.01 638.825 1505.52 Q636.418 1506.03 633.941 1506.03 Q627.737 1506.03 624.103 1502.42 Q620.492 1498.81 620.492 1492.65 Q620.492 1486.29 623.918 1482.56 Q627.367 1478.81 633.2 1478.81 Q638.432 1478.81 641.464 1482.19 Q644.52 1485.55 644.52 1491.33 M640.26 1490.08 Q640.214 1486.59 638.293 1484.5 Q636.395 1482.42 633.247 1482.42 Q629.682 1482.42 627.529 1484.43 Q625.399 1486.45 625.075 1490.11 L640.26 1490.08 Z\" fill=\"#000000\" fill-rule=\"evenodd\" fill-opacity=\"1\" /><path clip-path=\"url(#clip430)\" d=\"M 0 0 M660.77 1492.33 Q655.608 1492.33 653.617 1493.51 Q651.626 1494.69 651.626 1497.54 Q651.626 1499.8 653.108 1501.15 Q654.612 1502.47 657.182 1502.47 Q660.723 1502.47 662.853 1499.97 Q665.006 1497.44 665.006 1493.28 L665.006 1492.33 L660.77 1492.33 M669.265 1490.57 L669.265 1505.36 L665.006 1505.36 L665.006 1501.42 Q663.547 1503.79 661.371 1504.92 Q659.196 1506.03 656.047 1506.03 Q652.066 1506.03 649.705 1503.81 Q647.367 1501.56 647.367 1497.81 Q647.367 1493.44 650.284 1491.22 Q653.223 1488.99 659.033 1488.99 L665.006 1488.99 L665.006 1488.58 Q665.006 1485.64 663.061 1484.04 Q661.14 1482.42 657.645 1482.42 Q655.422 1482.42 653.316 1482.95 Q651.209 1483.48 649.265 1484.55 L649.265 1480.61 Q651.603 1479.71 653.802 1479.27 Q656.001 1478.81 658.084 1478.81 Q663.709 1478.81 666.487 1481.73 Q669.265 1484.64 669.265 1490.57 Z\" fill=\"#000000\" fill-rule=\"evenodd\" fill-opacity=\"1\" /><path clip-path=\"url(#clip430)\" d=\"M 0 0 M677.945 1472.07 L677.945 1479.43 L686.719 1479.43 L686.719 1482.74 L677.945 1482.74 L677.945 1496.82 Q677.945 1499.99 678.802 1500.89 Q679.682 1501.8 682.344 1501.8 L686.719 1501.8 L686.719 1505.36 L682.344 1505.36 Q677.413 1505.36 675.538 1503.53 Q673.663 1501.68 673.663 1496.82 L673.663 1482.74 L670.538 1482.74 L670.538 1479.43 L673.663 1479.43 L673.663 1472.07 L677.945 1472.07 Z\" fill=\"#000000\" fill-rule=\"evenodd\" fill-opacity=\"1\" /><path clip-path=\"url(#clip430)\" d=\"M 0 0 M712.737 1489.71 L712.737 1505.36 L708.478 1505.36 L708.478 1489.85 Q708.478 1486.17 707.042 1484.34 Q705.607 1482.51 702.737 1482.51 Q699.288 1482.51 697.297 1484.71 Q695.306 1486.91 695.306 1490.71 L695.306 1505.36 L691.024 1505.36 L691.024 1469.34 L695.306 1469.34 L695.306 1483.46 Q696.834 1481.12 698.894 1479.97 Q700.978 1478.81 703.686 1478.81 Q708.154 1478.81 710.445 1481.59 Q712.737 1484.34 712.737 1489.71 Z\" fill=\"#000000\" fill-rule=\"evenodd\" fill-opacity=\"1\" /><path clip-path=\"url(#clip430)\" d=\"M 0 0 M739.38 1491.33 L739.38 1493.42 L719.797 1493.42 Q720.075 1497.81 722.436 1500.13 Q724.82 1502.42 729.056 1502.42 Q731.51 1502.42 733.802 1501.82 Q736.116 1501.22 738.385 1500.01 L738.385 1504.04 Q736.093 1505.01 733.686 1505.52 Q731.278 1506.03 728.802 1506.03 Q722.598 1506.03 718.964 1502.42 Q715.353 1498.81 715.353 1492.65 Q715.353 1486.29 718.779 1482.56 Q722.228 1478.81 728.061 1478.81 Q733.292 1478.81 736.325 1482.19 Q739.38 1485.55 739.38 1491.33 M735.121 1490.08 Q735.075 1486.59 733.153 1484.5 Q731.255 1482.42 728.107 1482.42 Q724.542 1482.42 722.39 1484.43 Q720.26 1486.45 719.936 1490.11 L735.121 1490.08 Z\" fill=\"#000000\" fill-rule=\"evenodd\" fill-opacity=\"1\" /><path clip-path=\"url(#clip430)\" d=\"M 0 0 M758.871 1483.42 Q758.153 1483 757.297 1482.81 Q756.464 1482.61 755.445 1482.61 Q751.834 1482.61 749.889 1484.97 Q747.968 1487.3 747.968 1491.7 L747.968 1505.36 L743.686 1505.36 L743.686 1479.43 L747.968 1479.43 L747.968 1483.46 Q749.311 1481.1 751.464 1479.97 Q753.616 1478.81 756.695 1478.81 Q757.135 1478.81 757.667 1478.88 Q758.2 1478.92 758.848 1479.04 L758.871 1483.42 Z\" fill=\"#000000\" fill-rule=\"evenodd\" fill-opacity=\"1\" /><path clip-path=\"url(#clip430)\" d=\"M 0 0 M759.589 1499.48 L764.473 1499.48 L764.473 1505.36 L759.589 1505.36 L759.589 1499.48 Z\" fill=\"#000000\" fill-rule=\"evenodd\" fill-opacity=\"1\" /><path clip-path=\"url(#clip430)\" d=\"M 0 0 M768.94 1479.43 L773.2 1479.43 L773.2 1505.82 Q773.2 1510.78 771.301 1513 Q769.426 1515.22 765.237 1515.22 L763.616 1515.22 L763.616 1511.61 L764.751 1511.61 Q767.181 1511.61 768.061 1510.48 Q768.94 1509.36 768.94 1505.82 L768.94 1479.43 M768.94 1469.34 L773.2 1469.34 L773.2 1474.74 L768.94 1474.74 L768.94 1469.34 Z\" fill=\"#000000\" fill-rule=\"evenodd\" fill-opacity=\"1\" /><path clip-path=\"url(#clip430)\" d=\"M 0 0 M777.667 1469.34 L781.926 1469.34 L781.926 1505.36 L777.667 1505.36 L777.667 1469.34 Z\" fill=\"#000000\" fill-rule=\"evenodd\" fill-opacity=\"1\" /><path clip-path=\"url(#clip430)\" d=\"M 0 0 M939.571 1470.8 L944.247 1470.8 L944.247 1502.95 Q944.247 1509.2 941.862 1512.03 Q939.501 1514.85 934.247 1514.85 L932.464 1514.85 L932.464 1510.92 L933.922 1510.92 Q937.024 1510.92 938.297 1509.18 Q939.571 1507.44 939.571 1502.95 L939.571 1470.8 Z\" fill=\"#000000\" fill-rule=\"evenodd\" fill-opacity=\"1\" /><path clip-path=\"url(#clip430)\" d=\"M 0 0 M953.575 1474.64 L953.575 1501.52 L959.223 1501.52 Q966.376 1501.52 969.686 1498.28 Q973.02 1495.04 973.02 1488.05 Q973.02 1481.1 969.686 1477.88 Q966.376 1474.64 959.223 1474.64 L953.575 1474.64 M948.899 1470.8 L958.506 1470.8 Q968.552 1470.8 973.251 1474.99 Q977.95 1479.16 977.95 1488.05 Q977.95 1496.98 973.228 1501.17 Q968.506 1505.36 958.506 1505.36 L948.899 1505.36 L948.899 1470.8 Z\" fill=\"#000000\" fill-rule=\"evenodd\" fill-opacity=\"1\" /><path clip-path=\"url(#clip430)\" d=\"M 0 0 M982.603 1470.8 L1002.46 1470.8 L1002.46 1474.74 L987.279 1474.74 L987.279 1484.92 L1000.98 1484.92 L1000.98 1488.86 L987.279 1488.86 L987.279 1505.36 L982.603 1505.36 L982.603 1470.8 Z\" fill=\"#000000\" fill-rule=\"evenodd\" fill-opacity=\"1\" /><path clip-path=\"url(#clip430)\" d=\"M 0 0 M999.918 1499.48 L1004.8 1499.48 L1004.8 1505.36 L999.918 1505.36 L999.918 1499.48 Z\" fill=\"#000000\" fill-rule=\"evenodd\" fill-opacity=\"1\" /><path clip-path=\"url(#clip430)\" d=\"M 0 0 M1009.27 1479.43 L1013.53 1479.43 L1013.53 1505.82 Q1013.53 1510.78 1011.63 1513 Q1009.76 1515.22 1005.57 1515.22 L1003.95 1515.22 L1003.95 1511.61 L1005.08 1511.61 Q1007.51 1511.61 1008.39 1510.48 Q1009.27 1509.36 1009.27 1505.82 L1009.27 1479.43 M1009.27 1469.34 L1013.53 1469.34 L1013.53 1474.74 L1009.27 1474.74 L1009.27 1469.34 Z\" fill=\"#000000\" fill-rule=\"evenodd\" fill-opacity=\"1\" /><path clip-path=\"url(#clip430)\" d=\"M 0 0 M1018 1469.34 L1022.26 1469.34 L1022.26 1505.36 L1018 1505.36 L1018 1469.34 Z\" fill=\"#000000\" fill-rule=\"evenodd\" fill-opacity=\"1\" /><path clip-path=\"url(#clip430)\" d=\"M 0 0 M1207.79 1470.8 L1212.47 1470.8 L1212.47 1502.95 Q1212.47 1509.2 1210.08 1512.03 Q1207.72 1514.85 1202.47 1514.85 L1200.69 1514.85 L1200.69 1510.92 L1202.14 1510.92 Q1205.25 1510.92 1206.52 1509.18 Q1207.79 1507.44 1207.79 1502.95 L1207.79 1470.8 Z\" fill=\"#000000\" fill-rule=\"evenodd\" fill-opacity=\"1\" /><path clip-path=\"url(#clip430)\" d=\"M 0 0 M1217.12 1470.8 L1221.8 1470.8 L1221.8 1501.42 L1238.63 1501.42 L1238.63 1505.36 L1217.12 1505.36 L1217.12 1470.8 Z\" fill=\"#000000\" fill-rule=\"evenodd\" fill-opacity=\"1\" /><path clip-path=\"url(#clip430)\" d=\"M 0 0 M1264 1471.93 L1264 1476.49 Q1261.33 1475.22 1258.97 1474.6 Q1256.61 1473.97 1254.41 1473.97 Q1250.59 1473.97 1248.51 1475.45 Q1246.45 1476.93 1246.45 1479.67 Q1246.45 1481.96 1247.82 1483.14 Q1249.2 1484.3 1253.05 1485.01 L1255.87 1485.59 Q1261.1 1486.59 1263.58 1489.11 Q1266.08 1491.61 1266.08 1495.82 Q1266.08 1500.85 1262.7 1503.44 Q1259.34 1506.03 1252.84 1506.03 Q1250.39 1506.03 1247.61 1505.48 Q1244.85 1504.92 1241.89 1503.83 L1241.89 1499.02 Q1244.74 1500.61 1247.47 1501.42 Q1250.2 1502.23 1252.84 1502.23 Q1256.84 1502.23 1259.02 1500.66 Q1261.2 1499.09 1261.2 1496.17 Q1261.2 1493.62 1259.62 1492.19 Q1258.07 1490.75 1254.51 1490.04 L1251.66 1489.48 Q1246.43 1488.44 1244.09 1486.22 Q1241.75 1483.99 1241.75 1480.04 Q1241.75 1475.45 1244.97 1472.81 Q1248.21 1470.17 1253.88 1470.17 Q1256.31 1470.17 1258.83 1470.61 Q1261.36 1471.05 1264 1471.93 Z\" fill=\"#000000\" fill-rule=\"evenodd\" fill-opacity=\"1\" /><path clip-path=\"url(#clip430)\" d=\"M 0 0 M1284.76 1473.97 Q1279.67 1473.97 1276.66 1477.77 Q1273.67 1481.56 1273.67 1488.11 Q1273.67 1494.64 1276.66 1498.44 Q1279.67 1502.23 1284.76 1502.23 Q1289.85 1502.23 1292.82 1498.44 Q1295.8 1494.64 1295.8 1488.11 Q1295.8 1481.56 1292.82 1477.77 Q1289.85 1473.97 1284.76 1473.97 M1284.76 1470.17 Q1292.03 1470.17 1296.38 1475.06 Q1300.73 1479.92 1300.73 1488.11 Q1300.73 1496.29 1296.38 1501.17 Q1292.03 1506.03 1284.76 1506.03 Q1277.47 1506.03 1273.09 1501.17 Q1268.74 1496.31 1268.74 1488.11 Q1268.74 1479.92 1273.09 1475.06 Q1277.47 1470.17 1284.76 1470.17 Z\" fill=\"#000000\" fill-rule=\"evenodd\" fill-opacity=\"1\" /><path clip-path=\"url(#clip430)\" d=\"M 0 0 M1303.88 1499.48 L1308.76 1499.48 L1308.76 1505.36 L1303.88 1505.36 L1303.88 1499.48 Z\" fill=\"#000000\" fill-rule=\"evenodd\" fill-opacity=\"1\" /><path clip-path=\"url(#clip430)\" d=\"M 0 0 M1313.23 1479.43 L1317.49 1479.43 L1317.49 1505.82 Q1317.49 1510.78 1315.59 1513 Q1313.72 1515.22 1309.53 1515.22 L1307.91 1515.22 L1307.91 1511.61 L1309.04 1511.61 Q1311.47 1511.61 1312.35 1510.48 Q1313.23 1509.36 1313.23 1505.82 L1313.23 1479.43 M1313.23 1469.34 L1317.49 1469.34 L1317.49 1474.74 L1313.23 1474.74 L1313.23 1469.34 Z\" fill=\"#000000\" fill-rule=\"evenodd\" fill-opacity=\"1\" /><path clip-path=\"url(#clip430)\" d=\"M 0 0 M1321.96 1469.34 L1326.22 1469.34 L1326.22 1505.36 L1321.96 1505.36 L1321.96 1469.34 Z\" fill=\"#000000\" fill-rule=\"evenodd\" fill-opacity=\"1\" /><path clip-path=\"url(#clip430)\" d=\"M 0 0 M1424.97 1470.8 L1429.65 1470.8 L1429.65 1502.95 Q1429.65 1509.2 1427.27 1512.03 Q1424.9 1514.85 1419.65 1514.85 L1417.87 1514.85 L1417.87 1510.92 L1419.33 1510.92 Q1422.43 1510.92 1423.7 1509.18 Q1424.97 1507.44 1424.97 1502.95 L1424.97 1470.8 Z\" fill=\"#000000\" fill-rule=\"evenodd\" fill-opacity=\"1\" /><path clip-path=\"url(#clip430)\" d=\"M 0 0 M1455.02 1471.93 L1455.02 1476.49 Q1452.36 1475.22 1450 1474.6 Q1447.64 1473.97 1445.44 1473.97 Q1441.62 1473.97 1439.53 1475.45 Q1437.47 1476.93 1437.47 1479.67 Q1437.47 1481.96 1438.84 1483.14 Q1440.23 1484.3 1444.07 1485.01 L1446.9 1485.59 Q1452.13 1486.59 1454.6 1489.11 Q1457.1 1491.61 1457.1 1495.82 Q1457.1 1500.85 1453.72 1503.44 Q1450.37 1506.03 1443.86 1506.03 Q1441.41 1506.03 1438.63 1505.48 Q1435.88 1504.92 1432.91 1503.83 L1432.91 1499.02 Q1435.76 1500.61 1438.49 1501.42 Q1441.22 1502.23 1443.86 1502.23 Q1447.87 1502.23 1450.04 1500.66 Q1452.22 1499.09 1452.22 1496.17 Q1452.22 1493.62 1450.65 1492.19 Q1449.09 1490.75 1445.53 1490.04 L1442.68 1489.48 Q1437.45 1488.44 1435.11 1486.22 Q1432.77 1483.99 1432.77 1480.04 Q1432.77 1475.45 1435.99 1472.81 Q1439.23 1470.17 1444.9 1470.17 Q1447.33 1470.17 1449.86 1470.61 Q1452.38 1471.05 1455.02 1471.93 Z\" fill=\"#000000\" fill-rule=\"evenodd\" fill-opacity=\"1\" /><path clip-path=\"url(#clip430)\" d=\"M 0 0 M1475.78 1473.97 Q1470.69 1473.97 1467.68 1477.77 Q1464.7 1481.56 1464.7 1488.11 Q1464.7 1494.64 1467.68 1498.44 Q1470.69 1502.23 1475.78 1502.23 Q1480.88 1502.23 1483.84 1498.44 Q1486.83 1494.64 1486.83 1488.11 Q1486.83 1481.56 1483.84 1477.77 Q1480.88 1473.97 1475.78 1473.97 M1475.78 1470.17 Q1483.05 1470.17 1487.4 1475.06 Q1491.76 1479.92 1491.76 1488.11 Q1491.76 1496.29 1487.4 1501.17 Q1483.05 1506.03 1475.78 1506.03 Q1468.49 1506.03 1464.12 1501.17 Q1459.77 1496.31 1459.77 1488.11 Q1459.77 1479.92 1464.12 1475.06 Q1468.49 1470.17 1475.78 1470.17 Z\" fill=\"#000000\" fill-rule=\"evenodd\" fill-opacity=\"1\" /><path clip-path=\"url(#clip430)\" d=\"M 0 0 M1496.41 1470.8 L1502.71 1470.8 L1518.03 1499.71 L1518.03 1470.8 L1522.57 1470.8 L1522.57 1505.36 L1516.27 1505.36 L1500.95 1476.45 L1500.95 1505.36 L1496.41 1505.36 L1496.41 1470.8 Z\" fill=\"#000000\" fill-rule=\"evenodd\" fill-opacity=\"1\" /><path clip-path=\"url(#clip430)\" d=\"M 0 0 M1522.43 1470.8 L1551.66 1470.8 L1551.66 1474.74 L1539.39 1474.74 L1539.39 1505.36 L1534.7 1505.36 L1534.7 1474.74 L1522.43 1474.74 L1522.43 1470.8 Z\" fill=\"#000000\" fill-rule=\"evenodd\" fill-opacity=\"1\" /><path clip-path=\"url(#clip430)\" d=\"M 0 0 M1560.07 1492.33 Q1554.9 1492.33 1552.91 1493.51 Q1550.92 1494.69 1550.92 1497.54 Q1550.92 1499.8 1552.4 1501.15 Q1553.91 1502.47 1556.48 1502.47 Q1560.02 1502.47 1562.15 1499.97 Q1564.3 1497.44 1564.3 1493.28 L1564.3 1492.33 L1560.07 1492.33 M1568.56 1490.57 L1568.56 1505.36 L1564.3 1505.36 L1564.3 1501.42 Q1562.84 1503.79 1560.67 1504.92 Q1558.49 1506.03 1555.34 1506.03 Q1551.36 1506.03 1549 1503.81 Q1546.66 1501.56 1546.66 1497.81 Q1546.66 1493.44 1549.58 1491.22 Q1552.52 1488.99 1558.33 1488.99 L1564.3 1488.99 L1564.3 1488.58 Q1564.3 1485.64 1562.36 1484.04 Q1560.44 1482.42 1556.94 1482.42 Q1554.72 1482.42 1552.61 1482.95 Q1550.51 1483.48 1548.56 1484.55 L1548.56 1480.61 Q1550.9 1479.71 1553.1 1479.27 Q1555.3 1478.81 1557.38 1478.81 Q1563.01 1478.81 1565.78 1481.73 Q1568.56 1484.64 1568.56 1490.57 Z\" fill=\"#000000\" fill-rule=\"evenodd\" fill-opacity=\"1\" /><path clip-path=\"url(#clip430)\" d=\"M 0 0 M1591.64 1492.42 Q1591.64 1487.72 1589.7 1485.06 Q1587.77 1482.37 1584.39 1482.37 Q1581.01 1482.37 1579.07 1485.06 Q1577.15 1487.72 1577.15 1492.42 Q1577.15 1497.12 1579.07 1499.8 Q1581.01 1502.47 1584.39 1502.47 Q1587.77 1502.47 1589.7 1499.8 Q1591.64 1497.12 1591.64 1492.42 M1577.15 1483.37 Q1578.49 1481.05 1580.53 1479.94 Q1582.59 1478.81 1585.44 1478.81 Q1590.16 1478.81 1593.1 1482.56 Q1596.06 1486.31 1596.06 1492.42 Q1596.06 1498.53 1593.1 1502.28 Q1590.16 1506.03 1585.44 1506.03 Q1582.59 1506.03 1580.53 1504.92 Q1578.49 1503.79 1577.15 1501.47 L1577.15 1505.36 L1572.87 1505.36 L1572.87 1469.34 L1577.15 1469.34 L1577.15 1483.37 Z\" fill=\"#000000\" fill-rule=\"evenodd\" fill-opacity=\"1\" /><path clip-path=\"url(#clip430)\" d=\"M 0 0 M1600.53 1469.34 L1604.79 1469.34 L1604.79 1505.36 L1600.53 1505.36 L1600.53 1469.34 Z\" fill=\"#000000\" fill-rule=\"evenodd\" fill-opacity=\"1\" /><path clip-path=\"url(#clip430)\" d=\"M 0 0 M1631.43 1491.33 L1631.43 1493.42 L1611.85 1493.42 Q1612.13 1497.81 1614.49 1500.13 Q1616.87 1502.42 1621.11 1502.42 Q1623.56 1502.42 1625.85 1501.82 Q1628.17 1501.22 1630.44 1500.01 L1630.44 1504.04 Q1628.14 1505.01 1625.74 1505.52 Q1623.33 1506.03 1620.85 1506.03 Q1614.65 1506.03 1611.01 1502.42 Q1607.4 1498.81 1607.4 1492.65 Q1607.4 1486.29 1610.83 1482.56 Q1614.28 1478.81 1620.11 1478.81 Q1625.34 1478.81 1628.38 1482.19 Q1631.43 1485.55 1631.43 1491.33 M1627.17 1490.08 Q1627.13 1486.59 1625.2 1484.5 Q1623.31 1482.42 1620.16 1482.42 Q1616.59 1482.42 1614.44 1484.43 Q1612.31 1486.45 1611.99 1490.11 L1627.17 1490.08 Z\" fill=\"#000000\" fill-rule=\"evenodd\" fill-opacity=\"1\" /><path clip-path=\"url(#clip430)\" d=\"M 0 0 M1652.43 1480.2 L1652.43 1484.23 Q1650.62 1483.3 1648.68 1482.84 Q1646.73 1482.37 1644.65 1482.37 Q1641.48 1482.37 1639.88 1483.35 Q1638.31 1484.32 1638.31 1486.26 Q1638.31 1487.74 1639.44 1488.6 Q1640.57 1489.43 1644 1490.2 L1645.46 1490.52 Q1650 1491.49 1651.89 1493.28 Q1653.82 1495.04 1653.82 1498.21 Q1653.82 1501.82 1650.94 1503.92 Q1648.1 1506.03 1643.1 1506.03 Q1641.01 1506.03 1638.75 1505.61 Q1636.5 1505.22 1634 1504.41 L1634 1500.01 Q1636.36 1501.24 1638.65 1501.86 Q1640.95 1502.47 1643.19 1502.47 Q1646.2 1502.47 1647.82 1501.45 Q1649.44 1500.41 1649.44 1498.53 Q1649.44 1496.8 1648.26 1495.87 Q1647.1 1494.94 1643.14 1494.09 L1641.66 1493.74 Q1637.7 1492.91 1635.95 1491.19 Q1634.19 1489.46 1634.19 1486.45 Q1634.19 1482.79 1636.78 1480.8 Q1639.37 1478.81 1644.14 1478.81 Q1646.5 1478.81 1648.58 1479.16 Q1650.67 1479.5 1652.43 1480.2 Z\" fill=\"#000000\" fill-rule=\"evenodd\" fill-opacity=\"1\" /><path clip-path=\"url(#clip430)\" d=\"M 0 0 M1658.88 1499.48 L1663.77 1499.48 L1663.77 1505.36 L1658.88 1505.36 L1658.88 1499.48 Z\" fill=\"#000000\" fill-rule=\"evenodd\" fill-opacity=\"1\" /><path clip-path=\"url(#clip430)\" d=\"M 0 0 M1668.24 1479.43 L1672.5 1479.43 L1672.5 1505.82 Q1672.5 1510.78 1670.6 1513 Q1668.72 1515.22 1664.53 1515.22 L1662.91 1515.22 L1662.91 1511.61 L1664.05 1511.61 Q1666.48 1511.61 1667.36 1510.48 Q1668.24 1509.36 1668.24 1505.82 L1668.24 1479.43 M1668.24 1469.34 L1672.5 1469.34 L1672.5 1474.74 L1668.24 1474.74 L1668.24 1469.34 Z\" fill=\"#000000\" fill-rule=\"evenodd\" fill-opacity=\"1\" /><path clip-path=\"url(#clip430)\" d=\"M 0 0 M1676.96 1469.34 L1681.22 1469.34 L1681.22 1505.36 L1676.96 1505.36 L1676.96 1469.34 Z\" fill=\"#000000\" fill-rule=\"evenodd\" fill-opacity=\"1\" /><path clip-path=\"url(#clip430)\" d=\"M 0 0 M1454.7 1544.17 Q1449.53 1544.17 1447.54 1545.35 Q1445.55 1546.53 1445.55 1549.38 Q1445.55 1551.64 1447.03 1552.99 Q1448.54 1554.31 1451.11 1554.31 Q1454.65 1554.31 1456.78 1551.81 Q1458.93 1549.28 1458.93 1545.12 L1458.93 1544.17 L1454.7 1544.17 M1463.19 1542.41 L1463.19 1557.2 L1458.93 1557.2 L1458.93 1553.26 Q1457.47 1555.63 1455.3 1556.76 Q1453.12 1557.87 1449.97 1557.87 Q1445.99 1557.87 1443.63 1555.65 Q1441.29 1553.4 1441.29 1549.65 Q1441.29 1545.28 1444.21 1543.06 Q1447.15 1540.83 1452.96 1540.83 L1458.93 1540.83 L1458.93 1540.42 Q1458.93 1537.48 1456.99 1535.88 Q1455.07 1534.26 1451.57 1534.26 Q1449.35 1534.26 1447.24 1534.79 Q1445.14 1535.32 1443.19 1536.39 L1443.19 1532.45 Q1445.53 1531.55 1447.73 1531.11 Q1449.93 1530.65 1452.01 1530.65 Q1457.64 1530.65 1460.41 1533.57 Q1463.19 1536.48 1463.19 1542.41 Z\" fill=\"#000000\" fill-rule=\"evenodd\" fill-opacity=\"1\" /><path clip-path=\"url(#clip430)\" d=\"M 0 0 M1482.68 1535.26 Q1481.96 1534.84 1481.11 1534.65 Q1480.27 1534.45 1479.26 1534.45 Q1475.64 1534.45 1473.7 1536.81 Q1471.78 1539.14 1471.78 1543.54 L1471.78 1557.2 L1467.5 1557.2 L1467.5 1531.27 L1471.78 1531.27 L1471.78 1535.3 Q1473.12 1532.94 1475.27 1531.81 Q1477.43 1530.65 1480.51 1530.65 Q1480.95 1530.65 1481.48 1530.72 Q1482.01 1530.76 1482.66 1530.88 L1482.68 1535.26 Z\" fill=\"#000000\" fill-rule=\"evenodd\" fill-opacity=\"1\" /><path clip-path=\"url(#clip430)\" d=\"M 0 0 M1501.34 1535.26 Q1500.62 1534.84 1499.77 1534.65 Q1498.93 1534.45 1497.91 1534.45 Q1494.3 1534.45 1492.36 1536.81 Q1490.44 1539.14 1490.44 1543.54 L1490.44 1557.2 L1486.15 1557.2 L1486.15 1531.27 L1490.44 1531.27 L1490.44 1535.3 Q1491.78 1532.94 1493.93 1531.81 Q1496.08 1530.65 1499.16 1530.65 Q1499.6 1530.65 1500.14 1530.72 Q1500.67 1530.76 1501.32 1530.88 L1501.34 1535.26 Z\" fill=\"#000000\" fill-rule=\"evenodd\" fill-opacity=\"1\" /><path clip-path=\"url(#clip430)\" d=\"M 0 0 M1517.59 1544.17 Q1512.43 1544.17 1510.44 1545.35 Q1508.45 1546.53 1508.45 1549.38 Q1508.45 1551.64 1509.93 1552.99 Q1511.43 1554.31 1514 1554.31 Q1517.54 1554.31 1519.67 1551.81 Q1521.83 1549.28 1521.83 1545.12 L1521.83 1544.17 L1517.59 1544.17 M1526.08 1542.41 L1526.08 1557.2 L1521.83 1557.2 L1521.83 1553.26 Q1520.37 1555.63 1518.19 1556.76 Q1516.02 1557.87 1512.87 1557.87 Q1508.89 1557.87 1506.52 1555.65 Q1504.19 1553.4 1504.19 1549.65 Q1504.19 1545.28 1507.1 1543.06 Q1510.04 1540.83 1515.85 1540.83 L1521.83 1540.83 L1521.83 1540.42 Q1521.83 1537.48 1519.88 1535.88 Q1517.96 1534.26 1514.46 1534.26 Q1512.24 1534.26 1510.14 1534.79 Q1508.03 1535.32 1506.08 1536.39 L1506.08 1532.45 Q1508.42 1531.55 1510.62 1531.11 Q1512.82 1530.65 1514.9 1530.65 Q1520.53 1530.65 1523.31 1533.57 Q1526.08 1536.48 1526.08 1542.41 Z\" fill=\"#000000\" fill-rule=\"evenodd\" fill-opacity=\"1\" /><path clip-path=\"url(#clip430)\" d=\"M 0 0 M1541.34 1559.61 Q1539.53 1564.24 1537.82 1565.65 Q1536.11 1567.06 1533.24 1567.06 L1529.83 1567.06 L1529.83 1563.5 L1532.33 1563.5 Q1534.09 1563.5 1535.07 1562.66 Q1536.04 1561.83 1537.22 1558.73 L1537.98 1556.78 L1527.5 1531.27 L1532.01 1531.27 L1540.11 1551.55 L1548.21 1531.27 L1552.73 1531.27 L1541.34 1559.61 Z\" fill=\"#000000\" fill-rule=\"evenodd\" fill-opacity=\"1\" /><path clip-path=\"url(#clip430)\" d=\"M 0 0 M1561.41 1523.91 L1561.41 1531.27 L1570.18 1531.27 L1570.18 1534.58 L1561.41 1534.58 L1561.41 1548.66 Q1561.41 1551.83 1562.26 1552.73 Q1563.14 1553.64 1565.81 1553.64 L1570.18 1553.64 L1570.18 1557.2 L1565.81 1557.2 Q1560.88 1557.2 1559 1555.37 Q1557.13 1553.52 1557.13 1548.66 L1557.13 1534.58 L1554 1534.58 L1554 1531.27 L1557.13 1531.27 L1557.13 1523.91 L1561.41 1523.91 Z\" fill=\"#000000\" fill-rule=\"evenodd\" fill-opacity=\"1\" /><path clip-path=\"url(#clip430)\" d=\"M 0 0 M1586.43 1544.17 Q1581.27 1544.17 1579.28 1545.35 Q1577.29 1546.53 1577.29 1549.38 Q1577.29 1551.64 1578.77 1552.99 Q1580.27 1554.31 1582.84 1554.31 Q1586.39 1554.31 1588.51 1551.81 Q1590.67 1549.28 1590.67 1545.12 L1590.67 1544.17 L1586.43 1544.17 M1594.93 1542.41 L1594.93 1557.2 L1590.67 1557.2 L1590.67 1553.26 Q1589.21 1555.63 1587.03 1556.76 Q1584.86 1557.87 1581.71 1557.87 Q1577.73 1557.87 1575.37 1555.65 Q1573.03 1553.4 1573.03 1549.65 Q1573.03 1545.28 1575.95 1543.06 Q1578.89 1540.83 1584.7 1540.83 L1590.67 1540.83 L1590.67 1540.42 Q1590.67 1537.48 1588.72 1535.88 Q1586.8 1534.26 1583.31 1534.26 Q1581.08 1534.26 1578.98 1534.79 Q1576.87 1535.32 1574.93 1536.39 L1574.93 1532.45 Q1577.26 1531.55 1579.46 1531.11 Q1581.66 1530.65 1583.75 1530.65 Q1589.37 1530.65 1592.15 1533.57 Q1594.93 1536.48 1594.93 1542.41 Z\" fill=\"#000000\" fill-rule=\"evenodd\" fill-opacity=\"1\" /><path clip-path=\"url(#clip430)\" d=\"M 0 0 M1618.01 1544.26 Q1618.01 1539.56 1616.06 1536.9 Q1614.14 1534.21 1610.76 1534.21 Q1607.38 1534.21 1605.44 1536.9 Q1603.51 1539.56 1603.51 1544.26 Q1603.51 1548.96 1605.44 1551.64 Q1607.38 1554.31 1610.76 1554.31 Q1614.14 1554.31 1616.06 1551.64 Q1618.01 1548.96 1618.01 1544.26 M1603.51 1535.21 Q1604.86 1532.89 1606.89 1531.78 Q1608.95 1530.65 1611.8 1530.65 Q1616.52 1530.65 1619.46 1534.4 Q1622.43 1538.15 1622.43 1544.26 Q1622.43 1550.37 1619.46 1554.12 Q1616.52 1557.87 1611.8 1557.87 Q1608.95 1557.87 1606.89 1556.76 Q1604.86 1555.63 1603.51 1553.31 L1603.51 1557.2 L1599.23 1557.2 L1599.23 1521.18 L1603.51 1521.18 L1603.51 1535.21 Z\" fill=\"#000000\" fill-rule=\"evenodd\" fill-opacity=\"1\" /><path clip-path=\"url(#clip430)\" d=\"M 0 0 M1626.89 1521.18 L1631.15 1521.18 L1631.15 1557.2 L1626.89 1557.2 L1626.89 1521.18 Z\" fill=\"#000000\" fill-rule=\"evenodd\" fill-opacity=\"1\" /><path clip-path=\"url(#clip430)\" d=\"M 0 0 M1657.8 1543.17 L1657.8 1545.26 L1638.21 1545.26 Q1638.49 1549.65 1640.85 1551.97 Q1643.24 1554.26 1647.47 1554.26 Q1649.93 1554.26 1652.22 1553.66 Q1654.53 1553.06 1656.8 1551.85 L1656.8 1555.88 Q1654.51 1556.85 1652.1 1557.36 Q1649.69 1557.87 1647.22 1557.87 Q1641.01 1557.87 1637.38 1554.26 Q1633.77 1550.65 1633.77 1544.49 Q1633.77 1538.13 1637.2 1534.4 Q1640.64 1530.65 1646.48 1530.65 Q1651.71 1530.65 1654.74 1534.03 Q1657.8 1537.39 1657.8 1543.17 M1653.54 1541.92 Q1653.49 1538.43 1651.57 1536.34 Q1649.67 1534.26 1646.52 1534.26 Q1642.96 1534.26 1640.81 1536.27 Q1638.68 1538.29 1638.35 1541.95 L1653.54 1541.92 Z\" fill=\"#000000\" fill-rule=\"evenodd\" fill-opacity=\"1\" /><path clip-path=\"url(#clip430)\" d=\"M 0 0 M1711.07 1470.8 L1715.74 1470.8 L1715.74 1502.95 Q1715.74 1509.2 1713.36 1512.03 Q1711 1514.85 1705.74 1514.85 L1703.96 1514.85 L1703.96 1510.92 L1705.42 1510.92 Q1708.52 1510.92 1709.79 1509.18 Q1711.07 1507.44 1711.07 1502.95 L1711.07 1470.8 Z\" fill=\"#000000\" fill-rule=\"evenodd\" fill-opacity=\"1\" /><path clip-path=\"url(#clip430)\" d=\"M 0 0 M1741.11 1471.93 L1741.11 1476.49 Q1738.45 1475.22 1736.09 1474.6 Q1733.73 1473.97 1731.53 1473.97 Q1727.71 1473.97 1725.63 1475.45 Q1723.57 1476.93 1723.57 1479.67 Q1723.57 1481.96 1724.93 1483.14 Q1726.32 1484.3 1730.16 1485.01 L1732.99 1485.59 Q1738.22 1486.59 1740.7 1489.11 Q1743.2 1491.61 1743.2 1495.82 Q1743.2 1500.85 1739.82 1503.44 Q1736.46 1506.03 1729.96 1506.03 Q1727.5 1506.03 1724.72 1505.48 Q1721.97 1504.92 1719.01 1503.83 L1719.01 1499.02 Q1721.85 1500.61 1724.59 1501.42 Q1727.32 1502.23 1729.96 1502.23 Q1733.96 1502.23 1736.14 1500.66 Q1738.31 1499.09 1738.31 1496.17 Q1738.31 1493.62 1736.74 1492.19 Q1735.19 1490.75 1731.62 1490.04 L1728.77 1489.48 Q1723.54 1488.44 1721.21 1486.22 Q1718.87 1483.99 1718.87 1480.04 Q1718.87 1475.45 1722.09 1472.81 Q1725.33 1470.17 1731 1470.17 Q1733.43 1470.17 1735.95 1470.61 Q1738.47 1471.05 1741.11 1471.93 Z\" fill=\"#000000\" fill-rule=\"evenodd\" fill-opacity=\"1\" /><path clip-path=\"url(#clip430)\" d=\"M 0 0 M1761.88 1473.97 Q1756.78 1473.97 1753.77 1477.77 Q1750.79 1481.56 1750.79 1488.11 Q1750.79 1494.64 1753.77 1498.44 Q1756.78 1502.23 1761.88 1502.23 Q1766.97 1502.23 1769.93 1498.44 Q1772.92 1494.64 1772.92 1488.11 Q1772.92 1481.56 1769.93 1477.77 Q1766.97 1473.97 1761.88 1473.97 M1761.88 1470.17 Q1769.15 1470.17 1773.5 1475.06 Q1777.85 1479.92 1777.85 1488.11 Q1777.85 1496.29 1773.5 1501.17 Q1769.15 1506.03 1761.88 1506.03 Q1754.58 1506.03 1750.21 1501.17 Q1745.86 1496.31 1745.86 1488.11 Q1745.86 1479.92 1750.21 1475.06 Q1754.58 1470.17 1761.88 1470.17 Z\" fill=\"#000000\" fill-rule=\"evenodd\" fill-opacity=\"1\" /><path clip-path=\"url(#clip430)\" d=\"M 0 0 M1782.5 1470.8 L1788.8 1470.8 L1804.12 1499.71 L1804.12 1470.8 L1808.66 1470.8 L1808.66 1505.36 L1802.36 1505.36 L1787.04 1476.45 L1787.04 1505.36 L1782.5 1505.36 L1782.5 1470.8 Z\" fill=\"#000000\" fill-rule=\"evenodd\" fill-opacity=\"1\" /><path clip-path=\"url(#clip430)\" d=\"M 0 0 M1808.52 1470.8 L1837.76 1470.8 L1837.76 1474.74 L1825.49 1474.74 L1825.49 1505.36 L1820.79 1505.36 L1820.79 1474.74 L1808.52 1474.74 L1808.52 1470.8 Z\" fill=\"#000000\" fill-rule=\"evenodd\" fill-opacity=\"1\" /><path clip-path=\"url(#clip430)\" d=\"M 0 0 M1846.16 1492.33 Q1841 1492.33 1839.01 1493.51 Q1837.02 1494.69 1837.02 1497.54 Q1837.02 1499.8 1838.5 1501.15 Q1840 1502.47 1842.57 1502.47 Q1846.11 1502.47 1848.24 1499.97 Q1850.39 1497.44 1850.39 1493.28 L1850.39 1492.33 L1846.16 1492.33 M1854.65 1490.57 L1854.65 1505.36 L1850.39 1505.36 L1850.39 1501.42 Q1848.94 1503.79 1846.76 1504.92 Q1844.58 1506.03 1841.44 1506.03 Q1837.45 1506.03 1835.09 1503.81 Q1832.76 1501.56 1832.76 1497.81 Q1832.76 1493.44 1835.67 1491.22 Q1838.61 1488.99 1844.42 1488.99 L1850.39 1488.99 L1850.39 1488.58 Q1850.39 1485.64 1848.45 1484.04 Q1846.53 1482.42 1843.03 1482.42 Q1840.81 1482.42 1838.7 1482.95 Q1836.6 1483.48 1834.65 1484.55 L1834.65 1480.61 Q1836.99 1479.71 1839.19 1479.27 Q1841.39 1478.81 1843.47 1478.81 Q1849.1 1478.81 1851.88 1481.73 Q1854.65 1484.64 1854.65 1490.57 Z\" fill=\"#000000\" fill-rule=\"evenodd\" fill-opacity=\"1\" /><path clip-path=\"url(#clip430)\" d=\"M 0 0 M1877.73 1492.42 Q1877.73 1487.72 1875.79 1485.06 Q1873.87 1482.37 1870.49 1482.37 Q1867.11 1482.37 1865.16 1485.06 Q1863.24 1487.72 1863.24 1492.42 Q1863.24 1497.12 1865.16 1499.8 Q1867.11 1502.47 1870.49 1502.47 Q1873.87 1502.47 1875.79 1499.8 Q1877.73 1497.12 1877.73 1492.42 M1863.24 1483.37 Q1864.58 1481.05 1866.62 1479.94 Q1868.68 1478.81 1871.53 1478.81 Q1876.25 1478.81 1879.19 1482.56 Q1882.15 1486.31 1882.15 1492.42 Q1882.15 1498.53 1879.19 1502.28 Q1876.25 1506.03 1871.53 1506.03 Q1868.68 1506.03 1866.62 1504.92 Q1864.58 1503.79 1863.24 1501.47 L1863.24 1505.36 L1858.96 1505.36 L1858.96 1469.34 L1863.24 1469.34 L1863.24 1483.37 Z\" fill=\"#000000\" fill-rule=\"evenodd\" fill-opacity=\"1\" /><path clip-path=\"url(#clip430)\" d=\"M 0 0 M1886.62 1469.34 L1890.88 1469.34 L1890.88 1505.36 L1886.62 1505.36 L1886.62 1469.34 Z\" fill=\"#000000\" fill-rule=\"evenodd\" fill-opacity=\"1\" /><path clip-path=\"url(#clip430)\" d=\"M 0 0 M1917.52 1491.33 L1917.52 1493.42 L1897.94 1493.42 Q1898.22 1497.81 1900.58 1500.13 Q1902.96 1502.42 1907.2 1502.42 Q1909.65 1502.42 1911.95 1501.82 Q1914.26 1501.22 1916.53 1500.01 L1916.53 1504.04 Q1914.24 1505.01 1911.83 1505.52 Q1909.42 1506.03 1906.95 1506.03 Q1900.74 1506.03 1897.11 1502.42 Q1893.5 1498.81 1893.5 1492.65 Q1893.5 1486.29 1896.92 1482.56 Q1900.37 1478.81 1906.2 1478.81 Q1911.44 1478.81 1914.47 1482.19 Q1917.52 1485.55 1917.52 1491.33 M1913.26 1490.08 Q1913.22 1486.59 1911.3 1484.5 Q1909.4 1482.42 1906.25 1482.42 Q1902.69 1482.42 1900.53 1484.43 Q1898.4 1486.45 1898.08 1490.11 L1913.26 1490.08 Z\" fill=\"#000000\" fill-rule=\"evenodd\" fill-opacity=\"1\" /><path clip-path=\"url(#clip430)\" d=\"M 0 0 M1938.52 1480.2 L1938.52 1484.23 Q1936.71 1483.3 1934.77 1482.84 Q1932.82 1482.37 1930.74 1482.37 Q1927.57 1482.37 1925.97 1483.35 Q1924.4 1484.32 1924.4 1486.26 Q1924.4 1487.74 1925.53 1488.6 Q1926.67 1489.43 1930.09 1490.2 L1931.55 1490.52 Q1936.09 1491.49 1937.99 1493.28 Q1939.91 1495.04 1939.91 1498.21 Q1939.91 1501.82 1937.04 1503.92 Q1934.19 1506.03 1929.19 1506.03 Q1927.11 1506.03 1924.84 1505.61 Q1922.59 1505.22 1920.09 1504.41 L1920.09 1500.01 Q1922.45 1501.24 1924.75 1501.86 Q1927.04 1502.47 1929.28 1502.47 Q1932.29 1502.47 1933.91 1501.45 Q1935.53 1500.41 1935.53 1498.53 Q1935.53 1496.8 1934.35 1495.87 Q1933.2 1494.94 1929.24 1494.09 L1927.76 1493.74 Q1923.8 1492.91 1922.04 1491.19 Q1920.28 1489.46 1920.28 1486.45 Q1920.28 1482.79 1922.87 1480.8 Q1925.46 1478.81 1930.23 1478.81 Q1932.59 1478.81 1934.68 1479.16 Q1936.76 1479.5 1938.52 1480.2 Z\" fill=\"#000000\" fill-rule=\"evenodd\" fill-opacity=\"1\" /><path clip-path=\"url(#clip430)\" d=\"M 0 0 M1944.98 1499.48 L1949.86 1499.48 L1949.86 1505.36 L1944.98 1505.36 L1944.98 1499.48 Z\" fill=\"#000000\" fill-rule=\"evenodd\" fill-opacity=\"1\" /><path clip-path=\"url(#clip430)\" d=\"M 0 0 M1954.33 1479.43 L1958.59 1479.43 L1958.59 1505.82 Q1958.59 1510.78 1956.69 1513 Q1954.82 1515.22 1950.63 1515.22 L1949.01 1515.22 L1949.01 1511.61 L1950.14 1511.61 Q1952.57 1511.61 1953.45 1510.48 Q1954.33 1509.36 1954.33 1505.82 L1954.33 1479.43 M1954.33 1469.34 L1958.59 1469.34 L1958.59 1474.74 L1954.33 1474.74 L1954.33 1469.34 Z\" fill=\"#000000\" fill-rule=\"evenodd\" fill-opacity=\"1\" /><path clip-path=\"url(#clip430)\" d=\"M 0 0 M1963.06 1469.34 L1967.32 1469.34 L1967.32 1505.36 L1963.06 1505.36 L1963.06 1469.34 Z\" fill=\"#000000\" fill-rule=\"evenodd\" fill-opacity=\"1\" /><path clip-path=\"url(#clip430)\" d=\"M 0 0 M1731.38 1534.26 Q1727.95 1534.26 1725.96 1536.95 Q1723.97 1539.61 1723.97 1544.26 Q1723.97 1548.91 1725.94 1551.6 Q1727.93 1554.26 1731.38 1554.26 Q1734.78 1554.26 1736.77 1551.57 Q1738.76 1548.89 1738.76 1544.26 Q1738.76 1539.65 1736.77 1536.97 Q1734.78 1534.26 1731.38 1534.26 M1731.38 1530.65 Q1736.93 1530.65 1740.11 1534.26 Q1743.28 1537.87 1743.28 1544.26 Q1743.28 1550.63 1740.11 1554.26 Q1736.93 1557.87 1731.38 1557.87 Q1725.8 1557.87 1722.63 1554.26 Q1719.48 1550.63 1719.48 1544.26 Q1719.48 1537.87 1722.63 1534.26 Q1725.8 1530.65 1731.38 1530.65 Z\" fill=\"#000000\" fill-rule=\"evenodd\" fill-opacity=\"1\" /><path clip-path=\"url(#clip430)\" d=\"M 0 0 M1766.36 1544.26 Q1766.36 1539.56 1764.41 1536.9 Q1762.49 1534.21 1759.11 1534.21 Q1755.73 1534.21 1753.79 1536.9 Q1751.87 1539.56 1751.87 1544.26 Q1751.87 1548.96 1753.79 1551.64 Q1755.73 1554.31 1759.11 1554.31 Q1762.49 1554.31 1764.41 1551.64 Q1766.36 1548.96 1766.36 1544.26 M1751.87 1535.21 Q1753.21 1532.89 1755.24 1531.78 Q1757.3 1530.65 1760.15 1530.65 Q1764.87 1530.65 1767.81 1534.4 Q1770.78 1538.15 1770.78 1544.26 Q1770.78 1550.37 1767.81 1554.12 Q1764.87 1557.87 1760.15 1557.87 Q1757.3 1557.87 1755.24 1556.76 Q1753.21 1555.63 1751.87 1553.31 L1751.87 1557.2 L1747.58 1557.2 L1747.58 1521.18 L1751.87 1521.18 L1751.87 1535.21 Z\" fill=\"#000000\" fill-rule=\"evenodd\" fill-opacity=\"1\" /><path clip-path=\"url(#clip430)\" d=\"M 0 0 M1775.24 1531.27 L1779.5 1531.27 L1779.5 1557.66 Q1779.5 1562.62 1777.61 1564.84 Q1775.73 1567.06 1771.54 1567.06 L1769.92 1567.06 L1769.92 1563.45 L1771.05 1563.45 Q1773.49 1563.45 1774.36 1562.32 Q1775.24 1561.2 1775.24 1557.66 L1775.24 1531.27 M1775.24 1521.18 L1779.5 1521.18 L1779.5 1526.58 L1775.24 1526.58 L1775.24 1521.18 Z\" fill=\"#000000\" fill-rule=\"evenodd\" fill-opacity=\"1\" /><path clip-path=\"url(#clip430)\" d=\"M 0 0 M1806.15 1543.17 L1806.15 1545.26 L1786.56 1545.26 Q1786.84 1549.65 1789.2 1551.97 Q1791.59 1554.26 1795.82 1554.26 Q1798.28 1554.26 1800.57 1553.66 Q1802.88 1553.06 1805.15 1551.85 L1805.15 1555.88 Q1802.86 1556.85 1800.45 1557.36 Q1798.05 1557.87 1795.57 1557.87 Q1789.36 1557.87 1785.73 1554.26 Q1782.12 1550.65 1782.12 1544.49 Q1782.12 1538.13 1785.55 1534.4 Q1788.99 1530.65 1794.83 1530.65 Q1800.06 1530.65 1803.09 1534.03 Q1806.15 1537.39 1806.15 1543.17 M1801.89 1541.92 Q1801.84 1538.43 1799.92 1536.34 Q1798.02 1534.26 1794.87 1534.26 Q1791.31 1534.26 1789.16 1536.27 Q1787.03 1538.29 1786.7 1541.95 L1801.89 1541.92 Z\" fill=\"#000000\" fill-rule=\"evenodd\" fill-opacity=\"1\" /><path clip-path=\"url(#clip430)\" d=\"M 0 0 M1829.27 1532.27 L1829.27 1536.25 Q1827.47 1535.26 1825.64 1534.77 Q1823.83 1534.26 1821.98 1534.26 Q1817.84 1534.26 1815.55 1536.9 Q1813.25 1539.51 1813.25 1544.26 Q1813.25 1549.01 1815.55 1551.64 Q1817.84 1554.26 1821.98 1554.26 Q1823.83 1554.26 1825.64 1553.77 Q1827.47 1553.26 1829.27 1552.27 L1829.27 1556.2 Q1827.49 1557.04 1825.57 1557.45 Q1823.67 1557.87 1821.52 1557.87 Q1815.66 1557.87 1812.21 1554.19 Q1808.76 1550.51 1808.76 1544.26 Q1808.76 1537.92 1812.24 1534.28 Q1815.73 1530.65 1821.8 1530.65 Q1823.76 1530.65 1825.64 1531.07 Q1827.51 1531.46 1829.27 1532.27 Z\" fill=\"#000000\" fill-rule=\"evenodd\" fill-opacity=\"1\" /><path clip-path=\"url(#clip430)\" d=\"M 0 0 M1837.95 1523.91 L1837.95 1531.27 L1846.73 1531.27 L1846.73 1534.58 L1837.95 1534.58 L1837.95 1548.66 Q1837.95 1551.83 1838.81 1552.73 Q1839.69 1553.64 1842.35 1553.64 L1846.73 1553.64 L1846.73 1557.2 L1842.35 1557.2 Q1837.42 1557.2 1835.55 1555.37 Q1833.67 1553.52 1833.67 1548.66 L1833.67 1534.58 L1830.55 1534.58 L1830.55 1531.27 L1833.67 1531.27 L1833.67 1523.91 L1837.95 1523.91 Z\" fill=\"#000000\" fill-rule=\"evenodd\" fill-opacity=\"1\" /><path clip-path=\"url(#clip430)\" d=\"M 0 0 M1855.41 1523.91 L1855.41 1531.27 L1864.18 1531.27 L1864.18 1534.58 L1855.41 1534.58 L1855.41 1548.66 Q1855.41 1551.83 1856.26 1552.73 Q1857.14 1553.64 1859.8 1553.64 L1864.18 1553.64 L1864.18 1557.2 L1859.8 1557.2 Q1854.87 1557.2 1853 1555.37 Q1851.12 1553.52 1851.12 1548.66 L1851.12 1534.58 L1848 1534.58 L1848 1531.27 L1851.12 1531.27 L1851.12 1523.91 L1855.41 1523.91 Z\" fill=\"#000000\" fill-rule=\"evenodd\" fill-opacity=\"1\" /><path clip-path=\"url(#clip430)\" d=\"M 0 0 M1880.43 1544.17 Q1875.27 1544.17 1873.28 1545.35 Q1871.29 1546.53 1871.29 1549.38 Q1871.29 1551.64 1872.77 1552.99 Q1874.27 1554.31 1876.84 1554.31 Q1880.38 1554.31 1882.51 1551.81 Q1884.67 1549.28 1884.67 1545.12 L1884.67 1544.17 L1880.43 1544.17 M1888.92 1542.41 L1888.92 1557.2 L1884.67 1557.2 L1884.67 1553.26 Q1883.21 1555.63 1881.03 1556.76 Q1878.86 1557.87 1875.71 1557.87 Q1871.73 1557.87 1869.36 1555.65 Q1867.03 1553.4 1867.03 1549.65 Q1867.03 1545.28 1869.94 1543.06 Q1872.88 1540.83 1878.69 1540.83 L1884.67 1540.83 L1884.67 1540.42 Q1884.67 1537.48 1882.72 1535.88 Q1880.8 1534.26 1877.3 1534.26 Q1875.08 1534.26 1872.98 1534.79 Q1870.87 1535.32 1868.92 1536.39 L1868.92 1532.45 Q1871.26 1531.55 1873.46 1531.11 Q1875.66 1530.65 1877.74 1530.65 Q1883.37 1530.65 1886.15 1533.57 Q1888.92 1536.48 1888.92 1542.41 Z\" fill=\"#000000\" fill-rule=\"evenodd\" fill-opacity=\"1\" /><path clip-path=\"url(#clip430)\" d=\"M 0 0 M1912 1544.26 Q1912 1539.56 1910.06 1536.9 Q1908.14 1534.21 1904.76 1534.21 Q1901.38 1534.21 1899.43 1536.9 Q1897.51 1539.56 1897.51 1544.26 Q1897.51 1548.96 1899.43 1551.64 Q1901.38 1554.31 1904.76 1554.31 Q1908.14 1554.31 1910.06 1551.64 Q1912 1548.96 1912 1544.26 M1897.51 1535.21 Q1898.85 1532.89 1900.89 1531.78 Q1902.95 1530.65 1905.8 1530.65 Q1910.52 1530.65 1913.46 1534.4 Q1916.42 1538.15 1916.42 1544.26 Q1916.42 1550.37 1913.46 1554.12 Q1910.52 1557.87 1905.8 1557.87 Q1902.95 1557.87 1900.89 1556.76 Q1898.85 1555.63 1897.51 1553.31 L1897.51 1557.2 L1893.23 1557.2 L1893.23 1521.18 L1897.51 1521.18 L1897.51 1535.21 Z\" fill=\"#000000\" fill-rule=\"evenodd\" fill-opacity=\"1\" /><path clip-path=\"url(#clip430)\" d=\"M 0 0 M1920.89 1521.18 L1925.15 1521.18 L1925.15 1557.2 L1920.89 1557.2 L1920.89 1521.18 Z\" fill=\"#000000\" fill-rule=\"evenodd\" fill-opacity=\"1\" /><path clip-path=\"url(#clip430)\" d=\"M 0 0 M1951.79 1543.17 L1951.79 1545.26 L1932.21 1545.26 Q1932.49 1549.65 1934.85 1551.97 Q1937.23 1554.26 1941.47 1554.26 Q1943.92 1554.26 1946.22 1553.66 Q1948.53 1553.06 1950.8 1551.85 L1950.8 1555.88 Q1948.51 1556.85 1946.1 1557.36 Q1943.69 1557.87 1941.22 1557.87 Q1935.01 1557.87 1931.38 1554.26 Q1927.77 1550.65 1927.77 1544.49 Q1927.77 1538.13 1931.19 1534.4 Q1934.64 1530.65 1940.48 1530.65 Q1945.71 1530.65 1948.74 1534.03 Q1951.79 1537.39 1951.79 1543.17 M1947.54 1541.92 Q1947.49 1538.43 1945.57 1536.34 Q1943.67 1534.26 1940.52 1534.26 Q1936.96 1534.26 1934.8 1536.27 Q1932.67 1538.29 1932.35 1541.95 L1947.54 1541.92 Z\" fill=\"#000000\" fill-rule=\"evenodd\" fill-opacity=\"1\" /><path clip-path=\"url(#clip430)\" d=\"M 0 0 M2020.18 1471.93 L2020.18 1476.49 Q2017.52 1475.22 2015.16 1474.6 Q2012.8 1473.97 2010.6 1473.97 Q2006.78 1473.97 2004.69 1475.45 Q2002.63 1476.93 2002.63 1479.67 Q2002.63 1481.96 2004 1483.14 Q2005.39 1484.3 2009.23 1485.01 L2012.06 1485.59 Q2017.29 1486.59 2019.76 1489.11 Q2022.26 1491.61 2022.26 1495.82 Q2022.26 1500.85 2018.88 1503.44 Q2015.53 1506.03 2009.02 1506.03 Q2006.57 1506.03 2003.79 1505.48 Q2001.04 1504.92 1998.07 1503.83 L1998.07 1499.02 Q2000.92 1500.61 2003.65 1501.42 Q2006.38 1502.23 2009.02 1502.23 Q2013.03 1502.23 2015.2 1500.66 Q2017.38 1499.09 2017.38 1496.17 Q2017.38 1493.62 2015.81 1492.19 Q2014.25 1490.75 2010.69 1490.04 L2007.84 1489.48 Q2002.61 1488.44 2000.27 1486.22 Q1997.93 1483.99 1997.93 1480.04 Q1997.93 1475.45 2001.15 1472.81 Q2004.39 1470.17 2010.06 1470.17 Q2012.49 1470.17 2015.02 1470.61 Q2017.54 1471.05 2020.18 1471.93 Z\" fill=\"#000000\" fill-rule=\"evenodd\" fill-opacity=\"1\" /><path clip-path=\"url(#clip430)\" d=\"M 0 0 M2048.91 1491.33 L2048.91 1493.42 L2029.32 1493.42 Q2029.6 1497.81 2031.96 1500.13 Q2034.35 1502.42 2038.58 1502.42 Q2041.04 1502.42 2043.33 1501.82 Q2045.64 1501.22 2047.91 1500.01 L2047.91 1504.04 Q2045.62 1505.01 2043.21 1505.52 Q2040.8 1506.03 2038.33 1506.03 Q2032.12 1506.03 2028.49 1502.42 Q2024.88 1498.81 2024.88 1492.65 Q2024.88 1486.29 2028.3 1482.56 Q2031.75 1478.81 2037.59 1478.81 Q2042.82 1478.81 2045.85 1482.19 Q2048.91 1485.55 2048.91 1491.33 M2044.65 1490.08 Q2044.6 1486.59 2042.68 1484.5 Q2040.78 1482.42 2037.63 1482.42 Q2034.07 1482.42 2031.92 1484.43 Q2029.79 1486.45 2029.46 1490.11 L2044.65 1490.08 Z\" fill=\"#000000\" fill-rule=\"evenodd\" fill-opacity=\"1\" /><path clip-path=\"url(#clip430)\" d=\"M 0 0 M2068.4 1483.42 Q2067.68 1483 2066.82 1482.81 Q2065.99 1482.61 2064.97 1482.61 Q2061.36 1482.61 2059.42 1484.97 Q2057.49 1487.3 2057.49 1491.7 L2057.49 1505.36 L2053.21 1505.36 L2053.21 1479.43 L2057.49 1479.43 L2057.49 1483.46 Q2058.84 1481.1 2060.99 1479.97 Q2063.14 1478.81 2066.22 1478.81 Q2066.66 1478.81 2067.19 1478.88 Q2067.73 1478.92 2068.37 1479.04 L2068.4 1483.42 Z\" fill=\"#000000\" fill-rule=\"evenodd\" fill-opacity=\"1\" /><path clip-path=\"url(#clip430)\" d=\"M 0 0 M2072.86 1479.43 L2077.12 1479.43 L2077.12 1505.36 L2072.86 1505.36 L2072.86 1479.43 M2072.86 1469.34 L2077.12 1469.34 L2077.12 1474.74 L2072.86 1474.74 L2072.86 1469.34 Z\" fill=\"#000000\" fill-rule=\"evenodd\" fill-opacity=\"1\" /><path clip-path=\"url(#clip430)\" d=\"M 0 0 M2093.37 1492.33 Q2088.21 1492.33 2086.22 1493.51 Q2084.23 1494.69 2084.23 1497.54 Q2084.23 1499.8 2085.71 1501.15 Q2087.22 1502.47 2089.79 1502.47 Q2093.33 1502.47 2095.46 1499.97 Q2097.61 1497.44 2097.61 1493.28 L2097.61 1492.33 L2093.37 1492.33 M2101.87 1490.57 L2101.87 1505.36 L2097.61 1505.36 L2097.61 1501.42 Q2096.15 1503.79 2093.98 1504.92 Q2091.8 1506.03 2088.65 1506.03 Q2084.67 1506.03 2082.31 1503.81 Q2079.97 1501.56 2079.97 1497.81 Q2079.97 1493.44 2082.89 1491.22 Q2085.83 1488.99 2091.64 1488.99 L2097.61 1488.99 L2097.61 1488.58 Q2097.61 1485.64 2095.67 1484.04 Q2093.74 1482.42 2090.25 1482.42 Q2088.03 1482.42 2085.92 1482.95 Q2083.81 1483.48 2081.87 1484.55 L2081.87 1480.61 Q2084.21 1479.71 2086.41 1479.27 Q2088.61 1478.81 2090.69 1478.81 Q2096.31 1478.81 2099.09 1481.73 Q2101.87 1484.64 2101.87 1490.57 Z\" fill=\"#000000\" fill-rule=\"evenodd\" fill-opacity=\"1\" /><path clip-path=\"url(#clip430)\" d=\"M 0 0 M2106.34 1469.34 L2110.6 1469.34 L2110.6 1505.36 L2106.34 1505.36 L2106.34 1469.34 Z\" fill=\"#000000\" fill-rule=\"evenodd\" fill-opacity=\"1\" /><path clip-path=\"url(#clip430)\" d=\"M 0 0 M2115.06 1479.43 L2119.32 1479.43 L2119.32 1505.36 L2115.06 1505.36 L2115.06 1479.43 M2115.06 1469.34 L2119.32 1469.34 L2119.32 1474.74 L2115.06 1474.74 L2115.06 1469.34 Z\" fill=\"#000000\" fill-rule=\"evenodd\" fill-opacity=\"1\" /><path clip-path=\"url(#clip430)\" d=\"M 0 0 M2121.94 1479.43 L2142.17 1479.43 L2142.17 1483.32 L2126.15 1501.96 L2142.17 1501.96 L2142.17 1505.36 L2121.36 1505.36 L2121.36 1501.47 L2137.38 1482.84 L2121.94 1482.84 L2121.94 1479.43 Z\" fill=\"#000000\" fill-rule=\"evenodd\" fill-opacity=\"1\" /><path clip-path=\"url(#clip430)\" d=\"M 0 0 M2158.42 1492.33 Q2153.26 1492.33 2151.27 1493.51 Q2149.28 1494.69 2149.28 1497.54 Q2149.28 1499.8 2150.76 1501.15 Q2152.26 1502.47 2154.83 1502.47 Q2158.37 1502.47 2160.5 1499.97 Q2162.66 1497.44 2162.66 1493.28 L2162.66 1492.33 L2158.42 1492.33 M2166.92 1490.57 L2166.92 1505.36 L2162.66 1505.36 L2162.66 1501.42 Q2161.2 1503.79 2159.02 1504.92 Q2156.85 1506.03 2153.7 1506.03 Q2149.72 1506.03 2147.36 1503.81 Q2145.02 1501.56 2145.02 1497.81 Q2145.02 1493.44 2147.93 1491.22 Q2150.87 1488.99 2156.68 1488.99 L2162.66 1488.99 L2162.66 1488.58 Q2162.66 1485.64 2160.71 1484.04 Q2158.79 1482.42 2155.3 1482.42 Q2153.07 1482.42 2150.97 1482.95 Q2148.86 1483.48 2146.92 1484.55 L2146.92 1480.61 Q2149.25 1479.71 2151.45 1479.27 Q2153.65 1478.81 2155.73 1478.81 Q2161.36 1478.81 2164.14 1481.73 Q2166.92 1484.64 2166.92 1490.57 Z\" fill=\"#000000\" fill-rule=\"evenodd\" fill-opacity=\"1\" /><path clip-path=\"url(#clip430)\" d=\"M 0 0 M2175.6 1472.07 L2175.6 1479.43 L2184.37 1479.43 L2184.37 1482.74 L2175.6 1482.74 L2175.6 1496.82 Q2175.6 1499.99 2176.45 1500.89 Q2177.33 1501.8 2179.99 1501.8 L2184.37 1501.8 L2184.37 1505.36 L2179.99 1505.36 Q2175.06 1505.36 2173.19 1503.53 Q2171.31 1501.68 2171.31 1496.82 L2171.31 1482.74 L2168.19 1482.74 L2168.19 1479.43 L2171.31 1479.43 L2171.31 1472.07 L2175.6 1472.07 Z\" fill=\"#000000\" fill-rule=\"evenodd\" fill-opacity=\"1\" /><path clip-path=\"url(#clip430)\" d=\"M 0 0 M2188.84 1479.43 L2193.1 1479.43 L2193.1 1505.36 L2188.84 1505.36 L2188.84 1479.43 M2188.84 1469.34 L2193.1 1469.34 L2193.1 1474.74 L2188.84 1474.74 L2188.84 1469.34 Z\" fill=\"#000000\" fill-rule=\"evenodd\" fill-opacity=\"1\" /><path clip-path=\"url(#clip430)\" d=\"M 0 0 M2207.61 1482.42 Q2204.18 1482.42 2202.19 1485.11 Q2200.2 1487.77 2200.2 1492.42 Q2200.2 1497.07 2202.17 1499.76 Q2204.16 1502.42 2207.61 1502.42 Q2211.01 1502.42 2213 1499.73 Q2214.99 1497.05 2214.99 1492.42 Q2214.99 1487.81 2213 1485.13 Q2211.01 1482.42 2207.61 1482.42 M2207.61 1478.81 Q2213.17 1478.81 2216.34 1482.42 Q2219.51 1486.03 2219.51 1492.42 Q2219.51 1498.79 2216.34 1502.42 Q2213.17 1506.03 2207.61 1506.03 Q2202.03 1506.03 2198.86 1502.42 Q2195.71 1498.79 2195.71 1492.42 Q2195.71 1486.03 2198.86 1482.42 Q2202.03 1478.81 2207.61 1478.81 Z\" fill=\"#000000\" fill-rule=\"evenodd\" fill-opacity=\"1\" /><path clip-path=\"url(#clip430)\" d=\"M 0 0 M2245.53 1489.71 L2245.53 1505.36 L2241.27 1505.36 L2241.27 1489.85 Q2241.27 1486.17 2239.83 1484.34 Q2238.4 1482.51 2235.53 1482.51 Q2232.08 1482.51 2230.09 1484.71 Q2228.1 1486.91 2228.1 1490.71 L2228.1 1505.36 L2223.81 1505.36 L2223.81 1479.43 L2228.1 1479.43 L2228.1 1483.46 Q2229.62 1481.12 2231.68 1479.97 Q2233.77 1478.81 2236.48 1478.81 Q2240.94 1478.81 2243.23 1481.59 Q2245.53 1484.34 2245.53 1489.71 Z\" fill=\"#000000\" fill-rule=\"evenodd\" fill-opacity=\"1\" /><path clip-path=\"url(#clip430)\" d=\"M 0 0 M138.205 1403.51 Q134.593 1403.51 132.765 1407.08 Q130.959 1410.62 130.959 1417.75 Q130.959 1424.86 132.765 1428.42 Q134.593 1431.96 138.205 1431.96 Q141.839 1431.96 143.644 1428.42 Q145.473 1424.86 145.473 1417.75 Q145.473 1410.62 143.644 1407.08 Q141.839 1403.51 138.205 1403.51 M138.205 1399.81 Q144.015 1399.81 147.07 1404.42 Q150.149 1409 150.149 1417.75 Q150.149 1426.48 147.07 1431.08 Q144.015 1435.67 138.205 1435.67 Q132.394 1435.67 129.316 1431.08 Q126.26 1426.48 126.26 1417.75 Q126.26 1409 129.316 1404.42 Q132.394 1399.81 138.205 1399.81 Z\" fill=\"#000000\" fill-rule=\"evenodd\" fill-opacity=\"1\" /><path clip-path=\"url(#clip430)\" d=\"M 0 0 M130.242 1082.82 L137.88 1082.82 L137.88 1056.45 L129.57 1058.12 L129.57 1053.86 L137.834 1052.19 L142.51 1052.19 L142.51 1082.82 L150.149 1082.82 L150.149 1086.75 L130.242 1086.75 L130.242 1082.82 Z\" fill=\"#000000\" fill-rule=\"evenodd\" fill-opacity=\"1\" /><path clip-path=\"url(#clip430)\" d=\"M 0 0 M133.83 734.578 L150.149 734.578 L150.149 738.513 L128.205 738.513 L128.205 734.578 Q130.867 731.823 135.45 727.193 Q140.056 722.541 141.237 721.198 Q143.482 718.675 144.362 716.939 Q145.265 715.18 145.265 713.49 Q145.265 710.735 143.32 708.999 Q141.399 707.263 138.297 707.263 Q136.098 707.263 133.644 708.027 Q131.214 708.791 128.436 710.342 L128.436 705.619 Q131.26 704.485 133.714 703.906 Q136.168 703.328 138.205 703.328 Q143.575 703.328 146.769 706.013 Q149.964 708.698 149.964 713.189 Q149.964 715.318 149.154 717.24 Q148.367 719.138 146.26 721.73 Q145.681 722.402 142.58 725.619 Q139.478 728.814 133.83 734.578 Z\" fill=\"#000000\" fill-rule=\"evenodd\" fill-opacity=\"1\" /><path clip-path=\"url(#clip430)\" d=\"M 0 0 M143.019 371.638 Q146.376 372.355 148.251 374.624 Q150.149 376.892 150.149 380.226 Q150.149 385.341 146.63 388.142 Q143.112 390.943 136.63 390.943 Q134.455 390.943 132.14 390.503 Q129.848 390.087 127.394 389.23 L127.394 384.716 Q129.339 385.85 131.654 386.429 Q133.968 387.008 136.492 387.008 Q140.89 387.008 143.181 385.272 Q145.496 383.536 145.496 380.226 Q145.496 377.17 143.343 375.457 Q141.214 373.721 137.394 373.721 L133.367 373.721 L133.367 369.878 L137.58 369.878 Q141.029 369.878 142.857 368.513 Q144.686 367.124 144.686 364.531 Q144.686 361.869 142.788 360.457 Q140.913 359.022 137.394 359.022 Q135.473 359.022 133.274 359.439 Q131.075 359.855 128.436 360.735 L128.436 356.568 Q131.098 355.828 133.413 355.457 Q135.751 355.087 137.811 355.087 Q143.135 355.087 146.237 357.517 Q149.339 359.925 149.339 364.045 Q149.339 366.915 147.695 368.906 Q146.052 370.874 143.019 371.638 Z\" fill=\"#000000\" fill-rule=\"evenodd\" fill-opacity=\"1\" /><path clip-path=\"url(#clip430)\" d=\"M 0 0 M947.563 44.2197 Q950.196 45.1109 952.667 48.0275 Q955.179 50.9442 957.69 56.0483 L965.995 72.576 L957.204 72.576 L949.467 57.061 Q946.469 50.9847 943.634 48.9997 Q940.838 47.0148 935.977 47.0148 L927.065 47.0148 L927.065 72.576 L918.882 72.576 L918.882 12.096 L937.355 12.096 Q947.725 12.096 952.829 16.4305 Q957.933 20.7649 957.933 29.5149 Q957.933 35.2267 955.26 38.994 Q952.627 42.7613 947.563 44.2197 M927.065 18.8205 L927.065 40.2903 L937.355 40.2903 Q943.269 40.2903 946.267 37.5762 Q949.305 34.8216 949.305 29.5149 Q949.305 24.2082 946.267 21.5346 Q943.269 18.8205 937.355 18.8205 L927.065 18.8205 Z\" fill=\"#000000\" fill-rule=\"evenodd\" fill-opacity=\"1\" /><path clip-path=\"url(#clip430)\" d=\"M 0 0 M1008.89 48.0275 L1008.89 51.6733 L974.623 51.6733 Q975.109 59.3701 979.241 63.421 Q983.413 67.4314 990.827 67.4314 Q995.121 67.4314 999.131 66.3781 Q1003.18 65.3249 1007.15 63.2184 L1007.15 70.267 Q1003.14 71.9684 998.928 72.8596 Q994.715 73.7508 990.381 73.7508 Q979.525 73.7508 973.165 67.4314 Q966.845 61.1119 966.845 50.3365 Q966.845 39.1965 972.841 32.6746 Q978.876 26.1121 989.085 26.1121 Q998.24 26.1121 1003.55 32.0264 Q1008.89 37.9003 1008.89 48.0275 M1001.44 45.84 Q1001.36 39.7232 997.997 36.0774 Q994.675 32.4315 989.166 32.4315 Q982.927 32.4315 979.16 35.9558 Q975.433 39.4801 974.866 45.8805 L1001.44 45.84 Z\" fill=\"#000000\" fill-rule=\"evenodd\" fill-opacity=\"1\" /><path clip-path=\"url(#clip430)\" d=\"M 0 0 M1037.33 49.7694 Q1028.3 49.7694 1024.81 51.8354 Q1021.33 53.9013 1021.33 58.8839 Q1021.33 62.8538 1023.92 65.2034 Q1026.56 67.5124 1031.05 67.5124 Q1037.25 67.5124 1040.98 63.1374 Q1044.74 58.7219 1044.74 51.4303 L1044.74 49.7694 L1037.33 49.7694 M1052.2 46.6907 L1052.2 72.576 L1044.74 72.576 L1044.74 65.6895 Q1042.19 69.8214 1038.38 71.8063 Q1034.58 73.7508 1029.07 73.7508 Q1022.1 73.7508 1017.97 69.8619 Q1013.88 65.9325 1013.88 59.3701 Q1013.88 51.7138 1018.98 47.825 Q1024.12 43.9361 1034.29 43.9361 L1044.74 43.9361 L1044.74 43.2069 Q1044.74 38.0623 1041.34 35.2672 Q1037.98 32.4315 1031.86 32.4315 Q1027.97 32.4315 1024.29 33.3632 Q1020.6 34.295 1017.2 36.1584 L1017.2 29.2718 Q1021.29 27.692 1025.14 26.9223 Q1028.99 26.1121 1032.63 26.1121 Q1042.48 26.1121 1047.34 31.2163 Q1052.2 36.3204 1052.2 46.6907 Z\" fill=\"#000000\" fill-rule=\"evenodd\" fill-opacity=\"1\" /><path clip-path=\"url(#clip430)\" d=\"M 0 0 M1089.87 34.0924 L1089.87 9.54393 L1097.32 9.54393 L1097.32 72.576 L1089.87 72.576 L1089.87 65.7705 Q1087.52 69.8214 1083.92 71.8063 Q1080.35 73.7508 1075.33 73.7508 Q1067.11 73.7508 1061.92 67.1883 Q1056.78 60.6258 1056.78 49.9314 Q1056.78 39.2371 1061.92 32.6746 Q1067.11 26.1121 1075.33 26.1121 Q1080.35 26.1121 1083.92 28.0971 Q1087.52 30.0415 1089.87 34.0924 M1064.47 49.9314 Q1064.47 58.1548 1067.83 62.8538 Q1071.24 67.5124 1077.15 67.5124 Q1083.07 67.5124 1086.47 62.8538 Q1089.87 58.1548 1089.87 49.9314 Q1089.87 41.7081 1086.47 37.0496 Q1083.07 32.3505 1077.15 32.3505 Q1071.24 32.3505 1067.83 37.0496 Q1064.47 41.7081 1064.47 49.9314 Z\" fill=\"#000000\" fill-rule=\"evenodd\" fill-opacity=\"1\" /><path clip-path=\"url(#clip430)\" d=\"M 0 0 M1140.02 18.8205 L1140.02 41.5461 L1150.31 41.5461 Q1156.02 41.5461 1159.14 38.5889 Q1162.26 35.6318 1162.26 30.163 Q1162.26 24.7348 1159.14 21.7777 Q1156.02 18.8205 1150.31 18.8205 L1140.02 18.8205 M1131.84 12.096 L1150.31 12.096 Q1160.48 12.096 1165.66 16.714 Q1170.89 21.2916 1170.89 30.163 Q1170.89 39.1155 1165.66 43.6931 Q1160.48 48.2706 1150.31 48.2706 L1140.02 48.2706 L1140.02 72.576 L1131.84 72.576 L1131.84 12.096 Z\" fill=\"#000000\" fill-rule=\"evenodd\" fill-opacity=\"1\" /><path clip-path=\"url(#clip430)\" d=\"M 0 0 M1214.56 48.0275 L1214.56 51.6733 L1180.29 51.6733 Q1180.77 59.3701 1184.91 63.421 Q1189.08 67.4314 1196.49 67.4314 Q1200.78 67.4314 1204.8 66.3781 Q1208.85 65.3249 1212.82 63.2184 L1212.82 70.267 Q1208.81 71.9684 1204.59 72.8596 Q1200.38 73.7508 1196.05 73.7508 Q1185.19 73.7508 1178.83 67.4314 Q1172.51 61.1119 1172.51 50.3365 Q1172.51 39.1965 1178.5 32.6746 Q1184.54 26.1121 1194.75 26.1121 Q1203.9 26.1121 1209.21 32.0264 Q1214.56 37.9003 1214.56 48.0275 M1207.1 45.84 Q1207.02 39.7232 1203.66 36.0774 Q1200.34 32.4315 1194.83 32.4315 Q1188.59 32.4315 1184.82 35.9558 Q1181.1 39.4801 1180.53 45.8805 L1207.1 45.84 Z\" fill=\"#000000\" fill-rule=\"evenodd\" fill-opacity=\"1\" /><path clip-path=\"url(#clip430)\" d=\"M 0 0 M1248.67 34.1734 Q1247.41 33.4443 1245.91 33.1202 Q1244.45 32.7556 1242.67 32.7556 Q1236.35 32.7556 1232.95 36.8875 Q1229.59 40.9789 1229.59 48.6757 L1229.59 72.576 L1222.09 72.576 L1222.09 27.2059 L1229.59 27.2059 L1229.59 34.2544 Q1231.94 30.1225 1235.7 28.1376 Q1239.47 26.1121 1244.86 26.1121 Q1245.63 26.1121 1246.56 26.2337 Q1247.49 26.3147 1248.63 26.5172 L1248.67 34.1734 Z\" fill=\"#000000\" fill-rule=\"evenodd\" fill-opacity=\"1\" /><path clip-path=\"url(#clip430)\" d=\"M 0 0 M1279.45 9.54393 L1279.45 15.7418 L1272.32 15.7418 Q1268.31 15.7418 1266.73 17.3622 Q1265.19 18.9825 1265.19 23.1955 L1265.19 27.2059 L1277.47 27.2059 L1277.47 32.9987 L1265.19 32.9987 L1265.19 72.576 L1257.7 72.576 L1257.7 32.9987 L1250.57 32.9987 L1250.57 27.2059 L1257.7 27.2059 L1257.7 24.0462 Q1257.7 16.471 1261.22 13.0277 Q1264.75 9.54393 1272.4 9.54393 L1279.45 9.54393 Z\" fill=\"#000000\" fill-rule=\"evenodd\" fill-opacity=\"1\" /><path clip-path=\"url(#clip430)\" d=\"M 0 0 M1304.85 32.4315 Q1298.86 32.4315 1295.37 37.1306 Q1291.89 41.7891 1291.89 49.9314 Q1291.89 58.0738 1295.33 62.7728 Q1298.82 67.4314 1304.85 67.4314 Q1310.81 67.4314 1314.29 62.7323 Q1317.78 58.0333 1317.78 49.9314 Q1317.78 41.8701 1314.29 37.1711 Q1310.81 32.4315 1304.85 32.4315 M1304.85 26.1121 Q1314.57 26.1121 1320.12 32.4315 Q1325.67 38.7509 1325.67 49.9314 Q1325.67 61.0714 1320.12 67.4314 Q1314.57 73.7508 1304.85 73.7508 Q1295.09 73.7508 1289.54 67.4314 Q1284.03 61.0714 1284.03 49.9314 Q1284.03 38.7509 1289.54 32.4315 Q1295.09 26.1121 1304.85 26.1121 Z\" fill=\"#000000\" fill-rule=\"evenodd\" fill-opacity=\"1\" /><path clip-path=\"url(#clip430)\" d=\"M 0 0 M1359.78 34.1734 Q1358.53 33.4443 1357.03 33.1202 Q1355.57 32.7556 1353.79 32.7556 Q1347.47 32.7556 1344.07 36.8875 Q1340.7 40.9789 1340.7 48.6757 L1340.7 72.576 L1333.21 72.576 L1333.21 27.2059 L1340.7 27.2059 L1340.7 34.2544 Q1343.05 30.1225 1346.82 28.1376 Q1350.59 26.1121 1355.98 26.1121 Q1356.74 26.1121 1357.68 26.2337 Q1358.61 26.3147 1359.74 26.5172 L1359.78 34.1734 Z\" fill=\"#000000\" fill-rule=\"evenodd\" fill-opacity=\"1\" /><path clip-path=\"url(#clip430)\" d=\"M 0 0 M1401.47 35.9153 Q1404.26 30.8922 1408.15 28.5022 Q1412.04 26.1121 1417.31 26.1121 Q1424.39 26.1121 1428.24 31.0947 Q1432.09 36.0368 1432.09 45.1919 L1432.09 72.576 L1424.6 72.576 L1424.6 45.4349 Q1424.6 38.913 1422.29 35.7533 Q1419.98 32.5936 1415.24 32.5936 Q1409.45 32.5936 1406.08 36.4419 Q1402.72 40.2903 1402.72 46.9338 L1402.72 72.576 L1395.23 72.576 L1395.23 45.4349 Q1395.23 38.8725 1392.92 35.7533 Q1390.61 32.5936 1385.79 32.5936 Q1380.08 32.5936 1376.72 36.4824 Q1373.35 40.3308 1373.35 46.9338 L1373.35 72.576 L1365.86 72.576 L1365.86 27.2059 L1373.35 27.2059 L1373.35 34.2544 Q1375.91 30.082 1379.47 28.0971 Q1383.04 26.1121 1387.94 26.1121 Q1392.88 26.1121 1396.32 28.6237 Q1399.81 31.1352 1401.47 35.9153 Z\" fill=\"#000000\" fill-rule=\"evenodd\" fill-opacity=\"1\" /><path clip-path=\"url(#clip430)\" d=\"M 0 0 M1460.53 49.7694 Q1451.5 49.7694 1448.01 51.8354 Q1444.53 53.9013 1444.53 58.8839 Q1444.53 62.8538 1447.12 65.2034 Q1449.75 67.5124 1454.25 67.5124 Q1460.45 67.5124 1464.17 63.1374 Q1467.94 58.7219 1467.94 51.4303 L1467.94 49.7694 L1460.53 49.7694 M1475.4 46.6907 L1475.4 72.576 L1467.94 72.576 L1467.94 65.6895 Q1465.39 69.8214 1461.58 71.8063 Q1457.77 73.7508 1452.27 73.7508 Q1445.3 73.7508 1441.17 69.8619 Q1437.07 65.9325 1437.07 59.3701 Q1437.07 51.7138 1442.18 47.825 Q1447.32 43.9361 1457.49 43.9361 L1467.94 43.9361 L1467.94 43.2069 Q1467.94 38.0623 1464.54 35.2672 Q1461.18 32.4315 1455.06 32.4315 Q1451.17 32.4315 1447.48 33.3632 Q1443.8 34.295 1440.4 36.1584 L1440.4 29.2718 Q1444.49 27.692 1448.34 26.9223 Q1452.18 26.1121 1455.83 26.1121 Q1465.67 26.1121 1470.53 31.2163 Q1475.4 36.3204 1475.4 46.6907 Z\" fill=\"#000000\" fill-rule=\"evenodd\" fill-opacity=\"1\" /><path clip-path=\"url(#clip430)\" d=\"M 0 0 M1520.93 45.1919 L1520.93 72.576 L1513.47 72.576 L1513.47 45.4349 Q1513.47 38.994 1510.96 35.7938 Q1508.45 32.5936 1503.43 32.5936 Q1497.39 32.5936 1493.91 36.4419 Q1490.42 40.2903 1490.42 46.9338 L1490.42 72.576 L1482.93 72.576 L1482.93 27.2059 L1490.42 27.2059 L1490.42 34.2544 Q1493.1 30.163 1496.7 28.1376 Q1500.35 26.1121 1505.09 26.1121 Q1512.91 26.1121 1516.92 30.9732 Q1520.93 35.7938 1520.93 45.1919 Z\" fill=\"#000000\" fill-rule=\"evenodd\" fill-opacity=\"1\" /><path clip-path=\"url(#clip430)\" d=\"M 0 0 M1561.4 28.9478 L1561.4 35.9153 Q1558.24 34.1734 1555.04 33.3227 Q1551.88 32.4315 1548.64 32.4315 Q1541.38 32.4315 1537.37 37.0496 Q1533.36 41.6271 1533.36 49.9314 Q1533.36 58.2358 1537.37 62.8538 Q1541.38 67.4314 1548.64 67.4314 Q1551.88 67.4314 1555.04 66.5807 Q1558.24 65.6895 1561.4 63.9476 L1561.4 70.8341 Q1558.28 72.2924 1554.91 73.0216 Q1551.59 73.7508 1547.83 73.7508 Q1537.58 73.7508 1531.54 67.3098 Q1525.51 60.8689 1525.51 49.9314 Q1525.51 38.832 1531.58 32.472 Q1537.7 26.1121 1548.31 26.1121 Q1551.76 26.1121 1555.04 26.8413 Q1558.32 27.5299 1561.4 28.9478 Z\" fill=\"#000000\" fill-rule=\"evenodd\" fill-opacity=\"1\" /><path clip-path=\"url(#clip430)\" d=\"M 0 0 M1608.02 48.0275 L1608.02 51.6733 L1573.75 51.6733 Q1574.24 59.3701 1578.37 63.421 Q1582.54 67.4314 1589.96 67.4314 Q1594.25 67.4314 1598.26 66.3781 Q1602.31 65.3249 1606.28 63.2184 L1606.28 70.267 Q1602.27 71.9684 1598.06 72.8596 Q1593.84 73.7508 1589.51 73.7508 Q1578.65 73.7508 1572.29 67.4314 Q1565.97 61.1119 1565.97 50.3365 Q1565.97 39.1965 1571.97 32.6746 Q1578.01 26.1121 1588.21 26.1121 Q1597.37 26.1121 1602.68 32.0264 Q1608.02 37.9003 1608.02 48.0275 M1600.57 45.84 Q1600.49 39.7232 1597.13 36.0774 Q1593.8 32.4315 1588.29 32.4315 Q1582.06 32.4315 1578.29 35.9558 Q1574.56 39.4801 1573.99 45.8805 L1600.57 45.84 Z\" fill=\"#000000\" fill-rule=\"evenodd\" fill-opacity=\"1\" /><path clip-path=\"url(#clip430)\" d=\"M 0 0 M955.766 109.541 L955.766 156.571 L965.65 156.571 Q978.167 156.571 983.96 150.9 Q989.794 145.229 989.794 132.995 Q989.794 120.843 983.96 115.212 Q978.167 109.541 965.65 109.541 L955.766 109.541 M947.583 102.816 L964.394 102.816 Q981.975 102.816 990.199 110.148 Q998.422 117.44 998.422 132.995 Q998.422 148.632 990.158 155.964 Q981.894 163.296 964.394 163.296 L947.583 163.296 L947.583 102.816 Z\" fill=\"#000000\" fill-rule=\"evenodd\" fill-opacity=\"1\" /><path clip-path=\"url(#clip430)\" d=\"M 0 0 M1026.86 140.489 Q1017.83 140.489 1014.34 142.555 Q1010.86 144.621 1010.86 149.604 Q1010.86 153.574 1013.45 155.923 Q1016.08 158.232 1020.58 158.232 Q1026.78 158.232 1030.51 153.857 Q1034.27 149.442 1034.27 142.15 L1034.27 140.489 L1026.86 140.489 M1041.73 137.411 L1041.73 163.296 L1034.27 163.296 L1034.27 156.409 Q1031.72 160.541 1027.91 162.526 Q1024.1 164.471 1018.6 164.471 Q1011.63 164.471 1007.5 160.582 Q1003.4 156.653 1003.4 150.09 Q1003.4 142.434 1008.51 138.545 Q1013.65 134.656 1023.82 134.656 L1034.27 134.656 L1034.27 133.927 Q1034.27 128.782 1030.87 125.987 Q1027.51 123.152 1021.39 123.152 Q1017.5 123.152 1013.82 124.083 Q1010.13 125.015 1006.73 126.878 L1006.73 119.992 Q1010.82 118.412 1014.67 117.642 Q1018.51 116.832 1022.16 116.832 Q1032 116.832 1036.87 121.936 Q1041.73 127.04 1041.73 137.411 Z\" fill=\"#000000\" fill-rule=\"evenodd\" fill-opacity=\"1\" /><path clip-path=\"url(#clip430)\" d=\"M 0 0 M1056.92 105.044 L1056.92 117.926 L1072.27 117.926 L1072.27 123.719 L1056.92 123.719 L1056.92 148.348 Q1056.92 153.898 1058.42 155.478 Q1059.96 157.058 1064.61 157.058 L1072.27 157.058 L1072.27 163.296 L1064.61 163.296 Q1055.99 163.296 1052.7 160.096 Q1049.42 156.855 1049.42 148.348 L1049.42 123.719 L1043.95 123.719 L1043.95 117.926 L1049.42 117.926 L1049.42 105.044 L1056.92 105.044 Z\" fill=\"#000000\" fill-rule=\"evenodd\" fill-opacity=\"1\" /><path clip-path=\"url(#clip430)\" d=\"M 0 0 M1100.71 140.489 Q1091.67 140.489 1088.19 142.555 Q1084.71 144.621 1084.71 149.604 Q1084.71 153.574 1087.3 155.923 Q1089.93 158.232 1094.43 158.232 Q1100.63 158.232 1104.35 153.857 Q1108.12 149.442 1108.12 142.15 L1108.12 140.489 L1100.71 140.489 M1115.57 137.411 L1115.57 163.296 L1108.12 163.296 L1108.12 156.409 Q1105.57 160.541 1101.76 162.526 Q1097.95 164.471 1092.44 164.471 Q1085.48 164.471 1081.34 160.582 Q1077.25 156.653 1077.25 150.09 Q1077.25 142.434 1082.36 138.545 Q1087.5 134.656 1097.67 134.656 L1108.12 134.656 L1108.12 133.927 Q1108.12 128.782 1104.72 125.987 Q1101.36 123.152 1095.24 123.152 Q1091.35 123.152 1087.66 124.083 Q1083.98 125.015 1080.57 126.878 L1080.57 119.992 Q1084.67 118.412 1088.51 117.642 Q1092.36 116.832 1096.01 116.832 Q1105.85 116.832 1110.71 121.936 Q1115.57 127.04 1115.57 137.411 Z\" fill=\"#000000\" fill-rule=\"evenodd\" fill-opacity=\"1\" /><path clip-path=\"url(#clip430)\" d=\"M 0 0 M1123.72 102.816 L1158.47 102.816 L1158.47 109.703 L1131.9 109.703 L1131.9 127.527 L1155.88 127.527 L1155.88 134.413 L1131.9 134.413 L1131.9 163.296 L1123.72 163.296 L1123.72 102.816 Z\" fill=\"#000000\" fill-rule=\"evenodd\" fill-opacity=\"1\" /><path clip-path=\"url(#clip430)\" d=\"M 0 0 M1186.55 124.893 Q1185.29 124.164 1183.79 123.84 Q1182.33 123.476 1180.55 123.476 Q1174.23 123.476 1170.83 127.608 Q1167.47 131.699 1167.47 139.396 L1167.47 163.296 L1159.97 163.296 L1159.97 117.926 L1167.47 117.926 L1167.47 124.974 Q1169.82 120.843 1173.58 118.858 Q1177.35 116.832 1182.74 116.832 Q1183.51 116.832 1184.44 116.954 Q1185.37 117.035 1186.51 117.237 L1186.55 124.893 Z\" fill=\"#000000\" fill-rule=\"evenodd\" fill-opacity=\"1\" /><path clip-path=\"url(#clip430)\" d=\"M 0 0 M1214.98 140.489 Q1205.95 140.489 1202.47 142.555 Q1198.98 144.621 1198.98 149.604 Q1198.98 153.574 1201.57 155.923 Q1204.21 158.232 1208.7 158.232 Q1214.9 158.232 1218.63 153.857 Q1222.4 149.442 1222.4 142.15 L1222.4 140.489 L1214.98 140.489 M1229.85 137.411 L1229.85 163.296 L1222.4 163.296 L1222.4 156.409 Q1219.84 160.541 1216.04 162.526 Q1212.23 164.471 1206.72 164.471 Q1199.75 164.471 1195.62 160.582 Q1191.53 156.653 1191.53 150.09 Q1191.53 142.434 1196.63 138.545 Q1201.78 134.656 1211.95 134.656 L1222.4 134.656 L1222.4 133.927 Q1222.4 128.782 1218.99 125.987 Q1215.63 123.152 1209.51 123.152 Q1205.63 123.152 1201.94 124.083 Q1198.25 125.015 1194.85 126.878 L1194.85 119.992 Q1198.94 118.412 1202.79 117.642 Q1206.64 116.832 1210.28 116.832 Q1220.13 116.832 1224.99 121.936 Q1229.85 127.04 1229.85 137.411 Z\" fill=\"#000000\" fill-rule=\"evenodd\" fill-opacity=\"1\" /><path clip-path=\"url(#clip430)\" d=\"M 0 0 M1272.99 126.635 Q1275.79 121.612 1279.68 119.222 Q1283.57 116.832 1288.83 116.832 Q1295.92 116.832 1299.77 121.815 Q1303.62 126.757 1303.62 135.912 L1303.62 163.296 L1296.12 163.296 L1296.12 136.155 Q1296.12 129.633 1293.81 126.473 Q1291.5 123.314 1286.77 123.314 Q1280.97 123.314 1277.61 127.162 Q1274.25 131.01 1274.25 137.654 L1274.25 163.296 L1266.75 163.296 L1266.75 136.155 Q1266.75 129.592 1264.44 126.473 Q1262.14 123.314 1257.32 123.314 Q1251.6 123.314 1248.24 127.202 Q1244.88 131.051 1244.88 137.654 L1244.88 163.296 L1237.38 163.296 L1237.38 117.926 L1244.88 117.926 L1244.88 124.974 Q1247.43 120.802 1251 118.817 Q1254.56 116.832 1259.46 116.832 Q1264.4 116.832 1267.85 119.344 Q1271.33 121.855 1272.99 126.635 Z\" fill=\"#000000\" fill-rule=\"evenodd\" fill-opacity=\"1\" /><path clip-path=\"url(#clip430)\" d=\"M 0 0 M1350.24 138.748 L1350.24 142.393 L1315.97 142.393 Q1316.46 150.09 1320.59 154.141 Q1324.76 158.151 1332.18 158.151 Q1336.47 158.151 1340.48 157.098 Q1344.53 156.045 1348.5 153.938 L1348.5 160.987 Q1344.49 162.688 1340.28 163.58 Q1336.06 164.471 1331.73 164.471 Q1320.87 164.471 1314.51 158.151 Q1308.19 151.832 1308.19 141.057 Q1308.19 129.917 1314.19 123.395 Q1320.23 116.832 1330.43 116.832 Q1339.59 116.832 1344.9 122.746 Q1350.24 128.62 1350.24 138.748 M1342.79 136.56 Q1342.71 130.443 1339.35 126.797 Q1336.02 123.152 1330.52 123.152 Q1324.28 123.152 1320.51 126.676 Q1316.78 130.2 1316.22 136.601 L1342.79 136.56 Z\" fill=\"#000000\" fill-rule=\"evenodd\" fill-opacity=\"1\" /><path clip-path=\"url(#clip430)\" d=\"M 0 0 M1359.97 153.007 L1368.51 153.007 L1368.51 163.296 L1359.97 163.296 L1359.97 153.007 M1359.97 120.397 L1368.51 120.397 L1368.51 130.686 L1359.97 130.686 L1359.97 120.397 Z\" fill=\"#000000\" fill-rule=\"evenodd\" fill-opacity=\"1\" /><path clip-path=\"url(#clip430)\" d=\"M 0 0 M1435.27 140.651 Q1435.27 132.428 1431.87 127.77 Q1428.51 123.071 1422.59 123.071 Q1416.68 123.071 1413.28 127.77 Q1409.91 132.428 1409.91 140.651 Q1409.91 148.875 1413.28 153.574 Q1416.68 158.232 1422.59 158.232 Q1428.51 158.232 1431.87 153.574 Q1435.27 148.875 1435.27 140.651 M1409.91 124.812 Q1412.26 120.762 1415.83 118.817 Q1419.43 116.832 1424.42 116.832 Q1432.68 116.832 1437.82 123.395 Q1443.01 129.957 1443.01 140.651 Q1443.01 151.346 1437.82 157.908 Q1432.68 164.471 1424.42 164.471 Q1419.43 164.471 1415.83 162.526 Q1412.26 160.541 1409.91 156.49 L1409.91 163.296 L1402.42 163.296 L1402.42 100.264 L1409.91 100.264 L1409.91 124.812 Z\" fill=\"#000000\" fill-rule=\"evenodd\" fill-opacity=\"1\" /><path clip-path=\"url(#clip430)\" d=\"M 0 0 M1450.83 117.926 L1458.28 117.926 L1458.28 163.296 L1450.83 163.296 L1450.83 117.926 M1450.83 100.264 L1458.28 100.264 L1458.28 109.703 L1450.83 109.703 L1450.83 100.264 Z\" fill=\"#000000\" fill-rule=\"evenodd\" fill-opacity=\"1\" /><path clip-path=\"url(#clip430)\" d=\"M 0 0 M1495.95 140.084 Q1495.95 131.983 1492.59 127.527 Q1489.27 123.071 1483.23 123.071 Q1477.24 123.071 1473.88 127.527 Q1470.55 131.983 1470.55 140.084 Q1470.55 148.146 1473.88 152.602 Q1477.24 157.058 1483.23 157.058 Q1489.27 157.058 1492.59 152.602 Q1495.95 148.146 1495.95 140.084 M1503.41 157.665 Q1503.41 169.251 1498.26 174.882 Q1493.12 180.553 1482.51 180.553 Q1478.58 180.553 1475.09 179.945 Q1471.61 179.378 1468.33 178.163 L1468.33 170.912 Q1471.61 172.694 1474.81 173.545 Q1478.01 174.395 1481.33 174.395 Q1488.66 174.395 1492.31 170.547 Q1495.95 166.739 1495.95 159.002 L1495.95 155.316 Q1493.65 159.326 1490.04 161.311 Q1486.43 163.296 1481.41 163.296 Q1473.07 163.296 1467.96 156.936 Q1462.86 150.576 1462.86 140.084 Q1462.86 129.552 1467.96 123.192 Q1473.07 116.832 1481.41 116.832 Q1486.43 116.832 1490.04 118.817 Q1493.65 120.802 1495.95 124.812 L1495.95 117.926 L1503.41 117.926 L1503.41 157.665 Z\" fill=\"#000000\" fill-rule=\"evenodd\" fill-opacity=\"1\" /><path clip-path=\"url(#clip430)\" d=\"M 0 0 M1541.08 124.812 L1541.08 100.264 L1548.53 100.264 L1548.53 163.296 L1541.08 163.296 L1541.08 156.49 Q1538.73 160.541 1535.13 162.526 Q1531.56 164.471 1526.54 164.471 Q1518.32 164.471 1513.13 157.908 Q1507.99 151.346 1507.99 140.651 Q1507.99 129.957 1513.13 123.395 Q1518.32 116.832 1526.54 116.832 Q1531.56 116.832 1535.13 118.817 Q1538.73 120.762 1541.08 124.812 M1515.68 140.651 Q1515.68 148.875 1519.04 153.574 Q1522.45 158.232 1528.36 158.232 Q1534.28 158.232 1537.68 153.574 Q1541.08 148.875 1541.08 140.651 Q1541.08 132.428 1537.68 127.77 Q1534.28 123.071 1528.36 123.071 Q1522.45 123.071 1519.04 127.77 Q1515.68 132.428 1515.68 140.651 Z\" fill=\"#000000\" fill-rule=\"evenodd\" fill-opacity=\"1\" /><path clip-path=\"url(#clip430)\" d=\"M 0 0 M1579.32 100.264 L1579.32 106.462 L1572.19 106.462 Q1568.18 106.462 1566.6 108.082 Q1565.06 109.703 1565.06 113.915 L1565.06 117.926 L1577.34 117.926 L1577.34 123.719 L1565.06 123.719 L1565.06 163.296 L1557.57 163.296 L1557.57 123.719 L1550.44 123.719 L1550.44 117.926 L1557.57 117.926 L1557.57 114.766 Q1557.57 107.191 1561.09 103.748 Q1564.62 100.264 1572.27 100.264 L1579.32 100.264 Z\" fill=\"#000000\" fill-rule=\"evenodd\" fill-opacity=\"1\" /><path clip-path=\"url(#clip430)\" d=\"M 0 0 M949.244 195.521 L949.244 203.501 Q944.585 201.273 940.454 200.179 Q936.322 199.086 932.473 199.086 Q925.789 199.086 922.143 201.678 Q918.538 204.271 918.538 209.051 Q918.538 213.061 920.928 215.127 Q923.359 217.153 930.083 218.409 L935.025 219.421 Q944.18 221.163 948.515 225.579 Q952.89 229.954 952.89 237.326 Q952.89 246.117 946.976 250.654 Q941.102 255.191 929.719 255.191 Q925.425 255.191 920.564 254.219 Q915.743 253.246 910.558 251.342 L910.558 242.917 Q915.541 245.712 920.321 247.129 Q925.101 248.547 929.719 248.547 Q936.727 248.547 940.535 245.793 Q944.342 243.038 944.342 237.934 Q944.342 233.478 941.588 230.966 Q938.874 228.455 932.635 227.199 L927.653 226.227 Q918.498 224.404 914.406 220.515 Q910.315 216.626 910.315 209.699 Q910.315 201.678 915.946 197.06 Q921.617 192.442 931.542 192.442 Q935.795 192.442 940.211 193.212 Q944.626 193.982 949.244 195.521 Z\" fill=\"#000000\" fill-rule=\"evenodd\" fill-opacity=\"1\" /><path clip-path=\"url(#clip430)\" d=\"M 0 0 M960.708 208.646 L968.162 208.646 L968.162 254.016 L960.708 254.016 L960.708 208.646 M960.708 190.984 L968.162 190.984 L968.162 200.423 L960.708 200.423 L960.708 190.984 Z\" fill=\"#000000\" fill-rule=\"evenodd\" fill-opacity=\"1\" /><path clip-path=\"url(#clip430)\" d=\"M 0 0 M972.739 208.646 L1008.14 208.646 L1008.14 215.451 L980.112 248.061 L1008.14 248.061 L1008.14 254.016 L971.727 254.016 L971.727 247.21 L999.759 214.601 L972.739 214.601 L972.739 208.646 Z\" fill=\"#000000\" fill-rule=\"evenodd\" fill-opacity=\"1\" /><path clip-path=\"url(#clip430)\" d=\"M 0 0 M1054.77 229.468 L1054.77 233.113 L1020.5 233.113 Q1020.99 240.81 1025.12 244.861 Q1029.29 248.871 1036.7 248.871 Q1041 248.871 1045.01 247.818 Q1049.06 246.765 1053.03 244.658 L1053.03 251.707 Q1049.02 253.408 1044.8 254.3 Q1040.59 255.191 1036.26 255.191 Q1025.4 255.191 1019.04 248.871 Q1012.72 242.552 1012.72 231.777 Q1012.72 220.637 1018.72 214.115 Q1024.75 207.552 1034.96 207.552 Q1044.12 207.552 1049.42 213.466 Q1054.77 219.34 1054.77 229.468 M1047.32 227.28 Q1047.24 221.163 1043.87 217.517 Q1040.55 213.872 1035.04 213.872 Q1028.8 213.872 1025.04 217.396 Q1021.31 220.92 1020.74 227.321 L1047.32 227.28 Z\" fill=\"#000000\" fill-rule=\"evenodd\" fill-opacity=\"1\" /><path clip-path=\"url(#clip430)\" d=\"M 0 0 M1064.49 243.727 L1073.04 243.727 L1073.04 254.016 L1064.49 254.016 L1064.49 243.727 M1064.49 211.117 L1073.04 211.117 L1073.04 221.406 L1064.49 221.406 L1064.49 211.117 Z\" fill=\"#000000\" fill-rule=\"evenodd\" fill-opacity=\"1\" /><path clip-path=\"url(#clip430)\" d=\"M 0 0 M1125.13 191.065 Q1119.71 200.382 1117.07 209.497 Q1114.44 218.611 1114.44 227.969 Q1114.44 237.326 1117.07 246.522 Q1119.75 255.677 1125.13 264.953 L1118.65 264.953 Q1112.58 255.434 1109.54 246.238 Q1106.54 237.043 1106.54 227.969 Q1106.54 218.935 1109.54 209.78 Q1112.54 200.625 1118.65 191.065 L1125.13 191.065 Z\" fill=\"#000000\" fill-rule=\"evenodd\" fill-opacity=\"1\" /><path clip-path=\"url(#clip430)\" d=\"M 0 0 M1135.42 247.129 L1148.79 247.129 L1148.79 200.99 L1134.25 203.906 L1134.25 196.453 L1148.71 193.536 L1156.89 193.536 L1156.89 247.129 L1170.26 247.129 L1170.26 254.016 L1135.42 254.016 L1135.42 247.129 Z\" fill=\"#000000\" fill-rule=\"evenodd\" fill-opacity=\"1\" /><path clip-path=\"url(#clip430)\" d=\"M 0 0 M1196.63 198.924 Q1190.31 198.924 1187.11 205.162 Q1183.95 211.36 1183.95 223.837 Q1183.95 236.273 1187.11 242.511 Q1190.31 248.709 1196.63 248.709 Q1202.99 248.709 1206.15 242.511 Q1209.35 236.273 1209.35 223.837 Q1209.35 211.36 1206.15 205.162 Q1202.99 198.924 1196.63 198.924 M1196.63 192.442 Q1206.8 192.442 1212.15 200.504 Q1217.54 208.524 1217.54 223.837 Q1217.54 239.109 1212.15 247.17 Q1206.8 255.191 1196.63 255.191 Q1186.46 255.191 1181.08 247.17 Q1175.73 239.109 1175.73 223.837 Q1175.73 208.524 1181.08 200.504 Q1186.46 192.442 1196.63 192.442 Z\" fill=\"#000000\" fill-rule=\"evenodd\" fill-opacity=\"1\" /><path clip-path=\"url(#clip430)\" d=\"M 0 0 M1243.91 198.924 Q1237.59 198.924 1234.39 205.162 Q1231.23 211.36 1231.23 223.837 Q1231.23 236.273 1234.39 242.511 Q1237.59 248.709 1243.91 248.709 Q1250.27 248.709 1253.43 242.511 Q1256.63 236.273 1256.63 223.837 Q1256.63 211.36 1253.43 205.162 Q1250.27 198.924 1243.91 198.924 M1243.91 192.442 Q1254.07 192.442 1259.42 200.504 Q1264.81 208.524 1264.81 223.837 Q1264.81 239.109 1259.42 247.17 Q1254.07 255.191 1243.91 255.191 Q1233.74 255.191 1228.35 247.17 Q1223 239.109 1223 223.837 Q1223 208.524 1228.35 200.504 Q1233.74 192.442 1243.91 192.442 Z\" fill=\"#000000\" fill-rule=\"evenodd\" fill-opacity=\"1\" /><path clip-path=\"url(#clip430)\" d=\"M 0 0 M1291.18 198.924 Q1284.86 198.924 1281.66 205.162 Q1278.5 211.36 1278.5 223.837 Q1278.5 236.273 1281.66 242.511 Q1284.86 248.709 1291.18 248.709 Q1297.54 248.709 1300.7 242.511 Q1303.9 236.273 1303.9 223.837 Q1303.9 211.36 1300.7 205.162 Q1297.54 198.924 1291.18 198.924 M1291.18 192.442 Q1301.35 192.442 1306.7 200.504 Q1312.08 208.524 1312.08 223.837 Q1312.08 239.109 1306.7 247.17 Q1301.35 255.191 1291.18 255.191 Q1281.01 255.191 1275.63 247.17 Q1270.28 239.109 1270.28 223.837 Q1270.28 208.524 1275.63 200.504 Q1281.01 192.442 1291.18 192.442 Z\" fill=\"#000000\" fill-rule=\"evenodd\" fill-opacity=\"1\" /><path clip-path=\"url(#clip430)\" d=\"M 0 0 M1338.45 198.924 Q1332.14 198.924 1328.94 205.162 Q1325.78 211.36 1325.78 223.837 Q1325.78 236.273 1328.94 242.511 Q1332.14 248.709 1338.45 248.709 Q1344.81 248.709 1347.97 242.511 Q1351.17 236.273 1351.17 223.837 Q1351.17 211.36 1347.97 205.162 Q1344.81 198.924 1338.45 198.924 M1338.45 192.442 Q1348.62 192.442 1353.97 200.504 Q1359.36 208.524 1359.36 223.837 Q1359.36 239.109 1353.97 247.17 Q1348.62 255.191 1338.45 255.191 Q1328.29 255.191 1322.9 247.17 Q1317.55 239.109 1317.55 223.837 Q1317.55 208.524 1322.9 200.504 Q1328.29 192.442 1338.45 192.442 Z\" fill=\"#000000\" fill-rule=\"evenodd\" fill-opacity=\"1\" /><path clip-path=\"url(#clip430)\" d=\"M 0 0 M1385.73 198.924 Q1379.41 198.924 1376.21 205.162 Q1373.05 211.36 1373.05 223.837 Q1373.05 236.273 1376.21 242.511 Q1379.41 248.709 1385.73 248.709 Q1392.09 248.709 1395.25 242.511 Q1398.45 236.273 1398.45 223.837 Q1398.45 211.36 1395.25 205.162 Q1392.09 198.924 1385.73 198.924 M1385.73 192.442 Q1395.9 192.442 1401.24 200.504 Q1406.63 208.524 1406.63 223.837 Q1406.63 239.109 1401.24 247.17 Q1395.9 255.191 1385.73 255.191 Q1375.56 255.191 1370.17 247.17 Q1364.83 239.109 1364.83 223.837 Q1364.83 208.524 1370.17 200.504 Q1375.56 192.442 1385.73 192.442 Z\" fill=\"#000000\" fill-rule=\"evenodd\" fill-opacity=\"1\" /><path clip-path=\"url(#clip430)\" d=\"M 0 0 M1416.35 243.727 L1424.9 243.727 L1424.9 250.694 L1418.26 263.657 L1413.03 263.657 L1416.35 250.694 L1416.35 243.727 Z\" fill=\"#000000\" fill-rule=\"evenodd\" fill-opacity=\"1\" /><path clip-path=\"url(#clip430)\" d=\"M 0 0 M1460.23 193.536 L1492.35 193.536 L1492.35 200.423 L1467.72 200.423 L1467.72 215.249 Q1469.5 214.641 1471.28 214.358 Q1473.07 214.034 1474.85 214.034 Q1484.98 214.034 1490.89 219.583 Q1496.8 225.133 1496.8 234.612 Q1496.8 244.375 1490.73 249.803 Q1484.65 255.191 1473.59 255.191 Q1469.79 255.191 1465.82 254.543 Q1461.89 253.894 1457.67 252.598 L1457.67 244.375 Q1461.32 246.36 1465.21 247.332 Q1469.1 248.304 1473.43 248.304 Q1480.44 248.304 1484.53 244.618 Q1488.62 240.932 1488.62 234.612 Q1488.62 228.293 1484.53 224.606 Q1480.44 220.92 1473.43 220.92 Q1470.15 220.92 1466.87 221.649 Q1463.63 222.378 1460.23 223.918 L1460.23 193.536 Z\" fill=\"#000000\" fill-rule=\"evenodd\" fill-opacity=\"1\" /><path clip-path=\"url(#clip430)\" d=\"M 0 0 M1523.18 198.924 Q1516.86 198.924 1513.66 205.162 Q1510.5 211.36 1510.5 223.837 Q1510.5 236.273 1513.66 242.511 Q1516.86 248.709 1523.18 248.709 Q1529.54 248.709 1532.7 242.511 Q1535.9 236.273 1535.9 223.837 Q1535.9 211.36 1532.7 205.162 Q1529.54 198.924 1523.18 198.924 M1523.18 192.442 Q1533.34 192.442 1538.69 200.504 Q1544.08 208.524 1544.08 223.837 Q1544.08 239.109 1538.69 247.17 Q1533.34 255.191 1523.18 255.191 Q1513.01 255.191 1507.62 247.17 Q1502.27 239.109 1502.27 223.837 Q1502.27 208.524 1507.62 200.504 Q1513.01 192.442 1523.18 192.442 Z\" fill=\"#000000\" fill-rule=\"evenodd\" fill-opacity=\"1\" /><path clip-path=\"url(#clip430)\" d=\"M 0 0 M1570.45 198.924 Q1564.13 198.924 1560.93 205.162 Q1557.77 211.36 1557.77 223.837 Q1557.77 236.273 1560.93 242.511 Q1564.13 248.709 1570.45 248.709 Q1576.81 248.709 1579.97 242.511 Q1583.17 236.273 1583.17 223.837 Q1583.17 211.36 1579.97 205.162 Q1576.81 198.924 1570.45 198.924 M1570.45 192.442 Q1580.62 192.442 1585.97 200.504 Q1591.35 208.524 1591.35 223.837 Q1591.35 239.109 1585.97 247.17 Q1580.62 255.191 1570.45 255.191 Q1560.28 255.191 1554.89 247.17 Q1549.55 239.109 1549.55 223.837 Q1549.55 208.524 1554.89 200.504 Q1560.28 192.442 1570.45 192.442 Z\" fill=\"#000000\" fill-rule=\"evenodd\" fill-opacity=\"1\" /><path clip-path=\"url(#clip430)\" d=\"M 0 0 M1598 191.065 L1604.48 191.065 Q1610.55 200.625 1613.55 209.78 Q1616.59 218.935 1616.59 227.969 Q1616.59 237.043 1613.55 246.238 Q1610.55 255.434 1604.48 264.953 L1598 264.953 Q1603.38 255.677 1606.02 246.522 Q1608.69 237.326 1608.69 227.969 Q1608.69 218.611 1606.02 209.497 Q1603.38 200.382 1598 191.065 Z\" fill=\"#000000\" fill-rule=\"evenodd\" fill-opacity=\"1\" /><path clip-path=\"url(#clip430)\" d=\"M 0 0 M42.0438 922.289 L48.314 922.289 Q46.5634 925.949 45.704 929.195 Q44.8447 932.442 44.8447 935.466 Q44.8447 940.717 46.8817 943.582 Q48.9187 946.415 52.6745 946.415 Q55.8255 946.415 57.4488 944.537 Q59.0402 942.627 60.0269 937.344 L60.8226 933.46 Q62.1912 926.267 65.6605 922.862 Q69.098 919.424 74.8908 919.424 Q81.7976 919.424 85.3624 924.071 Q88.9272 928.686 88.9272 937.63 Q88.9272 941.004 88.1633 944.823 Q87.3994 948.611 85.9035 952.685 L79.2831 952.685 Q81.4793 948.77 82.5933 945.014 Q83.7073 941.258 83.7073 937.63 Q83.7073 932.124 81.543 929.132 Q79.3786 926.14 75.3682 926.14 Q71.8671 926.14 69.8937 928.304 Q67.9204 930.437 66.9337 935.338 L66.1698 939.253 Q64.7375 946.447 61.682 949.661 Q58.6264 952.876 53.1837 952.876 Q46.8817 952.876 43.2532 948.452 Q39.6248 943.996 39.6248 936.198 Q39.6248 932.856 40.2295 929.386 Q40.8343 925.917 42.0438 922.289 Z\" fill=\"#000000\" fill-rule=\"evenodd\" fill-opacity=\"1\" /><path clip-path=\"url(#clip430)\" d=\"M 0 0 M68.7161 882.789 L71.5806 882.789 L71.5806 909.716 Q77.6281 909.334 80.8109 906.088 Q83.9619 902.81 83.9619 896.985 Q83.9619 893.611 83.1344 890.46 Q82.3069 887.277 80.6518 884.158 L86.1899 884.158 Q87.5267 887.309 88.227 890.619 Q88.9272 893.929 88.9272 897.335 Q88.9272 905.865 83.9619 910.862 Q78.9967 915.827 70.5303 915.827 Q61.7774 915.827 56.6531 911.117 Q51.4968 906.374 51.4968 898.354 Q51.4968 891.16 56.1438 886.991 Q60.7589 882.789 68.7161 882.789 M66.9973 888.646 Q62.1912 888.71 59.3266 891.351 Q56.4621 893.961 56.4621 898.29 Q56.4621 903.192 59.2312 906.152 Q62.0002 909.08 67.0292 909.525 L66.9973 888.646 Z\" fill=\"#000000\" fill-rule=\"evenodd\" fill-opacity=\"1\" /><path clip-path=\"url(#clip430)\" d=\"M 0 0 M53.7248 850.993 L59.1993 850.993 Q57.8307 853.475 57.1623 855.99 Q56.4621 858.472 56.4621 861.019 Q56.4621 866.716 60.0905 869.867 Q63.6872 873.018 70.212 873.018 Q76.7369 873.018 80.3653 869.867 Q83.9619 866.716 83.9619 861.019 Q83.9619 858.472 83.2935 855.99 Q82.5933 853.475 81.2247 850.993 L86.6355 850.993 Q87.7814 853.444 88.3543 856.085 Q88.9272 858.695 88.9272 861.655 Q88.9272 869.708 83.8664 874.45 Q78.8057 879.193 70.212 879.193 Q61.491 879.193 56.4939 874.419 Q51.4968 869.612 51.4968 861.273 Q51.4968 858.568 52.0697 855.99 Q52.6108 853.412 53.7248 850.993 Z\" fill=\"#000000\" fill-rule=\"evenodd\" fill-opacity=\"1\" /><path clip-path=\"url(#clip430)\" d=\"M 0 0 M56.4621 831.036 Q56.4621 835.747 60.1542 838.484 Q63.8145 841.221 70.212 841.221 Q76.6095 841.221 80.3017 838.516 Q83.9619 835.779 83.9619 831.036 Q83.9619 826.357 80.2698 823.62 Q76.5777 820.883 70.212 820.883 Q63.8781 820.883 60.186 823.62 Q56.4621 826.357 56.4621 831.036 M51.4968 831.036 Q51.4968 823.397 56.4621 819.037 Q61.4273 814.676 70.212 814.676 Q78.9649 814.676 83.9619 819.037 Q88.9272 823.397 88.9272 831.036 Q88.9272 838.707 83.9619 843.067 Q78.9649 847.396 70.212 847.396 Q61.4273 847.396 56.4621 843.067 Q51.4968 838.707 51.4968 831.036 Z\" fill=\"#000000\" fill-rule=\"evenodd\" fill-opacity=\"1\" /><path clip-path=\"url(#clip430)\" d=\"M 0 0 M66.4881 778.901 L88.0042 778.901 L88.0042 784.758 L66.679 784.758 Q61.6183 784.758 59.1038 786.731 Q56.5894 788.704 56.5894 792.651 Q56.5894 797.393 59.6131 800.131 Q62.6368 802.868 67.8567 802.868 L88.0042 802.868 L88.0042 808.756 L52.3562 808.756 L52.3562 802.868 L57.8944 802.868 Q54.6797 800.767 53.0883 797.935 Q51.4968 795.07 51.4968 791.346 Q51.4968 785.203 55.3163 782.052 Q59.1038 778.901 66.4881 778.901 Z\" fill=\"#000000\" fill-rule=\"evenodd\" fill-opacity=\"1\" /><path clip-path=\"url(#clip430)\" d=\"M 0 0 M57.7671 749.301 L38.479 749.301 L38.479 743.444 L88.0042 743.444 L88.0042 749.301 L82.657 749.301 Q85.8398 751.147 87.3994 753.979 Q88.9272 756.78 88.9272 760.727 Q88.9272 767.188 83.771 771.262 Q78.6147 775.304 70.212 775.304 Q61.8093 775.304 56.6531 771.262 Q51.4968 767.188 51.4968 760.727 Q51.4968 756.78 53.0564 753.979 Q54.5842 751.147 57.7671 749.301 M70.212 769.257 Q76.6732 769.257 80.3653 766.615 Q84.0256 763.942 84.0256 759.295 Q84.0256 754.648 80.3653 751.974 Q76.6732 749.301 70.212 749.301 Q63.7508 749.301 60.0905 751.974 Q56.3984 754.648 56.3984 759.295 Q56.3984 763.942 60.0905 766.615 Q63.7508 769.257 70.212 769.257 Z\" fill=\"#000000\" fill-rule=\"evenodd\" fill-opacity=\"1\" /><path clip-path=\"url(#clip432)\" d=\"\n",
       "M290.737 447.53 L290.737 1417.71 L405.174 1417.71 L405.174 447.53 L290.737 447.53 L290.737 447.53  Z\n",
       "  \" fill=\"#009af9\" fill-rule=\"evenodd\" fill-opacity=\"1\"/>\n",
       "<polyline clip-path=\"url(#clip432)\" style=\"stroke:#000000; stroke-width:4; stroke-opacity:1; fill:none\" points=\"\n",
       "  290.737,447.53 290.737,1417.71 405.174,1417.71 405.174,447.53 290.737,447.53 \n",
       "  \"/>\n",
       "<path clip-path=\"url(#clip432)\" d=\"\n",
       "M576.83 1184.06 L576.83 1417.71 L691.267 1417.71 L691.267 1184.06 L576.83 1184.06 L576.83 1184.06  Z\n",
       "  \" fill=\"#009af9\" fill-rule=\"evenodd\" fill-opacity=\"1\"/>\n",
       "<polyline clip-path=\"url(#clip432)\" style=\"stroke:#000000; stroke-width:4; stroke-opacity:1; fill:none\" points=\"\n",
       "  576.83,1184.06 576.83,1417.71 691.267,1417.71 691.267,1184.06 576.83,1184.06 \n",
       "  \"/>\n",
       "<path clip-path=\"url(#clip432)\" d=\"\n",
       "M862.923 1136.27 L862.923 1417.71 L977.36 1417.71 L977.36 1136.27 L862.923 1136.27 L862.923 1136.27  Z\n",
       "  \" fill=\"#009af9\" fill-rule=\"evenodd\" fill-opacity=\"1\"/>\n",
       "<polyline clip-path=\"url(#clip432)\" style=\"stroke:#000000; stroke-width:4; stroke-opacity:1; fill:none\" points=\"\n",
       "  862.923,1136.27 862.923,1417.71 977.36,1417.71 977.36,1136.27 862.923,1136.27 \n",
       "  \"/>\n",
       "<path clip-path=\"url(#clip432)\" d=\"\n",
       "M1149.02 679.276 L1149.02 1417.71 L1263.45 1417.71 L1263.45 679.276 L1149.02 679.276 L1149.02 679.276  Z\n",
       "  \" fill=\"#009af9\" fill-rule=\"evenodd\" fill-opacity=\"1\"/>\n",
       "<polyline clip-path=\"url(#clip432)\" style=\"stroke:#000000; stroke-width:4; stroke-opacity:1; fill:none\" points=\"\n",
       "  1149.02,679.276 1149.02,1417.71 1263.45,1417.71 1263.45,679.276 1149.02,679.276 \n",
       "  \"/>\n",
       "<path clip-path=\"url(#clip432)\" d=\"\n",
       "M1435.11 278.605 L1435.11 1417.71 L1549.55 1417.71 L1549.55 278.605 L1435.11 278.605 L1435.11 278.605  Z\n",
       "  \" fill=\"#009af9\" fill-rule=\"evenodd\" fill-opacity=\"1\"/>\n",
       "<polyline clip-path=\"url(#clip432)\" style=\"stroke:#000000; stroke-width:4; stroke-opacity:1; fill:none\" points=\"\n",
       "  1435.11,278.605 1435.11,1417.71 1549.55,1417.71 1549.55,278.605 1435.11,278.605 \n",
       "  \"/>\n",
       "<path clip-path=\"url(#clip432)\" d=\"\n",
       "M1721.2 791.304 L1721.2 1417.71 L1835.64 1417.71 L1835.64 791.304 L1721.2 791.304 L1721.2 791.304  Z\n",
       "  \" fill=\"#009af9\" fill-rule=\"evenodd\" fill-opacity=\"1\"/>\n",
       "<polyline clip-path=\"url(#clip432)\" style=\"stroke:#000000; stroke-width:4; stroke-opacity:1; fill:none\" points=\"\n",
       "  1721.2,791.304 1721.2,1417.71 1835.64,1417.71 1835.64,791.304 1721.2,791.304 \n",
       "  \"/>\n",
       "<path clip-path=\"url(#clip432)\" d=\"\n",
       "M2007.29 514.752 L2007.29 1417.71 L2121.73 1417.71 L2121.73 514.752 L2007.29 514.752 L2007.29 514.752  Z\n",
       "  \" fill=\"#009af9\" fill-rule=\"evenodd\" fill-opacity=\"1\"/>\n",
       "<polyline clip-path=\"url(#clip432)\" style=\"stroke:#000000; stroke-width:4; stroke-opacity:1; fill:none\" points=\"\n",
       "  2007.29,514.752 2007.29,1417.71 2121.73,1417.71 2121.73,514.752 2007.29,514.752 \n",
       "  \"/>\n",
       "<path clip-path=\"url(#clip432)\" d=\"\n",
       "M405.174 388.652 L405.174 1417.71 L519.612 1417.71 L519.612 388.652 L405.174 388.652 L405.174 388.652  Z\n",
       "  \" fill=\"#e26f46\" fill-rule=\"evenodd\" fill-opacity=\"1\"/>\n",
       "<polyline clip-path=\"url(#clip432)\" style=\"stroke:#000000; stroke-width:4; stroke-opacity:1; fill:none\" points=\"\n",
       "  405.174,388.652 405.174,1417.71 519.612,1417.71 519.612,388.652 405.174,388.652 \n",
       "  \"/>\n",
       "<path clip-path=\"url(#clip432)\" d=\"\n",
       "M691.267 1306.78 L691.267 1417.71 L805.704 1417.71 L805.704 1306.78 L691.267 1306.78 L691.267 1306.78  Z\n",
       "  \" fill=\"#e26f46\" fill-rule=\"evenodd\" fill-opacity=\"1\"/>\n",
       "<polyline clip-path=\"url(#clip432)\" style=\"stroke:#000000; stroke-width:4; stroke-opacity:1; fill:none\" points=\"\n",
       "  691.267,1306.78 691.267,1417.71 805.704,1417.71 805.704,1306.78 691.267,1306.78 \n",
       "  \"/>\n",
       "<path clip-path=\"url(#clip432)\" d=\"\n",
       "M977.36 1193.8 L977.36 1417.71 L1091.8 1417.71 L1091.8 1193.8 L977.36 1193.8 L977.36 1193.8  Z\n",
       "  \" fill=\"#e26f46\" fill-rule=\"evenodd\" fill-opacity=\"1\"/>\n",
       "<polyline clip-path=\"url(#clip432)\" style=\"stroke:#000000; stroke-width:4; stroke-opacity:1; fill:none\" points=\"\n",
       "  977.36,1193.8 977.36,1417.71 1091.8,1417.71 1091.8,1193.8 977.36,1193.8 \n",
       "  \"/>\n",
       "<path clip-path=\"url(#clip432)\" d=\"\n",
       "M1263.45 700.121 L1263.45 1417.71 L1377.89 1417.71 L1377.89 700.121 L1263.45 700.121 L1263.45 700.121  Z\n",
       "  \" fill=\"#e26f46\" fill-rule=\"evenodd\" fill-opacity=\"1\"/>\n",
       "<polyline clip-path=\"url(#clip432)\" style=\"stroke:#000000; stroke-width:4; stroke-opacity:1; fill:none\" points=\"\n",
       "  1263.45,700.121 1263.45,1417.71 1377.89,1417.71 1377.89,700.121 1263.45,700.121 \n",
       "  \"/>\n",
       "<path clip-path=\"url(#clip432)\" d=\"\n",
       "M1549.55 284.973 L1549.55 1417.71 L1663.98 1417.71 L1663.98 284.973 L1549.55 284.973 L1549.55 284.973  Z\n",
       "  \" fill=\"#e26f46\" fill-rule=\"evenodd\" fill-opacity=\"1\"/>\n",
       "<polyline clip-path=\"url(#clip432)\" style=\"stroke:#000000; stroke-width:4; stroke-opacity:1; fill:none\" points=\"\n",
       "  1549.55,284.973 1549.55,1417.71 1663.98,1417.71 1663.98,284.973 1549.55,284.973 \n",
       "  \"/>\n",
       "<path clip-path=\"url(#clip432)\" d=\"\n",
       "M1835.64 791.304 L1835.64 1417.71 L1950.07 1417.71 L1950.07 791.304 L1835.64 791.304 L1835.64 791.304  Z\n",
       "  \" fill=\"#e26f46\" fill-rule=\"evenodd\" fill-opacity=\"1\"/>\n",
       "<polyline clip-path=\"url(#clip432)\" style=\"stroke:#000000; stroke-width:4; stroke-opacity:1; fill:none\" points=\"\n",
       "  1835.64,791.304 1835.64,1417.71 1950.07,1417.71 1950.07,791.304 1835.64,791.304 \n",
       "  \"/>\n",
       "<path clip-path=\"url(#clip432)\" d=\"\n",
       "M2121.73 514.752 L2121.73 1417.71 L2236.17 1417.71 L2236.17 514.752 L2121.73 514.752 L2121.73 514.752  Z\n",
       "  \" fill=\"#e26f46\" fill-rule=\"evenodd\" fill-opacity=\"1\"/>\n",
       "<polyline clip-path=\"url(#clip432)\" style=\"stroke:#000000; stroke-width:4; stroke-opacity:1; fill:none\" points=\"\n",
       "  2121.73,514.752 2121.73,1417.71 2236.17,1417.71 2236.17,514.752 2121.73,514.752 \n",
       "  \"/>\n",
       "<path clip-path=\"url(#clip430)\" d=\"\n",
       "M1967.01 509.392 L2280.76 509.392 L2280.76 327.952 L1967.01 327.952  Z\n",
       "  \" fill=\"#ffffff\" fill-rule=\"evenodd\" fill-opacity=\"1\"/>\n",
       "<polyline clip-path=\"url(#clip430)\" style=\"stroke:#000000; stroke-width:4; stroke-opacity:1; fill:none\" points=\"\n",
       "  1967.01,509.392 2280.76,509.392 2280.76,327.952 1967.01,327.952 1967.01,509.392 \n",
       "  \"/>\n",
       "<path clip-path=\"url(#clip430)\" d=\"\n",
       "M1991.01 412.624 L2135.01 412.624 L2135.01 364.24 L1991.01 364.24 L1991.01 412.624  Z\n",
       "  \" fill=\"#009af9\" fill-rule=\"evenodd\" fill-opacity=\"1\"/>\n",
       "<polyline clip-path=\"url(#clip430)\" style=\"stroke:#000000; stroke-width:4; stroke-opacity:1; fill:none\" points=\"\n",
       "  1991.01,412.624 2135.01,412.624 2135.01,364.24 1991.01,364.24 1991.01,412.624 \n",
       "  \"/>\n",
       "<path clip-path=\"url(#clip430)\" d=\"M 0 0 M2159.68 401.777 L2167.32 401.777 L2167.32 375.411 L2159.01 377.078 L2159.01 372.819 L2167.27 371.152 L2171.95 371.152 L2171.95 401.777 L2179.58 401.777 L2179.58 405.712 L2159.68 405.712 L2159.68 401.777 Z\" fill=\"#000000\" fill-rule=\"evenodd\" fill-opacity=\"1\" /><path clip-path=\"url(#clip430)\" d=\"M 0 0 M2200.58 380.55 L2200.58 384.578 Q2198.77 383.652 2196.83 383.189 Q2194.89 382.726 2192.8 382.726 Q2189.63 382.726 2188.03 383.698 Q2186.46 384.671 2186.46 386.615 Q2186.46 388.096 2187.59 388.953 Q2188.73 389.786 2192.15 390.55 L2193.61 390.874 Q2198.15 391.846 2200.05 393.629 Q2201.97 395.388 2201.97 398.559 Q2201.97 402.17 2199.1 404.277 Q2196.25 406.383 2191.25 406.383 Q2189.17 406.383 2186.9 405.967 Q2184.65 405.573 2182.15 404.763 L2182.15 400.365 Q2184.52 401.592 2186.81 402.217 Q2189.1 402.819 2191.34 402.819 Q2194.35 402.819 2195.97 401.8 Q2197.59 400.758 2197.59 398.883 Q2197.59 397.147 2196.41 396.221 Q2195.26 395.296 2191.3 394.439 L2189.82 394.092 Q2185.86 393.258 2184.1 391.546 Q2182.34 389.809 2182.34 386.8 Q2182.34 383.143 2184.93 381.152 Q2187.52 379.161 2192.29 379.161 Q2194.65 379.161 2196.74 379.509 Q2198.82 379.856 2200.58 380.55 Z\" fill=\"#000000\" fill-rule=\"evenodd\" fill-opacity=\"1\" /><path clip-path=\"url(#clip430)\" d=\"M 0 0 M2210.65 372.425 L2210.65 379.786 L2219.42 379.786 L2219.42 383.097 L2210.65 383.097 L2210.65 397.171 Q2210.65 400.342 2211.51 401.245 Q2212.39 402.147 2215.05 402.147 L2219.42 402.147 L2219.42 405.712 L2215.05 405.712 Q2210.12 405.712 2208.24 403.883 Q2206.37 402.032 2206.37 397.171 L2206.37 383.097 L2203.24 383.097 L2203.24 379.786 L2206.37 379.786 L2206.37 372.425 L2210.65 372.425 Z\" fill=\"#000000\" fill-rule=\"evenodd\" fill-opacity=\"1\" /><path clip-path=\"url(#clip430)\" d=\"\n",
       "M1991.01 473.104 L2135.01 473.104 L2135.01 424.72 L1991.01 424.72 L1991.01 473.104  Z\n",
       "  \" fill=\"#e26f46\" fill-rule=\"evenodd\" fill-opacity=\"1\"/>\n",
       "<polyline clip-path=\"url(#clip430)\" style=\"stroke:#000000; stroke-width:4; stroke-opacity:1; fill:none\" points=\"\n",
       "  1991.01,473.104 2135.01,473.104 2135.01,424.72 1991.01,424.72 1991.01,473.104 \n",
       "  \"/>\n",
       "<path clip-path=\"url(#clip430)\" d=\"M 0 0 M2164.63 462.257 L2180.95 462.257 L2180.95 466.192 L2159.01 466.192 L2159.01 462.257 Q2161.67 459.502 2166.25 454.873 Q2170.86 450.22 2172.04 448.877 Q2174.28 446.354 2175.16 444.618 Q2176.07 442.859 2176.07 441.169 Q2176.07 438.414 2174.12 436.678 Q2172.2 434.942 2169.1 434.942 Q2166.9 434.942 2164.45 435.706 Q2162.02 436.47 2159.24 438.021 L2159.24 433.299 Q2162.06 432.165 2164.52 431.586 Q2166.97 431.007 2169.01 431.007 Q2174.38 431.007 2177.57 433.692 Q2180.77 436.377 2180.77 440.868 Q2180.77 442.998 2179.96 444.919 Q2179.17 446.817 2177.06 449.41 Q2176.48 450.081 2173.38 453.299 Q2170.28 456.493 2164.63 462.257 Z\" fill=\"#000000\" fill-rule=\"evenodd\" fill-opacity=\"1\" /><path clip-path=\"url(#clip430)\" d=\"M 0 0 M2206.97 450.544 L2206.97 466.192 L2202.71 466.192 L2202.71 450.683 Q2202.71 447.002 2201.27 445.174 Q2199.84 443.345 2196.97 443.345 Q2193.52 443.345 2191.53 445.544 Q2189.54 447.743 2189.54 451.539 L2189.54 466.192 L2185.26 466.192 L2185.26 440.266 L2189.54 440.266 L2189.54 444.294 Q2191.07 441.956 2193.13 440.799 Q2195.21 439.641 2197.92 439.641 Q2202.39 439.641 2204.68 442.419 Q2206.97 445.174 2206.97 450.544 Z\" fill=\"#000000\" fill-rule=\"evenodd\" fill-opacity=\"1\" /><path clip-path=\"url(#clip430)\" d=\"M 0 0 M2228.5 444.202 L2228.5 430.174 L2232.76 430.174 L2232.76 466.192 L2228.5 466.192 L2228.5 462.303 Q2227.15 464.618 2225.09 465.752 Q2223.06 466.863 2220.19 466.863 Q2215.49 466.863 2212.52 463.113 Q2209.58 459.363 2209.58 453.252 Q2209.58 447.141 2212.52 443.391 Q2215.49 439.641 2220.19 439.641 Q2223.06 439.641 2225.09 440.776 Q2227.15 441.887 2228.5 444.202 M2213.98 453.252 Q2213.98 457.951 2215.9 460.637 Q2217.85 463.299 2221.23 463.299 Q2224.61 463.299 2226.55 460.637 Q2228.5 457.951 2228.5 453.252 Q2228.5 448.553 2226.55 445.891 Q2224.61 443.206 2221.23 443.206 Q2217.85 443.206 2215.9 445.891 Q2213.98 448.553 2213.98 453.252 Z\" fill=\"#000000\" fill-rule=\"evenodd\" fill-opacity=\"1\" /></svg>\n"
      ]
     },
     "execution_count": 42,
     "metadata": {},
     "output_type": "execute_result"
    }
   ],
   "source": [
    "groupedbar(\n",
    "    repeat([\"CSV.jl\", \"Serialization\", \"JDF.jl\", \"JLSO.jl\", \"Feather.jl\", \"JSONTables.jl\\narraytable\",\n",
    "            \"JSONTables.jl\\nobjecttable\"], inner = 2),\n",
    "    [csvread1, csvread2, serializeread1, serializeread1, jdfread1, jdfread2, jlsoread1, jlsoread2,\n",
    "     featherread1, featherread2, jsontablesaread1, jsontablesaread2, jsontablesoread2, jsontablesoread2],    \n",
    "    group = repeat([\"1st\", \"2nd\"], outer = 7),\n",
    "    ylab = \"Second\",\n",
    "    title = \"Read Performance\\nDataFrame: bigdf\\nSize: $(size(bigdf))\"\n",
    ")"
   ]
  },
  {
   "cell_type": "markdown",
   "metadata": {},
   "source": [
    "### Using gzip compression"
   ]
  },
  {
   "cell_type": "markdown",
   "metadata": {},
   "source": [
    "A common user requirement is to be able to load and save CSV that are compressed using gzip.\n",
    "Below we show how this can be accomplished using CodecZlib.jl.\n",
    "The same pattern is applicable to JSONTables.jl compression/decompression.\n",
    "\n",
    "Again make sure that you do not have file named `df_compress_test.csv.gz` in your working directory"
   ]
  },
  {
   "cell_type": "markdown",
   "metadata": {},
   "source": [
    "We first generate a random data frame"
   ]
  },
  {
   "cell_type": "code",
   "execution_count": 43,
   "metadata": {},
   "outputs": [
    {
     "data": {
      "text/html": [
       "<table class=\"data-frame\"><thead><tr><th></th><th>x1</th><th>x2</th><th>x3</th><th>x4</th><th>x5</th><th>x6</th><th>x7</th><th>x8</th><th>x9</th><th>x10</th><th>x11</th><th>x12</th></tr><tr><th></th><th>Int64</th><th>Int64</th><th>Int64</th><th>Int64</th><th>Int64</th><th>Int64</th><th>Int64</th><th>Int64</th><th>Int64</th><th>Int64</th><th>Int64</th><th>Int64</th></tr></thead><tbody><p>10 rows × 1,000 columns (omitted printing of 988 columns)</p><tr><th>1</th><td>2</td><td>8</td><td>7</td><td>3</td><td>1</td><td>9</td><td>5</td><td>6</td><td>5</td><td>1</td><td>6</td><td>7</td></tr><tr><th>2</th><td>7</td><td>5</td><td>2</td><td>1</td><td>9</td><td>4</td><td>8</td><td>8</td><td>7</td><td>8</td><td>8</td><td>4</td></tr><tr><th>3</th><td>10</td><td>9</td><td>1</td><td>8</td><td>3</td><td>7</td><td>10</td><td>1</td><td>7</td><td>2</td><td>9</td><td>6</td></tr><tr><th>4</th><td>3</td><td>1</td><td>10</td><td>3</td><td>8</td><td>3</td><td>7</td><td>7</td><td>4</td><td>6</td><td>9</td><td>5</td></tr><tr><th>5</th><td>6</td><td>1</td><td>5</td><td>3</td><td>2</td><td>4</td><td>7</td><td>5</td><td>7</td><td>9</td><td>9</td><td>10</td></tr><tr><th>6</th><td>8</td><td>4</td><td>10</td><td>3</td><td>2</td><td>5</td><td>5</td><td>1</td><td>3</td><td>9</td><td>7</td><td>8</td></tr><tr><th>7</th><td>4</td><td>6</td><td>9</td><td>5</td><td>6</td><td>1</td><td>3</td><td>8</td><td>7</td><td>4</td><td>5</td><td>8</td></tr><tr><th>8</th><td>6</td><td>8</td><td>2</td><td>10</td><td>6</td><td>3</td><td>3</td><td>6</td><td>4</td><td>1</td><td>5</td><td>9</td></tr><tr><th>9</th><td>1</td><td>9</td><td>7</td><td>9</td><td>3</td><td>8</td><td>6</td><td>5</td><td>8</td><td>8</td><td>1</td><td>5</td></tr><tr><th>10</th><td>9</td><td>10</td><td>7</td><td>3</td><td>9</td><td>3</td><td>5</td><td>9</td><td>4</td><td>2</td><td>8</td><td>8</td></tr></tbody></table>"
      ],
      "text/latex": [
       "\\begin{tabular}{r|ccccccccccccc}\n",
       "\t& x1 & x2 & x3 & x4 & x5 & x6 & x7 & x8 & x9 & x10 & x11 & x12 & \\\\\n",
       "\t\\hline\n",
       "\t& Int64 & Int64 & Int64 & Int64 & Int64 & Int64 & Int64 & Int64 & Int64 & Int64 & Int64 & Int64 & \\\\\n",
       "\t\\hline\n",
       "\t1 & 2 & 8 & 7 & 3 & 1 & 9 & 5 & 6 & 5 & 1 & 6 & 7 & $\\dots$ \\\\\n",
       "\t2 & 7 & 5 & 2 & 1 & 9 & 4 & 8 & 8 & 7 & 8 & 8 & 4 & $\\dots$ \\\\\n",
       "\t3 & 10 & 9 & 1 & 8 & 3 & 7 & 10 & 1 & 7 & 2 & 9 & 6 & $\\dots$ \\\\\n",
       "\t4 & 3 & 1 & 10 & 3 & 8 & 3 & 7 & 7 & 4 & 6 & 9 & 5 & $\\dots$ \\\\\n",
       "\t5 & 6 & 1 & 5 & 3 & 2 & 4 & 7 & 5 & 7 & 9 & 9 & 10 & $\\dots$ \\\\\n",
       "\t6 & 8 & 4 & 10 & 3 & 2 & 5 & 5 & 1 & 3 & 9 & 7 & 8 & $\\dots$ \\\\\n",
       "\t7 & 4 & 6 & 9 & 5 & 6 & 1 & 3 & 8 & 7 & 4 & 5 & 8 & $\\dots$ \\\\\n",
       "\t8 & 6 & 8 & 2 & 10 & 6 & 3 & 3 & 6 & 4 & 1 & 5 & 9 & $\\dots$ \\\\\n",
       "\t9 & 1 & 9 & 7 & 9 & 3 & 8 & 6 & 5 & 8 & 8 & 1 & 5 & $\\dots$ \\\\\n",
       "\t10 & 9 & 10 & 7 & 3 & 9 & 3 & 5 & 9 & 4 & 2 & 8 & 8 & $\\dots$ \\\\\n",
       "\\end{tabular}\n"
      ],
      "text/plain": [
       "10×1000 DataFrame. Omitted printing of 991 columns\n",
       "│ Row │ x1    │ x2    │ x3    │ x4    │ x5    │ x6    │ x7    │ x8    │ x9    │\n",
       "│     │ \u001b[90mInt64\u001b[39m │ \u001b[90mInt64\u001b[39m │ \u001b[90mInt64\u001b[39m │ \u001b[90mInt64\u001b[39m │ \u001b[90mInt64\u001b[39m │ \u001b[90mInt64\u001b[39m │ \u001b[90mInt64\u001b[39m │ \u001b[90mInt64\u001b[39m │ \u001b[90mInt64\u001b[39m │\n",
       "├─────┼───────┼───────┼───────┼───────┼───────┼───────┼───────┼───────┼───────┤\n",
       "│ 1   │ 2     │ 8     │ 7     │ 3     │ 1     │ 9     │ 5     │ 6     │ 5     │\n",
       "│ 2   │ 7     │ 5     │ 2     │ 1     │ 9     │ 4     │ 8     │ 8     │ 7     │\n",
       "│ 3   │ 10    │ 9     │ 1     │ 8     │ 3     │ 7     │ 10    │ 1     │ 7     │\n",
       "│ 4   │ 3     │ 1     │ 10    │ 3     │ 8     │ 3     │ 7     │ 7     │ 4     │\n",
       "│ 5   │ 6     │ 1     │ 5     │ 3     │ 2     │ 4     │ 7     │ 5     │ 7     │\n",
       "│ 6   │ 8     │ 4     │ 10    │ 3     │ 2     │ 5     │ 5     │ 1     │ 3     │\n",
       "│ 7   │ 4     │ 6     │ 9     │ 5     │ 6     │ 1     │ 3     │ 8     │ 7     │\n",
       "│ 8   │ 6     │ 8     │ 2     │ 10    │ 6     │ 3     │ 3     │ 6     │ 4     │\n",
       "│ 9   │ 1     │ 9     │ 7     │ 9     │ 3     │ 8     │ 6     │ 5     │ 8     │\n",
       "│ 10  │ 9     │ 10    │ 7     │ 3     │ 9     │ 3     │ 5     │ 9     │ 4     │"
      ]
     },
     "execution_count": 43,
     "metadata": {},
     "output_type": "execute_result"
    }
   ],
   "source": [
    "df = DataFrame(rand(1:10, 10, 1000))"
   ]
  },
  {
   "cell_type": "code",
   "execution_count": 44,
   "metadata": {},
   "outputs": [],
   "source": [
    "# GzipCompressorStream comes from CodecZlib\n",
    "\n",
    "open(\"df_compress_test.csv.gz\", \"w\") do io\n",
    "    stream = GzipCompressorStream(io)\n",
    "    CSV.write(stream, df)\n",
    "    close(stream)\n",
    "end"
   ]
  },
  {
   "cell_type": "code",
   "execution_count": 45,
   "metadata": {},
   "outputs": [
    {
     "data": {
      "text/html": [
       "<table class=\"data-frame\"><thead><tr><th></th><th>x1</th><th>x2</th><th>x3</th><th>x4</th><th>x5</th><th>x6</th><th>x7</th><th>x8</th><th>x9</th><th>x10</th><th>x11</th><th>x12</th></tr><tr><th></th><th>Int64</th><th>Int64</th><th>Int64</th><th>Int64</th><th>Int64</th><th>Int64</th><th>Int64</th><th>Int64</th><th>Int64</th><th>Int64</th><th>Int64</th><th>Int64</th></tr></thead><tbody><p>10 rows × 1,000 columns (omitted printing of 988 columns)</p><tr><th>1</th><td>2</td><td>8</td><td>7</td><td>3</td><td>1</td><td>9</td><td>5</td><td>6</td><td>5</td><td>1</td><td>6</td><td>7</td></tr><tr><th>2</th><td>7</td><td>5</td><td>2</td><td>1</td><td>9</td><td>4</td><td>8</td><td>8</td><td>7</td><td>8</td><td>8</td><td>4</td></tr><tr><th>3</th><td>10</td><td>9</td><td>1</td><td>8</td><td>3</td><td>7</td><td>10</td><td>1</td><td>7</td><td>2</td><td>9</td><td>6</td></tr><tr><th>4</th><td>3</td><td>1</td><td>10</td><td>3</td><td>8</td><td>3</td><td>7</td><td>7</td><td>4</td><td>6</td><td>9</td><td>5</td></tr><tr><th>5</th><td>6</td><td>1</td><td>5</td><td>3</td><td>2</td><td>4</td><td>7</td><td>5</td><td>7</td><td>9</td><td>9</td><td>10</td></tr><tr><th>6</th><td>8</td><td>4</td><td>10</td><td>3</td><td>2</td><td>5</td><td>5</td><td>1</td><td>3</td><td>9</td><td>7</td><td>8</td></tr><tr><th>7</th><td>4</td><td>6</td><td>9</td><td>5</td><td>6</td><td>1</td><td>3</td><td>8</td><td>7</td><td>4</td><td>5</td><td>8</td></tr><tr><th>8</th><td>6</td><td>8</td><td>2</td><td>10</td><td>6</td><td>3</td><td>3</td><td>6</td><td>4</td><td>1</td><td>5</td><td>9</td></tr><tr><th>9</th><td>1</td><td>9</td><td>7</td><td>9</td><td>3</td><td>8</td><td>6</td><td>5</td><td>8</td><td>8</td><td>1</td><td>5</td></tr><tr><th>10</th><td>9</td><td>10</td><td>7</td><td>3</td><td>9</td><td>3</td><td>5</td><td>9</td><td>4</td><td>2</td><td>8</td><td>8</td></tr></tbody></table>"
      ],
      "text/latex": [
       "\\begin{tabular}{r|ccccccccccccc}\n",
       "\t& x1 & x2 & x3 & x4 & x5 & x6 & x7 & x8 & x9 & x10 & x11 & x12 & \\\\\n",
       "\t\\hline\n",
       "\t& Int64 & Int64 & Int64 & Int64 & Int64 & Int64 & Int64 & Int64 & Int64 & Int64 & Int64 & Int64 & \\\\\n",
       "\t\\hline\n",
       "\t1 & 2 & 8 & 7 & 3 & 1 & 9 & 5 & 6 & 5 & 1 & 6 & 7 & $\\dots$ \\\\\n",
       "\t2 & 7 & 5 & 2 & 1 & 9 & 4 & 8 & 8 & 7 & 8 & 8 & 4 & $\\dots$ \\\\\n",
       "\t3 & 10 & 9 & 1 & 8 & 3 & 7 & 10 & 1 & 7 & 2 & 9 & 6 & $\\dots$ \\\\\n",
       "\t4 & 3 & 1 & 10 & 3 & 8 & 3 & 7 & 7 & 4 & 6 & 9 & 5 & $\\dots$ \\\\\n",
       "\t5 & 6 & 1 & 5 & 3 & 2 & 4 & 7 & 5 & 7 & 9 & 9 & 10 & $\\dots$ \\\\\n",
       "\t6 & 8 & 4 & 10 & 3 & 2 & 5 & 5 & 1 & 3 & 9 & 7 & 8 & $\\dots$ \\\\\n",
       "\t7 & 4 & 6 & 9 & 5 & 6 & 1 & 3 & 8 & 7 & 4 & 5 & 8 & $\\dots$ \\\\\n",
       "\t8 & 6 & 8 & 2 & 10 & 6 & 3 & 3 & 6 & 4 & 1 & 5 & 9 & $\\dots$ \\\\\n",
       "\t9 & 1 & 9 & 7 & 9 & 3 & 8 & 6 & 5 & 8 & 8 & 1 & 5 & $\\dots$ \\\\\n",
       "\t10 & 9 & 10 & 7 & 3 & 9 & 3 & 5 & 9 & 4 & 2 & 8 & 8 & $\\dots$ \\\\\n",
       "\\end{tabular}\n"
      ],
      "text/plain": [
       "10×1000 DataFrame. Omitted printing of 991 columns\n",
       "│ Row │ x1    │ x2    │ x3    │ x4    │ x5    │ x6    │ x7    │ x8    │ x9    │\n",
       "│     │ \u001b[90mInt64\u001b[39m │ \u001b[90mInt64\u001b[39m │ \u001b[90mInt64\u001b[39m │ \u001b[90mInt64\u001b[39m │ \u001b[90mInt64\u001b[39m │ \u001b[90mInt64\u001b[39m │ \u001b[90mInt64\u001b[39m │ \u001b[90mInt64\u001b[39m │ \u001b[90mInt64\u001b[39m │\n",
       "├─────┼───────┼───────┼───────┼───────┼───────┼───────┼───────┼───────┼───────┤\n",
       "│ 1   │ 2     │ 8     │ 7     │ 3     │ 1     │ 9     │ 5     │ 6     │ 5     │\n",
       "│ 2   │ 7     │ 5     │ 2     │ 1     │ 9     │ 4     │ 8     │ 8     │ 7     │\n",
       "│ 3   │ 10    │ 9     │ 1     │ 8     │ 3     │ 7     │ 10    │ 1     │ 7     │\n",
       "│ 4   │ 3     │ 1     │ 10    │ 3     │ 8     │ 3     │ 7     │ 7     │ 4     │\n",
       "│ 5   │ 6     │ 1     │ 5     │ 3     │ 2     │ 4     │ 7     │ 5     │ 7     │\n",
       "│ 6   │ 8     │ 4     │ 10    │ 3     │ 2     │ 5     │ 5     │ 1     │ 3     │\n",
       "│ 7   │ 4     │ 6     │ 9     │ 5     │ 6     │ 1     │ 3     │ 8     │ 7     │\n",
       "│ 8   │ 6     │ 8     │ 2     │ 10    │ 6     │ 3     │ 3     │ 6     │ 4     │\n",
       "│ 9   │ 1     │ 9     │ 7     │ 9     │ 3     │ 8     │ 6     │ 5     │ 8     │\n",
       "│ 10  │ 9     │ 10    │ 7     │ 3     │ 9     │ 3     │ 5     │ 9     │ 4     │"
      ]
     },
     "execution_count": 45,
     "metadata": {},
     "output_type": "execute_result"
    }
   ],
   "source": [
    "df2 = open(\"df_compress_test.csv.gz\") do io\n",
    "    stream = GzipDecompressorStream(io)\n",
    "    res = CSV.read(stream)\n",
    "    close(stream)\n",
    "    res\n",
    "end"
   ]
  },
  {
   "cell_type": "code",
   "execution_count": 46,
   "metadata": {},
   "outputs": [
    {
     "data": {
      "text/plain": [
       "true"
      ]
     },
     "execution_count": 46,
     "metadata": {},
     "output_type": "execute_result"
    }
   ],
   "source": [
    "df == df2"
   ]
  },
  {
   "cell_type": "markdown",
   "metadata": {},
   "source": [
    "### Using zip files"
   ]
  },
  {
   "cell_type": "markdown",
   "metadata": {},
   "source": [
    "Sometimes you may have files compressed inside a zip file.\n",
    "\n",
    "In such a situation you may use [ZipFile.jl](https://github.com/fhs/ZipFile.jl) in conjunction an an appropriate reader to read the files."
   ]
  },
  {
   "cell_type": "markdown",
   "metadata": {},
   "source": [
    "Here we first create a ZIP file and then read back its contents into a `DataFrame`."
   ]
  },
  {
   "cell_type": "code",
   "execution_count": 47,
   "metadata": {},
   "outputs": [
    {
     "data": {
      "text/html": [
       "<table class=\"data-frame\"><thead><tr><th></th><th>x1</th><th>x2</th><th>x3</th><th>x4</th></tr><tr><th></th><th>Int64</th><th>Int64</th><th>Int64</th><th>Int64</th></tr></thead><tbody><p>3 rows × 4 columns</p><tr><th>1</th><td>8</td><td>4</td><td>3</td><td>9</td></tr><tr><th>2</th><td>3</td><td>9</td><td>7</td><td>8</td></tr><tr><th>3</th><td>3</td><td>4</td><td>5</td><td>8</td></tr></tbody></table>"
      ],
      "text/latex": [
       "\\begin{tabular}{r|cccc}\n",
       "\t& x1 & x2 & x3 & x4\\\\\n",
       "\t\\hline\n",
       "\t& Int64 & Int64 & Int64 & Int64\\\\\n",
       "\t\\hline\n",
       "\t1 & 8 & 4 & 3 & 9 \\\\\n",
       "\t2 & 3 & 9 & 7 & 8 \\\\\n",
       "\t3 & 3 & 4 & 5 & 8 \\\\\n",
       "\\end{tabular}\n"
      ],
      "text/plain": [
       "3×4 DataFrame\n",
       "│ Row │ x1    │ x2    │ x3    │ x4    │\n",
       "│     │ \u001b[90mInt64\u001b[39m │ \u001b[90mInt64\u001b[39m │ \u001b[90mInt64\u001b[39m │ \u001b[90mInt64\u001b[39m │\n",
       "├─────┼───────┼───────┼───────┼───────┤\n",
       "│ 1   │ 8     │ 4     │ 3     │ 9     │\n",
       "│ 2   │ 3     │ 9     │ 7     │ 8     │\n",
       "│ 3   │ 3     │ 4     │ 5     │ 8     │"
      ]
     },
     "execution_count": 47,
     "metadata": {},
     "output_type": "execute_result"
    }
   ],
   "source": [
    "df1 = DataFrame(rand(1:10, 3, 4))"
   ]
  },
  {
   "cell_type": "code",
   "execution_count": 48,
   "metadata": {},
   "outputs": [
    {
     "data": {
      "text/html": [
       "<table class=\"data-frame\"><thead><tr><th></th><th>x1</th><th>x2</th><th>x3</th><th>x4</th></tr><tr><th></th><th>Int64</th><th>Int64</th><th>Int64</th><th>Int64</th></tr></thead><tbody><p>3 rows × 4 columns</p><tr><th>1</th><td>3</td><td>9</td><td>1</td><td>2</td></tr><tr><th>2</th><td>6</td><td>1</td><td>9</td><td>2</td></tr><tr><th>3</th><td>2</td><td>1</td><td>3</td><td>9</td></tr></tbody></table>"
      ],
      "text/latex": [
       "\\begin{tabular}{r|cccc}\n",
       "\t& x1 & x2 & x3 & x4\\\\\n",
       "\t\\hline\n",
       "\t& Int64 & Int64 & Int64 & Int64\\\\\n",
       "\t\\hline\n",
       "\t1 & 3 & 9 & 1 & 2 \\\\\n",
       "\t2 & 6 & 1 & 9 & 2 \\\\\n",
       "\t3 & 2 & 1 & 3 & 9 \\\\\n",
       "\\end{tabular}\n"
      ],
      "text/plain": [
       "3×4 DataFrame\n",
       "│ Row │ x1    │ x2    │ x3    │ x4    │\n",
       "│     │ \u001b[90mInt64\u001b[39m │ \u001b[90mInt64\u001b[39m │ \u001b[90mInt64\u001b[39m │ \u001b[90mInt64\u001b[39m │\n",
       "├─────┼───────┼───────┼───────┼───────┤\n",
       "│ 1   │ 3     │ 9     │ 1     │ 2     │\n",
       "│ 2   │ 6     │ 1     │ 9     │ 2     │\n",
       "│ 3   │ 2     │ 1     │ 3     │ 9     │"
      ]
     },
     "execution_count": 48,
     "metadata": {},
     "output_type": "execute_result"
    }
   ],
   "source": [
    "df2 = DataFrame(rand(1:10, 3, 4))"
   ]
  },
  {
   "cell_type": "markdown",
   "metadata": {},
   "source": [
    "And we show yet another way to write a `DataFrame` into a CSV file"
   ]
  },
  {
   "cell_type": "code",
   "execution_count": 49,
   "metadata": {},
   "outputs": [],
   "source": [
    "# write a CSV file into the zip file\n",
    "w = ZipFile.Writer(\"x.zip\")\n",
    "\n",
    "f1 = ZipFile.addfile(w, \"x1.csv\")\n",
    "write(f1, sprint(show, \"text/csv\", df1))\n",
    "\n",
    "# write a second CSV file into zip file\n",
    "f2 = ZipFile.addfile(w, \"x2.csv\", method=ZipFile.Deflate)\n",
    "write(f2, sprint(show, \"text/csv\", df2))\n",
    "\n",
    "close(w)"
   ]
  },
  {
   "cell_type": "markdown",
   "metadata": {},
   "source": [
    "Now we read the CSV we have written:"
   ]
  },
  {
   "cell_type": "code",
   "execution_count": 50,
   "metadata": {},
   "outputs": [],
   "source": [
    "z = ZipFile.Reader(\"x.zip\");"
   ]
  },
  {
   "cell_type": "code",
   "execution_count": 51,
   "metadata": {},
   "outputs": [
    {
     "data": {
      "text/html": [
       "<table class=\"data-frame\"><thead><tr><th></th><th>x1</th><th>x2</th><th>x3</th><th>x4</th></tr><tr><th></th><th>Int64</th><th>Int64</th><th>Int64</th><th>Int64</th></tr></thead><tbody><p>3 rows × 4 columns</p><tr><th>1</th><td>8</td><td>4</td><td>3</td><td>9</td></tr><tr><th>2</th><td>3</td><td>9</td><td>7</td><td>8</td></tr><tr><th>3</th><td>3</td><td>4</td><td>5</td><td>8</td></tr></tbody></table>"
      ],
      "text/latex": [
       "\\begin{tabular}{r|cccc}\n",
       "\t& x1 & x2 & x3 & x4\\\\\n",
       "\t\\hline\n",
       "\t& Int64 & Int64 & Int64 & Int64\\\\\n",
       "\t\\hline\n",
       "\t1 & 8 & 4 & 3 & 9 \\\\\n",
       "\t2 & 3 & 9 & 7 & 8 \\\\\n",
       "\t3 & 3 & 4 & 5 & 8 \\\\\n",
       "\\end{tabular}\n"
      ],
      "text/plain": [
       "3×4 DataFrame\n",
       "│ Row │ x1    │ x2    │ x3    │ x4    │\n",
       "│     │ \u001b[90mInt64\u001b[39m │ \u001b[90mInt64\u001b[39m │ \u001b[90mInt64\u001b[39m │ \u001b[90mInt64\u001b[39m │\n",
       "├─────┼───────┼───────┼───────┼───────┤\n",
       "│ 1   │ 8     │ 4     │ 3     │ 9     │\n",
       "│ 2   │ 3     │ 9     │ 7     │ 8     │\n",
       "│ 3   │ 3     │ 4     │ 5     │ 8     │"
      ]
     },
     "execution_count": 51,
     "metadata": {},
     "output_type": "execute_result"
    }
   ],
   "source": [
    "# find the index index of file called x1.csv\n",
    "index_xcsv = findfirst(x->x.name == \"x1.csv\", z.files)\n",
    "# to read the x1.csv file in the zip file\n",
    "df1_2 = CSV.read(z.files[index_xcsv])"
   ]
  },
  {
   "cell_type": "code",
   "execution_count": 52,
   "metadata": {},
   "outputs": [
    {
     "data": {
      "text/plain": [
       "true"
      ]
     },
     "execution_count": 52,
     "metadata": {},
     "output_type": "execute_result"
    }
   ],
   "source": [
    "df1_2 == df1"
   ]
  },
  {
   "cell_type": "code",
   "execution_count": 53,
   "metadata": {},
   "outputs": [
    {
     "data": {
      "text/html": [
       "<table class=\"data-frame\"><thead><tr><th></th><th>x1</th><th>x2</th><th>x3</th><th>x4</th></tr><tr><th></th><th>Int64</th><th>Int64</th><th>Int64</th><th>Int64</th></tr></thead><tbody><p>3 rows × 4 columns</p><tr><th>1</th><td>3</td><td>9</td><td>1</td><td>2</td></tr><tr><th>2</th><td>6</td><td>1</td><td>9</td><td>2</td></tr><tr><th>3</th><td>2</td><td>1</td><td>3</td><td>9</td></tr></tbody></table>"
      ],
      "text/latex": [
       "\\begin{tabular}{r|cccc}\n",
       "\t& x1 & x2 & x3 & x4\\\\\n",
       "\t\\hline\n",
       "\t& Int64 & Int64 & Int64 & Int64\\\\\n",
       "\t\\hline\n",
       "\t1 & 3 & 9 & 1 & 2 \\\\\n",
       "\t2 & 6 & 1 & 9 & 2 \\\\\n",
       "\t3 & 2 & 1 & 3 & 9 \\\\\n",
       "\\end{tabular}\n"
      ],
      "text/plain": [
       "3×4 DataFrame\n",
       "│ Row │ x1    │ x2    │ x3    │ x4    │\n",
       "│     │ \u001b[90mInt64\u001b[39m │ \u001b[90mInt64\u001b[39m │ \u001b[90mInt64\u001b[39m │ \u001b[90mInt64\u001b[39m │\n",
       "├─────┼───────┼───────┼───────┼───────┤\n",
       "│ 1   │ 3     │ 9     │ 1     │ 2     │\n",
       "│ 2   │ 6     │ 1     │ 9     │ 2     │\n",
       "│ 3   │ 2     │ 1     │ 3     │ 9     │"
      ]
     },
     "execution_count": 53,
     "metadata": {},
     "output_type": "execute_result"
    }
   ],
   "source": [
    "# find the index index of file called x2.csv\n",
    "index_xcsv = findfirst(x->x.name == \"x2.csv\", z.files)\n",
    "# to read the x2.csv file in the zip file\n",
    "df2_2 = CSV.read(z.files[index_xcsv])"
   ]
  },
  {
   "cell_type": "code",
   "execution_count": 54,
   "metadata": {},
   "outputs": [
    {
     "data": {
      "text/plain": [
       "true"
      ]
     },
     "execution_count": 54,
     "metadata": {},
     "output_type": "execute_result"
    }
   ],
   "source": [
    "df2_2 == df2"
   ]
  },
  {
   "cell_type": "markdown",
   "metadata": {},
   "source": [
    "Note that once you read a given file from `z` object its stream is all used-up (it is at its end). Therefore to read it again you need to close `z` and open it again.\n",
    "\n",
    "Also do not forget to close the zip file once done."
   ]
  },
  {
   "cell_type": "code",
   "execution_count": 55,
   "metadata": {},
   "outputs": [],
   "source": [
    "close(z)"
   ]
  },
  {
   "cell_type": "markdown",
   "metadata": {},
   "source": [
    "Finally, let's clean up. Do not run the next cell unless you are sure that it will not erase your important files."
   ]
  },
  {
   "cell_type": "code",
   "execution_count": 56,
   "metadata": {},
   "outputs": [],
   "source": [
    "foreach(rm, [\"x1.csv\", \"x2.csv\", \"x.bin\", \"x.jlso\", \"x.feather\", \"x1.json\", \"x2.json\",\n",
    "             \"bigdf1.csv\", \"bigdf2.csv\", \"bigdf.bin\", \"bigdf.jlso\", \"bigdf.feather\", \"bigdf1.json\", \"bigdf2.json\", \n",
    "             \"df_compress_test.csv.gz\", \"x.zip\"])"
   ]
  },
  {
   "cell_type": "code",
   "execution_count": 57,
   "metadata": {},
   "outputs": [],
   "source": [
    "rm(\"bigdf.jdf\", recursive=true)\n",
    "rm(\"x.jdf\", recursive=true)"
   ]
  }
 ],
 "metadata": {
  "@webio": {
   "lastCommId": null,
   "lastKernelId": null
  },
  "kernelspec": {
   "display_name": "Julia 1.5.1",
   "language": "julia",
   "name": "julia-1.5"
  },
  "language_info": {
   "file_extension": ".jl",
   "mimetype": "application/julia",
   "name": "julia",
   "version": "1.5.1"
  }
 },
 "nbformat": 4,
 "nbformat_minor": 4
}
