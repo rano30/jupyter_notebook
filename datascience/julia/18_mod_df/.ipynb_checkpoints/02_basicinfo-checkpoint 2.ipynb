{
 "cells": [
  {
   "cell_type": "markdown",
   "metadata": {},
   "source": [
    "Data Science Fundamentals: Julia |\n",
    "[Table of Contents](../index.ipynb)\n",
    "- - - \n",
    "<!--NAVIGATION-->\n",
    "Module 18. [Constructors](01_constructors.ipynb) | **[Basic Information](02_basicinfo.ipynb)** | [Missing Values](03_missingvalues.ipynb) | [Load Save](04_loadsave.ipynb) | [Columns](05_columns.ipynb) | [Rows](06_rows.ipynb) | [Factors](07_factors.ipynb) | [Joins](08_joins.ipynb) | [Reshaping](09_reshaping.ipynb) | [Transforms](10_transforms.ipynb) | [Performance](11_performance.ipynb) | [Pitfalls](12_pitfalls.ipynb) | [Extras](13_extras.ipynb)"
   ]
  },
  {
   "cell_type": "code",
   "execution_count": 1,
   "metadata": {},
   "outputs": [],
   "source": [
    "using DataFrames"
   ]
  },
  {
   "cell_type": "markdown",
   "metadata": {},
   "source": [
    "## Getting basic information about a data frame\n",
    "\n",
    "Let's start by creating a `DataFrame` object, `x`, so that we can learn how to get information on that data frame."
   ]
  },
  {
   "cell_type": "code",
   "execution_count": 2,
   "metadata": {},
   "outputs": [
    {
     "data": {
      "text/html": [
       "<table class=\"data-frame\"><thead><tr><th></th><th>A</th><th>B</th><th>C</th></tr><tr><th></th><th>Int64</th><th>Float64?</th><th>String</th></tr></thead><tbody><p>2 rows × 3 columns</p><tr><th>1</th><td>1</td><td>1.0</td><td>a</td></tr><tr><th>2</th><td>2</td><td><em>missing</em></td><td>b</td></tr></tbody></table>"
      ],
      "text/latex": [
       "\\begin{tabular}{r|ccc}\n",
       "\t& A & B & C\\\\\n",
       "\t\\hline\n",
       "\t& Int64 & Float64? & String\\\\\n",
       "\t\\hline\n",
       "\t1 & 1 & 1.0 & a \\\\\n",
       "\t2 & 2 & \\emph{missing} & b \\\\\n",
       "\\end{tabular}\n"
      ],
      "text/plain": [
       "2×3 DataFrame\n",
       "│ Row │ A     │ B        │ C      │\n",
       "│     │ \u001b[90mInt64\u001b[39m │ \u001b[90mFloat64?\u001b[39m │ \u001b[90mString\u001b[39m │\n",
       "├─────┼───────┼──────────┼────────┤\n",
       "│ 1   │ 1     │ 1.0      │ a      │\n",
       "│ 2   │ 2     │ \u001b[90mmissing\u001b[39m  │ b      │"
      ]
     },
     "execution_count": 2,
     "metadata": {},
     "output_type": "execute_result"
    }
   ],
   "source": [
    "x = DataFrame(A = [1, 2], B = [1.0, missing], C = [\"a\", \"b\"])"
   ]
  },
  {
   "cell_type": "markdown",
   "metadata": {},
   "source": [
    "The standard `size` function works to get dimensions of the `DataFrame`,"
   ]
  },
  {
   "cell_type": "code",
   "execution_count": 3,
   "metadata": {},
   "outputs": [
    {
     "data": {
      "text/plain": [
       "((2, 3), 2, 3)"
      ]
     },
     "execution_count": 3,
     "metadata": {},
     "output_type": "execute_result"
    }
   ],
   "source": [
    "size(x), size(x, 1), size(x, 2)"
   ]
  },
  {
   "cell_type": "markdown",
   "metadata": {},
   "source": [
    "as well as `nrow` and `ncol` from R."
   ]
  },
  {
   "cell_type": "code",
   "execution_count": 4,
   "metadata": {},
   "outputs": [
    {
     "data": {
      "text/plain": [
       "(2, 3)"
      ]
     },
     "execution_count": 4,
     "metadata": {},
     "output_type": "execute_result"
    }
   ],
   "source": [
    "nrow(x), ncol(x)"
   ]
  },
  {
   "cell_type": "markdown",
   "metadata": {},
   "source": [
    "`describe` gives basic summary statistics of data in your `DataFrame` (check out the help of `describe` for information how to customize shown statistics)."
   ]
  },
  {
   "cell_type": "code",
   "execution_count": 5,
   "metadata": {},
   "outputs": [
    {
     "data": {
      "text/html": [
       "<table class=\"data-frame\"><thead><tr><th></th><th>variable</th><th>mean</th><th>min</th><th>median</th><th>max</th><th>nunique</th><th>nmissing</th><th>eltype</th></tr><tr><th></th><th>Symbol</th><th>Union…</th><th>Any</th><th>Union…</th><th>Any</th><th>Union…</th><th>Union…</th><th>Type</th></tr></thead><tbody><p>3 rows × 8 columns</p><tr><th>1</th><td>A</td><td>1.5</td><td>1</td><td>1.5</td><td>2</td><td></td><td></td><td>Int64</td></tr><tr><th>2</th><td>B</td><td>1.0</td><td>1.0</td><td>1.0</td><td>1.0</td><td></td><td>1</td><td>Union{Missing, Float64}</td></tr><tr><th>3</th><td>C</td><td></td><td>a</td><td></td><td>b</td><td>2</td><td></td><td>String</td></tr></tbody></table>"
      ],
      "text/latex": [
       "\\begin{tabular}{r|cccccccc}\n",
       "\t& variable & mean & min & median & max & nunique & nmissing & eltype\\\\\n",
       "\t\\hline\n",
       "\t& Symbol & Union… & Any & Union… & Any & Union… & Union… & Type\\\\\n",
       "\t\\hline\n",
       "\t1 & A & 1.5 & 1 & 1.5 & 2 &  &  & Int64 \\\\\n",
       "\t2 & B & 1.0 & 1.0 & 1.0 & 1.0 &  & 1 & Union\\{Missing, Float64\\} \\\\\n",
       "\t3 & C &  & a &  & b & 2 &  & String \\\\\n",
       "\\end{tabular}\n"
      ],
      "text/plain": [
       "3×8 DataFrame. Omitted printing of 1 columns\n",
       "│ Row │ variable │ mean   │ min │ median │ max │ nunique │ nmissing │\n",
       "│     │ \u001b[90mSymbol\u001b[39m   │ \u001b[90mUnion…\u001b[39m │ \u001b[90mAny\u001b[39m │ \u001b[90mUnion…\u001b[39m │ \u001b[90mAny\u001b[39m │ \u001b[90mUnion…\u001b[39m  │ \u001b[90mUnion…\u001b[39m   │\n",
       "├─────┼──────────┼────────┼─────┼────────┼─────┼─────────┼──────────┤\n",
       "│ 1   │ A        │ 1.5    │ 1   │ 1.5    │ 2   │         │          │\n",
       "│ 2   │ B        │ 1.0    │ 1.0 │ 1.0    │ 1.0 │         │ 1        │\n",
       "│ 3   │ C        │        │ a   │        │ b   │ 2       │          │"
      ]
     },
     "execution_count": 5,
     "metadata": {},
     "output_type": "execute_result"
    }
   ],
   "source": [
    "describe(x)"
   ]
  },
  {
   "cell_type": "markdown",
   "metadata": {},
   "source": [
    "you can limit the columns shown by `describe` using `cols` keyword argument"
   ]
  },
  {
   "cell_type": "code",
   "execution_count": 6,
   "metadata": {},
   "outputs": [
    {
     "data": {
      "text/html": [
       "<table class=\"data-frame\"><thead><tr><th></th><th>variable</th><th>mean</th><th>min</th><th>median</th><th>max</th><th>nunique</th><th>nmissing</th><th>eltype</th></tr><tr><th></th><th>Symbol</th><th>Float64</th><th>Real</th><th>Float64</th><th>Real</th><th>Nothing</th><th>Union…</th><th>Type</th></tr></thead><tbody><p>2 rows × 8 columns</p><tr><th>1</th><td>A</td><td>1.5</td><td>1</td><td>1.5</td><td>2</td><td></td><td></td><td>Int64</td></tr><tr><th>2</th><td>B</td><td>1.0</td><td>1.0</td><td>1.0</td><td>1.0</td><td></td><td>1</td><td>Union{Missing, Float64}</td></tr></tbody></table>"
      ],
      "text/latex": [
       "\\begin{tabular}{r|cccccccc}\n",
       "\t& variable & mean & min & median & max & nunique & nmissing & eltype\\\\\n",
       "\t\\hline\n",
       "\t& Symbol & Float64 & Real & Float64 & Real & Nothing & Union… & Type\\\\\n",
       "\t\\hline\n",
       "\t1 & A & 1.5 & 1 & 1.5 & 2 &  &  & Int64 \\\\\n",
       "\t2 & B & 1.0 & 1.0 & 1.0 & 1.0 &  & 1 & Union\\{Missing, Float64\\} \\\\\n",
       "\\end{tabular}\n"
      ],
      "text/plain": [
       "2×8 DataFrame. Omitted printing of 1 columns\n",
       "│ Row │ variable │ mean    │ min  │ median  │ max  │ nunique │ nmissing │\n",
       "│     │ \u001b[90mSymbol\u001b[39m   │ \u001b[90mFloat64\u001b[39m │ \u001b[90mReal\u001b[39m │ \u001b[90mFloat64\u001b[39m │ \u001b[90mReal\u001b[39m │ \u001b[90mNothing\u001b[39m │ \u001b[90mUnion…\u001b[39m   │\n",
       "├─────┼──────────┼─────────┼──────┼─────────┼──────┼─────────┼──────────┤\n",
       "│ 1   │ A        │ 1.5     │ 1    │ 1.5     │ 2    │         │          │\n",
       "│ 2   │ B        │ 1.0     │ 1.0  │ 1.0     │ 1.0  │         │ 1        │"
      ]
     },
     "execution_count": 6,
     "metadata": {},
     "output_type": "execute_result"
    }
   ],
   "source": [
    "describe(x, cols=1:2)"
   ]
  },
  {
   "cell_type": "markdown",
   "metadata": {},
   "source": [
    "`names` will return the names of all columns as strings"
   ]
  },
  {
   "cell_type": "code",
   "execution_count": 7,
   "metadata": {},
   "outputs": [
    {
     "data": {
      "text/plain": [
       "3-element Array{String,1}:\n",
       " \"A\"\n",
       " \"B\"\n",
       " \"C\""
      ]
     },
     "execution_count": 7,
     "metadata": {},
     "output_type": "execute_result"
    }
   ],
   "source": [
    "names(x)"
   ]
  },
  {
   "cell_type": "markdown",
   "metadata": {},
   "source": [
    "use `propertynames` to get a vector of `Symbol`s:"
   ]
  },
  {
   "cell_type": "code",
   "execution_count": 8,
   "metadata": {},
   "outputs": [
    {
     "data": {
      "text/plain": [
       "3-element Array{Symbol,1}:\n",
       " :A\n",
       " :B\n",
       " :C"
      ]
     },
     "execution_count": 8,
     "metadata": {},
     "output_type": "execute_result"
    }
   ],
   "source": [
    "propertynames(x)"
   ]
  },
  {
   "cell_type": "markdown",
   "metadata": {},
   "source": [
    "using `eltype` on `eachcol(x)` returns element types of columns:"
   ]
  },
  {
   "cell_type": "code",
   "execution_count": 9,
   "metadata": {},
   "outputs": [
    {
     "data": {
      "text/plain": [
       "3-element Array{Type,1}:\n",
       " Int64\n",
       " Union{Missing, Float64}\n",
       " String"
      ]
     },
     "execution_count": 9,
     "metadata": {},
     "output_type": "execute_result"
    }
   ],
   "source": [
    "eltype.(eachcol(x))"
   ]
  },
  {
   "cell_type": "markdown",
   "metadata": {},
   "source": [
    "Here we create some large `DataFrame`"
   ]
  },
  {
   "cell_type": "code",
   "execution_count": 10,
   "metadata": {},
   "outputs": [
    {
     "data": {
      "text/html": [
       "<table class=\"data-frame\"><thead><tr><th></th><th>x1</th><th>x2</th><th>x3</th><th>x4</th><th>x5</th><th>x6</th><th>x7</th><th>x8</th><th>x9</th><th>x10</th></tr><tr><th></th><th>Int64</th><th>Int64</th><th>Int64</th><th>Int64</th><th>Int64</th><th>Int64</th><th>Int64</th><th>Int64</th><th>Int64</th><th>Int64</th></tr></thead><tbody><p>1,000 rows × 10 columns</p><tr><th>1</th><td>7</td><td>7</td><td>8</td><td>2</td><td>6</td><td>1</td><td>9</td><td>3</td><td>1</td><td>1</td></tr><tr><th>2</th><td>4</td><td>4</td><td>2</td><td>5</td><td>3</td><td>7</td><td>10</td><td>8</td><td>6</td><td>7</td></tr><tr><th>3</th><td>8</td><td>6</td><td>7</td><td>3</td><td>9</td><td>10</td><td>5</td><td>2</td><td>10</td><td>10</td></tr><tr><th>4</th><td>6</td><td>2</td><td>8</td><td>6</td><td>3</td><td>8</td><td>1</td><td>3</td><td>6</td><td>5</td></tr><tr><th>5</th><td>2</td><td>5</td><td>9</td><td>10</td><td>10</td><td>1</td><td>9</td><td>4</td><td>3</td><td>6</td></tr><tr><th>6</th><td>3</td><td>2</td><td>1</td><td>6</td><td>7</td><td>6</td><td>10</td><td>8</td><td>4</td><td>4</td></tr><tr><th>7</th><td>10</td><td>10</td><td>6</td><td>9</td><td>1</td><td>9</td><td>5</td><td>2</td><td>4</td><td>9</td></tr><tr><th>8</th><td>5</td><td>1</td><td>10</td><td>5</td><td>3</td><td>2</td><td>1</td><td>5</td><td>10</td><td>6</td></tr><tr><th>9</th><td>7</td><td>3</td><td>2</td><td>1</td><td>10</td><td>8</td><td>7</td><td>1</td><td>9</td><td>2</td></tr><tr><th>10</th><td>6</td><td>10</td><td>7</td><td>5</td><td>8</td><td>5</td><td>4</td><td>2</td><td>5</td><td>8</td></tr><tr><th>11</th><td>7</td><td>8</td><td>8</td><td>7</td><td>1</td><td>6</td><td>8</td><td>6</td><td>5</td><td>7</td></tr><tr><th>12</th><td>7</td><td>2</td><td>10</td><td>2</td><td>8</td><td>2</td><td>7</td><td>10</td><td>8</td><td>5</td></tr><tr><th>13</th><td>3</td><td>1</td><td>5</td><td>1</td><td>2</td><td>2</td><td>10</td><td>2</td><td>5</td><td>8</td></tr><tr><th>14</th><td>5</td><td>5</td><td>7</td><td>6</td><td>10</td><td>3</td><td>3</td><td>5</td><td>3</td><td>10</td></tr><tr><th>15</th><td>10</td><td>1</td><td>10</td><td>7</td><td>4</td><td>5</td><td>8</td><td>9</td><td>4</td><td>10</td></tr><tr><th>16</th><td>9</td><td>10</td><td>2</td><td>5</td><td>4</td><td>9</td><td>7</td><td>2</td><td>5</td><td>3</td></tr><tr><th>17</th><td>5</td><td>4</td><td>1</td><td>4</td><td>8</td><td>7</td><td>3</td><td>1</td><td>10</td><td>5</td></tr><tr><th>18</th><td>2</td><td>2</td><td>8</td><td>7</td><td>3</td><td>2</td><td>10</td><td>4</td><td>2</td><td>9</td></tr><tr><th>19</th><td>8</td><td>4</td><td>1</td><td>2</td><td>4</td><td>3</td><td>7</td><td>4</td><td>3</td><td>5</td></tr><tr><th>20</th><td>6</td><td>2</td><td>5</td><td>8</td><td>9</td><td>3</td><td>4</td><td>5</td><td>7</td><td>5</td></tr><tr><th>21</th><td>5</td><td>5</td><td>2</td><td>6</td><td>4</td><td>2</td><td>4</td><td>10</td><td>4</td><td>9</td></tr><tr><th>22</th><td>9</td><td>6</td><td>7</td><td>2</td><td>10</td><td>7</td><td>4</td><td>3</td><td>6</td><td>1</td></tr><tr><th>23</th><td>2</td><td>4</td><td>8</td><td>9</td><td>1</td><td>8</td><td>8</td><td>4</td><td>9</td><td>7</td></tr><tr><th>24</th><td>4</td><td>1</td><td>5</td><td>8</td><td>1</td><td>1</td><td>10</td><td>2</td><td>1</td><td>8</td></tr><tr><th>25</th><td>3</td><td>9</td><td>4</td><td>9</td><td>1</td><td>9</td><td>5</td><td>1</td><td>9</td><td>2</td></tr><tr><th>26</th><td>9</td><td>4</td><td>4</td><td>5</td><td>5</td><td>7</td><td>10</td><td>2</td><td>10</td><td>7</td></tr><tr><th>27</th><td>4</td><td>2</td><td>4</td><td>6</td><td>7</td><td>3</td><td>9</td><td>4</td><td>5</td><td>4</td></tr><tr><th>28</th><td>2</td><td>3</td><td>3</td><td>7</td><td>2</td><td>1</td><td>5</td><td>4</td><td>3</td><td>4</td></tr><tr><th>29</th><td>9</td><td>6</td><td>2</td><td>6</td><td>2</td><td>6</td><td>5</td><td>6</td><td>1</td><td>1</td></tr><tr><th>30</th><td>7</td><td>9</td><td>8</td><td>8</td><td>6</td><td>7</td><td>2</td><td>8</td><td>6</td><td>6</td></tr><tr><th>&vellip;</th><td>&vellip;</td><td>&vellip;</td><td>&vellip;</td><td>&vellip;</td><td>&vellip;</td><td>&vellip;</td><td>&vellip;</td><td>&vellip;</td><td>&vellip;</td><td>&vellip;</td></tr></tbody></table>"
      ],
      "text/latex": [
       "\\begin{tabular}{r|cccccccccc}\n",
       "\t& x1 & x2 & x3 & x4 & x5 & x6 & x7 & x8 & x9 & x10\\\\\n",
       "\t\\hline\n",
       "\t& Int64 & Int64 & Int64 & Int64 & Int64 & Int64 & Int64 & Int64 & Int64 & Int64\\\\\n",
       "\t\\hline\n",
       "\t1 & 7 & 7 & 8 & 2 & 6 & 1 & 9 & 3 & 1 & 1 \\\\\n",
       "\t2 & 4 & 4 & 2 & 5 & 3 & 7 & 10 & 8 & 6 & 7 \\\\\n",
       "\t3 & 8 & 6 & 7 & 3 & 9 & 10 & 5 & 2 & 10 & 10 \\\\\n",
       "\t4 & 6 & 2 & 8 & 6 & 3 & 8 & 1 & 3 & 6 & 5 \\\\\n",
       "\t5 & 2 & 5 & 9 & 10 & 10 & 1 & 9 & 4 & 3 & 6 \\\\\n",
       "\t6 & 3 & 2 & 1 & 6 & 7 & 6 & 10 & 8 & 4 & 4 \\\\\n",
       "\t7 & 10 & 10 & 6 & 9 & 1 & 9 & 5 & 2 & 4 & 9 \\\\\n",
       "\t8 & 5 & 1 & 10 & 5 & 3 & 2 & 1 & 5 & 10 & 6 \\\\\n",
       "\t9 & 7 & 3 & 2 & 1 & 10 & 8 & 7 & 1 & 9 & 2 \\\\\n",
       "\t10 & 6 & 10 & 7 & 5 & 8 & 5 & 4 & 2 & 5 & 8 \\\\\n",
       "\t11 & 7 & 8 & 8 & 7 & 1 & 6 & 8 & 6 & 5 & 7 \\\\\n",
       "\t12 & 7 & 2 & 10 & 2 & 8 & 2 & 7 & 10 & 8 & 5 \\\\\n",
       "\t13 & 3 & 1 & 5 & 1 & 2 & 2 & 10 & 2 & 5 & 8 \\\\\n",
       "\t14 & 5 & 5 & 7 & 6 & 10 & 3 & 3 & 5 & 3 & 10 \\\\\n",
       "\t15 & 10 & 1 & 10 & 7 & 4 & 5 & 8 & 9 & 4 & 10 \\\\\n",
       "\t16 & 9 & 10 & 2 & 5 & 4 & 9 & 7 & 2 & 5 & 3 \\\\\n",
       "\t17 & 5 & 4 & 1 & 4 & 8 & 7 & 3 & 1 & 10 & 5 \\\\\n",
       "\t18 & 2 & 2 & 8 & 7 & 3 & 2 & 10 & 4 & 2 & 9 \\\\\n",
       "\t19 & 8 & 4 & 1 & 2 & 4 & 3 & 7 & 4 & 3 & 5 \\\\\n",
       "\t20 & 6 & 2 & 5 & 8 & 9 & 3 & 4 & 5 & 7 & 5 \\\\\n",
       "\t21 & 5 & 5 & 2 & 6 & 4 & 2 & 4 & 10 & 4 & 9 \\\\\n",
       "\t22 & 9 & 6 & 7 & 2 & 10 & 7 & 4 & 3 & 6 & 1 \\\\\n",
       "\t23 & 2 & 4 & 8 & 9 & 1 & 8 & 8 & 4 & 9 & 7 \\\\\n",
       "\t24 & 4 & 1 & 5 & 8 & 1 & 1 & 10 & 2 & 1 & 8 \\\\\n",
       "\t25 & 3 & 9 & 4 & 9 & 1 & 9 & 5 & 1 & 9 & 2 \\\\\n",
       "\t26 & 9 & 4 & 4 & 5 & 5 & 7 & 10 & 2 & 10 & 7 \\\\\n",
       "\t27 & 4 & 2 & 4 & 6 & 7 & 3 & 9 & 4 & 5 & 4 \\\\\n",
       "\t28 & 2 & 3 & 3 & 7 & 2 & 1 & 5 & 4 & 3 & 4 \\\\\n",
       "\t29 & 9 & 6 & 2 & 6 & 2 & 6 & 5 & 6 & 1 & 1 \\\\\n",
       "\t30 & 7 & 9 & 8 & 8 & 6 & 7 & 2 & 8 & 6 & 6 \\\\\n",
       "\t$\\dots$ & $\\dots$ & $\\dots$ & $\\dots$ & $\\dots$ & $\\dots$ & $\\dots$ & $\\dots$ & $\\dots$ & $\\dots$ & $\\dots$ \\\\\n",
       "\\end{tabular}\n"
      ],
      "text/plain": [
       "1000×10 DataFrame. Omitted printing of 1 columns\n",
       "│ Row  │ x1    │ x2    │ x3    │ x4    │ x5    │ x6    │ x7    │ x8    │ x9    │\n",
       "│      │ \u001b[90mInt64\u001b[39m │ \u001b[90mInt64\u001b[39m │ \u001b[90mInt64\u001b[39m │ \u001b[90mInt64\u001b[39m │ \u001b[90mInt64\u001b[39m │ \u001b[90mInt64\u001b[39m │ \u001b[90mInt64\u001b[39m │ \u001b[90mInt64\u001b[39m │ \u001b[90mInt64\u001b[39m │\n",
       "├──────┼───────┼───────┼───────┼───────┼───────┼───────┼───────┼───────┼───────┤\n",
       "│ 1    │ 7     │ 7     │ 8     │ 2     │ 6     │ 1     │ 9     │ 3     │ 1     │\n",
       "│ 2    │ 4     │ 4     │ 2     │ 5     │ 3     │ 7     │ 10    │ 8     │ 6     │\n",
       "│ 3    │ 8     │ 6     │ 7     │ 3     │ 9     │ 10    │ 5     │ 2     │ 10    │\n",
       "│ 4    │ 6     │ 2     │ 8     │ 6     │ 3     │ 8     │ 1     │ 3     │ 6     │\n",
       "│ 5    │ 2     │ 5     │ 9     │ 10    │ 10    │ 1     │ 9     │ 4     │ 3     │\n",
       "│ 6    │ 3     │ 2     │ 1     │ 6     │ 7     │ 6     │ 10    │ 8     │ 4     │\n",
       "│ 7    │ 10    │ 10    │ 6     │ 9     │ 1     │ 9     │ 5     │ 2     │ 4     │\n",
       "│ 8    │ 5     │ 1     │ 10    │ 5     │ 3     │ 2     │ 1     │ 5     │ 10    │\n",
       "│ 9    │ 7     │ 3     │ 2     │ 1     │ 10    │ 8     │ 7     │ 1     │ 9     │\n",
       "│ 10   │ 6     │ 10    │ 7     │ 5     │ 8     │ 5     │ 4     │ 2     │ 5     │\n",
       "⋮\n",
       "│ 990  │ 6     │ 5     │ 2     │ 7     │ 5     │ 9     │ 4     │ 2     │ 3     │\n",
       "│ 991  │ 6     │ 5     │ 9     │ 2     │ 5     │ 8     │ 6     │ 7     │ 2     │\n",
       "│ 992  │ 7     │ 3     │ 10    │ 3     │ 8     │ 9     │ 8     │ 9     │ 2     │\n",
       "│ 993  │ 7     │ 8     │ 5     │ 3     │ 2     │ 1     │ 10    │ 3     │ 6     │\n",
       "│ 994  │ 6     │ 1     │ 1     │ 8     │ 9     │ 2     │ 6     │ 3     │ 4     │\n",
       "│ 995  │ 8     │ 7     │ 6     │ 7     │ 5     │ 1     │ 3     │ 8     │ 9     │\n",
       "│ 996  │ 2     │ 5     │ 5     │ 7     │ 6     │ 10    │ 8     │ 8     │ 2     │\n",
       "│ 997  │ 10    │ 3     │ 8     │ 5     │ 10    │ 7     │ 1     │ 2     │ 5     │\n",
       "│ 998  │ 3     │ 9     │ 6     │ 8     │ 8     │ 7     │ 7     │ 4     │ 9     │\n",
       "│ 999  │ 4     │ 5     │ 5     │ 8     │ 4     │ 10    │ 3     │ 4     │ 7     │\n",
       "│ 1000 │ 9     │ 9     │ 10    │ 9     │ 5     │ 2     │ 2     │ 10    │ 5     │"
      ]
     },
     "execution_count": 10,
     "metadata": {},
     "output_type": "execute_result"
    }
   ],
   "source": [
    "y = DataFrame(rand(1:10, 1000, 10))"
   ]
  },
  {
   "cell_type": "markdown",
   "metadata": {},
   "source": [
    "and then we can use `first` to peek into its first few rows"
   ]
  },
  {
   "cell_type": "code",
   "execution_count": 11,
   "metadata": {},
   "outputs": [
    {
     "data": {
      "text/html": [
       "<table class=\"data-frame\"><thead><tr><th></th><th>x1</th><th>x2</th><th>x3</th><th>x4</th><th>x5</th><th>x6</th><th>x7</th><th>x8</th><th>x9</th><th>x10</th></tr><tr><th></th><th>Int64</th><th>Int64</th><th>Int64</th><th>Int64</th><th>Int64</th><th>Int64</th><th>Int64</th><th>Int64</th><th>Int64</th><th>Int64</th></tr></thead><tbody><p>5 rows × 10 columns</p><tr><th>1</th><td>7</td><td>7</td><td>8</td><td>2</td><td>6</td><td>1</td><td>9</td><td>3</td><td>1</td><td>1</td></tr><tr><th>2</th><td>4</td><td>4</td><td>2</td><td>5</td><td>3</td><td>7</td><td>10</td><td>8</td><td>6</td><td>7</td></tr><tr><th>3</th><td>8</td><td>6</td><td>7</td><td>3</td><td>9</td><td>10</td><td>5</td><td>2</td><td>10</td><td>10</td></tr><tr><th>4</th><td>6</td><td>2</td><td>8</td><td>6</td><td>3</td><td>8</td><td>1</td><td>3</td><td>6</td><td>5</td></tr><tr><th>5</th><td>2</td><td>5</td><td>9</td><td>10</td><td>10</td><td>1</td><td>9</td><td>4</td><td>3</td><td>6</td></tr></tbody></table>"
      ],
      "text/latex": [
       "\\begin{tabular}{r|cccccccccc}\n",
       "\t& x1 & x2 & x3 & x4 & x5 & x6 & x7 & x8 & x9 & x10\\\\\n",
       "\t\\hline\n",
       "\t& Int64 & Int64 & Int64 & Int64 & Int64 & Int64 & Int64 & Int64 & Int64 & Int64\\\\\n",
       "\t\\hline\n",
       "\t1 & 7 & 7 & 8 & 2 & 6 & 1 & 9 & 3 & 1 & 1 \\\\\n",
       "\t2 & 4 & 4 & 2 & 5 & 3 & 7 & 10 & 8 & 6 & 7 \\\\\n",
       "\t3 & 8 & 6 & 7 & 3 & 9 & 10 & 5 & 2 & 10 & 10 \\\\\n",
       "\t4 & 6 & 2 & 8 & 6 & 3 & 8 & 1 & 3 & 6 & 5 \\\\\n",
       "\t5 & 2 & 5 & 9 & 10 & 10 & 1 & 9 & 4 & 3 & 6 \\\\\n",
       "\\end{tabular}\n"
      ],
      "text/plain": [
       "5×10 DataFrame. Omitted printing of 1 columns\n",
       "│ Row │ x1    │ x2    │ x3    │ x4    │ x5    │ x6    │ x7    │ x8    │ x9    │\n",
       "│     │ \u001b[90mInt64\u001b[39m │ \u001b[90mInt64\u001b[39m │ \u001b[90mInt64\u001b[39m │ \u001b[90mInt64\u001b[39m │ \u001b[90mInt64\u001b[39m │ \u001b[90mInt64\u001b[39m │ \u001b[90mInt64\u001b[39m │ \u001b[90mInt64\u001b[39m │ \u001b[90mInt64\u001b[39m │\n",
       "├─────┼───────┼───────┼───────┼───────┼───────┼───────┼───────┼───────┼───────┤\n",
       "│ 1   │ 7     │ 7     │ 8     │ 2     │ 6     │ 1     │ 9     │ 3     │ 1     │\n",
       "│ 2   │ 4     │ 4     │ 2     │ 5     │ 3     │ 7     │ 10    │ 8     │ 6     │\n",
       "│ 3   │ 8     │ 6     │ 7     │ 3     │ 9     │ 10    │ 5     │ 2     │ 10    │\n",
       "│ 4   │ 6     │ 2     │ 8     │ 6     │ 3     │ 8     │ 1     │ 3     │ 6     │\n",
       "│ 5   │ 2     │ 5     │ 9     │ 10    │ 10    │ 1     │ 9     │ 4     │ 3     │"
      ]
     },
     "execution_count": 11,
     "metadata": {},
     "output_type": "execute_result"
    }
   ],
   "source": [
    "first(y, 5)"
   ]
  },
  {
   "cell_type": "markdown",
   "metadata": {},
   "source": [
    "and `last` to see its bottom rows."
   ]
  },
  {
   "cell_type": "code",
   "execution_count": 12,
   "metadata": {},
   "outputs": [
    {
     "data": {
      "text/html": [
       "<table class=\"data-frame\"><thead><tr><th></th><th>x1</th><th>x2</th><th>x3</th><th>x4</th><th>x5</th><th>x6</th><th>x7</th><th>x8</th><th>x9</th><th>x10</th></tr><tr><th></th><th>Int64</th><th>Int64</th><th>Int64</th><th>Int64</th><th>Int64</th><th>Int64</th><th>Int64</th><th>Int64</th><th>Int64</th><th>Int64</th></tr></thead><tbody><p>3 rows × 10 columns</p><tr><th>1</th><td>3</td><td>9</td><td>6</td><td>8</td><td>8</td><td>7</td><td>7</td><td>4</td><td>9</td><td>6</td></tr><tr><th>2</th><td>4</td><td>5</td><td>5</td><td>8</td><td>4</td><td>10</td><td>3</td><td>4</td><td>7</td><td>4</td></tr><tr><th>3</th><td>9</td><td>9</td><td>10</td><td>9</td><td>5</td><td>2</td><td>2</td><td>10</td><td>5</td><td>8</td></tr></tbody></table>"
      ],
      "text/latex": [
       "\\begin{tabular}{r|cccccccccc}\n",
       "\t& x1 & x2 & x3 & x4 & x5 & x6 & x7 & x8 & x9 & x10\\\\\n",
       "\t\\hline\n",
       "\t& Int64 & Int64 & Int64 & Int64 & Int64 & Int64 & Int64 & Int64 & Int64 & Int64\\\\\n",
       "\t\\hline\n",
       "\t1 & 3 & 9 & 6 & 8 & 8 & 7 & 7 & 4 & 9 & 6 \\\\\n",
       "\t2 & 4 & 5 & 5 & 8 & 4 & 10 & 3 & 4 & 7 & 4 \\\\\n",
       "\t3 & 9 & 9 & 10 & 9 & 5 & 2 & 2 & 10 & 5 & 8 \\\\\n",
       "\\end{tabular}\n"
      ],
      "text/plain": [
       "3×10 DataFrame. Omitted printing of 1 columns\n",
       "│ Row │ x1    │ x2    │ x3    │ x4    │ x5    │ x6    │ x7    │ x8    │ x9    │\n",
       "│     │ \u001b[90mInt64\u001b[39m │ \u001b[90mInt64\u001b[39m │ \u001b[90mInt64\u001b[39m │ \u001b[90mInt64\u001b[39m │ \u001b[90mInt64\u001b[39m │ \u001b[90mInt64\u001b[39m │ \u001b[90mInt64\u001b[39m │ \u001b[90mInt64\u001b[39m │ \u001b[90mInt64\u001b[39m │\n",
       "├─────┼───────┼───────┼───────┼───────┼───────┼───────┼───────┼───────┼───────┤\n",
       "│ 1   │ 3     │ 9     │ 6     │ 8     │ 8     │ 7     │ 7     │ 4     │ 9     │\n",
       "│ 2   │ 4     │ 5     │ 5     │ 8     │ 4     │ 10    │ 3     │ 4     │ 7     │\n",
       "│ 3   │ 9     │ 9     │ 10    │ 9     │ 5     │ 2     │ 2     │ 10    │ 5     │"
      ]
     },
     "execution_count": 12,
     "metadata": {},
     "output_type": "execute_result"
    }
   ],
   "source": [
    "last(y, 3)"
   ]
  },
  {
   "cell_type": "markdown",
   "metadata": {},
   "source": [
    "Using `first` and `last` without number of rows will return a first/last `DataFrameRow` in the `DataFrame`"
   ]
  },
  {
   "cell_type": "code",
   "execution_count": 13,
   "metadata": {},
   "outputs": [
    {
     "data": {
      "text/html": [
       "<p>DataFrameRow (10 columns)</p><table class=\"data-frame\"><thead><tr><th></th><th>x1</th><th>x2</th><th>x3</th><th>x4</th><th>x5</th><th>x6</th><th>x7</th><th>x8</th><th>x9</th><th>x10</th></tr><tr><th></th><th>Int64</th><th>Int64</th><th>Int64</th><th>Int64</th><th>Int64</th><th>Int64</th><th>Int64</th><th>Int64</th><th>Int64</th><th>Int64</th></tr></thead><tbody><tr><th>1</th><td>7</td><td>7</td><td>8</td><td>2</td><td>6</td><td>1</td><td>9</td><td>3</td><td>1</td><td>1</td></tr></tbody></table>"
      ],
      "text/latex": [
       "\\begin{tabular}{r|cccccccccc}\n",
       "\t& x1 & x2 & x3 & x4 & x5 & x6 & x7 & x8 & x9 & x10\\\\\n",
       "\t\\hline\n",
       "\t& Int64 & Int64 & Int64 & Int64 & Int64 & Int64 & Int64 & Int64 & Int64 & Int64\\\\\n",
       "\t\\hline\n",
       "\t1 & 7 & 7 & 8 & 2 & 6 & 1 & 9 & 3 & 1 & 1 \\\\\n",
       "\\end{tabular}\n"
      ],
      "text/plain": [
       "DataFrameRow. Omitted printing of 1 columns\n",
       "│ Row │ x1    │ x2    │ x3    │ x4    │ x5    │ x6    │ x7    │ x8    │ x9    │\n",
       "│     │ \u001b[90mInt64\u001b[39m │ \u001b[90mInt64\u001b[39m │ \u001b[90mInt64\u001b[39m │ \u001b[90mInt64\u001b[39m │ \u001b[90mInt64\u001b[39m │ \u001b[90mInt64\u001b[39m │ \u001b[90mInt64\u001b[39m │ \u001b[90mInt64\u001b[39m │ \u001b[90mInt64\u001b[39m │\n",
       "├─────┼───────┼───────┼───────┼───────┼───────┼───────┼───────┼───────┼───────┤\n",
       "│ 1   │ 7     │ 7     │ 8     │ 2     │ 6     │ 1     │ 9     │ 3     │ 1     │"
      ]
     },
     "execution_count": 13,
     "metadata": {},
     "output_type": "execute_result"
    }
   ],
   "source": [
    "first(y)"
   ]
  },
  {
   "cell_type": "code",
   "execution_count": 14,
   "metadata": {},
   "outputs": [
    {
     "data": {
      "text/html": [
       "<p>DataFrameRow (10 columns)</p><table class=\"data-frame\"><thead><tr><th></th><th>x1</th><th>x2</th><th>x3</th><th>x4</th><th>x5</th><th>x6</th><th>x7</th><th>x8</th><th>x9</th><th>x10</th></tr><tr><th></th><th>Int64</th><th>Int64</th><th>Int64</th><th>Int64</th><th>Int64</th><th>Int64</th><th>Int64</th><th>Int64</th><th>Int64</th><th>Int64</th></tr></thead><tbody><tr><th>1000</th><td>9</td><td>9</td><td>10</td><td>9</td><td>5</td><td>2</td><td>2</td><td>10</td><td>5</td><td>8</td></tr></tbody></table>"
      ],
      "text/latex": [
       "\\begin{tabular}{r|cccccccccc}\n",
       "\t& x1 & x2 & x3 & x4 & x5 & x6 & x7 & x8 & x9 & x10\\\\\n",
       "\t\\hline\n",
       "\t& Int64 & Int64 & Int64 & Int64 & Int64 & Int64 & Int64 & Int64 & Int64 & Int64\\\\\n",
       "\t\\hline\n",
       "\t1000 & 9 & 9 & 10 & 9 & 5 & 2 & 2 & 10 & 5 & 8 \\\\\n",
       "\\end{tabular}\n"
      ],
      "text/plain": [
       "DataFrameRow. Omitted printing of 1 columns\n",
       "│ Row  │ x1    │ x2    │ x3    │ x4    │ x5    │ x6    │ x7    │ x8    │ x9    │\n",
       "│      │ \u001b[90mInt64\u001b[39m │ \u001b[90mInt64\u001b[39m │ \u001b[90mInt64\u001b[39m │ \u001b[90mInt64\u001b[39m │ \u001b[90mInt64\u001b[39m │ \u001b[90mInt64\u001b[39m │ \u001b[90mInt64\u001b[39m │ \u001b[90mInt64\u001b[39m │ \u001b[90mInt64\u001b[39m │\n",
       "├──────┼───────┼───────┼───────┼───────┼───────┼───────┼───────┼───────┼───────┤\n",
       "│ 1000 │ 9     │ 9     │ 10    │ 9     │ 5     │ 2     │ 2     │ 10    │ 5     │"
      ]
     },
     "execution_count": 14,
     "metadata": {},
     "output_type": "execute_result"
    }
   ],
   "source": [
    "last(y)"
   ]
  },
  {
   "cell_type": "markdown",
   "metadata": {},
   "source": [
    "### Displaying large data frames"
   ]
  },
  {
   "cell_type": "markdown",
   "metadata": {},
   "source": [
    "Create a wide and tall data frame:"
   ]
  },
  {
   "cell_type": "code",
   "execution_count": 15,
   "metadata": {},
   "outputs": [
    {
     "data": {
      "text/html": [
       "<table class=\"data-frame\"><thead><tr><th></th><th>x1</th><th>x2</th><th>x3</th><th>x4</th><th>x5</th><th>x6</th><th>x7</th><th>x8</th></tr><tr><th></th><th>Float64</th><th>Float64</th><th>Float64</th><th>Float64</th><th>Float64</th><th>Float64</th><th>Float64</th><th>Float64</th></tr></thead><tbody><p>100 rows × 100 columns (omitted printing of 92 columns)</p><tr><th>1</th><td>0.78421</td><td>0.632682</td><td>0.717387</td><td>0.114581</td><td>0.0527668</td><td>0.838625</td><td>0.586866</td><td>0.43078</td></tr><tr><th>2</th><td>0.76552</td><td>0.48835</td><td>0.378482</td><td>0.483952</td><td>0.513253</td><td>0.32416</td><td>0.327797</td><td>0.565872</td></tr><tr><th>3</th><td>0.887606</td><td>0.644904</td><td>0.0977502</td><td>0.149482</td><td>0.223725</td><td>0.498404</td><td>0.179926</td><td>0.904395</td></tr><tr><th>4</th><td>0.224705</td><td>0.794643</td><td>0.722068</td><td>0.964643</td><td>0.119267</td><td>0.589702</td><td>0.650384</td><td>0.057006</td></tr><tr><th>5</th><td>0.753703</td><td>0.763321</td><td>0.612657</td><td>0.291588</td><td>0.62151</td><td>0.499765</td><td>0.705866</td><td>0.108964</td></tr><tr><th>6</th><td>0.781352</td><td>0.902342</td><td>0.639493</td><td>0.0391614</td><td>0.187419</td><td>0.822137</td><td>0.821152</td><td>0.925857</td></tr><tr><th>7</th><td>0.254295</td><td>0.583424</td><td>0.334097</td><td>0.972415</td><td>0.374985</td><td>0.739663</td><td>0.501554</td><td>0.428565</td></tr><tr><th>8</th><td>0.411225</td><td>0.121568</td><td>0.0804997</td><td>0.129359</td><td>0.295333</td><td>0.203935</td><td>0.988299</td><td>0.252741</td></tr><tr><th>9</th><td>0.920259</td><td>0.916218</td><td>0.250618</td><td>0.489701</td><td>0.99901</td><td>0.456845</td><td>0.604728</td><td>0.0454408</td></tr><tr><th>10</th><td>0.780548</td><td>0.429435</td><td>0.486449</td><td>0.256069</td><td>0.626564</td><td>0.31027</td><td>0.709269</td><td>0.859462</td></tr><tr><th>11</th><td>0.408882</td><td>0.446274</td><td>0.331988</td><td>0.968762</td><td>0.657606</td><td>0.0120766</td><td>0.574892</td><td>0.828861</td></tr><tr><th>12</th><td>0.329918</td><td>0.607678</td><td>0.1967</td><td>0.425477</td><td>0.809769</td><td>0.0513039</td><td>0.173219</td><td>0.045894</td></tr><tr><th>13</th><td>0.345238</td><td>0.449041</td><td>0.214293</td><td>0.603393</td><td>0.589541</td><td>0.0699625</td><td>0.0282041</td><td>0.441258</td></tr><tr><th>14</th><td>0.438405</td><td>0.909669</td><td>0.0924657</td><td>0.110398</td><td>0.642634</td><td>0.269078</td><td>0.615603</td><td>0.752947</td></tr><tr><th>15</th><td>0.151331</td><td>0.906427</td><td>0.437151</td><td>0.968249</td><td>0.094993</td><td>0.491309</td><td>0.9918</td><td>0.731256</td></tr><tr><th>16</th><td>0.605522</td><td>0.476904</td><td>0.325012</td><td>0.622905</td><td>0.623428</td><td>0.18874</td><td>0.996452</td><td>0.474583</td></tr><tr><th>17</th><td>0.311844</td><td>0.491361</td><td>0.703389</td><td>0.998481</td><td>0.351842</td><td>0.560007</td><td>0.805225</td><td>0.425584</td></tr><tr><th>18</th><td>0.0528771</td><td>0.8323</td><td>0.674774</td><td>0.10108</td><td>0.498168</td><td>0.818387</td><td>0.0766296</td><td>0.269035</td></tr><tr><th>19</th><td>0.410267</td><td>0.0103928</td><td>0.968724</td><td>0.573113</td><td>0.505967</td><td>0.888128</td><td>0.298392</td><td>0.426927</td></tr><tr><th>20</th><td>0.128958</td><td>0.0425673</td><td>0.0173113</td><td>0.347599</td><td>0.290382</td><td>0.51928</td><td>0.16491</td><td>0.808555</td></tr><tr><th>21</th><td>0.507312</td><td>0.582875</td><td>0.54063</td><td>0.126016</td><td>0.900677</td><td>0.740764</td><td>0.7193</td><td>0.346304</td></tr><tr><th>22</th><td>0.723493</td><td>0.775721</td><td>0.10096</td><td>0.43761</td><td>0.750042</td><td>0.133052</td><td>0.945899</td><td>0.991033</td></tr><tr><th>23</th><td>0.793767</td><td>0.888616</td><td>0.977639</td><td>0.86019</td><td>0.707074</td><td>0.0921907</td><td>0.59259</td><td>0.803392</td></tr><tr><th>24</th><td>0.493816</td><td>0.529322</td><td>0.551304</td><td>0.482943</td><td>0.705609</td><td>0.00711232</td><td>0.422672</td><td>0.47</td></tr><tr><th>25</th><td>0.665744</td><td>0.250946</td><td>0.576475</td><td>0.259196</td><td>0.0181016</td><td>0.377788</td><td>0.915638</td><td>0.502305</td></tr><tr><th>26</th><td>0.221874</td><td>0.821749</td><td>0.904538</td><td>0.719998</td><td>0.0957367</td><td>0.194327</td><td>0.67253</td><td>0.62758</td></tr><tr><th>27</th><td>0.691312</td><td>0.875249</td><td>0.492567</td><td>0.195189</td><td>0.645518</td><td>0.689334</td><td>0.367325</td><td>0.487109</td></tr><tr><th>28</th><td>0.621192</td><td>0.404946</td><td>0.274774</td><td>0.438901</td><td>0.818477</td><td>0.131015</td><td>0.514388</td><td>0.242613</td></tr><tr><th>29</th><td>0.172332</td><td>0.0297439</td><td>0.544273</td><td>0.21069</td><td>0.338003</td><td>0.198278</td><td>0.948925</td><td>0.42777</td></tr><tr><th>30</th><td>0.0195065</td><td>0.994071</td><td>0.0223587</td><td>0.140578</td><td>0.0459629</td><td>0.272426</td><td>0.15543</td><td>0.467076</td></tr><tr><th>&vellip;</th><td>&vellip;</td><td>&vellip;</td><td>&vellip;</td><td>&vellip;</td><td>&vellip;</td><td>&vellip;</td><td>&vellip;</td><td>&vellip;</td></tr></tbody></table>"
      ],
      "text/latex": [
       "\\begin{tabular}{r|ccccccccc}\n",
       "\t& x1 & x2 & x3 & x4 & x5 & x6 & x7 & x8 & \\\\\n",
       "\t\\hline\n",
       "\t& Float64 & Float64 & Float64 & Float64 & Float64 & Float64 & Float64 & Float64 & \\\\\n",
       "\t\\hline\n",
       "\t1 & 0.78421 & 0.632682 & 0.717387 & 0.114581 & 0.0527668 & 0.838625 & 0.586866 & 0.43078 & $\\dots$ \\\\\n",
       "\t2 & 0.76552 & 0.48835 & 0.378482 & 0.483952 & 0.513253 & 0.32416 & 0.327797 & 0.565872 & $\\dots$ \\\\\n",
       "\t3 & 0.887606 & 0.644904 & 0.0977502 & 0.149482 & 0.223725 & 0.498404 & 0.179926 & 0.904395 & $\\dots$ \\\\\n",
       "\t4 & 0.224705 & 0.794643 & 0.722068 & 0.964643 & 0.119267 & 0.589702 & 0.650384 & 0.057006 & $\\dots$ \\\\\n",
       "\t5 & 0.753703 & 0.763321 & 0.612657 & 0.291588 & 0.62151 & 0.499765 & 0.705866 & 0.108964 & $\\dots$ \\\\\n",
       "\t6 & 0.781352 & 0.902342 & 0.639493 & 0.0391614 & 0.187419 & 0.822137 & 0.821152 & 0.925857 & $\\dots$ \\\\\n",
       "\t7 & 0.254295 & 0.583424 & 0.334097 & 0.972415 & 0.374985 & 0.739663 & 0.501554 & 0.428565 & $\\dots$ \\\\\n",
       "\t8 & 0.411225 & 0.121568 & 0.0804997 & 0.129359 & 0.295333 & 0.203935 & 0.988299 & 0.252741 & $\\dots$ \\\\\n",
       "\t9 & 0.920259 & 0.916218 & 0.250618 & 0.489701 & 0.99901 & 0.456845 & 0.604728 & 0.0454408 & $\\dots$ \\\\\n",
       "\t10 & 0.780548 & 0.429435 & 0.486449 & 0.256069 & 0.626564 & 0.31027 & 0.709269 & 0.859462 & $\\dots$ \\\\\n",
       "\t11 & 0.408882 & 0.446274 & 0.331988 & 0.968762 & 0.657606 & 0.0120766 & 0.574892 & 0.828861 & $\\dots$ \\\\\n",
       "\t12 & 0.329918 & 0.607678 & 0.1967 & 0.425477 & 0.809769 & 0.0513039 & 0.173219 & 0.045894 & $\\dots$ \\\\\n",
       "\t13 & 0.345238 & 0.449041 & 0.214293 & 0.603393 & 0.589541 & 0.0699625 & 0.0282041 & 0.441258 & $\\dots$ \\\\\n",
       "\t14 & 0.438405 & 0.909669 & 0.0924657 & 0.110398 & 0.642634 & 0.269078 & 0.615603 & 0.752947 & $\\dots$ \\\\\n",
       "\t15 & 0.151331 & 0.906427 & 0.437151 & 0.968249 & 0.094993 & 0.491309 & 0.9918 & 0.731256 & $\\dots$ \\\\\n",
       "\t16 & 0.605522 & 0.476904 & 0.325012 & 0.622905 & 0.623428 & 0.18874 & 0.996452 & 0.474583 & $\\dots$ \\\\\n",
       "\t17 & 0.311844 & 0.491361 & 0.703389 & 0.998481 & 0.351842 & 0.560007 & 0.805225 & 0.425584 & $\\dots$ \\\\\n",
       "\t18 & 0.0528771 & 0.8323 & 0.674774 & 0.10108 & 0.498168 & 0.818387 & 0.0766296 & 0.269035 & $\\dots$ \\\\\n",
       "\t19 & 0.410267 & 0.0103928 & 0.968724 & 0.573113 & 0.505967 & 0.888128 & 0.298392 & 0.426927 & $\\dots$ \\\\\n",
       "\t20 & 0.128958 & 0.0425673 & 0.0173113 & 0.347599 & 0.290382 & 0.51928 & 0.16491 & 0.808555 & $\\dots$ \\\\\n",
       "\t21 & 0.507312 & 0.582875 & 0.54063 & 0.126016 & 0.900677 & 0.740764 & 0.7193 & 0.346304 & $\\dots$ \\\\\n",
       "\t22 & 0.723493 & 0.775721 & 0.10096 & 0.43761 & 0.750042 & 0.133052 & 0.945899 & 0.991033 & $\\dots$ \\\\\n",
       "\t23 & 0.793767 & 0.888616 & 0.977639 & 0.86019 & 0.707074 & 0.0921907 & 0.59259 & 0.803392 & $\\dots$ \\\\\n",
       "\t24 & 0.493816 & 0.529322 & 0.551304 & 0.482943 & 0.705609 & 0.00711232 & 0.422672 & 0.47 & $\\dots$ \\\\\n",
       "\t25 & 0.665744 & 0.250946 & 0.576475 & 0.259196 & 0.0181016 & 0.377788 & 0.915638 & 0.502305 & $\\dots$ \\\\\n",
       "\t26 & 0.221874 & 0.821749 & 0.904538 & 0.719998 & 0.0957367 & 0.194327 & 0.67253 & 0.62758 & $\\dots$ \\\\\n",
       "\t27 & 0.691312 & 0.875249 & 0.492567 & 0.195189 & 0.645518 & 0.689334 & 0.367325 & 0.487109 & $\\dots$ \\\\\n",
       "\t28 & 0.621192 & 0.404946 & 0.274774 & 0.438901 & 0.818477 & 0.131015 & 0.514388 & 0.242613 & $\\dots$ \\\\\n",
       "\t29 & 0.172332 & 0.0297439 & 0.544273 & 0.21069 & 0.338003 & 0.198278 & 0.948925 & 0.42777 & $\\dots$ \\\\\n",
       "\t30 & 0.0195065 & 0.994071 & 0.0223587 & 0.140578 & 0.0459629 & 0.272426 & 0.15543 & 0.467076 & $\\dots$ \\\\\n",
       "\t$\\dots$ & $\\dots$ & $\\dots$ & $\\dots$ & $\\dots$ & $\\dots$ & $\\dots$ & $\\dots$ & $\\dots$ &  \\\\\n",
       "\\end{tabular}\n"
      ],
      "text/plain": [
       "100×100 DataFrame. Omitted printing of 94 columns\n",
       "│ Row │ x1        │ x2        │ x3        │ x4        │ x5        │ x6       │\n",
       "│     │ \u001b[90mFloat64\u001b[39m   │ \u001b[90mFloat64\u001b[39m   │ \u001b[90mFloat64\u001b[39m   │ \u001b[90mFloat64\u001b[39m   │ \u001b[90mFloat64\u001b[39m   │ \u001b[90mFloat64\u001b[39m  │\n",
       "├─────┼───────────┼───────────┼───────────┼───────────┼───────────┼──────────┤\n",
       "│ 1   │ 0.78421   │ 0.632682  │ 0.717387  │ 0.114581  │ 0.0527668 │ 0.838625 │\n",
       "│ 2   │ 0.76552   │ 0.48835   │ 0.378482  │ 0.483952  │ 0.513253  │ 0.32416  │\n",
       "│ 3   │ 0.887606  │ 0.644904  │ 0.0977502 │ 0.149482  │ 0.223725  │ 0.498404 │\n",
       "│ 4   │ 0.224705  │ 0.794643  │ 0.722068  │ 0.964643  │ 0.119267  │ 0.589702 │\n",
       "│ 5   │ 0.753703  │ 0.763321  │ 0.612657  │ 0.291588  │ 0.62151   │ 0.499765 │\n",
       "│ 6   │ 0.781352  │ 0.902342  │ 0.639493  │ 0.0391614 │ 0.187419  │ 0.822137 │\n",
       "│ 7   │ 0.254295  │ 0.583424  │ 0.334097  │ 0.972415  │ 0.374985  │ 0.739663 │\n",
       "│ 8   │ 0.411225  │ 0.121568  │ 0.0804997 │ 0.129359  │ 0.295333  │ 0.203935 │\n",
       "│ 9   │ 0.920259  │ 0.916218  │ 0.250618  │ 0.489701  │ 0.99901   │ 0.456845 │\n",
       "│ 10  │ 0.780548  │ 0.429435  │ 0.486449  │ 0.256069  │ 0.626564  │ 0.31027  │\n",
       "⋮\n",
       "│ 90  │ 0.270315  │ 0.364765  │ 0.105813  │ 0.472624  │ 0.301921  │ 0.950532 │\n",
       "│ 91  │ 0.680324  │ 0.685029  │ 0.137038  │ 0.455252  │ 0.602804  │ 0.398624 │\n",
       "│ 92  │ 0.333489  │ 0.0572853 │ 0.365161  │ 0.578682  │ 0.608641  │ 0.562974 │\n",
       "│ 93  │ 0.45188   │ 0.0268586 │ 0.983301  │ 0.69412   │ 0.184738  │ 0.12655  │\n",
       "│ 94  │ 0.868266  │ 0.963363  │ 0.0280508 │ 0.607139  │ 0.162594  │ 0.338451 │\n",
       "│ 95  │ 0.495386  │ 0.780137  │ 0.390436  │ 0.784354  │ 0.246144  │ 0.572704 │\n",
       "│ 96  │ 0.0252927 │ 0.842355  │ 0.866907  │ 0.992361  │ 0.616593  │ 0.612157 │\n",
       "│ 97  │ 0.970255  │ 0.315452  │ 0.0423982 │ 0.419915  │ 0.833654  │ 0.384566 │\n",
       "│ 98  │ 0.568524  │ 0.284299  │ 0.31706   │ 0.75477   │ 0.498394  │ 0.895474 │\n",
       "│ 99  │ 0.285478  │ 0.430731  │ 0.633627  │ 0.919132  │ 0.54338   │ 0.474834 │\n",
       "│ 100 │ 0.0412678 │ 0.111745  │ 0.58743   │ 0.689185  │ 0.521307  │ 0.867407 │"
      ]
     },
     "execution_count": 15,
     "metadata": {},
     "output_type": "execute_result"
    }
   ],
   "source": [
    "df = DataFrame(rand(100, 100))"
   ]
  },
  {
   "cell_type": "markdown",
   "metadata": {},
   "source": [
    "we can see that 92 of its columns were not printed. Also we get its first 30 rows. You can easily change this behavior by changing the value of `ENV[\"LINES\"]` and `ENV[\"COLUMNS\"]`."
   ]
  },
  {
   "cell_type": "code",
   "execution_count": 16,
   "metadata": {},
   "outputs": [
    {
     "data": {
      "text/plain": [
       "10"
      ]
     },
     "execution_count": 16,
     "metadata": {},
     "output_type": "execute_result"
    }
   ],
   "source": [
    "ENV[\"LINES\"] = 10"
   ]
  },
  {
   "cell_type": "code",
   "execution_count": 17,
   "metadata": {},
   "outputs": [
    {
     "data": {
      "text/plain": [
       "200"
      ]
     },
     "execution_count": 17,
     "metadata": {},
     "output_type": "execute_result"
    }
   ],
   "source": [
    "ENV[\"COLUMNS\"] = 200"
   ]
  },
  {
   "cell_type": "code",
   "execution_count": 18,
   "metadata": {},
   "outputs": [
    {
     "data": {
      "text/html": [
       "<table class=\"data-frame\"><thead><tr><th></th><th>x1</th><th>x2</th><th>x3</th><th>x4</th><th>x5</th><th>x6</th><th>x7</th><th>x8</th><th>x9</th><th>x10</th><th>x11</th><th>x12</th><th>x13</th><th>x14</th><th>x15</th><th>x16</th><th>x17</th><th>x18</th><th>x19</th></tr><tr><th></th><th>Float64</th><th>Float64</th><th>Float64</th><th>Float64</th><th>Float64</th><th>Float64</th><th>Float64</th><th>Float64</th><th>Float64</th><th>Float64</th><th>Float64</th><th>Float64</th><th>Float64</th><th>Float64</th><th>Float64</th><th>Float64</th><th>Float64</th><th>Float64</th><th>Float64</th></tr></thead><tbody><p>100 rows × 100 columns (omitted printing of 81 columns)</p><tr><th>1</th><td>0.78421</td><td>0.632682</td><td>0.717387</td><td>0.114581</td><td>0.0527668</td><td>0.838625</td><td>0.586866</td><td>0.43078</td><td>0.464678</td><td>0.893563</td><td>0.401211</td><td>0.396356</td><td>0.611418</td><td>0.453025</td><td>0.679236</td><td>0.439772</td><td>0.907162</td><td>0.745251</td><td>0.82576</td></tr><tr><th>2</th><td>0.76552</td><td>0.48835</td><td>0.378482</td><td>0.483952</td><td>0.513253</td><td>0.32416</td><td>0.327797</td><td>0.565872</td><td>0.465197</td><td>0.792672</td><td>0.892776</td><td>0.934555</td><td>0.968703</td><td>0.322439</td><td>0.445629</td><td>0.958035</td><td>0.529923</td><td>0.520289</td><td>0.791401</td></tr><tr><th>3</th><td>0.887606</td><td>0.644904</td><td>0.0977502</td><td>0.149482</td><td>0.223725</td><td>0.498404</td><td>0.179926</td><td>0.904395</td><td>0.695331</td><td>0.818037</td><td>0.164099</td><td>0.22953</td><td>0.633211</td><td>0.899343</td><td>0.817648</td><td>0.459941</td><td>0.371385</td><td>0.53241</td><td>0.517085</td></tr><tr><th>4</th><td>0.224705</td><td>0.794643</td><td>0.722068</td><td>0.964643</td><td>0.119267</td><td>0.589702</td><td>0.650384</td><td>0.057006</td><td>0.780412</td><td>0.516881</td><td>0.811718</td><td>0.742405</td><td>0.953653</td><td>0.0245915</td><td>0.711977</td><td>0.00274542</td><td>0.584805</td><td>0.235295</td><td>0.61247</td></tr><tr><th>5</th><td>0.753703</td><td>0.763321</td><td>0.612657</td><td>0.291588</td><td>0.62151</td><td>0.499765</td><td>0.705866</td><td>0.108964</td><td>0.950511</td><td>0.264285</td><td>0.426226</td><td>0.162441</td><td>0.466255</td><td>0.832862</td><td>0.252411</td><td>0.85291</td><td>0.886041</td><td>0.794545</td><td>0.129267</td></tr><tr><th>6</th><td>0.781352</td><td>0.902342</td><td>0.639493</td><td>0.0391614</td><td>0.187419</td><td>0.822137</td><td>0.821152</td><td>0.925857</td><td>0.703031</td><td>0.920979</td><td>0.563051</td><td>0.0284439</td><td>0.356737</td><td>0.506513</td><td>0.630543</td><td>0.103031</td><td>0.438346</td><td>0.414213</td><td>0.852658</td></tr><tr><th>7</th><td>0.254295</td><td>0.583424</td><td>0.334097</td><td>0.972415</td><td>0.374985</td><td>0.739663</td><td>0.501554</td><td>0.428565</td><td>0.308771</td><td>0.454022</td><td>0.305895</td><td>0.8881</td><td>0.373925</td><td>0.736172</td><td>0.34105</td><td>0.412045</td><td>0.416606</td><td>0.554392</td><td>0.948777</td></tr><tr><th>8</th><td>0.411225</td><td>0.121568</td><td>0.0804997</td><td>0.129359</td><td>0.295333</td><td>0.203935</td><td>0.988299</td><td>0.252741</td><td>0.826215</td><td>0.813836</td><td>0.240699</td><td>0.0727684</td><td>0.0432211</td><td>0.235843</td><td>0.975927</td><td>0.817867</td><td>0.959214</td><td>0.328505</td><td>0.108311</td></tr><tr><th>9</th><td>0.920259</td><td>0.916218</td><td>0.250618</td><td>0.489701</td><td>0.99901</td><td>0.456845</td><td>0.604728</td><td>0.0454408</td><td>0.904758</td><td>0.0835009</td><td>0.784217</td><td>0.960441</td><td>0.886849</td><td>0.289049</td><td>0.000246728</td><td>0.328499</td><td>0.591128</td><td>0.0917397</td><td>0.453637</td></tr><tr><th>10</th><td>0.780548</td><td>0.429435</td><td>0.486449</td><td>0.256069</td><td>0.626564</td><td>0.31027</td><td>0.709269</td><td>0.859462</td><td>0.981628</td><td>0.606973</td><td>0.824016</td><td>0.950194</td><td>0.560552</td><td>0.0101158</td><td>0.80106</td><td>0.0696165</td><td>0.483464</td><td>0.807616</td><td>0.901232</td></tr><tr><th>&vellip;</th><td>&vellip;</td><td>&vellip;</td><td>&vellip;</td><td>&vellip;</td><td>&vellip;</td><td>&vellip;</td><td>&vellip;</td><td>&vellip;</td><td>&vellip;</td><td>&vellip;</td><td>&vellip;</td><td>&vellip;</td><td>&vellip;</td><td>&vellip;</td><td>&vellip;</td><td>&vellip;</td><td>&vellip;</td><td>&vellip;</td><td>&vellip;</td></tr></tbody></table>"
      ],
      "text/latex": [
       "\\begin{tabular}{r|cccccccccccccccccccc}\n",
       "\t& x1 & x2 & x3 & x4 & x5 & x6 & x7 & x8 & x9 & x10 & x11 & x12 & x13 & x14 & x15 & x16 & x17 & x18 & x19 & \\\\\n",
       "\t\\hline\n",
       "\t& Float64 & Float64 & Float64 & Float64 & Float64 & Float64 & Float64 & Float64 & Float64 & Float64 & Float64 & Float64 & Float64 & Float64 & Float64 & Float64 & Float64 & Float64 & Float64 & \\\\\n",
       "\t\\hline\n",
       "\t1 & 0.78421 & 0.632682 & 0.717387 & 0.114581 & 0.0527668 & 0.838625 & 0.586866 & 0.43078 & 0.464678 & 0.893563 & 0.401211 & 0.396356 & 0.611418 & 0.453025 & 0.679236 & 0.439772 & 0.907162 & 0.745251 & 0.82576 & $\\dots$ \\\\\n",
       "\t2 & 0.76552 & 0.48835 & 0.378482 & 0.483952 & 0.513253 & 0.32416 & 0.327797 & 0.565872 & 0.465197 & 0.792672 & 0.892776 & 0.934555 & 0.968703 & 0.322439 & 0.445629 & 0.958035 & 0.529923 & 0.520289 & 0.791401 & $\\dots$ \\\\\n",
       "\t3 & 0.887606 & 0.644904 & 0.0977502 & 0.149482 & 0.223725 & 0.498404 & 0.179926 & 0.904395 & 0.695331 & 0.818037 & 0.164099 & 0.22953 & 0.633211 & 0.899343 & 0.817648 & 0.459941 & 0.371385 & 0.53241 & 0.517085 & $\\dots$ \\\\\n",
       "\t4 & 0.224705 & 0.794643 & 0.722068 & 0.964643 & 0.119267 & 0.589702 & 0.650384 & 0.057006 & 0.780412 & 0.516881 & 0.811718 & 0.742405 & 0.953653 & 0.0245915 & 0.711977 & 0.00274542 & 0.584805 & 0.235295 & 0.61247 & $\\dots$ \\\\\n",
       "\t5 & 0.753703 & 0.763321 & 0.612657 & 0.291588 & 0.62151 & 0.499765 & 0.705866 & 0.108964 & 0.950511 & 0.264285 & 0.426226 & 0.162441 & 0.466255 & 0.832862 & 0.252411 & 0.85291 & 0.886041 & 0.794545 & 0.129267 & $\\dots$ \\\\\n",
       "\t6 & 0.781352 & 0.902342 & 0.639493 & 0.0391614 & 0.187419 & 0.822137 & 0.821152 & 0.925857 & 0.703031 & 0.920979 & 0.563051 & 0.0284439 & 0.356737 & 0.506513 & 0.630543 & 0.103031 & 0.438346 & 0.414213 & 0.852658 & $\\dots$ \\\\\n",
       "\t7 & 0.254295 & 0.583424 & 0.334097 & 0.972415 & 0.374985 & 0.739663 & 0.501554 & 0.428565 & 0.308771 & 0.454022 & 0.305895 & 0.8881 & 0.373925 & 0.736172 & 0.34105 & 0.412045 & 0.416606 & 0.554392 & 0.948777 & $\\dots$ \\\\\n",
       "\t8 & 0.411225 & 0.121568 & 0.0804997 & 0.129359 & 0.295333 & 0.203935 & 0.988299 & 0.252741 & 0.826215 & 0.813836 & 0.240699 & 0.0727684 & 0.0432211 & 0.235843 & 0.975927 & 0.817867 & 0.959214 & 0.328505 & 0.108311 & $\\dots$ \\\\\n",
       "\t9 & 0.920259 & 0.916218 & 0.250618 & 0.489701 & 0.99901 & 0.456845 & 0.604728 & 0.0454408 & 0.904758 & 0.0835009 & 0.784217 & 0.960441 & 0.886849 & 0.289049 & 0.000246728 & 0.328499 & 0.591128 & 0.0917397 & 0.453637 & $\\dots$ \\\\\n",
       "\t10 & 0.780548 & 0.429435 & 0.486449 & 0.256069 & 0.626564 & 0.31027 & 0.709269 & 0.859462 & 0.981628 & 0.606973 & 0.824016 & 0.950194 & 0.560552 & 0.0101158 & 0.80106 & 0.0696165 & 0.483464 & 0.807616 & 0.901232 & $\\dots$ \\\\\n",
       "\t$\\dots$ & $\\dots$ & $\\dots$ & $\\dots$ & $\\dots$ & $\\dots$ & $\\dots$ & $\\dots$ & $\\dots$ & $\\dots$ & $\\dots$ & $\\dots$ & $\\dots$ & $\\dots$ & $\\dots$ & $\\dots$ & $\\dots$ & $\\dots$ & $\\dots$ & $\\dots$ &  \\\\\n",
       "\\end{tabular}\n"
      ],
      "text/plain": [
       "100×100 DataFrame\n"
      ]
     },
     "execution_count": 18,
     "metadata": {},
     "output_type": "execute_result"
    }
   ],
   "source": [
    "df"
   ]
  },
  {
   "cell_type": "markdown",
   "metadata": {},
   "source": [
    "### Most elementary get and set operations\n",
    "\n",
    "Given the `DataFrame` `x` we have created earlies, here are following ways to grab one of its columns as a `Vector`."
   ]
  },
  {
   "cell_type": "code",
   "execution_count": 19,
   "metadata": {},
   "outputs": [
    {
     "data": {
      "text/html": [
       "<table class=\"data-frame\"><thead><tr><th></th><th>A</th><th>B</th><th>C</th></tr><tr><th></th><th>Int64</th><th>Float64?</th><th>String</th></tr></thead><tbody><p>2 rows × 3 columns</p><tr><th>1</th><td>1</td><td>1.0</td><td>a</td></tr><tr><th>2</th><td>2</td><td><em>missing</em></td><td>b</td></tr></tbody></table>"
      ],
      "text/latex": [
       "\\begin{tabular}{r|ccc}\n",
       "\t& A & B & C\\\\\n",
       "\t\\hline\n",
       "\t& Int64 & Float64? & String\\\\\n",
       "\t\\hline\n",
       "\t1 & 1 & 1.0 & a \\\\\n",
       "\t2 & 2 & \\emph{missing} & b \\\\\n",
       "\\end{tabular}\n"
      ],
      "text/plain": [
       "2×3 DataFrame\n",
       "│ Row │ A     │ B        │ C      │\n",
       "│     │ \u001b[90mInt64\u001b[39m │ \u001b[90mFloat64?\u001b[39m │ \u001b[90mString\u001b[39m │\n",
       "├─────┼───────┼──────────┼────────┤\n",
       "│ 1   │ 1     │ 1.0      │ a      │\n",
       "│ 2   │ 2     │ \u001b[90mmissing\u001b[39m  │ b      │"
      ]
     },
     "execution_count": 19,
     "metadata": {},
     "output_type": "execute_result"
    }
   ],
   "source": [
    "x"
   ]
  },
  {
   "cell_type": "code",
   "execution_count": 20,
   "metadata": {},
   "outputs": [
    {
     "data": {
      "text/plain": [
       "([1, 2], [1, 2], [1, 2])"
      ]
     },
     "execution_count": 20,
     "metadata": {},
     "output_type": "execute_result"
    }
   ],
   "source": [
    "x.A, x[!, 1], x[!, :A] # all get the vector stored in our DataFrame without copying it"
   ]
  },
  {
   "cell_type": "code",
   "execution_count": 21,
   "metadata": {},
   "outputs": [
    {
     "data": {
      "text/plain": [
       "([1, 2], [1, 2])"
      ]
     },
     "execution_count": 21,
     "metadata": {},
     "output_type": "execute_result"
    }
   ],
   "source": [
    "x.\"A\", x[!, \"A\"] # the same using string indexing"
   ]
  },
  {
   "cell_type": "code",
   "execution_count": 22,
   "metadata": {},
   "outputs": [
    {
     "data": {
      "text/plain": [
       "2-element Array{Int64,1}:\n",
       " 1\n",
       " 2"
      ]
     },
     "execution_count": 22,
     "metadata": {},
     "output_type": "execute_result"
    }
   ],
   "source": [
    "x[:, 1] # note that this creates a copy"
   ]
  },
  {
   "cell_type": "code",
   "execution_count": 23,
   "metadata": {},
   "outputs": [
    {
     "data": {
      "text/plain": [
       "false"
      ]
     },
     "execution_count": 23,
     "metadata": {},
     "output_type": "execute_result"
    }
   ],
   "source": [
    "x[:, 1] === x[:, 1]"
   ]
  },
  {
   "cell_type": "markdown",
   "metadata": {},
   "source": [
    "To grab one row as a `DataFrame`, we can index as follows."
   ]
  },
  {
   "cell_type": "code",
   "execution_count": 24,
   "metadata": {},
   "outputs": [
    {
     "data": {
      "text/html": [
       "<table class=\"data-frame\"><thead><tr><th></th><th>A</th><th>B</th><th>C</th></tr><tr><th></th><th>Int64</th><th>Float64?</th><th>String</th></tr></thead><tbody><p>1 rows × 3 columns</p><tr><th>1</th><td>1</td><td>1.0</td><td>a</td></tr></tbody></table>"
      ],
      "text/latex": [
       "\\begin{tabular}{r|ccc}\n",
       "\t& A & B & C\\\\\n",
       "\t\\hline\n",
       "\t& Int64 & Float64? & String\\\\\n",
       "\t\\hline\n",
       "\t1 & 1 & 1.0 & a \\\\\n",
       "\\end{tabular}\n"
      ],
      "text/plain": [
       "1×3 DataFrame\n",
       "│ Row │ A     │ B        │ C      │\n",
       "│     │ \u001b[90mInt64\u001b[39m │ \u001b[90mFloat64?\u001b[39m │ \u001b[90mString\u001b[39m │\n",
       "├─────┼───────┼──────────┼────────┤\n",
       "│ 1   │ 1     │ 1.0      │ a      │"
      ]
     },
     "execution_count": 24,
     "metadata": {},
     "output_type": "execute_result"
    }
   ],
   "source": [
    "x[1:1, :]"
   ]
  },
  {
   "cell_type": "code",
   "execution_count": 25,
   "metadata": {},
   "outputs": [
    {
     "data": {
      "text/html": [
       "<p>DataFrameRow (3 columns)</p><table class=\"data-frame\"><thead><tr><th></th><th>A</th><th>B</th><th>C</th></tr><tr><th></th><th>Int64</th><th>Float64?</th><th>String</th></tr></thead><tbody><tr><th>1</th><td>1</td><td>1.0</td><td>a</td></tr></tbody></table>"
      ],
      "text/latex": [
       "\\begin{tabular}{r|ccc}\n",
       "\t& A & B & C\\\\\n",
       "\t\\hline\n",
       "\t& Int64 & Float64? & String\\\\\n",
       "\t\\hline\n",
       "\t1 & 1 & 1.0 & a \\\\\n",
       "\\end{tabular}\n"
      ],
      "text/plain": [
       "DataFrameRow\n",
       "│ Row │ A     │ B        │ C      │\n",
       "│     │ \u001b[90mInt64\u001b[39m │ \u001b[90mFloat64?\u001b[39m │ \u001b[90mString\u001b[39m │\n",
       "├─────┼───────┼──────────┼────────┤\n",
       "│ 1   │ 1     │ 1.0      │ a      │"
      ]
     },
     "execution_count": 25,
     "metadata": {},
     "output_type": "execute_result"
    }
   ],
   "source": [
    "x[1, :] # this produces a DataFrameRow which is treated as 1-dimensional object similar to a NamedTuple"
   ]
  },
  {
   "cell_type": "markdown",
   "metadata": {},
   "source": [
    "We can grab a single cell or element with the same syntax to grab an element of an array."
   ]
  },
  {
   "cell_type": "code",
   "execution_count": 26,
   "metadata": {},
   "outputs": [
    {
     "data": {
      "text/plain": [
       "1"
      ]
     },
     "execution_count": 26,
     "metadata": {},
     "output_type": "execute_result"
    }
   ],
   "source": [
    "x[1, 1]"
   ]
  },
  {
   "cell_type": "markdown",
   "metadata": {},
   "source": [
    "or a new `DataFrame` that is a subset of rows and columns"
   ]
  },
  {
   "cell_type": "code",
   "execution_count": 27,
   "metadata": {},
   "outputs": [
    {
     "data": {
      "text/html": [
       "<table class=\"data-frame\"><thead><tr><th></th><th>A</th><th>B</th></tr><tr><th></th><th>Int64</th><th>Float64?</th></tr></thead><tbody><p>2 rows × 2 columns</p><tr><th>1</th><td>1</td><td>1.0</td></tr><tr><th>2</th><td>2</td><td><em>missing</em></td></tr></tbody></table>"
      ],
      "text/latex": [
       "\\begin{tabular}{r|cc}\n",
       "\t& A & B\\\\\n",
       "\t\\hline\n",
       "\t& Int64 & Float64?\\\\\n",
       "\t\\hline\n",
       "\t1 & 1 & 1.0 \\\\\n",
       "\t2 & 2 & \\emph{missing} \\\\\n",
       "\\end{tabular}\n"
      ],
      "text/plain": [
       "2×2 DataFrame\n",
       "│ Row │ A     │ B        │\n",
       "│     │ \u001b[90mInt64\u001b[39m │ \u001b[90mFloat64?\u001b[39m │\n",
       "├─────┼───────┼──────────┤\n",
       "│ 1   │ 1     │ 1.0      │\n",
       "│ 2   │ 2     │ \u001b[90mmissing\u001b[39m  │"
      ]
     },
     "execution_count": 27,
     "metadata": {},
     "output_type": "execute_result"
    }
   ],
   "source": [
    "x[1:2, 1:2]"
   ]
  },
  {
   "cell_type": "markdown",
   "metadata": {},
   "source": [
    "You can also use `Regex` to select columns and `Not` from InvertedIndices.jl both to select rows and columns"
   ]
  },
  {
   "cell_type": "code",
   "execution_count": 28,
   "metadata": {},
   "outputs": [
    {
     "data": {
      "text/html": [
       "<table class=\"data-frame\"><thead><tr><th></th><th>A</th></tr><tr><th></th><th>Int64</th></tr></thead><tbody><p>1 rows × 1 columns</p><tr><th>1</th><td>2</td></tr></tbody></table>"
      ],
      "text/latex": [
       "\\begin{tabular}{r|c}\n",
       "\t& A\\\\\n",
       "\t\\hline\n",
       "\t& Int64\\\\\n",
       "\t\\hline\n",
       "\t1 & 2 \\\\\n",
       "\\end{tabular}\n"
      ],
      "text/plain": [
       "1×1 DataFrame\n",
       "│ Row │ A     │\n",
       "│     │ \u001b[90mInt64\u001b[39m │\n",
       "├─────┼───────┤\n",
       "│ 1   │ 2     │"
      ]
     },
     "execution_count": 28,
     "metadata": {},
     "output_type": "execute_result"
    }
   ],
   "source": [
    "x[Not(1), r\"A\"]"
   ]
  },
  {
   "cell_type": "code",
   "execution_count": 29,
   "metadata": {},
   "outputs": [
    {
     "data": {
      "text/html": [
       "<table class=\"data-frame\"><thead><tr><th></th><th>B</th><th>C</th></tr><tr><th></th><th>Float64?</th><th>String</th></tr></thead><tbody><p>2 rows × 2 columns</p><tr><th>1</th><td>1.0</td><td>a</td></tr><tr><th>2</th><td><em>missing</em></td><td>b</td></tr></tbody></table>"
      ],
      "text/latex": [
       "\\begin{tabular}{r|cc}\n",
       "\t& B & C\\\\\n",
       "\t\\hline\n",
       "\t& Float64? & String\\\\\n",
       "\t\\hline\n",
       "\t1 & 1.0 & a \\\\\n",
       "\t2 & \\emph{missing} & b \\\\\n",
       "\\end{tabular}\n"
      ],
      "text/plain": [
       "2×2 DataFrame\n",
       "│ Row │ B        │ C      │\n",
       "│     │ \u001b[90mFloat64?\u001b[39m │ \u001b[90mString\u001b[39m │\n",
       "├─────┼──────────┼────────┤\n",
       "│ 1   │ 1.0      │ a      │\n",
       "│ 2   │ \u001b[90mmissing\u001b[39m  │ b      │"
      ]
     },
     "execution_count": 29,
     "metadata": {},
     "output_type": "execute_result"
    }
   ],
   "source": [
    "x[!, Not(1)] # ! indicates that underlying columns are not copied"
   ]
  },
  {
   "cell_type": "code",
   "execution_count": 30,
   "metadata": {},
   "outputs": [
    {
     "data": {
      "text/html": [
       "<table class=\"data-frame\"><thead><tr><th></th><th>B</th><th>C</th></tr><tr><th></th><th>Float64?</th><th>String</th></tr></thead><tbody><p>2 rows × 2 columns</p><tr><th>1</th><td>1.0</td><td>a</td></tr><tr><th>2</th><td><em>missing</em></td><td>b</td></tr></tbody></table>"
      ],
      "text/latex": [
       "\\begin{tabular}{r|cc}\n",
       "\t& B & C\\\\\n",
       "\t\\hline\n",
       "\t& Float64? & String\\\\\n",
       "\t\\hline\n",
       "\t1 & 1.0 & a \\\\\n",
       "\t2 & \\emph{missing} & b \\\\\n",
       "\\end{tabular}\n"
      ],
      "text/plain": [
       "2×2 DataFrame\n",
       "│ Row │ B        │ C      │\n",
       "│     │ \u001b[90mFloat64?\u001b[39m │ \u001b[90mString\u001b[39m │\n",
       "├─────┼──────────┼────────┤\n",
       "│ 1   │ 1.0      │ a      │\n",
       "│ 2   │ \u001b[90mmissing\u001b[39m  │ b      │"
      ]
     },
     "execution_count": 30,
     "metadata": {},
     "output_type": "execute_result"
    }
   ],
   "source": [
    "x[:, Not(1)] # : means that the columns will get copied"
   ]
  },
  {
   "cell_type": "markdown",
   "metadata": {},
   "source": [
    "Assignment of a scalar to a data frame can be done in ranges using broadcasting:"
   ]
  },
  {
   "cell_type": "code",
   "execution_count": 31,
   "metadata": {},
   "outputs": [
    {
     "data": {
      "text/html": [
       "<table class=\"data-frame\"><thead><tr><th></th><th>A</th><th>B</th><th>C</th></tr><tr><th></th><th>Int64</th><th>Float64?</th><th>String</th></tr></thead><tbody><p>2 rows × 3 columns</p><tr><th>1</th><td>1</td><td>1.0</td><td>a</td></tr><tr><th>2</th><td>1</td><td>1.0</td><td>b</td></tr></tbody></table>"
      ],
      "text/latex": [
       "\\begin{tabular}{r|ccc}\n",
       "\t& A & B & C\\\\\n",
       "\t\\hline\n",
       "\t& Int64 & Float64? & String\\\\\n",
       "\t\\hline\n",
       "\t1 & 1 & 1.0 & a \\\\\n",
       "\t2 & 1 & 1.0 & b \\\\\n",
       "\\end{tabular}\n"
      ],
      "text/plain": [
       "2×3 DataFrame\n",
       "│ Row │ A     │ B        │ C      │\n",
       "│     │ \u001b[90mInt64\u001b[39m │ \u001b[90mFloat64?\u001b[39m │ \u001b[90mString\u001b[39m │\n",
       "├─────┼───────┼──────────┼────────┤\n",
       "│ 1   │ 1     │ 1.0      │ a      │\n",
       "│ 2   │ 1     │ 1.0      │ b      │"
      ]
     },
     "execution_count": 31,
     "metadata": {},
     "output_type": "execute_result"
    }
   ],
   "source": [
    "x[1:2, 1:2] .= 1\n",
    "x"
   ]
  },
  {
   "cell_type": "markdown",
   "metadata": {},
   "source": [
    "Assignment of a vector of length equal to the number of assigned rows using broadcasting"
   ]
  },
  {
   "cell_type": "code",
   "execution_count": 32,
   "metadata": {},
   "outputs": [
    {
     "data": {
      "text/html": [
       "<table class=\"data-frame\"><thead><tr><th></th><th>A</th><th>B</th><th>C</th></tr><tr><th></th><th>Int64</th><th>Float64?</th><th>String</th></tr></thead><tbody><p>2 rows × 3 columns</p><tr><th>1</th><td>1</td><td>1.0</td><td>a</td></tr><tr><th>2</th><td>2</td><td>2.0</td><td>b</td></tr></tbody></table>"
      ],
      "text/latex": [
       "\\begin{tabular}{r|ccc}\n",
       "\t& A & B & C\\\\\n",
       "\t\\hline\n",
       "\t& Int64 & Float64? & String\\\\\n",
       "\t\\hline\n",
       "\t1 & 1 & 1.0 & a \\\\\n",
       "\t2 & 2 & 2.0 & b \\\\\n",
       "\\end{tabular}\n"
      ],
      "text/plain": [
       "2×3 DataFrame\n",
       "│ Row │ A     │ B        │ C      │\n",
       "│     │ \u001b[90mInt64\u001b[39m │ \u001b[90mFloat64?\u001b[39m │ \u001b[90mString\u001b[39m │\n",
       "├─────┼───────┼──────────┼────────┤\n",
       "│ 1   │ 1     │ 1.0      │ a      │\n",
       "│ 2   │ 2     │ 2.0      │ b      │"
      ]
     },
     "execution_count": 32,
     "metadata": {},
     "output_type": "execute_result"
    }
   ],
   "source": [
    "x[1:2, 1:2] .= [1,2]\n",
    "x"
   ]
  },
  {
   "cell_type": "markdown",
   "metadata": {},
   "source": [
    "Assignment or of another data frame of matching size and column names, again using broadcasting:"
   ]
  },
  {
   "cell_type": "code",
   "execution_count": 33,
   "metadata": {},
   "outputs": [
    {
     "data": {
      "text/html": [
       "<table class=\"data-frame\"><thead><tr><th></th><th>A</th><th>B</th><th>C</th></tr><tr><th></th><th>Int64</th><th>Float64?</th><th>String</th></tr></thead><tbody><p>2 rows × 3 columns</p><tr><th>1</th><td>5</td><td>6.0</td><td>a</td></tr><tr><th>2</th><td>7</td><td>8.0</td><td>b</td></tr></tbody></table>"
      ],
      "text/latex": [
       "\\begin{tabular}{r|ccc}\n",
       "\t& A & B & C\\\\\n",
       "\t\\hline\n",
       "\t& Int64 & Float64? & String\\\\\n",
       "\t\\hline\n",
       "\t1 & 5 & 6.0 & a \\\\\n",
       "\t2 & 7 & 8.0 & b \\\\\n",
       "\\end{tabular}\n"
      ],
      "text/plain": [
       "2×3 DataFrame\n",
       "│ Row │ A     │ B        │ C      │\n",
       "│     │ \u001b[90mInt64\u001b[39m │ \u001b[90mFloat64?\u001b[39m │ \u001b[90mString\u001b[39m │\n",
       "├─────┼───────┼──────────┼────────┤\n",
       "│ 1   │ 5     │ 6.0      │ a      │\n",
       "│ 2   │ 7     │ 8.0      │ b      │"
      ]
     },
     "execution_count": 33,
     "metadata": {},
     "output_type": "execute_result"
    }
   ],
   "source": [
    "x[1:2, 1:2] .= DataFrame([5 6; 7 8], [:A, :B])\n",
    "x"
   ]
  },
  {
   "cell_type": "markdown",
   "metadata": {},
   "source": [
    "**Caution**\n",
    "\n",
    "With `df[!, :col]` and `df.col` syntax you get a direct (non copying) access to a column of a data frame.\n",
    "This is potentially unsafe as you can easily corrupt data in the `df` data frame if you resize, sort, etc. the column obtained in this way.\n",
    "Therefore such access should be used with caution.\n",
    "\n",
    "Similarly `df[!, cols]` when `cols` is a collection of columns produces a new data frame that holds the same (not copied) columns as the source `df` data frame. Similarly, modifying the data frame obtained via `df[!, cols]` might cause problems with the consistency of `df`.\n",
    "\n",
    "The `df[:, :col]` and `df[:, cols]` syntaxes always copy columns so they are safe to use (and should generally be preferred except for performance or memory critical use cases)."
   ]
  },
  {
   "cell_type": "markdown",
   "metadata": {},
   "source": [
    "Here are examples how `All` and `Between` can be used to select columns of a data frame."
   ]
  },
  {
   "cell_type": "code",
   "execution_count": 34,
   "metadata": {},
   "outputs": [
    {
     "data": {
      "text/html": [
       "<table class=\"data-frame\"><thead><tr><th></th><th>x1</th><th>x2</th><th>x3</th><th>x4</th><th>x5</th></tr><tr><th></th><th>Float64</th><th>Float64</th><th>Float64</th><th>Float64</th><th>Float64</th></tr></thead><tbody><p>4 rows × 5 columns</p><tr><th>1</th><td>0.9304</td><td>0.175895</td><td>0.773552</td><td>0.369851</td><td>0.2446</td></tr><tr><th>2</th><td>0.0523155</td><td>0.0234722</td><td>0.590701</td><td>0.930948</td><td>0.101109</td></tr><tr><th>3</th><td>0.472186</td><td>0.492733</td><td>0.583881</td><td>0.189044</td><td>0.452569</td></tr><tr><th>4</th><td>0.295229</td><td>0.793781</td><td>0.0980745</td><td>0.556772</td><td>0.298303</td></tr></tbody></table>"
      ],
      "text/latex": [
       "\\begin{tabular}{r|ccccc}\n",
       "\t& x1 & x2 & x3 & x4 & x5\\\\\n",
       "\t\\hline\n",
       "\t& Float64 & Float64 & Float64 & Float64 & Float64\\\\\n",
       "\t\\hline\n",
       "\t1 & 0.9304 & 0.175895 & 0.773552 & 0.369851 & 0.2446 \\\\\n",
       "\t2 & 0.0523155 & 0.0234722 & 0.590701 & 0.930948 & 0.101109 \\\\\n",
       "\t3 & 0.472186 & 0.492733 & 0.583881 & 0.189044 & 0.452569 \\\\\n",
       "\t4 & 0.295229 & 0.793781 & 0.0980745 & 0.556772 & 0.298303 \\\\\n",
       "\\end{tabular}\n"
      ],
      "text/plain": [
       "4×5 DataFrame\n"
      ]
     },
     "execution_count": 34,
     "metadata": {},
     "output_type": "execute_result"
    }
   ],
   "source": [
    "x = DataFrame(rand(4, 5))"
   ]
  },
  {
   "cell_type": "code",
   "execution_count": 35,
   "metadata": {},
   "outputs": [
    {
     "data": {
      "text/html": [
       "<table class=\"data-frame\"><thead><tr><th></th><th>x2</th><th>x3</th><th>x4</th></tr><tr><th></th><th>Float64</th><th>Float64</th><th>Float64</th></tr></thead><tbody><p>4 rows × 3 columns</p><tr><th>1</th><td>0.175895</td><td>0.773552</td><td>0.369851</td></tr><tr><th>2</th><td>0.0234722</td><td>0.590701</td><td>0.930948</td></tr><tr><th>3</th><td>0.492733</td><td>0.583881</td><td>0.189044</td></tr><tr><th>4</th><td>0.793781</td><td>0.0980745</td><td>0.556772</td></tr></tbody></table>"
      ],
      "text/latex": [
       "\\begin{tabular}{r|ccc}\n",
       "\t& x2 & x3 & x4\\\\\n",
       "\t\\hline\n",
       "\t& Float64 & Float64 & Float64\\\\\n",
       "\t\\hline\n",
       "\t1 & 0.175895 & 0.773552 & 0.369851 \\\\\n",
       "\t2 & 0.0234722 & 0.590701 & 0.930948 \\\\\n",
       "\t3 & 0.492733 & 0.583881 & 0.189044 \\\\\n",
       "\t4 & 0.793781 & 0.0980745 & 0.556772 \\\\\n",
       "\\end{tabular}\n"
      ],
      "text/plain": [
       "4×3 DataFrame\n"
      ]
     },
     "execution_count": 35,
     "metadata": {},
     "output_type": "execute_result"
    }
   ],
   "source": [
    "x[:, Between(:x2, :x4)]"
   ]
  },
  {
   "cell_type": "code",
   "execution_count": 36,
   "metadata": {},
   "outputs": [
    {
     "data": {
      "text/html": [
       "<table class=\"data-frame\"><thead><tr><th></th><th>x1</th><th>x2</th><th>x3</th><th>x4</th></tr><tr><th></th><th>Float64</th><th>Float64</th><th>Float64</th><th>Float64</th></tr></thead><tbody><p>4 rows × 4 columns</p><tr><th>1</th><td>0.9304</td><td>0.175895</td><td>0.773552</td><td>0.369851</td></tr><tr><th>2</th><td>0.0523155</td><td>0.0234722</td><td>0.590701</td><td>0.930948</td></tr><tr><th>3</th><td>0.472186</td><td>0.492733</td><td>0.583881</td><td>0.189044</td></tr><tr><th>4</th><td>0.295229</td><td>0.793781</td><td>0.0980745</td><td>0.556772</td></tr></tbody></table>"
      ],
      "text/latex": [
       "\\begin{tabular}{r|cccc}\n",
       "\t& x1 & x2 & x3 & x4\\\\\n",
       "\t\\hline\n",
       "\t& Float64 & Float64 & Float64 & Float64\\\\\n",
       "\t\\hline\n",
       "\t1 & 0.9304 & 0.175895 & 0.773552 & 0.369851 \\\\\n",
       "\t2 & 0.0523155 & 0.0234722 & 0.590701 & 0.930948 \\\\\n",
       "\t3 & 0.472186 & 0.492733 & 0.583881 & 0.189044 \\\\\n",
       "\t4 & 0.295229 & 0.793781 & 0.0980745 & 0.556772 \\\\\n",
       "\\end{tabular}\n"
      ],
      "text/plain": [
       "4×4 DataFrame\n"
      ]
     },
     "execution_count": 36,
     "metadata": {},
     "output_type": "execute_result"
    }
   ],
   "source": [
    "x[:, All(\"x1\", Between(\"x2\", \"x4\"))]"
   ]
  },
  {
   "cell_type": "markdown",
   "metadata": {},
   "source": [
    "### Views"
   ]
  },
  {
   "cell_type": "markdown",
   "metadata": {},
   "source": [
    "You can simply create a view of a `DataFrame` (it is more efficient than creating a materialized selection). Here are the possible return value options."
   ]
  },
  {
   "cell_type": "code",
   "execution_count": 37,
   "metadata": {},
   "outputs": [
    {
     "data": {
      "text/plain": [
       "2-element view(::Array{Float64,1}, 1:2) with eltype Float64:\n",
       " 0.9304004265404249\n",
       " 0.05231547935896752"
      ]
     },
     "execution_count": 37,
     "metadata": {},
     "output_type": "execute_result"
    }
   ],
   "source": [
    "@view x[1:2, 1]"
   ]
  },
  {
   "cell_type": "code",
   "execution_count": 38,
   "metadata": {},
   "outputs": [
    {
     "data": {
      "text/plain": [
       "0-dimensional view(::Array{Float64,1}, 1) with eltype Float64:\n",
       "0.9304004265404249"
      ]
     },
     "execution_count": 38,
     "metadata": {},
     "output_type": "execute_result"
    }
   ],
   "source": [
    "@view x[1,1]"
   ]
  },
  {
   "cell_type": "code",
   "execution_count": 39,
   "metadata": {},
   "outputs": [
    {
     "data": {
      "text/html": [
       "<p>DataFrameRow (2 columns)</p><table class=\"data-frame\"><thead><tr><th></th><th>x1</th><th>x2</th></tr><tr><th></th><th>Float64</th><th>Float64</th></tr></thead><tbody><tr><th>1</th><td>0.9304</td><td>0.175895</td></tr></tbody></table>"
      ],
      "text/latex": [
       "\\begin{tabular}{r|cc}\n",
       "\t& x1 & x2\\\\\n",
       "\t\\hline\n",
       "\t& Float64 & Float64\\\\\n",
       "\t\\hline\n",
       "\t1 & 0.9304 & 0.175895 \\\\\n",
       "\\end{tabular}\n"
      ],
      "text/plain": [
       "DataFrameRow\n",
       "│ Row │ x1      │ x2       │\n",
       "│     │ \u001b[90mFloat64\u001b[39m │ \u001b[90mFloat64\u001b[39m  │\n",
       "├─────┼─────────┼──────────┤\n",
       "│ 1   │ 0.9304  │ 0.175895 │"
      ]
     },
     "execution_count": 39,
     "metadata": {},
     "output_type": "execute_result"
    }
   ],
   "source": [
    "@view x[1, 1:2] # a DataFrameRow, the same as for x[1, 1:2] without a view"
   ]
  },
  {
   "cell_type": "code",
   "execution_count": 40,
   "metadata": {},
   "outputs": [
    {
     "data": {
      "text/html": [
       "<table class=\"data-frame\"><thead><tr><th></th><th>x1</th><th>x2</th></tr><tr><th></th><th>Float64</th><th>Float64</th></tr></thead><tbody><p>2 rows × 2 columns</p><tr><th>1</th><td>0.9304</td><td>0.175895</td></tr><tr><th>2</th><td>0.0523155</td><td>0.0234722</td></tr></tbody></table>"
      ],
      "text/latex": [
       "\\begin{tabular}{r|cc}\n",
       "\t& x1 & x2\\\\\n",
       "\t\\hline\n",
       "\t& Float64 & Float64\\\\\n",
       "\t\\hline\n",
       "\t1 & 0.9304 & 0.175895 \\\\\n",
       "\t2 & 0.0523155 & 0.0234722 \\\\\n",
       "\\end{tabular}\n"
      ],
      "text/plain": [
       "2×2 SubDataFrame\n",
       "│ Row │ x1        │ x2        │\n",
       "│     │ \u001b[90mFloat64\u001b[39m   │ \u001b[90mFloat64\u001b[39m   │\n",
       "├─────┼───────────┼───────────┤\n",
       "│ 1   │ 0.9304    │ 0.175895  │\n",
       "│ 2   │ 0.0523155 │ 0.0234722 │"
      ]
     },
     "execution_count": 40,
     "metadata": {},
     "output_type": "execute_result"
    }
   ],
   "source": [
    "@view x[1:2, 1:2] # a SubDataFrame"
   ]
  },
  {
   "cell_type": "markdown",
   "metadata": {},
   "source": [
    "### Adding new columns to a data frame"
   ]
  },
  {
   "cell_type": "code",
   "execution_count": 41,
   "metadata": {},
   "outputs": [
    {
     "data": {
      "text/html": [
       "<table class=\"data-frame\"><thead><tr><th></th></tr><tr><th></th></tr></thead><tbody><p>0 rows × 0 columns</p></tbody></table>"
      ],
      "text/latex": [
       "\\begin{tabular}{r|}\n",
       "\t& \\\\\n",
       "\t\\hline\n",
       "\t& \\\\\n",
       "\t\\hline\n",
       "\\end{tabular}\n"
      ],
      "text/plain": [
       "0×0 DataFrame\n"
      ]
     },
     "execution_count": 41,
     "metadata": {},
     "output_type": "execute_result"
    }
   ],
   "source": [
    "df = DataFrame()"
   ]
  },
  {
   "cell_type": "markdown",
   "metadata": {},
   "source": [
    "using `setproperty!`"
   ]
  },
  {
   "cell_type": "code",
   "execution_count": 42,
   "metadata": {},
   "outputs": [
    {
     "data": {
      "text/html": [
       "<table class=\"data-frame\"><thead><tr><th></th><th>a</th></tr><tr><th></th><th>Int64</th></tr></thead><tbody><p>3 rows × 1 columns</p><tr><th>1</th><td>1</td></tr><tr><th>2</th><td>2</td></tr><tr><th>3</th><td>3</td></tr></tbody></table>"
      ],
      "text/latex": [
       "\\begin{tabular}{r|c}\n",
       "\t& a\\\\\n",
       "\t\\hline\n",
       "\t& Int64\\\\\n",
       "\t\\hline\n",
       "\t1 & 1 \\\\\n",
       "\t2 & 2 \\\\\n",
       "\t3 & 3 \\\\\n",
       "\\end{tabular}\n"
      ],
      "text/plain": [
       "3×1 DataFrame\n",
       "│ Row │ a     │\n",
       "│     │ \u001b[90mInt64\u001b[39m │\n",
       "├─────┼───────┤\n",
       "│ 1   │ 1     │\n",
       "│ 2   │ 2     │\n",
       "│ 3   │ 3     │"
      ]
     },
     "execution_count": 42,
     "metadata": {},
     "output_type": "execute_result"
    }
   ],
   "source": [
    "x = [1, 2, 3]\n",
    "df.a = x\n",
    "df"
   ]
  },
  {
   "cell_type": "code",
   "execution_count": 43,
   "metadata": {},
   "outputs": [
    {
     "data": {
      "text/plain": [
       "true"
      ]
     },
     "execution_count": 43,
     "metadata": {},
     "output_type": "execute_result"
    }
   ],
   "source": [
    "df.a === x # no copy is performed"
   ]
  },
  {
   "cell_type": "markdown",
   "metadata": {},
   "source": [
    "using `setindex!`"
   ]
  },
  {
   "cell_type": "code",
   "execution_count": 44,
   "metadata": {},
   "outputs": [
    {
     "data": {
      "text/html": [
       "<table class=\"data-frame\"><thead><tr><th></th><th>a</th><th>b</th><th>c</th></tr><tr><th></th><th>Int64</th><th>Int64</th><th>Int64</th></tr></thead><tbody><p>3 rows × 3 columns</p><tr><th>1</th><td>1</td><td>1</td><td>1</td></tr><tr><th>2</th><td>2</td><td>2</td><td>2</td></tr><tr><th>3</th><td>3</td><td>3</td><td>3</td></tr></tbody></table>"
      ],
      "text/latex": [
       "\\begin{tabular}{r|ccc}\n",
       "\t& a & b & c\\\\\n",
       "\t\\hline\n",
       "\t& Int64 & Int64 & Int64\\\\\n",
       "\t\\hline\n",
       "\t1 & 1 & 1 & 1 \\\\\n",
       "\t2 & 2 & 2 & 2 \\\\\n",
       "\t3 & 3 & 3 & 3 \\\\\n",
       "\\end{tabular}\n"
      ],
      "text/plain": [
       "3×3 DataFrame\n",
       "│ Row │ a     │ b     │ c     │\n",
       "│     │ \u001b[90mInt64\u001b[39m │ \u001b[90mInt64\u001b[39m │ \u001b[90mInt64\u001b[39m │\n",
       "├─────┼───────┼───────┼───────┤\n",
       "│ 1   │ 1     │ 1     │ 1     │\n",
       "│ 2   │ 2     │ 2     │ 2     │\n",
       "│ 3   │ 3     │ 3     │ 3     │"
      ]
     },
     "execution_count": 44,
     "metadata": {},
     "output_type": "execute_result"
    }
   ],
   "source": [
    "df[!, :b] = x\n",
    "df[:, :c] = x\n",
    "df"
   ]
  },
  {
   "cell_type": "code",
   "execution_count": 45,
   "metadata": {},
   "outputs": [
    {
     "data": {
      "text/plain": [
       "true"
      ]
     },
     "execution_count": 45,
     "metadata": {},
     "output_type": "execute_result"
    }
   ],
   "source": [
    "df.b === x # no copy"
   ]
  },
  {
   "cell_type": "code",
   "execution_count": 46,
   "metadata": {},
   "outputs": [
    {
     "data": {
      "text/plain": [
       "false"
      ]
     },
     "execution_count": 46,
     "metadata": {},
     "output_type": "execute_result"
    }
   ],
   "source": [
    "df.c === x # copy"
   ]
  },
  {
   "cell_type": "code",
   "execution_count": 47,
   "metadata": {},
   "outputs": [
    {
     "data": {
      "text/html": [
       "<table class=\"data-frame\"><thead><tr><th></th><th>a</th><th>b</th><th>c</th><th>d</th><th>e</th></tr><tr><th></th><th>Int64</th><th>Int64</th><th>Int64</th><th>Int64</th><th>Int64</th></tr></thead><tbody><p>3 rows × 5 columns</p><tr><th>1</th><td>1</td><td>1</td><td>1</td><td>1</td><td>1</td></tr><tr><th>2</th><td>2</td><td>2</td><td>2</td><td>2</td><td>2</td></tr><tr><th>3</th><td>3</td><td>3</td><td>3</td><td>3</td><td>3</td></tr></tbody></table>"
      ],
      "text/latex": [
       "\\begin{tabular}{r|ccccc}\n",
       "\t& a & b & c & d & e\\\\\n",
       "\t\\hline\n",
       "\t& Int64 & Int64 & Int64 & Int64 & Int64\\\\\n",
       "\t\\hline\n",
       "\t1 & 1 & 1 & 1 & 1 & 1 \\\\\n",
       "\t2 & 2 & 2 & 2 & 2 & 2 \\\\\n",
       "\t3 & 3 & 3 & 3 & 3 & 3 \\\\\n",
       "\\end{tabular}\n"
      ],
      "text/plain": [
       "3×5 DataFrame\n",
       "│ Row │ a     │ b     │ c     │ d     │ e     │\n",
       "│     │ \u001b[90mInt64\u001b[39m │ \u001b[90mInt64\u001b[39m │ \u001b[90mInt64\u001b[39m │ \u001b[90mInt64\u001b[39m │ \u001b[90mInt64\u001b[39m │\n",
       "├─────┼───────┼───────┼───────┼───────┼───────┤\n",
       "│ 1   │ 1     │ 1     │ 1     │ 1     │ 1     │\n",
       "│ 2   │ 2     │ 2     │ 2     │ 2     │ 2     │\n",
       "│ 3   │ 3     │ 3     │ 3     │ 3     │ 3     │"
      ]
     },
     "execution_count": 47,
     "metadata": {},
     "output_type": "execute_result"
    }
   ],
   "source": [
    "df[!, :d] .= x\n",
    "df[:, :e] .= x\n",
    "df"
   ]
  },
  {
   "cell_type": "code",
   "execution_count": 48,
   "metadata": {},
   "outputs": [
    {
     "data": {
      "text/plain": [
       "(false, false)"
      ]
     },
     "execution_count": 48,
     "metadata": {},
     "output_type": "execute_result"
    }
   ],
   "source": [
    "df.d === x, df.e === x # both copy, so in this case `!` and `:` has the same effect"
   ]
  },
  {
   "cell_type": "markdown",
   "metadata": {},
   "source": [
    "note that in our data frame columns `:a` and `:b` store the vector `x` (not a copy)"
   ]
  },
  {
   "cell_type": "code",
   "execution_count": 49,
   "metadata": {},
   "outputs": [
    {
     "data": {
      "text/plain": [
       "true"
      ]
     },
     "execution_count": 49,
     "metadata": {},
     "output_type": "execute_result"
    }
   ],
   "source": [
    "df.a === df.b === x"
   ]
  },
  {
   "cell_type": "markdown",
   "metadata": {},
   "source": [
    "This can lead to silent errors. For example this code leads to a bug (note that calling `pairs` on `eachcol(df)` creates an iterator of (column name, column) pairs):"
   ]
  },
  {
   "cell_type": "code",
   "execution_count": 50,
   "metadata": {},
   "outputs": [
    {
     "name": "stdout",
     "output_type": "stream",
     "text": [
      "a: 3\n",
      "b: 2\n",
      "c: 3\n",
      "d: 3\n",
      "e: 3\n"
     ]
    }
   ],
   "source": [
    "for (n, c) in pairs(eachcol(df))\n",
    "    println(\"$n: \", pop!(c))\n",
    "end"
   ]
  },
  {
   "cell_type": "markdown",
   "metadata": {},
   "source": [
    "note that for column `:b` we printed `2` as `3` was removed from it when we used `pop!` on column `:a`."
   ]
  },
  {
   "cell_type": "markdown",
   "metadata": {},
   "source": [
    "Such mistakes sometimes happen. Because of this DataFrames.jl performs consistency checks before doing an expensive operation (most notably before showing a data frame)."
   ]
  },
  {
   "cell_type": "code",
   "execution_count": 51,
   "metadata": {},
   "outputs": [
    {
     "ename": "AssertionError",
     "evalue": "AssertionError: Data frame is corrupt: length of column :c (2) does not match length of column 1 (1). The column vector has likely been resized unintentionally (either directly or because it is shared with another data frame).",
     "output_type": "error",
     "traceback": [
      "AssertionError: Data frame is corrupt: length of column :c (2) does not match length of column 1 (1). The column vector has likely been resized unintentionally (either directly or because it is shared with another data frame).",
      "",
      "Stacktrace:",
      " [1] _check_consistency(::DataFrame) at /home/bkamins/.julia/packages/DataFrames/3ZmR2/src/dataframe/dataframe.jl:369",
      " [2] _show(::IOContext{Base.GenericIOBuffer{Array{UInt8,1}}}, ::DataFrame; allrows::Bool, allcols::Bool, splitcols::Bool, rowlabel::Symbol, summary::Bool, eltypes::Bool, rowid::Nothing) at /home/bkamins/.julia/packages/DataFrames/3ZmR2/src/abstractdataframe/show.jl:565",
      " [3] #show#443 at /home/bkamins/.julia/packages/DataFrames/3ZmR2/src/abstractdataframe/show.jl:665 [inlined]",
      " [4] show(::IOContext{Base.GenericIOBuffer{Array{UInt8,1}}}, ::MIME{Symbol(\"text/plain\")}, ::DataFrame; allrows::Bool, allcols::Bool, splitcols::Bool, rowlabel::Symbol, summary::Bool, eltypes::Bool) at /home/bkamins/.julia/packages/DataFrames/3ZmR2/src/abstractdataframe/io.jl:56",
      " [5] show(::IOContext{Base.GenericIOBuffer{Array{UInt8,1}}}, ::MIME{Symbol(\"text/plain\")}, ::DataFrame) at /home/bkamins/.julia/packages/DataFrames/3ZmR2/src/abstractdataframe/io.jl:56",
      " [6] limitstringmime(::MIME{Symbol(\"text/plain\")}, ::DataFrame) at /home/bkamins/.julia/packages/IJulia/DrVMH/src/inline.jl:43",
      " [7] display_mimestring(::MIME{Symbol(\"text/plain\")}, ::DataFrame) at /home/bkamins/.julia/packages/IJulia/DrVMH/src/display.jl:67",
      " [8] display_dict(::DataFrame) at /home/bkamins/.julia/packages/IJulia/DrVMH/src/display.jl:96",
      " [9] #invokelatest#1 at ./essentials.jl:712 [inlined]",
      " [10] invokelatest at ./essentials.jl:711 [inlined]",
      " [11] execute_request(::ZMQ.Socket, ::IJulia.Msg) at /home/bkamins/.julia/packages/IJulia/DrVMH/src/execute_request.jl:112",
      " [12] #invokelatest#1 at ./essentials.jl:712 [inlined]",
      " [13] invokelatest at ./essentials.jl:711 [inlined]",
      " [14] eventloop(::ZMQ.Socket) at /home/bkamins/.julia/packages/IJulia/DrVMH/src/eventloop.jl:8",
      " [15] (::IJulia.var\"#15#18\")() at ./task.jl:358"
     ]
    }
   ],
   "source": [
    "df"
   ]
  },
  {
   "cell_type": "markdown",
   "metadata": {},
   "source": [
    "We can investigate the columns to find out what happend:"
   ]
  },
  {
   "cell_type": "code",
   "execution_count": 52,
   "metadata": {},
   "outputs": [
    {
     "data": {
      "text/plain": [
       "5-element Array{Pair{Symbol,AbstractArray{T,1} where T},1}:\n",
       " :a => [1]\n",
       " :b => [1]\n",
       " :c => [1, 2]\n",
       " :d => [1, 2]\n",
       " :e => [1, 2]"
      ]
     },
     "execution_count": 52,
     "metadata": {},
     "output_type": "execute_result"
    }
   ],
   "source": [
    "collect(pairs(eachcol(df)))"
   ]
  },
  {
   "cell_type": "markdown",
   "metadata": {},
   "source": [
    "The output confirms that the data frame `df` got corrupted."
   ]
  },
  {
   "cell_type": "markdown",
   "metadata": {},
   "source": [
    "DataFrames.jl supports a complete set of `getindex`, `getproperty`, `setindex!`, `setproperty!`, `view`, broadcasting, and broadcasting assignment operations. The details are explained here: http://juliadata.github.io/DataFrames.jl/latest/lib/indexing/."
   ]
  }
 ],
 "metadata": {
  "@webio": {
   "lastCommId": null,
   "lastKernelId": null
  },
  "kernelspec": {
   "display_name": "Julia 1.5.1",
   "language": "julia",
   "name": "julia-1.5"
  },
  "language_info": {
   "file_extension": ".jl",
   "mimetype": "application/julia",
   "name": "julia",
   "version": "1.5.1"
  }
 },
 "nbformat": 4,
 "nbformat_minor": 1
}
