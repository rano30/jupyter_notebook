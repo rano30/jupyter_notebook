{
 "cells": [
  {
   "cell_type": "markdown",
   "metadata": {},
   "source": [
    "Data Science Fundamentals: Julia |\n",
    "[Table of Contents](../index.ipynb)\n",
    "- - - \n",
    "<!--NAVIGATION-->\n",
    "Module 17. **[Overview](./00_julia_overview.ipynb)** | [Getting Started](./01_julia_started.ipynb) | [Commands](./02_julia_commands.ipynb) | [Package: Gadfly](./03_julia_gadfly.ipynb)"
   ]
  },
  {
   "cell_type": "markdown",
   "metadata": {},
   "source": [
    "# Overview of Julia 1.5.1"
   ]
  },
  {
   "cell_type": "markdown",
   "metadata": {},
   "source": [
    "<b>What is Julia?</b><br><br>Julia is a high-level, high-performance dynamic programming language for technical computing, with syntax that is familiar to users of other technical computing environments. It provides a sophisticated compiler, distributed parallel execution, numerical accuracy, and an extensive mathematical function library. Julia’s Base library, largely written in Julia itself, also integrates mature, best-of-breed open source C and Fortran libraries for linear algebra, random number generation, signal processing, and string processing. See the [website here](http://julialang.org/)."
   ]
  },
  {
   "cell_type": "markdown",
   "metadata": {},
   "source": [
    "Summary of Features\n",
    "---"
   ]
  },
  {
   "cell_type": "markdown",
   "metadata": {},
   "source": [
    "- Multiple dispatch: providing ability to define function behavior across many combinations of argument types\n",
    "- Dynamic type system: types for documentation, optimization, and dispatch\n",
    "- Good performance, approaching that of statically-compiled languages like C\n",
    "- Built-in package manager\n",
    "- Lisp-like macros and other metaprogramming facilities\n",
    "- Call Python functions: use the PyCall package\n",
    "- Call C functions directly: no wrappers or special APIs\n",
    "- Powerful shell-like capabilities for managing other processes\n",
    "- Designed for parallelism and distributed computation\n",
    "- Coroutines: lightweight “green” threading\n",
    "- User-defined types are as fast and compact as built-ins\n",
    "- Automatic generation of efficient, specialized code for different argument types\n",
    "- Elegant and extensible conversions and promotions for numeric and other types\n",
    "- Efficient support for Unicode, including but not limited to UTF-8"
   ]
  },
  {
   "cell_type": "markdown",
   "metadata": {},
   "source": [
    "High-Performance JIT Compiler\n",
    "---\n",
    "Julia’s LLVM-based just-in-time (JIT) compiler combined with the language’s design allow it to approach and often match the performance of C. To get a sense of relative performance of Julia compared to other languages that can or could be used for numerical and scientific computing, we’ve written a small set of micro-benchmarks in a variety of languages: C, Fortran, Julia, Python, Matlab/Octave, R, JavaScript, Java, Lua, Go, and Mathematica."
   ]
  },
  {
   "cell_type": "markdown",
   "metadata": {},
   "source": [
    "![caption](files/compiler.png)"
   ]
  },
  {
   "cell_type": "markdown",
   "metadata": {},
   "source": [
    "Installation on Windows\n",
    "---\n"
   ]
  },
  {
   "cell_type": "markdown",
   "metadata": {},
   "source": [
    "Julia is available for <a href=\"https://julialang.org/downloads/\">64-bit</a> Windows.\n",
    "\n",
    "- Download the Windows julia.exe installer for your platform. 64-bit julia will only run on 64-bit Windows (x86_64).\n",
    "- Run the downloaded program to extract julia\n",
    "- Double-click the julia shortcut in the unpacked folder to start julia\n",
    "- The Windows README contains information on dependencies.\n",
    "\n",
    "Uninstallation is performed by deleting the extracted directory and the packages directory in %HOME%/.julia. If you would also like to remove your preferences files, remove %HOME%/.juliarc.jl and %HOME%/.julia_history."
   ]
  },
  {
   "cell_type": "markdown",
   "metadata": {},
   "source": [
    "Installation on Mac OS X\n",
    "---\n"
   ]
  },
  {
   "cell_type": "markdown",
   "metadata": {},
   "source": [
    "On Mac, a Julia-version.dmg <a href=\"https://julialang.org/downloads/\">64-bit</a> file is provided, which contains Julia.app. Installation is the same as any other Mac software – copy the Julia.app to your hard-drive (anywhere) or run from the disk image. Julia supports all OS X 10.7 and later. If you use Snow Leopard (OSX 10.6), Julia 0.2.1 was the last release of Julia that supported it.\n",
    "\n",
    "Uninstall Julia by deleting Julia.app and the packages directory in ~/.julia. Multiple Julia.app binaries can co-exist without interfering with each other. If you would also like to remove your preferences files, remove ~/.juliarc.jl."
   ]
  },
  {
   "cell_type": "markdown",
   "metadata": {},
   "source": [
    "Configuring Jupyter Notebook for Julia 1.5.1\n",
    "---"
   ]
  },
  {
   "cell_type": "code",
   "execution_count": 2,
   "metadata": {},
   "outputs": [
    {
     "name": "stderr",
     "output_type": "stream",
     "text": [
      "\u001b[32m\u001b[1m   Updating\u001b[22m\u001b[39m registry at `~/.julia/registries/General`\n"
     ]
    },
    {
     "name": "stdout",
     "output_type": "stream",
     "text": [
      "\u001b[?25l\u001b[2K"
     ]
    },
    {
     "name": "stderr",
     "output_type": "stream",
     "text": [
      "\u001b[32m\u001b[1m   Updating\u001b[22m\u001b[39m git-repo `https://github.com/JuliaRegistries/General.git`\n"
     ]
    },
    {
     "name": "stdout",
     "output_type": "stream",
     "text": [
      "\u001b[?25h"
     ]
    },
    {
     "name": "stderr",
     "output_type": "stream",
     "text": [
      "\u001b[32m\u001b[1m  Resolving\u001b[22m\u001b[39m package versions...\n",
      "\u001b[32m\u001b[1m   Updating\u001b[22m\u001b[39m `~/.julia/environments/v1.4/Project.toml`\n",
      "\u001b[90m [no changes]\u001b[39m\n",
      "\u001b[32m\u001b[1m   Updating\u001b[22m\u001b[39m `~/.julia/environments/v1.4/Manifest.toml`\n",
      "\u001b[90m [no changes]\u001b[39m\n",
      "\u001b[32m\u001b[1m  Resolving\u001b[22m\u001b[39m package versions...\n",
      "\u001b[32m\u001b[1m   Updating\u001b[22m\u001b[39m `~/.julia/environments/v1.4/Project.toml`\n",
      "\u001b[90m [no changes]\u001b[39m\n",
      "\u001b[32m\u001b[1m   Updating\u001b[22m\u001b[39m `~/.julia/environments/v1.4/Manifest.toml`\n",
      "\u001b[90m [no changes]\u001b[39m\n"
     ]
    }
   ],
   "source": [
    "using Pkg\n",
    "Pkg.add(\"IJulia\")\n",
    "Pkg.add(\"DataFrames\")"
   ]
  },
  {
   "cell_type": "code",
   "execution_count": 4,
   "metadata": {},
   "outputs": [
    {
     "name": "stderr",
     "output_type": "stream",
     "text": [
      "\u001b[32m\u001b[1m   Updating\u001b[22m\u001b[39m registry at `~/.julia/registries/General`\n"
     ]
    },
    {
     "name": "stdout",
     "output_type": "stream",
     "text": [
      "\u001b[?25l\u001b[2K"
     ]
    },
    {
     "name": "stderr",
     "output_type": "stream",
     "text": [
      "\u001b[32m\u001b[1m   Updating\u001b[22m\u001b[39m git-repo `https://github.com/JuliaRegistries/General.git`\n"
     ]
    },
    {
     "name": "stdout",
     "output_type": "stream",
     "text": [
      "\u001b[?25h"
     ]
    },
    {
     "name": "stderr",
     "output_type": "stream",
     "text": [
      "\u001b[32m\u001b[1m   Updating\u001b[22m\u001b[39m `~/.julia/environments/v1.4/Project.toml`\n",
      " \u001b[90m [336ed68f]\u001b[39m\u001b[93m ↑ CSV v0.6.2 ⇒ v0.7.7\u001b[39m\n",
      " \u001b[90m [a93c6f00]\u001b[39m\u001b[93m ↑ DataFrames v0.21.3 ⇒ v0.21.7\u001b[39m\n",
      " \u001b[90m [31c24e10]\u001b[39m\u001b[93m ↑ Distributions v0.23.4 ⇒ v0.23.8\u001b[39m\n",
      " \u001b[90m [7073ff75]\u001b[39m\u001b[93m ↑ IJulia v1.21.2 ⇒ v1.21.3\u001b[39m\n",
      " \u001b[90m [ce6b1742]\u001b[39m\u001b[93m ↑ RDatasets v0.6.9 ⇒ v0.6.10\u001b[39m\n",
      "\u001b[32m\u001b[1m   Updating\u001b[22m\u001b[39m `~/.julia/environments/v1.4/Manifest.toml`\n",
      " \u001b[90m [7d9fca2a]\u001b[39m\u001b[91m - Arpack v0.4.0\u001b[39m\n",
      " \u001b[90m [68821587]\u001b[39m\u001b[91m - Arpack_jll v3.5.0+3\u001b[39m\n",
      " \u001b[90m [4fba245c]\u001b[39m\u001b[93m ↑ ArrayInterface v2.9.0 ⇒ v2.12.0\u001b[39m\n",
      " \u001b[90m [336ed68f]\u001b[39m\u001b[93m ↑ CSV v0.6.2 ⇒ v0.7.7\u001b[39m\n",
      " \u001b[90m [324d7699]\u001b[39m\u001b[93m ↑ CategoricalArrays v0.8.1 ⇒ v0.8.2\u001b[39m\n",
      " \u001b[90m [3da002f7]\u001b[39m\u001b[93m ↑ ColorTypes v0.10.4 ⇒ v0.10.9\u001b[39m\n",
      " \u001b[90m [5ae59095]\u001b[39m\u001b[93m ↑ Colors v0.12.2 ⇒ v0.12.4\u001b[39m\n",
      " \u001b[90m [bbf7d656]\u001b[39m\u001b[93m ↑ CommonSubexpressions v0.2.0 ⇒ v0.3.0\u001b[39m\n",
      " \u001b[90m [34da2185]\u001b[39m\u001b[93m ↑ Compat v3.12.0 ⇒ v3.15.0\u001b[39m\n",
      " \u001b[90m [d38c429a]\u001b[39m\u001b[93m ↑ Contour v0.5.3 ⇒ v0.5.4\u001b[39m\n",
      " \u001b[90m [a93c6f00]\u001b[39m\u001b[93m ↑ DataFrames v0.21.3 ⇒ v0.21.7\u001b[39m\n",
      " \u001b[90m [864edb3b]\u001b[39m\u001b[93m ↑ DataStructures v0.17.19 ⇒ v0.17.20\u001b[39m\n",
      " \u001b[90m [31c24e10]\u001b[39m\u001b[93m ↑ Distributions v0.23.4 ⇒ v0.23.8\u001b[39m\n",
      " \u001b[90m [ffbed154]\u001b[39m\u001b[93m ↑ DocStringExtensions v0.8.2 ⇒ v0.8.3\u001b[39m\n",
      " \u001b[90m [e2ba6199]\u001b[39m\u001b[93m ↑ ExprTools v0.1.1 ⇒ v0.1.2\u001b[39m\n",
      " \u001b[90m [7a1cc6ca]\u001b[39m\u001b[93m ↑ FFTW v1.2.2 ⇒ v1.2.4\u001b[39m\n",
      " \u001b[90m [5789e2e9]\u001b[39m\u001b[93m ↑ FileIO v1.3.0 ⇒ v1.4.3\u001b[39m\n",
      " \u001b[90m [48062228]\u001b[39m\u001b[91m - FilePathsBase v0.8.0\u001b[39m\n",
      " \u001b[90m [1a297f60]\u001b[39m\u001b[93m ↑ FillArrays v0.8.11 ⇒ v0.8.14\u001b[39m\n",
      " \u001b[90m [6a86dc24]\u001b[39m\u001b[93m ↑ FiniteDiff v2.3.2 ⇒ v2.6.0\u001b[39m\n",
      " \u001b[90m [53c48c17]\u001b[39m\u001b[93m ↑ FixedPointNumbers v0.8.1 ⇒ v0.8.4\u001b[39m\n",
      " \u001b[90m [f6369f11]\u001b[39m\u001b[93m ↑ ForwardDiff v0.10.10 ⇒ v0.10.12\u001b[39m\n",
      " \u001b[90m [7073ff75]\u001b[39m\u001b[93m ↑ IJulia v1.21.2 ⇒ v1.21.3\u001b[39m\n",
      " \u001b[90m [682c06a0]\u001b[39m\u001b[93m ↑ JSON v0.21.0 ⇒ v0.21.1\u001b[39m\n",
      " \u001b[90m [e5e0dc1b]\u001b[39m\u001b[93m ↑ Juno v0.8.2 ⇒ v0.8.3\u001b[39m\n",
      " \u001b[90m [d3d80556]\u001b[39m\u001b[93m ↑ LineSearches v7.0.1 ⇒ v7.1.0\u001b[39m\n",
      " \u001b[90m [856f044c]\u001b[39m\u001b[93m ↑ MKL_jll v2020.1.216+0 ⇒ v2020.2.254+0\u001b[39m\n",
      " \u001b[90m [c8ffd9c3]\u001b[39m\u001b[93m ↑ MbedTLS_jll v2.16.6+1 ⇒ v2.16.8+0\u001b[39m\n",
      " \u001b[90m [e1d29d7a]\u001b[39m\u001b[93m ↑ Missings v0.4.3 ⇒ v0.4.4\u001b[39m\n",
      " \u001b[90m [d41bc354]\u001b[39m\u001b[93m ↑ NLSolversBase v7.6.1 ⇒ v7.7.0\u001b[39m\n",
      " \u001b[90m [77ba4419]\u001b[39m\u001b[93m ↑ NaNMath v0.3.3 ⇒ v0.3.4\u001b[39m\n",
      " \u001b[90m [6fe1bfb0]\u001b[39m\u001b[93m ↑ OffsetArrays v1.1.0 ⇒ v1.1.3\u001b[39m\n",
      " \u001b[90m [4536629a]\u001b[39m\u001b[91m - OpenBLAS_jll v0.3.9+5\u001b[39m\n",
      " \u001b[90m [429524aa]\u001b[39m\u001b[93m ↑ Optim v0.21.0 ⇒ v0.22.0\u001b[39m\n",
      " \u001b[90m [bac558e1]\u001b[39m\u001b[93m ↑ OrderedCollections v1.2.0 ⇒ v1.3.0\u001b[39m\n",
      " \u001b[90m [90014a1f]\u001b[39m\u001b[93m ↑ PDMats v0.9.12 ⇒ v0.10.0\u001b[39m\n",
      " \u001b[90m [69de0a69]\u001b[39m\u001b[93m ↑ Parsers v1.0.6 ⇒ v1.0.10\u001b[39m\n",
      " \u001b[90m [1fd47b50]\u001b[39m\u001b[93m ↑ QuadGK v2.3.1 ⇒ v2.4.1\u001b[39m\n",
      " \u001b[90m [ce6b1742]\u001b[39m\u001b[93m ↑ RDatasets v0.6.9 ⇒ v0.6.10\u001b[39m\n",
      " \u001b[90m [3cdcf5f2]\u001b[39m\u001b[93m ↑ RecipesBase v1.0.1 ⇒ v1.1.0\u001b[39m\n",
      " \u001b[90m [ae029012]\u001b[39m\u001b[93m ↑ Requires v1.0.1 ⇒ v1.0.2\u001b[39m\n",
      " \u001b[90m [91c51154]\u001b[39m\u001b[92m + SentinelArrays v1.2.15\u001b[39m\n",
      " \u001b[90m [b85f4697]\u001b[39m\u001b[93m ↑ SoftGlobalScope v1.0.10 ⇒ v1.1.0\u001b[39m\n",
      " \u001b[90m [90137ffa]\u001b[39m\u001b[93m ↑ StaticArrays v0.12.3 ⇒ v0.12.4\u001b[39m\n",
      " \u001b[90m [2913bbd2]\u001b[39m\u001b[93m ↑ StatsBase v0.33.0 ⇒ v0.33.1\u001b[39m\n",
      " \u001b[90m [856f2bd8]\u001b[39m\u001b[92m + StructTypes v1.1.0\u001b[39m\n",
      " \u001b[90m [bd369af6]\u001b[39m\u001b[93m ↑ Tables v1.0.4 ⇒ v1.0.5\u001b[39m\n",
      " \u001b[90m [f269a46b]\u001b[39m\u001b[93m ↑ TimeZones v1.2.0 ⇒ v1.3.2\u001b[39m\n",
      " \u001b[90m [3a884ed6]\u001b[39m\u001b[93m ↑ UnPack v1.0.1 ⇒ v1.0.2\u001b[39m\n",
      " \u001b[90m [ea10d353]\u001b[39m\u001b[91m - WeakRefStrings v0.6.2\u001b[39m\n"
     ]
    }
   ],
   "source": [
    "Pkg.update()"
   ]
  },
  {
   "cell_type": "code",
   "execution_count": 3,
   "metadata": {},
   "outputs": [
    {
     "data": {
      "text/plain": [
       "\"/Users/gsjackson/Documents/Repositories/QLX-I/datascience/julia/17_mod_julia\""
      ]
     },
     "execution_count": 3,
     "metadata": {},
     "output_type": "execute_result"
    }
   ],
   "source": [
    "pwd()"
   ]
  },
  {
   "cell_type": "markdown",
   "metadata": {},
   "source": [
    "Removing Previous Versions of Kernels Of Coding Languages\n",
    "---"
   ]
  },
  {
   "cell_type": "markdown",
   "metadata": {},
   "source": [
    "Run ```jupyter kernelspec list``` on the command line to get the paths of all your kernels."
   ]
  },
  {
   "cell_type": "markdown",
   "metadata": {},
   "source": [
    "```\n",
    "Available kernels:\n",
    "  julia-1.0    /home/user/.local/share/jupyter/kernels/julia-1.0\n",
    "  julia-1.1    /home/user/.local/share/jupyter/kernels/julia-1.1\n",
    "  python3      /home/user/anaconda3/share/jupyter/kernels/python3\n",
    "```"
   ]
  },
  {
   "cell_type": "markdown",
   "metadata": {},
   "source": [
    "To remove do the following command"
   ]
  },
  {
   "cell_type": "markdown",
   "metadata": {},
   "source": [
    "```\n",
    "jupyter kernelspec uninstall julia-1.0\n",
    "```"
   ]
  },
  {
   "cell_type": "markdown",
   "metadata": {
    "collapsed": true
   },
   "source": [
    "- - - \n",
    "<!--NAVIGATION-->\n",
    "Module 17. **[Overview](./00_julia_overview.ipynb)** | [Getting Started](./01_julia_started.ipynb) | [Commands](./02_julia_commands.ipynb) | [Package: Gadfly](./03_julia_gadfly.ipynb)\n",
    "<br>\n",
    "[Top](#)"
   ]
  },
  {
   "cell_type": "markdown",
   "metadata": {},
   "source": [
    "- - -\n",
    "\n",
    "Copyright © 2020 Qualex Consulting Services Incorporated."
   ]
  },
  {
   "cell_type": "code",
   "execution_count": null,
   "metadata": {},
   "outputs": [],
   "source": []
  }
 ],
 "metadata": {
  "kernelspec": {
   "display_name": "Julia 1.5.1",
   "language": "julia",
   "name": "julia-1.5"
  },
  "language_info": {
   "file_extension": ".jl",
   "mimetype": "application/julia",
   "name": "julia",
   "version": "1.4.2"
  }
 },
 "nbformat": 4,
 "nbformat_minor": 1
}
