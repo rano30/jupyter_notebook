{
 "cells": [
  {
   "cell_type": "code",
   "execution_count": 4,
   "id": "65c1b0e7",
   "metadata": {},
   "outputs": [
    {
     "name": "stdout",
     "output_type": "stream",
     "text": [
      "<__main__.Dog object at 0x000002BE7F3F4F10>\n",
      "beagle\n"
     ]
    }
   ],
   "source": [
    "class Dog:                   \n",
    " \n",
    "    def __init__(self,dogBreed,dogEyeColor):\n",
    "  \n",
    "        self.breed = dogBreed       \n",
    "        self.eyeColor = dogEyeColor\n",
    "\n",
    "george = Dog('beagle', 'green')\n",
    "print(george)\n",
    "print(george.breed)"
   ]
  },
  {
   "cell_type": "code",
   "execution_count": 6,
   "id": "8d85c295",
   "metadata": {},
   "outputs": [
    {
     "name": "stdout",
     "output_type": "stream",
     "text": [
      "Fer is a red convertible worth $60000.00.\n",
      "Jump is a blue van worth $10000.00.\n"
     ]
    }
   ],
   "source": [
    "# define the Vehicle class\n",
    "class Vehicle:\n",
    "    def __init__(self, name, kind, color, value):\n",
    "        self.name = name\n",
    "        self.kind = kind\n",
    "        self.color = color\n",
    "        self.value = value\n",
    "   \n",
    "    def description(self):\n",
    "        desc_str = \"%s is a %s %s worth $%.2f.\" % (self.name, self.color, self.kind, self.value)\n",
    "        return desc_str\n",
    "# your code goes here\n",
    "car1 = Vehicle('Fer', 'convertible', 'red', 60000)\n",
    "car2 = Vehicle('Jump', 'van', 'blue', 10000)\n",
    "# test code\n",
    "print(car1.description())\n",
    "print(car2.description())"
   ]
  },
  {
   "cell_type": "code",
   "execution_count": 15,
   "id": "d7ad082b",
   "metadata": {},
   "outputs": [
    {
     "name": "stdout",
     "output_type": "stream",
     "text": [
      "Choose an integer:4\n",
      "492\n"
     ]
    }
   ],
   "source": [
    "n = int(input('Choose an integer:')) #takes our input and only accepts it as an integer\n",
    "\n",
    "#the int(%s) lets us take 'n' and concatenate all the strings together as integers\n",
    "print(int('%s' % n) + int('%s%s' % (n, n)) + int('%s%s%s' % (n, n, n))) "
   ]
  },
  {
   "cell_type": "code",
   "execution_count": null,
   "id": "95bb3bbb",
   "metadata": {},
   "outputs": [],
   "source": []
  }
 ],
 "metadata": {
  "kernelspec": {
   "display_name": "Python 3",
   "language": "python",
   "name": "python3"
  },
  "language_info": {
   "codemirror_mode": {
    "name": "ipython",
    "version": 3
   },
   "file_extension": ".py",
   "mimetype": "text/x-python",
   "name": "python",
   "nbconvert_exporter": "python",
   "pygments_lexer": "ipython3",
   "version": "3.8.8"
  }
 },
 "nbformat": 4,
 "nbformat_minor": 5
}
