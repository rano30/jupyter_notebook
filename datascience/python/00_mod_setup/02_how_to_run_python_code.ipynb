{
 "cells": [
  {
   "cell_type": "markdown",
   "metadata": {},
   "source": [
    "Data Science Fundamentals: Python|\n",
    "[Table of Contents](../index.ipynb)\n",
    "- - - \n",
    "<!--NAVIGATION-->\n",
    "Module 0. [Introduction To Python](./01_mod_intro_python.ipynb) | **[How To Run Python Code](./02_how_to_run_python_code.ipynb)**"
   ]
  },
  {
   "cell_type": "markdown",
   "metadata": {},
   "source": [
    "# How to Run Python Code"
   ]
  },
  {
   "cell_type": "markdown",
   "metadata": {},
   "source": [
    "Python is a flexible language, and there are several ways to use it depending on your particular task.\n",
    "One thing that distinguishes Python from other programming languages is that it is *interpreted* rather than *compiled*.\n",
    "This means that it is executed line by line, which allows programming to be interactive in a way that is not directly possible with compiled languages like Fortran, C, or Java. This section will describe four primary ways you can run Python code: the *Python interpreter*, the *IPython interpreter*, via *Self-contained Scripts*, or in the *Jupyter notebook*."
   ]
  },
  {
   "cell_type": "markdown",
   "metadata": {},
   "source": [
    "### The Python Interpreter\n",
    "\n",
    "The most basic way to execute Python code is line by line within the *Python interpreter*.\n",
    "The Python interpreter can be started by installing the Python language (see the previous section) and typing ``python`` at the command prompt (look for the Terminal on Mac OS X and Unix/Linux systems, or the Command Prompt application in Windows):\n",
    "```\n",
    "$ python\n",
    "Python 3.5.1 |Continuum Analytics, Inc.| (default, Dec  7 2015, 11:24:55)\n",
    "Type \"help\", \"copyright\", \"credits\" or \"license\" for more information.\n",
    ">>>\n",
    "```\n",
    "With the interpreter running, you can begin to type and execute code snippets.\n",
    "Here we'll use the interpreter as a simple calculator, performing calculations and assigning values to variables:\n",
    "``` python\n",
    ">>> 1 + 1\n",
    "2\n",
    ">>> x = 5\n",
    ">>> x * 3\n",
    "15\n",
    "```\n",
    "\n",
    "The interpreter makes it very convenient to try out small snippets of Python code and to experiment with short sequences of operations."
   ]
  },
  {
   "cell_type": "markdown",
   "metadata": {},
   "source": [
    "### The IPython interpreter\n",
    "\n",
    "If you spend much time with the basic Python interpreter, you'll find that it lacks many of the features of a full-fledged interactive development environment.\n",
    "An alternative interpreter called *IPython* (for Interactive Python) is bundled with the Anaconda distribution, and includes a host of convenient enhancements to the basic Python interpreter.\n",
    "It can be started by typing ``ipython`` at the command prompt:\n",
    "```\n",
    "$ ipython\n",
    "Python 3.5.1 |Continuum Analytics, Inc.| (default, Dec  7 2015, 11:24:55) \n",
    "Type \"copyright\", \"credits\" or \"license\" for more information.\n",
    "\n",
    "IPython 4.0.0 -- An enhanced Interactive Python.\n",
    "?         -> Introduction and overview of IPython's features.\n",
    "%quickref -> Quick reference.\n",
    "help      -> Python's own help system.\n",
    "object?   -> Details about 'object', use 'object??' for extra details.\n",
    "\n",
    "In [1]: \n",
    "```\n",
    "The main aesthetic difference between the Python interpreter and the enhanced IPython interpreter lies in the command prompt: Python uses ``>>>`` by default, while IPython uses numbered commands (e.g. ``In [1]:``).\n",
    "Regardless, we can execute code line by line just as we did before:\n",
    "``` ipython\n",
    "In [1]: 1 + 1\n",
    "Out[1]: 2\n",
    "\n",
    "In [2]: x = 5\n",
    "\n",
    "In [3]: x * 3\n",
    "Out[3]: 15\n",
    "```\n",
    "Note that just as the input is numbered, the output of each command is numbered as well.\n",
    "IPython makes available a wide array of useful features; for some suggestions on where to read more, see [Resources for Further Learning](16-Further-Resources.ipynb)."
   ]
  },
  {
   "cell_type": "markdown",
   "metadata": {},
   "source": [
    "### Self-contained Python scripts\n",
    "\n",
    "Running Python snippets line by line is useful in some cases, but for more complicated programs it is more convenient to save code to file, and execute it all at once.\n",
    "By convention, Python scripts are saved in files with a *.py* extension.\n",
    "For example, let's create a script called *test.py* which contains the following:\n",
    "``` python\n",
    "# file: test.py\n",
    "print(\"Running test.py\")\n",
    "x = 5\n",
    "print(\"Result is\", 3 * x)\n",
    "```\n",
    "To run this file, we make sure it is in the current directory and type ``python`` *``filename``* at the command prompt:\n",
    "```\n",
    "$ python test.py\n",
    "Running test.py\n",
    "Result is 15\n",
    "```\n",
    "For more complicated programs, creating self-contained scripts like this one is a must."
   ]
  },
  {
   "cell_type": "markdown",
   "metadata": {},
   "source": [
    "### The Jupyter notebook\n",
    "\n",
    "A useful hybrid of the interactive terminal and the self-contained script is the *Jupyter notebook*, a document format that allows executable code, formatted text, graphics, and even interactive features to be combined into a single document.\n",
    "Though the notebook began as a Python-only format, it has since been made compatible with a large number of programming languages, and is now an essential part of the [*Jupyter Project*](https://jupyter.org/).\n",
    "The notebook is useful both as a development environment, and as a means of sharing work via rich computational and data-driven narratives that mix together code, figures, data, and text."
   ]
  },
  {
   "cell_type": "markdown",
   "metadata": {},
   "source": [
    "This is what we are using!"
   ]
  },
  {
   "cell_type": "markdown",
   "metadata": {},
   "source": [
    "## Mentorship\n",
    "\n",
    "This is also a great time to start talking to you about the community you may choose to participate in, and the opportunities that are available to you to start to establish connections in the field. Learners of all forms can benefit from building a strong network of individuals to ask questions of, and work on projects with. Typically in coding, mentorship refers to a relationship in which a more experienced or more knowledgeable person helps to guide a less experienced or less knowledgeable person. The mentor may be older or younger than the person being mentored, but they must have a certain area of expertise that they are willing to share. I would recommend reaching out to others as you embark on your coding journey. This often includes being willing to mentor others as well, as the act of sharing your knowledge through educating others can be benefitial for all involved. Below are some resources for communities you may be interested in joining:\n",
    "\n",
    "- [Python Core Mentorship](https://www.python.org/dev/core-mentorship/) --  provide an open and welcoming place to connect students, programmers\n",
    "- [PythonistaCafe](https://www.pythonistacafe.com/) -- Peer-to-Peer Learning for Python Developers\n",
    "- [Python Morsels](https://www.pythonmorsels.com/) -- Write better Python code\n",
    "- [PyBites](https://codechalleng.es/) -- Learn Python From the Comfort of Your Own Browser\n",
    "- [Stack Overflow](https://stackoverflow.com/) -- Where Developers Learn, Share, & Build Careers\n",
    "- [Girls Who Code](https://www.womenwhocode.com/networks)\n",
    "- [She's Coding](https://shescoding.org/)\n",
    "- [Black Girls Code](https://www.blackgirlscode.com/)\n",
    "\n",
    "I would also encourage you to start to network with the other people in your courses and with your instructor!"
   ]
  },
  {
   "cell_type": "markdown",
   "metadata": {},
   "source": [
    "- - - \n",
    "<!--NAVIGATION-->\n",
    "Module 0. [Introduction To Python](./01_mod_intro_python.ipynb) | **[How To Run Python Code](./02_how_to_run_python_code.ipynb)**\n",
    "<br>\n",
    "[Top](#)"
   ]
  },
  {
   "cell_type": "markdown",
   "metadata": {},
   "source": [
    "- - -\n",
    "\n",
    "Copyright © 2020 Qualex Consulting Services Incorporated."
   ]
  }
 ],
 "metadata": {
  "anaconda-cloud": {},
  "kernelspec": {
   "display_name": "Python 3",
   "language": "python",
   "name": "python3"
  },
  "language_info": {
   "codemirror_mode": {
    "name": "ipython",
    "version": 3
   },
   "file_extension": ".py",
   "mimetype": "text/x-python",
   "name": "python",
   "nbconvert_exporter": "python",
   "pygments_lexer": "ipython3",
   "version": "3.8.3"
  }
 },
 "nbformat": 4,
 "nbformat_minor": 1
}
