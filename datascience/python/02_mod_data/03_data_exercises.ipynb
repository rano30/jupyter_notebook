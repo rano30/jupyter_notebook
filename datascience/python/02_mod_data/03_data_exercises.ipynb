{
 "cells": [
  {
   "cell_type": "markdown",
   "metadata": {},
   "source": [
    "Data Science Fundamentals: Python |\n",
    "[Table of Contents](../index.ipynb)\n",
    "- - - \n",
    "<!--NAVIGATION-->\n",
    "Module 2. Python Data | [Simple Types](./01_simple_types.ipynb) | [Data Structures](./02_data_structures.ipynb): [Lists](./02_data_structures_lists.ipynb), [Tuples](./02_data_structures_tuples_part_1), [Sets](./02_data_structures_sets.ipynb), [Dictionaries](./02_data_structures_dictionaries.ipynb) | **[Exercises](./03_data_exercises.ipynb)**"
   ]
  },
  {
   "cell_type": "markdown",
   "metadata": {},
   "source": [
    "# Data Structure Exercises"
   ]
  },
  {
   "cell_type": "markdown",
   "metadata": {},
   "source": [
    "### Exercise 1:\n",
    "\n",
    "In mathematics, the quadratic equation ax^2+bx+c=0 can be solved with the formula x=(−b±(√(b^2−4ac))/2a.\n",
    "\n",
    "Write a function solve_quadratic, that returns both solutions of a generic quadratic as a pair (2-tuple) when the coefficients are given as parameters. It should work like this:\n",
    "\n",
    "print(solve_quadratic(1,-3,2))\n",
    "\n",
    "(2.0,1.0)\n",
    "\n",
    "print(solve_quadratic(1,2,1))\n",
    "\n",
    "(-1.0,-1.0)\n",
    "\n",
    "You may want to use the math.sqrt function from the math module in your solution. Test that your function works in the main function!"
   ]
  },
  {
   "cell_type": "code",
   "execution_count": 4,
   "metadata": {
    "scrolled": true
   },
   "outputs": [
    {
     "name": "stdout",
     "output_type": "stream",
     "text": [
      "Place your A value: 1\n",
      "Place your B value: -3\n",
      "Place your C value: 2\n",
      "(2.0, 1.0)\n",
      "(2.0, 1.0)\n",
      "Place your A value: 1\n",
      "Place your B value: -3\n",
      "Place your C value: 2\n",
      "(2.0, 1.0)\n",
      "(2.0, 1.0)\n"
     ]
    }
   ],
   "source": [
    "#getting our imports for math.sqrt\n",
    "from math import sqrt\n",
    "import math\n",
    "\n",
    "#create solve_quadratic func\n",
    "def solve_quadratic(a, b, c):\n",
    "    \"Your Documentation String Here\"\n",
    "    #your code here\n",
    "    a = int(input(\"Place your A value: \")) #value for a\n",
    "    b = int(input(\"Place your B value: \")) #value for b\n",
    "    c = int(input(\"Place your C value: \")) #value for c\n",
    "    \n",
    "    d = (b**2) - (4*a*c) #calculating the discriminant (the part under the square root)\n",
    "    #sol1 and sol2 are there to solve for the −b± part of the quadratic equation\n",
    "    sol1 = (-b + (sqrt(d)))/(2*a)\n",
    "    sol2 = (-b - (sqrt(d)))/(2*a)\n",
    "    e  = sol1, sol2 #this returns our solutions in a tuple if we input the values given below for the two examples for a, b and c\n",
    "    print(e) \n",
    "    return e\n",
    "#test case 1 should return (2.0,1.0)\n",
    "print(solve_quadratic(1,-3,2))\n",
    "\n",
    "#test case 2 should return (-1.0/-1.0)\n",
    "print(solve_quadratic(1,2,1))\n",
    "\n",
    "\n",
    "#below I will trim the code of all the manual inputs to show it working with just the test print statements. "
   ]
  },
  {
   "cell_type": "code",
   "execution_count": 4,
   "metadata": {},
   "outputs": [
    {
     "name": "stdout",
     "output_type": "stream",
     "text": [
      "(2.0, 1.0)\n",
      "(-1.0, -1.0)\n"
     ]
    }
   ],
   "source": [
    "#this is to show the formula working without all the test parts I commented out of the code. \n",
    "from math import sqrt\n",
    "import math\n",
    "\n",
    "#create solve_quadratic func\n",
    "def solve_quadratic(a, b, c):\n",
    "    d = (b**2) - (4*a*c) #calculating the discriminant (the part under the square root)\n",
    "    #sol1 and sol2 are there to solve for the −b± part of the quadratic equation\n",
    "    sol1 = (-b + (sqrt(d)))/(2*a)\n",
    "    sol2 = (-b - (sqrt(d)))/(2*a)\n",
    "    e  = sol1, sol2 \n",
    "    return e\n",
    "#test case 1 should return (2.0,1.0)\n",
    "print(solve_quadratic(1,-3,2))\n",
    "\n",
    "#test case 2 should return (-1.0/-1.0)\n",
    "print(solve_quadratic(1,2,1))"
   ]
  },
  {
   "cell_type": "markdown",
   "metadata": {},
   "source": [
    "### Exercise 2:\n",
    "Get a space-separated list of integers from the user, create a tuple of those integers. Then compute and print the result of hash(tuple).  [Hint](https://docs.python.org/3/library/functions.html#hash). **Hash()**"
   ]
  },
  {
   "cell_type": "markdown",
   "metadata": {},
   "source": [
    "A **[hash](https://docs.python.org/3/library/functions.html#hash)** is an fixed sized integer that identifies a particular value. Each value needs to have its own hash, so for the same value you will get the same hash even if it's not the same object."
   ]
  },
  {
   "cell_type": "code",
   "execution_count": null,
   "metadata": {},
   "outputs": [],
   "source": [
    "#Get a space-separated list of integers from the user & create a tuple of those integers\n",
    "\n",
    "#Then compute and print the result of hash(tuple)\n"
   ]
  },
  {
   "cell_type": "code",
   "execution_count": 1,
   "metadata": {},
   "outputs": [
    {
     "name": "stdout",
     "output_type": "stream",
     "text": [
      "Choose an integer: 4\n",
      "Choose an integer: 5\n",
      "Choose an integer: 7\n",
      "Choose an integer: 8\n",
      "[4, 5, 7, 8]\n"
     ]
    },
    {
     "data": {
      "text/plain": [
       "8794590960461"
      ]
     },
     "execution_count": 1,
     "metadata": {},
     "output_type": "execute_result"
    }
   ],
   "source": [
    "L = []\n",
    "a = int(input(\"Choose an integer: \")) #integer value for a\n",
    "b = int(input(\"Choose an integer: \")) #integer value for b\n",
    "c = int(input(\"Choose an integer: \")) #integer value for c\n",
    "d = int(input(\"Choose an integer: \")) #integer value for d\n",
    "L.append(a) #puts integer a into the list\n",
    "L.append(b) #puts integer b into the list\n",
    "L.append(c) #puts integer c into the list\n",
    "L.append(d) #puts integer d into the list\n",
    "print(L)\n",
    "tuple(L) #makes a tuple of the list\n",
    "hash(tuple) #makes a hash of the tuple"
   ]
  },
  {
   "cell_type": "markdown",
   "metadata": {},
   "source": [
    "### Exercise 3:\n",
    "Take the following two lists. Create a third list by picking a odd-index elements from the first list and even-index elements from the second."
   ]
  },
  {
   "cell_type": "code",
   "execution_count": 2,
   "metadata": {},
   "outputs": [],
   "source": [
    "list1 = [3, 6, 9, 12, 15, 18, 21]\n",
    "list2 = [4, 8, 12, 16, 20, 24, 28]"
   ]
  },
  {
   "cell_type": "code",
   "execution_count": 10,
   "metadata": {},
   "outputs": [
    {
     "name": "stdout",
     "output_type": "stream",
     "text": [
      "[6, 12, 18]\n",
      "[4, 12, 20, 28]\n",
      "[6, 12, 18, 4, 12, 20, 28]\n"
     ]
    }
   ],
   "source": [
    "#your code here, remember to run the block above!\n",
    "print(list1[1::2]) #this is just to show the odd index elements in list 1\n",
    "print(list2[::2]) #this shows the even index elements in list 2\n",
    "list3 = list1[1::2] + list2[::2] #this is a new list combining the odd index from list1 and the even index elements from list2\n",
    "print(list3) #prints the combined lists. \n",
    "\n"
   ]
  },
  {
   "cell_type": "markdown",
   "metadata": {},
   "source": [
    "### Exercise 4:\n",
    "Take the following list. Slice it into three equal chunks and reverse each list."
   ]
  },
  {
   "cell_type": "code",
   "execution_count": 2,
   "metadata": {},
   "outputs": [],
   "source": [
    "sampleList = [11, 45, 8, 23, 14, 12, 78, 45, 89]"
   ]
  },
  {
   "cell_type": "code",
   "execution_count": 4,
   "metadata": {},
   "outputs": [
    {
     "name": "stdout",
     "output_type": "stream",
     "text": [
      "[11, 45, 8] [23, 14, 12] [78, 45, 89]\n",
      "[11, 45, 8] [23, 14, 12] [78, 45, 89]\n",
      "[8, 45, 11] [12, 14, 23] [89, 45, 78]\n"
     ]
    }
   ],
   "source": [
    "#your code here\n",
    "print(sampleList[0:3], sampleList[3:6], sampleList[6:9]) #printing sampleList sliced in 3 equal chunks\n",
    "chunk1 = sampleList[0:3] #made a list for the first slice\n",
    "chunk2 = sampleList[3:6] #made a list for second slice\n",
    "chunk3 = sampleList[6:9] #made a list for third slice\n",
    "print(chunk1, chunk2, chunk3) #printing all the chunks to make sure they display same as first print. \n",
    "chunk1.reverse() #reversing chunk1\n",
    "chunk2.reverse() #reversing chunk2\n",
    "chunk3.reverse() #reversing chunk3\n",
    "print(chunk1, chunk2, chunk3) #ending with a print of all the slices after having reversed them. "
   ]
  },
  {
   "cell_type": "markdown",
   "metadata": {},
   "source": [
    "### Exercise 5: \n",
    "Iterate through a given list (`rollNumber`) and check if a given element already exists in the given dictionary (`sampleDict`) as a key’s value. If not, delete it from the list."
   ]
  },
  {
   "cell_type": "code",
   "execution_count": 22,
   "metadata": {},
   "outputs": [],
   "source": [
    "rollNumber = [47, 64, 69, 37, 76, 83, 95, 97]\n",
    "sampleDict ={'Zach':47, 'Emma':69, 'Kelly':76, 'Jason':97}"
   ]
  },
  {
   "cell_type": "markdown",
   "metadata": {},
   "source": [
    "Please know this is a hard problem, and is advanced for a data structures  exercise. It is designed to be the challenge problem, because this exercise incorporates knowledge from material we have yet to go through. The key is to keep in mind the nature of dictionaries, and how our control flow/iteration is performed in these `for` loops. \n",
    "\n",
    "There are two ways to approach this problem, our approach is to delete elements from `rollNumber`, the alternate is to add the matches from `rollNumber` and `sampleDict`'s values to a new list. The second approach is easier, but you should do the first approach for this exercise. Here is one example of the first approach, but notice how 95 is included here, and ponder why."
   ]
  },
  {
   "cell_type": "code",
   "execution_count": 23,
   "metadata": {},
   "outputs": [
    {
     "name": "stdout",
     "output_type": "stream",
     "text": [
      "[47, 69, 76, 95, 97]\n"
     ]
    }
   ],
   "source": [
    "#Incorrect, will include #95\n",
    "#iterate through the elements in rollNumber\n",
    "for n in rollNumber:\n",
    "    #check if a given element already exists in sampleDict as the key, n's value pair.\n",
    "    if n not in sampleDict.values():\n",
    "        #if an element already exists in the given dict then we remove it\n",
    "        rollNumber.remove(n) \n",
    "    #if n is in sampleDict.values, continue\n",
    "    else:\n",
    "        continue\n",
    "\n",
    "print(rollNumber)"
   ]
  },
  {
   "cell_type": "code",
   "execution_count": 24,
   "metadata": {},
   "outputs": [
    {
     "name": "stdout",
     "output_type": "stream",
     "text": [
      "[47, 69, 76, 95, 97]\n"
     ]
    }
   ],
   "source": [
    "rollNumber = [47, 64, 69, 37, 76, 83, 95, 97]\n",
    "sampleDict ={'Zach':47, 'Emma':69, 'Kelly':76, 'Jason':97}\n",
    "\n",
    "#Incorrect, will include #95\n",
    "#iterate through the elements in rollNumber\n",
    "for n in rollNumber:\n",
    "    #check if a given element already exists in sampleDict as the key, n's value pair.\n",
    "    if n not in sampleDict.values():\n",
    "        #if an element already exists in the given dict then we remove it\n",
    "        rollNumber.remove(n) \n",
    "    #if n is in sampleDict.values, continue\n",
    "    else:\n",
    "        continue\n",
    "\n",
    "print(rollNumber)"
   ]
  },
  {
   "cell_type": "code",
   "execution_count": null,
   "metadata": {},
   "outputs": [],
   "source": [
    "#your code here, correct answer is [47, 69, 76, 97]\n"
   ]
  },
  {
   "cell_type": "markdown",
   "metadata": {},
   "source": [
    "## Extra Points\n",
    "- - -"
   ]
  },
  {
   "cell_type": "markdown",
   "metadata": {},
   "source": [
    "1. ***Optional Exercise (Extra Points)***.  Write a Python program to convert a tuple to a string."
   ]
  },
  {
   "cell_type": "code",
   "execution_count": null,
   "metadata": {},
   "outputs": [],
   "source": []
  },
  {
   "cell_type": "markdown",
   "metadata": {},
   "source": [
    "2. ***Optional Exercise (Extra Points)***.  Write a Python program to check whether an element exists within a tuple."
   ]
  },
  {
   "cell_type": "code",
   "execution_count": null,
   "metadata": {},
   "outputs": [],
   "source": []
  },
  {
   "cell_type": "markdown",
   "metadata": {},
   "source": [
    "3. ***Optional Exercise (Extra Points)***.  Write a Python program to print a tuple with string formatting."
   ]
  },
  {
   "cell_type": "code",
   "execution_count": null,
   "metadata": {},
   "outputs": [],
   "source": []
  },
  {
   "cell_type": "markdown",
   "metadata": {},
   "source": [
    "- - - \n",
    "<!--NAVIGATION-->\n",
    "Module 2. Python Data | [Simple Types](./01_simple_types.ipynb) | [Data Structures](./02_data_structures.ipynb) | **[Exercises](./03_data_exercises.ipynb)**\n",
    "<br>\n",
    "[Top](#)"
   ]
  },
  {
   "cell_type": "markdown",
   "metadata": {},
   "source": [
    "- - -\n",
    "\n",
    "Copyright © 2020 Qualex Consulting Services Incorporated."
   ]
  }
 ],
 "metadata": {
  "kernelspec": {
   "display_name": "Python 3",
   "language": "python",
   "name": "python3"
  },
  "language_info": {
   "codemirror_mode": {
    "name": "ipython",
    "version": 3
   },
   "file_extension": ".py",
   "mimetype": "text/x-python",
   "name": "python",
   "nbconvert_exporter": "python",
   "pygments_lexer": "ipython3",
   "version": "3.8.8"
  }
 },
 "nbformat": 4,
 "nbformat_minor": 4
}
