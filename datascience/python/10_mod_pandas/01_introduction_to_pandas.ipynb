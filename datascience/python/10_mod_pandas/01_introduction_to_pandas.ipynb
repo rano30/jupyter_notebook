{
 "cells": [
  {
   "cell_type": "markdown",
   "metadata": {},
   "source": [
    "Data Science Fundamentals: Python |\n",
    "[Table of Contents](../index.ipynb)\n",
    "- - - \n",
    "<!--NAVIGATION-->\n",
    "Module 10. | **[Introduction to Pandas](./01_introduction_to_pandas.ipynb)** | [Introducing Panda Objects](./02_introducing-pandas-objects.ipynb) | [Data Manipulation with Pandas](./03_data_manipulation_pandas.ipynb) | [Getting Started with Pandas](./04_getting_started_pandas.ipynb) | [ZachHallPandasProject](./05_ZachHallRepo.ipynb)"
   ]
  },
  {
   "cell_type": "markdown",
   "metadata": {},
   "source": [
    "# What is pandas?\n",
    "Now we begin to see one of the reasons why Python is so popular: **libraries**. Libraries are self-contained packages of coded capabilities that can be imported into Python to extend its functionality. One of the most fundamental libraries for working with data is called _pandas_.\n",
    "\n",
    ">\"pandas is a Python package providing fast, flexible, and expressive data structures designed to make working with “relational” or “labeled” data both easy and intuitive. It aims to be the fundamental high-level building block for doing practical, real world data analysis in Python.\"  http://pandas.pydata.org/pandas-docs/stable/\n",
    "    \n",
    "The main way pandas does this is through the implementation of two data structures: Series and DataFrame. We will learn more about them soon but for now let's load some data and see some of the things we can do.\n",
    "\n",
    "## Why use a library?\n",
    "Have you ever seen a data file where the first row contains column headers? Of course you have! That is way more common than just having rows of data. By using the correct _parser_ in pandas, we can automatically read the headers. Of course, we can program that ourselves in base Python, but why would we want to? Someone else already did a good job of doing it so let's use their code.\n",
    "\n",
    "That same idea applies to many other computing tasks, too. If the functionality is already available in a library we can put it to work instead of having to write the code ourslves."
   ]
  },
  {
   "cell_type": "markdown",
   "metadata": {},
   "source": [
    "# Data Manipulation with Pandas"
   ]
  },
  {
   "cell_type": "markdown",
   "metadata": {},
   "source": [
    "In the previous chapter, we dove into detail on NumPy and its ``ndarray`` object, which provides efficient storage and manipulation of dense typed arrays in Python.\n",
    "Here we'll build on this knowledge by looking in detail at the data structures provided by the Pandas library.\n",
    "Pandas is a newer package built on top of NumPy, and provides an efficient implementation of a ``DataFrame``.\n",
    "``DataFrames`` are essentially multidimensional arrays with attached row and column labels, and often with heterogeneous types and/or missing data.\n",
    "As well as offering a convenient storage interface for labeled data, Pandas implements a number of powerful data operations familiar to users of both database frameworks and spreadsheet programs.\n",
    "\n",
    "As we saw, NumPy's ``ndarray`` data structure provides essential features for the type of clean, well-organized data typically seen in numerical computing tasks.\n",
    "While it serves this purpose very well, its limitations become clear when we need more flexibility (e.g., attaching labels to data, working with missing data, etc.) and when attempting operations that do not map well to element-wise broadcasting (e.g., groupings, pivots, etc.), each of which is an important piece of analyzing the less structured data available in many forms in the world around us.\n",
    "Pandas, and in particular its ``Series`` and ``DataFrame`` objects, builds on the NumPy array structure and provides efficient access to these sorts of \"data munging\" tasks that occupy much of a data scientist's time.\n",
    "\n",
    "In this chapter, we will focus on the mechanics of using ``Series``, ``DataFrame``, and related structures effectively.\n",
    "We will use examples drawn from real datasets where appropriate, but these examples are not necessarily the focus."
   ]
  },
  {
   "cell_type": "markdown",
   "metadata": {},
   "source": [
    "# Minimally sufficient pandas\n",
    "There is an approach called \"minimally sufficient pandas\" that I try to follow. I will let the original author explain why.\n",
    "\n",
    ">The whole point of a data analysis library should be to provide you with the tools so that you can focus on the data analysis. While Pandas does provide you with the right tools, it doesn’t do so in a way that allows you to focus on the analysis. Instead, users are forced to tread through the complex and overabundant syntax.\n",
    ">\n",
    ">I endorse the following as my definition for Minimally Sufficient Pandas.\n",
    ">\n",
    ">\t- It is a small subset of the library that is sufficient to accomplish nearly everything that it has to offer.\n",
    ">\t- It allows you to focus on doing data analysis and not the syntax\n",
    ">\n",
    ">With this minimally sufficient subset of Pandas:\n",
    ">\n",
    ">   - Your code will be simple, explicit, straightforward, and boring\n",
    ">   - You will choose one obvious way to accomplish a task\n",
    ">   - You will use this obvious way every single time\n",
    ">   - You won’t have to retain as many commands in working memory\n",
    ">   - Your code will be easier to understand by others and by you\n",
    "\n",
    "Source: https://medium.com/dunder-data/minimally-sufficient-pandas-a8e67f2a2428"
   ]
  },
  {
   "cell_type": "markdown",
   "metadata": {},
   "source": [
    "## Installing and Using Pandas\n",
    "\n",
    "Installation of Pandas on your system requires NumPy to be installed, and if building the library from source, requires the appropriate tools to compile the C and Cython sources on which Pandas is built.\n",
    "Details on this installation can be found in the [Pandas documentation](http://pandas.pydata.org/).\n",
    "If you followed the advice outlined in the Preface and used the Anaconda stack, you already have Pandas installed.\n",
    "\n",
    "Once Pandas is installed, you can import it and check the version:"
   ]
  },
  {
   "cell_type": "markdown",
   "metadata": {},
   "source": [
    "Just as we generally import NumPy under the alias ``np``, we will import Pandas under the alias ``pd``. This import convention will be used throughout the remainder of this repo:"
   ]
  },
  {
   "cell_type": "code",
   "execution_count": 1,
   "metadata": {},
   "outputs": [
    {
     "data": {
      "text/plain": [
       "'1.2.4'"
      ]
     },
     "execution_count": 1,
     "metadata": {},
     "output_type": "execute_result"
    }
   ],
   "source": [
    "#convention for pandas import aliased as 'pd'\n",
    "import pandas as pd\n",
    "\n",
    "#pandas version check\n",
    "pd.__version__"
   ]
  },
  {
   "cell_type": "markdown",
   "metadata": {},
   "source": [
    "### Package & Library Management Continued\n",
    "\n",
    "There are a many ways that you can check your version information for the packages you have installed in your environment, whether that is the language and library information you have installed on your whole machine, or just particular virtual machines or environments. Here we will discuss some specific ways to check package version information via `Anaconda Prompt` and `pip` or `conda` commands, or via your `Anaconda Navigator` gui.\n",
    "\n",
    "#### `Anaconda Navigator`\n",
    "When you installed your base `Anaconda` download, `Anaconda Navigator` was installed as a program/application on your computer. If you wish to update your package information from inside of `Anaconda Navigator`, then you can follow [these instructions](https://docs.anaconda.com/anaconda/navigator/tutorials/manage-packages/) in order to manage your libraries as you see fit from within the friendly gui of Anaconda Navigator. "
   ]
  },
  {
   "cell_type": "markdown",
   "metadata": {},
   "source": [
    "#### `Anaconda Prompt` and `pip` and `conda`\n",
    "If you have `pip` installed properly on your computer, which should have been included in your base `Anaconda` download, then you should be able to use pip to check the current packages you have downloaded. Inside `Anaconda Prompt`, navigate (if necessary) using change directory syntax to the drive or environment where you have your main python language installation, or your `Anaconda` installation. For most of us, this will be your `C:` drive. Type the following:"
   ]
  },
  {
   "cell_type": "raw",
   "metadata": {},
   "source": [
    "pip list"
   ]
  },
  {
   "cell_type": "markdown",
   "metadata": {},
   "source": [
    "This should result in a number of packages and versions being listed out. Check to make sure you see `numpy`, `regex`, `matplotlib`, `pandas`, `scikitlearn`, `seaborn`, and any other packages you might need. I like to leave packages that I have installed as they often don't take up too much storage space. It is recommended that you take the time to check if the versions are already up to date, as updates happen typically yearly or more often on a package-by-package basis. You can however use the following commands to update your packages that are currently installed, or install packages as needed.\n",
    "\n",
    "To install `pandas` in specific:"
   ]
  },
  {
   "cell_type": "raw",
   "metadata": {},
   "source": [
    "pip install pandas"
   ]
  },
  {
   "cell_type": "markdown",
   "metadata": {},
   "source": [
    "If you already have `pandas` installed, this may offer you a `y/n` choice to update `pandas` or it will go ahead and install `pandas`. This `pip` syntax can be repurposed to bulk-install packages, or to install packages one at a time. It is recommended that you always look up package installation syntax, as syntax always matters.\n",
    "\n",
    "If you know you have packages installed, you can upgrade/update them using `pip`:"
   ]
  },
  {
   "cell_type": "raw",
   "metadata": {},
   "source": [
    "pip install --upgrade pandas"
   ]
  },
  {
   "cell_type": "markdown",
   "metadata": {},
   "source": [
    "Or you can update packages using `conda` syntax. Either option will suffice:"
   ]
  },
  {
   "cell_type": "raw",
   "metadata": {},
   "source": [
    "conda update pandas"
   ]
  },
  {
   "cell_type": "markdown",
   "metadata": {},
   "source": [
    "You will need to restart your kernel/instance of jupyter notebooks from within Anaconda Prompt or Navigator after doing these updates."
   ]
  },
  {
   "cell_type": "markdown",
   "metadata": {},
   "source": [
    "#### <div class=\"alert alert-info\">You can carefully and cautiously update and extend the libraries you have installed this way for your base python language. If you are at the point where you have learned this amount of the python language, then I hope you feel very proud of yourself as this is a tremendous achievement and the process of learning this material deserves CONGRATULATIONS. Take a second to congratulate yourself. You have learned skills necessary to navigate the code, and now it is time to experience the vast array of incredible packages and libraries made by others who have come before you in this community in order to extend the functionality of the base python language. In this module we will focus on learning `pandas` in particular in a more self guided fashion, however the advice that follows is a helpful tip for navigating some of these new packages and learning about their contents.</div>"
   ]
  },
  {
   "cell_type": "markdown",
   "metadata": {},
   "source": [
    "## Reminder about Built-In Documentation\n",
    "\n",
    "As you read through this chapter, don't forget that IPython gives you the ability to quickly explore the contents of a package (by using the tab-completion feature) as well as the documentation of various functions (using the ``?`` character). (Refer back to [Help and Documentation in IPython](01.01-Help-And-Documentation.ipynb) if you need a refresher on this.)\n",
    "\n",
    "For example, to display all the contents of the pandas namespace, you can type\n",
    "\n",
    "```ipython\n",
    "In [3]: pd.<TAB>\n",
    "```\n",
    "\n",
    "And to display Pandas's built-in documentation, you can use this:\n",
    "\n",
    "```ipython\n",
    "In [4]: pd?\n",
    "```\n",
    "\n",
    "More detailed documentation, along with tutorials and other resources, can be found at http://pandas.pydata.org/."
   ]
  },
  {
   "cell_type": "markdown",
   "metadata": {},
   "source": [
    "#convert this cell to a Code Cell,\n",
    "#and try the tab completion here\n",
    "pd."
   ]
  },
  {
   "cell_type": "markdown",
   "metadata": {},
   "source": [
    "#try this code\n",
    "pd?"
   ]
  },
  {
   "cell_type": "markdown",
   "metadata": {},
   "source": [
    "- - - \n",
    "<!--NAVIGATION-->\n",
    "Module 10. | **[Introduction to Pandas](./01_introduction_to_pandas.ipynb)** | [Introducing Panda Objects](./02_introducing-pandas-objects.ipynb) | [Data Manipulation with Pandas](./03_data_manipulation_pandas.ipynb) | [Getting Started with Pandas](./04_getting_started_pandas.ipynb) | [ZachHallRepo](./05_ZachHallRepo.ipynb) | [Exercises](./06_pandas_exercises.ipynb)\n",
    "<br>"
   ]
  }
 ],
 "metadata": {
  "anaconda-cloud": {},
  "kernelspec": {
   "display_name": "Python 3",
   "language": "python",
   "name": "python3"
  },
  "language_info": {
   "codemirror_mode": {
    "name": "ipython",
    "version": 3
   },
   "file_extension": ".py",
   "mimetype": "text/x-python",
   "name": "python",
   "nbconvert_exporter": "python",
   "pygments_lexer": "ipython3",
   "version": "3.8.8"
  }
 },
 "nbformat": 4,
 "nbformat_minor": 1
}
